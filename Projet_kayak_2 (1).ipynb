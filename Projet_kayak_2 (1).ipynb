{
  "cells": [
    {
      "cell_type": "markdown",
      "metadata": {
        "id": "MlSCi1Uo9eo0"
      },
      "source": [
        "# Quelle est la meilleure destination pour prendre l’avion de Paris ?\n",
        "\n",
        "*Bonneau-Chloup Hélène & Brahmi Laura*"
      ]
    },
    {
      "cell_type": "markdown",
      "metadata": {
        "id": "Eh73k5Yv9d2q"
      },
      "source": [
        "Nous souhaitons étudier les prix des billets d’avions au départ de Paris à destination des plus grandes villes du monde (Londres, New-York, Tokyo …). Pour cela, nous allons utiliser les prix des vols disponibles sur le site de Kayak (webscraping), distinguer les compagnies low-cost des compagnies traditionnelles, horaire de départ, escales… Mais aussi la date de départ qui sera le paramètre de notre programme final qui donnerait en sortie : \n",
        "- la destination la moins chère de façon absolue\n",
        "- la destination la moins chère par kilomètre parcouru \n",
        "\n",
        "Pour les compagnies “low cost” et les compagnies “traditionnelles” en prenant des allers simples au départ d’un des trois aéroports de Paris selon Kayak : Paris Orly et Paris Charles de Gaulle.\n",
        "\n",
        "Nous chercherons ainsi à savoir si le prix des billets d’avion dépend de la distance parcourue entre la ville de départ et la ville d’arrivée. Nous représenterons une partie de nos résultats à travers une carte du monde qui illustrera les prix les moins chers au départ de Paris à une date donnée.\n",
        "\n",
        "Afin de voir les différents déterminants du prix d’un billet d’avion, nous réaliserons également des régressions linéaires du prix en fonction de la distance, des horaires, des escales, des bagages, du type de la compagnie : low-cost ou traditionnelle, des émissions de CO2… (informations disponibles sur le site de Kayak)\n"
      ]
    },
    {
      "cell_type": "markdown",
      "metadata": {
        "id": "BXSLXtfIB5g8"
      },
      "source": [
        "## Table des matières\n",
        "1. [Création de notre base de données](#paragraphe1)\n",
        "    1. [Scraper Kayak](#subparagraphe11)\n",
        "      1. [Scraping avec BeautifulSoup](#subsubparagraphe111)\n",
        "      2. [Scraping avec Sélénium](#subsubparagraphe112)\n",
        "      3. [Utiliser un API](#subsubparagraphe113)\n",
        "    2. [Récupération des autres jeux de données :](#subparagraphe12)\n",
        "      1. [Distance 1ère méthode : scrapping avec Selenium](#subsubparagraphe121)\n",
        "      2. [Distance 2ème méthode : calcul avec les coordonnées géographiques](#subsubparagraphe122)\n",
        "2. [Statistiques descriptives](#paragraphe2)\n",
        "  1. [Prix des vols en fonction de la destination (à date donnée : du 01/02 au 01/03)](#subparagraphe21)\n",
        "  2. [Prix des vols en fonction de la date (à destination donnée : Londres)](#subparagraphe22)\n",
        "3. [Modélisation](#paragraphe3)\n",
        "  1. [Corrélation entre prix et distance : régressions linéaires](#subparagraphe31)\n",
        "  2. [Kmeans et cluster] (#subparagraphe32)\n",
        "  3. [ACP](#subparagraphe33)\n",
        "3. [Visualisation](#paragraphe4)\n",
        "4. [Conclusion](#paragraphe5)\n",
        "\n"
      ]
    },
    {
      "cell_type": "markdown",
      "metadata": {
        "id": "g1RkJh6b-Fpr"
      },
      "source": [
        "## Création de notre base de données <a name = \"paragraphe1\"></a>"
      ]
    },
    {
      "cell_type": "markdown",
      "metadata": {
        "id": "RI9Z8Ozq_vgj"
      },
      "source": [
        "Pour notre projet nous avons besoin de différents jeux de données : \n",
        "- une liste des aéroports les plus importants du monde\n",
        "- la distance entre Paris et ces aéroports\n",
        "- une liste des compagnies aériennes \"low cost\" et \"traditionnelles\"\n",
        "- une liste de dates intéressantes (fêtes, jours fériés, vacances...) pour prendre en compte ces périodes lors de notre analyse des prix des vols\n",
        "- des données provenant de Kayak : pour chaque vol, obtenir son pix, sa companie aérienne, l'horaire du vol, le nombre de bagages autorisés, le nombre d'escales, les émissions de $CO_2$ de ce vol...\n"
      ]
    },
    {
      "cell_type": "markdown",
      "metadata": {
        "id": "xbs8ck73C9nt"
      },
      "source": [
        "### Scraper Kayak <a name = \"subparagraphe11\"></a>\n",
        "\n"
      ]
    },
    {
      "cell_type": "markdown",
      "metadata": {
        "id": "hX8zH9KfJ3Vu"
      },
      "source": [
        "On veut récupérer les données de cette page :"
      ]
    },
    {
      "cell_type": "code",
      "execution_count": null,
      "metadata": {
        "id": "Uix4iD0tKA7P"
      },
      "outputs": [],
      "source": [
        "url = 'https://www.kayak.fr/flights/PAR-MAD/2022-02-01?sort=price_a'"
      ]
    },
    {
      "cell_type": "markdown",
      "metadata": {
        "id": "f9irHl9eKDk1"
      },
      "source": [
        "Cette page présente les vols à départ de Paris et à destination de Madrid le $1^{er}$ février 2022 pour un aller simple pour une personne adulte. C'est ce genre de vols qu'on retient à priori :    \n",
        "- un aller-simple\n",
        "- pour une personne adulte \n",
        "- à départ de Paris \n",
        "- à destination variable (mais pour commencer le scraping, on fixe la destination à Madrid)\n",
        "- à date variable (mais pour commencer le sraping, on fixe la date au $1^{er}$ février)"
      ]
    },
    {
      "cell_type": "markdown",
      "metadata": {
        "id": "vjXt_eowDjLJ"
      },
      "source": [
        "Nous avons rencontré des problèmes lorsque nous avons voulu récupérer des données de Kayak, avec BeautifulSoup, puis avec Sélénium. Nous n'avons pas réussi à trouver une classe qui nous intéresse (*'section duration allow-multi-modal-icons'*), quelque soit la technique de scraping utilisée. Cette classe est utilisée comme exemple pour montrer que nous n'avons pas réussi à avoir accès aux données de Kayak de cette façon là. Elle renvoie aux durées des vols."
      ]
    },
    {
      "cell_type": "markdown",
      "metadata": {
        "id": "eexy4ErcwEJW"
      },
      "source": [
        "Si on ouvre la page et qu'on regarde le code source, on trouve que *'section duration allow-multi-modal-icons'* est un nom de classe qui mène directement aux temps de trajet. Le problème est que nous n'arrivons pas à retrouver cette classe avec BeautifulSoup ou Sélénium."
      ]
    },
    {
      "cell_type": "markdown",
      "metadata": {
        "id": "1Yc-WgxIsZkr"
      },
      "source": [
        "Kayak fait même en sorte d'être difficile à scrapper : le Xpath du prix d'un billet varie par exemple à chaque connexion sur le site, pour éviter de webscrapper."
      ]
    },
    {
      "cell_type": "markdown",
      "metadata": {
        "id": "S9GV6BmgESY8"
      },
      "source": [
        "#### Scraping avec BeautifulSoup <a name = \"subsubparagraphe111\"></a>"
      ]
    },
    {
      "cell_type": "code",
      "execution_count": null,
      "metadata": {
        "id": "bR57AXy3uxpf"
      },
      "outputs": [],
      "source": [
        "!pip install lxml"
      ]
    },
    {
      "cell_type": "code",
      "execution_count": null,
      "metadata": {
        "id": "PKowfabDu2FX"
      },
      "outputs": [],
      "source": [
        "import urllib\n",
        "import bs4\n",
        "from urllib import request"
      ]
    },
    {
      "cell_type": "code",
      "execution_count": null,
      "metadata": {
        "id": "y7tM56Cnu4x4"
      },
      "outputs": [],
      "source": [
        "req = urllib.request.Request(url,headers={'User-Agent':'Mozilla/5.0'})\n",
        "html = urllib.request.urlopen(req).read()\n",
        "page = bs4.BeautifulSoup(html, \"lxml\")"
      ]
    },
    {
      "cell_type": "code",
      "execution_count": null,
      "metadata": {
        "colab": {
          "base_uri": "https://localhost:8080/"
        },
        "id": "AN1gEZ1su8G6",
        "outputId": "067912db-701c-4316-b233-5955ede9b8a3"
      },
      "outputs": [
        {
          "data": {
            "text/plain": [
              "[]"
            ]
          },
          "execution_count": 796,
          "metadata": {},
          "output_type": "execute_result"
        }
      ],
      "source": [
        "page.findAll('div',{'class':\"section duration allow-multi-modal-icons\"})\n"
      ]
    },
    {
      "cell_type": "code",
      "execution_count": null,
      "metadata": {
        "colab": {
          "base_uri": "https://localhost:8080/"
        },
        "id": "iGL6tN-Pu95B",
        "outputId": "c98424be-038a-40f1-fb90-d54d786f5751"
      },
      "outputs": [
        {
          "name": "stdout",
          "output_type": "stream",
          "text": [
            "[]\n"
          ]
        }
      ],
      "source": [
        "elem = page.select(\".section duration allow-multi-modal-icons\")\n",
        "print(elem)"
      ]
    },
    {
      "cell_type": "markdown",
      "metadata": {
        "id": "oEZvvvygFj0K"
      },
      "source": [
        "Les listes renvoyées sont toujours vides, alors que ce nom de classe existe bien. En allant voir le code source de la page et en recherchant *'section duration allow-multi-modal-icons'*, on trouve plusieurs occurences de cette classe."
      ]
    },
    {
      "cell_type": "markdown",
      "metadata": {
        "id": "9AXaM7eMD3Ox"
      },
      "source": [
        "#### Scraping avec Sélénium <a name = \"subsubparagraphe112\"></a>"
      ]
    },
    {
      "cell_type": "code",
      "execution_count": null,
      "metadata": {
        "id": "8gJTeMDtLXIW",
        "outputId": "aacc9392-b58d-411c-eb9c-ba40d1d029ab"
      },
      "outputs": [
        {
          "name": "stdout",
          "output_type": "stream",
          "text": [
            "Requirement already satisfied: selenium in c:\\users\\laura\\anaconda3\\lib\\site-packages (4.1.0)\n",
            "Requirement already satisfied: trio-websocket~=0.9 in c:\\users\\laura\\anaconda3\\lib\\site-packages (from selenium) (0.9.2)\n",
            "Requirement already satisfied: urllib3[secure]~=1.26 in c:\\users\\laura\\anaconda3\\lib\\site-packages (from selenium) (1.26.7)\n",
            "Requirement already satisfied: trio~=0.17 in c:\\users\\laura\\anaconda3\\lib\\site-packages (from selenium) (0.19.0)\n",
            "Requirement already satisfied: wsproto>=0.14 in c:\\users\\laura\\anaconda3\\lib\\site-packages (from trio-websocket~=0.9->selenium) (1.0.0)\n",
            "Requirement already satisfied: async-generator>=1.10 in c:\\users\\laura\\anaconda3\\lib\\site-packages (from trio-websocket~=0.9->selenium) (1.10)\n",
            "Requirement already satisfied: certifi; extra == \"secure\" in c:\\users\\laura\\anaconda3\\lib\\site-packages (from urllib3[secure]~=1.26->selenium) (2020.6.20)\n",
            "Requirement already satisfied: pyOpenSSL>=0.14; extra == \"secure\" in c:\\users\\laura\\anaconda3\\lib\\site-packages (from urllib3[secure]~=1.26->selenium) (19.1.0)\n",
            "Requirement already satisfied: cryptography>=1.3.4; extra == \"secure\" in c:\\users\\laura\\anaconda3\\lib\\site-packages (from urllib3[secure]~=1.26->selenium) (3.1.1)\n",
            "Requirement already satisfied: idna>=2.0.0; extra == \"secure\" in c:\\users\\laura\\anaconda3\\lib\\site-packages (from urllib3[secure]~=1.26->selenium) (2.10)\n",
            "Requirement already satisfied: sortedcontainers in c:\\users\\laura\\anaconda3\\lib\\site-packages (from trio~=0.17->selenium) (2.2.2)\n",
            "Requirement already satisfied: cffi>=1.14; os_name == \"nt\" and implementation_name != \"pypy\" in c:\\users\\laura\\anaconda3\\lib\\site-packages (from trio~=0.17->selenium) (1.14.3)\n",
            "Requirement already satisfied: outcome in c:\\users\\laura\\anaconda3\\lib\\site-packages (from trio~=0.17->selenium) (1.1.0)\n",
            "Requirement already satisfied: sniffio in c:\\users\\laura\\anaconda3\\lib\\site-packages (from trio~=0.17->selenium) (1.2.0)\n",
            "Requirement already satisfied: attrs>=19.2.0 in c:\\users\\laura\\anaconda3\\lib\\site-packages (from trio~=0.17->selenium) (20.3.0)\n",
            "Requirement already satisfied: h11<1,>=0.9.0 in c:\\users\\laura\\anaconda3\\lib\\site-packages (from wsproto>=0.14->trio-websocket~=0.9->selenium) (0.12.0)\n",
            "Requirement already satisfied: six>=1.5.2 in c:\\users\\laura\\anaconda3\\lib\\site-packages (from pyOpenSSL>=0.14; extra == \"secure\"->urllib3[secure]~=1.26->selenium) (1.15.0)\n",
            "Requirement already satisfied: pycparser in c:\\users\\laura\\anaconda3\\lib\\site-packages (from cffi>=1.14; os_name == \"nt\" and implementation_name != \"pypy\"->trio~=0.17->selenium) (2.20)\n"
          ]
        }
      ],
      "source": [
        "!pip install selenium"
      ]
    },
    {
      "cell_type": "code",
      "execution_count": null,
      "metadata": {
        "id": "vdvbntDbLgSc",
        "outputId": "37e75a75-16e5-4144-b8d9-c8a20cf128d3"
      },
      "outputs": [
        {
          "name": "stderr",
          "output_type": "stream",
          "text": [
            "ERROR: After October 2020 you may experience errors when installing or updating packages. This is because pip will change the way that it resolves dependency conflicts."
          ]
        },
        {
          "name": "stdout",
          "output_type": "stream",
          "text": [
            "Collecting webdriver-manager\n",
            "  Downloading webdriver_manager-3.5.2-py2.py3-none-any.whl (17 kB)\n",
            "Collecting configparser\n",
            "  Downloading configparser-5.2.0-py3-none-any.whl (19 kB)\n",
            "Requirement already satisfied: requests in c:\\users\\laura\\anaconda3\\lib\\site-packages (from webdriver-manager) (2.24.0)\n",
            "Collecting crayons\n",
            "  Downloading crayons-0.4.0-py2.py3-none-any.whl (4.6 kB)\n",
            "Requirement already satisfied: chardet<4,>=3.0.2 in c:\\users\\laura\\anaconda3\\lib\\site-packages (from requests->webdriver-manager) (3.0.4)\n",
            "Requirement already satisfied: certifi>=2017.4.17 in c:\\users\\laura\\anaconda3\\lib\\site-packages (from requests->webdriver-manager) (2020.6.20)\n",
            "Requirement already satisfied: idna<3,>=2.5 in c:\\users\\laura\\anaconda3\\lib\\site-packages (from requests->webdriver-manager) (2.10)\n",
            "Collecting urllib3!=1.25.0,!=1.25.1,<1.26,>=1.21.1\n",
            "  Downloading urllib3-1.25.11-py2.py3-none-any.whl (127 kB)\n",
            "Requirement already satisfied: colorama in c:\\users\\laura\\anaconda3\\lib\\site-packages (from crayons->webdriver-manager) (0.4.4)\n",
            "Installing collected packages: configparser, crayons, webdriver-manager, urllib3\n",
            "  Attempting uninstall: urllib3\n",
            "    Found existing installation: urllib3 1.26.7\n",
            "    Uninstalling urllib3-1.26.7:\n",
            "      Successfully uninstalled urllib3-1.26.7\n",
            "Successfully installed configparser-5.2.0 crayons-0.4.0 urllib3-1.25.11 webdriver-manager-3.5.2\n"
          ]
        },
        {
          "name": "stderr",
          "output_type": "stream",
          "text": [
            "\n",
            "\n",
            "We recommend you use --use-feature=2020-resolver to test your packages with the new resolver before it becomes the default.\n",
            "\n",
            "selenium 4.1.0 requires urllib3[secure]~=1.26, but you'll have urllib3 1.25.11 which is incompatible.\n"
          ]
        }
      ],
      "source": [
        "!pip install webdriver-manager"
      ]
    },
    {
      "cell_type": "code",
      "execution_count": null,
      "metadata": {
        "id": "0v6ZLL1vLp0b"
      },
      "outputs": [],
      "source": [
        "import selenium\n",
        "from selenium import webdriver\n",
        "#from webdriver_manager.chrome import ChromeDriverManager  \n",
        "from time import sleep\n",
        "from selenium import webdriver\n",
        "from selenium.webdriver.common.keys import Keys\n",
        "from selenium.webdriver.chrome import options\n",
        "from selenium.webdriver.chrome.options import Options\n",
        "from selenium.webdriver import ChromeOptions\n",
        "from selenium.common.exceptions import NoSuchElementException"
      ]
    },
    {
      "cell_type": "markdown",
      "metadata": {
        "id": "7EYp7ayNL5TA"
      },
      "source": [
        "Les commandes suivantes ne fonctionnent pas sur Google Colab, mais uniquement en local, d'où la mise en commentaire."
      ]
    },
    {
      "cell_type": "code",
      "execution_count": null,
      "metadata": {
        "id": "dAP9WSDBsZk1"
      },
      "outputs": [],
      "source": [
        "#driver = webdriver.Chrome(ChromeDriverManager().install())"
      ]
    },
    {
      "cell_type": "code",
      "execution_count": null,
      "metadata": {
        "id": "i0tIaS_wL0Mn"
      },
      "outputs": [],
      "source": [
        "#driver.get(url)"
      ]
    },
    {
      "cell_type": "code",
      "execution_count": null,
      "metadata": {
        "id": "1g8tANc0M4qz"
      },
      "outputs": [],
      "source": [
        "#driver.find_elements_by_xpath('//*[@class=\"section duration allow-multi-modal-icons\"]')"
      ]
    },
    {
      "cell_type": "markdown",
      "metadata": {
        "id": "mscTyAeKMu9n"
      },
      "source": [
        "La commande ci-dessus renvoie en local cette liste, que nous n'avons pas réussi à exploiter :\n",
        "```\n",
        "[<selenium.webdriver.remote.webelement.WebElement (session=\"6381230d4c035b7944eb778cfaf0cade\", element=\"2c68fde4-ad59-4559-9b22-a08f7e6ade1e\")>,\n",
        " <selenium.webdriver.remote.webelement.WebElement (session=\"6381230d4c035b7944eb778cfaf0cade\", element=\"525b1216-b4b8-4584-8e49-ff45cf58911f\")>,\n",
        " <selenium.webdriver.remote.webelement.WebElement (session=\"6381230d4c035b7944eb778cfaf0cade\", element=\"476e6118-d09a-410c-b0d2-a77ae80500a0\")>,\n",
        " <selenium.webdriver.remote.webelement.WebElement (session=\"6381230d4c035b7944eb778cfaf0cade\", element=\"569687cd-39d8-4b13-9ce2-57b771a696e7\")>,\n",
        " <selenium.webdriver.remote.webelement.WebElement (session=\"6381230d4c035b7944eb778cfaf0cade\", element=\"388dae26-dfbe-4d97-aeff-79daf12231bb\")>,\n",
        " <selenium.webdriver.remote.webelement.WebElement (session=\"6381230d4c035b7944eb778cfaf0cade\", element=\"c146388e-4593-42a9-8d48-f4467767d74e\")>,\n",
        " <selenium.webdriver.remote.webelement.WebElement (session=\"6381230d4c035b7944eb778cfaf0cade\", element=\"51a25ea2-bce5-4681-8b33-4d29a43e1d4c\")>,\n",
        " <selenium.webdriver.remote.webelement.WebElement (session=\"6381230d4c035b7944eb778cfaf0cade\", element=\"1dbe58c2-6a9c-4374-89c0-2011936401e1\")>,\n",
        " <selenium.webdriver.remote.webelement.WebElement (session=\"6381230d4c035b7944eb778cfaf0cade\", element=\"328e7dcc-272b-47b4-b0de-bcfa01ce4b0d\")>,\n",
        " <selenium.webdriver.remote.webelement.WebElement (session=\"6381230d4c035b7944eb778cfaf0cade\", element=\"1a81c680-0d13-4707-82b4-e6638c28e912\")>,\n",
        " <selenium.webdriver.remote.webelement.WebElement (session=\"6381230d4c035b7944eb778cfaf0cade\", element=\"6f0d9f2e-19c1-4d2e-a5a4-061a72cdcfba\")>,\n",
        " <selenium.webdriver.remote.webelement.WebElement (session=\"6381230d4c035b7944eb778cfaf0cade\", element=\"2910048d-6f7b-41d3-a060-1e36c3a3798b\")>,\n",
        " <selenium.webdriver.remote.webelement.WebElement (session=\"6381230d4c035b7944eb778cfaf0cade\", element=\"828030ac-e40d-44f8-b572-ae9173930073\")>,\n",
        " <selenium.webdriver.remote.webelement.WebElement (session=\"6381230d4c035b7944eb778cfaf0cade\", element=\"6fe3182c-61b2-4dc7-a8cb-73a6adcf3b03\")>,\n",
        " <selenium.webdriver.remote.webelement.WebElement (session=\"6381230d4c035b7944eb778cfaf0cade\", element=\"db160b2f-aa64-4571-8c66-65e601518262\")>]\n",
        "```"
      ]
    },
    {
      "cell_type": "markdown",
      "source": [
        "Nous avons tenté de scrapper le site de kayak, les commandes suivantes sont mises en commentaire car elles sont exécutées en local via l'utilisation d'un webdriver."
      ],
      "metadata": {
        "id": "w3_QLRfzhHF3"
      }
    },
    {
      "cell_type": "code",
      "execution_count": null,
      "metadata": {
        "id": "bGVqEXpHsZk3"
      },
      "outputs": [],
      "source": [
        "#driver = webdriver.Chrome(executable_path=\"D:/ENSAE/2A 2020 2021/S1/Python data science/chromedriver.exe\")\n",
        "#driver.get(url) #ouverture de la page kayak mais il y a une fenêtre de cookies qui s'ouvre, il faut accepter ou refuser "
      ]
    },
    {
      "cell_type": "markdown",
      "metadata": {
        "id": "CGOGjJRysZk4"
      },
      "source": [
        "Quand on ouvre la page kayak, une fenêtre de cookies apparait. On la ferme pour pouvoir accéder au site."
      ]
    },
    {
      "cell_type": "code",
      "execution_count": null,
      "metadata": {
        "id": "2IJf5jFcsZk4"
      },
      "outputs": [],
      "source": [
        "#driver.find_element_by_class_name(\"_ixe\").click() "
      ]
    },
    {
      "cell_type": "markdown",
      "metadata": {
        "id": "IQi3pr2asZk5"
      },
      "source": [
        "Avec ce code on arrive à obtenir le prix d'un billet d'avion, mais on n'arrive pas à trouver un même chemin pour tous les vols afin d'obtenir une liste de prix. En effet, le chemin d'un prix change à chaque connexion. Cela semble être une technique de kayak pour éviter le scrapping."
      ]
    },
    {
      "cell_type": "code",
      "execution_count": null,
      "metadata": {
        "id": "GwEGxfEhsZk5",
        "outputId": "301b5d26-7bc4-422c-8bf7-4b2dae97884d"
      },
      "outputs": [
        {
          "name": "stderr",
          "output_type": "stream",
          "text": [
            "<ipython-input-803-31d1f63304fa>:3: DeprecationWarning: find_elements_by_* commands are deprecated. Please use find_elements() instead\n",
            "  prices = driver.find_elements_by_xpath(xp_prices)\n"
          ]
        }
      ],
      "source": [
        "xp_prices = '//*[@id=\"T0bh-mb-aE-16e12409bb1-price-text\"]' #chemin d'un prix d'un vol\n",
        "prices = driver.find_elements_by_xpath(xp_prices)\n",
        "prices_list = [price.text.replace('€','') for price in prices if price.text != '']"
      ]
    },
    {
      "cell_type": "code",
      "execution_count": null,
      "metadata": {
        "id": "XztDcepXsZk5",
        "outputId": "eb365f4c-7998-4dbf-c7a4-59ad9ab03a36"
      },
      "outputs": [
        {
          "data": {
            "text/plain": [
              "['28 ']"
            ]
          },
          "execution_count": 718,
          "metadata": {},
          "output_type": "execute_result"
        }
      ],
      "source": [
        "prices_list"
      ]
    },
    {
      "cell_type": "markdown",
      "metadata": {
        "id": "wPJ4lTpyOcvY"
      },
      "source": [
        "#### Utiliser une API <a name = \"subsubparagraphe113\"></a>"
      ]
    },
    {
      "cell_type": "markdown",
      "metadata": {
        "id": "h-T8-yKPO2Ry"
      },
      "source": [
        "Nous avons ensuite pensé à utiliser une API, ce qui nous a permis d'obtenir ce code et d'avoir enfin une base de données de Kayak exploitable."
      ]
    },
    {
      "cell_type": "code",
      "execution_count": 42,
      "metadata": {
        "id": "pbZLoFcZNA2q"
      },
      "outputs": [],
      "source": [
        "import requests\n",
        "import pandas as pd\n",
        "import numpy as np\n",
        "\n",
        "pd.set_option('display.max_columns', 500)\n",
        "\n",
        "url = \"https://www.kayak.com/s/horizon/exploreapi/destinations?airport=PAR&budget=&depart=20220201&return=20220301&duration=&exactDates=true&flightMaxStops=&stopsFilterActive=false&topRightLat=59.902761633461935&topRightLon=25.09658365167229&bottomLeftLat=26.101275008286677&bottomLeftLon=-6.719822598327707&zoomLevel=4&selectedMarker=&themeCode=&selectedDestination=\"\n",
        "req = requests.get(url)\n",
        "out = req.json()\n",
        "df_api = pd.json_normalize(out[\"destinations\"])\n"
      ]
    },
    {
      "cell_type": "code",
      "source": [
        ""
      ],
      "metadata": {
        "id": "Rwbd3UpttGbQ"
      },
      "execution_count": null,
      "outputs": []
    },
    {
      "cell_type": "markdown",
      "metadata": {
        "id": "Y-GfHIKfJhEe"
      },
      "source": [
        "* On enregistre une version de l'API en local\n"
      ]
    },
    {
      "cell_type": "code",
      "execution_count": null,
      "metadata": {
        "id": "mvEBsgLjJhEf"
      },
      "outputs": [],
      "source": [
        "#df_local.to_csv('D:/ENSAE/2A 2020 2021/S1/Python data science/dataframe_projet_python_01-02_01-03.csv') "
      ]
    },
    {
      "cell_type": "markdown",
      "source": [
        "* Cette version est accessible via Github"
      ],
      "metadata": {
        "id": "eev3jqn3mzGz"
      }
    },
    {
      "cell_type": "code",
      "source": [
        "url_df = 'https://raw.githubusercontent.com/laurabrmi/Python-pour-le-data-scientist/main/dataframe_projet_python_01-02_01-03.csv'\n",
        "df = pd.read_csv(url_df,index_col=0)"
      ],
      "metadata": {
        "id": "TjklNoE6jyp-"
      },
      "execution_count": 146,
      "outputs": []
    },
    {
      "cell_type": "code",
      "source": [
        "df.columns"
      ],
      "metadata": {
        "id": "ewxp1ziSPZ7I",
        "colab": {
          "base_uri": "https://localhost:8080/"
        },
        "outputId": "a2a9c46a-05cb-4c13-ccf6-7722dc0b10da"
      },
      "execution_count": 30,
      "outputs": [
        {
          "output_type": "execute_result",
          "data": {
            "text/plain": [
              "Index(['days', 'originAirportShortName', 'departd', 'returnd', 'airline',\n",
              "       'airlineCode', 'airlineIcon', 'clickoutUrl', 'flightMaxStops',\n",
              "       'flightMaxDuration', 'relevancyScore', 'travelRestrictionInfo',\n",
              "       'flightInfo.price', 'flightInfo.localizedPrice', 'flightInfo.priceUSD',\n",
              "       'flightInfo.historicalPrice', 'flightInfo.priceless',\n",
              "       'flightInfo.predicted', 'flightInfo.url', 'airport.latitude',\n",
              "       'airport.longitude', 'airport.name', 'airport.popularity',\n",
              "       'airport.shortName', 'city.id', 'city.name', 'city.image',\n",
              "       'country.code', 'country.name', 'flightInfo.historicPrices'],\n",
              "      dtype='object')"
            ]
          },
          "metadata": {},
          "execution_count": 30
        }
      ]
    },
    {
      "cell_type": "code",
      "execution_count": null,
      "metadata": {
        "id": "pmhoZeRVsZk_",
        "outputId": "f4cc2b10-8429-4022-d6e8-2ca81e6232ce"
      },
      "outputs": [
        {
          "data": {
            "text/html": [
              "<div>\n",
              "<style scoped>\n",
              "    .dataframe tbody tr th:only-of-type {\n",
              "        vertical-align: middle;\n",
              "    }\n",
              "\n",
              "    .dataframe tbody tr th {\n",
              "        vertical-align: top;\n",
              "    }\n",
              "\n",
              "    .dataframe thead th {\n",
              "        text-align: right;\n",
              "    }\n",
              "</style>\n",
              "<table border=\"1\" class=\"dataframe\">\n",
              "  <thead>\n",
              "    <tr style=\"text-align: right;\">\n",
              "      <th></th>\n",
              "      <th>days</th>\n",
              "      <th>originAirportShortName</th>\n",
              "      <th>departd</th>\n",
              "      <th>returnd</th>\n",
              "      <th>airline</th>\n",
              "      <th>airlineCode</th>\n",
              "      <th>airlineIcon</th>\n",
              "      <th>clickoutUrl</th>\n",
              "      <th>flightMaxStops</th>\n",
              "      <th>flightMaxDuration</th>\n",
              "      <th>relevancyScore</th>\n",
              "      <th>travelRestrictionInfo</th>\n",
              "      <th>flightInfo.price</th>\n",
              "      <th>flightInfo.localizedPrice</th>\n",
              "      <th>flightInfo.priceUSD</th>\n",
              "      <th>flightInfo.historicalPrice</th>\n",
              "      <th>flightInfo.priceless</th>\n",
              "      <th>flightInfo.predicted</th>\n",
              "      <th>flightInfo.url</th>\n",
              "      <th>airport.latitude</th>\n",
              "      <th>airport.longitude</th>\n",
              "      <th>airport.name</th>\n",
              "      <th>airport.popularity</th>\n",
              "      <th>airport.shortName</th>\n",
              "      <th>city.id</th>\n",
              "      <th>city.name</th>\n",
              "      <th>city.image</th>\n",
              "      <th>country.code</th>\n",
              "      <th>country.name</th>\n",
              "      <th>flightInfo.historicPrices</th>\n",
              "    </tr>\n",
              "  </thead>\n",
              "  <tbody>\n",
              "    <tr>\n",
              "      <th>0</th>\n",
              "      <td>28</td>\n",
              "      <td>CDG</td>\n",
              "      <td>20220201</td>\n",
              "      <td>20220301</td>\n",
              "      <td>Multiple Airlines</td>\n",
              "      <td>None</td>\n",
              "      <td>https://content.r9cdn.net/rimg/provider-logos/...</td>\n",
              "      <td>/flights/PAR-NYC/2022-02-01/2022-03-01/</td>\n",
              "      <td>0</td>\n",
              "      <td>9999999</td>\n",
              "      <td>1000</td>\n",
              "      <td>None</td>\n",
              "      <td>322.97</td>\n",
              "      <td>$323</td>\n",
              "      <td>322.97</td>\n",
              "      <td>None</td>\n",
              "      <td>False</td>\n",
              "      <td>True</td>\n",
              "      <td>None</td>\n",
              "      <td>40.75096</td>\n",
              "      <td>-73.98741</td>\n",
              "      <td>None</td>\n",
              "      <td>85682</td>\n",
              "      <td>NYC</td>\n",
              "      <td>15830</td>\n",
              "      <td>New York</td>\n",
              "      <td>None</td>\n",
              "      <td>US</td>\n",
              "      <td>United States</td>\n",
              "      <td>NaN</td>\n",
              "    </tr>\n",
              "    <tr>\n",
              "      <th>1</th>\n",
              "      <td>28</td>\n",
              "      <td>LBG</td>\n",
              "      <td>20220201</td>\n",
              "      <td>20220301</td>\n",
              "      <td>Multiple Airlines</td>\n",
              "      <td>None</td>\n",
              "      <td>https://content.r9cdn.net/rimg/provider-logos/...</td>\n",
              "      <td>/flights/PAR-NYC/2022-02-01/2022-03-01/</td>\n",
              "      <td>0</td>\n",
              "      <td>9999999</td>\n",
              "      <td>1000</td>\n",
              "      <td>None</td>\n",
              "      <td>805.06</td>\n",
              "      <td>$805</td>\n",
              "      <td>805.06</td>\n",
              "      <td>None</td>\n",
              "      <td>False</td>\n",
              "      <td>True</td>\n",
              "      <td>None</td>\n",
              "      <td>40.75096</td>\n",
              "      <td>-73.98741</td>\n",
              "      <td>None</td>\n",
              "      <td>85682</td>\n",
              "      <td>NYC</td>\n",
              "      <td>15830</td>\n",
              "      <td>New York</td>\n",
              "      <td>None</td>\n",
              "      <td>US</td>\n",
              "      <td>United States</td>\n",
              "      <td>NaN</td>\n",
              "    </tr>\n",
              "  </tbody>\n",
              "</table>\n",
              "</div>"
            ],
            "text/plain": [
              "   days originAirportShortName   departd   returnd            airline  \\\n",
              "0    28                    CDG  20220201  20220301  Multiple Airlines   \n",
              "1    28                    LBG  20220201  20220301  Multiple Airlines   \n",
              "\n",
              "  airlineCode                                        airlineIcon  \\\n",
              "0        None  https://content.r9cdn.net/rimg/provider-logos/...   \n",
              "1        None  https://content.r9cdn.net/rimg/provider-logos/...   \n",
              "\n",
              "                               clickoutUrl  flightMaxStops  flightMaxDuration  \\\n",
              "0  /flights/PAR-NYC/2022-02-01/2022-03-01/               0            9999999   \n",
              "1  /flights/PAR-NYC/2022-02-01/2022-03-01/               0            9999999   \n",
              "\n",
              "   relevancyScore travelRestrictionInfo  flightInfo.price  \\\n",
              "0            1000                  None            322.97   \n",
              "1            1000                  None            805.06   \n",
              "\n",
              "  flightInfo.localizedPrice  flightInfo.priceUSD flightInfo.historicalPrice  \\\n",
              "0                      $323               322.97                       None   \n",
              "1                      $805               805.06                       None   \n",
              "\n",
              "   flightInfo.priceless  flightInfo.predicted flightInfo.url  \\\n",
              "0                 False                  True           None   \n",
              "1                 False                  True           None   \n",
              "\n",
              "   airport.latitude  airport.longitude airport.name  airport.popularity  \\\n",
              "0          40.75096          -73.98741         None               85682   \n",
              "1          40.75096          -73.98741         None               85682   \n",
              "\n",
              "  airport.shortName city.id city.name city.image country.code   country.name  \\\n",
              "0               NYC   15830  New York       None           US  United States   \n",
              "1               NYC   15830  New York       None           US  United States   \n",
              "\n",
              "   flightInfo.historicPrices  \n",
              "0                        NaN  \n",
              "1                        NaN  "
            ]
          },
          "execution_count": 115,
          "metadata": {},
          "output_type": "execute_result"
        }
      ],
      "source": [
        "df.head(2)"
      ]
    },
    {
      "cell_type": "markdown",
      "metadata": {
        "id": "x6swYr9CPP58"
      },
      "source": [
        "Le dataframe obtenu par cette méthode est riche mais nous a obligées à revoir nos objectifs. \n",
        "\n",
        "- Nous n'avons pas accès aux compagnies aériennes, la plupart étant regroupées dans le terme **'Multiple Airlines'** (14733 occurences sur 14812). Donc nous ne pourrons pas distinguer selon les compagnies aériennes dans la suite de notre projet. "
      ]
    },
    {
      "cell_type": "code",
      "execution_count": 148,
      "metadata": {
        "id": "wci44YtLRD2g",
        "outputId": "0cce088f-6244-43ed-ca4d-2cfbccf1bb57",
        "colab": {
          "base_uri": "https://localhost:8080/"
        }
      },
      "outputs": [
        {
          "output_type": "execute_result",
          "data": {
            "text/plain": [
              "Multiple Airlines      14733\n",
              "Air Austral               19\n",
              "Air France                 9\n",
              "Vipper                     6\n",
              "Air Canada                 5\n",
              "United Airlines            3\n",
              "Emirates                   2\n",
              "Qatar Airways              2\n",
              "Brussels Airlines          2\n",
              "American Airlines          2\n",
              "Finnair                    2\n",
              "TAP AIR PORTUGAL           2\n",
              "Turkish Airlines           2\n",
              "Air Algerie                2\n",
              "Corsair                    2\n",
              "Iberia                     2\n",
              "Kenya Airways              1\n",
              "Wizz Air                   1\n",
              "Delta                      1\n",
              "easyJet                    1\n",
              "La Compagnie               1\n",
              "Pegasus Airlines           1\n",
              "Etihad Airways             1\n",
              "Icelandair                 1\n",
              "LATAM Airlines             1\n",
              "Belavia                    1\n",
              "British Airways            1\n",
              "KLM                        1\n",
              "Air Caraïbes               1\n",
              "French Bee                 1\n",
              "Singapore Airlines         1\n",
              "ASL Airlines France        1\n",
              "Ryanair                    1\n",
              "Name: airline, dtype: int64"
            ]
          },
          "metadata": {},
          "execution_count": 148
        }
      ],
      "source": [
        "df['airline'].value_counts()"
      ]
    },
    {
      "cell_type": "markdown",
      "metadata": {
        "id": "rPbD-VsiJhEg"
      },
      "source": [
        "* Nous nous intéressons donc seulement aux vols de **'Multiple Airlines'**"
      ]
    },
    {
      "cell_type": "code",
      "execution_count": 149,
      "metadata": {
        "id": "ATYQkutSJhEg"
      },
      "outputs": [],
      "source": [
        "df=df[df['airline']=='Multiple Airlines']"
      ]
    },
    {
      "cell_type": "markdown",
      "metadata": {
        "id": "-JTGiBh0RXFc"
      },
      "source": [
        "- Nous n'avons pas accès au nombre de bagages, ni aux horaires des vols, ni au nombre d'escales (de la même façon que pour les compagnies aérinnes, la très grande majorité est sans escale), et ni aux émissions de $CO_2$ du vol."
      ]
    },
    {
      "cell_type": "markdown",
      "metadata": {
        "id": "V3RmFC0nSJpc"
      },
      "source": [
        "- Nous avons uniquement accès à des vols aller-retour, donc nous nous baserons sur des voyages d'un mois, en partant tous les $1^{er}$ du mois, de février à novembre inclus."
      ]
    },
    {
      "cell_type": "markdown",
      "metadata": {
        "id": "LK-UETq_JhEh"
      },
      "source": [
        "La colonne **'flightMaxStop'** correspond au nombre d'escale. On remarque que la plupart des vols se font sans escale."
      ]
    },
    {
      "cell_type": "code",
      "execution_count": 33,
      "metadata": {
        "id": "De3gdmqOJhEh",
        "outputId": "4ea163c0-6140-4ee5-860f-77bfcc96f467",
        "colab": {
          "base_uri": "https://localhost:8080/"
        }
      },
      "outputs": [
        {
          "output_type": "execute_result",
          "data": {
            "text/plain": [
              "0    14710\n",
              "2       12\n",
              "1        6\n",
              "3        5\n",
              "Name: flightMaxStops, dtype: int64"
            ]
          },
          "metadata": {},
          "execution_count": 33
        }
      ],
      "source": [
        "df['flightMaxStops'].value_counts()"
      ]
    },
    {
      "cell_type": "code",
      "source": [
        ""
      ],
      "metadata": {
        "id": "1rjY6AspRzYf"
      },
      "execution_count": null,
      "outputs": []
    },
    {
      "cell_type": "markdown",
      "metadata": {
        "id": "jwB9NS8MJhEh"
      },
      "source": [
        "* Par la suite, nous considérerons tous les vols sans escale."
      ]
    },
    {
      "cell_type": "code",
      "execution_count": 34,
      "metadata": {
        "id": "DgHFVp_xJhEh"
      },
      "outputs": [],
      "source": [
        "df=df[df['flightMaxStops']==0]"
      ]
    },
    {
      "cell_type": "markdown",
      "metadata": {
        "id": "WdvNoPfvsZlE"
      },
      "source": [
        "* On ne garde que les colonnes qui nous intéressent pour la suite."
      ]
    },
    {
      "cell_type": "code",
      "execution_count": 35,
      "metadata": {
        "id": "CYGdrW5I7vVe",
        "outputId": "4ffede92-7dc3-4b53-a390-bad13d15226e",
        "colab": {
          "base_uri": "https://localhost:8080/",
          "height": 211
        }
      },
      "outputs": [
        {
          "output_type": "execute_result",
          "data": {
            "text/html": [
              "\n",
              "  <div id=\"df-111f3fed-e572-4c61-a311-2d352ca00770\">\n",
              "    <div class=\"colab-df-container\">\n",
              "      <div>\n",
              "<style scoped>\n",
              "    .dataframe tbody tr th:only-of-type {\n",
              "        vertical-align: middle;\n",
              "    }\n",
              "\n",
              "    .dataframe tbody tr th {\n",
              "        vertical-align: top;\n",
              "    }\n",
              "\n",
              "    .dataframe thead th {\n",
              "        text-align: right;\n",
              "    }\n",
              "</style>\n",
              "<table border=\"1\" class=\"dataframe\">\n",
              "  <thead>\n",
              "    <tr style=\"text-align: right;\">\n",
              "      <th></th>\n",
              "      <th>originAirportShortName</th>\n",
              "      <th>departd</th>\n",
              "      <th>returnd</th>\n",
              "      <th>airline</th>\n",
              "      <th>flightInfo.price</th>\n",
              "      <th>flightInfo.localizedPrice</th>\n",
              "      <th>flightInfo.priceUSD</th>\n",
              "      <th>flightMaxStops</th>\n",
              "      <th>airport.latitude</th>\n",
              "      <th>airport.longitude</th>\n",
              "      <th>airport.shortName</th>\n",
              "      <th>city.name</th>\n",
              "      <th>country.name</th>\n",
              "    </tr>\n",
              "  </thead>\n",
              "  <tbody>\n",
              "    <tr>\n",
              "      <th>0</th>\n",
              "      <td>CDG</td>\n",
              "      <td>20220201</td>\n",
              "      <td>20220301</td>\n",
              "      <td>Multiple Airlines</td>\n",
              "      <td>322.97</td>\n",
              "      <td>$323</td>\n",
              "      <td>322.97</td>\n",
              "      <td>0</td>\n",
              "      <td>40.75096</td>\n",
              "      <td>-73.98741</td>\n",
              "      <td>NYC</td>\n",
              "      <td>New York</td>\n",
              "      <td>United States</td>\n",
              "    </tr>\n",
              "    <tr>\n",
              "      <th>1</th>\n",
              "      <td>LBG</td>\n",
              "      <td>20220201</td>\n",
              "      <td>20220301</td>\n",
              "      <td>Multiple Airlines</td>\n",
              "      <td>805.06</td>\n",
              "      <td>$805</td>\n",
              "      <td>805.06</td>\n",
              "      <td>0</td>\n",
              "      <td>40.75096</td>\n",
              "      <td>-73.98741</td>\n",
              "      <td>NYC</td>\n",
              "      <td>New York</td>\n",
              "      <td>United States</td>\n",
              "    </tr>\n",
              "  </tbody>\n",
              "</table>\n",
              "</div>\n",
              "      <button class=\"colab-df-convert\" onclick=\"convertToInteractive('df-111f3fed-e572-4c61-a311-2d352ca00770')\"\n",
              "              title=\"Convert this dataframe to an interactive table.\"\n",
              "              style=\"display:none;\">\n",
              "        \n",
              "  <svg xmlns=\"http://www.w3.org/2000/svg\" height=\"24px\"viewBox=\"0 0 24 24\"\n",
              "       width=\"24px\">\n",
              "    <path d=\"M0 0h24v24H0V0z\" fill=\"none\"/>\n",
              "    <path d=\"M18.56 5.44l.94 2.06.94-2.06 2.06-.94-2.06-.94-.94-2.06-.94 2.06-2.06.94zm-11 1L8.5 8.5l.94-2.06 2.06-.94-2.06-.94L8.5 2.5l-.94 2.06-2.06.94zm10 10l.94 2.06.94-2.06 2.06-.94-2.06-.94-.94-2.06-.94 2.06-2.06.94z\"/><path d=\"M17.41 7.96l-1.37-1.37c-.4-.4-.92-.59-1.43-.59-.52 0-1.04.2-1.43.59L10.3 9.45l-7.72 7.72c-.78.78-.78 2.05 0 2.83L4 21.41c.39.39.9.59 1.41.59.51 0 1.02-.2 1.41-.59l7.78-7.78 2.81-2.81c.8-.78.8-2.07 0-2.86zM5.41 20L4 18.59l7.72-7.72 1.47 1.35L5.41 20z\"/>\n",
              "  </svg>\n",
              "      </button>\n",
              "      \n",
              "  <style>\n",
              "    .colab-df-container {\n",
              "      display:flex;\n",
              "      flex-wrap:wrap;\n",
              "      gap: 12px;\n",
              "    }\n",
              "\n",
              "    .colab-df-convert {\n",
              "      background-color: #E8F0FE;\n",
              "      border: none;\n",
              "      border-radius: 50%;\n",
              "      cursor: pointer;\n",
              "      display: none;\n",
              "      fill: #1967D2;\n",
              "      height: 32px;\n",
              "      padding: 0 0 0 0;\n",
              "      width: 32px;\n",
              "    }\n",
              "\n",
              "    .colab-df-convert:hover {\n",
              "      background-color: #E2EBFA;\n",
              "      box-shadow: 0px 1px 2px rgba(60, 64, 67, 0.3), 0px 1px 3px 1px rgba(60, 64, 67, 0.15);\n",
              "      fill: #174EA6;\n",
              "    }\n",
              "\n",
              "    [theme=dark] .colab-df-convert {\n",
              "      background-color: #3B4455;\n",
              "      fill: #D2E3FC;\n",
              "    }\n",
              "\n",
              "    [theme=dark] .colab-df-convert:hover {\n",
              "      background-color: #434B5C;\n",
              "      box-shadow: 0px 1px 3px 1px rgba(0, 0, 0, 0.15);\n",
              "      filter: drop-shadow(0px 1px 2px rgba(0, 0, 0, 0.3));\n",
              "      fill: #FFFFFF;\n",
              "    }\n",
              "  </style>\n",
              "\n",
              "      <script>\n",
              "        const buttonEl =\n",
              "          document.querySelector('#df-111f3fed-e572-4c61-a311-2d352ca00770 button.colab-df-convert');\n",
              "        buttonEl.style.display =\n",
              "          google.colab.kernel.accessAllowed ? 'block' : 'none';\n",
              "\n",
              "        async function convertToInteractive(key) {\n",
              "          const element = document.querySelector('#df-111f3fed-e572-4c61-a311-2d352ca00770');\n",
              "          const dataTable =\n",
              "            await google.colab.kernel.invokeFunction('convertToInteractive',\n",
              "                                                     [key], {});\n",
              "          if (!dataTable) return;\n",
              "\n",
              "          const docLinkHtml = 'Like what you see? Visit the ' +\n",
              "            '<a target=\"_blank\" href=https://colab.research.google.com/notebooks/data_table.ipynb>data table notebook</a>'\n",
              "            + ' to learn more about interactive tables.';\n",
              "          element.innerHTML = '';\n",
              "          dataTable['output_type'] = 'display_data';\n",
              "          await google.colab.output.renderOutput(dataTable, element);\n",
              "          const docLink = document.createElement('div');\n",
              "          docLink.innerHTML = docLinkHtml;\n",
              "          element.appendChild(docLink);\n",
              "        }\n",
              "      </script>\n",
              "    </div>\n",
              "  </div>\n",
              "  "
            ],
            "text/plain": [
              "  originAirportShortName   departd   returnd            airline  \\\n",
              "0                    CDG  20220201  20220301  Multiple Airlines   \n",
              "1                    LBG  20220201  20220301  Multiple Airlines   \n",
              "\n",
              "   flightInfo.price flightInfo.localizedPrice  flightInfo.priceUSD  \\\n",
              "0            322.97                      $323               322.97   \n",
              "1            805.06                      $805               805.06   \n",
              "\n",
              "   flightMaxStops  airport.latitude  airport.longitude airport.shortName  \\\n",
              "0               0          40.75096          -73.98741               NYC   \n",
              "1               0          40.75096          -73.98741               NYC   \n",
              "\n",
              "  city.name   country.name  \n",
              "0  New York  United States  \n",
              "1  New York  United States  "
            ]
          },
          "metadata": {},
          "execution_count": 35
        }
      ],
      "source": [
        "df=df[['originAirportShortName','departd','returnd','airline',\n",
        "     'flightInfo.price','flightInfo.localizedPrice','flightInfo.priceUSD','flightMaxStops',\n",
        "    'airport.latitude','airport.longitude','airport.shortName','city.name','country.name']]\n",
        "df.head(2) "
      ]
    },
    {
      "cell_type": "code",
      "execution_count": 36,
      "metadata": {
        "id": "SoOOv6dKsZlV",
        "outputId": "692131cf-787c-4f7a-dd51-e5fd6135cc9b",
        "colab": {
          "base_uri": "https://localhost:8080/"
        }
      },
      "outputs": [
        {
          "output_type": "execute_result",
          "data": {
            "text/plain": [
              "14710"
            ]
          },
          "metadata": {},
          "execution_count": 36
        }
      ],
      "source": [
        "sum(df['flightInfo.price']==df['flightInfo.priceUSD'])"
      ]
    },
    {
      "cell_type": "code",
      "execution_count": 37,
      "metadata": {
        "id": "FnGJKXNZJhEi",
        "outputId": "4c6da17e-b1ab-44b9-dfd8-0dff066e77c8",
        "colab": {
          "base_uri": "https://localhost:8080/"
        }
      },
      "outputs": [
        {
          "output_type": "execute_result",
          "data": {
            "text/plain": [
              "(14710, 13)"
            ]
          },
          "metadata": {},
          "execution_count": 37
        }
      ],
      "source": [
        "df.shape"
      ]
    },
    {
      "cell_type": "markdown",
      "metadata": {
        "id": "SjxDr_pgJhEi"
      },
      "source": [
        "* On remarque que **'flightInfo.price'** et **'flightInfo.priceUSD'** sont les mêmes donc on peut garder une seule des deux variables. "
      ]
    },
    {
      "cell_type": "code",
      "execution_count": null,
      "metadata": {
        "id": "cDVqHgu1JhEi"
      },
      "outputs": [],
      "source": [
        "df=df[['originAirportShortName','departd','returnd',\n",
        "     'flightInfo.priceUSD',\n",
        "    'airport.latitude','airport.longitude','airport.shortName','city.name','country.name']]"
      ]
    },
    {
      "cell_type": "markdown",
      "source": [
        "* On s'intéresse uniquement aux vols au départ des aéroports de Roissy-Charles de Gaulles (CGD) et de Orly (ORY). On laisse de côté les aéroports Paris-Le Bourget (LBG), Paris-Vatry (XCR) et Beauvais (BVA). Un nouveau dataframe **df_paris** est créé."
      ],
      "metadata": {
        "id": "RKiM7m4zPewh"
      }
    },
    {
      "cell_type": "code",
      "source": [
        "df_paris=df.loc[df['originAirportShortName'].isin(['CDG','ORY'])]"
      ],
      "metadata": {
        "id": "SWLC79bJPdVY"
      },
      "execution_count": 43,
      "outputs": []
    },
    {
      "cell_type": "markdown",
      "metadata": {
        "id": "ZwvoLUFpsZlP"
      },
      "source": [
        "* Dans la colonne des prix, il y a des prix non renseignés notés en **'999999.0'** on les remplace par des **0**"
      ]
    },
    {
      "cell_type": "code",
      "source": [
        "df_paris.loc[df_paris['flightInfo.priceUSD']== 999999.0] = 0 "
      ],
      "metadata": {
        "colab": {
          "base_uri": "https://localhost:8080/"
        },
        "id": "qoaYOEmlPwdJ",
        "outputId": "10a3060e-0ce2-4381-f130-87a5d23a1540"
      },
      "execution_count": 44,
      "outputs": [
        {
          "output_type": "stream",
          "name": "stderr",
          "text": [
            "/usr/local/lib/python3.7/dist-packages/pandas/core/indexing.py:1763: SettingWithCopyWarning: \n",
            "A value is trying to be set on a copy of a slice from a DataFrame.\n",
            "Try using .loc[row_indexer,col_indexer] = value instead\n",
            "\n",
            "See the caveats in the documentation: https://pandas.pydata.org/pandas-docs/stable/user_guide/indexing.html#returning-a-view-versus-a-copy\n",
            "  isetter(loc, value)\n"
          ]
        }
      ]
    },
    {
      "cell_type": "markdown",
      "source": [
        "On obtient ainsi une base propre qui contient uniquement les informations utiles."
      ],
      "metadata": {
        "id": "knBosnt4QAtx"
      }
    },
    {
      "cell_type": "markdown",
      "metadata": {
        "id": "XhbYvUzvSkQG"
      },
      "source": [
        "Pour nous assurer de pouvoir utiliser cette base de données au cas où Kayak bloquerait nos appels, on enregistre cette première base.\n",
        "\n",
        "(De la même manière que tout à l'heure, cette commande est mise en commentaire car elle ne fonctionne qu'en local.)"
      ]
    },
    {
      "cell_type": "code",
      "execution_count": null,
      "metadata": {
        "id": "NNzoZbgqUVqO"
      },
      "outputs": [],
      "source": [
        "#df_paris.to_csv('dataframe_projet_python_01/02_01/03.csv')"
      ]
    },
    {
      "cell_type": "markdown",
      "metadata": {
        "id": "t8W7D6T4WG1r"
      },
      "source": [
        "### Récupération des autres jeux de données <a name = subparagraphe12></a>"
      ]
    },
    {
      "cell_type": "markdown",
      "metadata": {
        "id": "1e9TAj3mWq8-"
      },
      "source": [
        "D'après ce qui a été vu ci-dessus récupérer une liste des compagnies aériennes \"lowcost\" et \"traditionnelles\" n'est plus utile."
      ]
    },
    {
      "cell_type": "markdown",
      "metadata": {
        "id": "9bq1dyM1W5a7"
      },
      "source": [
        "Pour la liste de dates, nous retenons celle-là : \n",
        "* Lundi de Pâques : lundi 18/04/2022\n",
        "* Fête du travail : dimanche 01/05/2022\n",
        "* Armistice de 1945 : dimanche 08/05/2022 \n",
        "* Ascension : jeudi 26/05/2022\n",
        "* Lundi de Pentecôte : lundi 06/06/2022\n",
        "* Fête nationale : jeudi 14/07/2022\n",
        "* Assomption : lundi 15/08/2022\n",
        "* Toussaint : mardi 01/11/2022\n",
        "* Armistice de 1918 : vendredi 11/11/2022\n",
        "\n",
        "\n",
        "\n",
        "\n"
      ]
    },
    {
      "cell_type": "markdown",
      "metadata": {
        "id": "W1SXYSCBsZlJ"
      },
      "source": [
        "Ainsi que la date des vacances scolaires en France :\n",
        "\n",
        "* hiver : \n",
        "    * Zone A = samedi 12/02/2022 au lundi 28/02/2022, Zone B = samedi 05/02/2022 au lundi 21/02/2022, Zone C = samedi 19/02/2022 au lundi 07/03/2022 \n",
        "* printemps : \n",
        "    * Zone A = samedi 16/04/2022 au lundi 02/05/2022, Zone B = samedi 09/04/2022 au lundi 24/04/2022, Zone C = samedi 23/04/2022 au lundi 09/05/2022\n",
        "* été : \n",
        "    * jeudi 07/07/2022 \n"
      ]
    },
    {
      "cell_type": "markdown",
      "metadata": {
        "id": "gwhb7x0LXkKa"
      },
      "source": [
        "Au vu de la base de données de Kayak obtenue, nous décidons d'utiliser une liste de villes à la place d'une liste d'aéroports. Nous retenons cette liste de villes :\n",
        "* Abidjan\n",
        "* Agadir\n",
        "* Alger\n",
        "* Amman\n",
        "* Amsterdam\n",
        "* Antalya\n",
        "* Athènes\n",
        "* Bangkok\n",
        "* Barcelone\n",
        "* Berlin\n",
        "* Bogota\n",
        "* Bombay\n",
        "* Boston\n",
        "* Budapest\n",
        "* Buenos-Aires\n",
        "* Canberra\n",
        "* Caracas\n",
        "* Casablanca\n",
        "* Chicago\n",
        "* Colombo\n",
        "* Copenhague\n",
        "* Dakar\n",
        "* Delhi\n",
        "* Djerba\n",
        "* Djibouti\n",
        "* Dubaï\n",
        "* Dublin\n",
        "* Edimbourg\n",
        "* Francfort\n",
        "* Helsinki\n",
        "* Hong-Kong\n",
        "* Houston\n",
        "* Istanbul\n",
        "* Jakarta\n",
        "* Johannesburg\n",
        "* Kuala Lumpur\n",
        "* Le Caire\n",
        "* Lisbonne\n",
        "* Montréal\n",
        "* New-York\n",
        "* Los Angeles\n",
        "* Sydney\n",
        "* Rome\n",
        "* Tokyo\n",
        "* Rio de Janeiro\n"
      ]
    },
    {
      "cell_type": "markdown",
      "metadata": {
        "id": "fqjEYmCEZGcH"
      },
      "source": [
        "Pour ce qui est de la distance entre Paris et les villes en questions, nous avons procédé de deux façons différentes."
      ]
    },
    {
      "cell_type": "markdown",
      "metadata": {
        "id": "9FJ6qsC6ZOqn"
      },
      "source": [
        "#### Distance 1ère méthode : scrapping avec Selenium <a name = \"subsubparagraphe121\"></a>\n",
        "\n",
        "Les distances sont scrappées à partir d'un site internet. La ville de départ et la ville d'arrivée sont à indiquer et la distance entre ces deux villes nous est communiquée. Nous avons choisi Paris comme ville de départ et une liste est créée avec les distances entre Paris et les villes citées plus haut."
      ]
    },
    {
      "cell_type": "code",
      "execution_count": null,
      "metadata": {
        "id": "WXqfZlpAsZlL"
      },
      "outputs": [],
      "source": [
        "import re \n",
        "import numpy as np\n",
        "import pandas as pd"
      ]
    },
    {
      "cell_type": "code",
      "execution_count": null,
      "metadata": {
        "id": "oRkvG4cvbtkQ",
        "outputId": "615082d5-5175-44ab-b83a-2d1551c4d679"
      },
      "outputs": [
        {
          "name": "stderr",
          "output_type": "stream",
          "text": [
            "<ipython-input-124-47b99da7bbe3>:10: DeprecationWarning: executable_path has been deprecated, please pass in a Service object\n",
            "  driver = webdriver.Chrome(executable_path=\"D:/ENSAE/2A 2020 2021/S1/Python data science/chromedriver.exe\",options=options)\n",
            "<ipython-input-124-47b99da7bbe3>:23: DeprecationWarning: find_element_by_* commands are deprecated. Please use find_element() instead\n",
            "  search_bar = driver.find_element_by_id(\"fr\")\n",
            "<ipython-input-124-47b99da7bbe3>:24: DeprecationWarning: find_element_by_* commands are deprecated. Please use find_element() instead\n",
            "  search_bar=driver.find_element_by_id(\"fr\").clear()\n",
            "<ipython-input-124-47b99da7bbe3>:25: DeprecationWarning: find_element_by_* commands are deprecated. Please use find_element() instead\n",
            "  search_bar = driver.find_element_by_id(\"fr\")\n",
            "<ipython-input-124-47b99da7bbe3>:28: DeprecationWarning: find_element_by_* commands are deprecated. Please use find_element() instead\n",
            "  search_bar_bis = driver.find_element_by_id(\"to\")\n",
            "<ipython-input-124-47b99da7bbe3>:29: DeprecationWarning: find_element_by_* commands are deprecated. Please use find_element() instead\n",
            "  search_bar=driver.find_element_by_id(\"to\").clear()\n",
            "<ipython-input-124-47b99da7bbe3>:30: DeprecationWarning: find_element_by_* commands are deprecated. Please use find_element() instead\n",
            "  search_bar = driver.find_element_by_id(\"to\")\n",
            "<ipython-input-124-47b99da7bbe3>:34: DeprecationWarning: find_element_by_* commands are deprecated. Please use find_element() instead\n",
            "  element = driver.find_element_by_class_name(\"btq\").click()\n",
            "<ipython-input-124-47b99da7bbe3>:35: DeprecationWarning: find_element_by_* commands are deprecated. Please use find_element() instead\n",
            "  distance = driver.find_element_by_class_name(\"t_mi\").text\n"
          ]
        },
        {
          "name": "stdout",
          "output_type": "stream",
          "text": [
            "[4878, 2288, 1347, 3368, 430, 2645, 2096, 9447, 831, 878, 8634, 0, 5533, 1244, 11053, 16924, 7621, 1889, 6653, 8518, 1027, 4198, 6574, 1815, 5535, 5247, 781, 874, 478, 1909, 9619, 8088, 2256, 11589, 8731, 10427, 3211, 1455, 5507, 5839, 9088, 16965, 1106, 9715, 9171]\n"
          ]
        }
      ],
      "source": [
        "options = webdriver.ChromeOptions()\n",
        "options.add_argument(\"private\")\n",
        "options.add_argument(\"--start-maximized\");\n",
        "options.add_argument(\"--ignore-certificate-errors\");\n",
        "options.add_argument(\"--disable-popup-blocking\");\n",
        "options.add_argument(\"--incognito\");\n",
        "options.add_argument(\"--headless\");\n",
        "\n",
        "\n",
        "driver = webdriver.Chrome(executable_path=\"D:/ENSAE/2A 2020 2021/S1/Python data science/chromedriver.exe\",options=options)\n",
        "\n",
        "distances=[]\n",
        "villes=[\"Abidjan\",\"Agadir\",\"Alger\",\"Amman\",\"Amsterdam\",\"Antalya\",\"Athènes\",\"Bangkok\",\"Barcelone\",\"Berlin\",\"Bogota\",\"Mumbai\",\n",
        " \"Boston\",\"Budapest\",\"Buenos-Aires\",\"Canberra\",\"Caracas\",\"Casablanca\",\"Chicago\",\"Colombo\",\"Copenhague\",\"Dakar\",\"Delhi\",\n",
        " \"Djerba\",\"Djibouti\",\"Dubaï\",\"Dublin\",\"Edimbourg\",\"Francfort\",\"Helsinki\",\"Hong-Kong\",\"Houston\",\"Istanbul\",\"Jakarta\",\n",
        " \"Johannesburg\",\"Kuala Lumpur\",\"Le Caire\",\"Lisbonne\",\"Montréal\",\"New-York\",\"Los Angeles\",\"Sydney\",\"Rome\",\"Tokyo\",\"Rio de Janeiro\"]\n",
        "\n",
        "\n",
        "driver.get('http://fr.distances-routieres.himmera.com/monde')\n",
        "\n",
        "for ville in villes : \n",
        "\n",
        "    search_bar = driver.find_element_by_id(\"fr\")\n",
        "    search_bar=driver.find_element_by_id(\"fr\").clear()\n",
        "    search_bar = driver.find_element_by_id(\"fr\")\n",
        "    search_bar.send_keys(\"Paris\")\n",
        "    \n",
        "    search_bar_bis = driver.find_element_by_id(\"to\")\n",
        "    search_bar=driver.find_element_by_id(\"to\").clear()\n",
        "    search_bar = driver.find_element_by_id(\"to\")\n",
        "    search_bar_bis.send_keys(ville+Keys.ENTER)\n",
        "\n",
        "\n",
        "    element = driver.find_element_by_class_name(\"btq\").click()\n",
        "    distance = driver.find_element_by_class_name(\"t_mi\").text\n",
        "    distance=re.sub('KM','',distance)\n",
        "    distance=re.sub(' ','',distance)\n",
        "    distance=int(distance)\n",
        "    distances.append(distance)\n",
        "    \n",
        "    \n",
        "    driver.get('http://fr.distances-routieres.himmera.com/monde')\n",
        "\n",
        "    \n",
        "print(distances)"
      ]
    },
    {
      "cell_type": "markdown",
      "metadata": {
        "id": "NCZJEeccsZlM"
      },
      "source": [
        "* On transforme la liste obtenue précédement en un dataframe "
      ]
    },
    {
      "cell_type": "code",
      "execution_count": null,
      "metadata": {
        "id": "ARt57HVpsZlM",
        "outputId": "774821ee-538d-4bc4-8708-6e2404ed2a4c"
      },
      "outputs": [
        {
          "data": {
            "text/html": [
              "<div>\n",
              "<style scoped>\n",
              "    .dataframe tbody tr th:only-of-type {\n",
              "        vertical-align: middle;\n",
              "    }\n",
              "\n",
              "    .dataframe tbody tr th {\n",
              "        vertical-align: top;\n",
              "    }\n",
              "\n",
              "    .dataframe thead th {\n",
              "        text-align: right;\n",
              "    }\n",
              "</style>\n",
              "<table border=\"1\" class=\"dataframe\">\n",
              "  <thead>\n",
              "    <tr style=\"text-align: right;\">\n",
              "      <th></th>\n",
              "      <th>Ville</th>\n",
              "      <th>Distance à Paris (km)</th>\n",
              "    </tr>\n",
              "  </thead>\n",
              "  <tbody>\n",
              "    <tr>\n",
              "      <th>0</th>\n",
              "      <td>Abidjan</td>\n",
              "      <td>4878</td>\n",
              "    </tr>\n",
              "    <tr>\n",
              "      <th>1</th>\n",
              "      <td>Agadir</td>\n",
              "      <td>2288</td>\n",
              "    </tr>\n",
              "    <tr>\n",
              "      <th>2</th>\n",
              "      <td>Alger</td>\n",
              "      <td>1347</td>\n",
              "    </tr>\n",
              "    <tr>\n",
              "      <th>3</th>\n",
              "      <td>Amman</td>\n",
              "      <td>3368</td>\n",
              "    </tr>\n",
              "    <tr>\n",
              "      <th>4</th>\n",
              "      <td>Amsterdam</td>\n",
              "      <td>430</td>\n",
              "    </tr>\n",
              "    <tr>\n",
              "      <th>5</th>\n",
              "      <td>Antalya</td>\n",
              "      <td>2645</td>\n",
              "    </tr>\n",
              "    <tr>\n",
              "      <th>6</th>\n",
              "      <td>Athènes</td>\n",
              "      <td>2096</td>\n",
              "    </tr>\n",
              "    <tr>\n",
              "      <th>7</th>\n",
              "      <td>Bangkok</td>\n",
              "      <td>9447</td>\n",
              "    </tr>\n",
              "    <tr>\n",
              "      <th>8</th>\n",
              "      <td>Barcelone</td>\n",
              "      <td>831</td>\n",
              "    </tr>\n",
              "    <tr>\n",
              "      <th>9</th>\n",
              "      <td>Berlin</td>\n",
              "      <td>878</td>\n",
              "    </tr>\n",
              "    <tr>\n",
              "      <th>10</th>\n",
              "      <td>Bogota</td>\n",
              "      <td>8634</td>\n",
              "    </tr>\n",
              "    <tr>\n",
              "      <th>11</th>\n",
              "      <td>Mumbai</td>\n",
              "      <td>0</td>\n",
              "    </tr>\n",
              "    <tr>\n",
              "      <th>12</th>\n",
              "      <td>Boston</td>\n",
              "      <td>5533</td>\n",
              "    </tr>\n",
              "    <tr>\n",
              "      <th>13</th>\n",
              "      <td>Budapest</td>\n",
              "      <td>1244</td>\n",
              "    </tr>\n",
              "    <tr>\n",
              "      <th>14</th>\n",
              "      <td>Buenos-Aires</td>\n",
              "      <td>11053</td>\n",
              "    </tr>\n",
              "    <tr>\n",
              "      <th>15</th>\n",
              "      <td>Canberra</td>\n",
              "      <td>16924</td>\n",
              "    </tr>\n",
              "    <tr>\n",
              "      <th>16</th>\n",
              "      <td>Caracas</td>\n",
              "      <td>7621</td>\n",
              "    </tr>\n",
              "    <tr>\n",
              "      <th>17</th>\n",
              "      <td>Casablanca</td>\n",
              "      <td>1889</td>\n",
              "    </tr>\n",
              "    <tr>\n",
              "      <th>18</th>\n",
              "      <td>Chicago</td>\n",
              "      <td>6653</td>\n",
              "    </tr>\n",
              "    <tr>\n",
              "      <th>19</th>\n",
              "      <td>Colombo</td>\n",
              "      <td>8518</td>\n",
              "    </tr>\n",
              "    <tr>\n",
              "      <th>20</th>\n",
              "      <td>Copenhague</td>\n",
              "      <td>1027</td>\n",
              "    </tr>\n",
              "    <tr>\n",
              "      <th>21</th>\n",
              "      <td>Dakar</td>\n",
              "      <td>4198</td>\n",
              "    </tr>\n",
              "    <tr>\n",
              "      <th>22</th>\n",
              "      <td>Delhi</td>\n",
              "      <td>6574</td>\n",
              "    </tr>\n",
              "    <tr>\n",
              "      <th>23</th>\n",
              "      <td>Djerba</td>\n",
              "      <td>1815</td>\n",
              "    </tr>\n",
              "    <tr>\n",
              "      <th>24</th>\n",
              "      <td>Djibouti</td>\n",
              "      <td>5535</td>\n",
              "    </tr>\n",
              "    <tr>\n",
              "      <th>25</th>\n",
              "      <td>Dubaï</td>\n",
              "      <td>5247</td>\n",
              "    </tr>\n",
              "    <tr>\n",
              "      <th>26</th>\n",
              "      <td>Dublin</td>\n",
              "      <td>781</td>\n",
              "    </tr>\n",
              "    <tr>\n",
              "      <th>27</th>\n",
              "      <td>Edimbourg</td>\n",
              "      <td>874</td>\n",
              "    </tr>\n",
              "    <tr>\n",
              "      <th>28</th>\n",
              "      <td>Francfort</td>\n",
              "      <td>478</td>\n",
              "    </tr>\n",
              "    <tr>\n",
              "      <th>29</th>\n",
              "      <td>Helsinki</td>\n",
              "      <td>1909</td>\n",
              "    </tr>\n",
              "    <tr>\n",
              "      <th>30</th>\n",
              "      <td>Hong-Kong</td>\n",
              "      <td>9619</td>\n",
              "    </tr>\n",
              "    <tr>\n",
              "      <th>31</th>\n",
              "      <td>Houston</td>\n",
              "      <td>8088</td>\n",
              "    </tr>\n",
              "    <tr>\n",
              "      <th>32</th>\n",
              "      <td>Istanbul</td>\n",
              "      <td>2256</td>\n",
              "    </tr>\n",
              "    <tr>\n",
              "      <th>33</th>\n",
              "      <td>Jakarta</td>\n",
              "      <td>11589</td>\n",
              "    </tr>\n",
              "    <tr>\n",
              "      <th>34</th>\n",
              "      <td>Johannesburg</td>\n",
              "      <td>8731</td>\n",
              "    </tr>\n",
              "    <tr>\n",
              "      <th>35</th>\n",
              "      <td>Kuala Lumpur</td>\n",
              "      <td>10427</td>\n",
              "    </tr>\n",
              "    <tr>\n",
              "      <th>36</th>\n",
              "      <td>Le Caire</td>\n",
              "      <td>3211</td>\n",
              "    </tr>\n",
              "    <tr>\n",
              "      <th>37</th>\n",
              "      <td>Lisbonne</td>\n",
              "      <td>1455</td>\n",
              "    </tr>\n",
              "    <tr>\n",
              "      <th>38</th>\n",
              "      <td>Montréal</td>\n",
              "      <td>5507</td>\n",
              "    </tr>\n",
              "    <tr>\n",
              "      <th>39</th>\n",
              "      <td>New-York</td>\n",
              "      <td>5839</td>\n",
              "    </tr>\n",
              "    <tr>\n",
              "      <th>40</th>\n",
              "      <td>Los Angeles</td>\n",
              "      <td>9088</td>\n",
              "    </tr>\n",
              "    <tr>\n",
              "      <th>41</th>\n",
              "      <td>Sydney</td>\n",
              "      <td>16965</td>\n",
              "    </tr>\n",
              "    <tr>\n",
              "      <th>42</th>\n",
              "      <td>Rome</td>\n",
              "      <td>1106</td>\n",
              "    </tr>\n",
              "    <tr>\n",
              "      <th>43</th>\n",
              "      <td>Tokyo</td>\n",
              "      <td>9715</td>\n",
              "    </tr>\n",
              "    <tr>\n",
              "      <th>44</th>\n",
              "      <td>Rio de Janeiro</td>\n",
              "      <td>9171</td>\n",
              "    </tr>\n",
              "  </tbody>\n",
              "</table>\n",
              "</div>"
            ],
            "text/plain": [
              "             Ville Distance à Paris (km)\n",
              "0          Abidjan                  4878\n",
              "1           Agadir                  2288\n",
              "2            Alger                  1347\n",
              "3            Amman                  3368\n",
              "4        Amsterdam                   430\n",
              "5          Antalya                  2645\n",
              "6          Athènes                  2096\n",
              "7          Bangkok                  9447\n",
              "8        Barcelone                   831\n",
              "9           Berlin                   878\n",
              "10          Bogota                  8634\n",
              "11          Mumbai                     0\n",
              "12          Boston                  5533\n",
              "13        Budapest                  1244\n",
              "14    Buenos-Aires                 11053\n",
              "15        Canberra                 16924\n",
              "16         Caracas                  7621\n",
              "17      Casablanca                  1889\n",
              "18         Chicago                  6653\n",
              "19         Colombo                  8518\n",
              "20      Copenhague                  1027\n",
              "21           Dakar                  4198\n",
              "22           Delhi                  6574\n",
              "23          Djerba                  1815\n",
              "24        Djibouti                  5535\n",
              "25           Dubaï                  5247\n",
              "26          Dublin                   781\n",
              "27       Edimbourg                   874\n",
              "28       Francfort                   478\n",
              "29        Helsinki                  1909\n",
              "30       Hong-Kong                  9619\n",
              "31         Houston                  8088\n",
              "32        Istanbul                  2256\n",
              "33         Jakarta                 11589\n",
              "34    Johannesburg                  8731\n",
              "35    Kuala Lumpur                 10427\n",
              "36        Le Caire                  3211\n",
              "37        Lisbonne                  1455\n",
              "38        Montréal                  5507\n",
              "39        New-York                  5839\n",
              "40     Los Angeles                  9088\n",
              "41          Sydney                 16965\n",
              "42            Rome                  1106\n",
              "43           Tokyo                  9715\n",
              "44  Rio de Janeiro                  9171"
            ]
          },
          "execution_count": 125,
          "metadata": {},
          "output_type": "execute_result"
        }
      ],
      "source": [
        "list_dist=np.array([villes,distances]).T\n",
        "df_dist=pd.DataFrame(list_dist)\n",
        "df_dist.columns=['Ville','Distance à Paris (km)']\n",
        "df_dist"
      ]
    },
    {
      "cell_type": "markdown",
      "metadata": {
        "id": "-5SZ-jFCsZlM"
      },
      "source": [
        "#### Distance 2ème méthode : calcul avec les coordonnées géographiques <a name = \"subsubparagraphe122\"></a>"
      ]
    },
    {
      "cell_type": "markdown",
      "metadata": {
        "id": "WnJjR3lFsZlN"
      },
      "source": [
        "* On crée une fonction qui permet de calculer les distances entre deux villes à partir de leur latitude et longitude"
      ]
    },
    {
      "cell_type": "code",
      "execution_count": 40,
      "metadata": {
        "id": "cxcCBBavsZlN"
      },
      "outputs": [],
      "source": [
        "from math import radians\n",
        "\n",
        "def haversine(row):\n",
        "    lon1 = 2.3473 \n",
        "    lat1 = 48.85749\n",
        "    lon2 = row['airport.longitude']\n",
        "    lat2 = row['airport.latitude']\n",
        "    lon1, lat1, lon2, lat2 = map(radians, [lon1, lat1, lon2, lat2])\n",
        "    dlon = lon2 - lon1 \n",
        "    dlat = lat2 - lat1 \n",
        "    a = np.sin(dlat/2)**2 + np.cos(lat1) * np.cos(lat2) * np.sin(dlon/2)**2\n",
        "    c = 2 * np.arcsin(np.sqrt(a)) \n",
        "    km = round(6367 * c)\n",
        "    return km"
      ]
    },
    {
      "cell_type": "markdown",
      "metadata": {
        "id": "5xa2tmaksZlN"
      },
      "source": [
        "* On ajoute une colonne distance entre Paris et la ville correspondante"
      ]
    },
    {
      "cell_type": "code",
      "execution_count": 54,
      "metadata": {
        "id": "R2He3WEzsZlN",
        "outputId": "f4d2d973-bfc4-4408-a92d-ac5bd23b18ce",
        "colab": {
          "base_uri": "https://localhost:8080/",
          "height": 317
        }
      },
      "outputs": [
        {
          "output_type": "stream",
          "name": "stderr",
          "text": [
            "/usr/local/lib/python3.7/dist-packages/ipykernel_launcher.py:1: SettingWithCopyWarning: \n",
            "A value is trying to be set on a copy of a slice from a DataFrame.\n",
            "Try using .loc[row_indexer,col_indexer] = value instead\n",
            "\n",
            "See the caveats in the documentation: https://pandas.pydata.org/pandas-docs/stable/user_guide/indexing.html#returning-a-view-versus-a-copy\n",
            "  \"\"\"Entry point for launching an IPython kernel.\n"
          ]
        },
        {
          "output_type": "execute_result",
          "data": {
            "text/html": [
              "\n",
              "  <div id=\"df-36a03b3a-4fa7-47bf-be39-37c9fe1b3f06\">\n",
              "    <div class=\"colab-df-container\">\n",
              "      <div>\n",
              "<style scoped>\n",
              "    .dataframe tbody tr th:only-of-type {\n",
              "        vertical-align: middle;\n",
              "    }\n",
              "\n",
              "    .dataframe tbody tr th {\n",
              "        vertical-align: top;\n",
              "    }\n",
              "\n",
              "    .dataframe thead th {\n",
              "        text-align: right;\n",
              "    }\n",
              "</style>\n",
              "<table border=\"1\" class=\"dataframe\">\n",
              "  <thead>\n",
              "    <tr style=\"text-align: right;\">\n",
              "      <th></th>\n",
              "      <th>originAirportShortName</th>\n",
              "      <th>departd</th>\n",
              "      <th>returnd</th>\n",
              "      <th>airline</th>\n",
              "      <th>flightInfo.price</th>\n",
              "      <th>flightInfo.localizedPrice</th>\n",
              "      <th>flightInfo.priceUSD</th>\n",
              "      <th>flightMaxStops</th>\n",
              "      <th>airport.latitude</th>\n",
              "      <th>airport.longitude</th>\n",
              "      <th>airport.shortName</th>\n",
              "      <th>city.name</th>\n",
              "      <th>country.name</th>\n",
              "      <th>distance</th>\n",
              "    </tr>\n",
              "  </thead>\n",
              "  <tbody>\n",
              "    <tr>\n",
              "      <th>0</th>\n",
              "      <td>CDG</td>\n",
              "      <td>20220201</td>\n",
              "      <td>20220301</td>\n",
              "      <td>Multiple Airlines</td>\n",
              "      <td>322.97</td>\n",
              "      <td>$323</td>\n",
              "      <td>322.97</td>\n",
              "      <td>0</td>\n",
              "      <td>40.75096</td>\n",
              "      <td>-73.98741</td>\n",
              "      <td>NYC</td>\n",
              "      <td>New York</td>\n",
              "      <td>United States</td>\n",
              "      <td>5829</td>\n",
              "    </tr>\n",
              "    <tr>\n",
              "      <th>3</th>\n",
              "      <td>ORY</td>\n",
              "      <td>20220201</td>\n",
              "      <td>20220301</td>\n",
              "      <td>Multiple Airlines</td>\n",
              "      <td>301.28</td>\n",
              "      <td>$301</td>\n",
              "      <td>301.28</td>\n",
              "      <td>0</td>\n",
              "      <td>40.75096</td>\n",
              "      <td>-73.98741</td>\n",
              "      <td>NYC</td>\n",
              "      <td>New York</td>\n",
              "      <td>United States</td>\n",
              "      <td>5829</td>\n",
              "    </tr>\n",
              "  </tbody>\n",
              "</table>\n",
              "</div>\n",
              "      <button class=\"colab-df-convert\" onclick=\"convertToInteractive('df-36a03b3a-4fa7-47bf-be39-37c9fe1b3f06')\"\n",
              "              title=\"Convert this dataframe to an interactive table.\"\n",
              "              style=\"display:none;\">\n",
              "        \n",
              "  <svg xmlns=\"http://www.w3.org/2000/svg\" height=\"24px\"viewBox=\"0 0 24 24\"\n",
              "       width=\"24px\">\n",
              "    <path d=\"M0 0h24v24H0V0z\" fill=\"none\"/>\n",
              "    <path d=\"M18.56 5.44l.94 2.06.94-2.06 2.06-.94-2.06-.94-.94-2.06-.94 2.06-2.06.94zm-11 1L8.5 8.5l.94-2.06 2.06-.94-2.06-.94L8.5 2.5l-.94 2.06-2.06.94zm10 10l.94 2.06.94-2.06 2.06-.94-2.06-.94-.94-2.06-.94 2.06-2.06.94z\"/><path d=\"M17.41 7.96l-1.37-1.37c-.4-.4-.92-.59-1.43-.59-.52 0-1.04.2-1.43.59L10.3 9.45l-7.72 7.72c-.78.78-.78 2.05 0 2.83L4 21.41c.39.39.9.59 1.41.59.51 0 1.02-.2 1.41-.59l7.78-7.78 2.81-2.81c.8-.78.8-2.07 0-2.86zM5.41 20L4 18.59l7.72-7.72 1.47 1.35L5.41 20z\"/>\n",
              "  </svg>\n",
              "      </button>\n",
              "      \n",
              "  <style>\n",
              "    .colab-df-container {\n",
              "      display:flex;\n",
              "      flex-wrap:wrap;\n",
              "      gap: 12px;\n",
              "    }\n",
              "\n",
              "    .colab-df-convert {\n",
              "      background-color: #E8F0FE;\n",
              "      border: none;\n",
              "      border-radius: 50%;\n",
              "      cursor: pointer;\n",
              "      display: none;\n",
              "      fill: #1967D2;\n",
              "      height: 32px;\n",
              "      padding: 0 0 0 0;\n",
              "      width: 32px;\n",
              "    }\n",
              "\n",
              "    .colab-df-convert:hover {\n",
              "      background-color: #E2EBFA;\n",
              "      box-shadow: 0px 1px 2px rgba(60, 64, 67, 0.3), 0px 1px 3px 1px rgba(60, 64, 67, 0.15);\n",
              "      fill: #174EA6;\n",
              "    }\n",
              "\n",
              "    [theme=dark] .colab-df-convert {\n",
              "      background-color: #3B4455;\n",
              "      fill: #D2E3FC;\n",
              "    }\n",
              "\n",
              "    [theme=dark] .colab-df-convert:hover {\n",
              "      background-color: #434B5C;\n",
              "      box-shadow: 0px 1px 3px 1px rgba(0, 0, 0, 0.15);\n",
              "      filter: drop-shadow(0px 1px 2px rgba(0, 0, 0, 0.3));\n",
              "      fill: #FFFFFF;\n",
              "    }\n",
              "  </style>\n",
              "\n",
              "      <script>\n",
              "        const buttonEl =\n",
              "          document.querySelector('#df-36a03b3a-4fa7-47bf-be39-37c9fe1b3f06 button.colab-df-convert');\n",
              "        buttonEl.style.display =\n",
              "          google.colab.kernel.accessAllowed ? 'block' : 'none';\n",
              "\n",
              "        async function convertToInteractive(key) {\n",
              "          const element = document.querySelector('#df-36a03b3a-4fa7-47bf-be39-37c9fe1b3f06');\n",
              "          const dataTable =\n",
              "            await google.colab.kernel.invokeFunction('convertToInteractive',\n",
              "                                                     [key], {});\n",
              "          if (!dataTable) return;\n",
              "\n",
              "          const docLinkHtml = 'Like what you see? Visit the ' +\n",
              "            '<a target=\"_blank\" href=https://colab.research.google.com/notebooks/data_table.ipynb>data table notebook</a>'\n",
              "            + ' to learn more about interactive tables.';\n",
              "          element.innerHTML = '';\n",
              "          dataTable['output_type'] = 'display_data';\n",
              "          await google.colab.output.renderOutput(dataTable, element);\n",
              "          const docLink = document.createElement('div');\n",
              "          docLink.innerHTML = docLinkHtml;\n",
              "          element.appendChild(docLink);\n",
              "        }\n",
              "      </script>\n",
              "    </div>\n",
              "  </div>\n",
              "  "
            ],
            "text/plain": [
              "  originAirportShortName   departd   returnd            airline  \\\n",
              "0                    CDG  20220201  20220301  Multiple Airlines   \n",
              "3                    ORY  20220201  20220301  Multiple Airlines   \n",
              "\n",
              "   flightInfo.price flightInfo.localizedPrice  flightInfo.priceUSD  \\\n",
              "0            322.97                      $323               322.97   \n",
              "3            301.28                      $301               301.28   \n",
              "\n",
              "   flightMaxStops  airport.latitude  airport.longitude airport.shortName  \\\n",
              "0               0          40.75096          -73.98741               NYC   \n",
              "3               0          40.75096          -73.98741               NYC   \n",
              "\n",
              "  city.name   country.name  distance  \n",
              "0  New York  United States      5829  \n",
              "3  New York  United States      5829  "
            ]
          },
          "metadata": {},
          "execution_count": 54
        }
      ],
      "source": [
        "df_paris['distance'] = df.apply(lambda row: haversine(row), axis=1)\n",
        "df_paris.head(2)"
      ]
    },
    {
      "cell_type": "markdown",
      "metadata": {
        "id": "lKsU-DoEsZlO"
      },
      "source": [
        "La deuxième méthode sera privilégiée car le nom des villes dans le data frame sont en anglais. Par exemple il est indiqué \"London\" et non \"Londres\", or cela pose un problème avec le site utilisé pour scrapper les distances car il n'accepte que des noms français. "
      ]
    },
    {
      "cell_type": "markdown",
      "metadata": {
        "id": "DnbzFgR8aJHy"
      },
      "source": [
        "## Statistiques descriptives <a name = \"paragraphe2\"></a>"
      ]
    },
    {
      "cell_type": "markdown",
      "metadata": {
        "id": "omtI2UcqaU8W"
      },
      "source": [
        "### Prix des vols en fonction de la destination (à date donnée : du 01/02 au 01/03) <a name = \"subparagraphe21\"></a>"
      ]
    },
    {
      "cell_type": "markdown",
      "metadata": {
        "id": "BXJaiF2UsZlP"
      },
      "source": [
        "Dans le dataframe, les nom des villes sont en anglais. On crée donc une liste de villes avec des noms en anglais"
      ]
    },
    {
      "cell_type": "code",
      "execution_count": 46,
      "metadata": {
        "id": "JCZIMVsysZlQ"
      },
      "outputs": [],
      "source": [
        "villes_en=[\"Agadir\",\"Amsterdam\",\"Antalya\",\"Athens\",\"Bangkok\",\"Barcelona\",\"Berlin\",\"Mumbai\",\n",
        "           \"Boston\",\"Budapest\",\"Canberra\",\"Casablanca\",\"Chicago\",\"Colombo\",\"Copenhagen\",\"Oslo\",\"Dubai\",\n",
        "           \"New Delhi\",\"Tunis\",\"Djibouti\",\"Dublin\",\"Edinburgh\",\"Helsinki\",\"Hong Kong\",\"Houston\",\"Jakarta\",\n",
        "           \"Johannesburg\",\"Kuala Lumpur\",\"Cairo\",\"Lisbon\",\"Montreal\",\"New York\",\"Rome\",\"Tokyo\",\n",
        "           \"Lagos\",'Port Louis',\"Nairobi\",\"Moscow\",\"Hanoi\",\"London\", \"Rio de Janeiro\",\"Liberia\",\n",
        "           \"Guadalajara\",\"Auckland\",\"Concepción\", \"Izmir\",\"Chicago\"]\n"
      ]
    },
    {
      "cell_type": "markdown",
      "metadata": {
        "id": "oHfP4_oTsZlT"
      },
      "source": [
        "Certaines grandes villes apparaissent dans plusieurs pays. Par exemple, il y a Rome en Italie et Rome aux Etats-Unis. Ces villes ne seront donc pas prises en compte. Il y a par exemple Buenos Aires (Argentine et Costa Rica), Sydney (Autralie et Canada)"
      ]
    },
    {
      "cell_type": "code",
      "execution_count": 47,
      "metadata": {
        "id": "CAseLvGosZlT",
        "outputId": "c1c10ae1-e6d7-4c24-8d64-bfd997573ad8",
        "colab": {
          "base_uri": "https://localhost:8080/"
        }
      },
      "outputs": [
        {
          "output_type": "execute_result",
          "data": {
            "text/plain": [
              "Italy            6\n",
              "United States    2\n",
              "Name: country.name, dtype: int64"
            ]
          },
          "metadata": {},
          "execution_count": 47
        }
      ],
      "source": [
        "df_paris[df_paris['city.name']==\"Rome\"]['country.name'].value_counts()"
      ]
    },
    {
      "cell_type": "markdown",
      "metadata": {
        "id": "Fp7KKoKcsZlU"
      },
      "source": [
        "* Calcul du prix moyen d'un billet"
      ]
    },
    {
      "cell_type": "code",
      "execution_count": 55,
      "metadata": {
        "id": "-bRFtSeJbs3q"
      },
      "outputs": [],
      "source": [
        "prix_moyen=[]\n",
        "nb=[]\n",
        "dist=[]\n",
        "for ville in villes_en : \n",
        "    p=df_paris[df_paris['city.name']==ville]['flightInfo.priceUSD'].astype(int).mean()\n",
        "    nbr=df_paris[df_paris['city.name']==ville]['flightInfo.priceUSD'].count()\n",
        "    distance=df_paris[df_paris['city.name']==ville]['distance'].iloc[0]\n",
        "    dist.append(distance)\n",
        "    nb.append(nbr)\n",
        "    prix_moyen.append(round(p))\n",
        "    "
      ]
    },
    {
      "cell_type": "markdown",
      "metadata": {
        "id": "fhaa_xQVsZlV"
      },
      "source": [
        "* On crée une liste de pays correspondant avec les villes sélectionnées"
      ]
    },
    {
      "cell_type": "code",
      "execution_count": 56,
      "metadata": {
        "id": "GSY83o5CsZlV"
      },
      "outputs": [],
      "source": [
        "pays=[]\n",
        "for ville in villes_en:\n",
        "    pays.append(df_paris[df_paris['city.name']==ville]['country.name'].iloc[0])"
      ]
    },
    {
      "cell_type": "markdown",
      "metadata": {
        "id": "jpKmqqT4sZlV"
      },
      "source": [
        "* Création d'un dataframe avec le prix et les villes "
      ]
    },
    {
      "cell_type": "code",
      "execution_count": 57,
      "metadata": {
        "id": "Qj39-yeGsZlW",
        "outputId": "d0d52475-0f82-4a76-b889-1050dcf36f35",
        "colab": {
          "base_uri": "https://localhost:8080/",
          "height": 1000
        }
      },
      "outputs": [
        {
          "output_type": "execute_result",
          "data": {
            "text/html": [
              "\n",
              "  <div id=\"df-6103196e-6d66-4195-8f24-89f284786d51\">\n",
              "    <div class=\"colab-df-container\">\n",
              "      <div>\n",
              "<style scoped>\n",
              "    .dataframe tbody tr th:only-of-type {\n",
              "        vertical-align: middle;\n",
              "    }\n",
              "\n",
              "    .dataframe tbody tr th {\n",
              "        vertical-align: top;\n",
              "    }\n",
              "\n",
              "    .dataframe thead th {\n",
              "        text-align: right;\n",
              "    }\n",
              "</style>\n",
              "<table border=\"1\" class=\"dataframe\">\n",
              "  <thead>\n",
              "    <tr style=\"text-align: right;\">\n",
              "      <th></th>\n",
              "      <th>Ville</th>\n",
              "      <th>Pays</th>\n",
              "      <th>Distance à Paris (km)</th>\n",
              "      <th>Prix moyen du vol en $</th>\n",
              "      <th>Nombre de vol</th>\n",
              "    </tr>\n",
              "  </thead>\n",
              "  <tbody>\n",
              "    <tr>\n",
              "      <th>9</th>\n",
              "      <td>Budapest</td>\n",
              "      <td>Hungary</td>\n",
              "      <td>1261</td>\n",
              "      <td>42</td>\n",
              "      <td>2</td>\n",
              "    </tr>\n",
              "    <tr>\n",
              "      <th>5</th>\n",
              "      <td>Barcelona</td>\n",
              "      <td>Spain</td>\n",
              "      <td>840</td>\n",
              "      <td>49</td>\n",
              "      <td>2</td>\n",
              "    </tr>\n",
              "    <tr>\n",
              "      <th>29</th>\n",
              "      <td>Lisbon</td>\n",
              "      <td>Portugal</td>\n",
              "      <td>1447</td>\n",
              "      <td>54</td>\n",
              "      <td>2</td>\n",
              "    </tr>\n",
              "    <tr>\n",
              "      <th>6</th>\n",
              "      <td>Berlin</td>\n",
              "      <td>Germany</td>\n",
              "      <td>876</td>\n",
              "      <td>66</td>\n",
              "      <td>2</td>\n",
              "    </tr>\n",
              "    <tr>\n",
              "      <th>20</th>\n",
              "      <td>Dublin</td>\n",
              "      <td>Ireland</td>\n",
              "      <td>785</td>\n",
              "      <td>66</td>\n",
              "      <td>2</td>\n",
              "    </tr>\n",
              "    <tr>\n",
              "      <th>21</th>\n",
              "      <td>Edinburgh</td>\n",
              "      <td>United Kingdom</td>\n",
              "      <td>878</td>\n",
              "      <td>74</td>\n",
              "      <td>2</td>\n",
              "    </tr>\n",
              "    <tr>\n",
              "      <th>14</th>\n",
              "      <td>Copenhagen</td>\n",
              "      <td>Denmark</td>\n",
              "      <td>1026</td>\n",
              "      <td>90</td>\n",
              "      <td>2</td>\n",
              "    </tr>\n",
              "    <tr>\n",
              "      <th>1</th>\n",
              "      <td>Amsterdam</td>\n",
              "      <td>Netherlands</td>\n",
              "      <td>420</td>\n",
              "      <td>96</td>\n",
              "      <td>2</td>\n",
              "    </tr>\n",
              "    <tr>\n",
              "      <th>3</th>\n",
              "      <td>Athens</td>\n",
              "      <td>Greece</td>\n",
              "      <td>2113</td>\n",
              "      <td>112</td>\n",
              "      <td>2</td>\n",
              "    </tr>\n",
              "    <tr>\n",
              "      <th>15</th>\n",
              "      <td>Oslo</td>\n",
              "      <td>Norway</td>\n",
              "      <td>1378</td>\n",
              "      <td>112</td>\n",
              "      <td>4</td>\n",
              "    </tr>\n",
              "    <tr>\n",
              "      <th>22</th>\n",
              "      <td>Helsinki</td>\n",
              "      <td>Finland</td>\n",
              "      <td>1917</td>\n",
              "      <td>134</td>\n",
              "      <td>2</td>\n",
              "    </tr>\n",
              "    <tr>\n",
              "      <th>18</th>\n",
              "      <td>Tunis</td>\n",
              "      <td>Tunisia</td>\n",
              "      <td>1479</td>\n",
              "      <td>148</td>\n",
              "      <td>2</td>\n",
              "    </tr>\n",
              "    <tr>\n",
              "      <th>45</th>\n",
              "      <td>Izmir</td>\n",
              "      <td>Turkey</td>\n",
              "      <td>2291</td>\n",
              "      <td>151</td>\n",
              "      <td>4</td>\n",
              "    </tr>\n",
              "    <tr>\n",
              "      <th>39</th>\n",
              "      <td>London</td>\n",
              "      <td>United Kingdom</td>\n",
              "      <td>343</td>\n",
              "      <td>152</td>\n",
              "      <td>16</td>\n",
              "    </tr>\n",
              "    <tr>\n",
              "      <th>2</th>\n",
              "      <td>Antalya</td>\n",
              "      <td>Turkey</td>\n",
              "      <td>2648</td>\n",
              "      <td>196</td>\n",
              "      <td>2</td>\n",
              "    </tr>\n",
              "    <tr>\n",
              "      <th>0</th>\n",
              "      <td>Agadir</td>\n",
              "      <td>Morocco</td>\n",
              "      <td>2286</td>\n",
              "      <td>198</td>\n",
              "      <td>2</td>\n",
              "    </tr>\n",
              "    <tr>\n",
              "      <th>32</th>\n",
              "      <td>Rome</td>\n",
              "      <td>Italy</td>\n",
              "      <td>1105</td>\n",
              "      <td>245</td>\n",
              "      <td>8</td>\n",
              "    </tr>\n",
              "    <tr>\n",
              "      <th>11</th>\n",
              "      <td>Casablanca</td>\n",
              "      <td>Morocco</td>\n",
              "      <td>1908</td>\n",
              "      <td>246</td>\n",
              "      <td>2</td>\n",
              "    </tr>\n",
              "    <tr>\n",
              "      <th>28</th>\n",
              "      <td>Cairo</td>\n",
              "      <td>Egypt</td>\n",
              "      <td>3213</td>\n",
              "      <td>298</td>\n",
              "      <td>2</td>\n",
              "    </tr>\n",
              "    <tr>\n",
              "      <th>37</th>\n",
              "      <td>Moscow</td>\n",
              "      <td>Russia</td>\n",
              "      <td>2485</td>\n",
              "      <td>307</td>\n",
              "      <td>10</td>\n",
              "    </tr>\n",
              "    <tr>\n",
              "      <th>30</th>\n",
              "      <td>Montreal</td>\n",
              "      <td>Canada</td>\n",
              "      <td>5502</td>\n",
              "      <td>422</td>\n",
              "      <td>4</td>\n",
              "    </tr>\n",
              "    <tr>\n",
              "      <th>16</th>\n",
              "      <td>Dubai</td>\n",
              "      <td>United Arab Emirates</td>\n",
              "      <td>5260</td>\n",
              "      <td>442</td>\n",
              "      <td>2</td>\n",
              "    </tr>\n",
              "    <tr>\n",
              "      <th>46</th>\n",
              "      <td>Chicago</td>\n",
              "      <td>United States</td>\n",
              "      <td>6656</td>\n",
              "      <td>511</td>\n",
              "      <td>8</td>\n",
              "    </tr>\n",
              "    <tr>\n",
              "      <th>12</th>\n",
              "      <td>Chicago</td>\n",
              "      <td>United States</td>\n",
              "      <td>6656</td>\n",
              "      <td>511</td>\n",
              "      <td>8</td>\n",
              "    </tr>\n",
              "    <tr>\n",
              "      <th>23</th>\n",
              "      <td>Hong Kong</td>\n",
              "      <td>Hong Kong</td>\n",
              "      <td>9606</td>\n",
              "      <td>528</td>\n",
              "      <td>2</td>\n",
              "    </tr>\n",
              "    <tr>\n",
              "      <th>17</th>\n",
              "      <td>New Delhi</td>\n",
              "      <td>India</td>\n",
              "      <td>6579</td>\n",
              "      <td>534</td>\n",
              "      <td>2</td>\n",
              "    </tr>\n",
              "    <tr>\n",
              "      <th>24</th>\n",
              "      <td>Houston</td>\n",
              "      <td>United States</td>\n",
              "      <td>8084</td>\n",
              "      <td>546</td>\n",
              "      <td>4</td>\n",
              "    </tr>\n",
              "    <tr>\n",
              "      <th>31</th>\n",
              "      <td>New York</td>\n",
              "      <td>United States</td>\n",
              "      <td>5829</td>\n",
              "      <td>562</td>\n",
              "      <td>4</td>\n",
              "    </tr>\n",
              "    <tr>\n",
              "      <th>34</th>\n",
              "      <td>Lagos</td>\n",
              "      <td>Nigeria</td>\n",
              "      <td>4699</td>\n",
              "      <td>570</td>\n",
              "      <td>2</td>\n",
              "    </tr>\n",
              "    <tr>\n",
              "      <th>42</th>\n",
              "      <td>Guadalajara</td>\n",
              "      <td>Mexico</td>\n",
              "      <td>9378</td>\n",
              "      <td>579</td>\n",
              "      <td>2</td>\n",
              "    </tr>\n",
              "    <tr>\n",
              "      <th>7</th>\n",
              "      <td>Mumbai</td>\n",
              "      <td>India</td>\n",
              "      <td>7003</td>\n",
              "      <td>588</td>\n",
              "      <td>2</td>\n",
              "    </tr>\n",
              "    <tr>\n",
              "      <th>41</th>\n",
              "      <td>Liberia</td>\n",
              "      <td>Costa Rica</td>\n",
              "      <td>8964</td>\n",
              "      <td>591</td>\n",
              "      <td>2</td>\n",
              "    </tr>\n",
              "    <tr>\n",
              "      <th>19</th>\n",
              "      <td>Djibouti</td>\n",
              "      <td>Djibouti</td>\n",
              "      <td>5591</td>\n",
              "      <td>609</td>\n",
              "      <td>2</td>\n",
              "    </tr>\n",
              "    <tr>\n",
              "      <th>33</th>\n",
              "      <td>Tokyo</td>\n",
              "      <td>Japan</td>\n",
              "      <td>9706</td>\n",
              "      <td>629</td>\n",
              "      <td>6</td>\n",
              "    </tr>\n",
              "    <tr>\n",
              "      <th>8</th>\n",
              "      <td>Boston</td>\n",
              "      <td>United States</td>\n",
              "      <td>5524</td>\n",
              "      <td>634</td>\n",
              "      <td>4</td>\n",
              "    </tr>\n",
              "    <tr>\n",
              "      <th>40</th>\n",
              "      <td>Rio de Janeiro</td>\n",
              "      <td>Brazil</td>\n",
              "      <td>9163</td>\n",
              "      <td>642</td>\n",
              "      <td>6</td>\n",
              "    </tr>\n",
              "    <tr>\n",
              "      <th>26</th>\n",
              "      <td>Johannesburg</td>\n",
              "      <td>South Africa</td>\n",
              "      <td>8721</td>\n",
              "      <td>643</td>\n",
              "      <td>4</td>\n",
              "    </tr>\n",
              "    <tr>\n",
              "      <th>36</th>\n",
              "      <td>Nairobi</td>\n",
              "      <td>Kenya</td>\n",
              "      <td>6489</td>\n",
              "      <td>650</td>\n",
              "      <td>4</td>\n",
              "    </tr>\n",
              "    <tr>\n",
              "      <th>35</th>\n",
              "      <td>Port Louis</td>\n",
              "      <td>Mauritius</td>\n",
              "      <td>9442</td>\n",
              "      <td>667</td>\n",
              "      <td>2</td>\n",
              "    </tr>\n",
              "    <tr>\n",
              "      <th>4</th>\n",
              "      <td>Bangkok</td>\n",
              "      <td>Thailand</td>\n",
              "      <td>9432</td>\n",
              "      <td>688</td>\n",
              "      <td>2</td>\n",
              "    </tr>\n",
              "    <tr>\n",
              "      <th>27</th>\n",
              "      <td>Kuala Lumpur</td>\n",
              "      <td>Malaysia</td>\n",
              "      <td>10453</td>\n",
              "      <td>732</td>\n",
              "      <td>4</td>\n",
              "    </tr>\n",
              "    <tr>\n",
              "      <th>25</th>\n",
              "      <td>Jakarta</td>\n",
              "      <td>Indonesia</td>\n",
              "      <td>11579</td>\n",
              "      <td>843</td>\n",
              "      <td>4</td>\n",
              "    </tr>\n",
              "    <tr>\n",
              "      <th>13</th>\n",
              "      <td>Colombo</td>\n",
              "      <td>Sri Lanka</td>\n",
              "      <td>8516</td>\n",
              "      <td>918</td>\n",
              "      <td>2</td>\n",
              "    </tr>\n",
              "    <tr>\n",
              "      <th>38</th>\n",
              "      <td>Hanoi</td>\n",
              "      <td>Vietnam</td>\n",
              "      <td>9172</td>\n",
              "      <td>1027</td>\n",
              "      <td>2</td>\n",
              "    </tr>\n",
              "    <tr>\n",
              "      <th>44</th>\n",
              "      <td>Concepción</td>\n",
              "      <td>Chile</td>\n",
              "      <td>12062</td>\n",
              "      <td>1094</td>\n",
              "      <td>2</td>\n",
              "    </tr>\n",
              "    <tr>\n",
              "      <th>43</th>\n",
              "      <td>Auckland</td>\n",
              "      <td>New Zealand</td>\n",
              "      <td>18551</td>\n",
              "      <td>1290</td>\n",
              "      <td>2</td>\n",
              "    </tr>\n",
              "    <tr>\n",
              "      <th>10</th>\n",
              "      <td>Canberra</td>\n",
              "      <td>Australia</td>\n",
              "      <td>16916</td>\n",
              "      <td>1531</td>\n",
              "      <td>2</td>\n",
              "    </tr>\n",
              "  </tbody>\n",
              "</table>\n",
              "</div>\n",
              "      <button class=\"colab-df-convert\" onclick=\"convertToInteractive('df-6103196e-6d66-4195-8f24-89f284786d51')\"\n",
              "              title=\"Convert this dataframe to an interactive table.\"\n",
              "              style=\"display:none;\">\n",
              "        \n",
              "  <svg xmlns=\"http://www.w3.org/2000/svg\" height=\"24px\"viewBox=\"0 0 24 24\"\n",
              "       width=\"24px\">\n",
              "    <path d=\"M0 0h24v24H0V0z\" fill=\"none\"/>\n",
              "    <path d=\"M18.56 5.44l.94 2.06.94-2.06 2.06-.94-2.06-.94-.94-2.06-.94 2.06-2.06.94zm-11 1L8.5 8.5l.94-2.06 2.06-.94-2.06-.94L8.5 2.5l-.94 2.06-2.06.94zm10 10l.94 2.06.94-2.06 2.06-.94-2.06-.94-.94-2.06-.94 2.06-2.06.94z\"/><path d=\"M17.41 7.96l-1.37-1.37c-.4-.4-.92-.59-1.43-.59-.52 0-1.04.2-1.43.59L10.3 9.45l-7.72 7.72c-.78.78-.78 2.05 0 2.83L4 21.41c.39.39.9.59 1.41.59.51 0 1.02-.2 1.41-.59l7.78-7.78 2.81-2.81c.8-.78.8-2.07 0-2.86zM5.41 20L4 18.59l7.72-7.72 1.47 1.35L5.41 20z\"/>\n",
              "  </svg>\n",
              "      </button>\n",
              "      \n",
              "  <style>\n",
              "    .colab-df-container {\n",
              "      display:flex;\n",
              "      flex-wrap:wrap;\n",
              "      gap: 12px;\n",
              "    }\n",
              "\n",
              "    .colab-df-convert {\n",
              "      background-color: #E8F0FE;\n",
              "      border: none;\n",
              "      border-radius: 50%;\n",
              "      cursor: pointer;\n",
              "      display: none;\n",
              "      fill: #1967D2;\n",
              "      height: 32px;\n",
              "      padding: 0 0 0 0;\n",
              "      width: 32px;\n",
              "    }\n",
              "\n",
              "    .colab-df-convert:hover {\n",
              "      background-color: #E2EBFA;\n",
              "      box-shadow: 0px 1px 2px rgba(60, 64, 67, 0.3), 0px 1px 3px 1px rgba(60, 64, 67, 0.15);\n",
              "      fill: #174EA6;\n",
              "    }\n",
              "\n",
              "    [theme=dark] .colab-df-convert {\n",
              "      background-color: #3B4455;\n",
              "      fill: #D2E3FC;\n",
              "    }\n",
              "\n",
              "    [theme=dark] .colab-df-convert:hover {\n",
              "      background-color: #434B5C;\n",
              "      box-shadow: 0px 1px 3px 1px rgba(0, 0, 0, 0.15);\n",
              "      filter: drop-shadow(0px 1px 2px rgba(0, 0, 0, 0.3));\n",
              "      fill: #FFFFFF;\n",
              "    }\n",
              "  </style>\n",
              "\n",
              "      <script>\n",
              "        const buttonEl =\n",
              "          document.querySelector('#df-6103196e-6d66-4195-8f24-89f284786d51 button.colab-df-convert');\n",
              "        buttonEl.style.display =\n",
              "          google.colab.kernel.accessAllowed ? 'block' : 'none';\n",
              "\n",
              "        async function convertToInteractive(key) {\n",
              "          const element = document.querySelector('#df-6103196e-6d66-4195-8f24-89f284786d51');\n",
              "          const dataTable =\n",
              "            await google.colab.kernel.invokeFunction('convertToInteractive',\n",
              "                                                     [key], {});\n",
              "          if (!dataTable) return;\n",
              "\n",
              "          const docLinkHtml = 'Like what you see? Visit the ' +\n",
              "            '<a target=\"_blank\" href=https://colab.research.google.com/notebooks/data_table.ipynb>data table notebook</a>'\n",
              "            + ' to learn more about interactive tables.';\n",
              "          element.innerHTML = '';\n",
              "          dataTable['output_type'] = 'display_data';\n",
              "          await google.colab.output.renderOutput(dataTable, element);\n",
              "          const docLink = document.createElement('div');\n",
              "          docLink.innerHTML = docLinkHtml;\n",
              "          element.appendChild(docLink);\n",
              "        }\n",
              "      </script>\n",
              "    </div>\n",
              "  </div>\n",
              "  "
            ],
            "text/plain": [
              "             Ville                  Pays Distance à Paris (km)  \\\n",
              "9         Budapest               Hungary                  1261   \n",
              "5        Barcelona                 Spain                   840   \n",
              "29          Lisbon              Portugal                  1447   \n",
              "6           Berlin               Germany                   876   \n",
              "20          Dublin               Ireland                   785   \n",
              "21       Edinburgh        United Kingdom                   878   \n",
              "14      Copenhagen               Denmark                  1026   \n",
              "1        Amsterdam           Netherlands                   420   \n",
              "3           Athens                Greece                  2113   \n",
              "15            Oslo                Norway                  1378   \n",
              "22        Helsinki               Finland                  1917   \n",
              "18           Tunis               Tunisia                  1479   \n",
              "45           Izmir                Turkey                  2291   \n",
              "39          London        United Kingdom                   343   \n",
              "2          Antalya                Turkey                  2648   \n",
              "0           Agadir               Morocco                  2286   \n",
              "32            Rome                 Italy                  1105   \n",
              "11      Casablanca               Morocco                  1908   \n",
              "28           Cairo                 Egypt                  3213   \n",
              "37          Moscow                Russia                  2485   \n",
              "30        Montreal                Canada                  5502   \n",
              "16           Dubai  United Arab Emirates                  5260   \n",
              "46         Chicago         United States                  6656   \n",
              "12         Chicago         United States                  6656   \n",
              "23       Hong Kong             Hong Kong                  9606   \n",
              "17       New Delhi                 India                  6579   \n",
              "24         Houston         United States                  8084   \n",
              "31        New York         United States                  5829   \n",
              "34           Lagos               Nigeria                  4699   \n",
              "42     Guadalajara                Mexico                  9378   \n",
              "7           Mumbai                 India                  7003   \n",
              "41         Liberia            Costa Rica                  8964   \n",
              "19        Djibouti              Djibouti                  5591   \n",
              "33           Tokyo                 Japan                  9706   \n",
              "8           Boston         United States                  5524   \n",
              "40  Rio de Janeiro                Brazil                  9163   \n",
              "26    Johannesburg          South Africa                  8721   \n",
              "36         Nairobi                 Kenya                  6489   \n",
              "35      Port Louis             Mauritius                  9442   \n",
              "4          Bangkok              Thailand                  9432   \n",
              "27    Kuala Lumpur              Malaysia                 10453   \n",
              "25         Jakarta             Indonesia                 11579   \n",
              "13         Colombo             Sri Lanka                  8516   \n",
              "38           Hanoi               Vietnam                  9172   \n",
              "44      Concepción                 Chile                 12062   \n",
              "43        Auckland           New Zealand                 18551   \n",
              "10        Canberra             Australia                 16916   \n",
              "\n",
              "    Prix moyen du vol en $ Nombre de vol  \n",
              "9                       42             2  \n",
              "5                       49             2  \n",
              "29                      54             2  \n",
              "6                       66             2  \n",
              "20                      66             2  \n",
              "21                      74             2  \n",
              "14                      90             2  \n",
              "1                       96             2  \n",
              "3                      112             2  \n",
              "15                     112             4  \n",
              "22                     134             2  \n",
              "18                     148             2  \n",
              "45                     151             4  \n",
              "39                     152            16  \n",
              "2                      196             2  \n",
              "0                      198             2  \n",
              "32                     245             8  \n",
              "11                     246             2  \n",
              "28                     298             2  \n",
              "37                     307            10  \n",
              "30                     422             4  \n",
              "16                     442             2  \n",
              "46                     511             8  \n",
              "12                     511             8  \n",
              "23                     528             2  \n",
              "17                     534             2  \n",
              "24                     546             4  \n",
              "31                     562             4  \n",
              "34                     570             2  \n",
              "42                     579             2  \n",
              "7                      588             2  \n",
              "41                     591             2  \n",
              "19                     609             2  \n",
              "33                     629             6  \n",
              "8                      634             4  \n",
              "40                     642             6  \n",
              "26                     643             4  \n",
              "36                     650             4  \n",
              "35                     667             2  \n",
              "4                      688             2  \n",
              "27                     732             4  \n",
              "25                     843             4  \n",
              "13                     918             2  \n",
              "38                    1027             2  \n",
              "44                    1094             2  \n",
              "43                    1290             2  \n",
              "10                    1531             2  "
            ]
          },
          "metadata": {},
          "execution_count": 57
        }
      ],
      "source": [
        "list_prix=np.array([villes_en,pays,dist,prix_moyen,nb]).T\n",
        "df_prix=pd.DataFrame(list_prix)\n",
        "df_prix.columns=['Ville','Pays','Distance à Paris (km)','Prix moyen du vol en $','Nombre de vol']\n",
        "df_prix['Prix moyen du vol en $']=df_prix['Prix moyen du vol en $'].astype(str).astype(int)\n",
        "df_prix.sort_values(by=['Prix moyen du vol en $']) #prix triés de façon croissante\n"
      ]
    },
    {
      "cell_type": "markdown",
      "metadata": {
        "id": "R7lq0hZ-JhEr"
      },
      "source": [
        "**Remarque :** Certaines destinations présentes ne sont proposées que via un seul vol. Par exemple, il n'y a qu'un vol pour Amman au départ de Paris. Le calcul du prix moyen pour ces destinations n'a donc pas un très grand sens. "
      ]
    },
    {
      "cell_type": "markdown",
      "metadata": {
        "id": "GOAGGN_5sZlX"
      },
      "source": [
        "* On importe un fichier .csv qui contient une liste de pays avec leur continent. Cela permettra d'indiquer dans le dataframe précédent le continent pour chaque pays. "
      ]
    },
    {
      "cell_type": "code",
      "execution_count": 59,
      "metadata": {
        "id": "oqLN60a3sZlX",
        "outputId": "1519d293-50c7-4105-aa70-9ec035a72e06",
        "colab": {
          "base_uri": "https://localhost:8080/"
        }
      },
      "outputs": [
        {
          "output_type": "execute_result",
          "data": {
            "text/plain": [
              "Europe           13\n",
              "Asia             11\n",
              "Africa            9\n",
              "North America     8\n",
              "Oceania           2\n",
              "South America     2\n",
              "Name: Continent, dtype: int64"
            ]
          },
          "metadata": {},
          "execution_count": 59
        }
      ],
      "source": [
        "df_cont=pd.read_csv(\"https://raw.githubusercontent.com/laurabrmi/Python-pour-le-data-scientist/main/pays_continent.csv\") \n",
        "df_prix_cont=df_prix.merge(df_cont,on='Pays')\n",
        "df_prix_cont['Continent'].value_counts()"
      ]
    },
    {
      "cell_type": "markdown",
      "metadata": {
        "id": "XLhy8NgRsZlX"
      },
      "source": [
        "Il y a très peu de pays représentés en Océanie, ou en Amériquer du Sud. Les destinations de notre base de données sont principalement situées en Europe, Asie ou Afrique."
      ]
    },
    {
      "cell_type": "markdown",
      "metadata": {
        "id": "4fCKG8XwsZlY"
      },
      "source": [
        "* On réalise ensuite des graphiques de statistiques descriptives :\n",
        "\n",
        "\n"
      ]
    },
    {
      "cell_type": "code",
      "execution_count": 60,
      "metadata": {
        "id": "Fn0APSumsZlZ",
        "outputId": "c400265a-9ba6-43fc-97ee-d9b7444399b7",
        "colab": {
          "base_uri": "https://localhost:8080/",
          "height": 425
        }
      },
      "outputs": [
        {
          "output_type": "execute_result",
          "data": {
            "text/plain": [
              "<matplotlib.axes._subplots.AxesSubplot at 0x7fe4d48fb7d0>"
            ]
          },
          "metadata": {},
          "execution_count": 60
        },
        {
          "output_type": "display_data",
          "data": {
            "image/png": "[encoded data removed]",
            "text/plain": [
              "<Figure size 720x360 with 1 Axes>"
            ]
          },
          "metadata": {
            "needs_background": "light"
          }
        }
      ],
      "source": [
        "import matplotlib.pyplot as plt \n",
        "\n",
        "df1=df_prix.groupby(\"Ville\").sum()['Prix moyen du vol en $']\n",
        "df1.plot(kind = \"bar\",xlabel=\"Villes\",ylabel=\"Prix aller-retour\",title=\"Prix moyen du vol en $ au départ de Paris\",figsize=(10, 5))\n",
        "# remarque : il y a peut être un peu trop de ville, ce n'est pas très lisible "
      ]
    },
    {
      "cell_type": "markdown",
      "metadata": {
        "id": "IZ-glPp6sZlb"
      },
      "source": [
        "Les prix les moins chers au départ de Paris sont à destination de villes d'Europe (ex: Budapest, Barlecone, Dublin, Berlin ...). Canberra est la destination dont le prix moyen est le plus cher 1573 \\$  au départ de Roissy Charles de Gaulle ou d'Orly. Budapest est la destination la moins chère avec un aller-retour en moyenne qui coûte 49 \\$. Ces prix moyens ne reflètent pas nécessairement la réalité car il y a très peu d'effctif pour avoir des résultats significatifs. "
      ]
    },
    {
      "cell_type": "markdown",
      "source": [
        "* On affiche les 10 villes les moins chères au départ de Paris "
      ],
      "metadata": {
        "id": "S1BmYLTXVJCW"
      }
    },
    {
      "cell_type": "code",
      "execution_count": 61,
      "metadata": {
        "id": "hHdciuHf6ih5",
        "outputId": "866615f3-5fbb-42d3-d9d1-55e2ec676991",
        "colab": {
          "base_uri": "https://localhost:8080/",
          "height": 365
        }
      },
      "outputs": [
        {
          "output_type": "execute_result",
          "data": {
            "text/plain": [
              "<matplotlib.axes._subplots.AxesSubplot at 0x7fe4d5291a10>"
            ]
          },
          "metadata": {},
          "execution_count": 61
        },
        {
          "output_type": "display_data",
          "data": {
            "image/png": "[encoded data removed]",
            "text/plain": [
              "<Figure size 432x288 with 1 Axes>"
            ]
          },
          "metadata": {
            "needs_background": "light"
          }
        }
      ],
      "source": [
        "df2=df_prix.groupby(\"Ville\").sum()['Prix moyen du vol en $'].sort_values(ascending=True)\n",
        "df2.head(10).plot(kind = \"bar\",xlabel=\"Villes\",ylabel=\"Prix aller-retour\",title=\"Les 10 villes dont le prix est le moins cher au départ de Paris\")"
      ]
    },
    {
      "cell_type": "markdown",
      "metadata": {
        "id": "-G-eK2iW6ih5"
      },
      "source": [
        "Les 10 destinations les moins chères sont situées en Europe "
      ]
    },
    {
      "cell_type": "markdown",
      "source": [
        "* On affiche les 10 villes les plus chères au départ de Paris"
      ],
      "metadata": {
        "id": "PREDqkPFVShM"
      }
    },
    {
      "cell_type": "code",
      "execution_count": null,
      "metadata": {
        "id": "3wvYO7oq6ih5",
        "outputId": "940a35f4-8a49-4ae3-9bfe-29d1b9763958"
      },
      "outputs": [
        {
          "data": {
            "text/plain": [
              "<AxesSubplot:title={'center':'Les 10 villes dont le prix est le plus cher au départ de Paris'}, xlabel='Villes', ylabel='Prix aller-retour'>"
            ]
          },
          "execution_count": 194,
          "metadata": {},
          "output_type": "execute_result"
        },
        {
          "data": {
            "image/png": "[encoded data removed]",
            "text/plain": [
              "<Figure size 432x288 with 1 Axes>"
            ]
          },
          "metadata": {
            "needs_background": "light"
          },
          "output_type": "display_data"
        }
      ],
      "source": [
        "df3=df_prix.groupby(\"Ville\").sum()['Prix moyen du vol en $'].sort_values(ascending=False)\n",
        "df3.head(10).plot(kind = \"bar\",xlabel=\"Villes\",ylabel=\"Prix aller-retour\",title=\"Les 10 villes dont le prix est le plus cher au départ de Paris\")"
      ]
    },
    {
      "cell_type": "markdown",
      "metadata": {
        "id": "7Zt8mfSJ6ih5"
      },
      "source": [
        "Les 10 villes les plus chères se situent au niveau de tous les continents sauf l'Europe. Les deux destinations les plus chères (Canberra et Auckland) sont situées en Océanie. "
      ]
    },
    {
      "cell_type": "markdown",
      "metadata": {
        "id": "kuv9qpyLsZlb"
      },
      "source": [
        "* On s'intéresse maintenant plus spécifiquement à des villes aux Etats-Unis : New York, Los Angeles, Miami et Las Vegas."
      ]
    },
    {
      "cell_type": "code",
      "execution_count": 62,
      "metadata": {
        "id": "HSt8kI1jsZlc"
      },
      "outputs": [],
      "source": [
        "villes_usa=[\"New York\",\"Chicago\",\"Miami\",\"Las Vegas\"]\n",
        "\n",
        "prix_moyen_USA=[]\n",
        "nb_usa=[]\n",
        "dist_usa=[]\n",
        "for ville in villes_usa : \n",
        "    p=df_paris[df_paris['city.name']==ville]['flightInfo.priceUSD'].astype(int).mean()\n",
        "    nbr=df_paris[df_paris['city.name']==ville]['flightInfo.priceUSD'].count()\n",
        "    distance=df_paris[df_paris['city.name']==ville]['distance'].iloc[0]\n",
        "    nb_usa.append(nbr)\n",
        "    dist_usa.append(distance)\n",
        "    prix_moyen_USA.append(round(p))\n"
      ]
    },
    {
      "cell_type": "markdown",
      "source": [
        "On crée un dataframe pour les villes américaines"
      ],
      "metadata": {
        "id": "3rF9i18wVat4"
      }
    },
    {
      "cell_type": "code",
      "execution_count": 63,
      "metadata": {
        "id": "tjiUHHC8sZlc",
        "outputId": "90fcdf9a-ea39-458b-9727-cfbc35749415",
        "colab": {
          "base_uri": "https://localhost:8080/",
          "height": 175
        }
      },
      "outputs": [
        {
          "output_type": "execute_result",
          "data": {
            "text/html": [
              "\n",
              "  <div id=\"df-291b2fea-00ad-4ea6-a359-3fc682070fd1\">\n",
              "    <div class=\"colab-df-container\">\n",
              "      <div>\n",
              "<style scoped>\n",
              "    .dataframe tbody tr th:only-of-type {\n",
              "        vertical-align: middle;\n",
              "    }\n",
              "\n",
              "    .dataframe tbody tr th {\n",
              "        vertical-align: top;\n",
              "    }\n",
              "\n",
              "    .dataframe thead th {\n",
              "        text-align: right;\n",
              "    }\n",
              "</style>\n",
              "<table border=\"1\" class=\"dataframe\">\n",
              "  <thead>\n",
              "    <tr style=\"text-align: right;\">\n",
              "      <th></th>\n",
              "      <th>Ville</th>\n",
              "      <th>Prix moyen du vol en $</th>\n",
              "      <th>Distance à Paris (km)</th>\n",
              "      <th>Nombre de vol</th>\n",
              "    </tr>\n",
              "  </thead>\n",
              "  <tbody>\n",
              "    <tr>\n",
              "      <th>2</th>\n",
              "      <td>Miami</td>\n",
              "      <td>373</td>\n",
              "      <td>7356</td>\n",
              "      <td>2</td>\n",
              "    </tr>\n",
              "    <tr>\n",
              "      <th>1</th>\n",
              "      <td>Chicago</td>\n",
              "      <td>511</td>\n",
              "      <td>6656</td>\n",
              "      <td>8</td>\n",
              "    </tr>\n",
              "    <tr>\n",
              "      <th>0</th>\n",
              "      <td>New York</td>\n",
              "      <td>562</td>\n",
              "      <td>5829</td>\n",
              "      <td>4</td>\n",
              "    </tr>\n",
              "    <tr>\n",
              "      <th>3</th>\n",
              "      <td>Las Vegas</td>\n",
              "      <td>645</td>\n",
              "      <td>8732</td>\n",
              "      <td>4</td>\n",
              "    </tr>\n",
              "  </tbody>\n",
              "</table>\n",
              "</div>\n",
              "      <button class=\"colab-df-convert\" onclick=\"convertToInteractive('df-291b2fea-00ad-4ea6-a359-3fc682070fd1')\"\n",
              "              title=\"Convert this dataframe to an interactive table.\"\n",
              "              style=\"display:none;\">\n",
              "        \n",
              "  <svg xmlns=\"http://www.w3.org/2000/svg\" height=\"24px\"viewBox=\"0 0 24 24\"\n",
              "       width=\"24px\">\n",
              "    <path d=\"M0 0h24v24H0V0z\" fill=\"none\"/>\n",
              "    <path d=\"M18.56 5.44l.94 2.06.94-2.06 2.06-.94-2.06-.94-.94-2.06-.94 2.06-2.06.94zm-11 1L8.5 8.5l.94-2.06 2.06-.94-2.06-.94L8.5 2.5l-.94 2.06-2.06.94zm10 10l.94 2.06.94-2.06 2.06-.94-2.06-.94-.94-2.06-.94 2.06-2.06.94z\"/><path d=\"M17.41 7.96l-1.37-1.37c-.4-.4-.92-.59-1.43-.59-.52 0-1.04.2-1.43.59L10.3 9.45l-7.72 7.72c-.78.78-.78 2.05 0 2.83L4 21.41c.39.39.9.59 1.41.59.51 0 1.02-.2 1.41-.59l7.78-7.78 2.81-2.81c.8-.78.8-2.07 0-2.86zM5.41 20L4 18.59l7.72-7.72 1.47 1.35L5.41 20z\"/>\n",
              "  </svg>\n",
              "      </button>\n",
              "      \n",
              "  <style>\n",
              "    .colab-df-container {\n",
              "      display:flex;\n",
              "      flex-wrap:wrap;\n",
              "      gap: 12px;\n",
              "    }\n",
              "\n",
              "    .colab-df-convert {\n",
              "      background-color: #E8F0FE;\n",
              "      border: none;\n",
              "      border-radius: 50%;\n",
              "      cursor: pointer;\n",
              "      display: none;\n",
              "      fill: #1967D2;\n",
              "      height: 32px;\n",
              "      padding: 0 0 0 0;\n",
              "      width: 32px;\n",
              "    }\n",
              "\n",
              "    .colab-df-convert:hover {\n",
              "      background-color: #E2EBFA;\n",
              "      box-shadow: 0px 1px 2px rgba(60, 64, 67, 0.3), 0px 1px 3px 1px rgba(60, 64, 67, 0.15);\n",
              "      fill: #174EA6;\n",
              "    }\n",
              "\n",
              "    [theme=dark] .colab-df-convert {\n",
              "      background-color: #3B4455;\n",
              "      fill: #D2E3FC;\n",
              "    }\n",
              "\n",
              "    [theme=dark] .colab-df-convert:hover {\n",
              "      background-color: #434B5C;\n",
              "      box-shadow: 0px 1px 3px 1px rgba(0, 0, 0, 0.15);\n",
              "      filter: drop-shadow(0px 1px 2px rgba(0, 0, 0, 0.3));\n",
              "      fill: #FFFFFF;\n",
              "    }\n",
              "  </style>\n",
              "\n",
              "      <script>\n",
              "        const buttonEl =\n",
              "          document.querySelector('#df-291b2fea-00ad-4ea6-a359-3fc682070fd1 button.colab-df-convert');\n",
              "        buttonEl.style.display =\n",
              "          google.colab.kernel.accessAllowed ? 'block' : 'none';\n",
              "\n",
              "        async function convertToInteractive(key) {\n",
              "          const element = document.querySelector('#df-291b2fea-00ad-4ea6-a359-3fc682070fd1');\n",
              "          const dataTable =\n",
              "            await google.colab.kernel.invokeFunction('convertToInteractive',\n",
              "                                                     [key], {});\n",
              "          if (!dataTable) return;\n",
              "\n",
              "          const docLinkHtml = 'Like what you see? Visit the ' +\n",
              "            '<a target=\"_blank\" href=https://colab.research.google.com/notebooks/data_table.ipynb>data table notebook</a>'\n",
              "            + ' to learn more about interactive tables.';\n",
              "          element.innerHTML = '';\n",
              "          dataTable['output_type'] = 'display_data';\n",
              "          await google.colab.output.renderOutput(dataTable, element);\n",
              "          const docLink = document.createElement('div');\n",
              "          docLink.innerHTML = docLinkHtml;\n",
              "          element.appendChild(docLink);\n",
              "        }\n",
              "      </script>\n",
              "    </div>\n",
              "  </div>\n",
              "  "
            ],
            "text/plain": [
              "       Ville  Prix moyen du vol en $ Distance à Paris (km) Nombre de vol\n",
              "2      Miami                     373                  7356             2\n",
              "1    Chicago                     511                  6656             8\n",
              "0   New York                     562                  5829             4\n",
              "3  Las Vegas                     645                  8732             4"
            ]
          },
          "metadata": {},
          "execution_count": 63
        }
      ],
      "source": [
        "list_prix_usa=np.array([villes_usa,prix_moyen_USA,dist_usa,nb_usa]).T\n",
        "df_prix_usa=pd.DataFrame(list_prix_usa)\n",
        "df_prix_usa.columns=['Ville','Prix moyen du vol en $','Distance à Paris (km)','Nombre de vol']\n",
        "df_prix_usa['Prix moyen du vol en $']=df_prix_usa['Prix moyen du vol en $'].astype(str).astype(int)\n",
        "df_prix_usa.sort_values(by=['Prix moyen du vol en $'])"
      ]
    },
    {
      "cell_type": "markdown",
      "metadata": {
        "id": "f1g39I3YJhEu"
      },
      "source": [
        "New-York est la ville américaine la plus desservie au départ de Paris. 6 vols sont proposés pendant la période étudiée."
      ]
    },
    {
      "cell_type": "code",
      "execution_count": null,
      "metadata": {
        "id": "JraLzcgcsZlc",
        "outputId": "35191f05-f743-4a15-f968-fd8be639d9bb"
      },
      "outputs": [
        {
          "data": {
            "text/plain": [
              "<AxesSubplot:title={'center':'Prix moyen du vol en $ au départ de Paris'}, xlabel='Villes américaines', ylabel='Prix aller-retour'>"
            ]
          },
          "execution_count": 198,
          "metadata": {},
          "output_type": "execute_result"
        },
        {
          "data": {
            "image/png": "[encoded data removed]",
            "text/plain": [
              "<Figure size 432x288 with 1 Axes>"
            ]
          },
          "metadata": {
            "needs_background": "light"
          },
          "output_type": "display_data"
        }
      ],
      "source": [
        "df1=df_prix_usa.groupby(\"Ville\").sum()['Prix moyen du vol en $'].sort_values()\n",
        "df1.plot(kind = \"bar\",xlabel=\"Villes américaines\",ylabel=\"Prix aller-retour\",title=\"Prix moyen du vol en $ au départ de Paris\")"
      ]
    },
    {
      "cell_type": "markdown",
      "metadata": {
        "id": "aZ9PULYBsZlc"
      },
      "source": [
        "Miami est la ville dont le prix moyen aller-retour de Paris est le moins cher (373 $), mais ce n'est pas la ville qui est la plus proche de Paris. Elle se trouve à 7356 km alors que New-York est à 5829 km. On peut se demander s'il existe une corrélation entre le prix et la distance. On étudiera cette corrélation dans la partie modélisation de ce projet.\n"
      ]
    },
    {
      "cell_type": "markdown",
      "metadata": {
        "id": "2V48BdyWa_A5"
      },
      "source": [
        "### Prix des vols en fonction de la date (à destination donnée : Londres) <a name = \"subparagraphe22\"></a>"
      ]
    },
    {
      "cell_type": "markdown",
      "metadata": {
        "id": "U9PDswHma-pK"
      },
      "source": [
        "Nous allons maintenant nous intéresser au prix des vols par rapport aux dates du voyage.\n"
      ]
    },
    {
      "cell_type": "code",
      "execution_count": 64,
      "metadata": {
        "colab": {
          "base_uri": "https://localhost:8080/"
        },
        "id": "W7JgDr4KzXBy",
        "outputId": "c58b4cdf-9336-4c12-b70c-24b3c5a559b5"
      },
      "outputs": [
        {
          "output_type": "execute_result",
          "data": {
            "text/plain": [
              "city.name\n",
              "London         16\n",
              "Stockholm      10\n",
              "Moscow         10\n",
              "Columbus        8\n",
              "Georgetown      8\n",
              "               ..\n",
              "Parkersburg     2\n",
              "Parintins       2\n",
              "Parikia         2\n",
              "Pardubice       2\n",
              "A Coruña        2\n",
              "Length: 2748, dtype: int64"
            ]
          },
          "metadata": {},
          "execution_count": 64
        }
      ],
      "source": [
        "df_paris.value_counts(\"city.name\") "
      ]
    },
    {
      "cell_type": "markdown",
      "metadata": {
        "id": "cVBjARcM-5U3"
      },
      "source": [
        "On remarque que Londres est la ville la plus désservie, c'est donc celle-ci qu'on choisit pour étudier le prix des vols selon la période de l'année."
      ]
    },
    {
      "cell_type": "markdown",
      "metadata": {
        "id": "5n-yjkad_QJD"
      },
      "source": [
        "On crée une fonction qui renvoie la base de données réduite à Londres pour une date de départ et une date de retour données."
      ]
    },
    {
      "cell_type": "code",
      "execution_count": null,
      "metadata": {
        "id": "vvKk3YOh4hhJ"
      },
      "outputs": [],
      "source": [
        "def df_lon(dat1,dat2):\n",
        "  pd.set_option('display.max_columns', 500)\n",
        "  url = \"https://www.kayak.com/s/horizon/exploreapi/destinations?airport=PAR&budget=&depart=\"+dat1+\"&return=\"+dat2+\"&duration=&exactDates=true&flightMaxStops=&stopsFilterActive=false&topRightLat=59.902761633461935&topRightLon=25.09658365167229&bottomLeftLat=26.101275008286677&bottomLeftLon=-6.719822598327707&zoomLevel=4&selectedMarker=&themeCode=&selectedDestination=\"\n",
        "  req = requests.get(url)\n",
        "  out = req.json()\n",
        "  dfl = pd.json_normalize(out[\"destinations\"])\n",
        "  dfl = dfl.loc[dfl['originAirportShortName'].isin(['CDG','ORY'])] #on se limite à CDG et ORY\n",
        "  dfl = dfl[dfl[\"city.name\"]==\"London\"]\n",
        "  dfl.loc[dfl['flightInfo.priceUSD']== 999999.0] = 0 #certains prix sont normalisés à 999999.0 -> on les ramène à 0\n",
        "  dfl = dfl[dfl['airline']=='Multiple Airlines']\n",
        "  dfl = dfl[dfl['flightMaxStops']==0]\n",
        "  return dfl\n"
      ]
    },
    {
      "cell_type": "markdown",
      "metadata": {
        "id": "F_PNwBFr_oox"
      },
      "source": [
        "On crée une liste de dates qui correspondent aux mois de l'année."
      ]
    },
    {
      "cell_type": "code",
      "execution_count": null,
      "metadata": {
        "id": "2B3TMwm41MCL"
      },
      "outputs": [],
      "source": [
        "dates=[\"20220201\",\"20220301\",\"20220401\",\"20220501\",\"20220601\",\"20220701\",\"20220801\",\"20220901\",\"20221001\",\"20221101\",\"20221201\"]"
      ]
    },
    {
      "cell_type": "markdown",
      "source": [
        "On crée aussi une liste de dates \"utiles\" qui correspondent aux jours fériés et au début des vacances scolaires."
      ],
      "metadata": {
        "id": "suSIFMB8Igjw"
      }
    },
    {
      "cell_type": "code",
      "source": [
        "dates_utiles=[\"20220418\",\"20220501\",\"20220508\",\"20220526\",\"20220606\",\"20220714\",\"20220815\",\"20221101\",\"20221111\",\"20220212\",\"20220205\",\"20220219\",\"20220409\",\"20220416\",\"20220423\",\"20220707\"]"
      ],
      "metadata": {
        "id": "Zrb2F2XwIgLw"
      },
      "execution_count": null,
      "outputs": []
    },
    {
      "cell_type": "markdown",
      "metadata": {
        "id": "HtEJVXxi_6DL"
      },
      "source": [
        "On crée une liste de prix moyens en utilisant la liste de dates et la fonction df_lon."
      ]
    },
    {
      "cell_type": "code",
      "execution_count": null,
      "metadata": {
        "id": "95ePFyAt3nsp"
      },
      "outputs": [],
      "source": [
        "lon_prix=[]\n",
        "for i in range(len(dates)-1):\n",
        "  dfd = df_lon(dates[i],dates[i+1])\n",
        "  prix = dfd[\"flightInfo.priceUSD\"].mean()\n",
        "  lon_prix.append(prix)"
      ]
    },
    {
      "cell_type": "markdown",
      "source": [
        "On écrit la fonctionne df_lon_une_date qui à une date donnée renvoie le prix d'un voyage de un mois à destination de Londres qui commence à cette date."
      ],
      "metadata": {
        "id": "QBhDsq9vJAYZ"
      }
    },
    {
      "cell_type": "code",
      "source": [
        "def df_lon_une_date(date):\n",
        "  pd.set_option('display.max_columns', 500)\n",
        "  datebis = int(date)+100\n",
        "  datebis=str(datebis)\n",
        "  url = \"https://www.kayak.com/s/horizon/exploreapi/destinations?airport=PAR&budget=&depart=\"+date+\"&return=\"+datebis+\"&duration=&exactDates=true&flightMaxStops=&stopsFilterActive=false&topRightLat=59.902761633461935&topRightLon=25.09658365167229&bottomLeftLat=26.101275008286677&bottomLeftLon=-6.719822598327707&zoomLevel=4&selectedMarker=&themeCode=&selectedDestination=\"\n",
        "  req = requests.get(url)\n",
        "  out = req.json()\n",
        "  dfl = pd.json_normalize(out[\"destinations\"])\n",
        "  dfl = dfl.loc[dfl['originAirportShortName'].isin(['CDG','ORY'])] #on se limite à CDG et ORY\n",
        "  dfl = dfl[dfl[\"city.name\"]==\"London\"]\n",
        "  dfl.loc[dfl['flightInfo.priceUSD']== 999999.0] = 0 #certains prix sont normalisés à 999999.0 -> on les ramène à 0\n",
        "  dfl = dfl[dfl['airline']=='Multiple Airlines']\n",
        "  dfl = dfl[dfl['flightMaxStops']==0]\n",
        "  return dfl"
      ],
      "metadata": {
        "id": "gKGguaedUG-o"
      },
      "execution_count": null,
      "outputs": []
    },
    {
      "cell_type": "markdown",
      "source": [
        "On récupère les prix des voyages pour les dates \"utiles\" grâce à la foncton précédente."
      ],
      "metadata": {
        "id": "mQYRQoxPJICa"
      }
    },
    {
      "cell_type": "code",
      "source": [
        "lon_prix_utiles=[]\n",
        "for i in range(len(dates_utiles)):\n",
        "  dfd = df_lon_une_date(dates_utiles[i])\n",
        "  prix = dfd[\"flightInfo.priceUSD\"].mean()\n",
        "  lon_prix_utiles.append(prix)"
      ],
      "metadata": {
        "id": "VTs_Z540TQ8J"
      },
      "execution_count": null,
      "outputs": []
    },
    {
      "cell_type": "markdown",
      "metadata": {
        "id": "ZfaCMYjxA3bp"
      },
      "source": [
        "On crée une liste des mois correspondant à la liste de dates précédente."
      ]
    },
    {
      "cell_type": "code",
      "execution_count": null,
      "metadata": {
        "id": "aVy_ULmrATms"
      },
      "outputs": [],
      "source": [
        "mois=[\"février\",\"mars\",\"avril\",\"mai\",\"juin\",\"jullet\",\"août\",\"septembre\",\"octobre\",\"novembre\"]"
      ]
    },
    {
      "cell_type": "markdown",
      "source": [
        "Et une légende pour la liste de dates \"utiles\"."
      ],
      "metadata": {
        "id": "25Nclh9vRlKR"
      }
    },
    {
      "cell_type": "code",
      "source": [
        "evenements = [\"Lundi de Pâques\",\"Fête du travail\",\"Armistice de 1945\",\"Ascension\",\"Lundi de Pentecôte\",\"Fête nationale\",\n",
        "                \"Assomption\",\"Toussaint\",\"Armistice de 1918 \",\"Début des vacances de février zone A\",\"Début des vacances de février zone B\",\n",
        "                \"Début des vacances de février zone C\",\"Début des vacances de Pâques zone A\",\"Début des vacances de Pâques zone B\",\"Début des vacances de Pâques zone C\",\n",
        "                \"Début des grandes vacances\"]"
      ],
      "metadata": {
        "id": "e95arOovRtyO"
      },
      "execution_count": null,
      "outputs": []
    },
    {
      "cell_type": "markdown",
      "metadata": {
        "id": "5MNOAYnxA5hP"
      },
      "source": [
        "On construit un dataframe avec les dates, les prix et le mois."
      ]
    },
    {
      "cell_type": "code",
      "execution_count": null,
      "metadata": {
        "id": "U1gLcy0eAPLY"
      },
      "outputs": [],
      "source": [
        "df_prix_london=pd.DataFrame(dates[:10], columns=[\"dates\"])\n",
        "df_prix_london[\"prix\"]=lon_prix\n",
        "df_prix_london[\"mois\"]=mois"
      ]
    },
    {
      "cell_type": "code",
      "source": [
        "df_prix_london_utiles=pd.DataFrame(dates_utiles, columns=[\"dates\"])\n",
        "df_prix_london_utiles[\"prix\"]=lon_prix_utiles\n",
        "df_prix_london_utiles[\"evenements\"]=evenements"
      ],
      "metadata": {
        "id": "PWVmgZluTtEy"
      },
      "execution_count": null,
      "outputs": []
    },
    {
      "cell_type": "markdown",
      "metadata": {
        "id": "vB2ifCeAAINm"
      },
      "source": [
        "On affiche les résulats."
      ]
    },
    {
      "cell_type": "code",
      "execution_count": null,
      "metadata": {
        "colab": {
          "base_uri": "https://localhost:8080/",
          "height": 356
        },
        "id": "lfgopnbKbsVE",
        "outputId": "33f1b53d-13ae-43f4-dfb6-c7aaff9af7e6"
      },
      "outputs": [
        {
          "output_type": "execute_result",
          "data": {
            "text/plain": [
              "<matplotlib.axes._subplots.AxesSubplot at 0x7f11bd86d150>"
            ]
          },
          "metadata": {},
          "execution_count": 29
        },
        {
          "output_type": "display_data",
          "data": {
            "image/png": "[encoded data removed]",
            "text/plain": [
              "<Figure size 432x288 with 1 Axes>"
            ]
          },
          "metadata": {
            "needs_background": "light"
          }
        }
      ],
      "source": [
        "df_prix_london.plot(x=\"mois\",y=\"prix\",kind = \"bar\",xlabel=\"Mois de l'année\",ylabel=\"Prix pour un voyage d'un mois\",title=\"Prix moyen d'un vol Paris-Londres en $\")"
      ]
    },
    {
      "cell_type": "markdown",
      "metadata": {
        "id": "Rp5xWrXiBI71"
      },
      "source": [
        "On voit un pic de prix pendant les vacances d'été (en juillet et en août le prix est le plus élevé). La période creuse semble être en avril et en septembre, lorsque la météo n'est pas forcément bonne et qu'il n'y a pas de vacances.\n",
        "\n"
      ]
    },
    {
      "cell_type": "markdown",
      "source": [
        "On affiche aussi les prix des voyages d'un mois commençant aux dates \"utiles\"."
      ],
      "metadata": {
        "id": "OKV59lSGUY34"
      }
    },
    {
      "cell_type": "code",
      "source": [
        "df_prix_london_utiles.plot(x=\"evenements\",y=\"prix\",kind = \"bar\",xlabel=\"Evènements\",ylabel=\"Prix pour un voyage d'un mois\",title=\"Prix moyen d'un vol Paris-Londres en $\")"
      ],
      "metadata": {
        "colab": {
          "base_uri": "https://localhost:8080/",
          "height": 495
        },
        "id": "cdG7SrTtUYHx",
        "outputId": "98b66f13-781f-47aa-be2d-8eecca37fcef"
      },
      "execution_count": null,
      "outputs": [
        {
          "output_type": "execute_result",
          "data": {
            "text/plain": [
              "<matplotlib.axes._subplots.AxesSubplot at 0x7f11bd842c50>"
            ]
          },
          "metadata": {},
          "execution_count": 30
        },
        {
          "output_type": "display_data",
          "data": {
            "image/png": "[encoded data removed]",
            "text/plain": [
              "<Figure size 432x288 with 1 Axes>"
            ]
          },
          "metadata": {
            "needs_background": "light"
          }
        }
      ]
    },
    {
      "cell_type": "markdown",
      "source": [
        "On remarque les prix sont un peu plus élevés pendant les jours fériés. En revanche ils ne le sont pas particulièrement pendant le premier jour des vacances de février (ce qui peut se comprendre car Londres n'est pas la destination privilégiée à cette période)."
      ],
      "metadata": {
        "id": "LPtPWNDOOchF"
      }
    },
    {
      "cell_type": "markdown",
      "metadata": {
        "id": "B0oc1WWMaUmE"
      },
      "source": [
        "## Modélisation <a name = \"paragraphe3\"></a>"
      ]
    },
    {
      "cell_type": "markdown",
      "metadata": {
        "id": "1hNkJbHVab7-"
      },
      "source": [
        "### Corrélation entre prix et distance <a name = \"subparagraphe31\"></a>"
      ]
    },
    {
      "cell_type": "code",
      "execution_count": 65,
      "metadata": {
        "id": "Fv3P7Pc6sZle",
        "colab": {
          "base_uri": "https://localhost:8080/"
        },
        "outputId": "dd7a2095-043a-4ce0-8d1a-da44f191d503"
      },
      "outputs": [
        {
          "output_type": "stream",
          "name": "stderr",
          "text": [
            "/usr/local/lib/python3.7/dist-packages/statsmodels/tools/_testing.py:19: FutureWarning: pandas.util.testing is deprecated. Use the functions in the public API at pandas.testing instead.\n",
            "  import pandas.util.testing as tm\n"
          ]
        }
      ],
      "source": [
        "import seaborn as sns\n",
        "import statsmodels.api as sm\n",
        "from sklearn import linear_model\n",
        "import numpy as np"
      ]
    },
    {
      "cell_type": "markdown",
      "metadata": {
        "id": "LtlPk4u0sZle"
      },
      "source": [
        " **Régression linéaire**\n",
        "  \n",
        "On effectue une régression linéaire avec toutes les villes de la base de données"
      ]
    },
    {
      "cell_type": "code",
      "execution_count": 135,
      "metadata": {
        "id": "Wx-pSkp3sZle",
        "outputId": "2e7b819c-4756-4000-8287-b083a52a582f",
        "scrolled": true,
        "colab": {
          "base_uri": "https://localhost:8080/",
          "height": 403
        }
      },
      "outputs": [
        {
          "output_type": "execute_result",
          "data": {
            "text/plain": [
              "Text(0.5, 1.0, \"Prix d'un vol aller-retour au départ de Paris en fonction de la distance de la destination\")"
            ]
          },
          "metadata": {},
          "execution_count": 135
        },
        {
          "output_type": "display_data",
          "data": {
            "image/png": "[encoded data removed]",
            "text/plain": [
              "<Figure size 360x360 with 1 Axes>"
            ]
          },
          "metadata": {
            "needs_background": "light"
          }
        }
      ],
      "source": [
        "sns.lmplot(x=\"distance\", y=\"flightInfo.priceUSD\", data=df_paris)\n",
        "ax=plt.gca()\n",
        "ax.set_title(\"Prix d'un vol aller-retour au départ de Paris en fonction de la distance de la destination\")"
      ]
    },
    {
      "cell_type": "markdown",
      "metadata": {
        "id": "wb42jVC2sZle"
      },
      "source": [
        "On remarque que pour les faibles distances le modèle est assez linéaire, alors que pour les grandes distances les prix sont très dispersés. Il y a une corrélation positive entre le prix et la distance."
      ]
    },
    {
      "cell_type": "markdown",
      "metadata": {
        "id": "R9n3SPcZsZlf"
      },
      "source": [
        "* On trace un nuage de points avec les villes qu'on a sélectionnées précédemment (celles de la liste **villes_en**)"
      ]
    },
    {
      "cell_type": "code",
      "execution_count": 142,
      "metadata": {
        "id": "PWZujZegsZlf",
        "outputId": "20ca30c0-986d-44a1-aad2-6efa2cf50b3f",
        "colab": {
          "base_uri": "https://localhost:8080/",
          "height": 295
        }
      },
      "outputs": [
        {
          "output_type": "display_data",
          "data": {
            "image/png": "[encoded data removed]",
            "text/plain": [
              "<Figure size 432x288 with 1 Axes>"
            ]
          },
          "metadata": {
            "needs_background": "light"
          }
        }
      ],
      "source": [
        "plt.scatter(df_prix['Distance à Paris (km)'],df_prix['Prix moyen du vol en $'])\n",
        "plt.xlabel('Distance à Paris')\n",
        "plt.ylabel('Prix moyen')\n",
        "plt.title('Prix en fonction de la distance')\n",
        "plt.show()\n"
      ]
    },
    {
      "cell_type": "markdown",
      "metadata": {
        "id": "5LRp23PNsZlf"
      },
      "source": [
        "On regroupe les résultats par continents, cela s'apparente à un clustering."
      ]
    },
    {
      "cell_type": "code",
      "execution_count": 69,
      "metadata": {
        "id": "pFqDqYHnsZlg"
      },
      "outputs": [],
      "source": [
        "df_africa=df_prix_cont[df_prix_cont['Continent']=='Africa']\n",
        "df_europe=df_prix_cont[df_prix_cont['Continent']=='Europe']\n",
        "df_oceania=df_prix_cont[df_prix_cont['Continent']=='Oceania']\n",
        "df_asia=df_prix_cont[df_prix_cont['Continent']=='Asia']\n",
        "df_namerica=df_prix_cont[df_prix_cont['Continent']=='North America']\n",
        "df_samerica=df_prix_cont[df_prix_cont['Continent']=='South America']\n",
        "\n",
        "\n",
        "df_africa=df_africa[['Distance à Paris (km)','Prix moyen du vol en $']]\n",
        "df_europe=df_europe[['Distance à Paris (km)','Prix moyen du vol en $']]\n",
        "df_oceania=df_oceania[['Distance à Paris (km)','Prix moyen du vol en $']]\n",
        "df_asia=df_asia[['Distance à Paris (km)','Prix moyen du vol en $']]\n",
        "df_namerica=df_namerica[['Distance à Paris (km)','Prix moyen du vol en $']]\n",
        "df_samerica=df_samerica[['Distance à Paris (km)','Prix moyen du vol en $']]\n"
      ]
    },
    {
      "cell_type": "markdown",
      "metadata": {
        "id": "MfBtQ5VDsZlg"
      },
      "source": [
        "* On réalise un nuage de points en distinguant chaque contient "
      ]
    },
    {
      "cell_type": "code",
      "execution_count": 83,
      "metadata": {
        "id": "mxy32QaOsZlg",
        "outputId": "f28741fc-9527-462f-8d87-783bb8a8b7ad",
        "colab": {
          "base_uri": "https://localhost:8080/",
          "height": 350
        }
      },
      "outputs": [
        {
          "output_type": "display_data",
          "data": {
            "image/png": "[encoded data removed]",
            "text/plain": [
              "<Figure size 864x360 with 1 Axes>"
            ]
          },
          "metadata": {
            "needs_background": "light"
          }
        }
      ],
      "source": [
        "plt.figure(figsize=(12, 5))\n",
        "plt.scatter(df_africa['Distance à Paris (km)'],df_africa['Prix moyen du vol en $'], c='Red', label='Afrique')\n",
        "plt.scatter(df_oceania['Distance à Paris (km)'],df_oceania['Prix moyen du vol en $'], c='Blue',label='Océanie')\n",
        "plt.scatter(df_europe['Distance à Paris (km)'],df_europe['Prix moyen du vol en $'], c='Green',label='Europe')\n",
        "plt.scatter(df_asia['Distance à Paris (km)'],df_asia['Prix moyen du vol en $'], c='Yellow',label='Asie')\n",
        "plt.scatter(df_namerica['Distance à Paris (km)'],df_namerica['Prix moyen du vol en $'], c='m',label='Amérique du Nord')\n",
        "plt.scatter(df_samerica['Distance à Paris (km)'],df_samerica['Prix moyen du vol en $'], c='k',label='Amérique du Sud')\n",
        "\n",
        "plt.xlabel('distance (km)')\n",
        "plt.ylabel('prix moyen')\n",
        "plt.legend()\n",
        "plt.title('Prix en fonction de la distance')\n",
        "plt.show()"
      ]
    },
    {
      "cell_type": "markdown",
      "metadata": {
        "id": "Tp5BxWv1sZlh"
      },
      "source": [
        "Deux groupes se distinguent : l'un avec l'Europe, l'Asie, l'Amérique du Nord et l'Amérique du Sud, l'autre avec l'Afrique et l'Océanie. Il serait peut être intéressant de faire deux régressions linéaires différentes entre ces deux groupes. "
      ]
    },
    {
      "cell_type": "markdown",
      "source": [
        "* Régression linéaire en distingant les continents\n",
        "\n",
        "On crée des nouveaux dataframes correspondants aux groupes de continent que l'on souhaite "
      ],
      "metadata": {
        "id": "kyVfChnG-KAc"
      }
    },
    {
      "cell_type": "code",
      "execution_count": null,
      "metadata": {
        "id": "cLVSvxkD6iiA"
      },
      "outputs": [],
      "source": [
        "df_afr_oce=df_prix_cont.loc[df_prix_cont['Continent'].isin(['Africa','Oceania'])]\n",
        "df_autre_contient=df_prix_cont.loc[df_prix_cont['Continent'].isin(['North America','South America','Europe','Asia'])]\n",
        "\n",
        "#d['Distance à Paris (km)'] était en object, on le transforme en int:\n",
        "df_afr_oce['Distance à Paris (km)']=df_afr_oce['Distance à Paris (km)'].astype(str).astype(int) \n",
        "df_autre_contient['Distance à Paris (km)']=df_autre_contient['Distance à Paris (km)'].astype(str).astype(int)"
      ]
    },
    {
      "cell_type": "markdown",
      "source": [
        "On trace les régressions linéaires correspondantes"
      ],
      "metadata": {
        "id": "Rr1I-DUlW2AX"
      }
    },
    {
      "cell_type": "code",
      "execution_count": 150,
      "metadata": {
        "id": "7r_SozWZ6iiA",
        "outputId": "485be787-e042-45b8-a5aa-4bd2dcce3348",
        "colab": {
          "base_uri": "https://localhost:8080/",
          "height": 771
        }
      },
      "outputs": [
        {
          "output_type": "execute_result",
          "data": {
            "text/plain": [
              "Text(0.5, 1.0, 'Prix en fonction de la distance pour les pays des autres continents')"
            ]
          },
          "metadata": {},
          "execution_count": 150
        },
        {
          "output_type": "display_data",
          "data": {
            "image/png": "[encoded data removed]",
            "text/plain": [
              "<Figure size 360x360 with 1 Axes>"
            ]
          },
          "metadata": {
            "needs_background": "light"
          }
        },
        {
          "output_type": "display_data",
          "data": {
            "image/png": "[encoded data removed]",
            "text/plain": [
              "<Figure size 360x360 with 1 Axes>"
            ]
          },
          "metadata": {
            "needs_background": "light"
          }
        }
      ],
      "source": [
        "sns.lmplot(x=\"Distance à Paris (km)\", y=\"Prix moyen du vol en $\",data=df_afr_oce) \n",
        "ax=plt.gca()\n",
        "ax.set_title(\"Prix en fonction de la distance pour les pays d'Afrique et d'Océanie\")\n",
        "sns.lmplot(x=\"Distance à Paris (km)\", y=\"Prix moyen du vol en $\",data=df_autre_contient) \n",
        "bx=plt.gca()\n",
        "bx.set_title(\"Prix en fonction de la distance pour les pays des autres continents\")"
      ]
    },
    {
      "cell_type": "markdown",
      "metadata": {
        "id": "KL58VBpWsZlh"
      },
      "source": [
        "**Régression linéaire avec statsmodels**"
      ]
    },
    {
      "cell_type": "code",
      "execution_count": 136,
      "metadata": {
        "id": "iSZvrMYusZlh",
        "outputId": "6abe8106-eab9-4373-e5f0-128260804ee8",
        "colab": {
          "base_uri": "https://localhost:8080/"
        }
      },
      "outputs": [
        {
          "output_type": "stream",
          "name": "stdout",
          "text": [
            "                                 OLS Regression Results                                 \n",
            "========================================================================================\n",
            "Dep. Variable:     flightInfo.priceUSD   R-squared (uncentered):                   0.880\n",
            "Model:                             OLS   Adj. R-squared (uncentered):              0.880\n",
            "Method:                  Least Squares   F-statistic:                          4.314e+04\n",
            "Date:                 Tue, 04 Jan 2022   Prob (F-statistic):                        0.00\n",
            "Time:                         21:35:23   Log-Likelihood:                         -42709.\n",
            "No. Observations:                 5884   AIC:                                  8.542e+04\n",
            "Df Residuals:                     5883   BIC:                                  8.543e+04\n",
            "Df Model:                            1                                                  \n",
            "Covariance Type:             nonrobust                                                  \n",
            "==============================================================================\n",
            "                 coef    std err          t      P>|t|      [0.025      0.975]\n",
            "------------------------------------------------------------------------------\n",
            "distance       0.1181      0.001    207.691      0.000       0.117       0.119\n",
            "==============================================================================\n",
            "Omnibus:                     1843.856   Durbin-Watson:                   1.258\n",
            "Prob(Omnibus):                  0.000   Jarque-Bera (JB):             5983.483\n",
            "Skew:                           1.593   Prob(JB):                         0.00\n",
            "Kurtosis:                       6.776   Cond. No.                         1.00\n",
            "==============================================================================\n",
            "\n",
            "Warnings:\n",
            "[1] Standard Errors assume that the covariance matrix of the errors is correctly specified.\n"
          ]
        }
      ],
      "source": [
        "X = df_paris[[\"distance\"]]\n",
        "y = df_paris[\"flightInfo.priceUSD\"]\n",
        "\n",
        "model = sm.OLS(y, X)\n",
        "results = model.fit()\n",
        "print(results.summary())\n"
      ]
    },
    {
      "cell_type": "markdown",
      "metadata": {
        "id": "KetrXc9hsZli"
      },
      "source": [
        "Toutes choses égales par ailleurs, si la distance à Paris augmente de 1km, le prix du billet d'avion augmente de 0,12 \\$. Le coefficient de distance est significatif au seuil de 1%. Le $R^{2}$ est assez bon, il est de 0,88.\n",
        "\n",
        "**Remarque** : Ce modèle est un modèle linéaire (il n'y a pas de constante dans la sortie proposée par statsmodels). Nous regardons maintenant ce que peut donner un modèle affine."
      ]
    },
    {
      "cell_type": "code",
      "execution_count": 137,
      "metadata": {
        "id": "d4Y3cA1OsZli",
        "outputId": "fe10da3e-ab00-4c34-a423-dc2a1f1b938d",
        "colab": {
          "base_uri": "https://localhost:8080/"
        }
      },
      "outputs": [
        {
          "output_type": "stream",
          "name": "stdout",
          "text": [
            "                             OLS Regression Results                            \n",
            "===============================================================================\n",
            "Dep. Variable:     flightInfo.priceUSD   R-squared:                       0.598\n",
            "Model:                             OLS   Adj. R-squared:                  0.598\n",
            "Method:                  Least Squares   F-statistic:                     8763.\n",
            "Date:                 Tue, 04 Jan 2022   Prob (F-statistic):               0.00\n",
            "Time:                         21:38:11   Log-Likelihood:                -42647.\n",
            "No. Observations:                 5884   AIC:                         8.530e+04\n",
            "Df Residuals:                     5882   BIC:                         8.531e+04\n",
            "Df Model:                            1                                         \n",
            "Covariance Type:             nonrobust                                         \n",
            "==============================================================================\n",
            "                 coef    std err          t      P>|t|      [0.025      0.975]\n",
            "------------------------------------------------------------------------------\n",
            "const        101.0728      9.001     11.229      0.000      83.427     118.718\n",
            "distance       0.1069      0.001     93.608      0.000       0.105       0.109\n",
            "==============================================================================\n",
            "Omnibus:                     2210.860   Durbin-Watson:                   1.152\n",
            "Prob(Omnibus):                  0.000   Jarque-Bera (JB):             8692.721\n",
            "Skew:                           1.854   Prob(JB):                         0.00\n",
            "Kurtosis:                       7.660   Cond. No.                     1.60e+04\n",
            "==============================================================================\n",
            "\n",
            "Warnings:\n",
            "[1] Standard Errors assume that the covariance matrix of the errors is correctly specified.\n",
            "[2] The condition number is large, 1.6e+04. This might indicate that there are\n",
            "strong multicollinearity or other numerical problems.\n"
          ]
        }
      ],
      "source": [
        "X = df_paris[[\"distance\"]]\n",
        "y = df_paris[\"flightInfo.priceUSD\"]\n",
        "X = sm.add_constant(X)\n",
        "model = sm.OLS(y, X)\n",
        "results = model.fit()\n",
        "print(results.summary())"
      ]
    },
    {
      "cell_type": "markdown",
      "source": [
        "L'ajout de la constante ajuste le coefficent de distance dans la régression linéaire du prix en fonction de la distance."
      ],
      "metadata": {
        "id": "tWfquec2B2OK"
      }
    },
    {
      "cell_type": "markdown",
      "source": [
        "On réalise une autre régression mais cette fois pour les pays d'Afrique et d'Océanie"
      ],
      "metadata": {
        "id": "c4bCUY9MCFh7"
      }
    },
    {
      "cell_type": "code",
      "source": [
        "X = df_afr_oce[[\"Distance à Paris (km)\"]]\n",
        "y = df_afr_oce[\"Prix moyen du vol en $\"]\n",
        "X = sm.add_constant(X)\n",
        "model = sm.OLS(y, X)\n",
        "results = model.fit()\n",
        "print(results.summary())"
      ],
      "metadata": {
        "colab": {
          "base_uri": "https://localhost:8080/"
        },
        "id": "pUPbguD1CePW",
        "outputId": "e0b67401-ee92-4fcf-c2b5-ff59cf0bfac9"
      },
      "execution_count": 139,
      "outputs": [
        {
          "output_type": "stream",
          "name": "stdout",
          "text": [
            "                              OLS Regression Results                              \n",
            "==================================================================================\n",
            "Dep. Variable:     Prix moyen du vol en $   R-squared:                       0.932\n",
            "Model:                                OLS   Adj. R-squared:                  0.925\n",
            "Method:                     Least Squares   F-statistic:                     123.7\n",
            "Date:                    Tue, 04 Jan 2022   Prob (F-statistic):           1.46e-06\n",
            "Time:                            21:42:18   Log-Likelihood:                -67.218\n",
            "No. Observations:                      11   AIC:                             138.4\n",
            "Df Residuals:                           9   BIC:                             139.2\n",
            "Df Model:                               1                                         \n",
            "Covariance Type:                nonrobust                                         \n",
            "=========================================================================================\n",
            "                            coef    std err          t      P>|t|      [0.025      0.975]\n",
            "-----------------------------------------------------------------------------------------\n",
            "const                    98.9734     59.483      1.664      0.130     -35.586     233.533\n",
            "Distance à Paris (km)     0.0727      0.007     11.124      0.000       0.058       0.087\n",
            "==============================================================================\n",
            "Omnibus:                        0.980   Durbin-Watson:                   2.766\n",
            "Prob(Omnibus):                  0.613   Jarque-Bera (JB):                0.769\n",
            "Skew:                           0.379   Prob(JB):                        0.681\n",
            "Kurtosis:                       1.949   Cond. No.                     1.49e+04\n",
            "==============================================================================\n",
            "\n",
            "Warnings:\n",
            "[1] Standard Errors assume that the covariance matrix of the errors is correctly specified.\n",
            "[2] The condition number is large, 1.49e+04. This might indicate that there are\n",
            "strong multicollinearity or other numerical problems.\n"
          ]
        },
        {
          "output_type": "stream",
          "name": "stderr",
          "text": [
            "/usr/local/lib/python3.7/dist-packages/scipy/stats/stats.py:1535: UserWarning: kurtosistest only valid for n>=20 ... continuing anyway, n=11\n",
            "  \"anyway, n=%i\" % int(n))\n"
          ]
        }
      ]
    },
    {
      "cell_type": "code",
      "source": [
        "X = df_autre_contient[[\"Distance à Paris (km)\"]]\n",
        "y = df_autre_contient[\"Prix moyen du vol en $\"]\n",
        "X = sm.add_constant(X)\n",
        "model = sm.OLS(y, X)\n",
        "results = model.fit()\n",
        "print(results.summary())"
      ],
      "metadata": {
        "colab": {
          "base_uri": "https://localhost:8080/"
        },
        "id": "Of4E9LTTCzBM",
        "outputId": "7dec8851-0a2f-43a1-9a4d-95a4f1d0643f"
      },
      "execution_count": 140,
      "outputs": [
        {
          "output_type": "stream",
          "name": "stdout",
          "text": [
            "                              OLS Regression Results                              \n",
            "==================================================================================\n",
            "Dep. Variable:     Prix moyen du vol en $   R-squared:                       0.886\n",
            "Model:                                OLS   Adj. R-squared:                  0.882\n",
            "Method:                     Least Squares   F-statistic:                     248.1\n",
            "Date:                    Tue, 04 Jan 2022   Prob (F-statistic):           1.24e-16\n",
            "Time:                            21:42:49   Log-Likelihood:                -206.06\n",
            "No. Observations:                      34   AIC:                             416.1\n",
            "Df Residuals:                          32   BIC:                             419.2\n",
            "Df Model:                               1                                         \n",
            "Covariance Type:                nonrobust                                         \n",
            "=========================================================================================\n",
            "                            coef    std err          t      P>|t|      [0.025      0.975]\n",
            "-----------------------------------------------------------------------------------------\n",
            "const                    21.1805     31.035      0.682      0.500     -42.035      84.396\n",
            "Distance à Paris (km)     0.0767      0.005     15.752      0.000       0.067       0.087\n",
            "==============================================================================\n",
            "Omnibus:                       10.233   Durbin-Watson:                   2.439\n",
            "Prob(Omnibus):                  0.006   Jarque-Bera (JB):                9.139\n",
            "Skew:                           1.166   Prob(JB):                       0.0104\n",
            "Kurtosis:                       4.005   Cond. No.                     1.08e+04\n",
            "==============================================================================\n",
            "\n",
            "Warnings:\n",
            "[1] Standard Errors assume that the covariance matrix of the errors is correctly specified.\n",
            "[2] The condition number is large, 1.08e+04. This might indicate that there are\n",
            "strong multicollinearity or other numerical problems.\n"
          ]
        }
      ]
    },
    {
      "cell_type": "markdown",
      "source": [
        "La regréssion linéaire pour l'Afrique, l'Océanie et celle avec les autres continents sont quasi identiques. Le coeffecient de la distance est du même ordre de grandeur : O,072 pour la première et 0,076 pour la seconde."
      ],
      "metadata": {
        "id": "sZNghZ_9YJRC"
      }
    },
    {
      "cell_type": "markdown",
      "source": [
        "#### Kmeans et clustering <a name = \"subparagraphe32\"></a>\n",
        "\n",
        "Nous allons réaliser des clusters en fonction des continents. "
      ],
      "metadata": {
        "id": "eMCLi_RvzMtd"
      }
    },
    {
      "cell_type": "markdown",
      "source": [
        "On définit un dataframe"
      ],
      "metadata": {
        "id": "D-GWZMXaYuXT"
      }
    },
    {
      "cell_type": "code",
      "execution_count": 95,
      "metadata": {
        "id": "BRlnWm5Fbrnh"
      },
      "outputs": [],
      "source": [
        "df_reg=df_prix_cont.loc[:,[\"Prix moyen du vol en $\",\"Distance à Paris (km)\"]]"
      ]
    },
    {
      "cell_type": "markdown",
      "source": [
        "Il y a 6 continents donc on part tout d'abord sur l'hypothèse de n=6. Puis, on fixe les labels pour le clustering."
      ],
      "metadata": {
        "id": "n-tzS8M7Y0FK"
      }
    },
    {
      "cell_type": "code",
      "source": [
        "from sklearn.cluster import KMeans #pour kmeans\n",
        "\n",
        "kmeans = KMeans(n_clusters=6).fit(df_reg) # on regarde par rapport aux 6 continents \n",
        "df_reg['label']=kmeans.labels_\n",
        "df_reg[\"label\"].value_counts()\n",
        "df_reg.head(2)"
      ],
      "metadata": {
        "colab": {
          "base_uri": "https://localhost:8080/",
          "height": 112
        },
        "id": "I19HTQyoyVws",
        "outputId": "dfe1ef54-2a69-4d28-d8d7-70e8097c63c9"
      },
      "execution_count": 110,
      "outputs": [
        {
          "output_type": "execute_result",
          "data": {
            "text/html": [
              "\n",
              "  <div id=\"df-053e3b77-4eb1-409b-9f47-2a68202dd944\">\n",
              "    <div class=\"colab-df-container\">\n",
              "      <div>\n",
              "<style scoped>\n",
              "    .dataframe tbody tr th:only-of-type {\n",
              "        vertical-align: middle;\n",
              "    }\n",
              "\n",
              "    .dataframe tbody tr th {\n",
              "        vertical-align: top;\n",
              "    }\n",
              "\n",
              "    .dataframe thead th {\n",
              "        text-align: right;\n",
              "    }\n",
              "</style>\n",
              "<table border=\"1\" class=\"dataframe\">\n",
              "  <thead>\n",
              "    <tr style=\"text-align: right;\">\n",
              "      <th></th>\n",
              "      <th>Prix moyen du vol en $</th>\n",
              "      <th>Distance à Paris (km)</th>\n",
              "      <th>label</th>\n",
              "    </tr>\n",
              "  </thead>\n",
              "  <tbody>\n",
              "    <tr>\n",
              "      <th>0</th>\n",
              "      <td>198</td>\n",
              "      <td>2286</td>\n",
              "      <td>1</td>\n",
              "    </tr>\n",
              "    <tr>\n",
              "      <th>1</th>\n",
              "      <td>246</td>\n",
              "      <td>1908</td>\n",
              "      <td>1</td>\n",
              "    </tr>\n",
              "  </tbody>\n",
              "</table>\n",
              "</div>\n",
              "      <button class=\"colab-df-convert\" onclick=\"convertToInteractive('df-053e3b77-4eb1-409b-9f47-2a68202dd944')\"\n",
              "              title=\"Convert this dataframe to an interactive table.\"\n",
              "              style=\"display:none;\">\n",
              "        \n",
              "  <svg xmlns=\"http://www.w3.org/2000/svg\" height=\"24px\"viewBox=\"0 0 24 24\"\n",
              "       width=\"24px\">\n",
              "    <path d=\"M0 0h24v24H0V0z\" fill=\"none\"/>\n",
              "    <path d=\"M18.56 5.44l.94 2.06.94-2.06 2.06-.94-2.06-.94-.94-2.06-.94 2.06-2.06.94zm-11 1L8.5 8.5l.94-2.06 2.06-.94-2.06-.94L8.5 2.5l-.94 2.06-2.06.94zm10 10l.94 2.06.94-2.06 2.06-.94-2.06-.94-.94-2.06-.94 2.06-2.06.94z\"/><path d=\"M17.41 7.96l-1.37-1.37c-.4-.4-.92-.59-1.43-.59-.52 0-1.04.2-1.43.59L10.3 9.45l-7.72 7.72c-.78.78-.78 2.05 0 2.83L4 21.41c.39.39.9.59 1.41.59.51 0 1.02-.2 1.41-.59l7.78-7.78 2.81-2.81c.8-.78.8-2.07 0-2.86zM5.41 20L4 18.59l7.72-7.72 1.47 1.35L5.41 20z\"/>\n",
              "  </svg>\n",
              "      </button>\n",
              "      \n",
              "  <style>\n",
              "    .colab-df-container {\n",
              "      display:flex;\n",
              "      flex-wrap:wrap;\n",
              "      gap: 12px;\n",
              "    }\n",
              "\n",
              "    .colab-df-convert {\n",
              "      background-color: #E8F0FE;\n",
              "      border: none;\n",
              "      border-radius: 50%;\n",
              "      cursor: pointer;\n",
              "      display: none;\n",
              "      fill: #1967D2;\n",
              "      height: 32px;\n",
              "      padding: 0 0 0 0;\n",
              "      width: 32px;\n",
              "    }\n",
              "\n",
              "    .colab-df-convert:hover {\n",
              "      background-color: #E2EBFA;\n",
              "      box-shadow: 0px 1px 2px rgba(60, 64, 67, 0.3), 0px 1px 3px 1px rgba(60, 64, 67, 0.15);\n",
              "      fill: #174EA6;\n",
              "    }\n",
              "\n",
              "    [theme=dark] .colab-df-convert {\n",
              "      background-color: #3B4455;\n",
              "      fill: #D2E3FC;\n",
              "    }\n",
              "\n",
              "    [theme=dark] .colab-df-convert:hover {\n",
              "      background-color: #434B5C;\n",
              "      box-shadow: 0px 1px 3px 1px rgba(0, 0, 0, 0.15);\n",
              "      filter: drop-shadow(0px 1px 2px rgba(0, 0, 0, 0.3));\n",
              "      fill: #FFFFFF;\n",
              "    }\n",
              "  </style>\n",
              "\n",
              "      <script>\n",
              "        const buttonEl =\n",
              "          document.querySelector('#df-053e3b77-4eb1-409b-9f47-2a68202dd944 button.colab-df-convert');\n",
              "        buttonEl.style.display =\n",
              "          google.colab.kernel.accessAllowed ? 'block' : 'none';\n",
              "\n",
              "        async function convertToInteractive(key) {\n",
              "          const element = document.querySelector('#df-053e3b77-4eb1-409b-9f47-2a68202dd944');\n",
              "          const dataTable =\n",
              "            await google.colab.kernel.invokeFunction('convertToInteractive',\n",
              "                                                     [key], {});\n",
              "          if (!dataTable) return;\n",
              "\n",
              "          const docLinkHtml = 'Like what you see? Visit the ' +\n",
              "            '<a target=\"_blank\" href=https://colab.research.google.com/notebooks/data_table.ipynb>data table notebook</a>'\n",
              "            + ' to learn more about interactive tables.';\n",
              "          element.innerHTML = '';\n",
              "          dataTable['output_type'] = 'display_data';\n",
              "          await google.colab.output.renderOutput(dataTable, element);\n",
              "          const docLink = document.createElement('div');\n",
              "          docLink.innerHTML = docLinkHtml;\n",
              "          element.appendChild(docLink);\n",
              "        }\n",
              "      </script>\n",
              "    </div>\n",
              "  </div>\n",
              "  "
            ],
            "text/plain": [
              "   Prix moyen du vol en $ Distance à Paris (km)  label\n",
              "0                     198                  2286      1\n",
              "1                     246                  1908      1"
            ]
          },
          "metadata": {},
          "execution_count": 110
        }
      ]
    },
    {
      "cell_type": "markdown",
      "source": [
        "On trace le nuage de point relatif au clustering (pour n=6)."
      ],
      "metadata": {
        "id": "X9XdiSwyY6Rl"
      }
    },
    {
      "cell_type": "code",
      "source": [
        "df_label2=df_reg[df_reg['label']==2]\n",
        "df_label3=df_reg[df_reg['label']==3]\n",
        "df_label1=df_reg[df_reg['label']==1]\n",
        "df_label0=df_reg[df_reg['label']==0]\n",
        "df_label4=df_reg[df_reg['label']==4]\n",
        "df_label5=df_reg[df_reg['label']==5]\n",
        "\n",
        "\n",
        "plt.figure(figsize=(12, 8))\n",
        "plt.scatter(df_label2['Distance à Paris (km)'],df_label2['Prix moyen du vol en $'],label='Label 2')\n",
        "plt.scatter(df_label3['Distance à Paris (km)'],df_label3['Prix moyen du vol en $'],label='Label 3')\n",
        "plt.scatter(df_label1['Distance à Paris (km)'],df_label1['Prix moyen du vol en $'],label='Label 1')\n",
        "plt.scatter(df_label0['Distance à Paris (km)'],df_label0['Prix moyen du vol en $'],label='Label 0')\n",
        "plt.scatter(df_label4['Distance à Paris (km)'],df_label4['Prix moyen du vol en $'],label='Label 4')\n",
        "plt.scatter(df_label5['Distance à Paris (km)'],df_label5['Prix moyen du vol en $'],label='Label 5')\n",
        "plt.legend()\n",
        "plt.xlabel('Distance à Paris (km)')\n",
        "plt.ylabel('Prix moyen du vol en $')\n",
        "plt.title('Cluster des prix en fonction de la distance')\n",
        "plt.show()"
      ],
      "metadata": {
        "colab": {
          "base_uri": "https://localhost:8080/",
          "height": 513
        },
        "id": "qck5fOykzaSF",
        "outputId": "b711b6f6-7707-47f7-f668-f8dd0a7ce311"
      },
      "execution_count": 111,
      "outputs": [
        {
          "output_type": "display_data",
          "data": {
            "image/png": "[encoded data removed]",
            "text/plain": [
              "<Figure size 864x576 with 1 Axes>"
            ]
          },
          "metadata": {
            "needs_background": "light"
          }
        }
      ]
    },
    {
      "cell_type": "markdown",
      "source": [
        "Si on regarde par rapport au prix, on remarque qu'il y a 3 grands groupes. L'un entre 0 et 200€, un autre entre 400€ et 1000€, puis un dernier entre 1200-1600€. On pourrait essayer de faire un cluster avec n=3. "
      ],
      "metadata": {
        "id": "0ARXo1UM44gw"
      }
    },
    {
      "cell_type": "markdown",
      "source": [
        "Nous avons regardé auparavant le prix en fonction de la distance, on peut également regarder la distance en fonction des prix. "
      ],
      "metadata": {
        "id": "p8bO25Zs5Wsf"
      }
    },
    {
      "cell_type": "code",
      "source": [
        "plt.figure(figsize=(12, 8))\n",
        "plt.scatter(df_label2['Prix moyen du vol en $'],df_label2['Distance à Paris (km)'],label='Label 2')\n",
        "plt.scatter(df_label3['Prix moyen du vol en $'],df_label3['Distance à Paris (km)'],label='Label 3')\n",
        "plt.scatter(df_label1['Prix moyen du vol en $'],df_label1['Distance à Paris (km)'],label='Label 1')\n",
        "plt.scatter(df_label0['Prix moyen du vol en $'],df_label0['Distance à Paris (km)'],label='Label 0')\n",
        "plt.scatter(df_label4['Prix moyen du vol en $'],df_label4['Distance à Paris (km)'],label='Label 4')\n",
        "plt.scatter(df_label5['Prix moyen du vol en $'],df_label5['Distance à Paris (km)'],label='Label 5')\n",
        "plt.legend()\n",
        "plt.xlabel('Prix moyen du vol en $')\n",
        "plt.ylabel('Distance à Paris (km)')\n",
        "plt.title('Cluster de la distance en fonction des prix')\n",
        "plt.show()"
      ],
      "metadata": {
        "colab": {
          "base_uri": "https://localhost:8080/",
          "height": 513
        },
        "id": "mN-ppjXs5bYd",
        "outputId": "e58131bd-2fcb-47a5-86f1-9315650ea783"
      },
      "execution_count": 112,
      "outputs": [
        {
          "output_type": "display_data",
          "data": {
            "image/png": "[encoded data removed]",
            "text/plain": [
              "<Figure size 864x576 with 1 Axes>"
            ]
          },
          "metadata": {
            "needs_background": "light"
          }
        }
      ]
    },
    {
      "cell_type": "markdown",
      "source": [
        "On réalise un cluster avec n=3."
      ],
      "metadata": {
        "id": "QZjfRSRa7YQ7"
      }
    },
    {
      "cell_type": "code",
      "source": [
        "kmeans = KMeans(n_clusters=3).fit(df_reg) # on regarde par rapport aux 6 continents \n",
        "df_reg['label']=kmeans.labels_\n",
        "df_reg[\"label\"].value_counts()\n"
      ],
      "metadata": {
        "colab": {
          "base_uri": "https://localhost:8080/"
        },
        "id": "5sm2CJG97hhi",
        "outputId": "0d1f61a2-4a82-4b69-c976-673a8dd3a1bb"
      },
      "execution_count": 113,
      "outputs": [
        {
          "output_type": "execute_result",
          "data": {
            "text/plain": [
              "0    23\n",
              "1    20\n",
              "2     2\n",
              "Name: label, dtype: int64"
            ]
          },
          "metadata": {},
          "execution_count": 113
        }
      ]
    },
    {
      "cell_type": "markdown",
      "source": [
        "On trace le nuage de point relatif au clustering (pour n=3)."
      ],
      "metadata": {
        "id": "PwUeehk4ZuL9"
      }
    },
    {
      "cell_type": "code",
      "source": [
        "df_label2=df_reg[df_reg['label']==2]\n",
        "df_label1=df_reg[df_reg['label']==1]\n",
        "df_label0=df_reg[df_reg['label']==0]\n",
        "\n",
        "\n",
        "plt.figure(figsize=(12, 8))\n",
        "plt.scatter(df_label2['Distance à Paris (km)'],df_label2['Prix moyen du vol en $'],label='Label 2')\n",
        "plt.scatter(df_label1['Distance à Paris (km)'],df_label1['Prix moyen du vol en $'],label='Label 1')\n",
        "plt.scatter(df_label0['Distance à Paris (km)'],df_label0['Prix moyen du vol en $'],label='Label 0')\n",
        "\n",
        "plt.legend()\n",
        "plt.xlabel('Distance à Paris (km)')\n",
        "plt.ylabel('Prix moyen du vol en $')\n",
        "plt.title('Cluster des prix en fonction de la distance')\n",
        "plt.show()"
      ],
      "metadata": {
        "colab": {
          "base_uri": "https://localhost:8080/",
          "height": 513
        },
        "id": "XfrGmHcp7tJu",
        "outputId": "c6269421-b8c2-4d51-98f4-9802850ff26e"
      },
      "execution_count": 114,
      "outputs": [
        {
          "output_type": "display_data",
          "data": {
            "image/png": "[encoded data removed]",
            "text/plain": [
              "<Figure size 864x576 with 1 Axes>"
            ]
          },
          "metadata": {
            "needs_background": "light"
          }
        }
      ]
    },
    {
      "cell_type": "markdown",
      "source": [
        "Nous distinguons 3 groupes de destinations différentes (à commenter plus peut être)"
      ],
      "metadata": {
        "id": "ibInjKpA8FJY"
      }
    },
    {
      "cell_type": "markdown",
      "metadata": {
        "id": "ieUSfJ5pbTfP"
      },
      "source": [
        "### ACP <a name = \"subparagraphe33\"></a>"
      ]
    },
    {
      "cell_type": "markdown",
      "metadata": {
        "id": "boeyzwkXbTMq"
      },
      "source": [
        "Nous avions l'idée de réaliser une ACP, mais l'ACP n'est pas pertinente dans notre modèle puisque nous n'avons que deux paramètres : le prix et la distance. Pour utiliser l'ACP, il faudrait plus de paramètres.\n",
        "\n",
        "Ci-dessous se trouve quelques pistes de recherches que nous avonc effectuées."
      ]
    },
    {
      "cell_type": "code",
      "execution_count": null,
      "metadata": {
        "id": "M41VKM9HsZlj",
        "outputId": "4552f030-c968-4a35-8cce-bad744bf2c38"
      },
      "outputs": [
        {
          "data": {
            "text/html": [
              "<div>\n",
              "<style scoped>\n",
              "    .dataframe tbody tr th:only-of-type {\n",
              "        vertical-align: middle;\n",
              "    }\n",
              "\n",
              "    .dataframe tbody tr th {\n",
              "        vertical-align: top;\n",
              "    }\n",
              "\n",
              "    .dataframe thead th {\n",
              "        text-align: right;\n",
              "    }\n",
              "</style>\n",
              "<table border=\"1\" class=\"dataframe\">\n",
              "  <thead>\n",
              "    <tr style=\"text-align: right;\">\n",
              "      <th></th>\n",
              "      <th>distance</th>\n",
              "      <th>flightInfo.priceUSD</th>\n",
              "    </tr>\n",
              "    <tr>\n",
              "      <th>city.name</th>\n",
              "      <th></th>\n",
              "      <th></th>\n",
              "    </tr>\n",
              "  </thead>\n",
              "  <tbody>\n",
              "    <tr>\n",
              "      <th>New York</th>\n",
              "      <td>5829</td>\n",
              "      <td>322.97</td>\n",
              "    </tr>\n",
              "    <tr>\n",
              "      <th>New York</th>\n",
              "      <td>5829</td>\n",
              "      <td>301.28</td>\n",
              "    </tr>\n",
              "    <tr>\n",
              "      <th>London</th>\n",
              "      <td>343</td>\n",
              "      <td>68.95</td>\n",
              "    </tr>\n",
              "    <tr>\n",
              "      <th>London</th>\n",
              "      <td>343</td>\n",
              "      <td>67.74</td>\n",
              "    </tr>\n",
              "    <tr>\n",
              "      <th>Miami</th>\n",
              "      <td>7356</td>\n",
              "      <td>381.85</td>\n",
              "    </tr>\n",
              "    <tr>\n",
              "      <th>...</th>\n",
              "      <td>...</td>\n",
              "      <td>...</td>\n",
              "    </tr>\n",
              "    <tr>\n",
              "      <th>Shiyan</th>\n",
              "      <td>8529</td>\n",
              "      <td>2103.01</td>\n",
              "    </tr>\n",
              "    <tr>\n",
              "      <th>Weifang</th>\n",
              "      <td>8643</td>\n",
              "      <td>2146.07</td>\n",
              "    </tr>\n",
              "    <tr>\n",
              "      <th>Nantong</th>\n",
              "      <td>9154</td>\n",
              "      <td>2137.48</td>\n",
              "    </tr>\n",
              "    <tr>\n",
              "      <th>Jiamusi</th>\n",
              "      <td>8250</td>\n",
              "      <td>2184.50</td>\n",
              "    </tr>\n",
              "    <tr>\n",
              "      <th>Jining</th>\n",
              "      <td>8610</td>\n",
              "      <td>2145.39</td>\n",
              "    </tr>\n",
              "  </tbody>\n",
              "</table>\n",
              "<p>5884 rows × 2 columns</p>\n",
              "</div>"
            ],
            "text/plain": [
              "           distance  flightInfo.priceUSD\n",
              "city.name                               \n",
              "New York       5829               322.97\n",
              "New York       5829               301.28\n",
              "London          343                68.95\n",
              "London          343                67.74\n",
              "Miami          7356               381.85\n",
              "...             ...                  ...\n",
              "Shiyan         8529              2103.01\n",
              "Weifang        8643              2146.07\n",
              "Nantong        9154              2137.48\n",
              "Jiamusi        8250              2184.50\n",
              "Jining         8610              2145.39\n",
              "\n",
              "[5884 rows x 2 columns]"
            ]
          },
          "execution_count": 228,
          "metadata": {},
          "output_type": "execute_result"
        }
      ],
      "source": [
        "df_acp=df_paris[[\"distance\",\"flightInfo.priceUSD\",\"city.name\"]]\n",
        "df_acp.set_index('city.name')"
      ]
    },
    {
      "cell_type": "code",
      "execution_count": null,
      "metadata": {
        "id": "L_xkFa3ZsZlv"
      },
      "outputs": [],
      "source": [
        "from scipy.stats import pearsonr\n",
        "from sklearn.decomposition import PCA\n",
        "from sklearn.preprocessing import StandardScaler"
      ]
    },
    {
      "cell_type": "markdown",
      "source": [
        "On calcule le coeffecient de corrélation entre la distance et le prix d'un billet d'avion."
      ],
      "metadata": {
        "id": "FPT-MY4daEg5"
      }
    },
    {
      "cell_type": "code",
      "execution_count": null,
      "metadata": {
        "id": "hb6LaYbFsZlj",
        "outputId": "2285ee30-dbb4-43c1-904d-7cf9430fb6f0"
      },
      "outputs": [
        {
          "name": "stdout",
          "output_type": "stream",
          "text": [
            "0.7735300900805997 0.0\n"
          ]
        }
      ],
      "source": [
        "df_acp=(df_paris[[\"distance\",\"flightInfo.priceUSD\"]]).values\n",
        "\n",
        "coeff_corr, pvalue=pearsonr(df_acp[:,0],df_acp[:,1])\n",
        "print(coeff_corr, pvalue) #il y a une corrélation entre le prix et la distance "
      ]
    },
    {
      "cell_type": "markdown",
      "source": [
        "On trace le nuage de point correspondant"
      ],
      "metadata": {
        "id": "AqUEWIfRaOWB"
      }
    },
    {
      "cell_type": "code",
      "execution_count": null,
      "metadata": {
        "id": "_IWIEQGGsZlv",
        "outputId": "bfdff478-43d9-4a86-e16e-1626c6c71f4d"
      },
      "outputs": [
        {
          "data": {
            "text/plain": [
              "<matplotlib.collections.PathCollection at 0xaa637abd00>"
            ]
          },
          "execution_count": 231,
          "metadata": {},
          "output_type": "execute_result"
        },
        {
          "data": {
            "image/png": "[encoded data removed]",
            "text/plain": [
              "<Figure size 432x288 with 1 Axes>"
            ]
          },
          "metadata": {
            "needs_background": "light"
          },
          "output_type": "display_data"
        }
      ],
      "source": [
        "plt.scatter(df_prix['Distance à Paris (km)'],df_prix['Prix moyen du vol en $'])\n"
      ]
    },
    {
      "cell_type": "markdown",
      "source": [
        "On calcule les coefficients de l'ACP"
      ],
      "metadata": {
        "id": "ErFA9DMuaTMr"
      }
    },
    {
      "cell_type": "code",
      "execution_count": null,
      "metadata": {
        "id": "3dAwElxxsZlv",
        "outputId": "e1609799-b809-4c3c-e7aa-f31aad327847"
      },
      "outputs": [
        {
          "name": "stdout",
          "output_type": "stream",
          "text": [
            "1.3877787807814457e-17 1.0000000000058695\n"
          ]
        }
      ],
      "source": [
        "model_acp=PCA()\n",
        "coeff_acp=model_acp.fit_transform(df_acp)\n",
        "\n",
        "comp1=coeff_acp[:,0]\n",
        "comp2=coeff_acp[:,1]\n",
        "\n",
        "coeff_corr, pvalue=pearsonr(comp1,comp2)\n",
        "print(coeff_corr, pvalue) "
      ]
    },
    {
      "cell_type": "markdown",
      "source": [
        "On remarque qu'il n'y a plus de corrélation entre les composantes principales. Le coefficient de corrélation est égale à 1.3877787807814457e-17, ce qui est très faible."
      ],
      "metadata": {
        "id": "0fy3M7KGaZl1"
      }
    },
    {
      "cell_type": "markdown",
      "source": [
        "On trace le nuage de point correspondant."
      ],
      "metadata": {
        "id": "OlP3HK0Rapj0"
      }
    },
    {
      "cell_type": "code",
      "execution_count": null,
      "metadata": {
        "id": "_pdlPBxWsZl0",
        "outputId": "f6856186-3488-46a9-f45c-19acbbad67f5"
      },
      "outputs": [
        {
          "data": {
            "image/png": "[encoded data removed]",
            "text/plain": [
              "<Figure size 432x288 with 1 Axes>"
            ]
          },
          "metadata": {
            "needs_background": "light"
          },
          "output_type": "display_data"
        }
      ],
      "source": [
        "plt.scatter(comp1,comp2)\n",
        "plt.show()"
      ]
    },
    {
      "cell_type": "markdown",
      "metadata": {
        "id": "ava4Sy8QabqJ"
      },
      "source": [
        "## Visualisation <a name = \"paragraphe4\"></a>"
      ]
    },
    {
      "cell_type": "markdown",
      "metadata": {
        "id": "MCrQriKdbmf9"
      },
      "source": [
        "On utilise une partie de ce qui a déjà été fait dans la partie de statistqiues descriptives sur la destination du vol."
      ]
    },
    {
      "cell_type": "code",
      "execution_count": null,
      "metadata": {
        "id": "ydAdI1ABbm1K",
        "outputId": "9ad04b29-84d5-4063-a3b9-31fb35c75ade"
      },
      "outputs": [
        {
          "data": {
            "text/html": [
              "<div>\n",
              "<style scoped>\n",
              "    .dataframe tbody tr th:only-of-type {\n",
              "        vertical-align: middle;\n",
              "    }\n",
              "\n",
              "    .dataframe tbody tr th {\n",
              "        vertical-align: top;\n",
              "    }\n",
              "\n",
              "    .dataframe thead th {\n",
              "        text-align: right;\n",
              "    }\n",
              "</style>\n",
              "<table border=\"1\" class=\"dataframe\">\n",
              "  <thead>\n",
              "    <tr style=\"text-align: right;\">\n",
              "      <th></th>\n",
              "      <th>originAirportShortName</th>\n",
              "      <th>departd</th>\n",
              "      <th>returnd</th>\n",
              "      <th>airline</th>\n",
              "      <th>flightInfo.priceUSD</th>\n",
              "      <th>flightMaxStops</th>\n",
              "      <th>airport.latitude</th>\n",
              "      <th>airport.longitude</th>\n",
              "      <th>airport.shortName</th>\n",
              "      <th>city.name</th>\n",
              "      <th>country.name</th>\n",
              "      <th>distance</th>\n",
              "    </tr>\n",
              "  </thead>\n",
              "  <tbody>\n",
              "    <tr>\n",
              "      <th>0</th>\n",
              "      <td>CDG</td>\n",
              "      <td>20220201</td>\n",
              "      <td>20220301</td>\n",
              "      <td>Multiple Airlines</td>\n",
              "      <td>322.97</td>\n",
              "      <td>0</td>\n",
              "      <td>40.750960</td>\n",
              "      <td>-73.987410</td>\n",
              "      <td>NYC</td>\n",
              "      <td>New York</td>\n",
              "      <td>United States</td>\n",
              "      <td>5829</td>\n",
              "    </tr>\n",
              "    <tr>\n",
              "      <th>3</th>\n",
              "      <td>ORY</td>\n",
              "      <td>20220201</td>\n",
              "      <td>20220301</td>\n",
              "      <td>Multiple Airlines</td>\n",
              "      <td>301.28</td>\n",
              "      <td>0</td>\n",
              "      <td>40.750960</td>\n",
              "      <td>-73.987410</td>\n",
              "      <td>NYC</td>\n",
              "      <td>New York</td>\n",
              "      <td>United States</td>\n",
              "      <td>5829</td>\n",
              "    </tr>\n",
              "    <tr>\n",
              "      <th>6</th>\n",
              "      <td>CDG</td>\n",
              "      <td>20220201</td>\n",
              "      <td>20220301</td>\n",
              "      <td>Multiple Airlines</td>\n",
              "      <td>68.95</td>\n",
              "      <td>0</td>\n",
              "      <td>51.507350</td>\n",
              "      <td>-0.127660</td>\n",
              "      <td>LON</td>\n",
              "      <td>London</td>\n",
              "      <td>United Kingdom</td>\n",
              "      <td>343</td>\n",
              "    </tr>\n",
              "    <tr>\n",
              "      <th>9</th>\n",
              "      <td>ORY</td>\n",
              "      <td>20220201</td>\n",
              "      <td>20220301</td>\n",
              "      <td>Multiple Airlines</td>\n",
              "      <td>67.74</td>\n",
              "      <td>0</td>\n",
              "      <td>51.507350</td>\n",
              "      <td>-0.127660</td>\n",
              "      <td>LON</td>\n",
              "      <td>London</td>\n",
              "      <td>United Kingdom</td>\n",
              "      <td>343</td>\n",
              "    </tr>\n",
              "    <tr>\n",
              "      <th>11</th>\n",
              "      <td>CDG</td>\n",
              "      <td>20220201</td>\n",
              "      <td>20220301</td>\n",
              "      <td>Multiple Airlines</td>\n",
              "      <td>381.85</td>\n",
              "      <td>0</td>\n",
              "      <td>25.796521</td>\n",
              "      <td>-80.286617</td>\n",
              "      <td>MIA</td>\n",
              "      <td>Miami</td>\n",
              "      <td>United States</td>\n",
              "      <td>7356</td>\n",
              "    </tr>\n",
              "    <tr>\n",
              "      <th>...</th>\n",
              "      <td>...</td>\n",
              "      <td>...</td>\n",
              "      <td>...</td>\n",
              "      <td>...</td>\n",
              "      <td>...</td>\n",
              "      <td>...</td>\n",
              "      <td>...</td>\n",
              "      <td>...</td>\n",
              "      <td>...</td>\n",
              "      <td>...</td>\n",
              "      <td>...</td>\n",
              "      <td>...</td>\n",
              "    </tr>\n",
              "    <tr>\n",
              "      <th>14577</th>\n",
              "      <td>ORY</td>\n",
              "      <td>20220201</td>\n",
              "      <td>20220301</td>\n",
              "      <td>Multiple Airlines</td>\n",
              "      <td>2103.01</td>\n",
              "      <td>0</td>\n",
              "      <td>32.591800</td>\n",
              "      <td>110.907670</td>\n",
              "      <td>WDS</td>\n",
              "      <td>Shiyan</td>\n",
              "      <td>China</td>\n",
              "      <td>8529</td>\n",
              "    </tr>\n",
              "    <tr>\n",
              "      <th>14578</th>\n",
              "      <td>ORY</td>\n",
              "      <td>20220201</td>\n",
              "      <td>20220301</td>\n",
              "      <td>Multiple Airlines</td>\n",
              "      <td>2146.07</td>\n",
              "      <td>0</td>\n",
              "      <td>36.646700</td>\n",
              "      <td>119.119000</td>\n",
              "      <td>WEF</td>\n",
              "      <td>Weifang</td>\n",
              "      <td>China</td>\n",
              "      <td>8643</td>\n",
              "    </tr>\n",
              "    <tr>\n",
              "      <th>14579</th>\n",
              "      <td>ORY</td>\n",
              "      <td>20220201</td>\n",
              "      <td>20220301</td>\n",
              "      <td>Multiple Airlines</td>\n",
              "      <td>2137.48</td>\n",
              "      <td>0</td>\n",
              "      <td>32.070800</td>\n",
              "      <td>120.976000</td>\n",
              "      <td>NTG</td>\n",
              "      <td>Nantong</td>\n",
              "      <td>China</td>\n",
              "      <td>9154</td>\n",
              "    </tr>\n",
              "    <tr>\n",
              "      <th>14580</th>\n",
              "      <td>ORY</td>\n",
              "      <td>20220201</td>\n",
              "      <td>20220301</td>\n",
              "      <td>Multiple Airlines</td>\n",
              "      <td>2184.50</td>\n",
              "      <td>0</td>\n",
              "      <td>46.843400</td>\n",
              "      <td>130.465000</td>\n",
              "      <td>JMU</td>\n",
              "      <td>Jiamusi</td>\n",
              "      <td>China</td>\n",
              "      <td>8250</td>\n",
              "    </tr>\n",
              "    <tr>\n",
              "      <th>14581</th>\n",
              "      <td>ORY</td>\n",
              "      <td>20220201</td>\n",
              "      <td>20220301</td>\n",
              "      <td>Multiple Airlines</td>\n",
              "      <td>2145.39</td>\n",
              "      <td>0</td>\n",
              "      <td>35.292760</td>\n",
              "      <td>116.334440</td>\n",
              "      <td>JNG</td>\n",
              "      <td>Jining</td>\n",
              "      <td>China</td>\n",
              "      <td>8610</td>\n",
              "    </tr>\n",
              "  </tbody>\n",
              "</table>\n",
              "<p>5884 rows × 12 columns</p>\n",
              "</div>"
            ],
            "text/plain": [
              "      originAirportShortName   departd   returnd            airline  \\\n",
              "0                        CDG  20220201  20220301  Multiple Airlines   \n",
              "3                        ORY  20220201  20220301  Multiple Airlines   \n",
              "6                        CDG  20220201  20220301  Multiple Airlines   \n",
              "9                        ORY  20220201  20220301  Multiple Airlines   \n",
              "11                       CDG  20220201  20220301  Multiple Airlines   \n",
              "...                      ...       ...       ...                ...   \n",
              "14577                    ORY  20220201  20220301  Multiple Airlines   \n",
              "14578                    ORY  20220201  20220301  Multiple Airlines   \n",
              "14579                    ORY  20220201  20220301  Multiple Airlines   \n",
              "14580                    ORY  20220201  20220301  Multiple Airlines   \n",
              "14581                    ORY  20220201  20220301  Multiple Airlines   \n",
              "\n",
              "       flightInfo.priceUSD  flightMaxStops  airport.latitude  \\\n",
              "0                   322.97               0         40.750960   \n",
              "3                   301.28               0         40.750960   \n",
              "6                    68.95               0         51.507350   \n",
              "9                    67.74               0         51.507350   \n",
              "11                  381.85               0         25.796521   \n",
              "...                    ...             ...               ...   \n",
              "14577              2103.01               0         32.591800   \n",
              "14578              2146.07               0         36.646700   \n",
              "14579              2137.48               0         32.070800   \n",
              "14580              2184.50               0         46.843400   \n",
              "14581              2145.39               0         35.292760   \n",
              "\n",
              "       airport.longitude airport.shortName city.name    country.name  distance  \n",
              "0             -73.987410               NYC  New York   United States      5829  \n",
              "3             -73.987410               NYC  New York   United States      5829  \n",
              "6              -0.127660               LON    London  United Kingdom       343  \n",
              "9              -0.127660               LON    London  United Kingdom       343  \n",
              "11            -80.286617               MIA     Miami   United States      7356  \n",
              "...                  ...               ...       ...             ...       ...  \n",
              "14577         110.907670               WDS    Shiyan           China      8529  \n",
              "14578         119.119000               WEF   Weifang           China      8643  \n",
              "14579         120.976000               NTG   Nantong           China      9154  \n",
              "14580         130.465000               JMU   Jiamusi           China      8250  \n",
              "14581         116.334440               JNG    Jining           China      8610  \n",
              "\n",
              "[5884 rows x 12 columns]"
            ]
          },
          "execution_count": 237,
          "metadata": {},
          "output_type": "execute_result"
        }
      ],
      "source": [
        "df_paris #on reprend le dataframe qui réduit Paris aux aéroports Charles de Gaulle (CDG) et Orly (ORY)"
      ]
    },
    {
      "cell_type": "markdown",
      "source": [
        "Pour chaque ville de la liste **'villes_en'**, on calcule le prix moyen d'un vol."
      ],
      "metadata": {
        "id": "HOwpTos6KMWD"
      }
    },
    {
      "cell_type": "code",
      "execution_count": null,
      "metadata": {
        "id": "_B6FQR7PgHZA"
      },
      "outputs": [],
      "source": [
        "prix_m=[]\n",
        "for ville in villes_en : \n",
        "    p=df_paris[df_paris['city.name']==ville]['flightInfo.priceUSD'].astype(int).mean()\n",
        "    prix_m.append(round(p))"
      ]
    },
    {
      "cell_type": "markdown",
      "source": [
        "On récupère également la lattitude et la longitude des villes pour pouvoir tracer une carte du monde."
      ],
      "metadata": {
        "id": "H_vQ91x9XleG"
      }
    },
    {
      "cell_type": "code",
      "execution_count": null,
      "metadata": {
        "id": "A-B7lypdG3Jp"
      },
      "outputs": [],
      "source": [
        "latitude=[]\n",
        "for ville in villes_en:\n",
        "    latitude.append(df_paris[df_paris['city.name']==ville]['airport.latitude'].iloc[0])\n",
        "    longitude=[]\n",
        "for ville in villes_en:\n",
        "    longitude.append(df_paris[df_paris['city.name']==ville]['airport.longitude'].iloc[0])"
      ]
    },
    {
      "cell_type": "markdown",
      "source": [
        "On crée un dataframe avec ces données."
      ],
      "metadata": {
        "id": "WfxsV0FjX12y"
      }
    },
    {
      "cell_type": "code",
      "execution_count": null,
      "metadata": {
        "id": "3X-zeqV6G4Gs"
      },
      "outputs": [],
      "source": [
        "liste_prix=np.array([villes_en,prix_m,latitude,longitude]).T\n",
        "df_prix=pd.DataFrame(liste_prix)\n",
        "df_prix.columns=['Ville','Prix moyen du vol en $','Latitude','Longitude']"
      ]
    },
    {
      "cell_type": "code",
      "execution_count": null,
      "metadata": {
        "colab": {
          "base_uri": "https://localhost:8080/",
          "height": 206
        },
        "id": "NZX0eNmcG8CY",
        "outputId": "507221e6-3fd4-483a-cd61-e1ca57210335"
      },
      "outputs": [
        {
          "data": {
            "text/html": [
              "<div>\n",
              "<style scoped>\n",
              "    .dataframe tbody tr th:only-of-type {\n",
              "        vertical-align: middle;\n",
              "    }\n",
              "\n",
              "    .dataframe tbody tr th {\n",
              "        vertical-align: top;\n",
              "    }\n",
              "\n",
              "    .dataframe thead th {\n",
              "        text-align: right;\n",
              "    }\n",
              "</style>\n",
              "<table border=\"1\" class=\"dataframe\">\n",
              "  <thead>\n",
              "    <tr style=\"text-align: right;\">\n",
              "      <th></th>\n",
              "      <th>Ville</th>\n",
              "      <th>Prix moyen du vol en $</th>\n",
              "      <th>Latitude</th>\n",
              "      <th>Longitude</th>\n",
              "    </tr>\n",
              "  </thead>\n",
              "  <tbody>\n",
              "    <tr>\n",
              "      <th>0</th>\n",
              "      <td>Agadir</td>\n",
              "      <td>198</td>\n",
              "      <td>30.325</td>\n",
              "      <td>-9.41307</td>\n",
              "    </tr>\n",
              "    <tr>\n",
              "      <th>1</th>\n",
              "      <td>Amsterdam</td>\n",
              "      <td>96</td>\n",
              "      <td>52.30736127010797</td>\n",
              "      <td>4.767146455078091</td>\n",
              "    </tr>\n",
              "    <tr>\n",
              "      <th>2</th>\n",
              "      <td>Antalya</td>\n",
              "      <td>196</td>\n",
              "      <td>36.89873</td>\n",
              "      <td>30.80046</td>\n",
              "    </tr>\n",
              "    <tr>\n",
              "      <th>3</th>\n",
              "      <td>Athens</td>\n",
              "      <td>112</td>\n",
              "      <td>37.93636</td>\n",
              "      <td>23.944470000000003</td>\n",
              "    </tr>\n",
              "    <tr>\n",
              "      <th>4</th>\n",
              "      <td>Bangkok</td>\n",
              "      <td>688</td>\n",
              "      <td>13.913579750656696</td>\n",
              "      <td>100.60606335449222</td>\n",
              "    </tr>\n",
              "  </tbody>\n",
              "</table>\n",
              "</div>"
            ],
            "text/plain": [
              "       Ville Prix moyen du vol en $            Latitude           Longitude\n",
              "0     Agadir                    198              30.325            -9.41307\n",
              "1  Amsterdam                     96   52.30736127010797   4.767146455078091\n",
              "2    Antalya                    196            36.89873            30.80046\n",
              "3     Athens                    112            37.93636  23.944470000000003\n",
              "4    Bangkok                    688  13.913579750656696  100.60606335449222"
            ]
          },
          "execution_count": 242,
          "metadata": {},
          "output_type": "execute_result"
        }
      ],
      "source": [
        "df_prix.head()"
      ]
    },
    {
      "cell_type": "markdown",
      "metadata": {
        "id": "wvFuI7bcE2rB"
      },
      "source": [
        "On a donc créé un dataframa qui contient le nom des villes, les prix moyen d'un vol en \\$, la latitude, la longitude et le nombre de vols."
      ]
    },
    {
      "cell_type": "markdown",
      "source": [
        "On spécifie le type des colonnes pour pouvoir faire des calculs sur ces valeurs."
      ],
      "metadata": {
        "id": "PLpCYD6fX8uA"
      }
    },
    {
      "cell_type": "code",
      "execution_count": null,
      "metadata": {
        "id": "k19Zg4e3G8tB"
      },
      "outputs": [],
      "source": [
        "df_prix['Latitude']=df_prix['Latitude'].astype(float)\n",
        "df_prix['Longitude']=df_prix['Longitude'].astype(float)\n",
        "df_prix['Prix moyen du vol en $']=df_prix['Prix moyen du vol en $'].astype(int)"
      ]
    },
    {
      "cell_type": "markdown",
      "source": [
        "On trie le dataframe dans l'ordre croissant selon le prix moyen d'un vol."
      ],
      "metadata": {
        "id": "-rCm08q1YLsX"
      }
    },
    {
      "cell_type": "code",
      "execution_count": null,
      "metadata": {
        "id": "8q8-PJo_JhE-"
      },
      "outputs": [],
      "source": [
        "df_prix=df_prix.sort_values('Prix moyen du vol en $')"
      ]
    },
    {
      "cell_type": "markdown",
      "source": [
        "On installe le package folium pour afficher la carte."
      ],
      "metadata": {
        "id": "hui9Hj78YUh7"
      }
    },
    {
      "cell_type": "code",
      "execution_count": null,
      "metadata": {
        "id": "uDoVu0EcG_3R"
      },
      "outputs": [],
      "source": [
        "!pip install folium"
      ]
    },
    {
      "cell_type": "code",
      "execution_count": null,
      "metadata": {
        "id": "lc2aMz_vHNNZ"
      },
      "outputs": [],
      "source": [
        "import folium"
      ]
    },
    {
      "cell_type": "markdown",
      "source": [
        "On définit notre code couleur : par ordre du moins cher au plus cher \n",
        "- bleu (uniquement une ville : LA destination la moins chère)\n",
        "- vert \n",
        "- jaune \n",
        "- orange \n",
        "- rouge \n",
        "- brun \n",
        "- noir"
      ],
      "metadata": {
        "id": "UgZYR0pgYbMa"
      }
    },
    {
      "cell_type": "code",
      "execution_count": null,
      "metadata": {
        "id": "ouomPGQhPJ6K"
      },
      "outputs": [],
      "source": [
        "df_prix['Couleur'] = pd.cut(df_prix['Prix moyen du vol en $'], bins=6,\n",
        "                            labels=['green','yellow','orange','red','brown','black'])"
      ]
    },
    {
      "cell_type": "markdown",
      "source": [
        "On affiche la carte."
      ],
      "metadata": {
        "id": "aDlEbsCJZGoJ"
      }
    },
    {
      "cell_type": "code",
      "execution_count": null,
      "metadata": {
        "colab": {
          "base_uri": "https://localhost:8080/",
          "height": 717
        },
        "id": "EZm1pKYlHQfK",
        "outputId": "52774fd6-028c-4648-e07c-798d0d366da0"
      },
      "outputs": [
        {
          "data": {
            "text/html": [
              "<div style=\"width:100%;\"><div style=\"position:relative;width:100%;height:0;padding-bottom:60%;\"><span style=\"color:#565656\">Make this Notebook Trusted to load map: File -> Trust Notebook</span><iframe src=\"about:blank\" style=\"position:absolute;width:100%;height:100%;left:0;top:0;border:none !important;\" data-html=%3C%21DOCTYPE%20html%3E%0A%3Chead%3E%20%20%20%20%0A%20%20%20%20%3Cmeta%20http-equiv%3D%22content-type%22%20content%3D%22text/html%3B%20charset%3DUTF-8%22%20/%3E%0A%20%20%20%20%0A%20%20%20%20%20%20%20%20%3Cscript%3E%0A%20%20%20%20%20%20%20%20%20%20%20%20L_NO_TOUCH%20%3D%20false%3B%0A%20%20%20%20%20%20%20%20%20%20%20%20L_DISABLE_3D%20%3D%20false%3B%0A%20%20%20%20%20%20%20%20%3C/script%3E%0A%20%20%20%20%0A%20%20%20%20%3Cstyle%3Ehtml%2C%20body%20%7Bwidth%3A%20100%25%3Bheight%3A%20100%25%3Bmargin%3A%200%3Bpadding%3A%200%3B%7D%3C/style%3E%0A%20%20%20%20%3Cstyle%3E%23map%20%7Bposition%3Aabsolute%3Btop%3A0%3Bbottom%3A0%3Bright%3A0%3Bleft%3A0%3B%7D%3C/style%3E%0A%20%20%20%20%3Cscript%20src%3D%22https%3A//cdn.jsdelivr.net/npm/leaflet%401.6.0/dist/leaflet.js%22%3E%3C/script%3E%0A%20%20%20%20%3Cscript%20src%3D%22https%3A//code.jquery.com/jquery-1.12.4.min.js%22%3E%3C/script%3E%0A%20%20%20%20%3Cscript%20src%3D%22https%3A//maxcdn.bootstrapcdn.com/bootstrap/3.2.0/js/bootstrap.min.js%22%3E%3C/script%3E%0A%20%20%20%20%3Cscript%20src%3D%22https%3A//cdnjs.cloudflare.com/ajax/libs/Leaflet.awesome-markers/2.0.2/leaflet.awesome-markers.js%22%3E%3C/script%3E%0A%20%20%20%20%3Clink%20rel%3D%22stylesheet%22%20href%3D%22https%3A//cdn.jsdelivr.net/npm/leaflet%401.6.0/dist/leaflet.css%22/%3E%0A%20%20%20%20%3Clink%20rel%3D%22stylesheet%22%20href%3D%22https%3A//maxcdn.bootstrapcdn.com/bootstrap/3.2.0/css/bootstrap.min.css%22/%3E%0A%20%20%20%20%3Clink%20rel%3D%22stylesheet%22%20href%3D%22https%3A//maxcdn.bootstrapcdn.com/bootstrap/3.2.0/css/bootstrap-theme.min.css%22/%3E%0A%20%20%20%20%3Clink%20rel%3D%22stylesheet%22%20href%3D%22https%3A//maxcdn.bootstrapcdn.com/font-awesome/4.6.3/css/font-awesome.min.css%22/%3E%0A%20%20%20%20%3Clink%20rel%3D%22stylesheet%22%20href%3D%22https%3A//cdnjs.cloudflare.com/ajax/libs/Leaflet.awesome-markers/2.0.2/leaflet.awesome-markers.css%22/%3E%0A%20%20%20%20%3Clink%20rel%3D%22stylesheet%22%20href%3D%22https%3A//cdn.jsdelivr.net/gh/python-visualization/folium/folium/templates/leaflet.awesome.rotate.min.css%22/%3E%0A%20%20%20%20%0A%20%20%20%20%20%20%20%20%20%20%20%20%3Cmeta%20name%3D%22viewport%22%20content%3D%22width%3Ddevice-width%2C%0A%20%20%20%20%20%20%20%20%20%20%20%20%20%20%20%20initial-scale%3D1.0%2C%20maximum-scale%3D1.0%2C%20user-scalable%3Dno%22%20/%3E%0A%20%20%20%20%20%20%20%20%20%20%20%20%3Cstyle%3E%0A%20%20%20%20%20%20%20%20%20%20%20%20%20%20%20%20%23map_488442466ca04305bc30478c4ee59e17%20%7B%0A%20%20%20%20%20%20%20%20%20%20%20%20%20%20%20%20%20%20%20%20position%3A%20relative%3B%0A%20%20%20%20%20%20%20%20%20%20%20%20%20%20%20%20%20%20%20%20width%3A%20100.0%25%3B%0A%20%20%20%20%20%20%20%20%20%20%20%20%20%20%20%20%20%20%20%20height%3A%20100.0%25%3B%0A%20%20%20%20%20%20%20%20%20%20%20%20%20%20%20%20%20%20%20%20left%3A%200.0%25%3B%0A%20%20%20%20%20%20%20%20%20%20%20%20%20%20%20%20%20%20%20%20top%3A%200.0%25%3B%0A%20%20%20%20%20%20%20%20%20%20%20%20%20%20%20%20%7D%0A%20%20%20%20%20%20%20%20%20%20%20%20%3C/style%3E%0A%20%20%20%20%20%20%20%20%0A%3C/head%3E%0A%3Cbody%3E%20%20%20%20%0A%20%20%20%20%0A%20%20%20%20%20%20%20%20%20%20%20%20%3Cdiv%20class%3D%22folium-map%22%20id%3D%22map_488442466ca04305bc30478c4ee59e17%22%20%3E%3C/div%3E%0A%20%20%20%20%20%20%20%20%0A%3C/body%3E%0A%3Cscript%3E%20%20%20%20%0A%20%20%20%20%0A%20%20%20%20%20%20%20%20%20%20%20%20var%20map_488442466ca04305bc30478c4ee59e17%20%3D%20L.map%28%0A%20%20%20%20%20%20%20%20%20%20%20%20%20%20%20%20%22map_488442466ca04305bc30478c4ee59e17%22%2C%0A%20%20%20%20%20%20%20%20%20%20%20%20%20%20%20%20%7B%0A%20%20%20%20%20%20%20%20%20%20%20%20%20%20%20%20%20%20%20%20center%3A%20%5B0%2C%200%5D%2C%0A%20%20%20%20%20%20%20%20%20%20%20%20%20%20%20%20%20%20%20%20crs%3A%20L.CRS.EPSG3857%2C%0A%20%20%20%20%20%20%20%20%20%20%20%20%20%20%20%20%20%20%20%20zoom%3A%201%2C%0A%20%20%20%20%20%20%20%20%20%20%20%20%20%20%20%20%20%20%20%20zoomControl%3A%20true%2C%0A%20%20%20%20%20%20%20%20%20%20%20%20%20%20%20%20%20%20%20%20preferCanvas%3A%20false%2C%0A%20%20%20%20%20%20%20%20%20%20%20%20%20%20%20%20%7D%0A%20%20%20%20%20%20%20%20%20%20%20%20%29%3B%0A%0A%20%20%20%20%20%20%20%20%20%20%20%20%0A%0A%20%20%20%20%20%20%20%20%0A%20%20%20%20%0A%20%20%20%20%20%20%20%20%20%20%20%20var%20tile_layer_133e08d4e27e4f189d057bf7d1c197e5%20%3D%20L.tileLayer%28%0A%20%20%20%20%20%20%20%20%20%20%20%20%20%20%20%20%22https%3A//cartodb-basemaps-%7Bs%7D.global.ssl.fastly.net/light_all/%7Bz%7D/%7Bx%7D/%7By%7D.png%22%2C%0A%20%20%20%20%20%20%20%20%20%20%20%20%20%20%20%20%7B%22attribution%22%3A%20%22%5Cu0026copy%3B%20%5Cu003ca%20href%3D%5C%22http%3A//www.openstreetmap.org/copyright%5C%22%5Cu003eOpenStreetMap%5Cu003c/a%5Cu003e%20contributors%20%5Cu0026copy%3B%20%5Cu003ca%20href%3D%5C%22http%3A//cartodb.com/attributions%5C%22%5Cu003eCartoDB%5Cu003c/a%5Cu003e%2C%20CartoDB%20%5Cu003ca%20href%20%3D%5C%22http%3A//cartodb.com/attributions%5C%22%5Cu003eattributions%5Cu003c/a%5Cu003e%22%2C%20%22detectRetina%22%3A%20false%2C%20%22maxNativeZoom%22%3A%2018%2C%20%22maxZoom%22%3A%2018%2C%20%22minZoom%22%3A%200%2C%20%22noWrap%22%3A%20false%2C%20%22opacity%22%3A%201%2C%20%22subdomains%22%3A%20%22abc%22%2C%20%22tms%22%3A%20false%7D%0A%20%20%20%20%20%20%20%20%20%20%20%20%29.addTo%28map_488442466ca04305bc30478c4ee59e17%29%3B%0A%20%20%20%20%20%20%20%20%0A%20%20%20%20%0A%20%20%20%20%20%20%20%20%20%20%20%20var%20circle_marker_8513622d9aa34ecabdcd1e7f0425802a%20%3D%20L.circleMarker%28%0A%20%20%20%20%20%20%20%20%20%20%20%20%20%20%20%20%5B47.43693%2C%2019.25559%5D%2C%0A%20%20%20%20%20%20%20%20%20%20%20%20%20%20%20%20%7B%22bubblingMouseEvents%22%3A%20true%2C%20%22color%22%3A%20%22blue%22%2C%20%22dashArray%22%3A%20null%2C%20%22dashOffset%22%3A%20null%2C%20%22fill%22%3A%20true%2C%20%22fillColor%22%3A%20%22blue%22%2C%20%22fillOpacity%22%3A%200.2%2C%20%22fillRule%22%3A%20%22evenodd%22%2C%20%22lineCap%22%3A%20%22round%22%2C%20%22lineJoin%22%3A%20%22round%22%2C%20%22opacity%22%3A%201.0%2C%20%22radius%22%3A%2010%2C%20%22stroke%22%3A%20true%2C%20%22weight%22%3A%203%7D%0A%20%20%20%20%20%20%20%20%20%20%20%20%29.addTo%28map_488442466ca04305bc30478c4ee59e17%29%3B%0A%20%20%20%20%20%20%20%20%0A%20%20%20%20%0A%20%20%20%20%20%20%20%20var%20popup_2f608e1b8db845c2a08118902c70fc4e%20%3D%20L.popup%28%7B%22maxWidth%22%3A%20%22100%25%22%7D%29%3B%0A%0A%20%20%20%20%20%20%20%20%0A%20%20%20%20%20%20%20%20%20%20%20%20var%20html_5e404a7819514b9ca6e0d7b39c1fbe46%20%3D%20%24%28%60%3Cdiv%20id%3D%22html_5e404a7819514b9ca6e0d7b39c1fbe46%22%20style%3D%22width%3A%20100.0%25%3B%20height%3A%20100.0%25%3B%22%3EVille%20%3A%20Budapest%3Cbr%3E%20%20%20%20%20%20%20%20%20%20%20%20%20%20%20%20%20%20%20%20%20Prix%20moyen%20d%27un%20vol%20en%20%24%20%3A%2042%3Cbr%3E%3C/div%3E%60%29%5B0%5D%3B%0A%20%20%20%20%20%20%20%20%20%20%20%20popup_2f608e1b8db845c2a08118902c70fc4e.setContent%28html_5e404a7819514b9ca6e0d7b39c1fbe46%29%3B%0A%20%20%20%20%20%20%20%20%0A%0A%20%20%20%20%20%20%20%20circle_marker_8513622d9aa34ecabdcd1e7f0425802a.bindPopup%28popup_2f608e1b8db845c2a08118902c70fc4e%29%0A%20%20%20%20%20%20%20%20%3B%0A%0A%20%20%20%20%20%20%20%20%0A%20%20%20%20%0A%20%20%20%20%0A%20%20%20%20%20%20%20%20%20%20%20%20var%20circle_marker_827fb388f3f242138a517ffa12ec92bc%20%3D%20L.circleMarker%28%0A%20%20%20%20%20%20%20%20%20%20%20%20%20%20%20%20%5B41.29656412272211%2C%202.08395316406245%5D%2C%0A%20%20%20%20%20%20%20%20%20%20%20%20%20%20%20%20%7B%22bubblingMouseEvents%22%3A%20true%2C%20%22color%22%3A%20%22green%22%2C%20%22dashArray%22%3A%20null%2C%20%22dashOffset%22%3A%20null%2C%20%22fill%22%3A%20true%2C%20%22fillColor%22%3A%20%22green%22%2C%20%22fillOpacity%22%3A%200.2%2C%20%22fillRule%22%3A%20%22evenodd%22%2C%20%22lineCap%22%3A%20%22round%22%2C%20%22lineJoin%22%3A%20%22round%22%2C%20%22opacity%22%3A%201.0%2C%20%22radius%22%3A%2010%2C%20%22stroke%22%3A%20true%2C%20%22weight%22%3A%203%7D%0A%20%20%20%20%20%20%20%20%20%20%20%20%29.addTo%28map_488442466ca04305bc30478c4ee59e17%29%3B%0A%20%20%20%20%20%20%20%20%0A%20%20%20%20%0A%20%20%20%20%20%20%20%20var%20popup_b78dde463942424baf14966684552353%20%3D%20L.popup%28%7B%22maxWidth%22%3A%20%22100%25%22%7D%29%3B%0A%0A%20%20%20%20%20%20%20%20%0A%20%20%20%20%20%20%20%20%20%20%20%20var%20html_fb031976527e4de2975f2e8c4008cbcf%20%3D%20%24%28%60%3Cdiv%20id%3D%22html_fb031976527e4de2975f2e8c4008cbcf%22%20style%3D%22width%3A%20100.0%25%3B%20height%3A%20100.0%25%3B%22%3EVille%20%3A%20Barcelona%3Cbr%3E%20%20%20%20%20%20%20%20%20%20%20%20%20%20%20%20%20%20%20%20%20Prix%20moyen%20d%27un%20vol%20en%20%24%20%3A%2049%3Cbr%3E%3C/div%3E%60%29%5B0%5D%3B%0A%20%20%20%20%20%20%20%20%20%20%20%20popup_b78dde463942424baf14966684552353.setContent%28html_fb031976527e4de2975f2e8c4008cbcf%29%3B%0A%20%20%20%20%20%20%20%20%0A%0A%20%20%20%20%20%20%20%20circle_marker_827fb388f3f242138a517ffa12ec92bc.bindPopup%28popup_b78dde463942424baf14966684552353%29%0A%20%20%20%20%20%20%20%20%3B%0A%0A%20%20%20%20%20%20%20%20%0A%20%20%20%20%0A%20%20%20%20%0A%20%20%20%20%20%20%20%20%20%20%20%20var%20circle_marker_26b6d004c3e840ee873a98545077a736%20%3D%20L.circleMarker%28%0A%20%20%20%20%20%20%20%20%20%20%20%20%20%20%20%20%5B38.776090933993636%2C%20-9.135576677246036%5D%2C%0A%20%20%20%20%20%20%20%20%20%20%20%20%20%20%20%20%7B%22bubblingMouseEvents%22%3A%20true%2C%20%22color%22%3A%20%22green%22%2C%20%22dashArray%22%3A%20null%2C%20%22dashOffset%22%3A%20null%2C%20%22fill%22%3A%20true%2C%20%22fillColor%22%3A%20%22green%22%2C%20%22fillOpacity%22%3A%200.2%2C%20%22fillRule%22%3A%20%22evenodd%22%2C%20%22lineCap%22%3A%20%22round%22%2C%20%22lineJoin%22%3A%20%22round%22%2C%20%22opacity%22%3A%201.0%2C%20%22radius%22%3A%2010%2C%20%22stroke%22%3A%20true%2C%20%22weight%22%3A%203%7D%0A%20%20%20%20%20%20%20%20%20%20%20%20%29.addTo%28map_488442466ca04305bc30478c4ee59e17%29%3B%0A%20%20%20%20%20%20%20%20%0A%20%20%20%20%0A%20%20%20%20%20%20%20%20var%20popup_e70f4b7c867845acbf9cb1ca40a49e07%20%3D%20L.popup%28%7B%22maxWidth%22%3A%20%22100%25%22%7D%29%3B%0A%0A%20%20%20%20%20%20%20%20%0A%20%20%20%20%20%20%20%20%20%20%20%20var%20html_f84819eb4baa4b2cb79b9a651d0dfe1a%20%3D%20%24%28%60%3Cdiv%20id%3D%22html_f84819eb4baa4b2cb79b9a651d0dfe1a%22%20style%3D%22width%3A%20100.0%25%3B%20height%3A%20100.0%25%3B%22%3EVille%20%3A%20Lisbon%3Cbr%3E%20%20%20%20%20%20%20%20%20%20%20%20%20%20%20%20%20%20%20%20%20Prix%20moyen%20d%27un%20vol%20en%20%24%20%3A%2054%3Cbr%3E%3C/div%3E%60%29%5B0%5D%3B%0A%20%20%20%20%20%20%20%20%20%20%20%20popup_e70f4b7c867845acbf9cb1ca40a49e07.setContent%28html_f84819eb4baa4b2cb79b9a651d0dfe1a%29%3B%0A%20%20%20%20%20%20%20%20%0A%0A%20%20%20%20%20%20%20%20circle_marker_26b6d004c3e840ee873a98545077a736.bindPopup%28popup_e70f4b7c867845acbf9cb1ca40a49e07%29%0A%20%20%20%20%20%20%20%20%3B%0A%0A%20%20%20%20%20%20%20%20%0A%20%20%20%20%0A%20%20%20%20%0A%20%20%20%20%20%20%20%20%20%20%20%20var%20circle_marker_ca0b4456d1684b9786c61b8349fdca21%20%3D%20L.circleMarker%28%0A%20%20%20%20%20%20%20%20%20%20%20%20%20%20%20%20%5B52.36213%2C%2013.50168%5D%2C%0A%20%20%20%20%20%20%20%20%20%20%20%20%20%20%20%20%7B%22bubblingMouseEvents%22%3A%20true%2C%20%22color%22%3A%20%22green%22%2C%20%22dashArray%22%3A%20null%2C%20%22dashOffset%22%3A%20null%2C%20%22fill%22%3A%20true%2C%20%22fillColor%22%3A%20%22green%22%2C%20%22fillOpacity%22%3A%200.2%2C%20%22fillRule%22%3A%20%22evenodd%22%2C%20%22lineCap%22%3A%20%22round%22%2C%20%22lineJoin%22%3A%20%22round%22%2C%20%22opacity%22%3A%201.0%2C%20%22radius%22%3A%2010%2C%20%22stroke%22%3A%20true%2C%20%22weight%22%3A%203%7D%0A%20%20%20%20%20%20%20%20%20%20%20%20%29.addTo%28map_488442466ca04305bc30478c4ee59e17%29%3B%0A%20%20%20%20%20%20%20%20%0A%20%20%20%20%0A%20%20%20%20%20%20%20%20var%20popup_da7e9881483d40c08ff04399b618e694%20%3D%20L.popup%28%7B%22maxWidth%22%3A%20%22100%25%22%7D%29%3B%0A%0A%20%20%20%20%20%20%20%20%0A%20%20%20%20%20%20%20%20%20%20%20%20var%20html_10d60bb66f7e4f658d3bca0f0bebdfc6%20%3D%20%24%28%60%3Cdiv%20id%3D%22html_10d60bb66f7e4f658d3bca0f0bebdfc6%22%20style%3D%22width%3A%20100.0%25%3B%20height%3A%20100.0%25%3B%22%3EVille%20%3A%20Berlin%3Cbr%3E%20%20%20%20%20%20%20%20%20%20%20%20%20%20%20%20%20%20%20%20%20Prix%20moyen%20d%27un%20vol%20en%20%24%20%3A%2066%3Cbr%3E%3C/div%3E%60%29%5B0%5D%3B%0A%20%20%20%20%20%20%20%20%20%20%20%20popup_da7e9881483d40c08ff04399b618e694.setContent%28html_10d60bb66f7e4f658d3bca0f0bebdfc6%29%3B%0A%20%20%20%20%20%20%20%20%0A%0A%20%20%20%20%20%20%20%20circle_marker_ca0b4456d1684b9786c61b8349fdca21.bindPopup%28popup_da7e9881483d40c08ff04399b618e694%29%0A%20%20%20%20%20%20%20%20%3B%0A%0A%20%20%20%20%20%20%20%20%0A%20%20%20%20%0A%20%20%20%20%0A%20%20%20%20%20%20%20%20%20%20%20%20var%20circle_marker_9d40de0388504d8c9aaad253e739998a%20%3D%20L.circleMarker%28%0A%20%20%20%20%20%20%20%20%20%20%20%20%20%20%20%20%5B53.42664913574879%2C%20-6.250510603027351%5D%2C%0A%20%20%20%20%20%20%20%20%20%20%20%20%20%20%20%20%7B%22bubblingMouseEvents%22%3A%20true%2C%20%22color%22%3A%20%22green%22%2C%20%22dashArray%22%3A%20null%2C%20%22dashOffset%22%3A%20null%2C%20%22fill%22%3A%20true%2C%20%22fillColor%22%3A%20%22green%22%2C%20%22fillOpacity%22%3A%200.2%2C%20%22fillRule%22%3A%20%22evenodd%22%2C%20%22lineCap%22%3A%20%22round%22%2C%20%22lineJoin%22%3A%20%22round%22%2C%20%22opacity%22%3A%201.0%2C%20%22radius%22%3A%2010%2C%20%22stroke%22%3A%20true%2C%20%22weight%22%3A%203%7D%0A%20%20%20%20%20%20%20%20%20%20%20%20%29.addTo%28map_488442466ca04305bc30478c4ee59e17%29%3B%0A%20%20%20%20%20%20%20%20%0A%20%20%20%20%0A%20%20%20%20%20%20%20%20var%20popup_ef0e2b3fe7764eff93fa4ecb24599aea%20%3D%20L.popup%28%7B%22maxWidth%22%3A%20%22100%25%22%7D%29%3B%0A%0A%20%20%20%20%20%20%20%20%0A%20%20%20%20%20%20%20%20%20%20%20%20var%20html_3c96ab8a8dfd43df90c7dc99625c4dbf%20%3D%20%24%28%60%3Cdiv%20id%3D%22html_3c96ab8a8dfd43df90c7dc99625c4dbf%22%20style%3D%22width%3A%20100.0%25%3B%20height%3A%20100.0%25%3B%22%3EVille%20%3A%20Dublin%3Cbr%3E%20%20%20%20%20%20%20%20%20%20%20%20%20%20%20%20%20%20%20%20%20Prix%20moyen%20d%27un%20vol%20en%20%24%20%3A%2066%3Cbr%3E%3C/div%3E%60%29%5B0%5D%3B%0A%20%20%20%20%20%20%20%20%20%20%20%20popup_ef0e2b3fe7764eff93fa4ecb24599aea.setContent%28html_3c96ab8a8dfd43df90c7dc99625c4dbf%29%3B%0A%20%20%20%20%20%20%20%20%0A%0A%20%20%20%20%20%20%20%20circle_marker_9d40de0388504d8c9aaad253e739998a.bindPopup%28popup_ef0e2b3fe7764eff93fa4ecb24599aea%29%0A%20%20%20%20%20%20%20%20%3B%0A%0A%20%20%20%20%20%20%20%20%0A%20%20%20%20%0A%20%20%20%20%0A%20%20%20%20%20%20%20%20%20%20%20%20var%20circle_marker_5720a2184dc14450b688f4d7235065ca%20%3D%20L.circleMarker%28%0A%20%20%20%20%20%20%20%20%20%20%20%20%20%20%20%20%5B55.95%2C%20-3.3725%5D%2C%0A%20%20%20%20%20%20%20%20%20%20%20%20%20%20%20%20%7B%22bubblingMouseEvents%22%3A%20true%2C%20%22color%22%3A%20%22green%22%2C%20%22dashArray%22%3A%20null%2C%20%22dashOffset%22%3A%20null%2C%20%22fill%22%3A%20true%2C%20%22fillColor%22%3A%20%22green%22%2C%20%22fillOpacity%22%3A%200.2%2C%20%22fillRule%22%3A%20%22evenodd%22%2C%20%22lineCap%22%3A%20%22round%22%2C%20%22lineJoin%22%3A%20%22round%22%2C%20%22opacity%22%3A%201.0%2C%20%22radius%22%3A%2010%2C%20%22stroke%22%3A%20true%2C%20%22weight%22%3A%203%7D%0A%20%20%20%20%20%20%20%20%20%20%20%20%29.addTo%28map_488442466ca04305bc30478c4ee59e17%29%3B%0A%20%20%20%20%20%20%20%20%0A%20%20%20%20%0A%20%20%20%20%20%20%20%20var%20popup_cef345b6003c43c3a3247703a55e9670%20%3D%20L.popup%28%7B%22maxWidth%22%3A%20%22100%25%22%7D%29%3B%0A%0A%20%20%20%20%20%20%20%20%0A%20%20%20%20%20%20%20%20%20%20%20%20var%20html_59229b92492c4932af1083bd21d1b391%20%3D%20%24%28%60%3Cdiv%20id%3D%22html_59229b92492c4932af1083bd21d1b391%22%20style%3D%22width%3A%20100.0%25%3B%20height%3A%20100.0%25%3B%22%3EVille%20%3A%20Edinburgh%3Cbr%3E%20%20%20%20%20%20%20%20%20%20%20%20%20%20%20%20%20%20%20%20%20Prix%20moyen%20d%27un%20vol%20en%20%24%20%3A%2074%3Cbr%3E%3C/div%3E%60%29%5B0%5D%3B%0A%20%20%20%20%20%20%20%20%20%20%20%20popup_cef345b6003c43c3a3247703a55e9670.setContent%28html_59229b92492c4932af1083bd21d1b391%29%3B%0A%20%20%20%20%20%20%20%20%0A%0A%20%20%20%20%20%20%20%20circle_marker_5720a2184dc14450b688f4d7235065ca.bindPopup%28popup_cef345b6003c43c3a3247703a55e9670%29%0A%20%20%20%20%20%20%20%20%3B%0A%0A%20%20%20%20%20%20%20%20%0A%20%20%20%20%0A%20%20%20%20%0A%20%20%20%20%20%20%20%20%20%20%20%20var%20circle_marker_0dea4a55608b4d17bfcbc5764be2daf2%20%3D%20L.circleMarker%28%0A%20%20%20%20%20%20%20%20%20%20%20%20%20%20%20%20%5B55.61792%2C%2012.65597%5D%2C%0A%20%20%20%20%20%20%20%20%20%20%20%20%20%20%20%20%7B%22bubblingMouseEvents%22%3A%20true%2C%20%22color%22%3A%20%22green%22%2C%20%22dashArray%22%3A%20null%2C%20%22dashOffset%22%3A%20null%2C%20%22fill%22%3A%20true%2C%20%22fillColor%22%3A%20%22green%22%2C%20%22fillOpacity%22%3A%200.2%2C%20%22fillRule%22%3A%20%22evenodd%22%2C%20%22lineCap%22%3A%20%22round%22%2C%20%22lineJoin%22%3A%20%22round%22%2C%20%22opacity%22%3A%201.0%2C%20%22radius%22%3A%2010%2C%20%22stroke%22%3A%20true%2C%20%22weight%22%3A%203%7D%0A%20%20%20%20%20%20%20%20%20%20%20%20%29.addTo%28map_488442466ca04305bc30478c4ee59e17%29%3B%0A%20%20%20%20%20%20%20%20%0A%20%20%20%20%0A%20%20%20%20%20%20%20%20var%20popup_24262606560947ca8e9d236f457c79d9%20%3D%20L.popup%28%7B%22maxWidth%22%3A%20%22100%25%22%7D%29%3B%0A%0A%20%20%20%20%20%20%20%20%0A%20%20%20%20%20%20%20%20%20%20%20%20var%20html_82300c8ee39e479d91877ad0c5d70cc8%20%3D%20%24%28%60%3Cdiv%20id%3D%22html_82300c8ee39e479d91877ad0c5d70cc8%22%20style%3D%22width%3A%20100.0%25%3B%20height%3A%20100.0%25%3B%22%3EVille%20%3A%20Copenhagen%3Cbr%3E%20%20%20%20%20%20%20%20%20%20%20%20%20%20%20%20%20%20%20%20%20Prix%20moyen%20d%27un%20vol%20en%20%24%20%3A%2090%3Cbr%3E%3C/div%3E%60%29%5B0%5D%3B%0A%20%20%20%20%20%20%20%20%20%20%20%20popup_24262606560947ca8e9d236f457c79d9.setContent%28html_82300c8ee39e479d91877ad0c5d70cc8%29%3B%0A%20%20%20%20%20%20%20%20%0A%0A%20%20%20%20%20%20%20%20circle_marker_0dea4a55608b4d17bfcbc5764be2daf2.bindPopup%28popup_24262606560947ca8e9d236f457c79d9%29%0A%20%20%20%20%20%20%20%20%3B%0A%0A%20%20%20%20%20%20%20%20%0A%20%20%20%20%0A%20%20%20%20%0A%20%20%20%20%20%20%20%20%20%20%20%20var%20circle_marker_b1243f50296f4b72840bb3a42d6ff9cb%20%3D%20L.circleMarker%28%0A%20%20%20%20%20%20%20%20%20%20%20%20%20%20%20%20%5B52.30736127010797%2C%204.767146455078091%5D%2C%0A%20%20%20%20%20%20%20%20%20%20%20%20%20%20%20%20%7B%22bubblingMouseEvents%22%3A%20true%2C%20%22color%22%3A%20%22green%22%2C%20%22dashArray%22%3A%20null%2C%20%22dashOffset%22%3A%20null%2C%20%22fill%22%3A%20true%2C%20%22fillColor%22%3A%20%22green%22%2C%20%22fillOpacity%22%3A%200.2%2C%20%22fillRule%22%3A%20%22evenodd%22%2C%20%22lineCap%22%3A%20%22round%22%2C%20%22lineJoin%22%3A%20%22round%22%2C%20%22opacity%22%3A%201.0%2C%20%22radius%22%3A%2010%2C%20%22stroke%22%3A%20true%2C%20%22weight%22%3A%203%7D%0A%20%20%20%20%20%20%20%20%20%20%20%20%29.addTo%28map_488442466ca04305bc30478c4ee59e17%29%3B%0A%20%20%20%20%20%20%20%20%0A%20%20%20%20%0A%20%20%20%20%20%20%20%20var%20popup_437e508872db4fd4b5b09f4899c48138%20%3D%20L.popup%28%7B%22maxWidth%22%3A%20%22100%25%22%7D%29%3B%0A%0A%20%20%20%20%20%20%20%20%0A%20%20%20%20%20%20%20%20%20%20%20%20var%20html_78db3e1ea2c04ee086f8629729f39ac9%20%3D%20%24%28%60%3Cdiv%20id%3D%22html_78db3e1ea2c04ee086f8629729f39ac9%22%20style%3D%22width%3A%20100.0%25%3B%20height%3A%20100.0%25%3B%22%3EVille%20%3A%20Amsterdam%3Cbr%3E%20%20%20%20%20%20%20%20%20%20%20%20%20%20%20%20%20%20%20%20%20Prix%20moyen%20d%27un%20vol%20en%20%24%20%3A%2096%3Cbr%3E%3C/div%3E%60%29%5B0%5D%3B%0A%20%20%20%20%20%20%20%20%20%20%20%20popup_437e508872db4fd4b5b09f4899c48138.setContent%28html_78db3e1ea2c04ee086f8629729f39ac9%29%3B%0A%20%20%20%20%20%20%20%20%0A%0A%20%20%20%20%20%20%20%20circle_marker_b1243f50296f4b72840bb3a42d6ff9cb.bindPopup%28popup_437e508872db4fd4b5b09f4899c48138%29%0A%20%20%20%20%20%20%20%20%3B%0A%0A%20%20%20%20%20%20%20%20%0A%20%20%20%20%0A%20%20%20%20%0A%20%20%20%20%20%20%20%20%20%20%20%20var%20circle_marker_81f4d83eab1b431fa94e7fa37d738745%20%3D%20L.circleMarker%28%0A%20%20%20%20%20%20%20%20%20%20%20%20%20%20%20%20%5B37.93636%2C%2023.944470000000003%5D%2C%0A%20%20%20%20%20%20%20%20%20%20%20%20%20%20%20%20%7B%22bubblingMouseEvents%22%3A%20true%2C%20%22color%22%3A%20%22green%22%2C%20%22dashArray%22%3A%20null%2C%20%22dashOffset%22%3A%20null%2C%20%22fill%22%3A%20true%2C%20%22fillColor%22%3A%20%22green%22%2C%20%22fillOpacity%22%3A%200.2%2C%20%22fillRule%22%3A%20%22evenodd%22%2C%20%22lineCap%22%3A%20%22round%22%2C%20%22lineJoin%22%3A%20%22round%22%2C%20%22opacity%22%3A%201.0%2C%20%22radius%22%3A%2010%2C%20%22stroke%22%3A%20true%2C%20%22weight%22%3A%203%7D%0A%20%20%20%20%20%20%20%20%20%20%20%20%29.addTo%28map_488442466ca04305bc30478c4ee59e17%29%3B%0A%20%20%20%20%20%20%20%20%0A%20%20%20%20%0A%20%20%20%20%20%20%20%20var%20popup_e004cac56f9c4bac953324b08f001dbb%20%3D%20L.popup%28%7B%22maxWidth%22%3A%20%22100%25%22%7D%29%3B%0A%0A%20%20%20%20%20%20%20%20%0A%20%20%20%20%20%20%20%20%20%20%20%20var%20html_8a63827b39a841d6931ec74b3b49b761%20%3D%20%24%28%60%3Cdiv%20id%3D%22html_8a63827b39a841d6931ec74b3b49b761%22%20style%3D%22width%3A%20100.0%25%3B%20height%3A%20100.0%25%3B%22%3EVille%20%3A%20Athens%3Cbr%3E%20%20%20%20%20%20%20%20%20%20%20%20%20%20%20%20%20%20%20%20%20Prix%20moyen%20d%27un%20vol%20en%20%24%20%3A%20112%3Cbr%3E%3C/div%3E%60%29%5B0%5D%3B%0A%20%20%20%20%20%20%20%20%20%20%20%20popup_e004cac56f9c4bac953324b08f001dbb.setContent%28html_8a63827b39a841d6931ec74b3b49b761%29%3B%0A%20%20%20%20%20%20%20%20%0A%0A%20%20%20%20%20%20%20%20circle_marker_81f4d83eab1b431fa94e7fa37d738745.bindPopup%28popup_e004cac56f9c4bac953324b08f001dbb%29%0A%20%20%20%20%20%20%20%20%3B%0A%0A%20%20%20%20%20%20%20%20%0A%20%20%20%20%0A%20%20%20%20%0A%20%20%20%20%20%20%20%20%20%20%20%20var%20circle_marker_d0d9e36184434ffb9eb0e28c7fe821e8%20%3D%20L.circleMarker%28%0A%20%20%20%20%20%20%20%20%20%20%20%20%20%20%20%20%5B60.19392%2C%2011.10036%5D%2C%0A%20%20%20%20%20%20%20%20%20%20%20%20%20%20%20%20%7B%22bubblingMouseEvents%22%3A%20true%2C%20%22color%22%3A%20%22green%22%2C%20%22dashArray%22%3A%20null%2C%20%22dashOffset%22%3A%20null%2C%20%22fill%22%3A%20true%2C%20%22fillColor%22%3A%20%22green%22%2C%20%22fillOpacity%22%3A%200.2%2C%20%22fillRule%22%3A%20%22evenodd%22%2C%20%22lineCap%22%3A%20%22round%22%2C%20%22lineJoin%22%3A%20%22round%22%2C%20%22opacity%22%3A%201.0%2C%20%22radius%22%3A%2010%2C%20%22stroke%22%3A%20true%2C%20%22weight%22%3A%203%7D%0A%20%20%20%20%20%20%20%20%20%20%20%20%29.addTo%28map_488442466ca04305bc30478c4ee59e17%29%3B%0A%20%20%20%20%20%20%20%20%0A%20%20%20%20%0A%20%20%20%20%20%20%20%20var%20popup_55bab9bb3b8641d9aa7782c50a7055d1%20%3D%20L.popup%28%7B%22maxWidth%22%3A%20%22100%25%22%7D%29%3B%0A%0A%20%20%20%20%20%20%20%20%0A%20%20%20%20%20%20%20%20%20%20%20%20var%20html_c8dca37c4e2e43a8b6f7cf4d70836255%20%3D%20%24%28%60%3Cdiv%20id%3D%22html_c8dca37c4e2e43a8b6f7cf4d70836255%22%20style%3D%22width%3A%20100.0%25%3B%20height%3A%20100.0%25%3B%22%3EVille%20%3A%20Oslo%3Cbr%3E%20%20%20%20%20%20%20%20%20%20%20%20%20%20%20%20%20%20%20%20%20Prix%20moyen%20d%27un%20vol%20en%20%24%20%3A%20112%3Cbr%3E%3C/div%3E%60%29%5B0%5D%3B%0A%20%20%20%20%20%20%20%20%20%20%20%20popup_55bab9bb3b8641d9aa7782c50a7055d1.setContent%28html_c8dca37c4e2e43a8b6f7cf4d70836255%29%3B%0A%20%20%20%20%20%20%20%20%0A%0A%20%20%20%20%20%20%20%20circle_marker_d0d9e36184434ffb9eb0e28c7fe821e8.bindPopup%28popup_55bab9bb3b8641d9aa7782c50a7055d1%29%0A%20%20%20%20%20%20%20%20%3B%0A%0A%20%20%20%20%20%20%20%20%0A%20%20%20%20%0A%20%20%20%20%0A%20%20%20%20%20%20%20%20%20%20%20%20var%20circle_marker_05371a9f7ff14e4797b7236a50eb7a10%20%3D%20L.circleMarker%28%0A%20%20%20%20%20%20%20%20%20%20%20%20%20%20%20%20%5B60.31721999999999%2C%2024.96333%5D%2C%0A%20%20%20%20%20%20%20%20%20%20%20%20%20%20%20%20%7B%22bubblingMouseEvents%22%3A%20true%2C%20%22color%22%3A%20%22green%22%2C%20%22dashArray%22%3A%20null%2C%20%22dashOffset%22%3A%20null%2C%20%22fill%22%3A%20true%2C%20%22fillColor%22%3A%20%22green%22%2C%20%22fillOpacity%22%3A%200.2%2C%20%22fillRule%22%3A%20%22evenodd%22%2C%20%22lineCap%22%3A%20%22round%22%2C%20%22lineJoin%22%3A%20%22round%22%2C%20%22opacity%22%3A%201.0%2C%20%22radius%22%3A%2010%2C%20%22stroke%22%3A%20true%2C%20%22weight%22%3A%203%7D%0A%20%20%20%20%20%20%20%20%20%20%20%20%29.addTo%28map_488442466ca04305bc30478c4ee59e17%29%3B%0A%20%20%20%20%20%20%20%20%0A%20%20%20%20%0A%20%20%20%20%20%20%20%20var%20popup_6ca1158d9fba42dab9eff3ffe7d71ceb%20%3D%20L.popup%28%7B%22maxWidth%22%3A%20%22100%25%22%7D%29%3B%0A%0A%20%20%20%20%20%20%20%20%0A%20%20%20%20%20%20%20%20%20%20%20%20var%20html_1e811b38118d4965ba554418162ed40e%20%3D%20%24%28%60%3Cdiv%20id%3D%22html_1e811b38118d4965ba554418162ed40e%22%20style%3D%22width%3A%20100.0%25%3B%20height%3A%20100.0%25%3B%22%3EVille%20%3A%20Helsinki%3Cbr%3E%20%20%20%20%20%20%20%20%20%20%20%20%20%20%20%20%20%20%20%20%20Prix%20moyen%20d%27un%20vol%20en%20%24%20%3A%20134%3Cbr%3E%3C/div%3E%60%29%5B0%5D%3B%0A%20%20%20%20%20%20%20%20%20%20%20%20popup_6ca1158d9fba42dab9eff3ffe7d71ceb.setContent%28html_1e811b38118d4965ba554418162ed40e%29%3B%0A%20%20%20%20%20%20%20%20%0A%0A%20%20%20%20%20%20%20%20circle_marker_05371a9f7ff14e4797b7236a50eb7a10.bindPopup%28popup_6ca1158d9fba42dab9eff3ffe7d71ceb%29%0A%20%20%20%20%20%20%20%20%3B%0A%0A%20%20%20%20%20%20%20%20%0A%20%20%20%20%0A%20%20%20%20%0A%20%20%20%20%20%20%20%20%20%20%20%20var%20circle_marker_786563a29bef460db73edac54f64b755%20%3D%20L.circleMarker%28%0A%20%20%20%20%20%20%20%20%20%20%20%20%20%20%20%20%5B36.85103%2C%2010.22722%5D%2C%0A%20%20%20%20%20%20%20%20%20%20%20%20%20%20%20%20%7B%22bubblingMouseEvents%22%3A%20true%2C%20%22color%22%3A%20%22green%22%2C%20%22dashArray%22%3A%20null%2C%20%22dashOffset%22%3A%20null%2C%20%22fill%22%3A%20true%2C%20%22fillColor%22%3A%20%22green%22%2C%20%22fillOpacity%22%3A%200.2%2C%20%22fillRule%22%3A%20%22evenodd%22%2C%20%22lineCap%22%3A%20%22round%22%2C%20%22lineJoin%22%3A%20%22round%22%2C%20%22opacity%22%3A%201.0%2C%20%22radius%22%3A%2010%2C%20%22stroke%22%3A%20true%2C%20%22weight%22%3A%203%7D%0A%20%20%20%20%20%20%20%20%20%20%20%20%29.addTo%28map_488442466ca04305bc30478c4ee59e17%29%3B%0A%20%20%20%20%20%20%20%20%0A%20%20%20%20%0A%20%20%20%20%20%20%20%20var%20popup_70af3a7a15de4f58884c57e18dee6494%20%3D%20L.popup%28%7B%22maxWidth%22%3A%20%22100%25%22%7D%29%3B%0A%0A%20%20%20%20%20%20%20%20%0A%20%20%20%20%20%20%20%20%20%20%20%20var%20html_47299258fe924b9da793d5557173e7f7%20%3D%20%24%28%60%3Cdiv%20id%3D%22html_47299258fe924b9da793d5557173e7f7%22%20style%3D%22width%3A%20100.0%25%3B%20height%3A%20100.0%25%3B%22%3EVille%20%3A%20Tunis%3Cbr%3E%20%20%20%20%20%20%20%20%20%20%20%20%20%20%20%20%20%20%20%20%20Prix%20moyen%20d%27un%20vol%20en%20%24%20%3A%20148%3Cbr%3E%3C/div%3E%60%29%5B0%5D%3B%0A%20%20%20%20%20%20%20%20%20%20%20%20popup_70af3a7a15de4f58884c57e18dee6494.setContent%28html_47299258fe924b9da793d5557173e7f7%29%3B%0A%20%20%20%20%20%20%20%20%0A%0A%20%20%20%20%20%20%20%20circle_marker_786563a29bef460db73edac54f64b755.bindPopup%28popup_70af3a7a15de4f58884c57e18dee6494%29%0A%20%20%20%20%20%20%20%20%3B%0A%0A%20%20%20%20%20%20%20%20%0A%20%20%20%20%0A%20%20%20%20%0A%20%20%20%20%20%20%20%20%20%20%20%20var%20circle_marker_daf65591b7eb4ce699f51bdd73d3d205%20%3D%20L.circleMarker%28%0A%20%20%20%20%20%20%20%20%20%20%20%20%20%20%20%20%5B38.41885%2C%2027.12872%5D%2C%0A%20%20%20%20%20%20%20%20%20%20%20%20%20%20%20%20%7B%22bubblingMouseEvents%22%3A%20true%2C%20%22color%22%3A%20%22green%22%2C%20%22dashArray%22%3A%20null%2C%20%22dashOffset%22%3A%20null%2C%20%22fill%22%3A%20true%2C%20%22fillColor%22%3A%20%22green%22%2C%20%22fillOpacity%22%3A%200.2%2C%20%22fillRule%22%3A%20%22evenodd%22%2C%20%22lineCap%22%3A%20%22round%22%2C%20%22lineJoin%22%3A%20%22round%22%2C%20%22opacity%22%3A%201.0%2C%20%22radius%22%3A%2010%2C%20%22stroke%22%3A%20true%2C%20%22weight%22%3A%203%7D%0A%20%20%20%20%20%20%20%20%20%20%20%20%29.addTo%28map_488442466ca04305bc30478c4ee59e17%29%3B%0A%20%20%20%20%20%20%20%20%0A%20%20%20%20%0A%20%20%20%20%20%20%20%20var%20popup_0ce2bc02e4374524b1ac4869ddd1ceb7%20%3D%20L.popup%28%7B%22maxWidth%22%3A%20%22100%25%22%7D%29%3B%0A%0A%20%20%20%20%20%20%20%20%0A%20%20%20%20%20%20%20%20%20%20%20%20var%20html_9a5cd297ef6e412da1aacc8b6a8d9ec3%20%3D%20%24%28%60%3Cdiv%20id%3D%22html_9a5cd297ef6e412da1aacc8b6a8d9ec3%22%20style%3D%22width%3A%20100.0%25%3B%20height%3A%20100.0%25%3B%22%3EVille%20%3A%20Izmir%3Cbr%3E%20%20%20%20%20%20%20%20%20%20%20%20%20%20%20%20%20%20%20%20%20Prix%20moyen%20d%27un%20vol%20en%20%24%20%3A%20151%3Cbr%3E%3C/div%3E%60%29%5B0%5D%3B%0A%20%20%20%20%20%20%20%20%20%20%20%20popup_0ce2bc02e4374524b1ac4869ddd1ceb7.setContent%28html_9a5cd297ef6e412da1aacc8b6a8d9ec3%29%3B%0A%20%20%20%20%20%20%20%20%0A%0A%20%20%20%20%20%20%20%20circle_marker_daf65591b7eb4ce699f51bdd73d3d205.bindPopup%28popup_0ce2bc02e4374524b1ac4869ddd1ceb7%29%0A%20%20%20%20%20%20%20%20%3B%0A%0A%20%20%20%20%20%20%20%20%0A%20%20%20%20%0A%20%20%20%20%0A%20%20%20%20%20%20%20%20%20%20%20%20var%20circle_marker_2862e76645c84ff3b9de3dd666d0076f%20%3D%20L.circleMarker%28%0A%20%20%20%20%20%20%20%20%20%20%20%20%20%20%20%20%5B51.50735%2C%20-0.12766%5D%2C%0A%20%20%20%20%20%20%20%20%20%20%20%20%20%20%20%20%7B%22bubblingMouseEvents%22%3A%20true%2C%20%22color%22%3A%20%22green%22%2C%20%22dashArray%22%3A%20null%2C%20%22dashOffset%22%3A%20null%2C%20%22fill%22%3A%20true%2C%20%22fillColor%22%3A%20%22green%22%2C%20%22fillOpacity%22%3A%200.2%2C%20%22fillRule%22%3A%20%22evenodd%22%2C%20%22lineCap%22%3A%20%22round%22%2C%20%22lineJoin%22%3A%20%22round%22%2C%20%22opacity%22%3A%201.0%2C%20%22radius%22%3A%2010%2C%20%22stroke%22%3A%20true%2C%20%22weight%22%3A%203%7D%0A%20%20%20%20%20%20%20%20%20%20%20%20%29.addTo%28map_488442466ca04305bc30478c4ee59e17%29%3B%0A%20%20%20%20%20%20%20%20%0A%20%20%20%20%0A%20%20%20%20%20%20%20%20var%20popup_d4220203c20c488c917f6531230d2b6f%20%3D%20L.popup%28%7B%22maxWidth%22%3A%20%22100%25%22%7D%29%3B%0A%0A%20%20%20%20%20%20%20%20%0A%20%20%20%20%20%20%20%20%20%20%20%20var%20html_a681aa919d8f498087e1e8bf7cc6e8b3%20%3D%20%24%28%60%3Cdiv%20id%3D%22html_a681aa919d8f498087e1e8bf7cc6e8b3%22%20style%3D%22width%3A%20100.0%25%3B%20height%3A%20100.0%25%3B%22%3EVille%20%3A%20London%3Cbr%3E%20%20%20%20%20%20%20%20%20%20%20%20%20%20%20%20%20%20%20%20%20Prix%20moyen%20d%27un%20vol%20en%20%24%20%3A%20152%3Cbr%3E%3C/div%3E%60%29%5B0%5D%3B%0A%20%20%20%20%20%20%20%20%20%20%20%20popup_d4220203c20c488c917f6531230d2b6f.setContent%28html_a681aa919d8f498087e1e8bf7cc6e8b3%29%3B%0A%20%20%20%20%20%20%20%20%0A%0A%20%20%20%20%20%20%20%20circle_marker_2862e76645c84ff3b9de3dd666d0076f.bindPopup%28popup_d4220203c20c488c917f6531230d2b6f%29%0A%20%20%20%20%20%20%20%20%3B%0A%0A%20%20%20%20%20%20%20%20%0A%20%20%20%20%0A%20%20%20%20%0A%20%20%20%20%20%20%20%20%20%20%20%20var%20circle_marker_36ae5efc9fff47978171d5574d6e85e9%20%3D%20L.circleMarker%28%0A%20%20%20%20%20%20%20%20%20%20%20%20%20%20%20%20%5B36.89873%2C%2030.80046%5D%2C%0A%20%20%20%20%20%20%20%20%20%20%20%20%20%20%20%20%7B%22bubblingMouseEvents%22%3A%20true%2C%20%22color%22%3A%20%22green%22%2C%20%22dashArray%22%3A%20null%2C%20%22dashOffset%22%3A%20null%2C%20%22fill%22%3A%20true%2C%20%22fillColor%22%3A%20%22green%22%2C%20%22fillOpacity%22%3A%200.2%2C%20%22fillRule%22%3A%20%22evenodd%22%2C%20%22lineCap%22%3A%20%22round%22%2C%20%22lineJoin%22%3A%20%22round%22%2C%20%22opacity%22%3A%201.0%2C%20%22radius%22%3A%2010%2C%20%22stroke%22%3A%20true%2C%20%22weight%22%3A%203%7D%0A%20%20%20%20%20%20%20%20%20%20%20%20%29.addTo%28map_488442466ca04305bc30478c4ee59e17%29%3B%0A%20%20%20%20%20%20%20%20%0A%20%20%20%20%0A%20%20%20%20%20%20%20%20var%20popup_01146176a0ec4d4c9d4439ccdb37dc63%20%3D%20L.popup%28%7B%22maxWidth%22%3A%20%22100%25%22%7D%29%3B%0A%0A%20%20%20%20%20%20%20%20%0A%20%20%20%20%20%20%20%20%20%20%20%20var%20html_f1fcd1326b0b4a3c883fb3f70b3c8e93%20%3D%20%24%28%60%3Cdiv%20id%3D%22html_f1fcd1326b0b4a3c883fb3f70b3c8e93%22%20style%3D%22width%3A%20100.0%25%3B%20height%3A%20100.0%25%3B%22%3EVille%20%3A%20Antalya%3Cbr%3E%20%20%20%20%20%20%20%20%20%20%20%20%20%20%20%20%20%20%20%20%20Prix%20moyen%20d%27un%20vol%20en%20%24%20%3A%20196%3Cbr%3E%3C/div%3E%60%29%5B0%5D%3B%0A%20%20%20%20%20%20%20%20%20%20%20%20popup_01146176a0ec4d4c9d4439ccdb37dc63.setContent%28html_f1fcd1326b0b4a3c883fb3f70b3c8e93%29%3B%0A%20%20%20%20%20%20%20%20%0A%0A%20%20%20%20%20%20%20%20circle_marker_36ae5efc9fff47978171d5574d6e85e9.bindPopup%28popup_01146176a0ec4d4c9d4439ccdb37dc63%29%0A%20%20%20%20%20%20%20%20%3B%0A%0A%20%20%20%20%20%20%20%20%0A%20%20%20%20%0A%20%20%20%20%0A%20%20%20%20%20%20%20%20%20%20%20%20var%20circle_marker_712badbb0bd14c7ba92189691560578d%20%3D%20L.circleMarker%28%0A%20%20%20%20%20%20%20%20%20%20%20%20%20%20%20%20%5B30.325%2C%20-9.41307%5D%2C%0A%20%20%20%20%20%20%20%20%20%20%20%20%20%20%20%20%7B%22bubblingMouseEvents%22%3A%20true%2C%20%22color%22%3A%20%22green%22%2C%20%22dashArray%22%3A%20null%2C%20%22dashOffset%22%3A%20null%2C%20%22fill%22%3A%20true%2C%20%22fillColor%22%3A%20%22green%22%2C%20%22fillOpacity%22%3A%200.2%2C%20%22fillRule%22%3A%20%22evenodd%22%2C%20%22lineCap%22%3A%20%22round%22%2C%20%22lineJoin%22%3A%20%22round%22%2C%20%22opacity%22%3A%201.0%2C%20%22radius%22%3A%2010%2C%20%22stroke%22%3A%20true%2C%20%22weight%22%3A%203%7D%0A%20%20%20%20%20%20%20%20%20%20%20%20%29.addTo%28map_488442466ca04305bc30478c4ee59e17%29%3B%0A%20%20%20%20%20%20%20%20%0A%20%20%20%20%0A%20%20%20%20%20%20%20%20var%20popup_8a6bb7ea3a60417e9b57d2e9a1372112%20%3D%20L.popup%28%7B%22maxWidth%22%3A%20%22100%25%22%7D%29%3B%0A%0A%20%20%20%20%20%20%20%20%0A%20%20%20%20%20%20%20%20%20%20%20%20var%20html_eb677582b73f418ab46f05aa531bd64e%20%3D%20%24%28%60%3Cdiv%20id%3D%22html_eb677582b73f418ab46f05aa531bd64e%22%20style%3D%22width%3A%20100.0%25%3B%20height%3A%20100.0%25%3B%22%3EVille%20%3A%20Agadir%3Cbr%3E%20%20%20%20%20%20%20%20%20%20%20%20%20%20%20%20%20%20%20%20%20Prix%20moyen%20d%27un%20vol%20en%20%24%20%3A%20198%3Cbr%3E%3C/div%3E%60%29%5B0%5D%3B%0A%20%20%20%20%20%20%20%20%20%20%20%20popup_8a6bb7ea3a60417e9b57d2e9a1372112.setContent%28html_eb677582b73f418ab46f05aa531bd64e%29%3B%0A%20%20%20%20%20%20%20%20%0A%0A%20%20%20%20%20%20%20%20circle_marker_712badbb0bd14c7ba92189691560578d.bindPopup%28popup_8a6bb7ea3a60417e9b57d2e9a1372112%29%0A%20%20%20%20%20%20%20%20%3B%0A%0A%20%20%20%20%20%20%20%20%0A%20%20%20%20%0A%20%20%20%20%0A%20%20%20%20%20%20%20%20%20%20%20%20var%20circle_marker_1cf0c99009024a4fa2aadafd41807acc%20%3D%20L.circleMarker%28%0A%20%20%20%20%20%20%20%20%20%20%20%20%20%20%20%20%5B41.90278%2C%2012.49637%5D%2C%0A%20%20%20%20%20%20%20%20%20%20%20%20%20%20%20%20%7B%22bubblingMouseEvents%22%3A%20true%2C%20%22color%22%3A%20%22green%22%2C%20%22dashArray%22%3A%20null%2C%20%22dashOffset%22%3A%20null%2C%20%22fill%22%3A%20true%2C%20%22fillColor%22%3A%20%22green%22%2C%20%22fillOpacity%22%3A%200.2%2C%20%22fillRule%22%3A%20%22evenodd%22%2C%20%22lineCap%22%3A%20%22round%22%2C%20%22lineJoin%22%3A%20%22round%22%2C%20%22opacity%22%3A%201.0%2C%20%22radius%22%3A%2010%2C%20%22stroke%22%3A%20true%2C%20%22weight%22%3A%203%7D%0A%20%20%20%20%20%20%20%20%20%20%20%20%29.addTo%28map_488442466ca04305bc30478c4ee59e17%29%3B%0A%20%20%20%20%20%20%20%20%0A%20%20%20%20%0A%20%20%20%20%20%20%20%20var%20popup_0e7395e9bd3748669d974be049a1b85f%20%3D%20L.popup%28%7B%22maxWidth%22%3A%20%22100%25%22%7D%29%3B%0A%0A%20%20%20%20%20%20%20%20%0A%20%20%20%20%20%20%20%20%20%20%20%20var%20html_03c7b61892e34600a708e75f50e92014%20%3D%20%24%28%60%3Cdiv%20id%3D%22html_03c7b61892e34600a708e75f50e92014%22%20style%3D%22width%3A%20100.0%25%3B%20height%3A%20100.0%25%3B%22%3EVille%20%3A%20Rome%3Cbr%3E%20%20%20%20%20%20%20%20%20%20%20%20%20%20%20%20%20%20%20%20%20Prix%20moyen%20d%27un%20vol%20en%20%24%20%3A%20245%3Cbr%3E%3C/div%3E%60%29%5B0%5D%3B%0A%20%20%20%20%20%20%20%20%20%20%20%20popup_0e7395e9bd3748669d974be049a1b85f.setContent%28html_03c7b61892e34600a708e75f50e92014%29%3B%0A%20%20%20%20%20%20%20%20%0A%0A%20%20%20%20%20%20%20%20circle_marker_1cf0c99009024a4fa2aadafd41807acc.bindPopup%28popup_0e7395e9bd3748669d974be049a1b85f%29%0A%20%20%20%20%20%20%20%20%3B%0A%0A%20%20%20%20%20%20%20%20%0A%20%20%20%20%0A%20%20%20%20%0A%20%20%20%20%20%20%20%20%20%20%20%20var%20circle_marker_83523a553d874ddeb4a3d2e25fbe2f49%20%3D%20L.circleMarker%28%0A%20%20%20%20%20%20%20%20%20%20%20%20%20%20%20%20%5B33.367470000000004%2C%20-7.58997%5D%2C%0A%20%20%20%20%20%20%20%20%20%20%20%20%20%20%20%20%7B%22bubblingMouseEvents%22%3A%20true%2C%20%22color%22%3A%20%22green%22%2C%20%22dashArray%22%3A%20null%2C%20%22dashOffset%22%3A%20null%2C%20%22fill%22%3A%20true%2C%20%22fillColor%22%3A%20%22green%22%2C%20%22fillOpacity%22%3A%200.2%2C%20%22fillRule%22%3A%20%22evenodd%22%2C%20%22lineCap%22%3A%20%22round%22%2C%20%22lineJoin%22%3A%20%22round%22%2C%20%22opacity%22%3A%201.0%2C%20%22radius%22%3A%2010%2C%20%22stroke%22%3A%20true%2C%20%22weight%22%3A%203%7D%0A%20%20%20%20%20%20%20%20%20%20%20%20%29.addTo%28map_488442466ca04305bc30478c4ee59e17%29%3B%0A%20%20%20%20%20%20%20%20%0A%20%20%20%20%0A%20%20%20%20%20%20%20%20var%20popup_3d672f2b9f684170ac91765b83351980%20%3D%20L.popup%28%7B%22maxWidth%22%3A%20%22100%25%22%7D%29%3B%0A%0A%20%20%20%20%20%20%20%20%0A%20%20%20%20%20%20%20%20%20%20%20%20var%20html_3cd033b8b8ed4bc4b67caa5dfdc0a01b%20%3D%20%24%28%60%3Cdiv%20id%3D%22html_3cd033b8b8ed4bc4b67caa5dfdc0a01b%22%20style%3D%22width%3A%20100.0%25%3B%20height%3A%20100.0%25%3B%22%3EVille%20%3A%20Casablanca%3Cbr%3E%20%20%20%20%20%20%20%20%20%20%20%20%20%20%20%20%20%20%20%20%20Prix%20moyen%20d%27un%20vol%20en%20%24%20%3A%20246%3Cbr%3E%3C/div%3E%60%29%5B0%5D%3B%0A%20%20%20%20%20%20%20%20%20%20%20%20popup_3d672f2b9f684170ac91765b83351980.setContent%28html_3cd033b8b8ed4bc4b67caa5dfdc0a01b%29%3B%0A%20%20%20%20%20%20%20%20%0A%0A%20%20%20%20%20%20%20%20circle_marker_83523a553d874ddeb4a3d2e25fbe2f49.bindPopup%28popup_3d672f2b9f684170ac91765b83351980%29%0A%20%20%20%20%20%20%20%20%3B%0A%0A%20%20%20%20%20%20%20%20%0A%20%20%20%20%0A%20%20%20%20%0A%20%20%20%20%20%20%20%20%20%20%20%20var%20circle_marker_98ee0c7c993e435783bfe563e3728c26%20%3D%20L.circleMarker%28%0A%20%20%20%20%20%20%20%20%20%20%20%20%20%20%20%20%5B30.119564289709718%2C%2031.41070984130863%5D%2C%0A%20%20%20%20%20%20%20%20%20%20%20%20%20%20%20%20%7B%22bubblingMouseEvents%22%3A%20true%2C%20%22color%22%3A%20%22yellow%22%2C%20%22dashArray%22%3A%20null%2C%20%22dashOffset%22%3A%20null%2C%20%22fill%22%3A%20true%2C%20%22fillColor%22%3A%20%22yellow%22%2C%20%22fillOpacity%22%3A%200.2%2C%20%22fillRule%22%3A%20%22evenodd%22%2C%20%22lineCap%22%3A%20%22round%22%2C%20%22lineJoin%22%3A%20%22round%22%2C%20%22opacity%22%3A%201.0%2C%20%22radius%22%3A%2010%2C%20%22stroke%22%3A%20true%2C%20%22weight%22%3A%203%7D%0A%20%20%20%20%20%20%20%20%20%20%20%20%29.addTo%28map_488442466ca04305bc30478c4ee59e17%29%3B%0A%20%20%20%20%20%20%20%20%0A%20%20%20%20%0A%20%20%20%20%20%20%20%20var%20popup_f8e41f3c0f144023bdc1ac0e9f8a7627%20%3D%20L.popup%28%7B%22maxWidth%22%3A%20%22100%25%22%7D%29%3B%0A%0A%20%20%20%20%20%20%20%20%0A%20%20%20%20%20%20%20%20%20%20%20%20var%20html_fbc313793aa74b099f8f540e426f4712%20%3D%20%24%28%60%3Cdiv%20id%3D%22html_fbc313793aa74b099f8f540e426f4712%22%20style%3D%22width%3A%20100.0%25%3B%20height%3A%20100.0%25%3B%22%3EVille%20%3A%20Cairo%3Cbr%3E%20%20%20%20%20%20%20%20%20%20%20%20%20%20%20%20%20%20%20%20%20Prix%20moyen%20d%27un%20vol%20en%20%24%20%3A%20298%3Cbr%3E%3C/div%3E%60%29%5B0%5D%3B%0A%20%20%20%20%20%20%20%20%20%20%20%20popup_f8e41f3c0f144023bdc1ac0e9f8a7627.setContent%28html_fbc313793aa74b099f8f540e426f4712%29%3B%0A%20%20%20%20%20%20%20%20%0A%0A%20%20%20%20%20%20%20%20circle_marker_98ee0c7c993e435783bfe563e3728c26.bindPopup%28popup_f8e41f3c0f144023bdc1ac0e9f8a7627%29%0A%20%20%20%20%20%20%20%20%3B%0A%0A%20%20%20%20%20%20%20%20%0A%20%20%20%20%0A%20%20%20%20%0A%20%20%20%20%20%20%20%20%20%20%20%20var%20circle_marker_edf54f15ee4d475ea0112d75812b0ebd%20%3D%20L.circleMarker%28%0A%20%20%20%20%20%20%20%20%20%20%20%20%20%20%20%20%5B55.75407%2C%2037.62037%5D%2C%0A%20%20%20%20%20%20%20%20%20%20%20%20%20%20%20%20%7B%22bubblingMouseEvents%22%3A%20true%2C%20%22color%22%3A%20%22yellow%22%2C%20%22dashArray%22%3A%20null%2C%20%22dashOffset%22%3A%20null%2C%20%22fill%22%3A%20true%2C%20%22fillColor%22%3A%20%22yellow%22%2C%20%22fillOpacity%22%3A%200.2%2C%20%22fillRule%22%3A%20%22evenodd%22%2C%20%22lineCap%22%3A%20%22round%22%2C%20%22lineJoin%22%3A%20%22round%22%2C%20%22opacity%22%3A%201.0%2C%20%22radius%22%3A%2010%2C%20%22stroke%22%3A%20true%2C%20%22weight%22%3A%203%7D%0A%20%20%20%20%20%20%20%20%20%20%20%20%29.addTo%28map_488442466ca04305bc30478c4ee59e17%29%3B%0A%20%20%20%20%20%20%20%20%0A%20%20%20%20%0A%20%20%20%20%20%20%20%20var%20popup_57d06d365a98405f92d0a76d7e01fe93%20%3D%20L.popup%28%7B%22maxWidth%22%3A%20%22100%25%22%7D%29%3B%0A%0A%20%20%20%20%20%20%20%20%0A%20%20%20%20%20%20%20%20%20%20%20%20var%20html_e73bbec4019944b9a75329d9daf6e8a8%20%3D%20%24%28%60%3Cdiv%20id%3D%22html_e73bbec4019944b9a75329d9daf6e8a8%22%20style%3D%22width%3A%20100.0%25%3B%20height%3A%20100.0%25%3B%22%3EVille%20%3A%20Moscow%3Cbr%3E%20%20%20%20%20%20%20%20%20%20%20%20%20%20%20%20%20%20%20%20%20Prix%20moyen%20d%27un%20vol%20en%20%24%20%3A%20307%3Cbr%3E%3C/div%3E%60%29%5B0%5D%3B%0A%20%20%20%20%20%20%20%20%20%20%20%20popup_57d06d365a98405f92d0a76d7e01fe93.setContent%28html_e73bbec4019944b9a75329d9daf6e8a8%29%3B%0A%20%20%20%20%20%20%20%20%0A%0A%20%20%20%20%20%20%20%20circle_marker_edf54f15ee4d475ea0112d75812b0ebd.bindPopup%28popup_57d06d365a98405f92d0a76d7e01fe93%29%0A%20%20%20%20%20%20%20%20%3B%0A%0A%20%20%20%20%20%20%20%20%0A%20%20%20%20%0A%20%20%20%20%0A%20%20%20%20%20%20%20%20%20%20%20%20var%20circle_marker_2f13f2a44f934b2689fb9fccb8daa70f%20%3D%20L.circleMarker%28%0A%20%20%20%20%20%20%20%20%20%20%20%20%20%20%20%20%5B45.5%2C%20-73.583%5D%2C%0A%20%20%20%20%20%20%20%20%20%20%20%20%20%20%20%20%7B%22bubblingMouseEvents%22%3A%20true%2C%20%22color%22%3A%20%22yellow%22%2C%20%22dashArray%22%3A%20null%2C%20%22dashOffset%22%3A%20null%2C%20%22fill%22%3A%20true%2C%20%22fillColor%22%3A%20%22yellow%22%2C%20%22fillOpacity%22%3A%200.2%2C%20%22fillRule%22%3A%20%22evenodd%22%2C%20%22lineCap%22%3A%20%22round%22%2C%20%22lineJoin%22%3A%20%22round%22%2C%20%22opacity%22%3A%201.0%2C%20%22radius%22%3A%2010%2C%20%22stroke%22%3A%20true%2C%20%22weight%22%3A%203%7D%0A%20%20%20%20%20%20%20%20%20%20%20%20%29.addTo%28map_488442466ca04305bc30478c4ee59e17%29%3B%0A%20%20%20%20%20%20%20%20%0A%20%20%20%20%0A%20%20%20%20%20%20%20%20var%20popup_73ae23b5570f4020a7347f51e36d1e37%20%3D%20L.popup%28%7B%22maxWidth%22%3A%20%22100%25%22%7D%29%3B%0A%0A%20%20%20%20%20%20%20%20%0A%20%20%20%20%20%20%20%20%20%20%20%20var%20html_fe150cbf02114fb99ac54875343f674f%20%3D%20%24%28%60%3Cdiv%20id%3D%22html_fe150cbf02114fb99ac54875343f674f%22%20style%3D%22width%3A%20100.0%25%3B%20height%3A%20100.0%25%3B%22%3EVille%20%3A%20Montreal%3Cbr%3E%20%20%20%20%20%20%20%20%20%20%20%20%20%20%20%20%20%20%20%20%20Prix%20moyen%20d%27un%20vol%20en%20%24%20%3A%20422%3Cbr%3E%3C/div%3E%60%29%5B0%5D%3B%0A%20%20%20%20%20%20%20%20%20%20%20%20popup_73ae23b5570f4020a7347f51e36d1e37.setContent%28html_fe150cbf02114fb99ac54875343f674f%29%3B%0A%20%20%20%20%20%20%20%20%0A%0A%20%20%20%20%20%20%20%20circle_marker_2f13f2a44f934b2689fb9fccb8daa70f.bindPopup%28popup_73ae23b5570f4020a7347f51e36d1e37%29%0A%20%20%20%20%20%20%20%20%3B%0A%0A%20%20%20%20%20%20%20%20%0A%20%20%20%20%0A%20%20%20%20%0A%20%20%20%20%20%20%20%20%20%20%20%20var%20circle_marker_c4957f739a0d443c8777fb943efdfb76%20%3D%20L.circleMarker%28%0A%20%20%20%20%20%20%20%20%20%20%20%20%20%20%20%20%5B24.8978%2C%2055.15905%5D%2C%0A%20%20%20%20%20%20%20%20%20%20%20%20%20%20%20%20%7B%22bubblingMouseEvents%22%3A%20true%2C%20%22color%22%3A%20%22yellow%22%2C%20%22dashArray%22%3A%20null%2C%20%22dashOffset%22%3A%20null%2C%20%22fill%22%3A%20true%2C%20%22fillColor%22%3A%20%22yellow%22%2C%20%22fillOpacity%22%3A%200.2%2C%20%22fillRule%22%3A%20%22evenodd%22%2C%20%22lineCap%22%3A%20%22round%22%2C%20%22lineJoin%22%3A%20%22round%22%2C%20%22opacity%22%3A%201.0%2C%20%22radius%22%3A%2010%2C%20%22stroke%22%3A%20true%2C%20%22weight%22%3A%203%7D%0A%20%20%20%20%20%20%20%20%20%20%20%20%29.addTo%28map_488442466ca04305bc30478c4ee59e17%29%3B%0A%20%20%20%20%20%20%20%20%0A%20%20%20%20%0A%20%20%20%20%20%20%20%20var%20popup_d8409e02103946288aea4617d39d78ac%20%3D%20L.popup%28%7B%22maxWidth%22%3A%20%22100%25%22%7D%29%3B%0A%0A%20%20%20%20%20%20%20%20%0A%20%20%20%20%20%20%20%20%20%20%20%20var%20html_c81e1f6ee8e34ae78f90d5f9e26022dc%20%3D%20%24%28%60%3Cdiv%20id%3D%22html_c81e1f6ee8e34ae78f90d5f9e26022dc%22%20style%3D%22width%3A%20100.0%25%3B%20height%3A%20100.0%25%3B%22%3EVille%20%3A%20Dubai%3Cbr%3E%20%20%20%20%20%20%20%20%20%20%20%20%20%20%20%20%20%20%20%20%20Prix%20moyen%20d%27un%20vol%20en%20%24%20%3A%20442%3Cbr%3E%3C/div%3E%60%29%5B0%5D%3B%0A%20%20%20%20%20%20%20%20%20%20%20%20popup_d8409e02103946288aea4617d39d78ac.setContent%28html_c81e1f6ee8e34ae78f90d5f9e26022dc%29%3B%0A%20%20%20%20%20%20%20%20%0A%0A%20%20%20%20%20%20%20%20circle_marker_c4957f739a0d443c8777fb943efdfb76.bindPopup%28popup_d8409e02103946288aea4617d39d78ac%29%0A%20%20%20%20%20%20%20%20%3B%0A%0A%20%20%20%20%20%20%20%20%0A%20%20%20%20%0A%20%20%20%20%0A%20%20%20%20%20%20%20%20%20%20%20%20var%20circle_marker_7b52bb3b96494d0c86a7bf9b839a7197%20%3D%20L.circleMarker%28%0A%20%20%20%20%20%20%20%20%20%20%20%20%20%20%20%20%5B41.97959%2C%20-87.90446%5D%2C%0A%20%20%20%20%20%20%20%20%20%20%20%20%20%20%20%20%7B%22bubblingMouseEvents%22%3A%20true%2C%20%22color%22%3A%20%22yellow%22%2C%20%22dashArray%22%3A%20null%2C%20%22dashOffset%22%3A%20null%2C%20%22fill%22%3A%20true%2C%20%22fillColor%22%3A%20%22yellow%22%2C%20%22fillOpacity%22%3A%200.2%2C%20%22fillRule%22%3A%20%22evenodd%22%2C%20%22lineCap%22%3A%20%22round%22%2C%20%22lineJoin%22%3A%20%22round%22%2C%20%22opacity%22%3A%201.0%2C%20%22radius%22%3A%2010%2C%20%22stroke%22%3A%20true%2C%20%22weight%22%3A%203%7D%0A%20%20%20%20%20%20%20%20%20%20%20%20%29.addTo%28map_488442466ca04305bc30478c4ee59e17%29%3B%0A%20%20%20%20%20%20%20%20%0A%20%20%20%20%0A%20%20%20%20%20%20%20%20var%20popup_994f6c7ae9674f7b8fcd98da0df0136f%20%3D%20L.popup%28%7B%22maxWidth%22%3A%20%22100%25%22%7D%29%3B%0A%0A%20%20%20%20%20%20%20%20%0A%20%20%20%20%20%20%20%20%20%20%20%20var%20html_4e25ce6533ff4d50933735fb93d8edd9%20%3D%20%24%28%60%3Cdiv%20id%3D%22html_4e25ce6533ff4d50933735fb93d8edd9%22%20style%3D%22width%3A%20100.0%25%3B%20height%3A%20100.0%25%3B%22%3EVille%20%3A%20Chicago%3Cbr%3E%20%20%20%20%20%20%20%20%20%20%20%20%20%20%20%20%20%20%20%20%20Prix%20moyen%20d%27un%20vol%20en%20%24%20%3A%20511%3Cbr%3E%3C/div%3E%60%29%5B0%5D%3B%0A%20%20%20%20%20%20%20%20%20%20%20%20popup_994f6c7ae9674f7b8fcd98da0df0136f.setContent%28html_4e25ce6533ff4d50933735fb93d8edd9%29%3B%0A%20%20%20%20%20%20%20%20%0A%0A%20%20%20%20%20%20%20%20circle_marker_7b52bb3b96494d0c86a7bf9b839a7197.bindPopup%28popup_994f6c7ae9674f7b8fcd98da0df0136f%29%0A%20%20%20%20%20%20%20%20%3B%0A%0A%20%20%20%20%20%20%20%20%0A%20%20%20%20%0A%20%20%20%20%0A%20%20%20%20%20%20%20%20%20%20%20%20var%20circle_marker_c0159d0f78884ba192e62951239cbccd%20%3D%20L.circleMarker%28%0A%20%20%20%20%20%20%20%20%20%20%20%20%20%20%20%20%5B41.97959%2C%20-87.90446%5D%2C%0A%20%20%20%20%20%20%20%20%20%20%20%20%20%20%20%20%7B%22bubblingMouseEvents%22%3A%20true%2C%20%22color%22%3A%20%22yellow%22%2C%20%22dashArray%22%3A%20null%2C%20%22dashOffset%22%3A%20null%2C%20%22fill%22%3A%20true%2C%20%22fillColor%22%3A%20%22yellow%22%2C%20%22fillOpacity%22%3A%200.2%2C%20%22fillRule%22%3A%20%22evenodd%22%2C%20%22lineCap%22%3A%20%22round%22%2C%20%22lineJoin%22%3A%20%22round%22%2C%20%22opacity%22%3A%201.0%2C%20%22radius%22%3A%2010%2C%20%22stroke%22%3A%20true%2C%20%22weight%22%3A%203%7D%0A%20%20%20%20%20%20%20%20%20%20%20%20%29.addTo%28map_488442466ca04305bc30478c4ee59e17%29%3B%0A%20%20%20%20%20%20%20%20%0A%20%20%20%20%0A%20%20%20%20%20%20%20%20var%20popup_5df277e3dbcf4599a874716417ad69f2%20%3D%20L.popup%28%7B%22maxWidth%22%3A%20%22100%25%22%7D%29%3B%0A%0A%20%20%20%20%20%20%20%20%0A%20%20%20%20%20%20%20%20%20%20%20%20var%20html_4816cadb8e934a0b940ec738340ecc90%20%3D%20%24%28%60%3Cdiv%20id%3D%22html_4816cadb8e934a0b940ec738340ecc90%22%20style%3D%22width%3A%20100.0%25%3B%20height%3A%20100.0%25%3B%22%3EVille%20%3A%20Chicago%3Cbr%3E%20%20%20%20%20%20%20%20%20%20%20%20%20%20%20%20%20%20%20%20%20Prix%20moyen%20d%27un%20vol%20en%20%24%20%3A%20511%3Cbr%3E%3C/div%3E%60%29%5B0%5D%3B%0A%20%20%20%20%20%20%20%20%20%20%20%20popup_5df277e3dbcf4599a874716417ad69f2.setContent%28html_4816cadb8e934a0b940ec738340ecc90%29%3B%0A%20%20%20%20%20%20%20%20%0A%0A%20%20%20%20%20%20%20%20circle_marker_c0159d0f78884ba192e62951239cbccd.bindPopup%28popup_5df277e3dbcf4599a874716417ad69f2%29%0A%20%20%20%20%20%20%20%20%3B%0A%0A%20%20%20%20%20%20%20%20%0A%20%20%20%20%0A%20%20%20%20%0A%20%20%20%20%20%20%20%20%20%20%20%20var%20circle_marker_7a61ac4bdd4f4cbc8850436b48590bc3%20%3D%20L.circleMarker%28%0A%20%20%20%20%20%20%20%20%20%20%20%20%20%20%20%20%5B22.308154770027556%2C%20113.91861379882812%5D%2C%0A%20%20%20%20%20%20%20%20%20%20%20%20%20%20%20%20%7B%22bubblingMouseEvents%22%3A%20true%2C%20%22color%22%3A%20%22yellow%22%2C%20%22dashArray%22%3A%20null%2C%20%22dashOffset%22%3A%20null%2C%20%22fill%22%3A%20true%2C%20%22fillColor%22%3A%20%22yellow%22%2C%20%22fillOpacity%22%3A%200.2%2C%20%22fillRule%22%3A%20%22evenodd%22%2C%20%22lineCap%22%3A%20%22round%22%2C%20%22lineJoin%22%3A%20%22round%22%2C%20%22opacity%22%3A%201.0%2C%20%22radius%22%3A%2010%2C%20%22stroke%22%3A%20true%2C%20%22weight%22%3A%203%7D%0A%20%20%20%20%20%20%20%20%20%20%20%20%29.addTo%28map_488442466ca04305bc30478c4ee59e17%29%3B%0A%20%20%20%20%20%20%20%20%0A%20%20%20%20%0A%20%20%20%20%20%20%20%20var%20popup_8b228c61331b47909afad4f141dbfa8c%20%3D%20L.popup%28%7B%22maxWidth%22%3A%20%22100%25%22%7D%29%3B%0A%0A%20%20%20%20%20%20%20%20%0A%20%20%20%20%20%20%20%20%20%20%20%20var%20html_595d63776be3448d981c316727cc1b89%20%3D%20%24%28%60%3Cdiv%20id%3D%22html_595d63776be3448d981c316727cc1b89%22%20style%3D%22width%3A%20100.0%25%3B%20height%3A%20100.0%25%3B%22%3EVille%20%3A%20Hong%20Kong%3Cbr%3E%20%20%20%20%20%20%20%20%20%20%20%20%20%20%20%20%20%20%20%20%20Prix%20moyen%20d%27un%20vol%20en%20%24%20%3A%20528%3Cbr%3E%3C/div%3E%60%29%5B0%5D%3B%0A%20%20%20%20%20%20%20%20%20%20%20%20popup_8b228c61331b47909afad4f141dbfa8c.setContent%28html_595d63776be3448d981c316727cc1b89%29%3B%0A%20%20%20%20%20%20%20%20%0A%0A%20%20%20%20%20%20%20%20circle_marker_7a61ac4bdd4f4cbc8850436b48590bc3.bindPopup%28popup_8b228c61331b47909afad4f141dbfa8c%29%0A%20%20%20%20%20%20%20%20%3B%0A%0A%20%20%20%20%20%20%20%20%0A%20%20%20%20%0A%20%20%20%20%0A%20%20%20%20%20%20%20%20%20%20%20%20var%20circle_marker_cdebfb20d89a400db3b219f0fff5c325%20%3D%20L.circleMarker%28%0A%20%20%20%20%20%20%20%20%20%20%20%20%20%20%20%20%5B28.557152230159506%2C%2077.099656772461%5D%2C%0A%20%20%20%20%20%20%20%20%20%20%20%20%20%20%20%20%7B%22bubblingMouseEvents%22%3A%20true%2C%20%22color%22%3A%20%22yellow%22%2C%20%22dashArray%22%3A%20null%2C%20%22dashOffset%22%3A%20null%2C%20%22fill%22%3A%20true%2C%20%22fillColor%22%3A%20%22yellow%22%2C%20%22fillOpacity%22%3A%200.2%2C%20%22fillRule%22%3A%20%22evenodd%22%2C%20%22lineCap%22%3A%20%22round%22%2C%20%22lineJoin%22%3A%20%22round%22%2C%20%22opacity%22%3A%201.0%2C%20%22radius%22%3A%2010%2C%20%22stroke%22%3A%20true%2C%20%22weight%22%3A%203%7D%0A%20%20%20%20%20%20%20%20%20%20%20%20%29.addTo%28map_488442466ca04305bc30478c4ee59e17%29%3B%0A%20%20%20%20%20%20%20%20%0A%20%20%20%20%0A%20%20%20%20%20%20%20%20var%20popup_0de1f8df8f2148f6b14fe95470192a66%20%3D%20L.popup%28%7B%22maxWidth%22%3A%20%22100%25%22%7D%29%3B%0A%0A%20%20%20%20%20%20%20%20%0A%20%20%20%20%20%20%20%20%20%20%20%20var%20html_aec6801697da436e8a8285547d65a669%20%3D%20%24%28%60%3Cdiv%20id%3D%22html_aec6801697da436e8a8285547d65a669%22%20style%3D%22width%3A%20100.0%25%3B%20height%3A%20100.0%25%3B%22%3EVille%20%3A%20New%20Delhi%3Cbr%3E%20%20%20%20%20%20%20%20%20%20%20%20%20%20%20%20%20%20%20%20%20Prix%20moyen%20d%27un%20vol%20en%20%24%20%3A%20534%3Cbr%3E%3C/div%3E%60%29%5B0%5D%3B%0A%20%20%20%20%20%20%20%20%20%20%20%20popup_0de1f8df8f2148f6b14fe95470192a66.setContent%28html_aec6801697da436e8a8285547d65a669%29%3B%0A%20%20%20%20%20%20%20%20%0A%0A%20%20%20%20%20%20%20%20circle_marker_cdebfb20d89a400db3b219f0fff5c325.bindPopup%28popup_0de1f8df8f2148f6b14fe95470192a66%29%0A%20%20%20%20%20%20%20%20%3B%0A%0A%20%20%20%20%20%20%20%20%0A%20%20%20%20%0A%20%20%20%20%0A%20%20%20%20%20%20%20%20%20%20%20%20var%20circle_marker_073711067845421eb51ade58db72942e%20%3D%20L.circleMarker%28%0A%20%20%20%20%20%20%20%20%20%20%20%20%20%20%20%20%5B29.647924467831096%2C%20-95.27740166137698%5D%2C%0A%20%20%20%20%20%20%20%20%20%20%20%20%20%20%20%20%7B%22bubblingMouseEvents%22%3A%20true%2C%20%22color%22%3A%20%22orange%22%2C%20%22dashArray%22%3A%20null%2C%20%22dashOffset%22%3A%20null%2C%20%22fill%22%3A%20true%2C%20%22fillColor%22%3A%20%22orange%22%2C%20%22fillOpacity%22%3A%200.2%2C%20%22fillRule%22%3A%20%22evenodd%22%2C%20%22lineCap%22%3A%20%22round%22%2C%20%22lineJoin%22%3A%20%22round%22%2C%20%22opacity%22%3A%201.0%2C%20%22radius%22%3A%2010%2C%20%22stroke%22%3A%20true%2C%20%22weight%22%3A%203%7D%0A%20%20%20%20%20%20%20%20%20%20%20%20%29.addTo%28map_488442466ca04305bc30478c4ee59e17%29%3B%0A%20%20%20%20%20%20%20%20%0A%20%20%20%20%0A%20%20%20%20%20%20%20%20var%20popup_bb9066a4f4974d8bb4e242aab8615487%20%3D%20L.popup%28%7B%22maxWidth%22%3A%20%22100%25%22%7D%29%3B%0A%0A%20%20%20%20%20%20%20%20%0A%20%20%20%20%20%20%20%20%20%20%20%20var%20html_455c75ac45f84ed980ee88dee0d2d13a%20%3D%20%24%28%60%3Cdiv%20id%3D%22html_455c75ac45f84ed980ee88dee0d2d13a%22%20style%3D%22width%3A%20100.0%25%3B%20height%3A%20100.0%25%3B%22%3EVille%20%3A%20Houston%3Cbr%3E%20%20%20%20%20%20%20%20%20%20%20%20%20%20%20%20%20%20%20%20%20Prix%20moyen%20d%27un%20vol%20en%20%24%20%3A%20546%3Cbr%3E%3C/div%3E%60%29%5B0%5D%3B%0A%20%20%20%20%20%20%20%20%20%20%20%20popup_bb9066a4f4974d8bb4e242aab8615487.setContent%28html_455c75ac45f84ed980ee88dee0d2d13a%29%3B%0A%20%20%20%20%20%20%20%20%0A%0A%20%20%20%20%20%20%20%20circle_marker_073711067845421eb51ade58db72942e.bindPopup%28popup_bb9066a4f4974d8bb4e242aab8615487%29%0A%20%20%20%20%20%20%20%20%3B%0A%0A%20%20%20%20%20%20%20%20%0A%20%20%20%20%0A%20%20%20%20%0A%20%20%20%20%20%20%20%20%20%20%20%20var%20circle_marker_92c3f42590ea4e198d26f98d37ebd6ed%20%3D%20L.circleMarker%28%0A%20%20%20%20%20%20%20%20%20%20%20%20%20%20%20%20%5B40.75096%2C%20-73.98741%5D%2C%0A%20%20%20%20%20%20%20%20%20%20%20%20%20%20%20%20%7B%22bubblingMouseEvents%22%3A%20true%2C%20%22color%22%3A%20%22orange%22%2C%20%22dashArray%22%3A%20null%2C%20%22dashOffset%22%3A%20null%2C%20%22fill%22%3A%20true%2C%20%22fillColor%22%3A%20%22orange%22%2C%20%22fillOpacity%22%3A%200.2%2C%20%22fillRule%22%3A%20%22evenodd%22%2C%20%22lineCap%22%3A%20%22round%22%2C%20%22lineJoin%22%3A%20%22round%22%2C%20%22opacity%22%3A%201.0%2C%20%22radius%22%3A%2010%2C%20%22stroke%22%3A%20true%2C%20%22weight%22%3A%203%7D%0A%20%20%20%20%20%20%20%20%20%20%20%20%29.addTo%28map_488442466ca04305bc30478c4ee59e17%29%3B%0A%20%20%20%20%20%20%20%20%0A%20%20%20%20%0A%20%20%20%20%20%20%20%20var%20popup_4340ca1fe66c41c0af64535e963e46ae%20%3D%20L.popup%28%7B%22maxWidth%22%3A%20%22100%25%22%7D%29%3B%0A%0A%20%20%20%20%20%20%20%20%0A%20%20%20%20%20%20%20%20%20%20%20%20var%20html_83d3e57d41d34f29993c6cf1eb479982%20%3D%20%24%28%60%3Cdiv%20id%3D%22html_83d3e57d41d34f29993c6cf1eb479982%22%20style%3D%22width%3A%20100.0%25%3B%20height%3A%20100.0%25%3B%22%3EVille%20%3A%20New%20York%3Cbr%3E%20%20%20%20%20%20%20%20%20%20%20%20%20%20%20%20%20%20%20%20%20Prix%20moyen%20d%27un%20vol%20en%20%24%20%3A%20562%3Cbr%3E%3C/div%3E%60%29%5B0%5D%3B%0A%20%20%20%20%20%20%20%20%20%20%20%20popup_4340ca1fe66c41c0af64535e963e46ae.setContent%28html_83d3e57d41d34f29993c6cf1eb479982%29%3B%0A%20%20%20%20%20%20%20%20%0A%0A%20%20%20%20%20%20%20%20circle_marker_92c3f42590ea4e198d26f98d37ebd6ed.bindPopup%28popup_4340ca1fe66c41c0af64535e963e46ae%29%0A%20%20%20%20%20%20%20%20%3B%0A%0A%20%20%20%20%20%20%20%20%0A%20%20%20%20%0A%20%20%20%20%0A%20%20%20%20%20%20%20%20%20%20%20%20var%20circle_marker_206c8d63161c46e08ed78fd35255cf8d%20%3D%20L.circleMarker%28%0A%20%20%20%20%20%20%20%20%20%20%20%20%20%20%20%20%5B6.577369999999999%2C%203.32116%5D%2C%0A%20%20%20%20%20%20%20%20%20%20%20%20%20%20%20%20%7B%22bubblingMouseEvents%22%3A%20true%2C%20%22color%22%3A%20%22orange%22%2C%20%22dashArray%22%3A%20null%2C%20%22dashOffset%22%3A%20null%2C%20%22fill%22%3A%20true%2C%20%22fillColor%22%3A%20%22orange%22%2C%20%22fillOpacity%22%3A%200.2%2C%20%22fillRule%22%3A%20%22evenodd%22%2C%20%22lineCap%22%3A%20%22round%22%2C%20%22lineJoin%22%3A%20%22round%22%2C%20%22opacity%22%3A%201.0%2C%20%22radius%22%3A%2010%2C%20%22stroke%22%3A%20true%2C%20%22weight%22%3A%203%7D%0A%20%20%20%20%20%20%20%20%20%20%20%20%29.addTo%28map_488442466ca04305bc30478c4ee59e17%29%3B%0A%20%20%20%20%20%20%20%20%0A%20%20%20%20%0A%20%20%20%20%20%20%20%20var%20popup_6ea3bc42dd2749689440d40442d08af1%20%3D%20L.popup%28%7B%22maxWidth%22%3A%20%22100%25%22%7D%29%3B%0A%0A%20%20%20%20%20%20%20%20%0A%20%20%20%20%20%20%20%20%20%20%20%20var%20html_cd3b69d974db4e88856bdb09f377aaa8%20%3D%20%24%28%60%3Cdiv%20id%3D%22html_cd3b69d974db4e88856bdb09f377aaa8%22%20style%3D%22width%3A%20100.0%25%3B%20height%3A%20100.0%25%3B%22%3EVille%20%3A%20Lagos%3Cbr%3E%20%20%20%20%20%20%20%20%20%20%20%20%20%20%20%20%20%20%20%20%20Prix%20moyen%20d%27un%20vol%20en%20%24%20%3A%20570%3Cbr%3E%3C/div%3E%60%29%5B0%5D%3B%0A%20%20%20%20%20%20%20%20%20%20%20%20popup_6ea3bc42dd2749689440d40442d08af1.setContent%28html_cd3b69d974db4e88856bdb09f377aaa8%29%3B%0A%20%20%20%20%20%20%20%20%0A%0A%20%20%20%20%20%20%20%20circle_marker_206c8d63161c46e08ed78fd35255cf8d.bindPopup%28popup_6ea3bc42dd2749689440d40442d08af1%29%0A%20%20%20%20%20%20%20%20%3B%0A%0A%20%20%20%20%20%20%20%20%0A%20%20%20%20%0A%20%20%20%20%0A%20%20%20%20%20%20%20%20%20%20%20%20var%20circle_marker_718543d244174c3eb77dcc2ed049f512%20%3D%20L.circleMarker%28%0A%20%20%20%20%20%20%20%20%20%20%20%20%20%20%20%20%5B20.5218%2C%20-103.31117%5D%2C%0A%20%20%20%20%20%20%20%20%20%20%20%20%20%20%20%20%7B%22bubblingMouseEvents%22%3A%20true%2C%20%22color%22%3A%20%22orange%22%2C%20%22dashArray%22%3A%20null%2C%20%22dashOffset%22%3A%20null%2C%20%22fill%22%3A%20true%2C%20%22fillColor%22%3A%20%22orange%22%2C%20%22fillOpacity%22%3A%200.2%2C%20%22fillRule%22%3A%20%22evenodd%22%2C%20%22lineCap%22%3A%20%22round%22%2C%20%22lineJoin%22%3A%20%22round%22%2C%20%22opacity%22%3A%201.0%2C%20%22radius%22%3A%2010%2C%20%22stroke%22%3A%20true%2C%20%22weight%22%3A%203%7D%0A%20%20%20%20%20%20%20%20%20%20%20%20%29.addTo%28map_488442466ca04305bc30478c4ee59e17%29%3B%0A%20%20%20%20%20%20%20%20%0A%20%20%20%20%0A%20%20%20%20%20%20%20%20var%20popup_0abbebaf6717466f88f56951c5c19f02%20%3D%20L.popup%28%7B%22maxWidth%22%3A%20%22100%25%22%7D%29%3B%0A%0A%20%20%20%20%20%20%20%20%0A%20%20%20%20%20%20%20%20%20%20%20%20var%20html_85a597bf8c214884875abaf176f745c2%20%3D%20%24%28%60%3Cdiv%20id%3D%22html_85a597bf8c214884875abaf176f745c2%22%20style%3D%22width%3A%20100.0%25%3B%20height%3A%20100.0%25%3B%22%3EVille%20%3A%20Guadalajara%3Cbr%3E%20%20%20%20%20%20%20%20%20%20%20%20%20%20%20%20%20%20%20%20%20Prix%20moyen%20d%27un%20vol%20en%20%24%20%3A%20579%3Cbr%3E%3C/div%3E%60%29%5B0%5D%3B%0A%20%20%20%20%20%20%20%20%20%20%20%20popup_0abbebaf6717466f88f56951c5c19f02.setContent%28html_85a597bf8c214884875abaf176f745c2%29%3B%0A%20%20%20%20%20%20%20%20%0A%0A%20%20%20%20%20%20%20%20circle_marker_718543d244174c3eb77dcc2ed049f512.bindPopup%28popup_0abbebaf6717466f88f56951c5c19f02%29%0A%20%20%20%20%20%20%20%20%3B%0A%0A%20%20%20%20%20%20%20%20%0A%20%20%20%20%0A%20%20%20%20%0A%20%20%20%20%20%20%20%20%20%20%20%20var%20circle_marker_b4a1e301539b45d89ec87136d0db1840%20%3D%20L.circleMarker%28%0A%20%20%20%20%20%20%20%20%20%20%20%20%20%20%20%20%5B19.089663331035872%2C%2072.86551674072268%5D%2C%0A%20%20%20%20%20%20%20%20%20%20%20%20%20%20%20%20%7B%22bubblingMouseEvents%22%3A%20true%2C%20%22color%22%3A%20%22orange%22%2C%20%22dashArray%22%3A%20null%2C%20%22dashOffset%22%3A%20null%2C%20%22fill%22%3A%20true%2C%20%22fillColor%22%3A%20%22orange%22%2C%20%22fillOpacity%22%3A%200.2%2C%20%22fillRule%22%3A%20%22evenodd%22%2C%20%22lineCap%22%3A%20%22round%22%2C%20%22lineJoin%22%3A%20%22round%22%2C%20%22opacity%22%3A%201.0%2C%20%22radius%22%3A%2010%2C%20%22stroke%22%3A%20true%2C%20%22weight%22%3A%203%7D%0A%20%20%20%20%20%20%20%20%20%20%20%20%29.addTo%28map_488442466ca04305bc30478c4ee59e17%29%3B%0A%20%20%20%20%20%20%20%20%0A%20%20%20%20%0A%20%20%20%20%20%20%20%20var%20popup_8edc8cdf4e1c47a88f2f287a72b5c2a4%20%3D%20L.popup%28%7B%22maxWidth%22%3A%20%22100%25%22%7D%29%3B%0A%0A%20%20%20%20%20%20%20%20%0A%20%20%20%20%20%20%20%20%20%20%20%20var%20html_24dba266f76d4bd5b76765ef8651d5d5%20%3D%20%24%28%60%3Cdiv%20id%3D%22html_24dba266f76d4bd5b76765ef8651d5d5%22%20style%3D%22width%3A%20100.0%25%3B%20height%3A%20100.0%25%3B%22%3EVille%20%3A%20Mumbai%3Cbr%3E%20%20%20%20%20%20%20%20%20%20%20%20%20%20%20%20%20%20%20%20%20Prix%20moyen%20d%27un%20vol%20en%20%24%20%3A%20588%3Cbr%3E%3C/div%3E%60%29%5B0%5D%3B%0A%20%20%20%20%20%20%20%20%20%20%20%20popup_8edc8cdf4e1c47a88f2f287a72b5c2a4.setContent%28html_24dba266f76d4bd5b76765ef8651d5d5%29%3B%0A%20%20%20%20%20%20%20%20%0A%0A%20%20%20%20%20%20%20%20circle_marker_b4a1e301539b45d89ec87136d0db1840.bindPopup%28popup_8edc8cdf4e1c47a88f2f287a72b5c2a4%29%0A%20%20%20%20%20%20%20%20%3B%0A%0A%20%20%20%20%20%20%20%20%0A%20%20%20%20%0A%20%20%20%20%0A%20%20%20%20%20%20%20%20%20%20%20%20var%20circle_marker_de9ff55b3fed4b5aa5882b2a1454aaab%20%3D%20L.circleMarker%28%0A%20%20%20%20%20%20%20%20%20%20%20%20%20%20%20%20%5B10.59396494218611%2C%20-85.54389501586905%5D%2C%0A%20%20%20%20%20%20%20%20%20%20%20%20%20%20%20%20%7B%22bubblingMouseEvents%22%3A%20true%2C%20%22color%22%3A%20%22orange%22%2C%20%22dashArray%22%3A%20null%2C%20%22dashOffset%22%3A%20null%2C%20%22fill%22%3A%20true%2C%20%22fillColor%22%3A%20%22orange%22%2C%20%22fillOpacity%22%3A%200.2%2C%20%22fillRule%22%3A%20%22evenodd%22%2C%20%22lineCap%22%3A%20%22round%22%2C%20%22lineJoin%22%3A%20%22round%22%2C%20%22opacity%22%3A%201.0%2C%20%22radius%22%3A%2010%2C%20%22stroke%22%3A%20true%2C%20%22weight%22%3A%203%7D%0A%20%20%20%20%20%20%20%20%20%20%20%20%29.addTo%28map_488442466ca04305bc30478c4ee59e17%29%3B%0A%20%20%20%20%20%20%20%20%0A%20%20%20%20%0A%20%20%20%20%20%20%20%20var%20popup_83dc1d460d934814b0625d5c8b7da5f0%20%3D%20L.popup%28%7B%22maxWidth%22%3A%20%22100%25%22%7D%29%3B%0A%0A%20%20%20%20%20%20%20%20%0A%20%20%20%20%20%20%20%20%20%20%20%20var%20html_de9fbe7392dc4bce9e5d4eb5fda77e5d%20%3D%20%24%28%60%3Cdiv%20id%3D%22html_de9fbe7392dc4bce9e5d4eb5fda77e5d%22%20style%3D%22width%3A%20100.0%25%3B%20height%3A%20100.0%25%3B%22%3EVille%20%3A%20Liberia%3Cbr%3E%20%20%20%20%20%20%20%20%20%20%20%20%20%20%20%20%20%20%20%20%20Prix%20moyen%20d%27un%20vol%20en%20%24%20%3A%20591%3Cbr%3E%3C/div%3E%60%29%5B0%5D%3B%0A%20%20%20%20%20%20%20%20%20%20%20%20popup_83dc1d460d934814b0625d5c8b7da5f0.setContent%28html_de9fbe7392dc4bce9e5d4eb5fda77e5d%29%3B%0A%20%20%20%20%20%20%20%20%0A%0A%20%20%20%20%20%20%20%20circle_marker_de9ff55b3fed4b5aa5882b2a1454aaab.bindPopup%28popup_83dc1d460d934814b0625d5c8b7da5f0%29%0A%20%20%20%20%20%20%20%20%3B%0A%0A%20%20%20%20%20%20%20%20%0A%20%20%20%20%0A%20%20%20%20%0A%20%20%20%20%20%20%20%20%20%20%20%20var%20circle_marker_c0d98694ecc241e59c6c92a01076b581%20%3D%20L.circleMarker%28%0A%20%20%20%20%20%20%20%20%20%20%20%20%20%20%20%20%5B11.54733%2C%2043.15948%5D%2C%0A%20%20%20%20%20%20%20%20%20%20%20%20%20%20%20%20%7B%22bubblingMouseEvents%22%3A%20true%2C%20%22color%22%3A%20%22orange%22%2C%20%22dashArray%22%3A%20null%2C%20%22dashOffset%22%3A%20null%2C%20%22fill%22%3A%20true%2C%20%22fillColor%22%3A%20%22orange%22%2C%20%22fillOpacity%22%3A%200.2%2C%20%22fillRule%22%3A%20%22evenodd%22%2C%20%22lineCap%22%3A%20%22round%22%2C%20%22lineJoin%22%3A%20%22round%22%2C%20%22opacity%22%3A%201.0%2C%20%22radius%22%3A%2010%2C%20%22stroke%22%3A%20true%2C%20%22weight%22%3A%203%7D%0A%20%20%20%20%20%20%20%20%20%20%20%20%29.addTo%28map_488442466ca04305bc30478c4ee59e17%29%3B%0A%20%20%20%20%20%20%20%20%0A%20%20%20%20%0A%20%20%20%20%20%20%20%20var%20popup_08c8eda030d24f75a4df9aa64ba16288%20%3D%20L.popup%28%7B%22maxWidth%22%3A%20%22100%25%22%7D%29%3B%0A%0A%20%20%20%20%20%20%20%20%0A%20%20%20%20%20%20%20%20%20%20%20%20var%20html_c86139bcb6fd42bdaf7d18058f160959%20%3D%20%24%28%60%3Cdiv%20id%3D%22html_c86139bcb6fd42bdaf7d18058f160959%22%20style%3D%22width%3A%20100.0%25%3B%20height%3A%20100.0%25%3B%22%3EVille%20%3A%20Djibouti%3Cbr%3E%20%20%20%20%20%20%20%20%20%20%20%20%20%20%20%20%20%20%20%20%20Prix%20moyen%20d%27un%20vol%20en%20%24%20%3A%20609%3Cbr%3E%3C/div%3E%60%29%5B0%5D%3B%0A%20%20%20%20%20%20%20%20%20%20%20%20popup_08c8eda030d24f75a4df9aa64ba16288.setContent%28html_c86139bcb6fd42bdaf7d18058f160959%29%3B%0A%20%20%20%20%20%20%20%20%0A%0A%20%20%20%20%20%20%20%20circle_marker_c0d98694ecc241e59c6c92a01076b581.bindPopup%28popup_08c8eda030d24f75a4df9aa64ba16288%29%0A%20%20%20%20%20%20%20%20%3B%0A%0A%20%20%20%20%20%20%20%20%0A%20%20%20%20%0A%20%20%20%20%0A%20%20%20%20%20%20%20%20%20%20%20%20var%20circle_marker_50595f01855448baa0ecbfbeed68c2ca%20%3D%20L.circleMarker%28%0A%20%20%20%20%20%20%20%20%20%20%20%20%20%20%20%20%5B35.70903%2C%20139.73199%5D%2C%0A%20%20%20%20%20%20%20%20%20%20%20%20%20%20%20%20%7B%22bubblingMouseEvents%22%3A%20true%2C%20%22color%22%3A%20%22orange%22%2C%20%22dashArray%22%3A%20null%2C%20%22dashOffset%22%3A%20null%2C%20%22fill%22%3A%20true%2C%20%22fillColor%22%3A%20%22orange%22%2C%20%22fillOpacity%22%3A%200.2%2C%20%22fillRule%22%3A%20%22evenodd%22%2C%20%22lineCap%22%3A%20%22round%22%2C%20%22lineJoin%22%3A%20%22round%22%2C%20%22opacity%22%3A%201.0%2C%20%22radius%22%3A%2010%2C%20%22stroke%22%3A%20true%2C%20%22weight%22%3A%203%7D%0A%20%20%20%20%20%20%20%20%20%20%20%20%29.addTo%28map_488442466ca04305bc30478c4ee59e17%29%3B%0A%20%20%20%20%20%20%20%20%0A%20%20%20%20%0A%20%20%20%20%20%20%20%20var%20popup_2b150f4f4a864ea49caddbdcd31f5168%20%3D%20L.popup%28%7B%22maxWidth%22%3A%20%22100%25%22%7D%29%3B%0A%0A%20%20%20%20%20%20%20%20%0A%20%20%20%20%20%20%20%20%20%20%20%20var%20html_d262ad42508a4e8ea459efd1cc3ae5b2%20%3D%20%24%28%60%3Cdiv%20id%3D%22html_d262ad42508a4e8ea459efd1cc3ae5b2%22%20style%3D%22width%3A%20100.0%25%3B%20height%3A%20100.0%25%3B%22%3EVille%20%3A%20Tokyo%3Cbr%3E%20%20%20%20%20%20%20%20%20%20%20%20%20%20%20%20%20%20%20%20%20Prix%20moyen%20d%27un%20vol%20en%20%24%20%3A%20629%3Cbr%3E%3C/div%3E%60%29%5B0%5D%3B%0A%20%20%20%20%20%20%20%20%20%20%20%20popup_2b150f4f4a864ea49caddbdcd31f5168.setContent%28html_d262ad42508a4e8ea459efd1cc3ae5b2%29%3B%0A%20%20%20%20%20%20%20%20%0A%0A%20%20%20%20%20%20%20%20circle_marker_50595f01855448baa0ecbfbeed68c2ca.bindPopup%28popup_2b150f4f4a864ea49caddbdcd31f5168%29%0A%20%20%20%20%20%20%20%20%3B%0A%0A%20%20%20%20%20%20%20%20%0A%20%20%20%20%0A%20%20%20%20%0A%20%20%20%20%20%20%20%20%20%20%20%20var%20circle_marker_bcad32ee294e4bcd8ce3dfaa045445c1%20%3D%20L.circleMarker%28%0A%20%20%20%20%20%20%20%20%20%20%20%20%20%20%20%20%5B42.36564733660332%2C%20-71.00850028564457%5D%2C%0A%20%20%20%20%20%20%20%20%20%20%20%20%20%20%20%20%7B%22bubblingMouseEvents%22%3A%20true%2C%20%22color%22%3A%20%22orange%22%2C%20%22dashArray%22%3A%20null%2C%20%22dashOffset%22%3A%20null%2C%20%22fill%22%3A%20true%2C%20%22fillColor%22%3A%20%22orange%22%2C%20%22fillOpacity%22%3A%200.2%2C%20%22fillRule%22%3A%20%22evenodd%22%2C%20%22lineCap%22%3A%20%22round%22%2C%20%22lineJoin%22%3A%20%22round%22%2C%20%22opacity%22%3A%201.0%2C%20%22radius%22%3A%2010%2C%20%22stroke%22%3A%20true%2C%20%22weight%22%3A%203%7D%0A%20%20%20%20%20%20%20%20%20%20%20%20%29.addTo%28map_488442466ca04305bc30478c4ee59e17%29%3B%0A%20%20%20%20%20%20%20%20%0A%20%20%20%20%0A%20%20%20%20%20%20%20%20var%20popup_d3dda74fc06341ff83c1d1c6078a73a5%20%3D%20L.popup%28%7B%22maxWidth%22%3A%20%22100%25%22%7D%29%3B%0A%0A%20%20%20%20%20%20%20%20%0A%20%20%20%20%20%20%20%20%20%20%20%20var%20html_434d02f4c8ba4bca8abacfb643fbe718%20%3D%20%24%28%60%3Cdiv%20id%3D%22html_434d02f4c8ba4bca8abacfb643fbe718%22%20style%3D%22width%3A%20100.0%25%3B%20height%3A%20100.0%25%3B%22%3EVille%20%3A%20Boston%3Cbr%3E%20%20%20%20%20%20%20%20%20%20%20%20%20%20%20%20%20%20%20%20%20Prix%20moyen%20d%27un%20vol%20en%20%24%20%3A%20634%3Cbr%3E%3C/div%3E%60%29%5B0%5D%3B%0A%20%20%20%20%20%20%20%20%20%20%20%20popup_d3dda74fc06341ff83c1d1c6078a73a5.setContent%28html_434d02f4c8ba4bca8abacfb643fbe718%29%3B%0A%20%20%20%20%20%20%20%20%0A%0A%20%20%20%20%20%20%20%20circle_marker_bcad32ee294e4bcd8ce3dfaa045445c1.bindPopup%28popup_d3dda74fc06341ff83c1d1c6078a73a5%29%0A%20%20%20%20%20%20%20%20%3B%0A%0A%20%20%20%20%20%20%20%20%0A%20%20%20%20%0A%20%20%20%20%0A%20%20%20%20%20%20%20%20%20%20%20%20var%20circle_marker_694855f855fd4c8196007f4f43c43468%20%3D%20L.circleMarker%28%0A%20%20%20%20%20%20%20%20%20%20%20%20%20%20%20%20%5B-22.90354%2C%20-43.20959%5D%2C%0A%20%20%20%20%20%20%20%20%20%20%20%20%20%20%20%20%7B%22bubblingMouseEvents%22%3A%20true%2C%20%22color%22%3A%20%22orange%22%2C%20%22dashArray%22%3A%20null%2C%20%22dashOffset%22%3A%20null%2C%20%22fill%22%3A%20true%2C%20%22fillColor%22%3A%20%22orange%22%2C%20%22fillOpacity%22%3A%200.2%2C%20%22fillRule%22%3A%20%22evenodd%22%2C%20%22lineCap%22%3A%20%22round%22%2C%20%22lineJoin%22%3A%20%22round%22%2C%20%22opacity%22%3A%201.0%2C%20%22radius%22%3A%2010%2C%20%22stroke%22%3A%20true%2C%20%22weight%22%3A%203%7D%0A%20%20%20%20%20%20%20%20%20%20%20%20%29.addTo%28map_488442466ca04305bc30478c4ee59e17%29%3B%0A%20%20%20%20%20%20%20%20%0A%20%20%20%20%0A%20%20%20%20%20%20%20%20var%20popup_7e46a0bf8b78406e8ecfca48a72fb231%20%3D%20L.popup%28%7B%22maxWidth%22%3A%20%22100%25%22%7D%29%3B%0A%0A%20%20%20%20%20%20%20%20%0A%20%20%20%20%20%20%20%20%20%20%20%20var%20html_958e63a029df471cb76913fcc075de72%20%3D%20%24%28%60%3Cdiv%20id%3D%22html_958e63a029df471cb76913fcc075de72%22%20style%3D%22width%3A%20100.0%25%3B%20height%3A%20100.0%25%3B%22%3EVille%20%3A%20Rio%20de%20Janeiro%3Cbr%3E%20%20%20%20%20%20%20%20%20%20%20%20%20%20%20%20%20%20%20%20%20Prix%20moyen%20d%27un%20vol%20en%20%24%20%3A%20642%3Cbr%3E%3C/div%3E%60%29%5B0%5D%3B%0A%20%20%20%20%20%20%20%20%20%20%20%20popup_7e46a0bf8b78406e8ecfca48a72fb231.setContent%28html_958e63a029df471cb76913fcc075de72%29%3B%0A%20%20%20%20%20%20%20%20%0A%0A%20%20%20%20%20%20%20%20circle_marker_694855f855fd4c8196007f4f43c43468.bindPopup%28popup_7e46a0bf8b78406e8ecfca48a72fb231%29%0A%20%20%20%20%20%20%20%20%3B%0A%0A%20%20%20%20%20%20%20%20%0A%20%20%20%20%0A%20%20%20%20%0A%20%20%20%20%20%20%20%20%20%20%20%20var%20circle_marker_d6abb0b130b645cc9db0fa4626326132%20%3D%20L.circleMarker%28%0A%20%20%20%20%20%20%20%20%20%20%20%20%20%20%20%20%5B-26.13348%2C%2028.23606%5D%2C%0A%20%20%20%20%20%20%20%20%20%20%20%20%20%20%20%20%7B%22bubblingMouseEvents%22%3A%20true%2C%20%22color%22%3A%20%22orange%22%2C%20%22dashArray%22%3A%20null%2C%20%22dashOffset%22%3A%20null%2C%20%22fill%22%3A%20true%2C%20%22fillColor%22%3A%20%22orange%22%2C%20%22fillOpacity%22%3A%200.2%2C%20%22fillRule%22%3A%20%22evenodd%22%2C%20%22lineCap%22%3A%20%22round%22%2C%20%22lineJoin%22%3A%20%22round%22%2C%20%22opacity%22%3A%201.0%2C%20%22radius%22%3A%2010%2C%20%22stroke%22%3A%20true%2C%20%22weight%22%3A%203%7D%0A%20%20%20%20%20%20%20%20%20%20%20%20%29.addTo%28map_488442466ca04305bc30478c4ee59e17%29%3B%0A%20%20%20%20%20%20%20%20%0A%20%20%20%20%0A%20%20%20%20%20%20%20%20var%20popup_89b71528ca114d86bc786e2bfbdcd8ce%20%3D%20L.popup%28%7B%22maxWidth%22%3A%20%22100%25%22%7D%29%3B%0A%0A%20%20%20%20%20%20%20%20%0A%20%20%20%20%20%20%20%20%20%20%20%20var%20html_542c4eaf2027469d9e3932320b23bd5d%20%3D%20%24%28%60%3Cdiv%20id%3D%22html_542c4eaf2027469d9e3932320b23bd5d%22%20style%3D%22width%3A%20100.0%25%3B%20height%3A%20100.0%25%3B%22%3EVille%20%3A%20Johannesburg%3Cbr%3E%20%20%20%20%20%20%20%20%20%20%20%20%20%20%20%20%20%20%20%20%20Prix%20moyen%20d%27un%20vol%20en%20%24%20%3A%20643%3Cbr%3E%3C/div%3E%60%29%5B0%5D%3B%0A%20%20%20%20%20%20%20%20%20%20%20%20popup_89b71528ca114d86bc786e2bfbdcd8ce.setContent%28html_542c4eaf2027469d9e3932320b23bd5d%29%3B%0A%20%20%20%20%20%20%20%20%0A%0A%20%20%20%20%20%20%20%20circle_marker_d6abb0b130b645cc9db0fa4626326132.bindPopup%28popup_89b71528ca114d86bc786e2bfbdcd8ce%29%0A%20%20%20%20%20%20%20%20%3B%0A%0A%20%20%20%20%20%20%20%20%0A%20%20%20%20%0A%20%20%20%20%0A%20%20%20%20%20%20%20%20%20%20%20%20var%20circle_marker_adabcc3703db4b53867f48cfb4079d62%20%3D%20L.circleMarker%28%0A%20%20%20%20%20%20%20%20%20%20%20%20%20%20%20%20%5B-1.3303%2C%2036.92505%5D%2C%0A%20%20%20%20%20%20%20%20%20%20%20%20%20%20%20%20%7B%22bubblingMouseEvents%22%3A%20true%2C%20%22color%22%3A%20%22orange%22%2C%20%22dashArray%22%3A%20null%2C%20%22dashOffset%22%3A%20null%2C%20%22fill%22%3A%20true%2C%20%22fillColor%22%3A%20%22orange%22%2C%20%22fillOpacity%22%3A%200.2%2C%20%22fillRule%22%3A%20%22evenodd%22%2C%20%22lineCap%22%3A%20%22round%22%2C%20%22lineJoin%22%3A%20%22round%22%2C%20%22opacity%22%3A%201.0%2C%20%22radius%22%3A%2010%2C%20%22stroke%22%3A%20true%2C%20%22weight%22%3A%203%7D%0A%20%20%20%20%20%20%20%20%20%20%20%20%29.addTo%28map_488442466ca04305bc30478c4ee59e17%29%3B%0A%20%20%20%20%20%20%20%20%0A%20%20%20%20%0A%20%20%20%20%20%20%20%20var%20popup_8cc9e382d5db42d0afd84fb2f191da75%20%3D%20L.popup%28%7B%22maxWidth%22%3A%20%22100%25%22%7D%29%3B%0A%0A%20%20%20%20%20%20%20%20%0A%20%20%20%20%20%20%20%20%20%20%20%20var%20html_417bea87c023445888e7002fa2896dc2%20%3D%20%24%28%60%3Cdiv%20id%3D%22html_417bea87c023445888e7002fa2896dc2%22%20style%3D%22width%3A%20100.0%25%3B%20height%3A%20100.0%25%3B%22%3EVille%20%3A%20Nairobi%3Cbr%3E%20%20%20%20%20%20%20%20%20%20%20%20%20%20%20%20%20%20%20%20%20Prix%20moyen%20d%27un%20vol%20en%20%24%20%3A%20650%3Cbr%3E%3C/div%3E%60%29%5B0%5D%3B%0A%20%20%20%20%20%20%20%20%20%20%20%20popup_8cc9e382d5db42d0afd84fb2f191da75.setContent%28html_417bea87c023445888e7002fa2896dc2%29%3B%0A%20%20%20%20%20%20%20%20%0A%0A%20%20%20%20%20%20%20%20circle_marker_adabcc3703db4b53867f48cfb4079d62.bindPopup%28popup_8cc9e382d5db42d0afd84fb2f191da75%29%0A%20%20%20%20%20%20%20%20%3B%0A%0A%20%20%20%20%20%20%20%20%0A%20%20%20%20%0A%20%20%20%20%0A%20%20%20%20%20%20%20%20%20%20%20%20var%20circle_marker_e0fd309c41264db5a99763eb48c2d57c%20%3D%20L.circleMarker%28%0A%20%20%20%20%20%20%20%20%20%20%20%20%20%20%20%20%5B-20.43023%2C%2057.6836%5D%2C%0A%20%20%20%20%20%20%20%20%20%20%20%20%20%20%20%20%7B%22bubblingMouseEvents%22%3A%20true%2C%20%22color%22%3A%20%22orange%22%2C%20%22dashArray%22%3A%20null%2C%20%22dashOffset%22%3A%20null%2C%20%22fill%22%3A%20true%2C%20%22fillColor%22%3A%20%22orange%22%2C%20%22fillOpacity%22%3A%200.2%2C%20%22fillRule%22%3A%20%22evenodd%22%2C%20%22lineCap%22%3A%20%22round%22%2C%20%22lineJoin%22%3A%20%22round%22%2C%20%22opacity%22%3A%201.0%2C%20%22radius%22%3A%2010%2C%20%22stroke%22%3A%20true%2C%20%22weight%22%3A%203%7D%0A%20%20%20%20%20%20%20%20%20%20%20%20%29.addTo%28map_488442466ca04305bc30478c4ee59e17%29%3B%0A%20%20%20%20%20%20%20%20%0A%20%20%20%20%0A%20%20%20%20%20%20%20%20var%20popup_07382a21746b4703a67902e3898e7edc%20%3D%20L.popup%28%7B%22maxWidth%22%3A%20%22100%25%22%7D%29%3B%0A%0A%20%20%20%20%20%20%20%20%0A%20%20%20%20%20%20%20%20%20%20%20%20var%20html_0d4fd597303c4b03898df2e56cb6727e%20%3D%20%24%28%60%3Cdiv%20id%3D%22html_0d4fd597303c4b03898df2e56cb6727e%22%20style%3D%22width%3A%20100.0%25%3B%20height%3A%20100.0%25%3B%22%3EVille%20%3A%20Port%20Louis%3Cbr%3E%20%20%20%20%20%20%20%20%20%20%20%20%20%20%20%20%20%20%20%20%20Prix%20moyen%20d%27un%20vol%20en%20%24%20%3A%20667%3Cbr%3E%3C/div%3E%60%29%5B0%5D%3B%0A%20%20%20%20%20%20%20%20%20%20%20%20popup_07382a21746b4703a67902e3898e7edc.setContent%28html_0d4fd597303c4b03898df2e56cb6727e%29%3B%0A%20%20%20%20%20%20%20%20%0A%0A%20%20%20%20%20%20%20%20circle_marker_e0fd309c41264db5a99763eb48c2d57c.bindPopup%28popup_07382a21746b4703a67902e3898e7edc%29%0A%20%20%20%20%20%20%20%20%3B%0A%0A%20%20%20%20%20%20%20%20%0A%20%20%20%20%0A%20%20%20%20%0A%20%20%20%20%20%20%20%20%20%20%20%20var%20circle_marker_66ce3431509d4da5858ef2a809586f3d%20%3D%20L.circleMarker%28%0A%20%20%20%20%20%20%20%20%20%20%20%20%20%20%20%20%5B13.913579750656696%2C%20100.60606335449222%5D%2C%0A%20%20%20%20%20%20%20%20%20%20%20%20%20%20%20%20%7B%22bubblingMouseEvents%22%3A%20true%2C%20%22color%22%3A%20%22orange%22%2C%20%22dashArray%22%3A%20null%2C%20%22dashOffset%22%3A%20null%2C%20%22fill%22%3A%20true%2C%20%22fillColor%22%3A%20%22orange%22%2C%20%22fillOpacity%22%3A%200.2%2C%20%22fillRule%22%3A%20%22evenodd%22%2C%20%22lineCap%22%3A%20%22round%22%2C%20%22lineJoin%22%3A%20%22round%22%2C%20%22opacity%22%3A%201.0%2C%20%22radius%22%3A%2010%2C%20%22stroke%22%3A%20true%2C%20%22weight%22%3A%203%7D%0A%20%20%20%20%20%20%20%20%20%20%20%20%29.addTo%28map_488442466ca04305bc30478c4ee59e17%29%3B%0A%20%20%20%20%20%20%20%20%0A%20%20%20%20%0A%20%20%20%20%20%20%20%20var%20popup_a8909cc71fda4293aa8b5ce1c48fe7b2%20%3D%20L.popup%28%7B%22maxWidth%22%3A%20%22100%25%22%7D%29%3B%0A%0A%20%20%20%20%20%20%20%20%0A%20%20%20%20%20%20%20%20%20%20%20%20var%20html_4cd08cb8e2a4465ab92dd4820ad072b4%20%3D%20%24%28%60%3Cdiv%20id%3D%22html_4cd08cb8e2a4465ab92dd4820ad072b4%22%20style%3D%22width%3A%20100.0%25%3B%20height%3A%20100.0%25%3B%22%3EVille%20%3A%20Bangkok%3Cbr%3E%20%20%20%20%20%20%20%20%20%20%20%20%20%20%20%20%20%20%20%20%20Prix%20moyen%20d%27un%20vol%20en%20%24%20%3A%20688%3Cbr%3E%3C/div%3E%60%29%5B0%5D%3B%0A%20%20%20%20%20%20%20%20%20%20%20%20popup_a8909cc71fda4293aa8b5ce1c48fe7b2.setContent%28html_4cd08cb8e2a4465ab92dd4820ad072b4%29%3B%0A%20%20%20%20%20%20%20%20%0A%0A%20%20%20%20%20%20%20%20circle_marker_66ce3431509d4da5858ef2a809586f3d.bindPopup%28popup_a8909cc71fda4293aa8b5ce1c48fe7b2%29%0A%20%20%20%20%20%20%20%20%3B%0A%0A%20%20%20%20%20%20%20%20%0A%20%20%20%20%0A%20%20%20%20%0A%20%20%20%20%20%20%20%20%20%20%20%20var%20circle_marker_cb87c68e4a224c7a9aee795fcdb822b1%20%3D%20L.circleMarker%28%0A%20%20%20%20%20%20%20%20%20%20%20%20%20%20%20%20%5B2.7387214073608774%2C%20101.70236689941407%5D%2C%0A%20%20%20%20%20%20%20%20%20%20%20%20%20%20%20%20%7B%22bubblingMouseEvents%22%3A%20true%2C%20%22color%22%3A%20%22orange%22%2C%20%22dashArray%22%3A%20null%2C%20%22dashOffset%22%3A%20null%2C%20%22fill%22%3A%20true%2C%20%22fillColor%22%3A%20%22orange%22%2C%20%22fillOpacity%22%3A%200.2%2C%20%22fillRule%22%3A%20%22evenodd%22%2C%20%22lineCap%22%3A%20%22round%22%2C%20%22lineJoin%22%3A%20%22round%22%2C%20%22opacity%22%3A%201.0%2C%20%22radius%22%3A%2010%2C%20%22stroke%22%3A%20true%2C%20%22weight%22%3A%203%7D%0A%20%20%20%20%20%20%20%20%20%20%20%20%29.addTo%28map_488442466ca04305bc30478c4ee59e17%29%3B%0A%20%20%20%20%20%20%20%20%0A%20%20%20%20%0A%20%20%20%20%20%20%20%20var%20popup_7656c5a6c82b4a01ac44ab1afb1fc4fe%20%3D%20L.popup%28%7B%22maxWidth%22%3A%20%22100%25%22%7D%29%3B%0A%0A%20%20%20%20%20%20%20%20%0A%20%20%20%20%20%20%20%20%20%20%20%20var%20html_edfc8904b13c41129f06cc6d80a24659%20%3D%20%24%28%60%3Cdiv%20id%3D%22html_edfc8904b13c41129f06cc6d80a24659%22%20style%3D%22width%3A%20100.0%25%3B%20height%3A%20100.0%25%3B%22%3EVille%20%3A%20Kuala%20Lumpur%3Cbr%3E%20%20%20%20%20%20%20%20%20%20%20%20%20%20%20%20%20%20%20%20%20Prix%20moyen%20d%27un%20vol%20en%20%24%20%3A%20732%3Cbr%3E%3C/div%3E%60%29%5B0%5D%3B%0A%20%20%20%20%20%20%20%20%20%20%20%20popup_7656c5a6c82b4a01ac44ab1afb1fc4fe.setContent%28html_edfc8904b13c41129f06cc6d80a24659%29%3B%0A%20%20%20%20%20%20%20%20%0A%0A%20%20%20%20%20%20%20%20circle_marker_cb87c68e4a224c7a9aee795fcdb822b1.bindPopup%28popup_7656c5a6c82b4a01ac44ab1afb1fc4fe%29%0A%20%20%20%20%20%20%20%20%3B%0A%0A%20%20%20%20%20%20%20%20%0A%20%20%20%20%0A%20%20%20%20%0A%20%20%20%20%20%20%20%20%20%20%20%20var%20circle_marker_703b2901db7d43cb82ee1607f90d937f%20%3D%20L.circleMarker%28%0A%20%20%20%20%20%20%20%20%20%20%20%20%20%20%20%20%5B-6.20826%2C%20106.84838%5D%2C%0A%20%20%20%20%20%20%20%20%20%20%20%20%20%20%20%20%7B%22bubblingMouseEvents%22%3A%20true%2C%20%22color%22%3A%20%22red%22%2C%20%22dashArray%22%3A%20null%2C%20%22dashOffset%22%3A%20null%2C%20%22fill%22%3A%20true%2C%20%22fillColor%22%3A%20%22red%22%2C%20%22fillOpacity%22%3A%200.2%2C%20%22fillRule%22%3A%20%22evenodd%22%2C%20%22lineCap%22%3A%20%22round%22%2C%20%22lineJoin%22%3A%20%22round%22%2C%20%22opacity%22%3A%201.0%2C%20%22radius%22%3A%2010%2C%20%22stroke%22%3A%20true%2C%20%22weight%22%3A%203%7D%0A%20%20%20%20%20%20%20%20%20%20%20%20%29.addTo%28map_488442466ca04305bc30478c4ee59e17%29%3B%0A%20%20%20%20%20%20%20%20%0A%20%20%20%20%0A%20%20%20%20%20%20%20%20var%20popup_1747063336d3482191be062bc8ca5273%20%3D%20L.popup%28%7B%22maxWidth%22%3A%20%22100%25%22%7D%29%3B%0A%0A%20%20%20%20%20%20%20%20%0A%20%20%20%20%20%20%20%20%20%20%20%20var%20html_62c07044301e43a79a5ad180dfffbe93%20%3D%20%24%28%60%3Cdiv%20id%3D%22html_62c07044301e43a79a5ad180dfffbe93%22%20style%3D%22width%3A%20100.0%25%3B%20height%3A%20100.0%25%3B%22%3EVille%20%3A%20Jakarta%3Cbr%3E%20%20%20%20%20%20%20%20%20%20%20%20%20%20%20%20%20%20%20%20%20Prix%20moyen%20d%27un%20vol%20en%20%24%20%3A%20843%3Cbr%3E%3C/div%3E%60%29%5B0%5D%3B%0A%20%20%20%20%20%20%20%20%20%20%20%20popup_1747063336d3482191be062bc8ca5273.setContent%28html_62c07044301e43a79a5ad180dfffbe93%29%3B%0A%20%20%20%20%20%20%20%20%0A%0A%20%20%20%20%20%20%20%20circle_marker_703b2901db7d43cb82ee1607f90d937f.bindPopup%28popup_1747063336d3482191be062bc8ca5273%29%0A%20%20%20%20%20%20%20%20%3B%0A%0A%20%20%20%20%20%20%20%20%0A%20%20%20%20%0A%20%20%20%20%0A%20%20%20%20%20%20%20%20%20%20%20%20var%20circle_marker_317e74e293264803a788f7518669366e%20%3D%20L.circleMarker%28%0A%20%20%20%20%20%20%20%20%20%20%20%20%20%20%20%20%5B6.907697509487234%2C%2079.91235673427582%5D%2C%0A%20%20%20%20%20%20%20%20%20%20%20%20%20%20%20%20%7B%22bubblingMouseEvents%22%3A%20true%2C%20%22color%22%3A%20%22red%22%2C%20%22dashArray%22%3A%20null%2C%20%22dashOffset%22%3A%20null%2C%20%22fill%22%3A%20true%2C%20%22fillColor%22%3A%20%22red%22%2C%20%22fillOpacity%22%3A%200.2%2C%20%22fillRule%22%3A%20%22evenodd%22%2C%20%22lineCap%22%3A%20%22round%22%2C%20%22lineJoin%22%3A%20%22round%22%2C%20%22opacity%22%3A%201.0%2C%20%22radius%22%3A%2010%2C%20%22stroke%22%3A%20true%2C%20%22weight%22%3A%203%7D%0A%20%20%20%20%20%20%20%20%20%20%20%20%29.addTo%28map_488442466ca04305bc30478c4ee59e17%29%3B%0A%20%20%20%20%20%20%20%20%0A%20%20%20%20%0A%20%20%20%20%20%20%20%20var%20popup_e1a6774c170b4b0da1156622cd38def1%20%3D%20L.popup%28%7B%22maxWidth%22%3A%20%22100%25%22%7D%29%3B%0A%0A%20%20%20%20%20%20%20%20%0A%20%20%20%20%20%20%20%20%20%20%20%20var%20html_9f2937ebca0448b5aa6332339a4a1e43%20%3D%20%24%28%60%3Cdiv%20id%3D%22html_9f2937ebca0448b5aa6332339a4a1e43%22%20style%3D%22width%3A%20100.0%25%3B%20height%3A%20100.0%25%3B%22%3EVille%20%3A%20Colombo%3Cbr%3E%20%20%20%20%20%20%20%20%20%20%20%20%20%20%20%20%20%20%20%20%20Prix%20moyen%20d%27un%20vol%20en%20%24%20%3A%20918%3Cbr%3E%3C/div%3E%60%29%5B0%5D%3B%0A%20%20%20%20%20%20%20%20%20%20%20%20popup_e1a6774c170b4b0da1156622cd38def1.setContent%28html_9f2937ebca0448b5aa6332339a4a1e43%29%3B%0A%20%20%20%20%20%20%20%20%0A%0A%20%20%20%20%20%20%20%20circle_marker_317e74e293264803a788f7518669366e.bindPopup%28popup_e1a6774c170b4b0da1156622cd38def1%29%0A%20%20%20%20%20%20%20%20%3B%0A%0A%20%20%20%20%20%20%20%20%0A%20%20%20%20%0A%20%20%20%20%0A%20%20%20%20%20%20%20%20%20%20%20%20var%20circle_marker_ce32b33fcc0748b395a03f8f5adba44a%20%3D%20L.circleMarker%28%0A%20%20%20%20%20%20%20%20%20%20%20%20%20%20%20%20%5B21.22119%2C%20105.80718%5D%2C%0A%20%20%20%20%20%20%20%20%20%20%20%20%20%20%20%20%7B%22bubblingMouseEvents%22%3A%20true%2C%20%22color%22%3A%20%22red%22%2C%20%22dashArray%22%3A%20null%2C%20%22dashOffset%22%3A%20null%2C%20%22fill%22%3A%20true%2C%20%22fillColor%22%3A%20%22red%22%2C%20%22fillOpacity%22%3A%200.2%2C%20%22fillRule%22%3A%20%22evenodd%22%2C%20%22lineCap%22%3A%20%22round%22%2C%20%22lineJoin%22%3A%20%22round%22%2C%20%22opacity%22%3A%201.0%2C%20%22radius%22%3A%2010%2C%20%22stroke%22%3A%20true%2C%20%22weight%22%3A%203%7D%0A%20%20%20%20%20%20%20%20%20%20%20%20%29.addTo%28map_488442466ca04305bc30478c4ee59e17%29%3B%0A%20%20%20%20%20%20%20%20%0A%20%20%20%20%0A%20%20%20%20%20%20%20%20var%20popup_ae6c0152b3454436aa584438a1c9ad6d%20%3D%20L.popup%28%7B%22maxWidth%22%3A%20%22100%25%22%7D%29%3B%0A%0A%20%20%20%20%20%20%20%20%0A%20%20%20%20%20%20%20%20%20%20%20%20var%20html_04951ccdd98d40a785289f0420115ca6%20%3D%20%24%28%60%3Cdiv%20id%3D%22html_04951ccdd98d40a785289f0420115ca6%22%20style%3D%22width%3A%20100.0%25%3B%20height%3A%20100.0%25%3B%22%3EVille%20%3A%20Hanoi%3Cbr%3E%20%20%20%20%20%20%20%20%20%20%20%20%20%20%20%20%20%20%20%20%20Prix%20moyen%20d%27un%20vol%20en%20%24%20%3A%201027%3Cbr%3E%3C/div%3E%60%29%5B0%5D%3B%0A%20%20%20%20%20%20%20%20%20%20%20%20popup_ae6c0152b3454436aa584438a1c9ad6d.setContent%28html_04951ccdd98d40a785289f0420115ca6%29%3B%0A%20%20%20%20%20%20%20%20%0A%0A%20%20%20%20%20%20%20%20circle_marker_ce32b33fcc0748b395a03f8f5adba44a.bindPopup%28popup_ae6c0152b3454436aa584438a1c9ad6d%29%0A%20%20%20%20%20%20%20%20%3B%0A%0A%20%20%20%20%20%20%20%20%0A%20%20%20%20%0A%20%20%20%20%0A%20%20%20%20%20%20%20%20%20%20%20%20var%20circle_marker_35479a2e6aa142d9a62a34301e578070%20%3D%20L.circleMarker%28%0A%20%20%20%20%20%20%20%20%20%20%20%20%20%20%20%20%5B-36.77265%2C%20-73.06311%5D%2C%0A%20%20%20%20%20%20%20%20%20%20%20%20%20%20%20%20%7B%22bubblingMouseEvents%22%3A%20true%2C%20%22color%22%3A%20%22brown%22%2C%20%22dashArray%22%3A%20null%2C%20%22dashOffset%22%3A%20null%2C%20%22fill%22%3A%20true%2C%20%22fillColor%22%3A%20%22brown%22%2C%20%22fillOpacity%22%3A%200.2%2C%20%22fillRule%22%3A%20%22evenodd%22%2C%20%22lineCap%22%3A%20%22round%22%2C%20%22lineJoin%22%3A%20%22round%22%2C%20%22opacity%22%3A%201.0%2C%20%22radius%22%3A%2010%2C%20%22stroke%22%3A%20true%2C%20%22weight%22%3A%203%7D%0A%20%20%20%20%20%20%20%20%20%20%20%20%29.addTo%28map_488442466ca04305bc30478c4ee59e17%29%3B%0A%20%20%20%20%20%20%20%20%0A%20%20%20%20%0A%20%20%20%20%20%20%20%20var%20popup_5d28fc8ef98a4b4eb7df4748bd123d3c%20%3D%20L.popup%28%7B%22maxWidth%22%3A%20%22100%25%22%7D%29%3B%0A%0A%20%20%20%20%20%20%20%20%0A%20%20%20%20%20%20%20%20%20%20%20%20var%20html_c937efc073784c8993eb487697911465%20%3D%20%24%28%60%3Cdiv%20id%3D%22html_c937efc073784c8993eb487697911465%22%20style%3D%22width%3A%20100.0%25%3B%20height%3A%20100.0%25%3B%22%3EVille%20%3A%20Concepci%C3%B3n%3Cbr%3E%20%20%20%20%20%20%20%20%20%20%20%20%20%20%20%20%20%20%20%20%20Prix%20moyen%20d%27un%20vol%20en%20%24%20%3A%201094%3Cbr%3E%3C/div%3E%60%29%5B0%5D%3B%0A%20%20%20%20%20%20%20%20%20%20%20%20popup_5d28fc8ef98a4b4eb7df4748bd123d3c.setContent%28html_c937efc073784c8993eb487697911465%29%3B%0A%20%20%20%20%20%20%20%20%0A%0A%20%20%20%20%20%20%20%20circle_marker_35479a2e6aa142d9a62a34301e578070.bindPopup%28popup_5d28fc8ef98a4b4eb7df4748bd123d3c%29%0A%20%20%20%20%20%20%20%20%3B%0A%0A%20%20%20%20%20%20%20%20%0A%20%20%20%20%0A%20%20%20%20%0A%20%20%20%20%20%20%20%20%20%20%20%20var%20circle_marker_53ea4eaf1fce41c9b67ed00dd77d7192%20%3D%20L.circleMarker%28%0A%20%20%20%20%20%20%20%20%20%20%20%20%20%20%20%20%5B-37.00531834381361%2C%20174.78446022216792%5D%2C%0A%20%20%20%20%20%20%20%20%20%20%20%20%20%20%20%20%7B%22bubblingMouseEvents%22%3A%20true%2C%20%22color%22%3A%20%22black%22%2C%20%22dashArray%22%3A%20null%2C%20%22dashOffset%22%3A%20null%2C%20%22fill%22%3A%20true%2C%20%22fillColor%22%3A%20%22black%22%2C%20%22fillOpacity%22%3A%200.2%2C%20%22fillRule%22%3A%20%22evenodd%22%2C%20%22lineCap%22%3A%20%22round%22%2C%20%22lineJoin%22%3A%20%22round%22%2C%20%22opacity%22%3A%201.0%2C%20%22radius%22%3A%2010%2C%20%22stroke%22%3A%20true%2C%20%22weight%22%3A%203%7D%0A%20%20%20%20%20%20%20%20%20%20%20%20%29.addTo%28map_488442466ca04305bc30478c4ee59e17%29%3B%0A%20%20%20%20%20%20%20%20%0A%20%20%20%20%0A%20%20%20%20%20%20%20%20var%20popup_4f71c9e53f254d749d40219c8e6aea64%20%3D%20L.popup%28%7B%22maxWidth%22%3A%20%22100%25%22%7D%29%3B%0A%0A%20%20%20%20%20%20%20%20%0A%20%20%20%20%20%20%20%20%20%20%20%20var%20html_60b6966a3502405e9d9488b7ae7961fe%20%3D%20%24%28%60%3Cdiv%20id%3D%22html_60b6966a3502405e9d9488b7ae7961fe%22%20style%3D%22width%3A%20100.0%25%3B%20height%3A%20100.0%25%3B%22%3EVille%20%3A%20Auckland%3Cbr%3E%20%20%20%20%20%20%20%20%20%20%20%20%20%20%20%20%20%20%20%20%20Prix%20moyen%20d%27un%20vol%20en%20%24%20%3A%201290%3Cbr%3E%3C/div%3E%60%29%5B0%5D%3B%0A%20%20%20%20%20%20%20%20%20%20%20%20popup_4f71c9e53f254d749d40219c8e6aea64.setContent%28html_60b6966a3502405e9d9488b7ae7961fe%29%3B%0A%20%20%20%20%20%20%20%20%0A%0A%20%20%20%20%20%20%20%20circle_marker_53ea4eaf1fce41c9b67ed00dd77d7192.bindPopup%28popup_4f71c9e53f254d749d40219c8e6aea64%29%0A%20%20%20%20%20%20%20%20%3B%0A%0A%20%20%20%20%20%20%20%20%0A%20%20%20%20%0A%20%20%20%20%0A%20%20%20%20%20%20%20%20%20%20%20%20var%20circle_marker_2131ddd9deef4cea817b278264d149bf%20%3D%20L.circleMarker%28%0A%20%20%20%20%20%20%20%20%20%20%20%20%20%20%20%20%5B-35.306940000000004%2C%20149.195%5D%2C%0A%20%20%20%20%20%20%20%20%20%20%20%20%20%20%20%20%7B%22bubblingMouseEvents%22%3A%20true%2C%20%22color%22%3A%20%22black%22%2C%20%22dashArray%22%3A%20null%2C%20%22dashOffset%22%3A%20null%2C%20%22fill%22%3A%20true%2C%20%22fillColor%22%3A%20%22black%22%2C%20%22fillOpacity%22%3A%200.2%2C%20%22fillRule%22%3A%20%22evenodd%22%2C%20%22lineCap%22%3A%20%22round%22%2C%20%22lineJoin%22%3A%20%22round%22%2C%20%22opacity%22%3A%201.0%2C%20%22radius%22%3A%2010%2C%20%22stroke%22%3A%20true%2C%20%22weight%22%3A%203%7D%0A%20%20%20%20%20%20%20%20%20%20%20%20%29.addTo%28map_488442466ca04305bc30478c4ee59e17%29%3B%0A%20%20%20%20%20%20%20%20%0A%20%20%20%20%0A%20%20%20%20%20%20%20%20var%20popup_e509ee9c8d864a99869dd6cbc2a12155%20%3D%20L.popup%28%7B%22maxWidth%22%3A%20%22100%25%22%7D%29%3B%0A%0A%20%20%20%20%20%20%20%20%0A%20%20%20%20%20%20%20%20%20%20%20%20var%20html_b199dc037b83402f8f6cf0c83140c223%20%3D%20%24%28%60%3Cdiv%20id%3D%22html_b199dc037b83402f8f6cf0c83140c223%22%20style%3D%22width%3A%20100.0%25%3B%20height%3A%20100.0%25%3B%22%3EVille%20%3A%20Canberra%3Cbr%3E%20%20%20%20%20%20%20%20%20%20%20%20%20%20%20%20%20%20%20%20%20Prix%20moyen%20d%27un%20vol%20en%20%24%20%3A%201531%3Cbr%3E%3C/div%3E%60%29%5B0%5D%3B%0A%20%20%20%20%20%20%20%20%20%20%20%20popup_e509ee9c8d864a99869dd6cbc2a12155.setContent%28html_b199dc037b83402f8f6cf0c83140c223%29%3B%0A%20%20%20%20%20%20%20%20%0A%0A%20%20%20%20%20%20%20%20circle_marker_2131ddd9deef4cea817b278264d149bf.bindPopup%28popup_e509ee9c8d864a99869dd6cbc2a12155%29%0A%20%20%20%20%20%20%20%20%3B%0A%0A%20%20%20%20%20%20%20%20%0A%20%20%20%20%0A%3C/script%3E onload=\"this.contentDocument.open();this.contentDocument.write(    decodeURIComponent(this.getAttribute('data-html')));this.contentDocument.close();\" allowfullscreen webkitallowfullscreen mozallowfullscreen></iframe></div></div>"
            ],
            "text/plain": [
              "<folium.folium.Map at 0xaa61fcd850>"
            ]
          },
          "execution_count": 247,
          "metadata": {},
          "output_type": "execute_result"
        }
      ],
      "source": [
        "#carte vide\n",
        "world_map= folium.Map(tiles=\"cartodbpositron\")\n",
        "#pour chaque ville on crée un cercle et on lui fait correspondre un prix et une ouleur\n",
        "radius = 10\n",
        "popup_text = \"\"\"Ville : {}<br>\n",
        "                    Prix moyen d'un vol en $ : {}<br>\"\"\"\n",
        "popup_text = popup_text.format(df_prix.iloc[0]['Ville'],\n",
        "                                   df_prix.iloc[0]['Prix moyen du vol en $']\n",
        "                                   )\n",
        "folium.CircleMarker(location=[df_prix.iloc[0]['Latitude'],df_prix.iloc[0]['Longitude']],radius=radius,color='blue',\n",
        "                    popup = popup_text,fill=True).add_to(world_map)\n",
        "for i in range(1,len(df_prix)):\n",
        "        lat = df_prix.iloc[i]['Latitude']\n",
        "        long = df_prix.iloc[i]['Longitude']\n",
        "        color = df_prix.iloc[i]['Couleur']\n",
        "        popup_text = \"\"\"Ville : {}<br>\n",
        "                    Prix moyen d'un vol en $ : {}<br>\"\"\"\n",
        "        popup_text = popup_text.format(df_prix.iloc[i]['Ville'],\n",
        "                                   df_prix.iloc[i]['Prix moyen du vol en $']\n",
        "                                   )\n",
        "        folium.CircleMarker(location=[lat,long],radius=radius,popup= popup_text,color=color,fill =True).add_to(world_map)\n",
        "\n",
        "world_map"
      ]
    },
    {
      "cell_type": "markdown",
      "metadata": {
        "id": "gFVvdC6iQcfL"
      },
      "source": [
        "On remarque que le prix n'est pas toujours en accord avec la distance à Paris. Les vols pour Hong Kong sont par exemple moins chers que ceux pour Hanoï qui est plus proche de Paris. La destination la moins chère n'est pas non plus la plus proche de Paris. Londres est la ville la plus proche mais les vols qui y vont sont plus chers que ceux vers d'autres capitales européennes (notamment Budapest qui est la destination la moins chère). D'autres paramètres peuvent entrer en compte pour expliquer cette différence de prix comme par exemple le type de compagnie aérienne (low-cost ou non), s'il y a des escales ou non ... Malheuresement nous n'avions pas accès à ces données. "
      ]
    },
    {
      "cell_type": "markdown",
      "source": [
        "## Conclusion <a name = \"paragraphe5\"></a>"
      ],
      "metadata": {
        "id": "Xbr75nQnKQor"
      }
    },
    {
      "cell_type": "markdown",
      "source": [
        "Nous voulions créer un outil informatique qui à une date donnée renvoie la destination la moins chère, puis la destination la moins chère par km. Nous avons finalement étudié ces prix (entre autres selon la distance) et avons découvert que (comme prévu) la destination la moins chère n'est pas toujours la destination la plus proche de Paris.\n",
        "\n",
        "Nous avons également rencontré des problèmes dans la récupération des données, notamment avec le scraping de Kayak. Cela nous a obligé à restreindre les paramètres que nous voulions étudier initialement."
      ],
      "metadata": {
        "id": "Sst10LoFMZji"
      }
    },
    {
      "cell_type": "code",
      "source": [
        ""
      ],
      "metadata": {
        "id": "VuJ6e7KlLldd"
      },
      "execution_count": null,
      "outputs": []
    },
    {
      "cell_type": "markdown",
      "source": [
        "Voici un programme récapitulatif de ce que nous avons fait et qui répond à la problématique de départ sous la forme d'une carte.\n",
        "\n",
        "Ce programme prend en argument \n",
        "- une seule date et suppose alors que le voyage dure un mois\n",
        "\n",
        "ou\n",
        "\n",
        "- deux dates, la première étant la date de départ et la deuxième la date de retour\n",
        "\n",
        "Il retourne une carte du monde où les villes accessibles de Paris sont d'une couleur qui indique le prix du vol (par ordre du moins cher au plus cher) :\n",
        "- bleu (uniquement une ville : LA destination la moins chère)\n",
        "- vert \n",
        "- jaune \n",
        "- orange \n",
        "- rouge \n",
        "- brun \n",
        "- noir"
      ],
      "metadata": {
        "id": "iGZduom2VKsj"
      }
    },
    {
      "cell_type": "code",
      "source": [
        "# on importe ici tous les packages utilisés par cette fonction\n",
        "import numpy as np \n",
        "import pandas as pd\n",
        "import requests\n",
        "import folium\n",
        "\n",
        "def carte_kayak(date_aller,date_retour=None) : #dates au format \"AAAAMMJJ\"\n",
        "\n",
        "  def aux1(date):\n",
        "    pd.set_option('display.max_columns', 500)\n",
        "    datebis = str(int(date)+100)\n",
        "    url = \"https://www.kayak.com/s/horizon/exploreapi/destinations?airport=PAR&budget=&depart=\"+date+\"&return=\"+datebis+\"&duration=&exactDates=true&flightMaxStops=&stopsFilterActive=false&topRightLat=59.902761633461935&topRightLon=25.09658365167229&bottomLeftLat=26.101275008286677&bottomLeftLon=-6.719822598327707&zoomLevel=4&selectedMarker=&themeCode=&selectedDestination=\"\n",
        "    req = requests.get(url)\n",
        "    out = req.json()\n",
        "    dfl = pd.json_normalize(out[\"destinations\"])\n",
        "    return dfl\n",
        "\n",
        "  def aux2(date1,date2):\n",
        "    pd.set_option('display.max_columns', 500)\n",
        "    url = \"https://www.kayak.com/s/horizon/exploreapi/destinations?airport=PAR&budget=&depart=\"+date1+\"&return=\"+date2+\"&duration=&exactDates=true&flightMaxStops=&stopsFilterActive=false&topRightLat=59.902761633461935&topRightLon=25.09658365167229&bottomLeftLat=26.101275008286677&bottomLeftLon=-6.719822598327707&zoomLevel=4&selectedMarker=&themeCode=&selectedDestination=\"\n",
        "    req = requests.get(url)\n",
        "    out = req.json()\n",
        "    dfl = pd.json_normalize(out[\"destinations\"])\n",
        "    return dfl\n",
        "\n",
        "  if date_retour == None:\n",
        "    datakayak = aux1(date_aller)\n",
        "  else : \n",
        "    datakayak = aux2(date_aller,date_retour)\n",
        "\n",
        "  datakayak = datakayak.loc[datakayak['originAirportShortName'].isin(['CDG','ORY'])] #on se limite à CDG et ORY\n",
        "  datakayak.loc[datakayak['flightInfo.priceUSD']== 999999.0] = 0 #certains prix sont normalisés à 999999.0 -> on les ramène à 0\n",
        "  datakayak = datakayak[datakayak['airline']=='Multiple Airlines'] #on ne garde que 'Multiple Airlines'\n",
        "  datakayak = datakayak[datakayak['flightMaxStops']==0] #on ne garde qe les trajets sans escale\n",
        "  datakayak = datakayak[['originAirportShortName','departd','returnd','flightInfo.priceUSD',\n",
        "    'airport.latitude','airport.longitude','airport.shortName','city.name','country.name']]\n",
        "\n",
        "  villesen=[\"Agadir\",\"Amsterdam\",\"Antalya\",\"Athens\",\"Bangkok\",\"Barcelona\",\"Berlin\",\"Mumbai\",\n",
        "           \"Boston\",\"Budapest\",\"Canberra\",\"Casablanca\",\"Chicago\",\"Colombo\",\"Copenhagen\",\"Oslo\",\"Dubai\",\n",
        "           \"New Delhi\",\"Tunis\",\"Djibouti\",\"Dublin\",\"Edinburgh\",\"Helsinki\",\"Hong Kong\",\"Houston\",\"Jakarta\",\n",
        "           \"Johannesburg\",\"Kuala Lumpur\",\"Cairo\",\"Lisbon\",\"Montreal\",\"New York\",\"Rome\",\"Tokyo\",\n",
        "           \"Lagos\",'Port Louis',\"Nairobi\",\"Moscow\",\"Hanoi\",\"London\", \"Rio de Janeiro\",\"Liberia\",\n",
        "           \"Guadalajara\",\"Auckland\",\"Concepción\", \"Izmir\",\"Chicago\"]\n",
        "\n",
        "  prixmonde=[]\n",
        "  latitudem=[]\n",
        "  longitudem=[]\n",
        "  i=0\n",
        "\n",
        "  while len(prixmonde)!=len(villesen) :\n",
        "    ville = villesen[i]\n",
        "    if ville in datakayak['city.name'].values :\n",
        "      prixmonde.append(round(datakayak[datakayak['city.name']==ville]['flightInfo.priceUSD'].astype(float).mean()))\n",
        "      latitudem.append(datakayak[datakayak['city.name']==ville]['airport.latitude'].iloc[0])\n",
        "      longitudem.append(datakayak[datakayak['city.name']==ville]['airport.longitude'].iloc[0])\n",
        "      i+=1\n",
        "    else : \n",
        "      villesen.pop(i)\n",
        "\n",
        "  datamonde=pd.DataFrame(villesen, columns=[\"Ville\"])\n",
        "  datamonde['Prix moyen du vol en $']=prixmonde\n",
        "  datamonde['Latitude']=latitudem\n",
        "  datamonde['Longitude']=longitudem\n",
        "  \n",
        "  datamonde['Latitude'] = datamonde['Latitude'].astype(float)\n",
        "  datamonde['Longitude'] = datamonde['Longitude'].astype(float)\n",
        "  datamonde['Prix moyen du vol en $'] = datamonde['Prix moyen du vol en $'].astype(int)\n",
        "\n",
        "  datamonde = datamonde.sort_values('Prix moyen du vol en $')\n",
        "\n",
        "  datamonde['Couleur'] = pd.cut(datamonde['Prix moyen du vol en $'], bins=6,labels=['green','yellow','orange','red','brown','black'])\n",
        "\n",
        "\n",
        "  world_map= folium.Map(tiles=\"cartodbpositron\")\n",
        "  radius = 10\n",
        "  popup_text = \"\"\"Ville : {}<br>\n",
        "                    Prix moyen d'un vol en $ : {}<br>\"\"\"\n",
        "  popup_text = popup_text.format(datamonde.iloc[0]['Ville'],\n",
        "                                   datamonde.iloc[0]['Prix moyen du vol en $']\n",
        "                                   )\n",
        "  folium.CircleMarker(location=[datamonde.iloc[0]['Latitude'],datamonde.iloc[0]['Longitude']],radius=radius,color='blue',\n",
        "                    popup = popup_text,fill=True).add_to(world_map)\n",
        "  for i in range(1,len(datamonde)):\n",
        "    lat = datamonde.iloc[i]['Latitude']\n",
        "    long = datamonde.iloc[i]['Longitude']\n",
        "    color = datamonde.iloc[i]['Couleur']\n",
        "    popup_text = \"\"\"Ville : {}<br>\n",
        "                    Prix moyen d'un vol en $ : {}<br>\"\"\"\n",
        "    popup_text = popup_text.format(datamonde.iloc[i]['Ville'],\n",
        "                                   datamonde.iloc[i]['Prix moyen du vol en $']\n",
        "                                   )\n",
        "    folium.CircleMarker(location=[lat,long],radius=radius,popup= popup_text,color=color,fill =True).add_to(world_map)\n",
        "\n",
        "  return world_map"
      ],
      "metadata": {
        "id": "jyj6Qw5mMZIx"
      },
      "execution_count": null,
      "outputs": []
    },
    {
      "cell_type": "markdown",
      "source": [
        "Carte représentant le prix d'un aller-retour du 05/02/2022 au 10/02/2022 au départ de Paris. "
      ],
      "metadata": {
        "id": "CvklKHM-IrUy"
      }
    },
    {
      "cell_type": "code",
      "source": [
        "carte_kayak(\"20220205\",\"20220210\")"
      ],
      "metadata": {
        "colab": {
          "base_uri": "https://localhost:8080/",
          "height": 717
        },
        "id": "18_Ll_YVWsi0",
        "outputId": "e71e3237-a672-4ffc-84f7-9ca19be96075"
      },
      "execution_count": null,
      "outputs": [
        {
          "output_type": "execute_result",
          "data": {
            "text/html": [
              "<div style=\"width:100%;\"><div style=\"position:relative;width:100%;height:0;padding-bottom:60%;\"><span style=\"color:#565656\">Make this Notebook Trusted to load map: File -> Trust Notebook</span><iframe src=\"about:blank\" style=\"position:absolute;width:100%;height:100%;left:0;top:0;border:none !important;\" data-html=%3C%21DOCTYPE%20html%3E%0A%3Chead%3E%20%20%20%20%0A%20%20%20%20%3Cmeta%20http-equiv%3D%22content-type%22%20content%3D%22text/html%3B%20charset%3DUTF-8%22%20/%3E%0A%20%20%20%20%3Cscript%3EL_PREFER_CANVAS%3Dfalse%3B%20L_NO_TOUCH%3Dfalse%3B%20L_DISABLE_3D%3Dfalse%3B%3C/script%3E%0A%20%20%20%20%3Cscript%20src%3D%22https%3A//cdn.jsdelivr.net/npm/leaflet%401.4.0/dist/leaflet.js%22%3E%3C/script%3E%0A%20%20%20%20%3Cscript%20src%3D%22https%3A//code.jquery.com/jquery-1.12.4.min.js%22%3E%3C/script%3E%0A%20%20%20%20%3Cscript%20src%3D%22https%3A//maxcdn.bootstrapcdn.com/bootstrap/3.2.0/js/bootstrap.min.js%22%3E%3C/script%3E%0A%20%20%20%20%3Cscript%20src%3D%22https%3A//cdnjs.cloudflare.com/ajax/libs/Leaflet.awesome-markers/2.0.2/leaflet.awesome-markers.js%22%3E%3C/script%3E%0A%20%20%20%20%3Clink%20rel%3D%22stylesheet%22%20href%3D%22https%3A//cdn.jsdelivr.net/npm/leaflet%401.4.0/dist/leaflet.css%22/%3E%0A%20%20%20%20%3Clink%20rel%3D%22stylesheet%22%20href%3D%22https%3A//maxcdn.bootstrapcdn.com/bootstrap/3.2.0/css/bootstrap.min.css%22/%3E%0A%20%20%20%20%3Clink%20rel%3D%22stylesheet%22%20href%3D%22https%3A//maxcdn.bootstrapcdn.com/bootstrap/3.2.0/css/bootstrap-theme.min.css%22/%3E%0A%20%20%20%20%3Clink%20rel%3D%22stylesheet%22%20href%3D%22https%3A//maxcdn.bootstrapcdn.com/font-awesome/4.6.3/css/font-awesome.min.css%22/%3E%0A%20%20%20%20%3Clink%20rel%3D%22stylesheet%22%20href%3D%22https%3A//cdnjs.cloudflare.com/ajax/libs/Leaflet.awesome-markers/2.0.2/leaflet.awesome-markers.css%22/%3E%0A%20%20%20%20%3Clink%20rel%3D%22stylesheet%22%20href%3D%22https%3A//rawcdn.githack.com/python-visualization/folium/master/folium/templates/leaflet.awesome.rotate.css%22/%3E%0A%20%20%20%20%3Cstyle%3Ehtml%2C%20body%20%7Bwidth%3A%20100%25%3Bheight%3A%20100%25%3Bmargin%3A%200%3Bpadding%3A%200%3B%7D%3C/style%3E%0A%20%20%20%20%3Cstyle%3E%23map%20%7Bposition%3Aabsolute%3Btop%3A0%3Bbottom%3A0%3Bright%3A0%3Bleft%3A0%3B%7D%3C/style%3E%0A%20%20%20%20%0A%20%20%20%20%3Cmeta%20name%3D%22viewport%22%20content%3D%22width%3Ddevice-width%2C%0A%20%20%20%20%20%20%20%20initial-scale%3D1.0%2C%20maximum-scale%3D1.0%2C%20user-scalable%3Dno%22%20/%3E%0A%20%20%20%20%3Cstyle%3E%23map_5512f941568e40a5a5c1a1d20deb6451%20%7B%0A%20%20%20%20%20%20%20%20position%3A%20relative%3B%0A%20%20%20%20%20%20%20%20width%3A%20100.0%25%3B%0A%20%20%20%20%20%20%20%20height%3A%20100.0%25%3B%0A%20%20%20%20%20%20%20%20left%3A%200.0%25%3B%0A%20%20%20%20%20%20%20%20top%3A%200.0%25%3B%0A%20%20%20%20%20%20%20%20%7D%0A%20%20%20%20%3C/style%3E%0A%3C/head%3E%0A%3Cbody%3E%20%20%20%20%0A%20%20%20%20%0A%20%20%20%20%3Cdiv%20class%3D%22folium-map%22%20id%3D%22map_5512f941568e40a5a5c1a1d20deb6451%22%20%3E%3C/div%3E%0A%3C/body%3E%0A%3Cscript%3E%20%20%20%20%0A%20%20%20%20%0A%20%20%20%20%0A%20%20%20%20%20%20%20%20var%20bounds%20%3D%20null%3B%0A%20%20%20%20%0A%0A%20%20%20%20var%20map_5512f941568e40a5a5c1a1d20deb6451%20%3D%20L.map%28%0A%20%20%20%20%20%20%20%20%27map_5512f941568e40a5a5c1a1d20deb6451%27%2C%20%7B%0A%20%20%20%20%20%20%20%20center%3A%20%5B0%2C%200%5D%2C%0A%20%20%20%20%20%20%20%20zoom%3A%201%2C%0A%20%20%20%20%20%20%20%20maxBounds%3A%20bounds%2C%0A%20%20%20%20%20%20%20%20layers%3A%20%5B%5D%2C%0A%20%20%20%20%20%20%20%20worldCopyJump%3A%20false%2C%0A%20%20%20%20%20%20%20%20crs%3A%20L.CRS.EPSG3857%2C%0A%20%20%20%20%20%20%20%20zoomControl%3A%20true%2C%0A%20%20%20%20%20%20%20%20%7D%29%3B%0A%0A%0A%20%20%20%20%0A%20%20%20%20var%20tile_layer_cc453cbfc7fa45769535af73cf29cec9%20%3D%20L.tileLayer%28%0A%20%20%20%20%20%20%20%20%27https%3A//cartodb-basemaps-%7Bs%7D.global.ssl.fastly.net/light_all/%7Bz%7D/%7Bx%7D/%7By%7D.png%27%2C%0A%20%20%20%20%20%20%20%20%7B%0A%20%20%20%20%20%20%20%20%22attribution%22%3A%20null%2C%0A%20%20%20%20%20%20%20%20%22detectRetina%22%3A%20false%2C%0A%20%20%20%20%20%20%20%20%22maxNativeZoom%22%3A%2018%2C%0A%20%20%20%20%20%20%20%20%22maxZoom%22%3A%2018%2C%0A%20%20%20%20%20%20%20%20%22minZoom%22%3A%200%2C%0A%20%20%20%20%20%20%20%20%22noWrap%22%3A%20false%2C%0A%20%20%20%20%20%20%20%20%22opacity%22%3A%201%2C%0A%20%20%20%20%20%20%20%20%22subdomains%22%3A%20%22abc%22%2C%0A%20%20%20%20%20%20%20%20%22tms%22%3A%20false%0A%7D%29.addTo%28map_5512f941568e40a5a5c1a1d20deb6451%29%3B%0A%20%20%20%20%0A%20%20%20%20%20%20%20%20%20%20%20%20var%20circle_marker_6a619ce420054cec95ac3b36d27bfb9d%20%3D%20L.circleMarker%28%0A%20%20%20%20%20%20%20%20%20%20%20%20%20%20%20%20%5B55.61792%2C%2012.65597%5D%2C%0A%20%20%20%20%20%20%20%20%20%20%20%20%20%20%20%20%7B%0A%20%20%22bubblingMouseEvents%22%3A%20true%2C%0A%20%20%22color%22%3A%20%22blue%22%2C%0A%20%20%22dashArray%22%3A%20null%2C%0A%20%20%22dashOffset%22%3A%20null%2C%0A%20%20%22fill%22%3A%20true%2C%0A%20%20%22fillColor%22%3A%20%22blue%22%2C%0A%20%20%22fillOpacity%22%3A%200.2%2C%0A%20%20%22fillRule%22%3A%20%22evenodd%22%2C%0A%20%20%22lineCap%22%3A%20%22round%22%2C%0A%20%20%22lineJoin%22%3A%20%22round%22%2C%0A%20%20%22opacity%22%3A%201.0%2C%0A%20%20%22radius%22%3A%2010%2C%0A%20%20%22stroke%22%3A%20true%2C%0A%20%20%22weight%22%3A%203%0A%7D%0A%20%20%20%20%20%20%20%20%20%20%20%20%20%20%20%20%29%0A%20%20%20%20%20%20%20%20%20%20%20%20%20%20%20%20.addTo%28map_5512f941568e40a5a5c1a1d20deb6451%29%3B%0A%20%20%20%20%20%20%20%20%20%20%20%20%0A%20%20%20%20%0A%20%20%20%20%20%20%20%20%20%20%20%20var%20popup_26980fa83b6344ae9c338fbce71d6b97%20%3D%20L.popup%28%7BmaxWidth%3A%20%27100%25%27%0A%20%20%20%20%20%20%20%20%20%20%20%20%0A%20%20%20%20%20%20%20%20%20%20%20%20%7D%29%3B%0A%0A%20%20%20%20%20%20%20%20%20%20%20%20%0A%20%20%20%20%20%20%20%20%20%20%20%20%20%20%20%20var%20html_baab0f8decf84cbea60da5e2ad229a5a%20%3D%20%24%28%60%3Cdiv%20id%3D%22html_baab0f8decf84cbea60da5e2ad229a5a%22%20style%3D%22width%3A%20100.0%25%3B%20height%3A%20100.0%25%3B%22%3EVille%20%3A%20Copenhagen%3Cbr%3E%20%20%20%20%20%20%20%20%20%20%20%20%20%20%20%20%20%20%20%20%20Prix%20moyen%20d%27un%20vol%20en%20%24%20%3A%2085%3Cbr%3E%3C/div%3E%60%29%5B0%5D%3B%0A%20%20%20%20%20%20%20%20%20%20%20%20%20%20%20%20popup_26980fa83b6344ae9c338fbce71d6b97.setContent%28html_baab0f8decf84cbea60da5e2ad229a5a%29%3B%0A%20%20%20%20%20%20%20%20%20%20%20%20%0A%0A%20%20%20%20%20%20%20%20%20%20%20%20circle_marker_6a619ce420054cec95ac3b36d27bfb9d.bindPopup%28popup_26980fa83b6344ae9c338fbce71d6b97%29%0A%20%20%20%20%20%20%20%20%20%20%20%20%3B%0A%0A%20%20%20%20%20%20%20%20%20%20%20%20%0A%20%20%20%20%20%20%20%20%0A%20%20%20%20%0A%20%20%20%20%20%20%20%20%20%20%20%20var%20circle_marker_46709071af824c8dbd04878dbad56798%20%3D%20L.circleMarker%28%0A%20%20%20%20%20%20%20%20%20%20%20%20%20%20%20%20%5B55.95%2C%20-3.3725%5D%2C%0A%20%20%20%20%20%20%20%20%20%20%20%20%20%20%20%20%7B%0A%20%20%22bubblingMouseEvents%22%3A%20true%2C%0A%20%20%22color%22%3A%20%22green%22%2C%0A%20%20%22dashArray%22%3A%20null%2C%0A%20%20%22dashOffset%22%3A%20null%2C%0A%20%20%22fill%22%3A%20true%2C%0A%20%20%22fillColor%22%3A%20%22green%22%2C%0A%20%20%22fillOpacity%22%3A%200.2%2C%0A%20%20%22fillRule%22%3A%20%22evenodd%22%2C%0A%20%20%22lineCap%22%3A%20%22round%22%2C%0A%20%20%22lineJoin%22%3A%20%22round%22%2C%0A%20%20%22opacity%22%3A%201.0%2C%0A%20%20%22radius%22%3A%2010%2C%0A%20%20%22stroke%22%3A%20true%2C%0A%20%20%22weight%22%3A%203%0A%7D%0A%20%20%20%20%20%20%20%20%20%20%20%20%20%20%20%20%29%0A%20%20%20%20%20%20%20%20%20%20%20%20%20%20%20%20.addTo%28map_5512f941568e40a5a5c1a1d20deb6451%29%3B%0A%20%20%20%20%20%20%20%20%20%20%20%20%0A%20%20%20%20%0A%20%20%20%20%20%20%20%20%20%20%20%20var%20popup_d2f882c62ca4468599d658f09babb57e%20%3D%20L.popup%28%7BmaxWidth%3A%20%27100%25%27%0A%20%20%20%20%20%20%20%20%20%20%20%20%0A%20%20%20%20%20%20%20%20%20%20%20%20%7D%29%3B%0A%0A%20%20%20%20%20%20%20%20%20%20%20%20%0A%20%20%20%20%20%20%20%20%20%20%20%20%20%20%20%20var%20html_e61f4749dace4158b68f758d254c9f2e%20%3D%20%24%28%60%3Cdiv%20id%3D%22html_e61f4749dace4158b68f758d254c9f2e%22%20style%3D%22width%3A%20100.0%25%3B%20height%3A%20100.0%25%3B%22%3EVille%20%3A%20Edinburgh%3Cbr%3E%20%20%20%20%20%20%20%20%20%20%20%20%20%20%20%20%20%20%20%20%20Prix%20moyen%20d%27un%20vol%20en%20%24%20%3A%2099%3Cbr%3E%3C/div%3E%60%29%5B0%5D%3B%0A%20%20%20%20%20%20%20%20%20%20%20%20%20%20%20%20popup_d2f882c62ca4468599d658f09babb57e.setContent%28html_e61f4749dace4158b68f758d254c9f2e%29%3B%0A%20%20%20%20%20%20%20%20%20%20%20%20%0A%0A%20%20%20%20%20%20%20%20%20%20%20%20circle_marker_46709071af824c8dbd04878dbad56798.bindPopup%28popup_d2f882c62ca4468599d658f09babb57e%29%0A%20%20%20%20%20%20%20%20%20%20%20%20%3B%0A%0A%20%20%20%20%20%20%20%20%20%20%20%20%0A%20%20%20%20%20%20%20%20%0A%20%20%20%20%0A%20%20%20%20%20%20%20%20%20%20%20%20var%20circle_marker_5f1a069bcb74441ebfb557914e424c8b%20%3D%20L.circleMarker%28%0A%20%20%20%20%20%20%20%20%20%20%20%20%20%20%20%20%5B37.93636%2C%2023.944470000000003%5D%2C%0A%20%20%20%20%20%20%20%20%20%20%20%20%20%20%20%20%7B%0A%20%20%22bubblingMouseEvents%22%3A%20true%2C%0A%20%20%22color%22%3A%20%22green%22%2C%0A%20%20%22dashArray%22%3A%20null%2C%0A%20%20%22dashOffset%22%3A%20null%2C%0A%20%20%22fill%22%3A%20true%2C%0A%20%20%22fillColor%22%3A%20%22green%22%2C%0A%20%20%22fillOpacity%22%3A%200.2%2C%0A%20%20%22fillRule%22%3A%20%22evenodd%22%2C%0A%20%20%22lineCap%22%3A%20%22round%22%2C%0A%20%20%22lineJoin%22%3A%20%22round%22%2C%0A%20%20%22opacity%22%3A%201.0%2C%0A%20%20%22radius%22%3A%2010%2C%0A%20%20%22stroke%22%3A%20true%2C%0A%20%20%22weight%22%3A%203%0A%7D%0A%20%20%20%20%20%20%20%20%20%20%20%20%20%20%20%20%29%0A%20%20%20%20%20%20%20%20%20%20%20%20%20%20%20%20.addTo%28map_5512f941568e40a5a5c1a1d20deb6451%29%3B%0A%20%20%20%20%20%20%20%20%20%20%20%20%0A%20%20%20%20%0A%20%20%20%20%20%20%20%20%20%20%20%20var%20popup_589af752956441c7a6bba1dee04ff757%20%3D%20L.popup%28%7BmaxWidth%3A%20%27100%25%27%0A%20%20%20%20%20%20%20%20%20%20%20%20%0A%20%20%20%20%20%20%20%20%20%20%20%20%7D%29%3B%0A%0A%20%20%20%20%20%20%20%20%20%20%20%20%0A%20%20%20%20%20%20%20%20%20%20%20%20%20%20%20%20var%20html_cd399b707df1456286e9b6efb16a6829%20%3D%20%24%28%60%3Cdiv%20id%3D%22html_cd399b707df1456286e9b6efb16a6829%22%20style%3D%22width%3A%20100.0%25%3B%20height%3A%20100.0%25%3B%22%3EVille%20%3A%20Athens%3Cbr%3E%20%20%20%20%20%20%20%20%20%20%20%20%20%20%20%20%20%20%20%20%20Prix%20moyen%20d%27un%20vol%20en%20%24%20%3A%20117%3Cbr%3E%3C/div%3E%60%29%5B0%5D%3B%0A%20%20%20%20%20%20%20%20%20%20%20%20%20%20%20%20popup_589af752956441c7a6bba1dee04ff757.setContent%28html_cd399b707df1456286e9b6efb16a6829%29%3B%0A%20%20%20%20%20%20%20%20%20%20%20%20%0A%0A%20%20%20%20%20%20%20%20%20%20%20%20circle_marker_5f1a069bcb74441ebfb557914e424c8b.bindPopup%28popup_589af752956441c7a6bba1dee04ff757%29%0A%20%20%20%20%20%20%20%20%20%20%20%20%3B%0A%0A%20%20%20%20%20%20%20%20%20%20%20%20%0A%20%20%20%20%20%20%20%20%0A%20%20%20%20%0A%20%20%20%20%20%20%20%20%20%20%20%20var%20circle_marker_b889f2d9e216464f9492580766b14e49%20%3D%20L.circleMarker%28%0A%20%20%20%20%20%20%20%20%20%20%20%20%20%20%20%20%5B36.85103%2C%2010.22722%5D%2C%0A%20%20%20%20%20%20%20%20%20%20%20%20%20%20%20%20%7B%0A%20%20%22bubblingMouseEvents%22%3A%20true%2C%0A%20%20%22color%22%3A%20%22green%22%2C%0A%20%20%22dashArray%22%3A%20null%2C%0A%20%20%22dashOffset%22%3A%20null%2C%0A%20%20%22fill%22%3A%20true%2C%0A%20%20%22fillColor%22%3A%20%22green%22%2C%0A%20%20%22fillOpacity%22%3A%200.2%2C%0A%20%20%22fillRule%22%3A%20%22evenodd%22%2C%0A%20%20%22lineCap%22%3A%20%22round%22%2C%0A%20%20%22lineJoin%22%3A%20%22round%22%2C%0A%20%20%22opacity%22%3A%201.0%2C%0A%20%20%22radius%22%3A%2010%2C%0A%20%20%22stroke%22%3A%20true%2C%0A%20%20%22weight%22%3A%203%0A%7D%0A%20%20%20%20%20%20%20%20%20%20%20%20%20%20%20%20%29%0A%20%20%20%20%20%20%20%20%20%20%20%20%20%20%20%20.addTo%28map_5512f941568e40a5a5c1a1d20deb6451%29%3B%0A%20%20%20%20%20%20%20%20%20%20%20%20%0A%20%20%20%20%0A%20%20%20%20%20%20%20%20%20%20%20%20var%20popup_80c10a4294bf46ee881f6bf70b6ea04d%20%3D%20L.popup%28%7BmaxWidth%3A%20%27100%25%27%0A%20%20%20%20%20%20%20%20%20%20%20%20%0A%20%20%20%20%20%20%20%20%20%20%20%20%7D%29%3B%0A%0A%20%20%20%20%20%20%20%20%20%20%20%20%0A%20%20%20%20%20%20%20%20%20%20%20%20%20%20%20%20var%20html_f9c8b3058ef145f589ce7e163eade105%20%3D%20%24%28%60%3Cdiv%20id%3D%22html_f9c8b3058ef145f589ce7e163eade105%22%20style%3D%22width%3A%20100.0%25%3B%20height%3A%20100.0%25%3B%22%3EVille%20%3A%20Tunis%3Cbr%3E%20%20%20%20%20%20%20%20%20%20%20%20%20%20%20%20%20%20%20%20%20Prix%20moyen%20d%27un%20vol%20en%20%24%20%3A%20150%3Cbr%3E%3C/div%3E%60%29%5B0%5D%3B%0A%20%20%20%20%20%20%20%20%20%20%20%20%20%20%20%20popup_80c10a4294bf46ee881f6bf70b6ea04d.setContent%28html_f9c8b3058ef145f589ce7e163eade105%29%3B%0A%20%20%20%20%20%20%20%20%20%20%20%20%0A%0A%20%20%20%20%20%20%20%20%20%20%20%20circle_marker_b889f2d9e216464f9492580766b14e49.bindPopup%28popup_80c10a4294bf46ee881f6bf70b6ea04d%29%0A%20%20%20%20%20%20%20%20%20%20%20%20%3B%0A%0A%20%20%20%20%20%20%20%20%20%20%20%20%0A%20%20%20%20%20%20%20%20%0A%20%20%20%20%0A%20%20%20%20%20%20%20%20%20%20%20%20var%20circle_marker_7501f171e74045b7b89812a5e0186447%20%3D%20L.circleMarker%28%0A%20%20%20%20%20%20%20%20%20%20%20%20%20%20%20%20%5B36.89873%2C%2030.80046%5D%2C%0A%20%20%20%20%20%20%20%20%20%20%20%20%20%20%20%20%7B%0A%20%20%22bubblingMouseEvents%22%3A%20true%2C%0A%20%20%22color%22%3A%20%22green%22%2C%0A%20%20%22dashArray%22%3A%20null%2C%0A%20%20%22dashOffset%22%3A%20null%2C%0A%20%20%22fill%22%3A%20true%2C%0A%20%20%22fillColor%22%3A%20%22green%22%2C%0A%20%20%22fillOpacity%22%3A%200.2%2C%0A%20%20%22fillRule%22%3A%20%22evenodd%22%2C%0A%20%20%22lineCap%22%3A%20%22round%22%2C%0A%20%20%22lineJoin%22%3A%20%22round%22%2C%0A%20%20%22opacity%22%3A%201.0%2C%0A%20%20%22radius%22%3A%2010%2C%0A%20%20%22stroke%22%3A%20true%2C%0A%20%20%22weight%22%3A%203%0A%7D%0A%20%20%20%20%20%20%20%20%20%20%20%20%20%20%20%20%29%0A%20%20%20%20%20%20%20%20%20%20%20%20%20%20%20%20.addTo%28map_5512f941568e40a5a5c1a1d20deb6451%29%3B%0A%20%20%20%20%20%20%20%20%20%20%20%20%0A%20%20%20%20%0A%20%20%20%20%20%20%20%20%20%20%20%20var%20popup_583d5a284a664af18657f086a03f98b1%20%3D%20L.popup%28%7BmaxWidth%3A%20%27100%25%27%0A%20%20%20%20%20%20%20%20%20%20%20%20%0A%20%20%20%20%20%20%20%20%20%20%20%20%7D%29%3B%0A%0A%20%20%20%20%20%20%20%20%20%20%20%20%0A%20%20%20%20%20%20%20%20%20%20%20%20%20%20%20%20var%20html_22ca793570074fde8b59d798581f0f4b%20%3D%20%24%28%60%3Cdiv%20id%3D%22html_22ca793570074fde8b59d798581f0f4b%22%20style%3D%22width%3A%20100.0%25%3B%20height%3A%20100.0%25%3B%22%3EVille%20%3A%20Antalya%3Cbr%3E%20%20%20%20%20%20%20%20%20%20%20%20%20%20%20%20%20%20%20%20%20Prix%20moyen%20d%27un%20vol%20en%20%24%20%3A%20168%3Cbr%3E%3C/div%3E%60%29%5B0%5D%3B%0A%20%20%20%20%20%20%20%20%20%20%20%20%20%20%20%20popup_583d5a284a664af18657f086a03f98b1.setContent%28html_22ca793570074fde8b59d798581f0f4b%29%3B%0A%20%20%20%20%20%20%20%20%20%20%20%20%0A%0A%20%20%20%20%20%20%20%20%20%20%20%20circle_marker_7501f171e74045b7b89812a5e0186447.bindPopup%28popup_583d5a284a664af18657f086a03f98b1%29%0A%20%20%20%20%20%20%20%20%20%20%20%20%3B%0A%0A%20%20%20%20%20%20%20%20%20%20%20%20%0A%20%20%20%20%20%20%20%20%0A%20%20%20%20%0A%20%20%20%20%20%20%20%20%20%20%20%20var%20circle_marker_e91ddc92e4914106b2608c13c8fa0dd0%20%3D%20L.circleMarker%28%0A%20%20%20%20%20%20%20%20%20%20%20%20%20%20%20%20%5B38.41885%2C%2027.12872%5D%2C%0A%20%20%20%20%20%20%20%20%20%20%20%20%20%20%20%20%7B%0A%20%20%22bubblingMouseEvents%22%3A%20true%2C%0A%20%20%22color%22%3A%20%22green%22%2C%0A%20%20%22dashArray%22%3A%20null%2C%0A%20%20%22dashOffset%22%3A%20null%2C%0A%20%20%22fill%22%3A%20true%2C%0A%20%20%22fillColor%22%3A%20%22green%22%2C%0A%20%20%22fillOpacity%22%3A%200.2%2C%0A%20%20%22fillRule%22%3A%20%22evenodd%22%2C%0A%20%20%22lineCap%22%3A%20%22round%22%2C%0A%20%20%22lineJoin%22%3A%20%22round%22%2C%0A%20%20%22opacity%22%3A%201.0%2C%0A%20%20%22radius%22%3A%2010%2C%0A%20%20%22stroke%22%3A%20true%2C%0A%20%20%22weight%22%3A%203%0A%7D%0A%20%20%20%20%20%20%20%20%20%20%20%20%20%20%20%20%29%0A%20%20%20%20%20%20%20%20%20%20%20%20%20%20%20%20.addTo%28map_5512f941568e40a5a5c1a1d20deb6451%29%3B%0A%20%20%20%20%20%20%20%20%20%20%20%20%0A%20%20%20%20%0A%20%20%20%20%20%20%20%20%20%20%20%20var%20popup_86a42bd751634b6bb989238670e889cc%20%3D%20L.popup%28%7BmaxWidth%3A%20%27100%25%27%0A%20%20%20%20%20%20%20%20%20%20%20%20%0A%20%20%20%20%20%20%20%20%20%20%20%20%7D%29%3B%0A%0A%20%20%20%20%20%20%20%20%20%20%20%20%0A%20%20%20%20%20%20%20%20%20%20%20%20%20%20%20%20var%20html_4c51a82e666243bc89c76bf90cc1c28e%20%3D%20%24%28%60%3Cdiv%20id%3D%22html_4c51a82e666243bc89c76bf90cc1c28e%22%20style%3D%22width%3A%20100.0%25%3B%20height%3A%20100.0%25%3B%22%3EVille%20%3A%20Izmir%3Cbr%3E%20%20%20%20%20%20%20%20%20%20%20%20%20%20%20%20%20%20%20%20%20Prix%20moyen%20d%27un%20vol%20en%20%24%20%3A%20199%3Cbr%3E%3C/div%3E%60%29%5B0%5D%3B%0A%20%20%20%20%20%20%20%20%20%20%20%20%20%20%20%20popup_86a42bd751634b6bb989238670e889cc.setContent%28html_4c51a82e666243bc89c76bf90cc1c28e%29%3B%0A%20%20%20%20%20%20%20%20%20%20%20%20%0A%0A%20%20%20%20%20%20%20%20%20%20%20%20circle_marker_e91ddc92e4914106b2608c13c8fa0dd0.bindPopup%28popup_86a42bd751634b6bb989238670e889cc%29%0A%20%20%20%20%20%20%20%20%20%20%20%20%3B%0A%0A%20%20%20%20%20%20%20%20%20%20%20%20%0A%20%20%20%20%20%20%20%20%0A%20%20%20%20%0A%20%20%20%20%20%20%20%20%20%20%20%20var%20circle_marker_760857f1e8a749e1a605f2816404a41c%20%3D%20L.circleMarker%28%0A%20%20%20%20%20%20%20%20%20%20%20%20%20%20%20%20%5B51.50735%2C%20-0.12766%5D%2C%0A%20%20%20%20%20%20%20%20%20%20%20%20%20%20%20%20%7B%0A%20%20%22bubblingMouseEvents%22%3A%20true%2C%0A%20%20%22color%22%3A%20%22green%22%2C%0A%20%20%22dashArray%22%3A%20null%2C%0A%20%20%22dashOffset%22%3A%20null%2C%0A%20%20%22fill%22%3A%20true%2C%0A%20%20%22fillColor%22%3A%20%22green%22%2C%0A%20%20%22fillOpacity%22%3A%200.2%2C%0A%20%20%22fillRule%22%3A%20%22evenodd%22%2C%0A%20%20%22lineCap%22%3A%20%22round%22%2C%0A%20%20%22lineJoin%22%3A%20%22round%22%2C%0A%20%20%22opacity%22%3A%201.0%2C%0A%20%20%22radius%22%3A%2010%2C%0A%20%20%22stroke%22%3A%20true%2C%0A%20%20%22weight%22%3A%203%0A%7D%0A%20%20%20%20%20%20%20%20%20%20%20%20%20%20%20%20%29%0A%20%20%20%20%20%20%20%20%20%20%20%20%20%20%20%20.addTo%28map_5512f941568e40a5a5c1a1d20deb6451%29%3B%0A%20%20%20%20%20%20%20%20%20%20%20%20%0A%20%20%20%20%0A%20%20%20%20%20%20%20%20%20%20%20%20var%20popup_ed290be065e04f489515382775071eff%20%3D%20L.popup%28%7BmaxWidth%3A%20%27100%25%27%0A%20%20%20%20%20%20%20%20%20%20%20%20%0A%20%20%20%20%20%20%20%20%20%20%20%20%7D%29%3B%0A%0A%20%20%20%20%20%20%20%20%20%20%20%20%0A%20%20%20%20%20%20%20%20%20%20%20%20%20%20%20%20var%20html_5e42ae31ce60458582740761306f2be6%20%3D%20%24%28%60%3Cdiv%20id%3D%22html_5e42ae31ce60458582740761306f2be6%22%20style%3D%22width%3A%20100.0%25%3B%20height%3A%20100.0%25%3B%22%3EVille%20%3A%20London%3Cbr%3E%20%20%20%20%20%20%20%20%20%20%20%20%20%20%20%20%20%20%20%20%20Prix%20moyen%20d%27un%20vol%20en%20%24%20%3A%20233%3Cbr%3E%3C/div%3E%60%29%5B0%5D%3B%0A%20%20%20%20%20%20%20%20%20%20%20%20%20%20%20%20popup_ed290be065e04f489515382775071eff.setContent%28html_5e42ae31ce60458582740761306f2be6%29%3B%0A%20%20%20%20%20%20%20%20%20%20%20%20%0A%0A%20%20%20%20%20%20%20%20%20%20%20%20circle_marker_760857f1e8a749e1a605f2816404a41c.bindPopup%28popup_ed290be065e04f489515382775071eff%29%0A%20%20%20%20%20%20%20%20%20%20%20%20%3B%0A%0A%20%20%20%20%20%20%20%20%20%20%20%20%0A%20%20%20%20%20%20%20%20%0A%20%20%20%20%0A%20%20%20%20%20%20%20%20%20%20%20%20var%20circle_marker_208fa737e5b64aadb1ff82d6fc0a52bc%20%3D%20L.circleMarker%28%0A%20%20%20%20%20%20%20%20%20%20%20%20%20%20%20%20%5B55.75407%2C%2037.62037%5D%2C%0A%20%20%20%20%20%20%20%20%20%20%20%20%20%20%20%20%7B%0A%20%20%22bubblingMouseEvents%22%3A%20true%2C%0A%20%20%22color%22%3A%20%22green%22%2C%0A%20%20%22dashArray%22%3A%20null%2C%0A%20%20%22dashOffset%22%3A%20null%2C%0A%20%20%22fill%22%3A%20true%2C%0A%20%20%22fillColor%22%3A%20%22green%22%2C%0A%20%20%22fillOpacity%22%3A%200.2%2C%0A%20%20%22fillRule%22%3A%20%22evenodd%22%2C%0A%20%20%22lineCap%22%3A%20%22round%22%2C%0A%20%20%22lineJoin%22%3A%20%22round%22%2C%0A%20%20%22opacity%22%3A%201.0%2C%0A%20%20%22radius%22%3A%2010%2C%0A%20%20%22stroke%22%3A%20true%2C%0A%20%20%22weight%22%3A%203%0A%7D%0A%20%20%20%20%20%20%20%20%20%20%20%20%20%20%20%20%29%0A%20%20%20%20%20%20%20%20%20%20%20%20%20%20%20%20.addTo%28map_5512f941568e40a5a5c1a1d20deb6451%29%3B%0A%20%20%20%20%20%20%20%20%20%20%20%20%0A%20%20%20%20%0A%20%20%20%20%20%20%20%20%20%20%20%20var%20popup_7c88376cf2d141dfb63d74607d41b3b7%20%3D%20L.popup%28%7BmaxWidth%3A%20%27100%25%27%0A%20%20%20%20%20%20%20%20%20%20%20%20%0A%20%20%20%20%20%20%20%20%20%20%20%20%7D%29%3B%0A%0A%20%20%20%20%20%20%20%20%20%20%20%20%0A%20%20%20%20%20%20%20%20%20%20%20%20%20%20%20%20var%20html_4592843b68b544ceb81a5814b42960f2%20%3D%20%24%28%60%3Cdiv%20id%3D%22html_4592843b68b544ceb81a5814b42960f2%22%20style%3D%22width%3A%20100.0%25%3B%20height%3A%20100.0%25%3B%22%3EVille%20%3A%20Moscow%3Cbr%3E%20%20%20%20%20%20%20%20%20%20%20%20%20%20%20%20%20%20%20%20%20Prix%20moyen%20d%27un%20vol%20en%20%24%20%3A%20255%3Cbr%3E%3C/div%3E%60%29%5B0%5D%3B%0A%20%20%20%20%20%20%20%20%20%20%20%20%20%20%20%20popup_7c88376cf2d141dfb63d74607d41b3b7.setContent%28html_4592843b68b544ceb81a5814b42960f2%29%3B%0A%20%20%20%20%20%20%20%20%20%20%20%20%0A%0A%20%20%20%20%20%20%20%20%20%20%20%20circle_marker_208fa737e5b64aadb1ff82d6fc0a52bc.bindPopup%28popup_7c88376cf2d141dfb63d74607d41b3b7%29%0A%20%20%20%20%20%20%20%20%20%20%20%20%3B%0A%0A%20%20%20%20%20%20%20%20%20%20%20%20%0A%20%20%20%20%20%20%20%20%0A%20%20%20%20%0A%20%20%20%20%20%20%20%20%20%20%20%20var%20circle_marker_f02c28fa06154ab8af7366e4ddc09bbf%20%3D%20L.circleMarker%28%0A%20%20%20%20%20%20%20%20%20%20%20%20%20%20%20%20%5B24.8978%2C%2055.15905%5D%2C%0A%20%20%20%20%20%20%20%20%20%20%20%20%20%20%20%20%7B%0A%20%20%22bubblingMouseEvents%22%3A%20true%2C%0A%20%20%22color%22%3A%20%22yellow%22%2C%0A%20%20%22dashArray%22%3A%20null%2C%0A%20%20%22dashOffset%22%3A%20null%2C%0A%20%20%22fill%22%3A%20true%2C%0A%20%20%22fillColor%22%3A%20%22yellow%22%2C%0A%20%20%22fillOpacity%22%3A%200.2%2C%0A%20%20%22fillRule%22%3A%20%22evenodd%22%2C%0A%20%20%22lineCap%22%3A%20%22round%22%2C%0A%20%20%22lineJoin%22%3A%20%22round%22%2C%0A%20%20%22opacity%22%3A%201.0%2C%0A%20%20%22radius%22%3A%2010%2C%0A%20%20%22stroke%22%3A%20true%2C%0A%20%20%22weight%22%3A%203%0A%7D%0A%20%20%20%20%20%20%20%20%20%20%20%20%20%20%20%20%29%0A%20%20%20%20%20%20%20%20%20%20%20%20%20%20%20%20.addTo%28map_5512f941568e40a5a5c1a1d20deb6451%29%3B%0A%20%20%20%20%20%20%20%20%20%20%20%20%0A%20%20%20%20%0A%20%20%20%20%20%20%20%20%20%20%20%20var%20popup_4a34b96337f54901b6207bc62fe4e3d6%20%3D%20L.popup%28%7BmaxWidth%3A%20%27100%25%27%0A%20%20%20%20%20%20%20%20%20%20%20%20%0A%20%20%20%20%20%20%20%20%20%20%20%20%7D%29%3B%0A%0A%20%20%20%20%20%20%20%20%20%20%20%20%0A%20%20%20%20%20%20%20%20%20%20%20%20%20%20%20%20var%20html_ac4c59056ada4f4b8da70422bd4ce629%20%3D%20%24%28%60%3Cdiv%20id%3D%22html_ac4c59056ada4f4b8da70422bd4ce629%22%20style%3D%22width%3A%20100.0%25%3B%20height%3A%20100.0%25%3B%22%3EVille%20%3A%20Dubai%3Cbr%3E%20%20%20%20%20%20%20%20%20%20%20%20%20%20%20%20%20%20%20%20%20Prix%20moyen%20d%27un%20vol%20en%20%24%20%3A%20399%3Cbr%3E%3C/div%3E%60%29%5B0%5D%3B%0A%20%20%20%20%20%20%20%20%20%20%20%20%20%20%20%20popup_4a34b96337f54901b6207bc62fe4e3d6.setContent%28html_ac4c59056ada4f4b8da70422bd4ce629%29%3B%0A%20%20%20%20%20%20%20%20%20%20%20%20%0A%0A%20%20%20%20%20%20%20%20%20%20%20%20circle_marker_f02c28fa06154ab8af7366e4ddc09bbf.bindPopup%28popup_4a34b96337f54901b6207bc62fe4e3d6%29%0A%20%20%20%20%20%20%20%20%20%20%20%20%3B%0A%0A%20%20%20%20%20%20%20%20%20%20%20%20%0A%20%20%20%20%20%20%20%20%0A%20%20%20%20%0A%20%20%20%20%20%20%20%20%20%20%20%20var%20circle_marker_786ff3951b5d4acfab1416f59d34fefd%20%3D%20L.circleMarker%28%0A%20%20%20%20%20%20%20%20%20%20%20%20%20%20%20%20%5B45.5%2C%20-73.583%5D%2C%0A%20%20%20%20%20%20%20%20%20%20%20%20%20%20%20%20%7B%0A%20%20%22bubblingMouseEvents%22%3A%20true%2C%0A%20%20%22color%22%3A%20%22yellow%22%2C%0A%20%20%22dashArray%22%3A%20null%2C%0A%20%20%22dashOffset%22%3A%20null%2C%0A%20%20%22fill%22%3A%20true%2C%0A%20%20%22fillColor%22%3A%20%22yellow%22%2C%0A%20%20%22fillOpacity%22%3A%200.2%2C%0A%20%20%22fillRule%22%3A%20%22evenodd%22%2C%0A%20%20%22lineCap%22%3A%20%22round%22%2C%0A%20%20%22lineJoin%22%3A%20%22round%22%2C%0A%20%20%22opacity%22%3A%201.0%2C%0A%20%20%22radius%22%3A%2010%2C%0A%20%20%22stroke%22%3A%20true%2C%0A%20%20%22weight%22%3A%203%0A%7D%0A%20%20%20%20%20%20%20%20%20%20%20%20%20%20%20%20%29%0A%20%20%20%20%20%20%20%20%20%20%20%20%20%20%20%20.addTo%28map_5512f941568e40a5a5c1a1d20deb6451%29%3B%0A%20%20%20%20%20%20%20%20%20%20%20%20%0A%20%20%20%20%0A%20%20%20%20%20%20%20%20%20%20%20%20var%20popup_85bc1d371f13445d9b9df82b8ea0be20%20%3D%20L.popup%28%7BmaxWidth%3A%20%27100%25%27%0A%20%20%20%20%20%20%20%20%20%20%20%20%0A%20%20%20%20%20%20%20%20%20%20%20%20%7D%29%3B%0A%0A%20%20%20%20%20%20%20%20%20%20%20%20%0A%20%20%20%20%20%20%20%20%20%20%20%20%20%20%20%20var%20html_b810bef9e0354a82890efedb2116aa6d%20%3D%20%24%28%60%3Cdiv%20id%3D%22html_b810bef9e0354a82890efedb2116aa6d%22%20style%3D%22width%3A%20100.0%25%3B%20height%3A%20100.0%25%3B%22%3EVille%20%3A%20Montreal%3Cbr%3E%20%20%20%20%20%20%20%20%20%20%20%20%20%20%20%20%20%20%20%20%20Prix%20moyen%20d%27un%20vol%20en%20%24%20%3A%20427%3Cbr%3E%3C/div%3E%60%29%5B0%5D%3B%0A%20%20%20%20%20%20%20%20%20%20%20%20%20%20%20%20popup_85bc1d371f13445d9b9df82b8ea0be20.setContent%28html_b810bef9e0354a82890efedb2116aa6d%29%3B%0A%20%20%20%20%20%20%20%20%20%20%20%20%0A%0A%20%20%20%20%20%20%20%20%20%20%20%20circle_marker_786ff3951b5d4acfab1416f59d34fefd.bindPopup%28popup_85bc1d371f13445d9b9df82b8ea0be20%29%0A%20%20%20%20%20%20%20%20%20%20%20%20%3B%0A%0A%20%20%20%20%20%20%20%20%20%20%20%20%0A%20%20%20%20%20%20%20%20%0A%20%20%20%20%0A%20%20%20%20%20%20%20%20%20%20%20%20var%20circle_marker_bf54be6a847c4ef1a0f2c63dc5fa0404%20%3D%20L.circleMarker%28%0A%20%20%20%20%20%20%20%20%20%20%20%20%20%20%20%20%5B40.75096%2C%20-73.98741%5D%2C%0A%20%20%20%20%20%20%20%20%20%20%20%20%20%20%20%20%7B%0A%20%20%22bubblingMouseEvents%22%3A%20true%2C%0A%20%20%22color%22%3A%20%22yellow%22%2C%0A%20%20%22dashArray%22%3A%20null%2C%0A%20%20%22dashOffset%22%3A%20null%2C%0A%20%20%22fill%22%3A%20true%2C%0A%20%20%22fillColor%22%3A%20%22yellow%22%2C%0A%20%20%22fillOpacity%22%3A%200.2%2C%0A%20%20%22fillRule%22%3A%20%22evenodd%22%2C%0A%20%20%22lineCap%22%3A%20%22round%22%2C%0A%20%20%22lineJoin%22%3A%20%22round%22%2C%0A%20%20%22opacity%22%3A%201.0%2C%0A%20%20%22radius%22%3A%2010%2C%0A%20%20%22stroke%22%3A%20true%2C%0A%20%20%22weight%22%3A%203%0A%7D%0A%20%20%20%20%20%20%20%20%20%20%20%20%20%20%20%20%29%0A%20%20%20%20%20%20%20%20%20%20%20%20%20%20%20%20.addTo%28map_5512f941568e40a5a5c1a1d20deb6451%29%3B%0A%20%20%20%20%20%20%20%20%20%20%20%20%0A%20%20%20%20%0A%20%20%20%20%20%20%20%20%20%20%20%20var%20popup_ea43a99f62db4e7db1dd1ce8b495468b%20%3D%20L.popup%28%7BmaxWidth%3A%20%27100%25%27%0A%20%20%20%20%20%20%20%20%20%20%20%20%0A%20%20%20%20%20%20%20%20%20%20%20%20%7D%29%3B%0A%0A%20%20%20%20%20%20%20%20%20%20%20%20%0A%20%20%20%20%20%20%20%20%20%20%20%20%20%20%20%20var%20html_8c4333dd98b9421f8e33d92d6e253ba1%20%3D%20%24%28%60%3Cdiv%20id%3D%22html_8c4333dd98b9421f8e33d92d6e253ba1%22%20style%3D%22width%3A%20100.0%25%3B%20height%3A%20100.0%25%3B%22%3EVille%20%3A%20New%20York%3Cbr%3E%20%20%20%20%20%20%20%20%20%20%20%20%20%20%20%20%20%20%20%20%20Prix%20moyen%20d%27un%20vol%20en%20%24%20%3A%20448%3Cbr%3E%3C/div%3E%60%29%5B0%5D%3B%0A%20%20%20%20%20%20%20%20%20%20%20%20%20%20%20%20popup_ea43a99f62db4e7db1dd1ce8b495468b.setContent%28html_8c4333dd98b9421f8e33d92d6e253ba1%29%3B%0A%20%20%20%20%20%20%20%20%20%20%20%20%0A%0A%20%20%20%20%20%20%20%20%20%20%20%20circle_marker_bf54be6a847c4ef1a0f2c63dc5fa0404.bindPopup%28popup_ea43a99f62db4e7db1dd1ce8b495468b%29%0A%20%20%20%20%20%20%20%20%20%20%20%20%3B%0A%0A%20%20%20%20%20%20%20%20%20%20%20%20%0A%20%20%20%20%20%20%20%20%0A%20%20%20%20%0A%20%20%20%20%20%20%20%20%20%20%20%20var%20circle_marker_c592d6eabe96449993b83a2fe06ae894%20%3D%20L.circleMarker%28%0A%20%20%20%20%20%20%20%20%20%20%20%20%20%20%20%20%5B41.90278%2C%2012.49637%5D%2C%0A%20%20%20%20%20%20%20%20%20%20%20%20%20%20%20%20%7B%0A%20%20%22bubblingMouseEvents%22%3A%20true%2C%0A%20%20%22color%22%3A%20%22yellow%22%2C%0A%20%20%22dashArray%22%3A%20null%2C%0A%20%20%22dashOffset%22%3A%20null%2C%0A%20%20%22fill%22%3A%20true%2C%0A%20%20%22fillColor%22%3A%20%22yellow%22%2C%0A%20%20%22fillOpacity%22%3A%200.2%2C%0A%20%20%22fillRule%22%3A%20%22evenodd%22%2C%0A%20%20%22lineCap%22%3A%20%22round%22%2C%0A%20%20%22lineJoin%22%3A%20%22round%22%2C%0A%20%20%22opacity%22%3A%201.0%2C%0A%20%20%22radius%22%3A%2010%2C%0A%20%20%22stroke%22%3A%20true%2C%0A%20%20%22weight%22%3A%203%0A%7D%0A%20%20%20%20%20%20%20%20%20%20%20%20%20%20%20%20%29%0A%20%20%20%20%20%20%20%20%20%20%20%20%20%20%20%20.addTo%28map_5512f941568e40a5a5c1a1d20deb6451%29%3B%0A%20%20%20%20%20%20%20%20%20%20%20%20%0A%20%20%20%20%0A%20%20%20%20%20%20%20%20%20%20%20%20var%20popup_dc0a19ece1ca44ee98f0b981afbed58f%20%3D%20L.popup%28%7BmaxWidth%3A%20%27100%25%27%0A%20%20%20%20%20%20%20%20%20%20%20%20%0A%20%20%20%20%20%20%20%20%20%20%20%20%7D%29%3B%0A%0A%20%20%20%20%20%20%20%20%20%20%20%20%0A%20%20%20%20%20%20%20%20%20%20%20%20%20%20%20%20var%20html_77b2b7c64ac94716951ce3625b8804c3%20%3D%20%24%28%60%3Cdiv%20id%3D%22html_77b2b7c64ac94716951ce3625b8804c3%22%20style%3D%22width%3A%20100.0%25%3B%20height%3A%20100.0%25%3B%22%3EVille%20%3A%20Rome%3Cbr%3E%20%20%20%20%20%20%20%20%20%20%20%20%20%20%20%20%20%20%20%20%20Prix%20moyen%20d%27un%20vol%20en%20%24%20%3A%20471%3Cbr%3E%3C/div%3E%60%29%5B0%5D%3B%0A%20%20%20%20%20%20%20%20%20%20%20%20%20%20%20%20popup_dc0a19ece1ca44ee98f0b981afbed58f.setContent%28html_77b2b7c64ac94716951ce3625b8804c3%29%3B%0A%20%20%20%20%20%20%20%20%20%20%20%20%0A%0A%20%20%20%20%20%20%20%20%20%20%20%20circle_marker_c592d6eabe96449993b83a2fe06ae894.bindPopup%28popup_dc0a19ece1ca44ee98f0b981afbed58f%29%0A%20%20%20%20%20%20%20%20%20%20%20%20%3B%0A%0A%20%20%20%20%20%20%20%20%20%20%20%20%0A%20%20%20%20%20%20%20%20%0A%20%20%20%20%0A%20%20%20%20%20%20%20%20%20%20%20%20var%20circle_marker_143a8b8485614367b6911e89f1d4587d%20%3D%20L.circleMarker%28%0A%20%20%20%20%20%20%20%20%20%20%20%20%20%20%20%20%5B41.97959%2C%20-87.90446%5D%2C%0A%20%20%20%20%20%20%20%20%20%20%20%20%20%20%20%20%7B%0A%20%20%22bubblingMouseEvents%22%3A%20true%2C%0A%20%20%22color%22%3A%20%22yellow%22%2C%0A%20%20%22dashArray%22%3A%20null%2C%0A%20%20%22dashOffset%22%3A%20null%2C%0A%20%20%22fill%22%3A%20true%2C%0A%20%20%22fillColor%22%3A%20%22yellow%22%2C%0A%20%20%22fillOpacity%22%3A%200.2%2C%0A%20%20%22fillRule%22%3A%20%22evenodd%22%2C%0A%20%20%22lineCap%22%3A%20%22round%22%2C%0A%20%20%22lineJoin%22%3A%20%22round%22%2C%0A%20%20%22opacity%22%3A%201.0%2C%0A%20%20%22radius%22%3A%2010%2C%0A%20%20%22stroke%22%3A%20true%2C%0A%20%20%22weight%22%3A%203%0A%7D%0A%20%20%20%20%20%20%20%20%20%20%20%20%20%20%20%20%29%0A%20%20%20%20%20%20%20%20%20%20%20%20%20%20%20%20.addTo%28map_5512f941568e40a5a5c1a1d20deb6451%29%3B%0A%20%20%20%20%20%20%20%20%20%20%20%20%0A%20%20%20%20%0A%20%20%20%20%20%20%20%20%20%20%20%20var%20popup_cfb3a7a8353042c6aad5ad4b8e7e57d7%20%3D%20L.popup%28%7BmaxWidth%3A%20%27100%25%27%0A%20%20%20%20%20%20%20%20%20%20%20%20%0A%20%20%20%20%20%20%20%20%20%20%20%20%7D%29%3B%0A%0A%20%20%20%20%20%20%20%20%20%20%20%20%0A%20%20%20%20%20%20%20%20%20%20%20%20%20%20%20%20var%20html_81c2320b1dee4f9c8eb2b0573c92c271%20%3D%20%24%28%60%3Cdiv%20id%3D%22html_81c2320b1dee4f9c8eb2b0573c92c271%22%20style%3D%22width%3A%20100.0%25%3B%20height%3A%20100.0%25%3B%22%3EVille%20%3A%20Chicago%3Cbr%3E%20%20%20%20%20%20%20%20%20%20%20%20%20%20%20%20%20%20%20%20%20Prix%20moyen%20d%27un%20vol%20en%20%24%20%3A%20511%3Cbr%3E%3C/div%3E%60%29%5B0%5D%3B%0A%20%20%20%20%20%20%20%20%20%20%20%20%20%20%20%20popup_cfb3a7a8353042c6aad5ad4b8e7e57d7.setContent%28html_81c2320b1dee4f9c8eb2b0573c92c271%29%3B%0A%20%20%20%20%20%20%20%20%20%20%20%20%0A%0A%20%20%20%20%20%20%20%20%20%20%20%20circle_marker_143a8b8485614367b6911e89f1d4587d.bindPopup%28popup_cfb3a7a8353042c6aad5ad4b8e7e57d7%29%0A%20%20%20%20%20%20%20%20%20%20%20%20%3B%0A%0A%20%20%20%20%20%20%20%20%20%20%20%20%0A%20%20%20%20%20%20%20%20%0A%20%20%20%20%0A%20%20%20%20%20%20%20%20%20%20%20%20var%20circle_marker_6a9e646969c54d549f633b45151db5a6%20%3D%20L.circleMarker%28%0A%20%20%20%20%20%20%20%20%20%20%20%20%20%20%20%20%5B41.97959%2C%20-87.90446%5D%2C%0A%20%20%20%20%20%20%20%20%20%20%20%20%20%20%20%20%7B%0A%20%20%22bubblingMouseEvents%22%3A%20true%2C%0A%20%20%22color%22%3A%20%22yellow%22%2C%0A%20%20%22dashArray%22%3A%20null%2C%0A%20%20%22dashOffset%22%3A%20null%2C%0A%20%20%22fill%22%3A%20true%2C%0A%20%20%22fillColor%22%3A%20%22yellow%22%2C%0A%20%20%22fillOpacity%22%3A%200.2%2C%0A%20%20%22fillRule%22%3A%20%22evenodd%22%2C%0A%20%20%22lineCap%22%3A%20%22round%22%2C%0A%20%20%22lineJoin%22%3A%20%22round%22%2C%0A%20%20%22opacity%22%3A%201.0%2C%0A%20%20%22radius%22%3A%2010%2C%0A%20%20%22stroke%22%3A%20true%2C%0A%20%20%22weight%22%3A%203%0A%7D%0A%20%20%20%20%20%20%20%20%20%20%20%20%20%20%20%20%29%0A%20%20%20%20%20%20%20%20%20%20%20%20%20%20%20%20.addTo%28map_5512f941568e40a5a5c1a1d20deb6451%29%3B%0A%20%20%20%20%20%20%20%20%20%20%20%20%0A%20%20%20%20%0A%20%20%20%20%20%20%20%20%20%20%20%20var%20popup_fc2ccc809dfb4d1ca76c7df2e46bcab9%20%3D%20L.popup%28%7BmaxWidth%3A%20%27100%25%27%0A%20%20%20%20%20%20%20%20%20%20%20%20%0A%20%20%20%20%20%20%20%20%20%20%20%20%7D%29%3B%0A%0A%20%20%20%20%20%20%20%20%20%20%20%20%0A%20%20%20%20%20%20%20%20%20%20%20%20%20%20%20%20var%20html_45e5d36aa48646d9beea0ed48ae0bd77%20%3D%20%24%28%60%3Cdiv%20id%3D%22html_45e5d36aa48646d9beea0ed48ae0bd77%22%20style%3D%22width%3A%20100.0%25%3B%20height%3A%20100.0%25%3B%22%3EVille%20%3A%20Chicago%3Cbr%3E%20%20%20%20%20%20%20%20%20%20%20%20%20%20%20%20%20%20%20%20%20Prix%20moyen%20d%27un%20vol%20en%20%24%20%3A%20511%3Cbr%3E%3C/div%3E%60%29%5B0%5D%3B%0A%20%20%20%20%20%20%20%20%20%20%20%20%20%20%20%20popup_fc2ccc809dfb4d1ca76c7df2e46bcab9.setContent%28html_45e5d36aa48646d9beea0ed48ae0bd77%29%3B%0A%20%20%20%20%20%20%20%20%20%20%20%20%0A%0A%20%20%20%20%20%20%20%20%20%20%20%20circle_marker_6a9e646969c54d549f633b45151db5a6.bindPopup%28popup_fc2ccc809dfb4d1ca76c7df2e46bcab9%29%0A%20%20%20%20%20%20%20%20%20%20%20%20%3B%0A%0A%20%20%20%20%20%20%20%20%20%20%20%20%0A%20%20%20%20%20%20%20%20%0A%20%20%20%20%0A%20%20%20%20%20%20%20%20%20%20%20%20var%20circle_marker_686e6047481d45ffa444d778c96e4d43%20%3D%20L.circleMarker%28%0A%20%20%20%20%20%20%20%20%20%20%20%20%20%20%20%20%5B6.577369999999999%2C%203.32116%5D%2C%0A%20%20%20%20%20%20%20%20%20%20%20%20%20%20%20%20%7B%0A%20%20%22bubblingMouseEvents%22%3A%20true%2C%0A%20%20%22color%22%3A%20%22yellow%22%2C%0A%20%20%22dashArray%22%3A%20null%2C%0A%20%20%22dashOffset%22%3A%20null%2C%0A%20%20%22fill%22%3A%20true%2C%0A%20%20%22fillColor%22%3A%20%22yellow%22%2C%0A%20%20%22fillOpacity%22%3A%200.2%2C%0A%20%20%22fillRule%22%3A%20%22evenodd%22%2C%0A%20%20%22lineCap%22%3A%20%22round%22%2C%0A%20%20%22lineJoin%22%3A%20%22round%22%2C%0A%20%20%22opacity%22%3A%201.0%2C%0A%20%20%22radius%22%3A%2010%2C%0A%20%20%22stroke%22%3A%20true%2C%0A%20%20%22weight%22%3A%203%0A%7D%0A%20%20%20%20%20%20%20%20%20%20%20%20%20%20%20%20%29%0A%20%20%20%20%20%20%20%20%20%20%20%20%20%20%20%20.addTo%28map_5512f941568e40a5a5c1a1d20deb6451%29%3B%0A%20%20%20%20%20%20%20%20%20%20%20%20%0A%20%20%20%20%0A%20%20%20%20%20%20%20%20%20%20%20%20var%20popup_75dba864d11c49c197fe747bca6f2afe%20%3D%20L.popup%28%7BmaxWidth%3A%20%27100%25%27%0A%20%20%20%20%20%20%20%20%20%20%20%20%0A%20%20%20%20%20%20%20%20%20%20%20%20%7D%29%3B%0A%0A%20%20%20%20%20%20%20%20%20%20%20%20%0A%20%20%20%20%20%20%20%20%20%20%20%20%20%20%20%20var%20html_86bb50f498eb4cbcb044d90bd3b460b7%20%3D%20%24%28%60%3Cdiv%20id%3D%22html_86bb50f498eb4cbcb044d90bd3b460b7%22%20style%3D%22width%3A%20100.0%25%3B%20height%3A%20100.0%25%3B%22%3EVille%20%3A%20Lagos%3Cbr%3E%20%20%20%20%20%20%20%20%20%20%20%20%20%20%20%20%20%20%20%20%20Prix%20moyen%20d%27un%20vol%20en%20%24%20%3A%20538%3Cbr%3E%3C/div%3E%60%29%5B0%5D%3B%0A%20%20%20%20%20%20%20%20%20%20%20%20%20%20%20%20popup_75dba864d11c49c197fe747bca6f2afe.setContent%28html_86bb50f498eb4cbcb044d90bd3b460b7%29%3B%0A%20%20%20%20%20%20%20%20%20%20%20%20%0A%0A%20%20%20%20%20%20%20%20%20%20%20%20circle_marker_686e6047481d45ffa444d778c96e4d43.bindPopup%28popup_75dba864d11c49c197fe747bca6f2afe%29%0A%20%20%20%20%20%20%20%20%20%20%20%20%3B%0A%0A%20%20%20%20%20%20%20%20%20%20%20%20%0A%20%20%20%20%20%20%20%20%0A%20%20%20%20%0A%20%20%20%20%20%20%20%20%20%20%20%20var%20circle_marker_d14e9c58fdde4d8eb9fd4a8b44c2d6a5%20%3D%20L.circleMarker%28%0A%20%20%20%20%20%20%20%20%20%20%20%20%20%20%20%20%5B29.647924467831096%2C%20-95.27740166137698%5D%2C%0A%20%20%20%20%20%20%20%20%20%20%20%20%20%20%20%20%7B%0A%20%20%22bubblingMouseEvents%22%3A%20true%2C%0A%20%20%22color%22%3A%20%22yellow%22%2C%0A%20%20%22dashArray%22%3A%20null%2C%0A%20%20%22dashOffset%22%3A%20null%2C%0A%20%20%22fill%22%3A%20true%2C%0A%20%20%22fillColor%22%3A%20%22yellow%22%2C%0A%20%20%22fillOpacity%22%3A%200.2%2C%0A%20%20%22fillRule%22%3A%20%22evenodd%22%2C%0A%20%20%22lineCap%22%3A%20%22round%22%2C%0A%20%20%22lineJoin%22%3A%20%22round%22%2C%0A%20%20%22opacity%22%3A%201.0%2C%0A%20%20%22radius%22%3A%2010%2C%0A%20%20%22stroke%22%3A%20true%2C%0A%20%20%22weight%22%3A%203%0A%7D%0A%20%20%20%20%20%20%20%20%20%20%20%20%20%20%20%20%29%0A%20%20%20%20%20%20%20%20%20%20%20%20%20%20%20%20.addTo%28map_5512f941568e40a5a5c1a1d20deb6451%29%3B%0A%20%20%20%20%20%20%20%20%20%20%20%20%0A%20%20%20%20%0A%20%20%20%20%20%20%20%20%20%20%20%20var%20popup_e35c4d3529954f85bc2f015d470d91f4%20%3D%20L.popup%28%7BmaxWidth%3A%20%27100%25%27%0A%20%20%20%20%20%20%20%20%20%20%20%20%0A%20%20%20%20%20%20%20%20%20%20%20%20%7D%29%3B%0A%0A%20%20%20%20%20%20%20%20%20%20%20%20%0A%20%20%20%20%20%20%20%20%20%20%20%20%20%20%20%20var%20html_81560b01ec7b4fe2b10f9c5d9d756557%20%3D%20%24%28%60%3Cdiv%20id%3D%22html_81560b01ec7b4fe2b10f9c5d9d756557%22%20style%3D%22width%3A%20100.0%25%3B%20height%3A%20100.0%25%3B%22%3EVille%20%3A%20Houston%3Cbr%3E%20%20%20%20%20%20%20%20%20%20%20%20%20%20%20%20%20%20%20%20%20Prix%20moyen%20d%27un%20vol%20en%20%24%20%3A%20556%3Cbr%3E%3C/div%3E%60%29%5B0%5D%3B%0A%20%20%20%20%20%20%20%20%20%20%20%20%20%20%20%20popup_e35c4d3529954f85bc2f015d470d91f4.setContent%28html_81560b01ec7b4fe2b10f9c5d9d756557%29%3B%0A%20%20%20%20%20%20%20%20%20%20%20%20%0A%0A%20%20%20%20%20%20%20%20%20%20%20%20circle_marker_d14e9c58fdde4d8eb9fd4a8b44c2d6a5.bindPopup%28popup_e35c4d3529954f85bc2f015d470d91f4%29%0A%20%20%20%20%20%20%20%20%20%20%20%20%3B%0A%0A%20%20%20%20%20%20%20%20%20%20%20%20%0A%20%20%20%20%20%20%20%20%0A%20%20%20%20%0A%20%20%20%20%20%20%20%20%20%20%20%20var%20circle_marker_2f3965bcb8a9423385dd63c34133f15f%20%3D%20L.circleMarker%28%0A%20%20%20%20%20%20%20%20%20%20%20%20%20%20%20%20%5B22.308154770027556%2C%20113.91861379882812%5D%2C%0A%20%20%20%20%20%20%20%20%20%20%20%20%20%20%20%20%7B%0A%20%20%22bubblingMouseEvents%22%3A%20true%2C%0A%20%20%22color%22%3A%20%22yellow%22%2C%0A%20%20%22dashArray%22%3A%20null%2C%0A%20%20%22dashOffset%22%3A%20null%2C%0A%20%20%22fill%22%3A%20true%2C%0A%20%20%22fillColor%22%3A%20%22yellow%22%2C%0A%20%20%22fillOpacity%22%3A%200.2%2C%0A%20%20%22fillRule%22%3A%20%22evenodd%22%2C%0A%20%20%22lineCap%22%3A%20%22round%22%2C%0A%20%20%22lineJoin%22%3A%20%22round%22%2C%0A%20%20%22opacity%22%3A%201.0%2C%0A%20%20%22radius%22%3A%2010%2C%0A%20%20%22stroke%22%3A%20true%2C%0A%20%20%22weight%22%3A%203%0A%7D%0A%20%20%20%20%20%20%20%20%20%20%20%20%20%20%20%20%29%0A%20%20%20%20%20%20%20%20%20%20%20%20%20%20%20%20.addTo%28map_5512f941568e40a5a5c1a1d20deb6451%29%3B%0A%20%20%20%20%20%20%20%20%20%20%20%20%0A%20%20%20%20%0A%20%20%20%20%20%20%20%20%20%20%20%20var%20popup_df90cf43555a425e83c6a11d254b57e7%20%3D%20L.popup%28%7BmaxWidth%3A%20%27100%25%27%0A%20%20%20%20%20%20%20%20%20%20%20%20%0A%20%20%20%20%20%20%20%20%20%20%20%20%7D%29%3B%0A%0A%20%20%20%20%20%20%20%20%20%20%20%20%0A%20%20%20%20%20%20%20%20%20%20%20%20%20%20%20%20var%20html_2929b4b052e04f01b3252dfd75d90958%20%3D%20%24%28%60%3Cdiv%20id%3D%22html_2929b4b052e04f01b3252dfd75d90958%22%20style%3D%22width%3A%20100.0%25%3B%20height%3A%20100.0%25%3B%22%3EVille%20%3A%20Hong%20Kong%3Cbr%3E%20%20%20%20%20%20%20%20%20%20%20%20%20%20%20%20%20%20%20%20%20Prix%20moyen%20d%27un%20vol%20en%20%24%20%3A%20567%3Cbr%3E%3C/div%3E%60%29%5B0%5D%3B%0A%20%20%20%20%20%20%20%20%20%20%20%20%20%20%20%20popup_df90cf43555a425e83c6a11d254b57e7.setContent%28html_2929b4b052e04f01b3252dfd75d90958%29%3B%0A%20%20%20%20%20%20%20%20%20%20%20%20%0A%0A%20%20%20%20%20%20%20%20%20%20%20%20circle_marker_2f3965bcb8a9423385dd63c34133f15f.bindPopup%28popup_df90cf43555a425e83c6a11d254b57e7%29%0A%20%20%20%20%20%20%20%20%20%20%20%20%3B%0A%0A%20%20%20%20%20%20%20%20%20%20%20%20%0A%20%20%20%20%20%20%20%20%0A%20%20%20%20%0A%20%20%20%20%20%20%20%20%20%20%20%20var%20circle_marker_fe4763ca0daa4d65ab373d979ba80ff0%20%3D%20L.circleMarker%28%0A%20%20%20%20%20%20%20%20%20%20%20%20%20%20%20%20%5B10.59396494218611%2C%20-85.54389501586905%5D%2C%0A%20%20%20%20%20%20%20%20%20%20%20%20%20%20%20%20%7B%0A%20%20%22bubblingMouseEvents%22%3A%20true%2C%0A%20%20%22color%22%3A%20%22yellow%22%2C%0A%20%20%22dashArray%22%3A%20null%2C%0A%20%20%22dashOffset%22%3A%20null%2C%0A%20%20%22fill%22%3A%20true%2C%0A%20%20%22fillColor%22%3A%20%22yellow%22%2C%0A%20%20%22fillOpacity%22%3A%200.2%2C%0A%20%20%22fillRule%22%3A%20%22evenodd%22%2C%0A%20%20%22lineCap%22%3A%20%22round%22%2C%0A%20%20%22lineJoin%22%3A%20%22round%22%2C%0A%20%20%22opacity%22%3A%201.0%2C%0A%20%20%22radius%22%3A%2010%2C%0A%20%20%22stroke%22%3A%20true%2C%0A%20%20%22weight%22%3A%203%0A%7D%0A%20%20%20%20%20%20%20%20%20%20%20%20%20%20%20%20%29%0A%20%20%20%20%20%20%20%20%20%20%20%20%20%20%20%20.addTo%28map_5512f941568e40a5a5c1a1d20deb6451%29%3B%0A%20%20%20%20%20%20%20%20%20%20%20%20%0A%20%20%20%20%0A%20%20%20%20%20%20%20%20%20%20%20%20var%20popup_ef8bfdc294a74ad4a90f8a156d01b67f%20%3D%20L.popup%28%7BmaxWidth%3A%20%27100%25%27%0A%20%20%20%20%20%20%20%20%20%20%20%20%0A%20%20%20%20%20%20%20%20%20%20%20%20%7D%29%3B%0A%0A%20%20%20%20%20%20%20%20%20%20%20%20%0A%20%20%20%20%20%20%20%20%20%20%20%20%20%20%20%20var%20html_97d5240e70884149a914727195bb0e2f%20%3D%20%24%28%60%3Cdiv%20id%3D%22html_97d5240e70884149a914727195bb0e2f%22%20style%3D%22width%3A%20100.0%25%3B%20height%3A%20100.0%25%3B%22%3EVille%20%3A%20Liberia%3Cbr%3E%20%20%20%20%20%20%20%20%20%20%20%20%20%20%20%20%20%20%20%20%20Prix%20moyen%20d%27un%20vol%20en%20%24%20%3A%20589%3Cbr%3E%3C/div%3E%60%29%5B0%5D%3B%0A%20%20%20%20%20%20%20%20%20%20%20%20%20%20%20%20popup_ef8bfdc294a74ad4a90f8a156d01b67f.setContent%28html_97d5240e70884149a914727195bb0e2f%29%3B%0A%20%20%20%20%20%20%20%20%20%20%20%20%0A%0A%20%20%20%20%20%20%20%20%20%20%20%20circle_marker_fe4763ca0daa4d65ab373d979ba80ff0.bindPopup%28popup_ef8bfdc294a74ad4a90f8a156d01b67f%29%0A%20%20%20%20%20%20%20%20%20%20%20%20%3B%0A%0A%20%20%20%20%20%20%20%20%20%20%20%20%0A%20%20%20%20%20%20%20%20%0A%20%20%20%20%0A%20%20%20%20%20%20%20%20%20%20%20%20var%20circle_marker_900629c065544d4eb6d48b93ef682083%20%3D%20L.circleMarker%28%0A%20%20%20%20%20%20%20%20%20%20%20%20%20%20%20%20%5B28.557152230159506%2C%2077.099656772461%5D%2C%0A%20%20%20%20%20%20%20%20%20%20%20%20%20%20%20%20%7B%0A%20%20%22bubblingMouseEvents%22%3A%20true%2C%0A%20%20%22color%22%3A%20%22yellow%22%2C%0A%20%20%22dashArray%22%3A%20null%2C%0A%20%20%22dashOffset%22%3A%20null%2C%0A%20%20%22fill%22%3A%20true%2C%0A%20%20%22fillColor%22%3A%20%22yellow%22%2C%0A%20%20%22fillOpacity%22%3A%200.2%2C%0A%20%20%22fillRule%22%3A%20%22evenodd%22%2C%0A%20%20%22lineCap%22%3A%20%22round%22%2C%0A%20%20%22lineJoin%22%3A%20%22round%22%2C%0A%20%20%22opacity%22%3A%201.0%2C%0A%20%20%22radius%22%3A%2010%2C%0A%20%20%22stroke%22%3A%20true%2C%0A%20%20%22weight%22%3A%203%0A%7D%0A%20%20%20%20%20%20%20%20%20%20%20%20%20%20%20%20%29%0A%20%20%20%20%20%20%20%20%20%20%20%20%20%20%20%20.addTo%28map_5512f941568e40a5a5c1a1d20deb6451%29%3B%0A%20%20%20%20%20%20%20%20%20%20%20%20%0A%20%20%20%20%0A%20%20%20%20%20%20%20%20%20%20%20%20var%20popup_e4b706e11b0640a5a92997394967b2ad%20%3D%20L.popup%28%7BmaxWidth%3A%20%27100%25%27%0A%20%20%20%20%20%20%20%20%20%20%20%20%0A%20%20%20%20%20%20%20%20%20%20%20%20%7D%29%3B%0A%0A%20%20%20%20%20%20%20%20%20%20%20%20%0A%20%20%20%20%20%20%20%20%20%20%20%20%20%20%20%20var%20html_81b9dc379c1b468f8b56d895b8b438a2%20%3D%20%24%28%60%3Cdiv%20id%3D%22html_81b9dc379c1b468f8b56d895b8b438a2%22%20style%3D%22width%3A%20100.0%25%3B%20height%3A%20100.0%25%3B%22%3EVille%20%3A%20New%20Delhi%3Cbr%3E%20%20%20%20%20%20%20%20%20%20%20%20%20%20%20%20%20%20%20%20%20Prix%20moyen%20d%27un%20vol%20en%20%24%20%3A%20595%3Cbr%3E%3C/div%3E%60%29%5B0%5D%3B%0A%20%20%20%20%20%20%20%20%20%20%20%20%20%20%20%20popup_e4b706e11b0640a5a92997394967b2ad.setContent%28html_81b9dc379c1b468f8b56d895b8b438a2%29%3B%0A%20%20%20%20%20%20%20%20%20%20%20%20%0A%0A%20%20%20%20%20%20%20%20%20%20%20%20circle_marker_900629c065544d4eb6d48b93ef682083.bindPopup%28popup_e4b706e11b0640a5a92997394967b2ad%29%0A%20%20%20%20%20%20%20%20%20%20%20%20%3B%0A%0A%20%20%20%20%20%20%20%20%20%20%20%20%0A%20%20%20%20%20%20%20%20%0A%20%20%20%20%0A%20%20%20%20%20%20%20%20%20%20%20%20var%20circle_marker_3aa6ee61360546a3b98ccc443ebfa23d%20%3D%20L.circleMarker%28%0A%20%20%20%20%20%20%20%20%20%20%20%20%20%20%20%20%5B-1.3303%2C%2036.92505%5D%2C%0A%20%20%20%20%20%20%20%20%20%20%20%20%20%20%20%20%7B%0A%20%20%22bubblingMouseEvents%22%3A%20true%2C%0A%20%20%22color%22%3A%20%22yellow%22%2C%0A%20%20%22dashArray%22%3A%20null%2C%0A%20%20%22dashOffset%22%3A%20null%2C%0A%20%20%22fill%22%3A%20true%2C%0A%20%20%22fillColor%22%3A%20%22yellow%22%2C%0A%20%20%22fillOpacity%22%3A%200.2%2C%0A%20%20%22fillRule%22%3A%20%22evenodd%22%2C%0A%20%20%22lineCap%22%3A%20%22round%22%2C%0A%20%20%22lineJoin%22%3A%20%22round%22%2C%0A%20%20%22opacity%22%3A%201.0%2C%0A%20%20%22radius%22%3A%2010%2C%0A%20%20%22stroke%22%3A%20true%2C%0A%20%20%22weight%22%3A%203%0A%7D%0A%20%20%20%20%20%20%20%20%20%20%20%20%20%20%20%20%29%0A%20%20%20%20%20%20%20%20%20%20%20%20%20%20%20%20.addTo%28map_5512f941568e40a5a5c1a1d20deb6451%29%3B%0A%20%20%20%20%20%20%20%20%20%20%20%20%0A%20%20%20%20%0A%20%20%20%20%20%20%20%20%20%20%20%20var%20popup_4a36a50ddeee4cfda16c6ad4f85606a8%20%3D%20L.popup%28%7BmaxWidth%3A%20%27100%25%27%0A%20%20%20%20%20%20%20%20%20%20%20%20%0A%20%20%20%20%20%20%20%20%20%20%20%20%7D%29%3B%0A%0A%20%20%20%20%20%20%20%20%20%20%20%20%0A%20%20%20%20%20%20%20%20%20%20%20%20%20%20%20%20var%20html_122e3348f8744a509d2f0782210505f5%20%3D%20%24%28%60%3Cdiv%20id%3D%22html_122e3348f8744a509d2f0782210505f5%22%20style%3D%22width%3A%20100.0%25%3B%20height%3A%20100.0%25%3B%22%3EVille%20%3A%20Nairobi%3Cbr%3E%20%20%20%20%20%20%20%20%20%20%20%20%20%20%20%20%20%20%20%20%20Prix%20moyen%20d%27un%20vol%20en%20%24%20%3A%20608%3Cbr%3E%3C/div%3E%60%29%5B0%5D%3B%0A%20%20%20%20%20%20%20%20%20%20%20%20%20%20%20%20popup_4a36a50ddeee4cfda16c6ad4f85606a8.setContent%28html_122e3348f8744a509d2f0782210505f5%29%3B%0A%20%20%20%20%20%20%20%20%20%20%20%20%0A%0A%20%20%20%20%20%20%20%20%20%20%20%20circle_marker_3aa6ee61360546a3b98ccc443ebfa23d.bindPopup%28popup_4a36a50ddeee4cfda16c6ad4f85606a8%29%0A%20%20%20%20%20%20%20%20%20%20%20%20%3B%0A%0A%20%20%20%20%20%20%20%20%20%20%20%20%0A%20%20%20%20%20%20%20%20%0A%20%20%20%20%0A%20%20%20%20%20%20%20%20%20%20%20%20var%20circle_marker_9a284da8cbe844f8b8a96e1d9dfa6c05%20%3D%20L.circleMarker%28%0A%20%20%20%20%20%20%20%20%20%20%20%20%20%20%20%20%5B19.089663331035872%2C%2072.86551674072268%5D%2C%0A%20%20%20%20%20%20%20%20%20%20%20%20%20%20%20%20%7B%0A%20%20%22bubblingMouseEvents%22%3A%20true%2C%0A%20%20%22color%22%3A%20%22yellow%22%2C%0A%20%20%22dashArray%22%3A%20null%2C%0A%20%20%22dashOffset%22%3A%20null%2C%0A%20%20%22fill%22%3A%20true%2C%0A%20%20%22fillColor%22%3A%20%22yellow%22%2C%0A%20%20%22fillOpacity%22%3A%200.2%2C%0A%20%20%22fillRule%22%3A%20%22evenodd%22%2C%0A%20%20%22lineCap%22%3A%20%22round%22%2C%0A%20%20%22lineJoin%22%3A%20%22round%22%2C%0A%20%20%22opacity%22%3A%201.0%2C%0A%20%20%22radius%22%3A%2010%2C%0A%20%20%22stroke%22%3A%20true%2C%0A%20%20%22weight%22%3A%203%0A%7D%0A%20%20%20%20%20%20%20%20%20%20%20%20%20%20%20%20%29%0A%20%20%20%20%20%20%20%20%20%20%20%20%20%20%20%20.addTo%28map_5512f941568e40a5a5c1a1d20deb6451%29%3B%0A%20%20%20%20%20%20%20%20%20%20%20%20%0A%20%20%20%20%0A%20%20%20%20%20%20%20%20%20%20%20%20var%20popup_cc48ded807bd486b953e6b7acdb8843c%20%3D%20L.popup%28%7BmaxWidth%3A%20%27100%25%27%0A%20%20%20%20%20%20%20%20%20%20%20%20%0A%20%20%20%20%20%20%20%20%20%20%20%20%7D%29%3B%0A%0A%20%20%20%20%20%20%20%20%20%20%20%20%0A%20%20%20%20%20%20%20%20%20%20%20%20%20%20%20%20var%20html_49a3a06746d943c7af3d4c7f7de8494d%20%3D%20%24%28%60%3Cdiv%20id%3D%22html_49a3a06746d943c7af3d4c7f7de8494d%22%20style%3D%22width%3A%20100.0%25%3B%20height%3A%20100.0%25%3B%22%3EVille%20%3A%20Mumbai%3Cbr%3E%20%20%20%20%20%20%20%20%20%20%20%20%20%20%20%20%20%20%20%20%20Prix%20moyen%20d%27un%20vol%20en%20%24%20%3A%20608%3Cbr%3E%3C/div%3E%60%29%5B0%5D%3B%0A%20%20%20%20%20%20%20%20%20%20%20%20%20%20%20%20popup_cc48ded807bd486b953e6b7acdb8843c.setContent%28html_49a3a06746d943c7af3d4c7f7de8494d%29%3B%0A%20%20%20%20%20%20%20%20%20%20%20%20%0A%0A%20%20%20%20%20%20%20%20%20%20%20%20circle_marker_9a284da8cbe844f8b8a96e1d9dfa6c05.bindPopup%28popup_cc48ded807bd486b953e6b7acdb8843c%29%0A%20%20%20%20%20%20%20%20%20%20%20%20%3B%0A%0A%20%20%20%20%20%20%20%20%20%20%20%20%0A%20%20%20%20%20%20%20%20%0A%20%20%20%20%0A%20%20%20%20%20%20%20%20%20%20%20%20var%20circle_marker_6583787db7564cafbee686fe088010d5%20%3D%20L.circleMarker%28%0A%20%20%20%20%20%20%20%20%20%20%20%20%20%20%20%20%5B42.35429501596671%2C%20-71.04325162802866%5D%2C%0A%20%20%20%20%20%20%20%20%20%20%20%20%20%20%20%20%7B%0A%20%20%22bubblingMouseEvents%22%3A%20true%2C%0A%20%20%22color%22%3A%20%22yellow%22%2C%0A%20%20%22dashArray%22%3A%20null%2C%0A%20%20%22dashOffset%22%3A%20null%2C%0A%20%20%22fill%22%3A%20true%2C%0A%20%20%22fillColor%22%3A%20%22yellow%22%2C%0A%20%20%22fillOpacity%22%3A%200.2%2C%0A%20%20%22fillRule%22%3A%20%22evenodd%22%2C%0A%20%20%22lineCap%22%3A%20%22round%22%2C%0A%20%20%22lineJoin%22%3A%20%22round%22%2C%0A%20%20%22opacity%22%3A%201.0%2C%0A%20%20%22radius%22%3A%2010%2C%0A%20%20%22stroke%22%3A%20true%2C%0A%20%20%22weight%22%3A%203%0A%7D%0A%20%20%20%20%20%20%20%20%20%20%20%20%20%20%20%20%29%0A%20%20%20%20%20%20%20%20%20%20%20%20%20%20%20%20.addTo%28map_5512f941568e40a5a5c1a1d20deb6451%29%3B%0A%20%20%20%20%20%20%20%20%20%20%20%20%0A%20%20%20%20%0A%20%20%20%20%20%20%20%20%20%20%20%20var%20popup_f46200ba4c5443ffa9b52c18ce07c341%20%3D%20L.popup%28%7BmaxWidth%3A%20%27100%25%27%0A%20%20%20%20%20%20%20%20%20%20%20%20%0A%20%20%20%20%20%20%20%20%20%20%20%20%7D%29%3B%0A%0A%20%20%20%20%20%20%20%20%20%20%20%20%0A%20%20%20%20%20%20%20%20%20%20%20%20%20%20%20%20var%20html_4ef63872082d41c9ab2a149b181e28bf%20%3D%20%24%28%60%3Cdiv%20id%3D%22html_4ef63872082d41c9ab2a149b181e28bf%22%20style%3D%22width%3A%20100.0%25%3B%20height%3A%20100.0%25%3B%22%3EVille%20%3A%20Boston%3Cbr%3E%20%20%20%20%20%20%20%20%20%20%20%20%20%20%20%20%20%20%20%20%20Prix%20moyen%20d%27un%20vol%20en%20%24%20%3A%20611%3Cbr%3E%3C/div%3E%60%29%5B0%5D%3B%0A%20%20%20%20%20%20%20%20%20%20%20%20%20%20%20%20popup_f46200ba4c5443ffa9b52c18ce07c341.setContent%28html_4ef63872082d41c9ab2a149b181e28bf%29%3B%0A%20%20%20%20%20%20%20%20%20%20%20%20%0A%0A%20%20%20%20%20%20%20%20%20%20%20%20circle_marker_6583787db7564cafbee686fe088010d5.bindPopup%28popup_f46200ba4c5443ffa9b52c18ce07c341%29%0A%20%20%20%20%20%20%20%20%20%20%20%20%3B%0A%0A%20%20%20%20%20%20%20%20%20%20%20%20%0A%20%20%20%20%20%20%20%20%0A%20%20%20%20%0A%20%20%20%20%20%20%20%20%20%20%20%20var%20circle_marker_3d1f4739255342bfa8db99351853e2f9%20%3D%20L.circleMarker%28%0A%20%20%20%20%20%20%20%20%20%20%20%20%20%20%20%20%5B20.5218%2C%20-103.31117%5D%2C%0A%20%20%20%20%20%20%20%20%20%20%20%20%20%20%20%20%7B%0A%20%20%22bubblingMouseEvents%22%3A%20true%2C%0A%20%20%22color%22%3A%20%22yellow%22%2C%0A%20%20%22dashArray%22%3A%20null%2C%0A%20%20%22dashOffset%22%3A%20null%2C%0A%20%20%22fill%22%3A%20true%2C%0A%20%20%22fillColor%22%3A%20%22yellow%22%2C%0A%20%20%22fillOpacity%22%3A%200.2%2C%0A%20%20%22fillRule%22%3A%20%22evenodd%22%2C%0A%20%20%22lineCap%22%3A%20%22round%22%2C%0A%20%20%22lineJoin%22%3A%20%22round%22%2C%0A%20%20%22opacity%22%3A%201.0%2C%0A%20%20%22radius%22%3A%2010%2C%0A%20%20%22stroke%22%3A%20true%2C%0A%20%20%22weight%22%3A%203%0A%7D%0A%20%20%20%20%20%20%20%20%20%20%20%20%20%20%20%20%29%0A%20%20%20%20%20%20%20%20%20%20%20%20%20%20%20%20.addTo%28map_5512f941568e40a5a5c1a1d20deb6451%29%3B%0A%20%20%20%20%20%20%20%20%20%20%20%20%0A%20%20%20%20%0A%20%20%20%20%20%20%20%20%20%20%20%20var%20popup_4f337075213b4e328dc6d50d1ab1fed4%20%3D%20L.popup%28%7BmaxWidth%3A%20%27100%25%27%0A%20%20%20%20%20%20%20%20%20%20%20%20%0A%20%20%20%20%20%20%20%20%20%20%20%20%7D%29%3B%0A%0A%20%20%20%20%20%20%20%20%20%20%20%20%0A%20%20%20%20%20%20%20%20%20%20%20%20%20%20%20%20var%20html_7e304a514dfd461faeddcc95c9fdff4c%20%3D%20%24%28%60%3Cdiv%20id%3D%22html_7e304a514dfd461faeddcc95c9fdff4c%22%20style%3D%22width%3A%20100.0%25%3B%20height%3A%20100.0%25%3B%22%3EVille%20%3A%20Guadalajara%3Cbr%3E%20%20%20%20%20%20%20%20%20%20%20%20%20%20%20%20%20%20%20%20%20Prix%20moyen%20d%27un%20vol%20en%20%24%20%3A%20623%3Cbr%3E%3C/div%3E%60%29%5B0%5D%3B%0A%20%20%20%20%20%20%20%20%20%20%20%20%20%20%20%20popup_4f337075213b4e328dc6d50d1ab1fed4.setContent%28html_7e304a514dfd461faeddcc95c9fdff4c%29%3B%0A%20%20%20%20%20%20%20%20%20%20%20%20%0A%0A%20%20%20%20%20%20%20%20%20%20%20%20circle_marker_3d1f4739255342bfa8db99351853e2f9.bindPopup%28popup_4f337075213b4e328dc6d50d1ab1fed4%29%0A%20%20%20%20%20%20%20%20%20%20%20%20%3B%0A%0A%20%20%20%20%20%20%20%20%20%20%20%20%0A%20%20%20%20%20%20%20%20%0A%20%20%20%20%0A%20%20%20%20%20%20%20%20%20%20%20%20var%20circle_marker_2dde5b4d20ca46fa93c601f9e457f874%20%3D%20L.circleMarker%28%0A%20%20%20%20%20%20%20%20%20%20%20%20%20%20%20%20%5B11.54733%2C%2043.15948%5D%2C%0A%20%20%20%20%20%20%20%20%20%20%20%20%20%20%20%20%7B%0A%20%20%22bubblingMouseEvents%22%3A%20true%2C%0A%20%20%22color%22%3A%20%22orange%22%2C%0A%20%20%22dashArray%22%3A%20null%2C%0A%20%20%22dashOffset%22%3A%20null%2C%0A%20%20%22fill%22%3A%20true%2C%0A%20%20%22fillColor%22%3A%20%22orange%22%2C%0A%20%20%22fillOpacity%22%3A%200.2%2C%0A%20%20%22fillRule%22%3A%20%22evenodd%22%2C%0A%20%20%22lineCap%22%3A%20%22round%22%2C%0A%20%20%22lineJoin%22%3A%20%22round%22%2C%0A%20%20%22opacity%22%3A%201.0%2C%0A%20%20%22radius%22%3A%2010%2C%0A%20%20%22stroke%22%3A%20true%2C%0A%20%20%22weight%22%3A%203%0A%7D%0A%20%20%20%20%20%20%20%20%20%20%20%20%20%20%20%20%29%0A%20%20%20%20%20%20%20%20%20%20%20%20%20%20%20%20.addTo%28map_5512f941568e40a5a5c1a1d20deb6451%29%3B%0A%20%20%20%20%20%20%20%20%20%20%20%20%0A%20%20%20%20%0A%20%20%20%20%20%20%20%20%20%20%20%20var%20popup_574fe13878334cf0b5571bea727ea42e%20%3D%20L.popup%28%7BmaxWidth%3A%20%27100%25%27%0A%20%20%20%20%20%20%20%20%20%20%20%20%0A%20%20%20%20%20%20%20%20%20%20%20%20%7D%29%3B%0A%0A%20%20%20%20%20%20%20%20%20%20%20%20%0A%20%20%20%20%20%20%20%20%20%20%20%20%20%20%20%20var%20html_a908ebc51ad74741a2bdff5ef8c09267%20%3D%20%24%28%60%3Cdiv%20id%3D%22html_a908ebc51ad74741a2bdff5ef8c09267%22%20style%3D%22width%3A%20100.0%25%3B%20height%3A%20100.0%25%3B%22%3EVille%20%3A%20Djibouti%3Cbr%3E%20%20%20%20%20%20%20%20%20%20%20%20%20%20%20%20%20%20%20%20%20Prix%20moyen%20d%27un%20vol%20en%20%24%20%3A%20652%3Cbr%3E%3C/div%3E%60%29%5B0%5D%3B%0A%20%20%20%20%20%20%20%20%20%20%20%20%20%20%20%20popup_574fe13878334cf0b5571bea727ea42e.setContent%28html_a908ebc51ad74741a2bdff5ef8c09267%29%3B%0A%20%20%20%20%20%20%20%20%20%20%20%20%0A%0A%20%20%20%20%20%20%20%20%20%20%20%20circle_marker_2dde5b4d20ca46fa93c601f9e457f874.bindPopup%28popup_574fe13878334cf0b5571bea727ea42e%29%0A%20%20%20%20%20%20%20%20%20%20%20%20%3B%0A%0A%20%20%20%20%20%20%20%20%20%20%20%20%0A%20%20%20%20%20%20%20%20%0A%20%20%20%20%0A%20%20%20%20%20%20%20%20%20%20%20%20var%20circle_marker_b92e34573fb245a7b47e3b02978cb28b%20%3D%20L.circleMarker%28%0A%20%20%20%20%20%20%20%20%20%20%20%20%20%20%20%20%5B-20.43023%2C%2057.6836%5D%2C%0A%20%20%20%20%20%20%20%20%20%20%20%20%20%20%20%20%7B%0A%20%20%22bubblingMouseEvents%22%3A%20true%2C%0A%20%20%22color%22%3A%20%22orange%22%2C%0A%20%20%22dashArray%22%3A%20null%2C%0A%20%20%22dashOffset%22%3A%20null%2C%0A%20%20%22fill%22%3A%20true%2C%0A%20%20%22fillColor%22%3A%20%22orange%22%2C%0A%20%20%22fillOpacity%22%3A%200.2%2C%0A%20%20%22fillRule%22%3A%20%22evenodd%22%2C%0A%20%20%22lineCap%22%3A%20%22round%22%2C%0A%20%20%22lineJoin%22%3A%20%22round%22%2C%0A%20%20%22opacity%22%3A%201.0%2C%0A%20%20%22radius%22%3A%2010%2C%0A%20%20%22stroke%22%3A%20true%2C%0A%20%20%22weight%22%3A%203%0A%7D%0A%20%20%20%20%20%20%20%20%20%20%20%20%20%20%20%20%29%0A%20%20%20%20%20%20%20%20%20%20%20%20%20%20%20%20.addTo%28map_5512f941568e40a5a5c1a1d20deb6451%29%3B%0A%20%20%20%20%20%20%20%20%20%20%20%20%0A%20%20%20%20%0A%20%20%20%20%20%20%20%20%20%20%20%20var%20popup_71c4f43551bf406683508d504239d0dd%20%3D%20L.popup%28%7BmaxWidth%3A%20%27100%25%27%0A%20%20%20%20%20%20%20%20%20%20%20%20%0A%20%20%20%20%20%20%20%20%20%20%20%20%7D%29%3B%0A%0A%20%20%20%20%20%20%20%20%20%20%20%20%0A%20%20%20%20%20%20%20%20%20%20%20%20%20%20%20%20var%20html_0b4c9f144f8441d2a832afbd6c500ddb%20%3D%20%24%28%60%3Cdiv%20id%3D%22html_0b4c9f144f8441d2a832afbd6c500ddb%22%20style%3D%22width%3A%20100.0%25%3B%20height%3A%20100.0%25%3B%22%3EVille%20%3A%20Port%20Louis%3Cbr%3E%20%20%20%20%20%20%20%20%20%20%20%20%20%20%20%20%20%20%20%20%20Prix%20moyen%20d%27un%20vol%20en%20%24%20%3A%20672%3Cbr%3E%3C/div%3E%60%29%5B0%5D%3B%0A%20%20%20%20%20%20%20%20%20%20%20%20%20%20%20%20popup_71c4f43551bf406683508d504239d0dd.setContent%28html_0b4c9f144f8441d2a832afbd6c500ddb%29%3B%0A%20%20%20%20%20%20%20%20%20%20%20%20%0A%0A%20%20%20%20%20%20%20%20%20%20%20%20circle_marker_b92e34573fb245a7b47e3b02978cb28b.bindPopup%28popup_71c4f43551bf406683508d504239d0dd%29%0A%20%20%20%20%20%20%20%20%20%20%20%20%3B%0A%0A%20%20%20%20%20%20%20%20%20%20%20%20%0A%20%20%20%20%20%20%20%20%0A%20%20%20%20%0A%20%20%20%20%20%20%20%20%20%20%20%20var%20circle_marker_0888a87f632e413aa6177d0f383b169d%20%3D%20L.circleMarker%28%0A%20%20%20%20%20%20%20%20%20%20%20%20%20%20%20%20%5B-22.90354%2C%20-43.20959%5D%2C%0A%20%20%20%20%20%20%20%20%20%20%20%20%20%20%20%20%7B%0A%20%20%22bubblingMouseEvents%22%3A%20true%2C%0A%20%20%22color%22%3A%20%22orange%22%2C%0A%20%20%22dashArray%22%3A%20null%2C%0A%20%20%22dashOffset%22%3A%20null%2C%0A%20%20%22fill%22%3A%20true%2C%0A%20%20%22fillColor%22%3A%20%22orange%22%2C%0A%20%20%22fillOpacity%22%3A%200.2%2C%0A%20%20%22fillRule%22%3A%20%22evenodd%22%2C%0A%20%20%22lineCap%22%3A%20%22round%22%2C%0A%20%20%22lineJoin%22%3A%20%22round%22%2C%0A%20%20%22opacity%22%3A%201.0%2C%0A%20%20%22radius%22%3A%2010%2C%0A%20%20%22stroke%22%3A%20true%2C%0A%20%20%22weight%22%3A%203%0A%7D%0A%20%20%20%20%20%20%20%20%20%20%20%20%20%20%20%20%29%0A%20%20%20%20%20%20%20%20%20%20%20%20%20%20%20%20.addTo%28map_5512f941568e40a5a5c1a1d20deb6451%29%3B%0A%20%20%20%20%20%20%20%20%20%20%20%20%0A%20%20%20%20%0A%20%20%20%20%20%20%20%20%20%20%20%20var%20popup_f6683e0d77d04fad9933e261d1762456%20%3D%20L.popup%28%7BmaxWidth%3A%20%27100%25%27%0A%20%20%20%20%20%20%20%20%20%20%20%20%0A%20%20%20%20%20%20%20%20%20%20%20%20%7D%29%3B%0A%0A%20%20%20%20%20%20%20%20%20%20%20%20%0A%20%20%20%20%20%20%20%20%20%20%20%20%20%20%20%20var%20html_b8c801b82e834735899aab2c8d230b38%20%3D%20%24%28%60%3Cdiv%20id%3D%22html_b8c801b82e834735899aab2c8d230b38%22%20style%3D%22width%3A%20100.0%25%3B%20height%3A%20100.0%25%3B%22%3EVille%20%3A%20Rio%20de%20Janeiro%3Cbr%3E%20%20%20%20%20%20%20%20%20%20%20%20%20%20%20%20%20%20%20%20%20Prix%20moyen%20d%27un%20vol%20en%20%24%20%3A%20678%3Cbr%3E%3C/div%3E%60%29%5B0%5D%3B%0A%20%20%20%20%20%20%20%20%20%20%20%20%20%20%20%20popup_f6683e0d77d04fad9933e261d1762456.setContent%28html_b8c801b82e834735899aab2c8d230b38%29%3B%0A%20%20%20%20%20%20%20%20%20%20%20%20%0A%0A%20%20%20%20%20%20%20%20%20%20%20%20circle_marker_0888a87f632e413aa6177d0f383b169d.bindPopup%28popup_f6683e0d77d04fad9933e261d1762456%29%0A%20%20%20%20%20%20%20%20%20%20%20%20%3B%0A%0A%20%20%20%20%20%20%20%20%20%20%20%20%0A%20%20%20%20%20%20%20%20%0A%20%20%20%20%0A%20%20%20%20%20%20%20%20%20%20%20%20var%20circle_marker_5401d612a4e340059e5335b521d58b51%20%3D%20L.circleMarker%28%0A%20%20%20%20%20%20%20%20%20%20%20%20%20%20%20%20%5B35.70903%2C%20139.73199%5D%2C%0A%20%20%20%20%20%20%20%20%20%20%20%20%20%20%20%20%7B%0A%20%20%22bubblingMouseEvents%22%3A%20true%2C%0A%20%20%22color%22%3A%20%22orange%22%2C%0A%20%20%22dashArray%22%3A%20null%2C%0A%20%20%22dashOffset%22%3A%20null%2C%0A%20%20%22fill%22%3A%20true%2C%0A%20%20%22fillColor%22%3A%20%22orange%22%2C%0A%20%20%22fillOpacity%22%3A%200.2%2C%0A%20%20%22fillRule%22%3A%20%22evenodd%22%2C%0A%20%20%22lineCap%22%3A%20%22round%22%2C%0A%20%20%22lineJoin%22%3A%20%22round%22%2C%0A%20%20%22opacity%22%3A%201.0%2C%0A%20%20%22radius%22%3A%2010%2C%0A%20%20%22stroke%22%3A%20true%2C%0A%20%20%22weight%22%3A%203%0A%7D%0A%20%20%20%20%20%20%20%20%20%20%20%20%20%20%20%20%29%0A%20%20%20%20%20%20%20%20%20%20%20%20%20%20%20%20.addTo%28map_5512f941568e40a5a5c1a1d20deb6451%29%3B%0A%20%20%20%20%20%20%20%20%20%20%20%20%0A%20%20%20%20%0A%20%20%20%20%20%20%20%20%20%20%20%20var%20popup_dde3aa0c882949808ae20c9124360bd0%20%3D%20L.popup%28%7BmaxWidth%3A%20%27100%25%27%0A%20%20%20%20%20%20%20%20%20%20%20%20%0A%20%20%20%20%20%20%20%20%20%20%20%20%7D%29%3B%0A%0A%20%20%20%20%20%20%20%20%20%20%20%20%0A%20%20%20%20%20%20%20%20%20%20%20%20%20%20%20%20var%20html_df0967ec931849989141bf05dd956bfb%20%3D%20%24%28%60%3Cdiv%20id%3D%22html_df0967ec931849989141bf05dd956bfb%22%20style%3D%22width%3A%20100.0%25%3B%20height%3A%20100.0%25%3B%22%3EVille%20%3A%20Tokyo%3Cbr%3E%20%20%20%20%20%20%20%20%20%20%20%20%20%20%20%20%20%20%20%20%20Prix%20moyen%20d%27un%20vol%20en%20%24%20%3A%20680%3Cbr%3E%3C/div%3E%60%29%5B0%5D%3B%0A%20%20%20%20%20%20%20%20%20%20%20%20%20%20%20%20popup_dde3aa0c882949808ae20c9124360bd0.setContent%28html_df0967ec931849989141bf05dd956bfb%29%3B%0A%20%20%20%20%20%20%20%20%20%20%20%20%0A%0A%20%20%20%20%20%20%20%20%20%20%20%20circle_marker_5401d612a4e340059e5335b521d58b51.bindPopup%28popup_dde3aa0c882949808ae20c9124360bd0%29%0A%20%20%20%20%20%20%20%20%20%20%20%20%3B%0A%0A%20%20%20%20%20%20%20%20%20%20%20%20%0A%20%20%20%20%20%20%20%20%0A%20%20%20%20%0A%20%20%20%20%20%20%20%20%20%20%20%20var%20circle_marker_dacc6d4e762240daad5b8e46fba1d2ba%20%3D%20L.circleMarker%28%0A%20%20%20%20%20%20%20%20%20%20%20%20%20%20%20%20%5B7.18076%2C%2079.88412%5D%2C%0A%20%20%20%20%20%20%20%20%20%20%20%20%20%20%20%20%7B%0A%20%20%22bubblingMouseEvents%22%3A%20true%2C%0A%20%20%22color%22%3A%20%22orange%22%2C%0A%20%20%22dashArray%22%3A%20null%2C%0A%20%20%22dashOffset%22%3A%20null%2C%0A%20%20%22fill%22%3A%20true%2C%0A%20%20%22fillColor%22%3A%20%22orange%22%2C%0A%20%20%22fillOpacity%22%3A%200.2%2C%0A%20%20%22fillRule%22%3A%20%22evenodd%22%2C%0A%20%20%22lineCap%22%3A%20%22round%22%2C%0A%20%20%22lineJoin%22%3A%20%22round%22%2C%0A%20%20%22opacity%22%3A%201.0%2C%0A%20%20%22radius%22%3A%2010%2C%0A%20%20%22stroke%22%3A%20true%2C%0A%20%20%22weight%22%3A%203%0A%7D%0A%20%20%20%20%20%20%20%20%20%20%20%20%20%20%20%20%29%0A%20%20%20%20%20%20%20%20%20%20%20%20%20%20%20%20.addTo%28map_5512f941568e40a5a5c1a1d20deb6451%29%3B%0A%20%20%20%20%20%20%20%20%20%20%20%20%0A%20%20%20%20%0A%20%20%20%20%20%20%20%20%20%20%20%20var%20popup_a64c71352b7e4e16aebd5198ab26c80d%20%3D%20L.popup%28%7BmaxWidth%3A%20%27100%25%27%0A%20%20%20%20%20%20%20%20%20%20%20%20%0A%20%20%20%20%20%20%20%20%20%20%20%20%7D%29%3B%0A%0A%20%20%20%20%20%20%20%20%20%20%20%20%0A%20%20%20%20%20%20%20%20%20%20%20%20%20%20%20%20var%20html_869a720b745d485694212087ba50ce4e%20%3D%20%24%28%60%3Cdiv%20id%3D%22html_869a720b745d485694212087ba50ce4e%22%20style%3D%22width%3A%20100.0%25%3B%20height%3A%20100.0%25%3B%22%3EVille%20%3A%20Colombo%3Cbr%3E%20%20%20%20%20%20%20%20%20%20%20%20%20%20%20%20%20%20%20%20%20Prix%20moyen%20d%27un%20vol%20en%20%24%20%3A%20726%3Cbr%3E%3C/div%3E%60%29%5B0%5D%3B%0A%20%20%20%20%20%20%20%20%20%20%20%20%20%20%20%20popup_a64c71352b7e4e16aebd5198ab26c80d.setContent%28html_869a720b745d485694212087ba50ce4e%29%3B%0A%20%20%20%20%20%20%20%20%20%20%20%20%0A%0A%20%20%20%20%20%20%20%20%20%20%20%20circle_marker_dacc6d4e762240daad5b8e46fba1d2ba.bindPopup%28popup_a64c71352b7e4e16aebd5198ab26c80d%29%0A%20%20%20%20%20%20%20%20%20%20%20%20%3B%0A%0A%20%20%20%20%20%20%20%20%20%20%20%20%0A%20%20%20%20%20%20%20%20%0A%20%20%20%20%0A%20%20%20%20%20%20%20%20%20%20%20%20var%20circle_marker_247c06157f4a46c8907e4194dab5ec83%20%3D%20L.circleMarker%28%0A%20%20%20%20%20%20%20%20%20%20%20%20%20%20%20%20%5B13.913579750656696%2C%20100.60606335449222%5D%2C%0A%20%20%20%20%20%20%20%20%20%20%20%20%20%20%20%20%7B%0A%20%20%22bubblingMouseEvents%22%3A%20true%2C%0A%20%20%22color%22%3A%20%22orange%22%2C%0A%20%20%22dashArray%22%3A%20null%2C%0A%20%20%22dashOffset%22%3A%20null%2C%0A%20%20%22fill%22%3A%20true%2C%0A%20%20%22fillColor%22%3A%20%22orange%22%2C%0A%20%20%22fillOpacity%22%3A%200.2%2C%0A%20%20%22fillRule%22%3A%20%22evenodd%22%2C%0A%20%20%22lineCap%22%3A%20%22round%22%2C%0A%20%20%22lineJoin%22%3A%20%22round%22%2C%0A%20%20%22opacity%22%3A%201.0%2C%0A%20%20%22radius%22%3A%2010%2C%0A%20%20%22stroke%22%3A%20true%2C%0A%20%20%22weight%22%3A%203%0A%7D%0A%20%20%20%20%20%20%20%20%20%20%20%20%20%20%20%20%29%0A%20%20%20%20%20%20%20%20%20%20%20%20%20%20%20%20.addTo%28map_5512f941568e40a5a5c1a1d20deb6451%29%3B%0A%20%20%20%20%20%20%20%20%20%20%20%20%0A%20%20%20%20%0A%20%20%20%20%20%20%20%20%20%20%20%20var%20popup_84fb98b0a67c40ebab9504366fafcdfa%20%3D%20L.popup%28%7BmaxWidth%3A%20%27100%25%27%0A%20%20%20%20%20%20%20%20%20%20%20%20%0A%20%20%20%20%20%20%20%20%20%20%20%20%7D%29%3B%0A%0A%20%20%20%20%20%20%20%20%20%20%20%20%0A%20%20%20%20%20%20%20%20%20%20%20%20%20%20%20%20var%20html_acc8e892ade044128974b38d3829bfce%20%3D%20%24%28%60%3Cdiv%20id%3D%22html_acc8e892ade044128974b38d3829bfce%22%20style%3D%22width%3A%20100.0%25%3B%20height%3A%20100.0%25%3B%22%3EVille%20%3A%20Bangkok%3Cbr%3E%20%20%20%20%20%20%20%20%20%20%20%20%20%20%20%20%20%20%20%20%20Prix%20moyen%20d%27un%20vol%20en%20%24%20%3A%20804%3Cbr%3E%3C/div%3E%60%29%5B0%5D%3B%0A%20%20%20%20%20%20%20%20%20%20%20%20%20%20%20%20popup_84fb98b0a67c40ebab9504366fafcdfa.setContent%28html_acc8e892ade044128974b38d3829bfce%29%3B%0A%20%20%20%20%20%20%20%20%20%20%20%20%0A%0A%20%20%20%20%20%20%20%20%20%20%20%20circle_marker_247c06157f4a46c8907e4194dab5ec83.bindPopup%28popup_84fb98b0a67c40ebab9504366fafcdfa%29%0A%20%20%20%20%20%20%20%20%20%20%20%20%3B%0A%0A%20%20%20%20%20%20%20%20%20%20%20%20%0A%20%20%20%20%20%20%20%20%0A%20%20%20%20%0A%20%20%20%20%20%20%20%20%20%20%20%20var%20circle_marker_2a864b5b76744d8db3b34f39ea4af72c%20%3D%20L.circleMarker%28%0A%20%20%20%20%20%20%20%20%20%20%20%20%20%20%20%20%5B-25.93851%2C%2027.92613%5D%2C%0A%20%20%20%20%20%20%20%20%20%20%20%20%20%20%20%20%7B%0A%20%20%22bubblingMouseEvents%22%3A%20true%2C%0A%20%20%22color%22%3A%20%22orange%22%2C%0A%20%20%22dashArray%22%3A%20null%2C%0A%20%20%22dashOffset%22%3A%20null%2C%0A%20%20%22fill%22%3A%20true%2C%0A%20%20%22fillColor%22%3A%20%22orange%22%2C%0A%20%20%22fillOpacity%22%3A%200.2%2C%0A%20%20%22fillRule%22%3A%20%22evenodd%22%2C%0A%20%20%22lineCap%22%3A%20%22round%22%2C%0A%20%20%22lineJoin%22%3A%20%22round%22%2C%0A%20%20%22opacity%22%3A%201.0%2C%0A%20%20%22radius%22%3A%2010%2C%0A%20%20%22stroke%22%3A%20true%2C%0A%20%20%22weight%22%3A%203%0A%7D%0A%20%20%20%20%20%20%20%20%20%20%20%20%20%20%20%20%29%0A%20%20%20%20%20%20%20%20%20%20%20%20%20%20%20%20.addTo%28map_5512f941568e40a5a5c1a1d20deb6451%29%3B%0A%20%20%20%20%20%20%20%20%20%20%20%20%0A%20%20%20%20%0A%20%20%20%20%20%20%20%20%20%20%20%20var%20popup_888e4a3e74764c008776ee5ee2b796ed%20%3D%20L.popup%28%7BmaxWidth%3A%20%27100%25%27%0A%20%20%20%20%20%20%20%20%20%20%20%20%0A%20%20%20%20%20%20%20%20%20%20%20%20%7D%29%3B%0A%0A%20%20%20%20%20%20%20%20%20%20%20%20%0A%20%20%20%20%20%20%20%20%20%20%20%20%20%20%20%20var%20html_34e86a7bfc0346b595026f12195e4fcb%20%3D%20%24%28%60%3Cdiv%20id%3D%22html_34e86a7bfc0346b595026f12195e4fcb%22%20style%3D%22width%3A%20100.0%25%3B%20height%3A%20100.0%25%3B%22%3EVille%20%3A%20Johannesburg%3Cbr%3E%20%20%20%20%20%20%20%20%20%20%20%20%20%20%20%20%20%20%20%20%20Prix%20moyen%20d%27un%20vol%20en%20%24%20%3A%20871%3Cbr%3E%3C/div%3E%60%29%5B0%5D%3B%0A%20%20%20%20%20%20%20%20%20%20%20%20%20%20%20%20popup_888e4a3e74764c008776ee5ee2b796ed.setContent%28html_34e86a7bfc0346b595026f12195e4fcb%29%3B%0A%20%20%20%20%20%20%20%20%20%20%20%20%0A%0A%20%20%20%20%20%20%20%20%20%20%20%20circle_marker_2a864b5b76744d8db3b34f39ea4af72c.bindPopup%28popup_888e4a3e74764c008776ee5ee2b796ed%29%0A%20%20%20%20%20%20%20%20%20%20%20%20%3B%0A%0A%20%20%20%20%20%20%20%20%20%20%20%20%0A%20%20%20%20%20%20%20%20%0A%20%20%20%20%0A%20%20%20%20%20%20%20%20%20%20%20%20var%20circle_marker_b8acd0cca38548248de81dd38f41eda3%20%3D%20L.circleMarker%28%0A%20%20%20%20%20%20%20%20%20%20%20%20%20%20%20%20%5B-6.12557%2C%20106.6559%5D%2C%0A%20%20%20%20%20%20%20%20%20%20%20%20%20%20%20%20%7B%0A%20%20%22bubblingMouseEvents%22%3A%20true%2C%0A%20%20%22color%22%3A%20%22orange%22%2C%0A%20%20%22dashArray%22%3A%20null%2C%0A%20%20%22dashOffset%22%3A%20null%2C%0A%20%20%22fill%22%3A%20true%2C%0A%20%20%22fillColor%22%3A%20%22orange%22%2C%0A%20%20%22fillOpacity%22%3A%200.2%2C%0A%20%20%22fillRule%22%3A%20%22evenodd%22%2C%0A%20%20%22lineCap%22%3A%20%22round%22%2C%0A%20%20%22lineJoin%22%3A%20%22round%22%2C%0A%20%20%22opacity%22%3A%201.0%2C%0A%20%20%22radius%22%3A%2010%2C%0A%20%20%22stroke%22%3A%20true%2C%0A%20%20%22weight%22%3A%203%0A%7D%0A%20%20%20%20%20%20%20%20%20%20%20%20%20%20%20%20%29%0A%20%20%20%20%20%20%20%20%20%20%20%20%20%20%20%20.addTo%28map_5512f941568e40a5a5c1a1d20deb6451%29%3B%0A%20%20%20%20%20%20%20%20%20%20%20%20%0A%20%20%20%20%0A%20%20%20%20%20%20%20%20%20%20%20%20var%20popup_3c763446b70140c19fe27b6d268d563c%20%3D%20L.popup%28%7BmaxWidth%3A%20%27100%25%27%0A%20%20%20%20%20%20%20%20%20%20%20%20%0A%20%20%20%20%20%20%20%20%20%20%20%20%7D%29%3B%0A%0A%20%20%20%20%20%20%20%20%20%20%20%20%0A%20%20%20%20%20%20%20%20%20%20%20%20%20%20%20%20var%20html_6c4c12db1e63495c8b8e008f47190e57%20%3D%20%24%28%60%3Cdiv%20id%3D%22html_6c4c12db1e63495c8b8e008f47190e57%22%20style%3D%22width%3A%20100.0%25%3B%20height%3A%20100.0%25%3B%22%3EVille%20%3A%20Jakarta%3Cbr%3E%20%20%20%20%20%20%20%20%20%20%20%20%20%20%20%20%20%20%20%20%20Prix%20moyen%20d%27un%20vol%20en%20%24%20%3A%20888%3Cbr%3E%3C/div%3E%60%29%5B0%5D%3B%0A%20%20%20%20%20%20%20%20%20%20%20%20%20%20%20%20popup_3c763446b70140c19fe27b6d268d563c.setContent%28html_6c4c12db1e63495c8b8e008f47190e57%29%3B%0A%20%20%20%20%20%20%20%20%20%20%20%20%0A%0A%20%20%20%20%20%20%20%20%20%20%20%20circle_marker_b8acd0cca38548248de81dd38f41eda3.bindPopup%28popup_3c763446b70140c19fe27b6d268d563c%29%0A%20%20%20%20%20%20%20%20%20%20%20%20%3B%0A%0A%20%20%20%20%20%20%20%20%20%20%20%20%0A%20%20%20%20%20%20%20%20%0A%20%20%20%20%0A%20%20%20%20%20%20%20%20%20%20%20%20var%20circle_marker_f7883301ee0448c1b568c638ea084cb5%20%3D%20L.circleMarker%28%0A%20%20%20%20%20%20%20%20%20%20%20%20%20%20%20%20%5B3.133322479620104%2C%20101.55413651855474%5D%2C%0A%20%20%20%20%20%20%20%20%20%20%20%20%20%20%20%20%7B%0A%20%20%22bubblingMouseEvents%22%3A%20true%2C%0A%20%20%22color%22%3A%20%22red%22%2C%0A%20%20%22dashArray%22%3A%20null%2C%0A%20%20%22dashOffset%22%3A%20null%2C%0A%20%20%22fill%22%3A%20true%2C%0A%20%20%22fillColor%22%3A%20%22red%22%2C%0A%20%20%22fillOpacity%22%3A%200.2%2C%0A%20%20%22fillRule%22%3A%20%22evenodd%22%2C%0A%20%20%22lineCap%22%3A%20%22round%22%2C%0A%20%20%22lineJoin%22%3A%20%22round%22%2C%0A%20%20%22opacity%22%3A%201.0%2C%0A%20%20%22radius%22%3A%2010%2C%0A%20%20%22stroke%22%3A%20true%2C%0A%20%20%22weight%22%3A%203%0A%7D%0A%20%20%20%20%20%20%20%20%20%20%20%20%20%20%20%20%29%0A%20%20%20%20%20%20%20%20%20%20%20%20%20%20%20%20.addTo%28map_5512f941568e40a5a5c1a1d20deb6451%29%3B%0A%20%20%20%20%20%20%20%20%20%20%20%20%0A%20%20%20%20%0A%20%20%20%20%20%20%20%20%20%20%20%20var%20popup_e0ec21855cda4549bc2c65e865d272a8%20%3D%20L.popup%28%7BmaxWidth%3A%20%27100%25%27%0A%20%20%20%20%20%20%20%20%20%20%20%20%0A%20%20%20%20%20%20%20%20%20%20%20%20%7D%29%3B%0A%0A%20%20%20%20%20%20%20%20%20%20%20%20%0A%20%20%20%20%20%20%20%20%20%20%20%20%20%20%20%20var%20html_293d7fc5c5104f7ba6ae1984c3731d02%20%3D%20%24%28%60%3Cdiv%20id%3D%22html_293d7fc5c5104f7ba6ae1984c3731d02%22%20style%3D%22width%3A%20100.0%25%3B%20height%3A%20100.0%25%3B%22%3EVille%20%3A%20Kuala%20Lumpur%3Cbr%3E%20%20%20%20%20%20%20%20%20%20%20%20%20%20%20%20%20%20%20%20%20Prix%20moyen%20d%27un%20vol%20en%20%24%20%3A%20995%3Cbr%3E%3C/div%3E%60%29%5B0%5D%3B%0A%20%20%20%20%20%20%20%20%20%20%20%20%20%20%20%20popup_e0ec21855cda4549bc2c65e865d272a8.setContent%28html_293d7fc5c5104f7ba6ae1984c3731d02%29%3B%0A%20%20%20%20%20%20%20%20%20%20%20%20%0A%0A%20%20%20%20%20%20%20%20%20%20%20%20circle_marker_f7883301ee0448c1b568c638ea084cb5.bindPopup%28popup_e0ec21855cda4549bc2c65e865d272a8%29%0A%20%20%20%20%20%20%20%20%20%20%20%20%3B%0A%0A%20%20%20%20%20%20%20%20%20%20%20%20%0A%20%20%20%20%20%20%20%20%0A%20%20%20%20%0A%20%20%20%20%20%20%20%20%20%20%20%20var%20circle_marker_0c1ec3b6121f4ef1af9e8b1879c89e27%20%3D%20L.circleMarker%28%0A%20%20%20%20%20%20%20%20%20%20%20%20%20%20%20%20%5B-36.77265%2C%20-73.06311%5D%2C%0A%20%20%20%20%20%20%20%20%20%20%20%20%20%20%20%20%7B%0A%20%20%22bubblingMouseEvents%22%3A%20true%2C%0A%20%20%22color%22%3A%20%22brown%22%2C%0A%20%20%22dashArray%22%3A%20null%2C%0A%20%20%22dashOffset%22%3A%20null%2C%0A%20%20%22fill%22%3A%20true%2C%0A%20%20%22fillColor%22%3A%20%22brown%22%2C%0A%20%20%22fillOpacity%22%3A%200.2%2C%0A%20%20%22fillRule%22%3A%20%22evenodd%22%2C%0A%20%20%22lineCap%22%3A%20%22round%22%2C%0A%20%20%22lineJoin%22%3A%20%22round%22%2C%0A%20%20%22opacity%22%3A%201.0%2C%0A%20%20%22radius%22%3A%2010%2C%0A%20%20%22stroke%22%3A%20true%2C%0A%20%20%22weight%22%3A%203%0A%7D%0A%20%20%20%20%20%20%20%20%20%20%20%20%20%20%20%20%29%0A%20%20%20%20%20%20%20%20%20%20%20%20%20%20%20%20.addTo%28map_5512f941568e40a5a5c1a1d20deb6451%29%3B%0A%20%20%20%20%20%20%20%20%20%20%20%20%0A%20%20%20%20%0A%20%20%20%20%20%20%20%20%20%20%20%20var%20popup_d225b154aed54bde86377b21ed47b0a7%20%3D%20L.popup%28%7BmaxWidth%3A%20%27100%25%27%0A%20%20%20%20%20%20%20%20%20%20%20%20%0A%20%20%20%20%20%20%20%20%20%20%20%20%7D%29%3B%0A%0A%20%20%20%20%20%20%20%20%20%20%20%20%0A%20%20%20%20%20%20%20%20%20%20%20%20%20%20%20%20var%20html_45f8a489fd6a4367b424b894fa66f2e7%20%3D%20%24%28%60%3Cdiv%20id%3D%22html_45f8a489fd6a4367b424b894fa66f2e7%22%20style%3D%22width%3A%20100.0%25%3B%20height%3A%20100.0%25%3B%22%3EVille%20%3A%20Concepci%C3%B3n%3Cbr%3E%20%20%20%20%20%20%20%20%20%20%20%20%20%20%20%20%20%20%20%20%20Prix%20moyen%20d%27un%20vol%20en%20%24%20%3A%201253%3Cbr%3E%3C/div%3E%60%29%5B0%5D%3B%0A%20%20%20%20%20%20%20%20%20%20%20%20%20%20%20%20popup_d225b154aed54bde86377b21ed47b0a7.setContent%28html_45f8a489fd6a4367b424b894fa66f2e7%29%3B%0A%20%20%20%20%20%20%20%20%20%20%20%20%0A%0A%20%20%20%20%20%20%20%20%20%20%20%20circle_marker_0c1ec3b6121f4ef1af9e8b1879c89e27.bindPopup%28popup_d225b154aed54bde86377b21ed47b0a7%29%0A%20%20%20%20%20%20%20%20%20%20%20%20%3B%0A%0A%20%20%20%20%20%20%20%20%20%20%20%20%0A%20%20%20%20%20%20%20%20%0A%20%20%20%20%0A%20%20%20%20%20%20%20%20%20%20%20%20var%20circle_marker_559b573a67fa4412843f496909fc85e7%20%3D%20L.circleMarker%28%0A%20%20%20%20%20%20%20%20%20%20%20%20%20%20%20%20%5B-37.00531834381361%2C%20174.78446022216792%5D%2C%0A%20%20%20%20%20%20%20%20%20%20%20%20%20%20%20%20%7B%0A%20%20%22bubblingMouseEvents%22%3A%20true%2C%0A%20%20%22color%22%3A%20%22brown%22%2C%0A%20%20%22dashArray%22%3A%20null%2C%0A%20%20%22dashOffset%22%3A%20null%2C%0A%20%20%22fill%22%3A%20true%2C%0A%20%20%22fillColor%22%3A%20%22brown%22%2C%0A%20%20%22fillOpacity%22%3A%200.2%2C%0A%20%20%22fillRule%22%3A%20%22evenodd%22%2C%0A%20%20%22lineCap%22%3A%20%22round%22%2C%0A%20%20%22lineJoin%22%3A%20%22round%22%2C%0A%20%20%22opacity%22%3A%201.0%2C%0A%20%20%22radius%22%3A%2010%2C%0A%20%20%22stroke%22%3A%20true%2C%0A%20%20%22weight%22%3A%203%0A%7D%0A%20%20%20%20%20%20%20%20%20%20%20%20%20%20%20%20%29%0A%20%20%20%20%20%20%20%20%20%20%20%20%20%20%20%20.addTo%28map_5512f941568e40a5a5c1a1d20deb6451%29%3B%0A%20%20%20%20%20%20%20%20%20%20%20%20%0A%20%20%20%20%0A%20%20%20%20%20%20%20%20%20%20%20%20var%20popup_47bf1d36454e425c8b520370d45f14c5%20%3D%20L.popup%28%7BmaxWidth%3A%20%27100%25%27%0A%20%20%20%20%20%20%20%20%20%20%20%20%0A%20%20%20%20%20%20%20%20%20%20%20%20%7D%29%3B%0A%0A%20%20%20%20%20%20%20%20%20%20%20%20%0A%20%20%20%20%20%20%20%20%20%20%20%20%20%20%20%20var%20html_d25b6d44685949d99d9b00255a38134b%20%3D%20%24%28%60%3Cdiv%20id%3D%22html_d25b6d44685949d99d9b00255a38134b%22%20style%3D%22width%3A%20100.0%25%3B%20height%3A%20100.0%25%3B%22%3EVille%20%3A%20Auckland%3Cbr%3E%20%20%20%20%20%20%20%20%20%20%20%20%20%20%20%20%20%20%20%20%20Prix%20moyen%20d%27un%20vol%20en%20%24%20%3A%201348%3Cbr%3E%3C/div%3E%60%29%5B0%5D%3B%0A%20%20%20%20%20%20%20%20%20%20%20%20%20%20%20%20popup_47bf1d36454e425c8b520370d45f14c5.setContent%28html_d25b6d44685949d99d9b00255a38134b%29%3B%0A%20%20%20%20%20%20%20%20%20%20%20%20%0A%0A%20%20%20%20%20%20%20%20%20%20%20%20circle_marker_559b573a67fa4412843f496909fc85e7.bindPopup%28popup_47bf1d36454e425c8b520370d45f14c5%29%0A%20%20%20%20%20%20%20%20%20%20%20%20%3B%0A%0A%20%20%20%20%20%20%20%20%20%20%20%20%0A%20%20%20%20%20%20%20%20%0A%20%20%20%20%0A%20%20%20%20%20%20%20%20%20%20%20%20var%20circle_marker_2cb9147c0f4b4645adf4d85b907fd90b%20%3D%20L.circleMarker%28%0A%20%20%20%20%20%20%20%20%20%20%20%20%20%20%20%20%5B-35.306940000000004%2C%20149.195%5D%2C%0A%20%20%20%20%20%20%20%20%20%20%20%20%20%20%20%20%7B%0A%20%20%22bubblingMouseEvents%22%3A%20true%2C%0A%20%20%22color%22%3A%20%22black%22%2C%0A%20%20%22dashArray%22%3A%20null%2C%0A%20%20%22dashOffset%22%3A%20null%2C%0A%20%20%22fill%22%3A%20true%2C%0A%20%20%22fillColor%22%3A%20%22black%22%2C%0A%20%20%22fillOpacity%22%3A%200.2%2C%0A%20%20%22fillRule%22%3A%20%22evenodd%22%2C%0A%20%20%22lineCap%22%3A%20%22round%22%2C%0A%20%20%22lineJoin%22%3A%20%22round%22%2C%0A%20%20%22opacity%22%3A%201.0%2C%0A%20%20%22radius%22%3A%2010%2C%0A%20%20%22stroke%22%3A%20true%2C%0A%20%20%22weight%22%3A%203%0A%7D%0A%20%20%20%20%20%20%20%20%20%20%20%20%20%20%20%20%29%0A%20%20%20%20%20%20%20%20%20%20%20%20%20%20%20%20.addTo%28map_5512f941568e40a5a5c1a1d20deb6451%29%3B%0A%20%20%20%20%20%20%20%20%20%20%20%20%0A%20%20%20%20%0A%20%20%20%20%20%20%20%20%20%20%20%20var%20popup_9eb1aa3383dd452b9e91a5f78ecf9235%20%3D%20L.popup%28%7BmaxWidth%3A%20%27100%25%27%0A%20%20%20%20%20%20%20%20%20%20%20%20%0A%20%20%20%20%20%20%20%20%20%20%20%20%7D%29%3B%0A%0A%20%20%20%20%20%20%20%20%20%20%20%20%0A%20%20%20%20%20%20%20%20%20%20%20%20%20%20%20%20var%20html_02fd82a1d0b74be2b4eafea94ea4ecca%20%3D%20%24%28%60%3Cdiv%20id%3D%22html_02fd82a1d0b74be2b4eafea94ea4ecca%22%20style%3D%22width%3A%20100.0%25%3B%20height%3A%20100.0%25%3B%22%3EVille%20%3A%20Canberra%3Cbr%3E%20%20%20%20%20%20%20%20%20%20%20%20%20%20%20%20%20%20%20%20%20Prix%20moyen%20d%27un%20vol%20en%20%24%20%3A%201775%3Cbr%3E%3C/div%3E%60%29%5B0%5D%3B%0A%20%20%20%20%20%20%20%20%20%20%20%20%20%20%20%20popup_9eb1aa3383dd452b9e91a5f78ecf9235.setContent%28html_02fd82a1d0b74be2b4eafea94ea4ecca%29%3B%0A%20%20%20%20%20%20%20%20%20%20%20%20%0A%0A%20%20%20%20%20%20%20%20%20%20%20%20circle_marker_2cb9147c0f4b4645adf4d85b907fd90b.bindPopup%28popup_9eb1aa3383dd452b9e91a5f78ecf9235%29%0A%20%20%20%20%20%20%20%20%20%20%20%20%3B%0A%0A%20%20%20%20%20%20%20%20%20%20%20%20%0A%20%20%20%20%20%20%20%20%0A%3C/script%3E onload=\"this.contentDocument.open();this.contentDocument.write(    decodeURIComponent(this.getAttribute('data-html')));this.contentDocument.close();\" allowfullscreen webkitallowfullscreen mozallowfullscreen></iframe></div></div>"
            ],
            "text/plain": [
              "<folium.folium.Map at 0x7f521fafad10>"
            ]
          },
          "metadata": {},
          "execution_count": 62
        }
      ]
    },
    {
      "cell_type": "markdown",
      "source": [
        "Carte représentant le prix d'un aller simple du 05/02/2022 au départ de Paris. "
      ],
      "metadata": {
        "id": "6NMikq8wJHZ8"
      }
    },
    {
      "cell_type": "code",
      "source": [
        "carte_kayak(\"20220205\")"
      ],
      "metadata": {
        "colab": {
          "base_uri": "https://localhost:8080/",
          "height": 717
        },
        "id": "6Jcsgx1A8Ici",
        "outputId": "f4f51369-adf6-4966-9f27-31c71eb243e9"
      },
      "execution_count": null,
      "outputs": [
        {
          "output_type": "execute_result",
          "data": {
            "text/html": [
              "<div style=\"width:100%;\"><div style=\"position:relative;width:100%;height:0;padding-bottom:60%;\"><span style=\"color:#565656\">Make this Notebook Trusted to load map: File -> Trust Notebook</span><iframe src=\"about:blank\" style=\"position:absolute;width:100%;height:100%;left:0;top:0;border:none !important;\" data-html=%3C%21DOCTYPE%20html%3E%0A%3Chead%3E%20%20%20%20%0A%20%20%20%20%3Cmeta%20http-equiv%3D%22content-type%22%20content%3D%22text/html%3B%20charset%3DUTF-8%22%20/%3E%0A%20%20%20%20%3Cscript%3EL_PREFER_CANVAS%3Dfalse%3B%20L_NO_TOUCH%3Dfalse%3B%20L_DISABLE_3D%3Dfalse%3B%3C/script%3E%0A%20%20%20%20%3Cscript%20src%3D%22https%3A//cdn.jsdelivr.net/npm/leaflet%401.4.0/dist/leaflet.js%22%3E%3C/script%3E%0A%20%20%20%20%3Cscript%20src%3D%22https%3A//code.jquery.com/jquery-1.12.4.min.js%22%3E%3C/script%3E%0A%20%20%20%20%3Cscript%20src%3D%22https%3A//maxcdn.bootstrapcdn.com/bootstrap/3.2.0/js/bootstrap.min.js%22%3E%3C/script%3E%0A%20%20%20%20%3Cscript%20src%3D%22https%3A//cdnjs.cloudflare.com/ajax/libs/Leaflet.awesome-markers/2.0.2/leaflet.awesome-markers.js%22%3E%3C/script%3E%0A%20%20%20%20%3Clink%20rel%3D%22stylesheet%22%20href%3D%22https%3A//cdn.jsdelivr.net/npm/leaflet%401.4.0/dist/leaflet.css%22/%3E%0A%20%20%20%20%3Clink%20rel%3D%22stylesheet%22%20href%3D%22https%3A//maxcdn.bootstrapcdn.com/bootstrap/3.2.0/css/bootstrap.min.css%22/%3E%0A%20%20%20%20%3Clink%20rel%3D%22stylesheet%22%20href%3D%22https%3A//maxcdn.bootstrapcdn.com/bootstrap/3.2.0/css/bootstrap-theme.min.css%22/%3E%0A%20%20%20%20%3Clink%20rel%3D%22stylesheet%22%20href%3D%22https%3A//maxcdn.bootstrapcdn.com/font-awesome/4.6.3/css/font-awesome.min.css%22/%3E%0A%20%20%20%20%3Clink%20rel%3D%22stylesheet%22%20href%3D%22https%3A//cdnjs.cloudflare.com/ajax/libs/Leaflet.awesome-markers/2.0.2/leaflet.awesome-markers.css%22/%3E%0A%20%20%20%20%3Clink%20rel%3D%22stylesheet%22%20href%3D%22https%3A//rawcdn.githack.com/python-visualization/folium/master/folium/templates/leaflet.awesome.rotate.css%22/%3E%0A%20%20%20%20%3Cstyle%3Ehtml%2C%20body%20%7Bwidth%3A%20100%25%3Bheight%3A%20100%25%3Bmargin%3A%200%3Bpadding%3A%200%3B%7D%3C/style%3E%0A%20%20%20%20%3Cstyle%3E%23map%20%7Bposition%3Aabsolute%3Btop%3A0%3Bbottom%3A0%3Bright%3A0%3Bleft%3A0%3B%7D%3C/style%3E%0A%20%20%20%20%0A%20%20%20%20%3Cmeta%20name%3D%22viewport%22%20content%3D%22width%3Ddevice-width%2C%0A%20%20%20%20%20%20%20%20initial-scale%3D1.0%2C%20maximum-scale%3D1.0%2C%20user-scalable%3Dno%22%20/%3E%0A%20%20%20%20%3Cstyle%3E%23map_933b305c4547429a8337eed5446dbb7a%20%7B%0A%20%20%20%20%20%20%20%20position%3A%20relative%3B%0A%20%20%20%20%20%20%20%20width%3A%20100.0%25%3B%0A%20%20%20%20%20%20%20%20height%3A%20100.0%25%3B%0A%20%20%20%20%20%20%20%20left%3A%200.0%25%3B%0A%20%20%20%20%20%20%20%20top%3A%200.0%25%3B%0A%20%20%20%20%20%20%20%20%7D%0A%20%20%20%20%3C/style%3E%0A%3C/head%3E%0A%3Cbody%3E%20%20%20%20%0A%20%20%20%20%0A%20%20%20%20%3Cdiv%20class%3D%22folium-map%22%20id%3D%22map_933b305c4547429a8337eed5446dbb7a%22%20%3E%3C/div%3E%0A%3C/body%3E%0A%3Cscript%3E%20%20%20%20%0A%20%20%20%20%0A%20%20%20%20%0A%20%20%20%20%20%20%20%20var%20bounds%20%3D%20null%3B%0A%20%20%20%20%0A%0A%20%20%20%20var%20map_933b305c4547429a8337eed5446dbb7a%20%3D%20L.map%28%0A%20%20%20%20%20%20%20%20%27map_933b305c4547429a8337eed5446dbb7a%27%2C%20%7B%0A%20%20%20%20%20%20%20%20center%3A%20%5B0%2C%200%5D%2C%0A%20%20%20%20%20%20%20%20zoom%3A%201%2C%0A%20%20%20%20%20%20%20%20maxBounds%3A%20bounds%2C%0A%20%20%20%20%20%20%20%20layers%3A%20%5B%5D%2C%0A%20%20%20%20%20%20%20%20worldCopyJump%3A%20false%2C%0A%20%20%20%20%20%20%20%20crs%3A%20L.CRS.EPSG3857%2C%0A%20%20%20%20%20%20%20%20zoomControl%3A%20true%2C%0A%20%20%20%20%20%20%20%20%7D%29%3B%0A%0A%0A%20%20%20%20%0A%20%20%20%20var%20tile_layer_a3ecbe9f98454dab896cc9036fc44acb%20%3D%20L.tileLayer%28%0A%20%20%20%20%20%20%20%20%27https%3A//cartodb-basemaps-%7Bs%7D.global.ssl.fastly.net/light_all/%7Bz%7D/%7Bx%7D/%7By%7D.png%27%2C%0A%20%20%20%20%20%20%20%20%7B%0A%20%20%20%20%20%20%20%20%22attribution%22%3A%20null%2C%0A%20%20%20%20%20%20%20%20%22detectRetina%22%3A%20false%2C%0A%20%20%20%20%20%20%20%20%22maxNativeZoom%22%3A%2018%2C%0A%20%20%20%20%20%20%20%20%22maxZoom%22%3A%2018%2C%0A%20%20%20%20%20%20%20%20%22minZoom%22%3A%200%2C%0A%20%20%20%20%20%20%20%20%22noWrap%22%3A%20false%2C%0A%20%20%20%20%20%20%20%20%22opacity%22%3A%201%2C%0A%20%20%20%20%20%20%20%20%22subdomains%22%3A%20%22abc%22%2C%0A%20%20%20%20%20%20%20%20%22tms%22%3A%20false%0A%7D%29.addTo%28map_933b305c4547429a8337eed5446dbb7a%29%3B%0A%20%20%20%20%0A%20%20%20%20%20%20%20%20%20%20%20%20var%20circle_marker_22924cef49cf403a99445ad7c6e414a0%20%3D%20L.circleMarker%28%0A%20%20%20%20%20%20%20%20%20%20%20%20%20%20%20%20%5B47.43693%2C%2019.25559%5D%2C%0A%20%20%20%20%20%20%20%20%20%20%20%20%20%20%20%20%7B%0A%20%20%22bubblingMouseEvents%22%3A%20true%2C%0A%20%20%22color%22%3A%20%22blue%22%2C%0A%20%20%22dashArray%22%3A%20null%2C%0A%20%20%22dashOffset%22%3A%20null%2C%0A%20%20%22fill%22%3A%20true%2C%0A%20%20%22fillColor%22%3A%20%22blue%22%2C%0A%20%20%22fillOpacity%22%3A%200.2%2C%0A%20%20%22fillRule%22%3A%20%22evenodd%22%2C%0A%20%20%22lineCap%22%3A%20%22round%22%2C%0A%20%20%22lineJoin%22%3A%20%22round%22%2C%0A%20%20%22opacity%22%3A%201.0%2C%0A%20%20%22radius%22%3A%2010%2C%0A%20%20%22stroke%22%3A%20true%2C%0A%20%20%22weight%22%3A%203%0A%7D%0A%20%20%20%20%20%20%20%20%20%20%20%20%20%20%20%20%29%0A%20%20%20%20%20%20%20%20%20%20%20%20%20%20%20%20.addTo%28map_933b305c4547429a8337eed5446dbb7a%29%3B%0A%20%20%20%20%20%20%20%20%20%20%20%20%0A%20%20%20%20%0A%20%20%20%20%20%20%20%20%20%20%20%20var%20popup_29c3dd4c6ba24dfe8f73b561a26464a8%20%3D%20L.popup%28%7BmaxWidth%3A%20%27100%25%27%0A%20%20%20%20%20%20%20%20%20%20%20%20%0A%20%20%20%20%20%20%20%20%20%20%20%20%7D%29%3B%0A%0A%20%20%20%20%20%20%20%20%20%20%20%20%0A%20%20%20%20%20%20%20%20%20%20%20%20%20%20%20%20var%20html_fd9a404b600b4cd4b2c163e5d4481049%20%3D%20%24%28%60%3Cdiv%20id%3D%22html_fd9a404b600b4cd4b2c163e5d4481049%22%20style%3D%22width%3A%20100.0%25%3B%20height%3A%20100.0%25%3B%22%3EVille%20%3A%20Budapest%3Cbr%3E%20%20%20%20%20%20%20%20%20%20%20%20%20%20%20%20%20%20%20%20%20Prix%20moyen%20d%27un%20vol%20en%20%24%20%3A%2050%3Cbr%3E%3C/div%3E%60%29%5B0%5D%3B%0A%20%20%20%20%20%20%20%20%20%20%20%20%20%20%20%20popup_29c3dd4c6ba24dfe8f73b561a26464a8.setContent%28html_fd9a404b600b4cd4b2c163e5d4481049%29%3B%0A%20%20%20%20%20%20%20%20%20%20%20%20%0A%0A%20%20%20%20%20%20%20%20%20%20%20%20circle_marker_22924cef49cf403a99445ad7c6e414a0.bindPopup%28popup_29c3dd4c6ba24dfe8f73b561a26464a8%29%0A%20%20%20%20%20%20%20%20%20%20%20%20%3B%0A%0A%20%20%20%20%20%20%20%20%20%20%20%20%0A%20%20%20%20%20%20%20%20%0A%20%20%20%20%0A%20%20%20%20%20%20%20%20%20%20%20%20var%20circle_marker_c3c523db64a34a438b195ec5f3ef9d2a%20%3D%20L.circleMarker%28%0A%20%20%20%20%20%20%20%20%20%20%20%20%20%20%20%20%5B41.29656412272211%2C%202.08395316406245%5D%2C%0A%20%20%20%20%20%20%20%20%20%20%20%20%20%20%20%20%7B%0A%20%20%22bubblingMouseEvents%22%3A%20true%2C%0A%20%20%22color%22%3A%20%22green%22%2C%0A%20%20%22dashArray%22%3A%20null%2C%0A%20%20%22dashOffset%22%3A%20null%2C%0A%20%20%22fill%22%3A%20true%2C%0A%20%20%22fillColor%22%3A%20%22green%22%2C%0A%20%20%22fillOpacity%22%3A%200.2%2C%0A%20%20%22fillRule%22%3A%20%22evenodd%22%2C%0A%20%20%22lineCap%22%3A%20%22round%22%2C%0A%20%20%22lineJoin%22%3A%20%22round%22%2C%0A%20%20%22opacity%22%3A%201.0%2C%0A%20%20%22radius%22%3A%2010%2C%0A%20%20%22stroke%22%3A%20true%2C%0A%20%20%22weight%22%3A%203%0A%7D%0A%20%20%20%20%20%20%20%20%20%20%20%20%20%20%20%20%29%0A%20%20%20%20%20%20%20%20%20%20%20%20%20%20%20%20.addTo%28map_933b305c4547429a8337eed5446dbb7a%29%3B%0A%20%20%20%20%20%20%20%20%20%20%20%20%0A%20%20%20%20%0A%20%20%20%20%20%20%20%20%20%20%20%20var%20popup_797d7a73cf694e0fb92b1aa585d4aab3%20%3D%20L.popup%28%7BmaxWidth%3A%20%27100%25%27%0A%20%20%20%20%20%20%20%20%20%20%20%20%0A%20%20%20%20%20%20%20%20%20%20%20%20%7D%29%3B%0A%0A%20%20%20%20%20%20%20%20%20%20%20%20%0A%20%20%20%20%20%20%20%20%20%20%20%20%20%20%20%20var%20html_6f1f76c385054d3ebfe1d769e31d7bbb%20%3D%20%24%28%60%3Cdiv%20id%3D%22html_6f1f76c385054d3ebfe1d769e31d7bbb%22%20style%3D%22width%3A%20100.0%25%3B%20height%3A%20100.0%25%3B%22%3EVille%20%3A%20Barcelona%3Cbr%3E%20%20%20%20%20%20%20%20%20%20%20%20%20%20%20%20%20%20%20%20%20Prix%20moyen%20d%27un%20vol%20en%20%24%20%3A%2051%3Cbr%3E%3C/div%3E%60%29%5B0%5D%3B%0A%20%20%20%20%20%20%20%20%20%20%20%20%20%20%20%20popup_797d7a73cf694e0fb92b1aa585d4aab3.setContent%28html_6f1f76c385054d3ebfe1d769e31d7bbb%29%3B%0A%20%20%20%20%20%20%20%20%20%20%20%20%0A%0A%20%20%20%20%20%20%20%20%20%20%20%20circle_marker_c3c523db64a34a438b195ec5f3ef9d2a.bindPopup%28popup_797d7a73cf694e0fb92b1aa585d4aab3%29%0A%20%20%20%20%20%20%20%20%20%20%20%20%3B%0A%0A%20%20%20%20%20%20%20%20%20%20%20%20%0A%20%20%20%20%20%20%20%20%0A%20%20%20%20%0A%20%20%20%20%20%20%20%20%20%20%20%20var%20circle_marker_ede2d1fc608a4becaeda4f71cd72c31b%20%3D%20L.circleMarker%28%0A%20%20%20%20%20%20%20%20%20%20%20%20%20%20%20%20%5B52.36213%2C%2013.50168%5D%2C%0A%20%20%20%20%20%20%20%20%20%20%20%20%20%20%20%20%7B%0A%20%20%22bubblingMouseEvents%22%3A%20true%2C%0A%20%20%22color%22%3A%20%22green%22%2C%0A%20%20%22dashArray%22%3A%20null%2C%0A%20%20%22dashOffset%22%3A%20null%2C%0A%20%20%22fill%22%3A%20true%2C%0A%20%20%22fillColor%22%3A%20%22green%22%2C%0A%20%20%22fillOpacity%22%3A%200.2%2C%0A%20%20%22fillRule%22%3A%20%22evenodd%22%2C%0A%20%20%22lineCap%22%3A%20%22round%22%2C%0A%20%20%22lineJoin%22%3A%20%22round%22%2C%0A%20%20%22opacity%22%3A%201.0%2C%0A%20%20%22radius%22%3A%2010%2C%0A%20%20%22stroke%22%3A%20true%2C%0A%20%20%22weight%22%3A%203%0A%7D%0A%20%20%20%20%20%20%20%20%20%20%20%20%20%20%20%20%29%0A%20%20%20%20%20%20%20%20%20%20%20%20%20%20%20%20.addTo%28map_933b305c4547429a8337eed5446dbb7a%29%3B%0A%20%20%20%20%20%20%20%20%20%20%20%20%0A%20%20%20%20%0A%20%20%20%20%20%20%20%20%20%20%20%20var%20popup_a1b6436c0e334ef5b57104e7952c8d94%20%3D%20L.popup%28%7BmaxWidth%3A%20%27100%25%27%0A%20%20%20%20%20%20%20%20%20%20%20%20%0A%20%20%20%20%20%20%20%20%20%20%20%20%7D%29%3B%0A%0A%20%20%20%20%20%20%20%20%20%20%20%20%0A%20%20%20%20%20%20%20%20%20%20%20%20%20%20%20%20var%20html_a04f27c00879450aaa04577319d7202b%20%3D%20%24%28%60%3Cdiv%20id%3D%22html_a04f27c00879450aaa04577319d7202b%22%20style%3D%22width%3A%20100.0%25%3B%20height%3A%20100.0%25%3B%22%3EVille%20%3A%20Berlin%3Cbr%3E%20%20%20%20%20%20%20%20%20%20%20%20%20%20%20%20%20%20%20%20%20Prix%20moyen%20d%27un%20vol%20en%20%24%20%3A%2066%3Cbr%3E%3C/div%3E%60%29%5B0%5D%3B%0A%20%20%20%20%20%20%20%20%20%20%20%20%20%20%20%20popup_a1b6436c0e334ef5b57104e7952c8d94.setContent%28html_a04f27c00879450aaa04577319d7202b%29%3B%0A%20%20%20%20%20%20%20%20%20%20%20%20%0A%0A%20%20%20%20%20%20%20%20%20%20%20%20circle_marker_ede2d1fc608a4becaeda4f71cd72c31b.bindPopup%28popup_a1b6436c0e334ef5b57104e7952c8d94%29%0A%20%20%20%20%20%20%20%20%20%20%20%20%3B%0A%0A%20%20%20%20%20%20%20%20%20%20%20%20%0A%20%20%20%20%20%20%20%20%0A%20%20%20%20%0A%20%20%20%20%20%20%20%20%20%20%20%20var%20circle_marker_7f606c1261f14fc2a680f289c8a03f33%20%3D%20L.circleMarker%28%0A%20%20%20%20%20%20%20%20%20%20%20%20%20%20%20%20%5B55.95%2C%20-3.3725%5D%2C%0A%20%20%20%20%20%20%20%20%20%20%20%20%20%20%20%20%7B%0A%20%20%22bubblingMouseEvents%22%3A%20true%2C%0A%20%20%22color%22%3A%20%22green%22%2C%0A%20%20%22dashArray%22%3A%20null%2C%0A%20%20%22dashOffset%22%3A%20null%2C%0A%20%20%22fill%22%3A%20true%2C%0A%20%20%22fillColor%22%3A%20%22green%22%2C%0A%20%20%22fillOpacity%22%3A%200.2%2C%0A%20%20%22fillRule%22%3A%20%22evenodd%22%2C%0A%20%20%22lineCap%22%3A%20%22round%22%2C%0A%20%20%22lineJoin%22%3A%20%22round%22%2C%0A%20%20%22opacity%22%3A%201.0%2C%0A%20%20%22radius%22%3A%2010%2C%0A%20%20%22stroke%22%3A%20true%2C%0A%20%20%22weight%22%3A%203%0A%7D%0A%20%20%20%20%20%20%20%20%20%20%20%20%20%20%20%20%29%0A%20%20%20%20%20%20%20%20%20%20%20%20%20%20%20%20.addTo%28map_933b305c4547429a8337eed5446dbb7a%29%3B%0A%20%20%20%20%20%20%20%20%20%20%20%20%0A%20%20%20%20%0A%20%20%20%20%20%20%20%20%20%20%20%20var%20popup_846090a1f2a344229a367053673f09ea%20%3D%20L.popup%28%7BmaxWidth%3A%20%27100%25%27%0A%20%20%20%20%20%20%20%20%20%20%20%20%0A%20%20%20%20%20%20%20%20%20%20%20%20%7D%29%3B%0A%0A%20%20%20%20%20%20%20%20%20%20%20%20%0A%20%20%20%20%20%20%20%20%20%20%20%20%20%20%20%20var%20html_ec868f2e934747b6b63020bdbb323a0b%20%3D%20%24%28%60%3Cdiv%20id%3D%22html_ec868f2e934747b6b63020bdbb323a0b%22%20style%3D%22width%3A%20100.0%25%3B%20height%3A%20100.0%25%3B%22%3EVille%20%3A%20Edinburgh%3Cbr%3E%20%20%20%20%20%20%20%20%20%20%20%20%20%20%20%20%20%20%20%20%20Prix%20moyen%20d%27un%20vol%20en%20%24%20%3A%2079%3Cbr%3E%3C/div%3E%60%29%5B0%5D%3B%0A%20%20%20%20%20%20%20%20%20%20%20%20%20%20%20%20popup_846090a1f2a344229a367053673f09ea.setContent%28html_ec868f2e934747b6b63020bdbb323a0b%29%3B%0A%20%20%20%20%20%20%20%20%20%20%20%20%0A%0A%20%20%20%20%20%20%20%20%20%20%20%20circle_marker_7f606c1261f14fc2a680f289c8a03f33.bindPopup%28popup_846090a1f2a344229a367053673f09ea%29%0A%20%20%20%20%20%20%20%20%20%20%20%20%3B%0A%0A%20%20%20%20%20%20%20%20%20%20%20%20%0A%20%20%20%20%20%20%20%20%0A%20%20%20%20%0A%20%20%20%20%20%20%20%20%20%20%20%20var%20circle_marker_987e9467c56443cebe5332e67f63c3a5%20%3D%20L.circleMarker%28%0A%20%20%20%20%20%20%20%20%20%20%20%20%20%20%20%20%5B55.61792%2C%2012.65597%5D%2C%0A%20%20%20%20%20%20%20%20%20%20%20%20%20%20%20%20%7B%0A%20%20%22bubblingMouseEvents%22%3A%20true%2C%0A%20%20%22color%22%3A%20%22green%22%2C%0A%20%20%22dashArray%22%3A%20null%2C%0A%20%20%22dashOffset%22%3A%20null%2C%0A%20%20%22fill%22%3A%20true%2C%0A%20%20%22fillColor%22%3A%20%22green%22%2C%0A%20%20%22fillOpacity%22%3A%200.2%2C%0A%20%20%22fillRule%22%3A%20%22evenodd%22%2C%0A%20%20%22lineCap%22%3A%20%22round%22%2C%0A%20%20%22lineJoin%22%3A%20%22round%22%2C%0A%20%20%22opacity%22%3A%201.0%2C%0A%20%20%22radius%22%3A%2010%2C%0A%20%20%22stroke%22%3A%20true%2C%0A%20%20%22weight%22%3A%203%0A%7D%0A%20%20%20%20%20%20%20%20%20%20%20%20%20%20%20%20%29%0A%20%20%20%20%20%20%20%20%20%20%20%20%20%20%20%20.addTo%28map_933b305c4547429a8337eed5446dbb7a%29%3B%0A%20%20%20%20%20%20%20%20%20%20%20%20%0A%20%20%20%20%0A%20%20%20%20%20%20%20%20%20%20%20%20var%20popup_dcbdc265a07f4915ba7e9824e2815267%20%3D%20L.popup%28%7BmaxWidth%3A%20%27100%25%27%0A%20%20%20%20%20%20%20%20%20%20%20%20%0A%20%20%20%20%20%20%20%20%20%20%20%20%7D%29%3B%0A%0A%20%20%20%20%20%20%20%20%20%20%20%20%0A%20%20%20%20%20%20%20%20%20%20%20%20%20%20%20%20var%20html_0811c0b32e2e49c9bc66bc7ad1694897%20%3D%20%24%28%60%3Cdiv%20id%3D%22html_0811c0b32e2e49c9bc66bc7ad1694897%22%20style%3D%22width%3A%20100.0%25%3B%20height%3A%20100.0%25%3B%22%3EVille%20%3A%20Copenhagen%3Cbr%3E%20%20%20%20%20%20%20%20%20%20%20%20%20%20%20%20%20%20%20%20%20Prix%20moyen%20d%27un%20vol%20en%20%24%20%3A%2090%3Cbr%3E%3C/div%3E%60%29%5B0%5D%3B%0A%20%20%20%20%20%20%20%20%20%20%20%20%20%20%20%20popup_dcbdc265a07f4915ba7e9824e2815267.setContent%28html_0811c0b32e2e49c9bc66bc7ad1694897%29%3B%0A%20%20%20%20%20%20%20%20%20%20%20%20%0A%0A%20%20%20%20%20%20%20%20%20%20%20%20circle_marker_987e9467c56443cebe5332e67f63c3a5.bindPopup%28popup_dcbdc265a07f4915ba7e9824e2815267%29%0A%20%20%20%20%20%20%20%20%20%20%20%20%3B%0A%0A%20%20%20%20%20%20%20%20%20%20%20%20%0A%20%20%20%20%20%20%20%20%0A%20%20%20%20%0A%20%20%20%20%20%20%20%20%20%20%20%20var%20circle_marker_f71db6f0e0b0430fafda49f05b7c7574%20%3D%20L.circleMarker%28%0A%20%20%20%20%20%20%20%20%20%20%20%20%20%20%20%20%5B52.30736127010797%2C%204.767146455078091%5D%2C%0A%20%20%20%20%20%20%20%20%20%20%20%20%20%20%20%20%7B%0A%20%20%22bubblingMouseEvents%22%3A%20true%2C%0A%20%20%22color%22%3A%20%22green%22%2C%0A%20%20%22dashArray%22%3A%20null%2C%0A%20%20%22dashOffset%22%3A%20null%2C%0A%20%20%22fill%22%3A%20true%2C%0A%20%20%22fillColor%22%3A%20%22green%22%2C%0A%20%20%22fillOpacity%22%3A%200.2%2C%0A%20%20%22fillRule%22%3A%20%22evenodd%22%2C%0A%20%20%22lineCap%22%3A%20%22round%22%2C%0A%20%20%22lineJoin%22%3A%20%22round%22%2C%0A%20%20%22opacity%22%3A%201.0%2C%0A%20%20%22radius%22%3A%2010%2C%0A%20%20%22stroke%22%3A%20true%2C%0A%20%20%22weight%22%3A%203%0A%7D%0A%20%20%20%20%20%20%20%20%20%20%20%20%20%20%20%20%29%0A%20%20%20%20%20%20%20%20%20%20%20%20%20%20%20%20.addTo%28map_933b305c4547429a8337eed5446dbb7a%29%3B%0A%20%20%20%20%20%20%20%20%20%20%20%20%0A%20%20%20%20%0A%20%20%20%20%20%20%20%20%20%20%20%20var%20popup_2674f10a757243cfaeddf74f623692ef%20%3D%20L.popup%28%7BmaxWidth%3A%20%27100%25%27%0A%20%20%20%20%20%20%20%20%20%20%20%20%0A%20%20%20%20%20%20%20%20%20%20%20%20%7D%29%3B%0A%0A%20%20%20%20%20%20%20%20%20%20%20%20%0A%20%20%20%20%20%20%20%20%20%20%20%20%20%20%20%20var%20html_6b7b622ab4304ce992fc4df387fa7584%20%3D%20%24%28%60%3Cdiv%20id%3D%22html_6b7b622ab4304ce992fc4df387fa7584%22%20style%3D%22width%3A%20100.0%25%3B%20height%3A%20100.0%25%3B%22%3EVille%20%3A%20Amsterdam%3Cbr%3E%20%20%20%20%20%20%20%20%20%20%20%20%20%20%20%20%20%20%20%20%20Prix%20moyen%20d%27un%20vol%20en%20%24%20%3A%2094%3Cbr%3E%3C/div%3E%60%29%5B0%5D%3B%0A%20%20%20%20%20%20%20%20%20%20%20%20%20%20%20%20popup_2674f10a757243cfaeddf74f623692ef.setContent%28html_6b7b622ab4304ce992fc4df387fa7584%29%3B%0A%20%20%20%20%20%20%20%20%20%20%20%20%0A%0A%20%20%20%20%20%20%20%20%20%20%20%20circle_marker_f71db6f0e0b0430fafda49f05b7c7574.bindPopup%28popup_2674f10a757243cfaeddf74f623692ef%29%0A%20%20%20%20%20%20%20%20%20%20%20%20%3B%0A%0A%20%20%20%20%20%20%20%20%20%20%20%20%0A%20%20%20%20%20%20%20%20%0A%20%20%20%20%0A%20%20%20%20%20%20%20%20%20%20%20%20var%20circle_marker_1c1b193f9cb64ebaa6b725790f13aab1%20%3D%20L.circleMarker%28%0A%20%20%20%20%20%20%20%20%20%20%20%20%20%20%20%20%5B37.93636%2C%2023.944470000000003%5D%2C%0A%20%20%20%20%20%20%20%20%20%20%20%20%20%20%20%20%7B%0A%20%20%22bubblingMouseEvents%22%3A%20true%2C%0A%20%20%22color%22%3A%20%22green%22%2C%0A%20%20%22dashArray%22%3A%20null%2C%0A%20%20%22dashOffset%22%3A%20null%2C%0A%20%20%22fill%22%3A%20true%2C%0A%20%20%22fillColor%22%3A%20%22green%22%2C%0A%20%20%22fillOpacity%22%3A%200.2%2C%0A%20%20%22fillRule%22%3A%20%22evenodd%22%2C%0A%20%20%22lineCap%22%3A%20%22round%22%2C%0A%20%20%22lineJoin%22%3A%20%22round%22%2C%0A%20%20%22opacity%22%3A%201.0%2C%0A%20%20%22radius%22%3A%2010%2C%0A%20%20%22stroke%22%3A%20true%2C%0A%20%20%22weight%22%3A%203%0A%7D%0A%20%20%20%20%20%20%20%20%20%20%20%20%20%20%20%20%29%0A%20%20%20%20%20%20%20%20%20%20%20%20%20%20%20%20.addTo%28map_933b305c4547429a8337eed5446dbb7a%29%3B%0A%20%20%20%20%20%20%20%20%20%20%20%20%0A%20%20%20%20%0A%20%20%20%20%20%20%20%20%20%20%20%20var%20popup_ef1b4f744c3941f19d27764e153cf864%20%3D%20L.popup%28%7BmaxWidth%3A%20%27100%25%27%0A%20%20%20%20%20%20%20%20%20%20%20%20%0A%20%20%20%20%20%20%20%20%20%20%20%20%7D%29%3B%0A%0A%20%20%20%20%20%20%20%20%20%20%20%20%0A%20%20%20%20%20%20%20%20%20%20%20%20%20%20%20%20var%20html_8f137b0d48cd46959f4405449a51acd2%20%3D%20%24%28%60%3Cdiv%20id%3D%22html_8f137b0d48cd46959f4405449a51acd2%22%20style%3D%22width%3A%20100.0%25%3B%20height%3A%20100.0%25%3B%22%3EVille%20%3A%20Athens%3Cbr%3E%20%20%20%20%20%20%20%20%20%20%20%20%20%20%20%20%20%20%20%20%20Prix%20moyen%20d%27un%20vol%20en%20%24%20%3A%20107%3Cbr%3E%3C/div%3E%60%29%5B0%5D%3B%0A%20%20%20%20%20%20%20%20%20%20%20%20%20%20%20%20popup_ef1b4f744c3941f19d27764e153cf864.setContent%28html_8f137b0d48cd46959f4405449a51acd2%29%3B%0A%20%20%20%20%20%20%20%20%20%20%20%20%0A%0A%20%20%20%20%20%20%20%20%20%20%20%20circle_marker_1c1b193f9cb64ebaa6b725790f13aab1.bindPopup%28popup_ef1b4f744c3941f19d27764e153cf864%29%0A%20%20%20%20%20%20%20%20%20%20%20%20%3B%0A%0A%20%20%20%20%20%20%20%20%20%20%20%20%0A%20%20%20%20%20%20%20%20%0A%20%20%20%20%0A%20%20%20%20%20%20%20%20%20%20%20%20var%20circle_marker_3c19026791d84de59d95c48795fa916d%20%3D%20L.circleMarker%28%0A%20%20%20%20%20%20%20%20%20%20%20%20%20%20%20%20%5B60.19392%2C%2011.10036%5D%2C%0A%20%20%20%20%20%20%20%20%20%20%20%20%20%20%20%20%7B%0A%20%20%22bubblingMouseEvents%22%3A%20true%2C%0A%20%20%22color%22%3A%20%22green%22%2C%0A%20%20%22dashArray%22%3A%20null%2C%0A%20%20%22dashOffset%22%3A%20null%2C%0A%20%20%22fill%22%3A%20true%2C%0A%20%20%22fillColor%22%3A%20%22green%22%2C%0A%20%20%22fillOpacity%22%3A%200.2%2C%0A%20%20%22fillRule%22%3A%20%22evenodd%22%2C%0A%20%20%22lineCap%22%3A%20%22round%22%2C%0A%20%20%22lineJoin%22%3A%20%22round%22%2C%0A%20%20%22opacity%22%3A%201.0%2C%0A%20%20%22radius%22%3A%2010%2C%0A%20%20%22stroke%22%3A%20true%2C%0A%20%20%22weight%22%3A%203%0A%7D%0A%20%20%20%20%20%20%20%20%20%20%20%20%20%20%20%20%29%0A%20%20%20%20%20%20%20%20%20%20%20%20%20%20%20%20.addTo%28map_933b305c4547429a8337eed5446dbb7a%29%3B%0A%20%20%20%20%20%20%20%20%20%20%20%20%0A%20%20%20%20%0A%20%20%20%20%20%20%20%20%20%20%20%20var%20popup_979f8485c0c246ce8ff420dde7c5f3c5%20%3D%20L.popup%28%7BmaxWidth%3A%20%27100%25%27%0A%20%20%20%20%20%20%20%20%20%20%20%20%0A%20%20%20%20%20%20%20%20%20%20%20%20%7D%29%3B%0A%0A%20%20%20%20%20%20%20%20%20%20%20%20%0A%20%20%20%20%20%20%20%20%20%20%20%20%20%20%20%20var%20html_4ea887dc67b14ae2b7b60ba74f85fecb%20%3D%20%24%28%60%3Cdiv%20id%3D%22html_4ea887dc67b14ae2b7b60ba74f85fecb%22%20style%3D%22width%3A%20100.0%25%3B%20height%3A%20100.0%25%3B%22%3EVille%20%3A%20Oslo%3Cbr%3E%20%20%20%20%20%20%20%20%20%20%20%20%20%20%20%20%20%20%20%20%20Prix%20moyen%20d%27un%20vol%20en%20%24%20%3A%20111%3Cbr%3E%3C/div%3E%60%29%5B0%5D%3B%0A%20%20%20%20%20%20%20%20%20%20%20%20%20%20%20%20popup_979f8485c0c246ce8ff420dde7c5f3c5.setContent%28html_4ea887dc67b14ae2b7b60ba74f85fecb%29%3B%0A%20%20%20%20%20%20%20%20%20%20%20%20%0A%0A%20%20%20%20%20%20%20%20%20%20%20%20circle_marker_3c19026791d84de59d95c48795fa916d.bindPopup%28popup_979f8485c0c246ce8ff420dde7c5f3c5%29%0A%20%20%20%20%20%20%20%20%20%20%20%20%3B%0A%0A%20%20%20%20%20%20%20%20%20%20%20%20%0A%20%20%20%20%20%20%20%20%0A%20%20%20%20%0A%20%20%20%20%20%20%20%20%20%20%20%20var%20circle_marker_bd957a77552c468e8b9f238faba73a84%20%3D%20L.circleMarker%28%0A%20%20%20%20%20%20%20%20%20%20%20%20%20%20%20%20%5B60.31721999999999%2C%2024.96333%5D%2C%0A%20%20%20%20%20%20%20%20%20%20%20%20%20%20%20%20%7B%0A%20%20%22bubblingMouseEvents%22%3A%20true%2C%0A%20%20%22color%22%3A%20%22green%22%2C%0A%20%20%22dashArray%22%3A%20null%2C%0A%20%20%22dashOffset%22%3A%20null%2C%0A%20%20%22fill%22%3A%20true%2C%0A%20%20%22fillColor%22%3A%20%22green%22%2C%0A%20%20%22fillOpacity%22%3A%200.2%2C%0A%20%20%22fillRule%22%3A%20%22evenodd%22%2C%0A%20%20%22lineCap%22%3A%20%22round%22%2C%0A%20%20%22lineJoin%22%3A%20%22round%22%2C%0A%20%20%22opacity%22%3A%201.0%2C%0A%20%20%22radius%22%3A%2010%2C%0A%20%20%22stroke%22%3A%20true%2C%0A%20%20%22weight%22%3A%203%0A%7D%0A%20%20%20%20%20%20%20%20%20%20%20%20%20%20%20%20%29%0A%20%20%20%20%20%20%20%20%20%20%20%20%20%20%20%20.addTo%28map_933b305c4547429a8337eed5446dbb7a%29%3B%0A%20%20%20%20%20%20%20%20%20%20%20%20%0A%20%20%20%20%0A%20%20%20%20%20%20%20%20%20%20%20%20var%20popup_ae36e420440e4f8880a868841f6df5bf%20%3D%20L.popup%28%7BmaxWidth%3A%20%27100%25%27%0A%20%20%20%20%20%20%20%20%20%20%20%20%0A%20%20%20%20%20%20%20%20%20%20%20%20%7D%29%3B%0A%0A%20%20%20%20%20%20%20%20%20%20%20%20%0A%20%20%20%20%20%20%20%20%20%20%20%20%20%20%20%20var%20html_3be1aee0762a40da9228a1a4efce32f6%20%3D%20%24%28%60%3Cdiv%20id%3D%22html_3be1aee0762a40da9228a1a4efce32f6%22%20style%3D%22width%3A%20100.0%25%3B%20height%3A%20100.0%25%3B%22%3EVille%20%3A%20Helsinki%3Cbr%3E%20%20%20%20%20%20%20%20%20%20%20%20%20%20%20%20%20%20%20%20%20Prix%20moyen%20d%27un%20vol%20en%20%24%20%3A%20141%3Cbr%3E%3C/div%3E%60%29%5B0%5D%3B%0A%20%20%20%20%20%20%20%20%20%20%20%20%20%20%20%20popup_ae36e420440e4f8880a868841f6df5bf.setContent%28html_3be1aee0762a40da9228a1a4efce32f6%29%3B%0A%20%20%20%20%20%20%20%20%20%20%20%20%0A%0A%20%20%20%20%20%20%20%20%20%20%20%20circle_marker_bd957a77552c468e8b9f238faba73a84.bindPopup%28popup_ae36e420440e4f8880a868841f6df5bf%29%0A%20%20%20%20%20%20%20%20%20%20%20%20%3B%0A%0A%20%20%20%20%20%20%20%20%20%20%20%20%0A%20%20%20%20%20%20%20%20%0A%20%20%20%20%0A%20%20%20%20%20%20%20%20%20%20%20%20var%20circle_marker_c80f4cae84364e43af87fd35e3c7d73e%20%3D%20L.circleMarker%28%0A%20%20%20%20%20%20%20%20%20%20%20%20%20%20%20%20%5B36.85103%2C%2010.22722%5D%2C%0A%20%20%20%20%20%20%20%20%20%20%20%20%20%20%20%20%7B%0A%20%20%22bubblingMouseEvents%22%3A%20true%2C%0A%20%20%22color%22%3A%20%22green%22%2C%0A%20%20%22dashArray%22%3A%20null%2C%0A%20%20%22dashOffset%22%3A%20null%2C%0A%20%20%22fill%22%3A%20true%2C%0A%20%20%22fillColor%22%3A%20%22green%22%2C%0A%20%20%22fillOpacity%22%3A%200.2%2C%0A%20%20%22fillRule%22%3A%20%22evenodd%22%2C%0A%20%20%22lineCap%22%3A%20%22round%22%2C%0A%20%20%22lineJoin%22%3A%20%22round%22%2C%0A%20%20%22opacity%22%3A%201.0%2C%0A%20%20%22radius%22%3A%2010%2C%0A%20%20%22stroke%22%3A%20true%2C%0A%20%20%22weight%22%3A%203%0A%7D%0A%20%20%20%20%20%20%20%20%20%20%20%20%20%20%20%20%29%0A%20%20%20%20%20%20%20%20%20%20%20%20%20%20%20%20.addTo%28map_933b305c4547429a8337eed5446dbb7a%29%3B%0A%20%20%20%20%20%20%20%20%20%20%20%20%0A%20%20%20%20%0A%20%20%20%20%20%20%20%20%20%20%20%20var%20popup_082ae517fc6348479a7473f80725185a%20%3D%20L.popup%28%7BmaxWidth%3A%20%27100%25%27%0A%20%20%20%20%20%20%20%20%20%20%20%20%0A%20%20%20%20%20%20%20%20%20%20%20%20%7D%29%3B%0A%0A%20%20%20%20%20%20%20%20%20%20%20%20%0A%20%20%20%20%20%20%20%20%20%20%20%20%20%20%20%20var%20html_70a5ae6c3ea74ff59ecc487a12bd4393%20%3D%20%24%28%60%3Cdiv%20id%3D%22html_70a5ae6c3ea74ff59ecc487a12bd4393%22%20style%3D%22width%3A%20100.0%25%3B%20height%3A%20100.0%25%3B%22%3EVille%20%3A%20Tunis%3Cbr%3E%20%20%20%20%20%20%20%20%20%20%20%20%20%20%20%20%20%20%20%20%20Prix%20moyen%20d%27un%20vol%20en%20%24%20%3A%20150%3Cbr%3E%3C/div%3E%60%29%5B0%5D%3B%0A%20%20%20%20%20%20%20%20%20%20%20%20%20%20%20%20popup_082ae517fc6348479a7473f80725185a.setContent%28html_70a5ae6c3ea74ff59ecc487a12bd4393%29%3B%0A%20%20%20%20%20%20%20%20%20%20%20%20%0A%0A%20%20%20%20%20%20%20%20%20%20%20%20circle_marker_c80f4cae84364e43af87fd35e3c7d73e.bindPopup%28popup_082ae517fc6348479a7473f80725185a%29%0A%20%20%20%20%20%20%20%20%20%20%20%20%3B%0A%0A%20%20%20%20%20%20%20%20%20%20%20%20%0A%20%20%20%20%20%20%20%20%0A%20%20%20%20%0A%20%20%20%20%20%20%20%20%20%20%20%20var%20circle_marker_7466288f70364d1ea45a966a8b0d6cf1%20%3D%20L.circleMarker%28%0A%20%20%20%20%20%20%20%20%20%20%20%20%20%20%20%20%5B51.50735%2C%20-0.12766%5D%2C%0A%20%20%20%20%20%20%20%20%20%20%20%20%20%20%20%20%7B%0A%20%20%22bubblingMouseEvents%22%3A%20true%2C%0A%20%20%22color%22%3A%20%22green%22%2C%0A%20%20%22dashArray%22%3A%20null%2C%0A%20%20%22dashOffset%22%3A%20null%2C%0A%20%20%22fill%22%3A%20true%2C%0A%20%20%22fillColor%22%3A%20%22green%22%2C%0A%20%20%22fillOpacity%22%3A%200.2%2C%0A%20%20%22fillRule%22%3A%20%22evenodd%22%2C%0A%20%20%22lineCap%22%3A%20%22round%22%2C%0A%20%20%22lineJoin%22%3A%20%22round%22%2C%0A%20%20%22opacity%22%3A%201.0%2C%0A%20%20%22radius%22%3A%2010%2C%0A%20%20%22stroke%22%3A%20true%2C%0A%20%20%22weight%22%3A%203%0A%7D%0A%20%20%20%20%20%20%20%20%20%20%20%20%20%20%20%20%29%0A%20%20%20%20%20%20%20%20%20%20%20%20%20%20%20%20.addTo%28map_933b305c4547429a8337eed5446dbb7a%29%3B%0A%20%20%20%20%20%20%20%20%20%20%20%20%0A%20%20%20%20%0A%20%20%20%20%20%20%20%20%20%20%20%20var%20popup_bfae871d3ead474f819c7776c1270c1d%20%3D%20L.popup%28%7BmaxWidth%3A%20%27100%25%27%0A%20%20%20%20%20%20%20%20%20%20%20%20%0A%20%20%20%20%20%20%20%20%20%20%20%20%7D%29%3B%0A%0A%20%20%20%20%20%20%20%20%20%20%20%20%0A%20%20%20%20%20%20%20%20%20%20%20%20%20%20%20%20var%20html_db9b288e48a14b48ade1ddc0d1754977%20%3D%20%24%28%60%3Cdiv%20id%3D%22html_db9b288e48a14b48ade1ddc0d1754977%22%20style%3D%22width%3A%20100.0%25%3B%20height%3A%20100.0%25%3B%22%3EVille%20%3A%20London%3Cbr%3E%20%20%20%20%20%20%20%20%20%20%20%20%20%20%20%20%20%20%20%20%20Prix%20moyen%20d%27un%20vol%20en%20%24%20%3A%20153%3Cbr%3E%3C/div%3E%60%29%5B0%5D%3B%0A%20%20%20%20%20%20%20%20%20%20%20%20%20%20%20%20popup_bfae871d3ead474f819c7776c1270c1d.setContent%28html_db9b288e48a14b48ade1ddc0d1754977%29%3B%0A%20%20%20%20%20%20%20%20%20%20%20%20%0A%0A%20%20%20%20%20%20%20%20%20%20%20%20circle_marker_7466288f70364d1ea45a966a8b0d6cf1.bindPopup%28popup_bfae871d3ead474f819c7776c1270c1d%29%0A%20%20%20%20%20%20%20%20%20%20%20%20%3B%0A%0A%20%20%20%20%20%20%20%20%20%20%20%20%0A%20%20%20%20%20%20%20%20%0A%20%20%20%20%0A%20%20%20%20%20%20%20%20%20%20%20%20var%20circle_marker_0e442adec0be4378b5bee95e09d59d68%20%3D%20L.circleMarker%28%0A%20%20%20%20%20%20%20%20%20%20%20%20%20%20%20%20%5B38.41885%2C%2027.12872%5D%2C%0A%20%20%20%20%20%20%20%20%20%20%20%20%20%20%20%20%7B%0A%20%20%22bubblingMouseEvents%22%3A%20true%2C%0A%20%20%22color%22%3A%20%22green%22%2C%0A%20%20%22dashArray%22%3A%20null%2C%0A%20%20%22dashOffset%22%3A%20null%2C%0A%20%20%22fill%22%3A%20true%2C%0A%20%20%22fillColor%22%3A%20%22green%22%2C%0A%20%20%22fillOpacity%22%3A%200.2%2C%0A%20%20%22fillRule%22%3A%20%22evenodd%22%2C%0A%20%20%22lineCap%22%3A%20%22round%22%2C%0A%20%20%22lineJoin%22%3A%20%22round%22%2C%0A%20%20%22opacity%22%3A%201.0%2C%0A%20%20%22radius%22%3A%2010%2C%0A%20%20%22stroke%22%3A%20true%2C%0A%20%20%22weight%22%3A%203%0A%7D%0A%20%20%20%20%20%20%20%20%20%20%20%20%20%20%20%20%29%0A%20%20%20%20%20%20%20%20%20%20%20%20%20%20%20%20.addTo%28map_933b305c4547429a8337eed5446dbb7a%29%3B%0A%20%20%20%20%20%20%20%20%20%20%20%20%0A%20%20%20%20%0A%20%20%20%20%20%20%20%20%20%20%20%20var%20popup_55b74e700ed9420fafca197daa29f099%20%3D%20L.popup%28%7BmaxWidth%3A%20%27100%25%27%0A%20%20%20%20%20%20%20%20%20%20%20%20%0A%20%20%20%20%20%20%20%20%20%20%20%20%7D%29%3B%0A%0A%20%20%20%20%20%20%20%20%20%20%20%20%0A%20%20%20%20%20%20%20%20%20%20%20%20%20%20%20%20var%20html_4901bcf9b1714d5497f0721824a4d7bc%20%3D%20%24%28%60%3Cdiv%20id%3D%22html_4901bcf9b1714d5497f0721824a4d7bc%22%20style%3D%22width%3A%20100.0%25%3B%20height%3A%20100.0%25%3B%22%3EVille%20%3A%20Izmir%3Cbr%3E%20%20%20%20%20%20%20%20%20%20%20%20%20%20%20%20%20%20%20%20%20Prix%20moyen%20d%27un%20vol%20en%20%24%20%3A%20160%3Cbr%3E%3C/div%3E%60%29%5B0%5D%3B%0A%20%20%20%20%20%20%20%20%20%20%20%20%20%20%20%20popup_55b74e700ed9420fafca197daa29f099.setContent%28html_4901bcf9b1714d5497f0721824a4d7bc%29%3B%0A%20%20%20%20%20%20%20%20%20%20%20%20%0A%0A%20%20%20%20%20%20%20%20%20%20%20%20circle_marker_0e442adec0be4378b5bee95e09d59d68.bindPopup%28popup_55b74e700ed9420fafca197daa29f099%29%0A%20%20%20%20%20%20%20%20%20%20%20%20%3B%0A%0A%20%20%20%20%20%20%20%20%20%20%20%20%0A%20%20%20%20%20%20%20%20%0A%20%20%20%20%0A%20%20%20%20%20%20%20%20%20%20%20%20var%20circle_marker_fd629331302947c7ac31904849957892%20%3D%20L.circleMarker%28%0A%20%20%20%20%20%20%20%20%20%20%20%20%20%20%20%20%5B36.89873%2C%2030.80046%5D%2C%0A%20%20%20%20%20%20%20%20%20%20%20%20%20%20%20%20%7B%0A%20%20%22bubblingMouseEvents%22%3A%20true%2C%0A%20%20%22color%22%3A%20%22green%22%2C%0A%20%20%22dashArray%22%3A%20null%2C%0A%20%20%22dashOffset%22%3A%20null%2C%0A%20%20%22fill%22%3A%20true%2C%0A%20%20%22fillColor%22%3A%20%22green%22%2C%0A%20%20%22fillOpacity%22%3A%200.2%2C%0A%20%20%22fillRule%22%3A%20%22evenodd%22%2C%0A%20%20%22lineCap%22%3A%20%22round%22%2C%0A%20%20%22lineJoin%22%3A%20%22round%22%2C%0A%20%20%22opacity%22%3A%201.0%2C%0A%20%20%22radius%22%3A%2010%2C%0A%20%20%22stroke%22%3A%20true%2C%0A%20%20%22weight%22%3A%203%0A%7D%0A%20%20%20%20%20%20%20%20%20%20%20%20%20%20%20%20%29%0A%20%20%20%20%20%20%20%20%20%20%20%20%20%20%20%20.addTo%28map_933b305c4547429a8337eed5446dbb7a%29%3B%0A%20%20%20%20%20%20%20%20%20%20%20%20%0A%20%20%20%20%0A%20%20%20%20%20%20%20%20%20%20%20%20var%20popup_6aa3cad735c14b46a597355913f338f0%20%3D%20L.popup%28%7BmaxWidth%3A%20%27100%25%27%0A%20%20%20%20%20%20%20%20%20%20%20%20%0A%20%20%20%20%20%20%20%20%20%20%20%20%7D%29%3B%0A%0A%20%20%20%20%20%20%20%20%20%20%20%20%0A%20%20%20%20%20%20%20%20%20%20%20%20%20%20%20%20var%20html_7e70f775acb94bd4af6c925d549f854b%20%3D%20%24%28%60%3Cdiv%20id%3D%22html_7e70f775acb94bd4af6c925d549f854b%22%20style%3D%22width%3A%20100.0%25%3B%20height%3A%20100.0%25%3B%22%3EVille%20%3A%20Antalya%3Cbr%3E%20%20%20%20%20%20%20%20%20%20%20%20%20%20%20%20%20%20%20%20%20Prix%20moyen%20d%27un%20vol%20en%20%24%20%3A%20188%3Cbr%3E%3C/div%3E%60%29%5B0%5D%3B%0A%20%20%20%20%20%20%20%20%20%20%20%20%20%20%20%20popup_6aa3cad735c14b46a597355913f338f0.setContent%28html_7e70f775acb94bd4af6c925d549f854b%29%3B%0A%20%20%20%20%20%20%20%20%20%20%20%20%0A%0A%20%20%20%20%20%20%20%20%20%20%20%20circle_marker_fd629331302947c7ac31904849957892.bindPopup%28popup_6aa3cad735c14b46a597355913f338f0%29%0A%20%20%20%20%20%20%20%20%20%20%20%20%3B%0A%0A%20%20%20%20%20%20%20%20%20%20%20%20%0A%20%20%20%20%20%20%20%20%0A%20%20%20%20%0A%20%20%20%20%20%20%20%20%20%20%20%20var%20circle_marker_b2939148bda34969b9395ece63f4af4f%20%3D%20L.circleMarker%28%0A%20%20%20%20%20%20%20%20%20%20%20%20%20%20%20%20%5B30.325%2C%20-9.41307%5D%2C%0A%20%20%20%20%20%20%20%20%20%20%20%20%20%20%20%20%7B%0A%20%20%22bubblingMouseEvents%22%3A%20true%2C%0A%20%20%22color%22%3A%20%22green%22%2C%0A%20%20%22dashArray%22%3A%20null%2C%0A%20%20%22dashOffset%22%3A%20null%2C%0A%20%20%22fill%22%3A%20true%2C%0A%20%20%22fillColor%22%3A%20%22green%22%2C%0A%20%20%22fillOpacity%22%3A%200.2%2C%0A%20%20%22fillRule%22%3A%20%22evenodd%22%2C%0A%20%20%22lineCap%22%3A%20%22round%22%2C%0A%20%20%22lineJoin%22%3A%20%22round%22%2C%0A%20%20%22opacity%22%3A%201.0%2C%0A%20%20%22radius%22%3A%2010%2C%0A%20%20%22stroke%22%3A%20true%2C%0A%20%20%22weight%22%3A%203%0A%7D%0A%20%20%20%20%20%20%20%20%20%20%20%20%20%20%20%20%29%0A%20%20%20%20%20%20%20%20%20%20%20%20%20%20%20%20.addTo%28map_933b305c4547429a8337eed5446dbb7a%29%3B%0A%20%20%20%20%20%20%20%20%20%20%20%20%0A%20%20%20%20%0A%20%20%20%20%20%20%20%20%20%20%20%20var%20popup_87e933311dee4dc19952dc2ac7c667a3%20%3D%20L.popup%28%7BmaxWidth%3A%20%27100%25%27%0A%20%20%20%20%20%20%20%20%20%20%20%20%0A%20%20%20%20%20%20%20%20%20%20%20%20%7D%29%3B%0A%0A%20%20%20%20%20%20%20%20%20%20%20%20%0A%20%20%20%20%20%20%20%20%20%20%20%20%20%20%20%20var%20html_c42bfe2dc4674f71b39d6de07a72bdd1%20%3D%20%24%28%60%3Cdiv%20id%3D%22html_c42bfe2dc4674f71b39d6de07a72bdd1%22%20style%3D%22width%3A%20100.0%25%3B%20height%3A%20100.0%25%3B%22%3EVille%20%3A%20Agadir%3Cbr%3E%20%20%20%20%20%20%20%20%20%20%20%20%20%20%20%20%20%20%20%20%20Prix%20moyen%20d%27un%20vol%20en%20%24%20%3A%20197%3Cbr%3E%3C/div%3E%60%29%5B0%5D%3B%0A%20%20%20%20%20%20%20%20%20%20%20%20%20%20%20%20popup_87e933311dee4dc19952dc2ac7c667a3.setContent%28html_c42bfe2dc4674f71b39d6de07a72bdd1%29%3B%0A%20%20%20%20%20%20%20%20%20%20%20%20%0A%0A%20%20%20%20%20%20%20%20%20%20%20%20circle_marker_b2939148bda34969b9395ece63f4af4f.bindPopup%28popup_87e933311dee4dc19952dc2ac7c667a3%29%0A%20%20%20%20%20%20%20%20%20%20%20%20%3B%0A%0A%20%20%20%20%20%20%20%20%20%20%20%20%0A%20%20%20%20%20%20%20%20%0A%20%20%20%20%0A%20%20%20%20%20%20%20%20%20%20%20%20var%20circle_marker_04e9f8e7c7704f918c49718e0a7b882a%20%3D%20L.circleMarker%28%0A%20%20%20%20%20%20%20%20%20%20%20%20%20%20%20%20%5B33.367470000000004%2C%20-7.58997%5D%2C%0A%20%20%20%20%20%20%20%20%20%20%20%20%20%20%20%20%7B%0A%20%20%22bubblingMouseEvents%22%3A%20true%2C%0A%20%20%22color%22%3A%20%22green%22%2C%0A%20%20%22dashArray%22%3A%20null%2C%0A%20%20%22dashOffset%22%3A%20null%2C%0A%20%20%22fill%22%3A%20true%2C%0A%20%20%22fillColor%22%3A%20%22green%22%2C%0A%20%20%22fillOpacity%22%3A%200.2%2C%0A%20%20%22fillRule%22%3A%20%22evenodd%22%2C%0A%20%20%22lineCap%22%3A%20%22round%22%2C%0A%20%20%22lineJoin%22%3A%20%22round%22%2C%0A%20%20%22opacity%22%3A%201.0%2C%0A%20%20%22radius%22%3A%2010%2C%0A%20%20%22stroke%22%3A%20true%2C%0A%20%20%22weight%22%3A%203%0A%7D%0A%20%20%20%20%20%20%20%20%20%20%20%20%20%20%20%20%29%0A%20%20%20%20%20%20%20%20%20%20%20%20%20%20%20%20.addTo%28map_933b305c4547429a8337eed5446dbb7a%29%3B%0A%20%20%20%20%20%20%20%20%20%20%20%20%0A%20%20%20%20%0A%20%20%20%20%20%20%20%20%20%20%20%20var%20popup_87d3ebacac0d40aaa0ec94cfaed42285%20%3D%20L.popup%28%7BmaxWidth%3A%20%27100%25%27%0A%20%20%20%20%20%20%20%20%20%20%20%20%0A%20%20%20%20%20%20%20%20%20%20%20%20%7D%29%3B%0A%0A%20%20%20%20%20%20%20%20%20%20%20%20%0A%20%20%20%20%20%20%20%20%20%20%20%20%20%20%20%20var%20html_0977da666fd74307b617a1f8b1821eb7%20%3D%20%24%28%60%3Cdiv%20id%3D%22html_0977da666fd74307b617a1f8b1821eb7%22%20style%3D%22width%3A%20100.0%25%3B%20height%3A%20100.0%25%3B%22%3EVille%20%3A%20Casablanca%3Cbr%3E%20%20%20%20%20%20%20%20%20%20%20%20%20%20%20%20%20%20%20%20%20Prix%20moyen%20d%27un%20vol%20en%20%24%20%3A%20254%3Cbr%3E%3C/div%3E%60%29%5B0%5D%3B%0A%20%20%20%20%20%20%20%20%20%20%20%20%20%20%20%20popup_87d3ebacac0d40aaa0ec94cfaed42285.setContent%28html_0977da666fd74307b617a1f8b1821eb7%29%3B%0A%20%20%20%20%20%20%20%20%20%20%20%20%0A%0A%20%20%20%20%20%20%20%20%20%20%20%20circle_marker_04e9f8e7c7704f918c49718e0a7b882a.bindPopup%28popup_87d3ebacac0d40aaa0ec94cfaed42285%29%0A%20%20%20%20%20%20%20%20%20%20%20%20%3B%0A%0A%20%20%20%20%20%20%20%20%20%20%20%20%0A%20%20%20%20%20%20%20%20%0A%20%20%20%20%0A%20%20%20%20%20%20%20%20%20%20%20%20var%20circle_marker_5557966d1657483c947da686d18b5f9b%20%3D%20L.circleMarker%28%0A%20%20%20%20%20%20%20%20%20%20%20%20%20%20%20%20%5B41.90278%2C%2012.49637%5D%2C%0A%20%20%20%20%20%20%20%20%20%20%20%20%20%20%20%20%7B%0A%20%20%22bubblingMouseEvents%22%3A%20true%2C%0A%20%20%22color%22%3A%20%22green%22%2C%0A%20%20%22dashArray%22%3A%20null%2C%0A%20%20%22dashOffset%22%3A%20null%2C%0A%20%20%22fill%22%3A%20true%2C%0A%20%20%22fillColor%22%3A%20%22green%22%2C%0A%20%20%22fillOpacity%22%3A%200.2%2C%0A%20%20%22fillRule%22%3A%20%22evenodd%22%2C%0A%20%20%22lineCap%22%3A%20%22round%22%2C%0A%20%20%22lineJoin%22%3A%20%22round%22%2C%0A%20%20%22opacity%22%3A%201.0%2C%0A%20%20%22radius%22%3A%2010%2C%0A%20%20%22stroke%22%3A%20true%2C%0A%20%20%22weight%22%3A%203%0A%7D%0A%20%20%20%20%20%20%20%20%20%20%20%20%20%20%20%20%29%0A%20%20%20%20%20%20%20%20%20%20%20%20%20%20%20%20.addTo%28map_933b305c4547429a8337eed5446dbb7a%29%3B%0A%20%20%20%20%20%20%20%20%20%20%20%20%0A%20%20%20%20%0A%20%20%20%20%20%20%20%20%20%20%20%20var%20popup_3acdce59d3b94a048d9b4fd8a16423d7%20%3D%20L.popup%28%7BmaxWidth%3A%20%27100%25%27%0A%20%20%20%20%20%20%20%20%20%20%20%20%0A%20%20%20%20%20%20%20%20%20%20%20%20%7D%29%3B%0A%0A%20%20%20%20%20%20%20%20%20%20%20%20%0A%20%20%20%20%20%20%20%20%20%20%20%20%20%20%20%20var%20html_d2cd0d56f5954eed879ea15deacfdd18%20%3D%20%24%28%60%3Cdiv%20id%3D%22html_d2cd0d56f5954eed879ea15deacfdd18%22%20style%3D%22width%3A%20100.0%25%3B%20height%3A%20100.0%25%3B%22%3EVille%20%3A%20Rome%3Cbr%3E%20%20%20%20%20%20%20%20%20%20%20%20%20%20%20%20%20%20%20%20%20Prix%20moyen%20d%27un%20vol%20en%20%24%20%3A%20256%3Cbr%3E%3C/div%3E%60%29%5B0%5D%3B%0A%20%20%20%20%20%20%20%20%20%20%20%20%20%20%20%20popup_3acdce59d3b94a048d9b4fd8a16423d7.setContent%28html_d2cd0d56f5954eed879ea15deacfdd18%29%3B%0A%20%20%20%20%20%20%20%20%20%20%20%20%0A%0A%20%20%20%20%20%20%20%20%20%20%20%20circle_marker_5557966d1657483c947da686d18b5f9b.bindPopup%28popup_3acdce59d3b94a048d9b4fd8a16423d7%29%0A%20%20%20%20%20%20%20%20%20%20%20%20%3B%0A%0A%20%20%20%20%20%20%20%20%20%20%20%20%0A%20%20%20%20%20%20%20%20%0A%20%20%20%20%0A%20%20%20%20%20%20%20%20%20%20%20%20var%20circle_marker_367af01009cf40e69166947c5d628ad9%20%3D%20L.circleMarker%28%0A%20%20%20%20%20%20%20%20%20%20%20%20%20%20%20%20%5B30.119564289709718%2C%2031.41070984130863%5D%2C%0A%20%20%20%20%20%20%20%20%20%20%20%20%20%20%20%20%7B%0A%20%20%22bubblingMouseEvents%22%3A%20true%2C%0A%20%20%22color%22%3A%20%22green%22%2C%0A%20%20%22dashArray%22%3A%20null%2C%0A%20%20%22dashOffset%22%3A%20null%2C%0A%20%20%22fill%22%3A%20true%2C%0A%20%20%22fillColor%22%3A%20%22green%22%2C%0A%20%20%22fillOpacity%22%3A%200.2%2C%0A%20%20%22fillRule%22%3A%20%22evenodd%22%2C%0A%20%20%22lineCap%22%3A%20%22round%22%2C%0A%20%20%22lineJoin%22%3A%20%22round%22%2C%0A%20%20%22opacity%22%3A%201.0%2C%0A%20%20%22radius%22%3A%2010%2C%0A%20%20%22stroke%22%3A%20true%2C%0A%20%20%22weight%22%3A%203%0A%7D%0A%20%20%20%20%20%20%20%20%20%20%20%20%20%20%20%20%29%0A%20%20%20%20%20%20%20%20%20%20%20%20%20%20%20%20.addTo%28map_933b305c4547429a8337eed5446dbb7a%29%3B%0A%20%20%20%20%20%20%20%20%20%20%20%20%0A%20%20%20%20%0A%20%20%20%20%20%20%20%20%20%20%20%20var%20popup_d4a00a99b1e14e65a799438a0a795887%20%3D%20L.popup%28%7BmaxWidth%3A%20%27100%25%27%0A%20%20%20%20%20%20%20%20%20%20%20%20%0A%20%20%20%20%20%20%20%20%20%20%20%20%7D%29%3B%0A%0A%20%20%20%20%20%20%20%20%20%20%20%20%0A%20%20%20%20%20%20%20%20%20%20%20%20%20%20%20%20var%20html_67839c159c554c33a23c1c1fa44e1f5f%20%3D%20%24%28%60%3Cdiv%20id%3D%22html_67839c159c554c33a23c1c1fa44e1f5f%22%20style%3D%22width%3A%20100.0%25%3B%20height%3A%20100.0%25%3B%22%3EVille%20%3A%20Cairo%3Cbr%3E%20%20%20%20%20%20%20%20%20%20%20%20%20%20%20%20%20%20%20%20%20Prix%20moyen%20d%27un%20vol%20en%20%24%20%3A%20288%3Cbr%3E%3C/div%3E%60%29%5B0%5D%3B%0A%20%20%20%20%20%20%20%20%20%20%20%20%20%20%20%20popup_d4a00a99b1e14e65a799438a0a795887.setContent%28html_67839c159c554c33a23c1c1fa44e1f5f%29%3B%0A%20%20%20%20%20%20%20%20%20%20%20%20%0A%0A%20%20%20%20%20%20%20%20%20%20%20%20circle_marker_367af01009cf40e69166947c5d628ad9.bindPopup%28popup_d4a00a99b1e14e65a799438a0a795887%29%0A%20%20%20%20%20%20%20%20%20%20%20%20%3B%0A%0A%20%20%20%20%20%20%20%20%20%20%20%20%0A%20%20%20%20%20%20%20%20%0A%20%20%20%20%0A%20%20%20%20%20%20%20%20%20%20%20%20var%20circle_marker_4f2adc638d38490ebfe3f1d74b5c3286%20%3D%20L.circleMarker%28%0A%20%20%20%20%20%20%20%20%20%20%20%20%20%20%20%20%5B55.75407%2C%2037.62037%5D%2C%0A%20%20%20%20%20%20%20%20%20%20%20%20%20%20%20%20%7B%0A%20%20%22bubblingMouseEvents%22%3A%20true%2C%0A%20%20%22color%22%3A%20%22green%22%2C%0A%20%20%22dashArray%22%3A%20null%2C%0A%20%20%22dashOffset%22%3A%20null%2C%0A%20%20%22fill%22%3A%20true%2C%0A%20%20%22fillColor%22%3A%20%22green%22%2C%0A%20%20%22fillOpacity%22%3A%200.2%2C%0A%20%20%22fillRule%22%3A%20%22evenodd%22%2C%0A%20%20%22lineCap%22%3A%20%22round%22%2C%0A%20%20%22lineJoin%22%3A%20%22round%22%2C%0A%20%20%22opacity%22%3A%201.0%2C%0A%20%20%22radius%22%3A%2010%2C%0A%20%20%22stroke%22%3A%20true%2C%0A%20%20%22weight%22%3A%203%0A%7D%0A%20%20%20%20%20%20%20%20%20%20%20%20%20%20%20%20%29%0A%20%20%20%20%20%20%20%20%20%20%20%20%20%20%20%20.addTo%28map_933b305c4547429a8337eed5446dbb7a%29%3B%0A%20%20%20%20%20%20%20%20%20%20%20%20%0A%20%20%20%20%0A%20%20%20%20%20%20%20%20%20%20%20%20var%20popup_43ae7475fa204170a6755d8971f4cab9%20%3D%20L.popup%28%7BmaxWidth%3A%20%27100%25%27%0A%20%20%20%20%20%20%20%20%20%20%20%20%0A%20%20%20%20%20%20%20%20%20%20%20%20%7D%29%3B%0A%0A%20%20%20%20%20%20%20%20%20%20%20%20%0A%20%20%20%20%20%20%20%20%20%20%20%20%20%20%20%20var%20html_dac114b4e4314fb88e8238972ccbf546%20%3D%20%24%28%60%3Cdiv%20id%3D%22html_dac114b4e4314fb88e8238972ccbf546%22%20style%3D%22width%3A%20100.0%25%3B%20height%3A%20100.0%25%3B%22%3EVille%20%3A%20Moscow%3Cbr%3E%20%20%20%20%20%20%20%20%20%20%20%20%20%20%20%20%20%20%20%20%20Prix%20moyen%20d%27un%20vol%20en%20%24%20%3A%20315%3Cbr%3E%3C/div%3E%60%29%5B0%5D%3B%0A%20%20%20%20%20%20%20%20%20%20%20%20%20%20%20%20popup_43ae7475fa204170a6755d8971f4cab9.setContent%28html_dac114b4e4314fb88e8238972ccbf546%29%3B%0A%20%20%20%20%20%20%20%20%20%20%20%20%0A%0A%20%20%20%20%20%20%20%20%20%20%20%20circle_marker_4f2adc638d38490ebfe3f1d74b5c3286.bindPopup%28popup_43ae7475fa204170a6755d8971f4cab9%29%0A%20%20%20%20%20%20%20%20%20%20%20%20%3B%0A%0A%20%20%20%20%20%20%20%20%20%20%20%20%0A%20%20%20%20%20%20%20%20%0A%20%20%20%20%0A%20%20%20%20%20%20%20%20%20%20%20%20var%20circle_marker_12f5621b762c43bcba317f415c00e301%20%3D%20L.circleMarker%28%0A%20%20%20%20%20%20%20%20%20%20%20%20%20%20%20%20%5B25.25278%2C%2055.36444%5D%2C%0A%20%20%20%20%20%20%20%20%20%20%20%20%20%20%20%20%7B%0A%20%20%22bubblingMouseEvents%22%3A%20true%2C%0A%20%20%22color%22%3A%20%22yellow%22%2C%0A%20%20%22dashArray%22%3A%20null%2C%0A%20%20%22dashOffset%22%3A%20null%2C%0A%20%20%22fill%22%3A%20true%2C%0A%20%20%22fillColor%22%3A%20%22yellow%22%2C%0A%20%20%22fillOpacity%22%3A%200.2%2C%0A%20%20%22fillRule%22%3A%20%22evenodd%22%2C%0A%20%20%22lineCap%22%3A%20%22round%22%2C%0A%20%20%22lineJoin%22%3A%20%22round%22%2C%0A%20%20%22opacity%22%3A%201.0%2C%0A%20%20%22radius%22%3A%2010%2C%0A%20%20%22stroke%22%3A%20true%2C%0A%20%20%22weight%22%3A%203%0A%7D%0A%20%20%20%20%20%20%20%20%20%20%20%20%20%20%20%20%29%0A%20%20%20%20%20%20%20%20%20%20%20%20%20%20%20%20.addTo%28map_933b305c4547429a8337eed5446dbb7a%29%3B%0A%20%20%20%20%20%20%20%20%20%20%20%20%0A%20%20%20%20%0A%20%20%20%20%20%20%20%20%20%20%20%20var%20popup_6927cbedeaa945539aa64890e2138ecd%20%3D%20L.popup%28%7BmaxWidth%3A%20%27100%25%27%0A%20%20%20%20%20%20%20%20%20%20%20%20%0A%20%20%20%20%20%20%20%20%20%20%20%20%7D%29%3B%0A%0A%20%20%20%20%20%20%20%20%20%20%20%20%0A%20%20%20%20%20%20%20%20%20%20%20%20%20%20%20%20var%20html_cfa04400bd734c4e96617d55a987d9cb%20%3D%20%24%28%60%3Cdiv%20id%3D%22html_cfa04400bd734c4e96617d55a987d9cb%22%20style%3D%22width%3A%20100.0%25%3B%20height%3A%20100.0%25%3B%22%3EVille%20%3A%20Dubai%3Cbr%3E%20%20%20%20%20%20%20%20%20%20%20%20%20%20%20%20%20%20%20%20%20Prix%20moyen%20d%27un%20vol%20en%20%24%20%3A%20400%3Cbr%3E%3C/div%3E%60%29%5B0%5D%3B%0A%20%20%20%20%20%20%20%20%20%20%20%20%20%20%20%20popup_6927cbedeaa945539aa64890e2138ecd.setContent%28html_cfa04400bd734c4e96617d55a987d9cb%29%3B%0A%20%20%20%20%20%20%20%20%20%20%20%20%0A%0A%20%20%20%20%20%20%20%20%20%20%20%20circle_marker_12f5621b762c43bcba317f415c00e301.bindPopup%28popup_6927cbedeaa945539aa64890e2138ecd%29%0A%20%20%20%20%20%20%20%20%20%20%20%20%3B%0A%0A%20%20%20%20%20%20%20%20%20%20%20%20%0A%20%20%20%20%20%20%20%20%0A%20%20%20%20%0A%20%20%20%20%20%20%20%20%20%20%20%20var%20circle_marker_7dce1db295794577be5bd143206a223e%20%3D%20L.circleMarker%28%0A%20%20%20%20%20%20%20%20%20%20%20%20%20%20%20%20%5B45.46106%2C%20-73.75019%5D%2C%0A%20%20%20%20%20%20%20%20%20%20%20%20%20%20%20%20%7B%0A%20%20%22bubblingMouseEvents%22%3A%20true%2C%0A%20%20%22color%22%3A%20%22yellow%22%2C%0A%20%20%22dashArray%22%3A%20null%2C%0A%20%20%22dashOffset%22%3A%20null%2C%0A%20%20%22fill%22%3A%20true%2C%0A%20%20%22fillColor%22%3A%20%22yellow%22%2C%0A%20%20%22fillOpacity%22%3A%200.2%2C%0A%20%20%22fillRule%22%3A%20%22evenodd%22%2C%0A%20%20%22lineCap%22%3A%20%22round%22%2C%0A%20%20%22lineJoin%22%3A%20%22round%22%2C%0A%20%20%22opacity%22%3A%201.0%2C%0A%20%20%22radius%22%3A%2010%2C%0A%20%20%22stroke%22%3A%20true%2C%0A%20%20%22weight%22%3A%203%0A%7D%0A%20%20%20%20%20%20%20%20%20%20%20%20%20%20%20%20%29%0A%20%20%20%20%20%20%20%20%20%20%20%20%20%20%20%20.addTo%28map_933b305c4547429a8337eed5446dbb7a%29%3B%0A%20%20%20%20%20%20%20%20%20%20%20%20%0A%20%20%20%20%0A%20%20%20%20%20%20%20%20%20%20%20%20var%20popup_3ec9a96c9e4743c6b2a0bbf8b218b871%20%3D%20L.popup%28%7BmaxWidth%3A%20%27100%25%27%0A%20%20%20%20%20%20%20%20%20%20%20%20%0A%20%20%20%20%20%20%20%20%20%20%20%20%7D%29%3B%0A%0A%20%20%20%20%20%20%20%20%20%20%20%20%0A%20%20%20%20%20%20%20%20%20%20%20%20%20%20%20%20var%20html_2f6b2c4f7682486d8ad885ff72ed348c%20%3D%20%24%28%60%3Cdiv%20id%3D%22html_2f6b2c4f7682486d8ad885ff72ed348c%22%20style%3D%22width%3A%20100.0%25%3B%20height%3A%20100.0%25%3B%22%3EVille%20%3A%20Montreal%3Cbr%3E%20%20%20%20%20%20%20%20%20%20%20%20%20%20%20%20%20%20%20%20%20Prix%20moyen%20d%27un%20vol%20en%20%24%20%3A%20401%3Cbr%3E%3C/div%3E%60%29%5B0%5D%3B%0A%20%20%20%20%20%20%20%20%20%20%20%20%20%20%20%20popup_3ec9a96c9e4743c6b2a0bbf8b218b871.setContent%28html_2f6b2c4f7682486d8ad885ff72ed348c%29%3B%0A%20%20%20%20%20%20%20%20%20%20%20%20%0A%0A%20%20%20%20%20%20%20%20%20%20%20%20circle_marker_7dce1db295794577be5bd143206a223e.bindPopup%28popup_3ec9a96c9e4743c6b2a0bbf8b218b871%29%0A%20%20%20%20%20%20%20%20%20%20%20%20%3B%0A%0A%20%20%20%20%20%20%20%20%20%20%20%20%0A%20%20%20%20%20%20%20%20%0A%20%20%20%20%0A%20%20%20%20%20%20%20%20%20%20%20%20var%20circle_marker_a25dcb46c1f242ba8c9baa2cc5e7de0c%20%3D%20L.circleMarker%28%0A%20%20%20%20%20%20%20%20%20%20%20%20%20%20%20%20%5B40.75096%2C%20-73.98741%5D%2C%0A%20%20%20%20%20%20%20%20%20%20%20%20%20%20%20%20%7B%0A%20%20%22bubblingMouseEvents%22%3A%20true%2C%0A%20%20%22color%22%3A%20%22yellow%22%2C%0A%20%20%22dashArray%22%3A%20null%2C%0A%20%20%22dashOffset%22%3A%20null%2C%0A%20%20%22fill%22%3A%20true%2C%0A%20%20%22fillColor%22%3A%20%22yellow%22%2C%0A%20%20%22fillOpacity%22%3A%200.2%2C%0A%20%20%22fillRule%22%3A%20%22evenodd%22%2C%0A%20%20%22lineCap%22%3A%20%22round%22%2C%0A%20%20%22lineJoin%22%3A%20%22round%22%2C%0A%20%20%22opacity%22%3A%201.0%2C%0A%20%20%22radius%22%3A%2010%2C%0A%20%20%22stroke%22%3A%20true%2C%0A%20%20%22weight%22%3A%203%0A%7D%0A%20%20%20%20%20%20%20%20%20%20%20%20%20%20%20%20%29%0A%20%20%20%20%20%20%20%20%20%20%20%20%20%20%20%20.addTo%28map_933b305c4547429a8337eed5446dbb7a%29%3B%0A%20%20%20%20%20%20%20%20%20%20%20%20%0A%20%20%20%20%0A%20%20%20%20%20%20%20%20%20%20%20%20var%20popup_3f09943f82ad4a7c8b8036deba6d1a2e%20%3D%20L.popup%28%7BmaxWidth%3A%20%27100%25%27%0A%20%20%20%20%20%20%20%20%20%20%20%20%0A%20%20%20%20%20%20%20%20%20%20%20%20%7D%29%3B%0A%0A%20%20%20%20%20%20%20%20%20%20%20%20%0A%20%20%20%20%20%20%20%20%20%20%20%20%20%20%20%20var%20html_83629e8526e84ab7931bd16c2e8b489e%20%3D%20%24%28%60%3Cdiv%20id%3D%22html_83629e8526e84ab7931bd16c2e8b489e%22%20style%3D%22width%3A%20100.0%25%3B%20height%3A%20100.0%25%3B%22%3EVille%20%3A%20New%20York%3Cbr%3E%20%20%20%20%20%20%20%20%20%20%20%20%20%20%20%20%20%20%20%20%20Prix%20moyen%20d%27un%20vol%20en%20%24%20%3A%20460%3Cbr%3E%3C/div%3E%60%29%5B0%5D%3B%0A%20%20%20%20%20%20%20%20%20%20%20%20%20%20%20%20popup_3f09943f82ad4a7c8b8036deba6d1a2e.setContent%28html_83629e8526e84ab7931bd16c2e8b489e%29%3B%0A%20%20%20%20%20%20%20%20%20%20%20%20%0A%0A%20%20%20%20%20%20%20%20%20%20%20%20circle_marker_a25dcb46c1f242ba8c9baa2cc5e7de0c.bindPopup%28popup_3f09943f82ad4a7c8b8036deba6d1a2e%29%0A%20%20%20%20%20%20%20%20%20%20%20%20%3B%0A%0A%20%20%20%20%20%20%20%20%20%20%20%20%0A%20%20%20%20%20%20%20%20%0A%20%20%20%20%0A%20%20%20%20%20%20%20%20%20%20%20%20var%20circle_marker_bae7f97aabc448a2a99676c092c44032%20%3D%20L.circleMarker%28%0A%20%20%20%20%20%20%20%20%20%20%20%20%20%20%20%20%5B41.97959%2C%20-87.90446%5D%2C%0A%20%20%20%20%20%20%20%20%20%20%20%20%20%20%20%20%7B%0A%20%20%22bubblingMouseEvents%22%3A%20true%2C%0A%20%20%22color%22%3A%20%22yellow%22%2C%0A%20%20%22dashArray%22%3A%20null%2C%0A%20%20%22dashOffset%22%3A%20null%2C%0A%20%20%22fill%22%3A%20true%2C%0A%20%20%22fillColor%22%3A%20%22yellow%22%2C%0A%20%20%22fillOpacity%22%3A%200.2%2C%0A%20%20%22fillRule%22%3A%20%22evenodd%22%2C%0A%20%20%22lineCap%22%3A%20%22round%22%2C%0A%20%20%22lineJoin%22%3A%20%22round%22%2C%0A%20%20%22opacity%22%3A%201.0%2C%0A%20%20%22radius%22%3A%2010%2C%0A%20%20%22stroke%22%3A%20true%2C%0A%20%20%22weight%22%3A%203%0A%7D%0A%20%20%20%20%20%20%20%20%20%20%20%20%20%20%20%20%29%0A%20%20%20%20%20%20%20%20%20%20%20%20%20%20%20%20.addTo%28map_933b305c4547429a8337eed5446dbb7a%29%3B%0A%20%20%20%20%20%20%20%20%20%20%20%20%0A%20%20%20%20%0A%20%20%20%20%20%20%20%20%20%20%20%20var%20popup_18dc89c1c28f48909de6427b96133b10%20%3D%20L.popup%28%7BmaxWidth%3A%20%27100%25%27%0A%20%20%20%20%20%20%20%20%20%20%20%20%0A%20%20%20%20%20%20%20%20%20%20%20%20%7D%29%3B%0A%0A%20%20%20%20%20%20%20%20%20%20%20%20%0A%20%20%20%20%20%20%20%20%20%20%20%20%20%20%20%20var%20html_a0c98ca985a249ccb4934430273dbd44%20%3D%20%24%28%60%3Cdiv%20id%3D%22html_a0c98ca985a249ccb4934430273dbd44%22%20style%3D%22width%3A%20100.0%25%3B%20height%3A%20100.0%25%3B%22%3EVille%20%3A%20Chicago%3Cbr%3E%20%20%20%20%20%20%20%20%20%20%20%20%20%20%20%20%20%20%20%20%20Prix%20moyen%20d%27un%20vol%20en%20%24%20%3A%20517%3Cbr%3E%3C/div%3E%60%29%5B0%5D%3B%0A%20%20%20%20%20%20%20%20%20%20%20%20%20%20%20%20popup_18dc89c1c28f48909de6427b96133b10.setContent%28html_a0c98ca985a249ccb4934430273dbd44%29%3B%0A%20%20%20%20%20%20%20%20%20%20%20%20%0A%0A%20%20%20%20%20%20%20%20%20%20%20%20circle_marker_bae7f97aabc448a2a99676c092c44032.bindPopup%28popup_18dc89c1c28f48909de6427b96133b10%29%0A%20%20%20%20%20%20%20%20%20%20%20%20%3B%0A%0A%20%20%20%20%20%20%20%20%20%20%20%20%0A%20%20%20%20%20%20%20%20%0A%20%20%20%20%0A%20%20%20%20%20%20%20%20%20%20%20%20var%20circle_marker_795111fe812c432e9904d6972a3d1654%20%3D%20L.circleMarker%28%0A%20%20%20%20%20%20%20%20%20%20%20%20%20%20%20%20%5B41.97959%2C%20-87.90446%5D%2C%0A%20%20%20%20%20%20%20%20%20%20%20%20%20%20%20%20%7B%0A%20%20%22bubblingMouseEvents%22%3A%20true%2C%0A%20%20%22color%22%3A%20%22yellow%22%2C%0A%20%20%22dashArray%22%3A%20null%2C%0A%20%20%22dashOffset%22%3A%20null%2C%0A%20%20%22fill%22%3A%20true%2C%0A%20%20%22fillColor%22%3A%20%22yellow%22%2C%0A%20%20%22fillOpacity%22%3A%200.2%2C%0A%20%20%22fillRule%22%3A%20%22evenodd%22%2C%0A%20%20%22lineCap%22%3A%20%22round%22%2C%0A%20%20%22lineJoin%22%3A%20%22round%22%2C%0A%20%20%22opacity%22%3A%201.0%2C%0A%20%20%22radius%22%3A%2010%2C%0A%20%20%22stroke%22%3A%20true%2C%0A%20%20%22weight%22%3A%203%0A%7D%0A%20%20%20%20%20%20%20%20%20%20%20%20%20%20%20%20%29%0A%20%20%20%20%20%20%20%20%20%20%20%20%20%20%20%20.addTo%28map_933b305c4547429a8337eed5446dbb7a%29%3B%0A%20%20%20%20%20%20%20%20%20%20%20%20%0A%20%20%20%20%0A%20%20%20%20%20%20%20%20%20%20%20%20var%20popup_4101c3eaf3274a7288997c02b776e6de%20%3D%20L.popup%28%7BmaxWidth%3A%20%27100%25%27%0A%20%20%20%20%20%20%20%20%20%20%20%20%0A%20%20%20%20%20%20%20%20%20%20%20%20%7D%29%3B%0A%0A%20%20%20%20%20%20%20%20%20%20%20%20%0A%20%20%20%20%20%20%20%20%20%20%20%20%20%20%20%20var%20html_4c688f12649e4690a55360be2a8b8cc3%20%3D%20%24%28%60%3Cdiv%20id%3D%22html_4c688f12649e4690a55360be2a8b8cc3%22%20style%3D%22width%3A%20100.0%25%3B%20height%3A%20100.0%25%3B%22%3EVille%20%3A%20Chicago%3Cbr%3E%20%20%20%20%20%20%20%20%20%20%20%20%20%20%20%20%20%20%20%20%20Prix%20moyen%20d%27un%20vol%20en%20%24%20%3A%20517%3Cbr%3E%3C/div%3E%60%29%5B0%5D%3B%0A%20%20%20%20%20%20%20%20%20%20%20%20%20%20%20%20popup_4101c3eaf3274a7288997c02b776e6de.setContent%28html_4c688f12649e4690a55360be2a8b8cc3%29%3B%0A%20%20%20%20%20%20%20%20%20%20%20%20%0A%0A%20%20%20%20%20%20%20%20%20%20%20%20circle_marker_795111fe812c432e9904d6972a3d1654.bindPopup%28popup_4101c3eaf3274a7288997c02b776e6de%29%0A%20%20%20%20%20%20%20%20%20%20%20%20%3B%0A%0A%20%20%20%20%20%20%20%20%20%20%20%20%0A%20%20%20%20%20%20%20%20%0A%20%20%20%20%0A%20%20%20%20%20%20%20%20%20%20%20%20var%20circle_marker_7bb0570268224f31a94f98ddb98b7c14%20%3D%20L.circleMarker%28%0A%20%20%20%20%20%20%20%20%20%20%20%20%20%20%20%20%5B22.308154770027556%2C%20113.91861379882812%5D%2C%0A%20%20%20%20%20%20%20%20%20%20%20%20%20%20%20%20%7B%0A%20%20%22bubblingMouseEvents%22%3A%20true%2C%0A%20%20%22color%22%3A%20%22yellow%22%2C%0A%20%20%22dashArray%22%3A%20null%2C%0A%20%20%22dashOffset%22%3A%20null%2C%0A%20%20%22fill%22%3A%20true%2C%0A%20%20%22fillColor%22%3A%20%22yellow%22%2C%0A%20%20%22fillOpacity%22%3A%200.2%2C%0A%20%20%22fillRule%22%3A%20%22evenodd%22%2C%0A%20%20%22lineCap%22%3A%20%22round%22%2C%0A%20%20%22lineJoin%22%3A%20%22round%22%2C%0A%20%20%22opacity%22%3A%201.0%2C%0A%20%20%22radius%22%3A%2010%2C%0A%20%20%22stroke%22%3A%20true%2C%0A%20%20%22weight%22%3A%203%0A%7D%0A%20%20%20%20%20%20%20%20%20%20%20%20%20%20%20%20%29%0A%20%20%20%20%20%20%20%20%20%20%20%20%20%20%20%20.addTo%28map_933b305c4547429a8337eed5446dbb7a%29%3B%0A%20%20%20%20%20%20%20%20%20%20%20%20%0A%20%20%20%20%0A%20%20%20%20%20%20%20%20%20%20%20%20var%20popup_080542c2094c4fca854935f81fa508a9%20%3D%20L.popup%28%7BmaxWidth%3A%20%27100%25%27%0A%20%20%20%20%20%20%20%20%20%20%20%20%0A%20%20%20%20%20%20%20%20%20%20%20%20%7D%29%3B%0A%0A%20%20%20%20%20%20%20%20%20%20%20%20%0A%20%20%20%20%20%20%20%20%20%20%20%20%20%20%20%20var%20html_22e9036a092e4acd8f3547c257e757ca%20%3D%20%24%28%60%3Cdiv%20id%3D%22html_22e9036a092e4acd8f3547c257e757ca%22%20style%3D%22width%3A%20100.0%25%3B%20height%3A%20100.0%25%3B%22%3EVille%20%3A%20Hong%20Kong%3Cbr%3E%20%20%20%20%20%20%20%20%20%20%20%20%20%20%20%20%20%20%20%20%20Prix%20moyen%20d%27un%20vol%20en%20%24%20%3A%20540%3Cbr%3E%3C/div%3E%60%29%5B0%5D%3B%0A%20%20%20%20%20%20%20%20%20%20%20%20%20%20%20%20popup_080542c2094c4fca854935f81fa508a9.setContent%28html_22e9036a092e4acd8f3547c257e757ca%29%3B%0A%20%20%20%20%20%20%20%20%20%20%20%20%0A%0A%20%20%20%20%20%20%20%20%20%20%20%20circle_marker_7bb0570268224f31a94f98ddb98b7c14.bindPopup%28popup_080542c2094c4fca854935f81fa508a9%29%0A%20%20%20%20%20%20%20%20%20%20%20%20%3B%0A%0A%20%20%20%20%20%20%20%20%20%20%20%20%0A%20%20%20%20%20%20%20%20%0A%20%20%20%20%0A%20%20%20%20%20%20%20%20%20%20%20%20var%20circle_marker_72a8054ea8c64de79b6caeb3fdfbcea1%20%3D%20L.circleMarker%28%0A%20%20%20%20%20%20%20%20%20%20%20%20%20%20%20%20%5B29.647924467831096%2C%20-95.27740166137698%5D%2C%0A%20%20%20%20%20%20%20%20%20%20%20%20%20%20%20%20%7B%0A%20%20%22bubblingMouseEvents%22%3A%20true%2C%0A%20%20%22color%22%3A%20%22yellow%22%2C%0A%20%20%22dashArray%22%3A%20null%2C%0A%20%20%22dashOffset%22%3A%20null%2C%0A%20%20%22fill%22%3A%20true%2C%0A%20%20%22fillColor%22%3A%20%22yellow%22%2C%0A%20%20%22fillOpacity%22%3A%200.2%2C%0A%20%20%22fillRule%22%3A%20%22evenodd%22%2C%0A%20%20%22lineCap%22%3A%20%22round%22%2C%0A%20%20%22lineJoin%22%3A%20%22round%22%2C%0A%20%20%22opacity%22%3A%201.0%2C%0A%20%20%22radius%22%3A%2010%2C%0A%20%20%22stroke%22%3A%20true%2C%0A%20%20%22weight%22%3A%203%0A%7D%0A%20%20%20%20%20%20%20%20%20%20%20%20%20%20%20%20%29%0A%20%20%20%20%20%20%20%20%20%20%20%20%20%20%20%20.addTo%28map_933b305c4547429a8337eed5446dbb7a%29%3B%0A%20%20%20%20%20%20%20%20%20%20%20%20%0A%20%20%20%20%0A%20%20%20%20%20%20%20%20%20%20%20%20var%20popup_fb945490d9b04d46b0303ce6cd865af5%20%3D%20L.popup%28%7BmaxWidth%3A%20%27100%25%27%0A%20%20%20%20%20%20%20%20%20%20%20%20%0A%20%20%20%20%20%20%20%20%20%20%20%20%7D%29%3B%0A%0A%20%20%20%20%20%20%20%20%20%20%20%20%0A%20%20%20%20%20%20%20%20%20%20%20%20%20%20%20%20var%20html_e8e8a997fc5748c38d30894254b7ec6a%20%3D%20%24%28%60%3Cdiv%20id%3D%22html_e8e8a997fc5748c38d30894254b7ec6a%22%20style%3D%22width%3A%20100.0%25%3B%20height%3A%20100.0%25%3B%22%3EVille%20%3A%20Houston%3Cbr%3E%20%20%20%20%20%20%20%20%20%20%20%20%20%20%20%20%20%20%20%20%20Prix%20moyen%20d%27un%20vol%20en%20%24%20%3A%20554%3Cbr%3E%3C/div%3E%60%29%5B0%5D%3B%0A%20%20%20%20%20%20%20%20%20%20%20%20%20%20%20%20popup_fb945490d9b04d46b0303ce6cd865af5.setContent%28html_e8e8a997fc5748c38d30894254b7ec6a%29%3B%0A%20%20%20%20%20%20%20%20%20%20%20%20%0A%0A%20%20%20%20%20%20%20%20%20%20%20%20circle_marker_72a8054ea8c64de79b6caeb3fdfbcea1.bindPopup%28popup_fb945490d9b04d46b0303ce6cd865af5%29%0A%20%20%20%20%20%20%20%20%20%20%20%20%3B%0A%0A%20%20%20%20%20%20%20%20%20%20%20%20%0A%20%20%20%20%20%20%20%20%0A%20%20%20%20%0A%20%20%20%20%20%20%20%20%20%20%20%20var%20circle_marker_bb7793319af54e7ba6f98411fa74951c%20%3D%20L.circleMarker%28%0A%20%20%20%20%20%20%20%20%20%20%20%20%20%20%20%20%5B19.089663331035872%2C%2072.86551674072268%5D%2C%0A%20%20%20%20%20%20%20%20%20%20%20%20%20%20%20%20%7B%0A%20%20%22bubblingMouseEvents%22%3A%20true%2C%0A%20%20%22color%22%3A%20%22yellow%22%2C%0A%20%20%22dashArray%22%3A%20null%2C%0A%20%20%22dashOffset%22%3A%20null%2C%0A%20%20%22fill%22%3A%20true%2C%0A%20%20%22fillColor%22%3A%20%22yellow%22%2C%0A%20%20%22fillOpacity%22%3A%200.2%2C%0A%20%20%22fillRule%22%3A%20%22evenodd%22%2C%0A%20%20%22lineCap%22%3A%20%22round%22%2C%0A%20%20%22lineJoin%22%3A%20%22round%22%2C%0A%20%20%22opacity%22%3A%201.0%2C%0A%20%20%22radius%22%3A%2010%2C%0A%20%20%22stroke%22%3A%20true%2C%0A%20%20%22weight%22%3A%203%0A%7D%0A%20%20%20%20%20%20%20%20%20%20%20%20%20%20%20%20%29%0A%20%20%20%20%20%20%20%20%20%20%20%20%20%20%20%20.addTo%28map_933b305c4547429a8337eed5446dbb7a%29%3B%0A%20%20%20%20%20%20%20%20%20%20%20%20%0A%20%20%20%20%0A%20%20%20%20%20%20%20%20%20%20%20%20var%20popup_70f32e483c564d838d37512427d0b0e6%20%3D%20L.popup%28%7BmaxWidth%3A%20%27100%25%27%0A%20%20%20%20%20%20%20%20%20%20%20%20%0A%20%20%20%20%20%20%20%20%20%20%20%20%7D%29%3B%0A%0A%20%20%20%20%20%20%20%20%20%20%20%20%0A%20%20%20%20%20%20%20%20%20%20%20%20%20%20%20%20var%20html_07f320e149a84f9d80cb7449fb36899a%20%3D%20%24%28%60%3Cdiv%20id%3D%22html_07f320e149a84f9d80cb7449fb36899a%22%20style%3D%22width%3A%20100.0%25%3B%20height%3A%20100.0%25%3B%22%3EVille%20%3A%20Mumbai%3Cbr%3E%20%20%20%20%20%20%20%20%20%20%20%20%20%20%20%20%20%20%20%20%20Prix%20moyen%20d%27un%20vol%20en%20%24%20%3A%20570%3Cbr%3E%3C/div%3E%60%29%5B0%5D%3B%0A%20%20%20%20%20%20%20%20%20%20%20%20%20%20%20%20popup_70f32e483c564d838d37512427d0b0e6.setContent%28html_07f320e149a84f9d80cb7449fb36899a%29%3B%0A%20%20%20%20%20%20%20%20%20%20%20%20%0A%0A%20%20%20%20%20%20%20%20%20%20%20%20circle_marker_bb7793319af54e7ba6f98411fa74951c.bindPopup%28popup_70f32e483c564d838d37512427d0b0e6%29%0A%20%20%20%20%20%20%20%20%20%20%20%20%3B%0A%0A%20%20%20%20%20%20%20%20%20%20%20%20%0A%20%20%20%20%20%20%20%20%0A%20%20%20%20%0A%20%20%20%20%20%20%20%20%20%20%20%20var%20circle_marker_2b6f09201db249c3a1a488cfd1898211%20%3D%20L.circleMarker%28%0A%20%20%20%20%20%20%20%20%20%20%20%20%20%20%20%20%5B6.577369999999999%2C%203.32116%5D%2C%0A%20%20%20%20%20%20%20%20%20%20%20%20%20%20%20%20%7B%0A%20%20%22bubblingMouseEvents%22%3A%20true%2C%0A%20%20%22color%22%3A%20%22yellow%22%2C%0A%20%20%22dashArray%22%3A%20null%2C%0A%20%20%22dashOffset%22%3A%20null%2C%0A%20%20%22fill%22%3A%20true%2C%0A%20%20%22fillColor%22%3A%20%22yellow%22%2C%0A%20%20%22fillOpacity%22%3A%200.2%2C%0A%20%20%22fillRule%22%3A%20%22evenodd%22%2C%0A%20%20%22lineCap%22%3A%20%22round%22%2C%0A%20%20%22lineJoin%22%3A%20%22round%22%2C%0A%20%20%22opacity%22%3A%201.0%2C%0A%20%20%22radius%22%3A%2010%2C%0A%20%20%22stroke%22%3A%20true%2C%0A%20%20%22weight%22%3A%203%0A%7D%0A%20%20%20%20%20%20%20%20%20%20%20%20%20%20%20%20%29%0A%20%20%20%20%20%20%20%20%20%20%20%20%20%20%20%20.addTo%28map_933b305c4547429a8337eed5446dbb7a%29%3B%0A%20%20%20%20%20%20%20%20%20%20%20%20%0A%20%20%20%20%0A%20%20%20%20%20%20%20%20%20%20%20%20var%20popup_f31fcc6ecd9e4c27be26ebade34016be%20%3D%20L.popup%28%7BmaxWidth%3A%20%27100%25%27%0A%20%20%20%20%20%20%20%20%20%20%20%20%0A%20%20%20%20%20%20%20%20%20%20%20%20%7D%29%3B%0A%0A%20%20%20%20%20%20%20%20%20%20%20%20%0A%20%20%20%20%20%20%20%20%20%20%20%20%20%20%20%20var%20html_3dbf16504a2341ca9facdd44d60db8ad%20%3D%20%24%28%60%3Cdiv%20id%3D%22html_3dbf16504a2341ca9facdd44d60db8ad%22%20style%3D%22width%3A%20100.0%25%3B%20height%3A%20100.0%25%3B%22%3EVille%20%3A%20Lagos%3Cbr%3E%20%20%20%20%20%20%20%20%20%20%20%20%20%20%20%20%20%20%20%20%20Prix%20moyen%20d%27un%20vol%20en%20%24%20%3A%20572%3Cbr%3E%3C/div%3E%60%29%5B0%5D%3B%0A%20%20%20%20%20%20%20%20%20%20%20%20%20%20%20%20popup_f31fcc6ecd9e4c27be26ebade34016be.setContent%28html_3dbf16504a2341ca9facdd44d60db8ad%29%3B%0A%20%20%20%20%20%20%20%20%20%20%20%20%0A%0A%20%20%20%20%20%20%20%20%20%20%20%20circle_marker_2b6f09201db249c3a1a488cfd1898211.bindPopup%28popup_f31fcc6ecd9e4c27be26ebade34016be%29%0A%20%20%20%20%20%20%20%20%20%20%20%20%3B%0A%0A%20%20%20%20%20%20%20%20%20%20%20%20%0A%20%20%20%20%20%20%20%20%0A%20%20%20%20%0A%20%20%20%20%20%20%20%20%20%20%20%20var%20circle_marker_fc2526f75e564983a47643462a905058%20%3D%20L.circleMarker%28%0A%20%20%20%20%20%20%20%20%20%20%20%20%20%20%20%20%5B20.5218%2C%20-103.31117%5D%2C%0A%20%20%20%20%20%20%20%20%20%20%20%20%20%20%20%20%7B%0A%20%20%22bubblingMouseEvents%22%3A%20true%2C%0A%20%20%22color%22%3A%20%22orange%22%2C%0A%20%20%22dashArray%22%3A%20null%2C%0A%20%20%22dashOffset%22%3A%20null%2C%0A%20%20%22fill%22%3A%20true%2C%0A%20%20%22fillColor%22%3A%20%22orange%22%2C%0A%20%20%22fillOpacity%22%3A%200.2%2C%0A%20%20%22fillRule%22%3A%20%22evenodd%22%2C%0A%20%20%22lineCap%22%3A%20%22round%22%2C%0A%20%20%22lineJoin%22%3A%20%22round%22%2C%0A%20%20%22opacity%22%3A%201.0%2C%0A%20%20%22radius%22%3A%2010%2C%0A%20%20%22stroke%22%3A%20true%2C%0A%20%20%22weight%22%3A%203%0A%7D%0A%20%20%20%20%20%20%20%20%20%20%20%20%20%20%20%20%29%0A%20%20%20%20%20%20%20%20%20%20%20%20%20%20%20%20.addTo%28map_933b305c4547429a8337eed5446dbb7a%29%3B%0A%20%20%20%20%20%20%20%20%20%20%20%20%0A%20%20%20%20%0A%20%20%20%20%20%20%20%20%20%20%20%20var%20popup_5ea805f32bf6407687b1b6f20d7c986c%20%3D%20L.popup%28%7BmaxWidth%3A%20%27100%25%27%0A%20%20%20%20%20%20%20%20%20%20%20%20%0A%20%20%20%20%20%20%20%20%20%20%20%20%7D%29%3B%0A%0A%20%20%20%20%20%20%20%20%20%20%20%20%0A%20%20%20%20%20%20%20%20%20%20%20%20%20%20%20%20var%20html_8a9e2fac98a94cfa99bf58949b55ea13%20%3D%20%24%28%60%3Cdiv%20id%3D%22html_8a9e2fac98a94cfa99bf58949b55ea13%22%20style%3D%22width%3A%20100.0%25%3B%20height%3A%20100.0%25%3B%22%3EVille%20%3A%20Guadalajara%3Cbr%3E%20%20%20%20%20%20%20%20%20%20%20%20%20%20%20%20%20%20%20%20%20Prix%20moyen%20d%27un%20vol%20en%20%24%20%3A%20608%3Cbr%3E%3C/div%3E%60%29%5B0%5D%3B%0A%20%20%20%20%20%20%20%20%20%20%20%20%20%20%20%20popup_5ea805f32bf6407687b1b6f20d7c986c.setContent%28html_8a9e2fac98a94cfa99bf58949b55ea13%29%3B%0A%20%20%20%20%20%20%20%20%20%20%20%20%0A%0A%20%20%20%20%20%20%20%20%20%20%20%20circle_marker_fc2526f75e564983a47643462a905058.bindPopup%28popup_5ea805f32bf6407687b1b6f20d7c986c%29%0A%20%20%20%20%20%20%20%20%20%20%20%20%3B%0A%0A%20%20%20%20%20%20%20%20%20%20%20%20%0A%20%20%20%20%20%20%20%20%0A%20%20%20%20%0A%20%20%20%20%20%20%20%20%20%20%20%20var%20circle_marker_ba67927deb334f50a74d28984421ec7f%20%3D%20L.circleMarker%28%0A%20%20%20%20%20%20%20%20%20%20%20%20%20%20%20%20%5B11.54733%2C%2043.15948%5D%2C%0A%20%20%20%20%20%20%20%20%20%20%20%20%20%20%20%20%7B%0A%20%20%22bubblingMouseEvents%22%3A%20true%2C%0A%20%20%22color%22%3A%20%22orange%22%2C%0A%20%20%22dashArray%22%3A%20null%2C%0A%20%20%22dashOffset%22%3A%20null%2C%0A%20%20%22fill%22%3A%20true%2C%0A%20%20%22fillColor%22%3A%20%22orange%22%2C%0A%20%20%22fillOpacity%22%3A%200.2%2C%0A%20%20%22fillRule%22%3A%20%22evenodd%22%2C%0A%20%20%22lineCap%22%3A%20%22round%22%2C%0A%20%20%22lineJoin%22%3A%20%22round%22%2C%0A%20%20%22opacity%22%3A%201.0%2C%0A%20%20%22radius%22%3A%2010%2C%0A%20%20%22stroke%22%3A%20true%2C%0A%20%20%22weight%22%3A%203%0A%7D%0A%20%20%20%20%20%20%20%20%20%20%20%20%20%20%20%20%29%0A%20%20%20%20%20%20%20%20%20%20%20%20%20%20%20%20.addTo%28map_933b305c4547429a8337eed5446dbb7a%29%3B%0A%20%20%20%20%20%20%20%20%20%20%20%20%0A%20%20%20%20%0A%20%20%20%20%20%20%20%20%20%20%20%20var%20popup_d1c1d3352ae7455497e739e7ac994b3f%20%3D%20L.popup%28%7BmaxWidth%3A%20%27100%25%27%0A%20%20%20%20%20%20%20%20%20%20%20%20%0A%20%20%20%20%20%20%20%20%20%20%20%20%7D%29%3B%0A%0A%20%20%20%20%20%20%20%20%20%20%20%20%0A%20%20%20%20%20%20%20%20%20%20%20%20%20%20%20%20var%20html_cedbc6d06091433e87ecc0fa3d6a8d1a%20%3D%20%24%28%60%3Cdiv%20id%3D%22html_cedbc6d06091433e87ecc0fa3d6a8d1a%22%20style%3D%22width%3A%20100.0%25%3B%20height%3A%20100.0%25%3B%22%3EVille%20%3A%20Djibouti%3Cbr%3E%20%20%20%20%20%20%20%20%20%20%20%20%20%20%20%20%20%20%20%20%20Prix%20moyen%20d%27un%20vol%20en%20%24%20%3A%20627%3Cbr%3E%3C/div%3E%60%29%5B0%5D%3B%0A%20%20%20%20%20%20%20%20%20%20%20%20%20%20%20%20popup_d1c1d3352ae7455497e739e7ac994b3f.setContent%28html_cedbc6d06091433e87ecc0fa3d6a8d1a%29%3B%0A%20%20%20%20%20%20%20%20%20%20%20%20%0A%0A%20%20%20%20%20%20%20%20%20%20%20%20circle_marker_ba67927deb334f50a74d28984421ec7f.bindPopup%28popup_d1c1d3352ae7455497e739e7ac994b3f%29%0A%20%20%20%20%20%20%20%20%20%20%20%20%3B%0A%0A%20%20%20%20%20%20%20%20%20%20%20%20%0A%20%20%20%20%20%20%20%20%0A%20%20%20%20%0A%20%20%20%20%20%20%20%20%20%20%20%20var%20circle_marker_cb91283e5e1c409d883c1c5dbe9c103e%20%3D%20L.circleMarker%28%0A%20%20%20%20%20%20%20%20%20%20%20%20%20%20%20%20%5B10.59396494218611%2C%20-85.54389501586905%5D%2C%0A%20%20%20%20%20%20%20%20%20%20%20%20%20%20%20%20%7B%0A%20%20%22bubblingMouseEvents%22%3A%20true%2C%0A%20%20%22color%22%3A%20%22orange%22%2C%0A%20%20%22dashArray%22%3A%20null%2C%0A%20%20%22dashOffset%22%3A%20null%2C%0A%20%20%22fill%22%3A%20true%2C%0A%20%20%22fillColor%22%3A%20%22orange%22%2C%0A%20%20%22fillOpacity%22%3A%200.2%2C%0A%20%20%22fillRule%22%3A%20%22evenodd%22%2C%0A%20%20%22lineCap%22%3A%20%22round%22%2C%0A%20%20%22lineJoin%22%3A%20%22round%22%2C%0A%20%20%22opacity%22%3A%201.0%2C%0A%20%20%22radius%22%3A%2010%2C%0A%20%20%22stroke%22%3A%20true%2C%0A%20%20%22weight%22%3A%203%0A%7D%0A%20%20%20%20%20%20%20%20%20%20%20%20%20%20%20%20%29%0A%20%20%20%20%20%20%20%20%20%20%20%20%20%20%20%20.addTo%28map_933b305c4547429a8337eed5446dbb7a%29%3B%0A%20%20%20%20%20%20%20%20%20%20%20%20%0A%20%20%20%20%0A%20%20%20%20%20%20%20%20%20%20%20%20var%20popup_7902475498594d32a3639c21d0247f65%20%3D%20L.popup%28%7BmaxWidth%3A%20%27100%25%27%0A%20%20%20%20%20%20%20%20%20%20%20%20%0A%20%20%20%20%20%20%20%20%20%20%20%20%7D%29%3B%0A%0A%20%20%20%20%20%20%20%20%20%20%20%20%0A%20%20%20%20%20%20%20%20%20%20%20%20%20%20%20%20var%20html_0ad8f662414b4911be08533f74fa5697%20%3D%20%24%28%60%3Cdiv%20id%3D%22html_0ad8f662414b4911be08533f74fa5697%22%20style%3D%22width%3A%20100.0%25%3B%20height%3A%20100.0%25%3B%22%3EVille%20%3A%20Liberia%3Cbr%3E%20%20%20%20%20%20%20%20%20%20%20%20%20%20%20%20%20%20%20%20%20Prix%20moyen%20d%27un%20vol%20en%20%24%20%3A%20634%3Cbr%3E%3C/div%3E%60%29%5B0%5D%3B%0A%20%20%20%20%20%20%20%20%20%20%20%20%20%20%20%20popup_7902475498594d32a3639c21d0247f65.setContent%28html_0ad8f662414b4911be08533f74fa5697%29%3B%0A%20%20%20%20%20%20%20%20%20%20%20%20%0A%0A%20%20%20%20%20%20%20%20%20%20%20%20circle_marker_cb91283e5e1c409d883c1c5dbe9c103e.bindPopup%28popup_7902475498594d32a3639c21d0247f65%29%0A%20%20%20%20%20%20%20%20%20%20%20%20%3B%0A%0A%20%20%20%20%20%20%20%20%20%20%20%20%0A%20%20%20%20%20%20%20%20%0A%20%20%20%20%0A%20%20%20%20%20%20%20%20%20%20%20%20var%20circle_marker_1e0f38b2c15345ccae6a3b097a928902%20%3D%20L.circleMarker%28%0A%20%20%20%20%20%20%20%20%20%20%20%20%20%20%20%20%5B42.36564733660332%2C%20-71.00850028564457%5D%2C%0A%20%20%20%20%20%20%20%20%20%20%20%20%20%20%20%20%7B%0A%20%20%22bubblingMouseEvents%22%3A%20true%2C%0A%20%20%22color%22%3A%20%22orange%22%2C%0A%20%20%22dashArray%22%3A%20null%2C%0A%20%20%22dashOffset%22%3A%20null%2C%0A%20%20%22fill%22%3A%20true%2C%0A%20%20%22fillColor%22%3A%20%22orange%22%2C%0A%20%20%22fillOpacity%22%3A%200.2%2C%0A%20%20%22fillRule%22%3A%20%22evenodd%22%2C%0A%20%20%22lineCap%22%3A%20%22round%22%2C%0A%20%20%22lineJoin%22%3A%20%22round%22%2C%0A%20%20%22opacity%22%3A%201.0%2C%0A%20%20%22radius%22%3A%2010%2C%0A%20%20%22stroke%22%3A%20true%2C%0A%20%20%22weight%22%3A%203%0A%7D%0A%20%20%20%20%20%20%20%20%20%20%20%20%20%20%20%20%29%0A%20%20%20%20%20%20%20%20%20%20%20%20%20%20%20%20.addTo%28map_933b305c4547429a8337eed5446dbb7a%29%3B%0A%20%20%20%20%20%20%20%20%20%20%20%20%0A%20%20%20%20%0A%20%20%20%20%20%20%20%20%20%20%20%20var%20popup_8fa72ec24f7f469bb544b65ba6e0e5fb%20%3D%20L.popup%28%7BmaxWidth%3A%20%27100%25%27%0A%20%20%20%20%20%20%20%20%20%20%20%20%0A%20%20%20%20%20%20%20%20%20%20%20%20%7D%29%3B%0A%0A%20%20%20%20%20%20%20%20%20%20%20%20%0A%20%20%20%20%20%20%20%20%20%20%20%20%20%20%20%20var%20html_b648ed24cb354158b2e9be7799d8e67f%20%3D%20%24%28%60%3Cdiv%20id%3D%22html_b648ed24cb354158b2e9be7799d8e67f%22%20style%3D%22width%3A%20100.0%25%3B%20height%3A%20100.0%25%3B%22%3EVille%20%3A%20Boston%3Cbr%3E%20%20%20%20%20%20%20%20%20%20%20%20%20%20%20%20%20%20%20%20%20Prix%20moyen%20d%27un%20vol%20en%20%24%20%3A%20657%3Cbr%3E%3C/div%3E%60%29%5B0%5D%3B%0A%20%20%20%20%20%20%20%20%20%20%20%20%20%20%20%20popup_8fa72ec24f7f469bb544b65ba6e0e5fb.setContent%28html_b648ed24cb354158b2e9be7799d8e67f%29%3B%0A%20%20%20%20%20%20%20%20%20%20%20%20%0A%0A%20%20%20%20%20%20%20%20%20%20%20%20circle_marker_1e0f38b2c15345ccae6a3b097a928902.bindPopup%28popup_8fa72ec24f7f469bb544b65ba6e0e5fb%29%0A%20%20%20%20%20%20%20%20%20%20%20%20%3B%0A%0A%20%20%20%20%20%20%20%20%20%20%20%20%0A%20%20%20%20%20%20%20%20%0A%20%20%20%20%0A%20%20%20%20%20%20%20%20%20%20%20%20var%20circle_marker_e12a291ec07c461a9d941a563225a118%20%3D%20L.circleMarker%28%0A%20%20%20%20%20%20%20%20%20%20%20%20%20%20%20%20%5B-26.13348%2C%2028.23606%5D%2C%0A%20%20%20%20%20%20%20%20%20%20%20%20%20%20%20%20%7B%0A%20%20%22bubblingMouseEvents%22%3A%20true%2C%0A%20%20%22color%22%3A%20%22orange%22%2C%0A%20%20%22dashArray%22%3A%20null%2C%0A%20%20%22dashOffset%22%3A%20null%2C%0A%20%20%22fill%22%3A%20true%2C%0A%20%20%22fillColor%22%3A%20%22orange%22%2C%0A%20%20%22fillOpacity%22%3A%200.2%2C%0A%20%20%22fillRule%22%3A%20%22evenodd%22%2C%0A%20%20%22lineCap%22%3A%20%22round%22%2C%0A%20%20%22lineJoin%22%3A%20%22round%22%2C%0A%20%20%22opacity%22%3A%201.0%2C%0A%20%20%22radius%22%3A%2010%2C%0A%20%20%22stroke%22%3A%20true%2C%0A%20%20%22weight%22%3A%203%0A%7D%0A%20%20%20%20%20%20%20%20%20%20%20%20%20%20%20%20%29%0A%20%20%20%20%20%20%20%20%20%20%20%20%20%20%20%20.addTo%28map_933b305c4547429a8337eed5446dbb7a%29%3B%0A%20%20%20%20%20%20%20%20%20%20%20%20%0A%20%20%20%20%0A%20%20%20%20%20%20%20%20%20%20%20%20var%20popup_13ca269c138d44d78a350332ab06ea6e%20%3D%20L.popup%28%7BmaxWidth%3A%20%27100%25%27%0A%20%20%20%20%20%20%20%20%20%20%20%20%0A%20%20%20%20%20%20%20%20%20%20%20%20%7D%29%3B%0A%0A%20%20%20%20%20%20%20%20%20%20%20%20%0A%20%20%20%20%20%20%20%20%20%20%20%20%20%20%20%20var%20html_a5a0e949356449a8ae5af6e93f2987bf%20%3D%20%24%28%60%3Cdiv%20id%3D%22html_a5a0e949356449a8ae5af6e93f2987bf%22%20style%3D%22width%3A%20100.0%25%3B%20height%3A%20100.0%25%3B%22%3EVille%20%3A%20Johannesburg%3Cbr%3E%20%20%20%20%20%20%20%20%20%20%20%20%20%20%20%20%20%20%20%20%20Prix%20moyen%20d%27un%20vol%20en%20%24%20%3A%20659%3Cbr%3E%3C/div%3E%60%29%5B0%5D%3B%0A%20%20%20%20%20%20%20%20%20%20%20%20%20%20%20%20popup_13ca269c138d44d78a350332ab06ea6e.setContent%28html_a5a0e949356449a8ae5af6e93f2987bf%29%3B%0A%20%20%20%20%20%20%20%20%20%20%20%20%0A%0A%20%20%20%20%20%20%20%20%20%20%20%20circle_marker_e12a291ec07c461a9d941a563225a118.bindPopup%28popup_13ca269c138d44d78a350332ab06ea6e%29%0A%20%20%20%20%20%20%20%20%20%20%20%20%3B%0A%0A%20%20%20%20%20%20%20%20%20%20%20%20%0A%20%20%20%20%20%20%20%20%0A%20%20%20%20%0A%20%20%20%20%20%20%20%20%20%20%20%20var%20circle_marker_63bac06459ce47968cdea416a5a36049%20%3D%20L.circleMarker%28%0A%20%20%20%20%20%20%20%20%20%20%20%20%20%20%20%20%5B35.70903%2C%20139.73199%5D%2C%0A%20%20%20%20%20%20%20%20%20%20%20%20%20%20%20%20%7B%0A%20%20%22bubblingMouseEvents%22%3A%20true%2C%0A%20%20%22color%22%3A%20%22orange%22%2C%0A%20%20%22dashArray%22%3A%20null%2C%0A%20%20%22dashOffset%22%3A%20null%2C%0A%20%20%22fill%22%3A%20true%2C%0A%20%20%22fillColor%22%3A%20%22orange%22%2C%0A%20%20%22fillOpacity%22%3A%200.2%2C%0A%20%20%22fillRule%22%3A%20%22evenodd%22%2C%0A%20%20%22lineCap%22%3A%20%22round%22%2C%0A%20%20%22lineJoin%22%3A%20%22round%22%2C%0A%20%20%22opacity%22%3A%201.0%2C%0A%20%20%22radius%22%3A%2010%2C%0A%20%20%22stroke%22%3A%20true%2C%0A%20%20%22weight%22%3A%203%0A%7D%0A%20%20%20%20%20%20%20%20%20%20%20%20%20%20%20%20%29%0A%20%20%20%20%20%20%20%20%20%20%20%20%20%20%20%20.addTo%28map_933b305c4547429a8337eed5446dbb7a%29%3B%0A%20%20%20%20%20%20%20%20%20%20%20%20%0A%20%20%20%20%0A%20%20%20%20%20%20%20%20%20%20%20%20var%20popup_c73e1128ca3443e3aaa9abad9cf083b8%20%3D%20L.popup%28%7BmaxWidth%3A%20%27100%25%27%0A%20%20%20%20%20%20%20%20%20%20%20%20%0A%20%20%20%20%20%20%20%20%20%20%20%20%7D%29%3B%0A%0A%20%20%20%20%20%20%20%20%20%20%20%20%0A%20%20%20%20%20%20%20%20%20%20%20%20%20%20%20%20var%20html_79a8e4cac9f04570abe9f37e04d25675%20%3D%20%24%28%60%3Cdiv%20id%3D%22html_79a8e4cac9f04570abe9f37e04d25675%22%20style%3D%22width%3A%20100.0%25%3B%20height%3A%20100.0%25%3B%22%3EVille%20%3A%20Tokyo%3Cbr%3E%20%20%20%20%20%20%20%20%20%20%20%20%20%20%20%20%20%20%20%20%20Prix%20moyen%20d%27un%20vol%20en%20%24%20%3A%20662%3Cbr%3E%3C/div%3E%60%29%5B0%5D%3B%0A%20%20%20%20%20%20%20%20%20%20%20%20%20%20%20%20popup_c73e1128ca3443e3aaa9abad9cf083b8.setContent%28html_79a8e4cac9f04570abe9f37e04d25675%29%3B%0A%20%20%20%20%20%20%20%20%20%20%20%20%0A%0A%20%20%20%20%20%20%20%20%20%20%20%20circle_marker_63bac06459ce47968cdea416a5a36049.bindPopup%28popup_c73e1128ca3443e3aaa9abad9cf083b8%29%0A%20%20%20%20%20%20%20%20%20%20%20%20%3B%0A%0A%20%20%20%20%20%20%20%20%20%20%20%20%0A%20%20%20%20%20%20%20%20%0A%20%20%20%20%0A%20%20%20%20%20%20%20%20%20%20%20%20var%20circle_marker_65d5af532f8b4a68baed5ae1923fe466%20%3D%20L.circleMarker%28%0A%20%20%20%20%20%20%20%20%20%20%20%20%20%20%20%20%5B-1.3303%2C%2036.92505%5D%2C%0A%20%20%20%20%20%20%20%20%20%20%20%20%20%20%20%20%7B%0A%20%20%22bubblingMouseEvents%22%3A%20true%2C%0A%20%20%22color%22%3A%20%22orange%22%2C%0A%20%20%22dashArray%22%3A%20null%2C%0A%20%20%22dashOffset%22%3A%20null%2C%0A%20%20%22fill%22%3A%20true%2C%0A%20%20%22fillColor%22%3A%20%22orange%22%2C%0A%20%20%22fillOpacity%22%3A%200.2%2C%0A%20%20%22fillRule%22%3A%20%22evenodd%22%2C%0A%20%20%22lineCap%22%3A%20%22round%22%2C%0A%20%20%22lineJoin%22%3A%20%22round%22%2C%0A%20%20%22opacity%22%3A%201.0%2C%0A%20%20%22radius%22%3A%2010%2C%0A%20%20%22stroke%22%3A%20true%2C%0A%20%20%22weight%22%3A%203%0A%7D%0A%20%20%20%20%20%20%20%20%20%20%20%20%20%20%20%20%29%0A%20%20%20%20%20%20%20%20%20%20%20%20%20%20%20%20.addTo%28map_933b305c4547429a8337eed5446dbb7a%29%3B%0A%20%20%20%20%20%20%20%20%20%20%20%20%0A%20%20%20%20%0A%20%20%20%20%20%20%20%20%20%20%20%20var%20popup_77354e34ded7444588a969f400a47997%20%3D%20L.popup%28%7BmaxWidth%3A%20%27100%25%27%0A%20%20%20%20%20%20%20%20%20%20%20%20%0A%20%20%20%20%20%20%20%20%20%20%20%20%7D%29%3B%0A%0A%20%20%20%20%20%20%20%20%20%20%20%20%0A%20%20%20%20%20%20%20%20%20%20%20%20%20%20%20%20var%20html_56761b41a6f74cd79f4c9ec839de1711%20%3D%20%24%28%60%3Cdiv%20id%3D%22html_56761b41a6f74cd79f4c9ec839de1711%22%20style%3D%22width%3A%20100.0%25%3B%20height%3A%20100.0%25%3B%22%3EVille%20%3A%20Nairobi%3Cbr%3E%20%20%20%20%20%20%20%20%20%20%20%20%20%20%20%20%20%20%20%20%20Prix%20moyen%20d%27un%20vol%20en%20%24%20%3A%20665%3Cbr%3E%3C/div%3E%60%29%5B0%5D%3B%0A%20%20%20%20%20%20%20%20%20%20%20%20%20%20%20%20popup_77354e34ded7444588a969f400a47997.setContent%28html_56761b41a6f74cd79f4c9ec839de1711%29%3B%0A%20%20%20%20%20%20%20%20%20%20%20%20%0A%0A%20%20%20%20%20%20%20%20%20%20%20%20circle_marker_65d5af532f8b4a68baed5ae1923fe466.bindPopup%28popup_77354e34ded7444588a969f400a47997%29%0A%20%20%20%20%20%20%20%20%20%20%20%20%3B%0A%0A%20%20%20%20%20%20%20%20%20%20%20%20%0A%20%20%20%20%20%20%20%20%0A%20%20%20%20%0A%20%20%20%20%20%20%20%20%20%20%20%20var%20circle_marker_43fa35d0dc4547a5a1dd178115a2d301%20%3D%20L.circleMarker%28%0A%20%20%20%20%20%20%20%20%20%20%20%20%20%20%20%20%5B-20.43023%2C%2057.6836%5D%2C%0A%20%20%20%20%20%20%20%20%20%20%20%20%20%20%20%20%7B%0A%20%20%22bubblingMouseEvents%22%3A%20true%2C%0A%20%20%22color%22%3A%20%22orange%22%2C%0A%20%20%22dashArray%22%3A%20null%2C%0A%20%20%22dashOffset%22%3A%20null%2C%0A%20%20%22fill%22%3A%20true%2C%0A%20%20%22fillColor%22%3A%20%22orange%22%2C%0A%20%20%22fillOpacity%22%3A%200.2%2C%0A%20%20%22fillRule%22%3A%20%22evenodd%22%2C%0A%20%20%22lineCap%22%3A%20%22round%22%2C%0A%20%20%22lineJoin%22%3A%20%22round%22%2C%0A%20%20%22opacity%22%3A%201.0%2C%0A%20%20%22radius%22%3A%2010%2C%0A%20%20%22stroke%22%3A%20true%2C%0A%20%20%22weight%22%3A%203%0A%7D%0A%20%20%20%20%20%20%20%20%20%20%20%20%20%20%20%20%29%0A%20%20%20%20%20%20%20%20%20%20%20%20%20%20%20%20.addTo%28map_933b305c4547429a8337eed5446dbb7a%29%3B%0A%20%20%20%20%20%20%20%20%20%20%20%20%0A%20%20%20%20%0A%20%20%20%20%20%20%20%20%20%20%20%20var%20popup_5e34f00800904f40b4bc3ee7956c7636%20%3D%20L.popup%28%7BmaxWidth%3A%20%27100%25%27%0A%20%20%20%20%20%20%20%20%20%20%20%20%0A%20%20%20%20%20%20%20%20%20%20%20%20%7D%29%3B%0A%0A%20%20%20%20%20%20%20%20%20%20%20%20%0A%20%20%20%20%20%20%20%20%20%20%20%20%20%20%20%20var%20html_00bca5655cdd4a14b764900df54c9169%20%3D%20%24%28%60%3Cdiv%20id%3D%22html_00bca5655cdd4a14b764900df54c9169%22%20style%3D%22width%3A%20100.0%25%3B%20height%3A%20100.0%25%3B%22%3EVille%20%3A%20Port%20Louis%3Cbr%3E%20%20%20%20%20%20%20%20%20%20%20%20%20%20%20%20%20%20%20%20%20Prix%20moyen%20d%27un%20vol%20en%20%24%20%3A%20670%3Cbr%3E%3C/div%3E%60%29%5B0%5D%3B%0A%20%20%20%20%20%20%20%20%20%20%20%20%20%20%20%20popup_5e34f00800904f40b4bc3ee7956c7636.setContent%28html_00bca5655cdd4a14b764900df54c9169%29%3B%0A%20%20%20%20%20%20%20%20%20%20%20%20%0A%0A%20%20%20%20%20%20%20%20%20%20%20%20circle_marker_43fa35d0dc4547a5a1dd178115a2d301.bindPopup%28popup_5e34f00800904f40b4bc3ee7956c7636%29%0A%20%20%20%20%20%20%20%20%20%20%20%20%3B%0A%0A%20%20%20%20%20%20%20%20%20%20%20%20%0A%20%20%20%20%20%20%20%20%0A%20%20%20%20%0A%20%20%20%20%20%20%20%20%20%20%20%20var%20circle_marker_68960de2a54b4ed18d1d765965936713%20%3D%20L.circleMarker%28%0A%20%20%20%20%20%20%20%20%20%20%20%20%20%20%20%20%5B-22.90354%2C%20-43.20959%5D%2C%0A%20%20%20%20%20%20%20%20%20%20%20%20%20%20%20%20%7B%0A%20%20%22bubblingMouseEvents%22%3A%20true%2C%0A%20%20%22color%22%3A%20%22orange%22%2C%0A%20%20%22dashArray%22%3A%20null%2C%0A%20%20%22dashOffset%22%3A%20null%2C%0A%20%20%22fill%22%3A%20true%2C%0A%20%20%22fillColor%22%3A%20%22orange%22%2C%0A%20%20%22fillOpacity%22%3A%200.2%2C%0A%20%20%22fillRule%22%3A%20%22evenodd%22%2C%0A%20%20%22lineCap%22%3A%20%22round%22%2C%0A%20%20%22lineJoin%22%3A%20%22round%22%2C%0A%20%20%22opacity%22%3A%201.0%2C%0A%20%20%22radius%22%3A%2010%2C%0A%20%20%22stroke%22%3A%20true%2C%0A%20%20%22weight%22%3A%203%0A%7D%0A%20%20%20%20%20%20%20%20%20%20%20%20%20%20%20%20%29%0A%20%20%20%20%20%20%20%20%20%20%20%20%20%20%20%20.addTo%28map_933b305c4547429a8337eed5446dbb7a%29%3B%0A%20%20%20%20%20%20%20%20%20%20%20%20%0A%20%20%20%20%0A%20%20%20%20%20%20%20%20%20%20%20%20var%20popup_91968803742d40e1aa7087088585570f%20%3D%20L.popup%28%7BmaxWidth%3A%20%27100%25%27%0A%20%20%20%20%20%20%20%20%20%20%20%20%0A%20%20%20%20%20%20%20%20%20%20%20%20%7D%29%3B%0A%0A%20%20%20%20%20%20%20%20%20%20%20%20%0A%20%20%20%20%20%20%20%20%20%20%20%20%20%20%20%20var%20html_7d161675d44948e3a269207a6321bb64%20%3D%20%24%28%60%3Cdiv%20id%3D%22html_7d161675d44948e3a269207a6321bb64%22%20style%3D%22width%3A%20100.0%25%3B%20height%3A%20100.0%25%3B%22%3EVille%20%3A%20Rio%20de%20Janeiro%3Cbr%3E%20%20%20%20%20%20%20%20%20%20%20%20%20%20%20%20%20%20%20%20%20Prix%20moyen%20d%27un%20vol%20en%20%24%20%3A%20678%3Cbr%3E%3C/div%3E%60%29%5B0%5D%3B%0A%20%20%20%20%20%20%20%20%20%20%20%20%20%20%20%20popup_91968803742d40e1aa7087088585570f.setContent%28html_7d161675d44948e3a269207a6321bb64%29%3B%0A%20%20%20%20%20%20%20%20%20%20%20%20%0A%0A%20%20%20%20%20%20%20%20%20%20%20%20circle_marker_68960de2a54b4ed18d1d765965936713.bindPopup%28popup_91968803742d40e1aa7087088585570f%29%0A%20%20%20%20%20%20%20%20%20%20%20%20%3B%0A%0A%20%20%20%20%20%20%20%20%20%20%20%20%0A%20%20%20%20%20%20%20%20%0A%20%20%20%20%0A%20%20%20%20%20%20%20%20%20%20%20%20var%20circle_marker_fcf8f74091544f95ab35701a094d3a7a%20%3D%20L.circleMarker%28%0A%20%20%20%20%20%20%20%20%20%20%20%20%20%20%20%20%5B13.913579750656696%2C%20100.60606335449222%5D%2C%0A%20%20%20%20%20%20%20%20%20%20%20%20%20%20%20%20%7B%0A%20%20%22bubblingMouseEvents%22%3A%20true%2C%0A%20%20%22color%22%3A%20%22orange%22%2C%0A%20%20%22dashArray%22%3A%20null%2C%0A%20%20%22dashOffset%22%3A%20null%2C%0A%20%20%22fill%22%3A%20true%2C%0A%20%20%22fillColor%22%3A%20%22orange%22%2C%0A%20%20%22fillOpacity%22%3A%200.2%2C%0A%20%20%22fillRule%22%3A%20%22evenodd%22%2C%0A%20%20%22lineCap%22%3A%20%22round%22%2C%0A%20%20%22lineJoin%22%3A%20%22round%22%2C%0A%20%20%22opacity%22%3A%201.0%2C%0A%20%20%22radius%22%3A%2010%2C%0A%20%20%22stroke%22%3A%20true%2C%0A%20%20%22weight%22%3A%203%0A%7D%0A%20%20%20%20%20%20%20%20%20%20%20%20%20%20%20%20%29%0A%20%20%20%20%20%20%20%20%20%20%20%20%20%20%20%20.addTo%28map_933b305c4547429a8337eed5446dbb7a%29%3B%0A%20%20%20%20%20%20%20%20%20%20%20%20%0A%20%20%20%20%0A%20%20%20%20%20%20%20%20%20%20%20%20var%20popup_c1644a33931a4b5bb63189492653f2d9%20%3D%20L.popup%28%7BmaxWidth%3A%20%27100%25%27%0A%20%20%20%20%20%20%20%20%20%20%20%20%0A%20%20%20%20%20%20%20%20%20%20%20%20%7D%29%3B%0A%0A%20%20%20%20%20%20%20%20%20%20%20%20%0A%20%20%20%20%20%20%20%20%20%20%20%20%20%20%20%20var%20html_d1cd3a72179b459195330470d4f356bd%20%3D%20%24%28%60%3Cdiv%20id%3D%22html_d1cd3a72179b459195330470d4f356bd%22%20style%3D%22width%3A%20100.0%25%3B%20height%3A%20100.0%25%3B%22%3EVille%20%3A%20Bangkok%3Cbr%3E%20%20%20%20%20%20%20%20%20%20%20%20%20%20%20%20%20%20%20%20%20Prix%20moyen%20d%27un%20vol%20en%20%24%20%3A%20729%3Cbr%3E%3C/div%3E%60%29%5B0%5D%3B%0A%20%20%20%20%20%20%20%20%20%20%20%20%20%20%20%20popup_c1644a33931a4b5bb63189492653f2d9.setContent%28html_d1cd3a72179b459195330470d4f356bd%29%3B%0A%20%20%20%20%20%20%20%20%20%20%20%20%0A%0A%20%20%20%20%20%20%20%20%20%20%20%20circle_marker_fcf8f74091544f95ab35701a094d3a7a.bindPopup%28popup_c1644a33931a4b5bb63189492653f2d9%29%0A%20%20%20%20%20%20%20%20%20%20%20%20%3B%0A%0A%20%20%20%20%20%20%20%20%20%20%20%20%0A%20%20%20%20%20%20%20%20%0A%20%20%20%20%0A%20%20%20%20%20%20%20%20%20%20%20%20var%20circle_marker_b54bfc2dc4d24d4189c8f2a06a2a9cea%20%3D%20L.circleMarker%28%0A%20%20%20%20%20%20%20%20%20%20%20%20%20%20%20%20%5B7.18076%2C%2079.88412%5D%2C%0A%20%20%20%20%20%20%20%20%20%20%20%20%20%20%20%20%7B%0A%20%20%22bubblingMouseEvents%22%3A%20true%2C%0A%20%20%22color%22%3A%20%22orange%22%2C%0A%20%20%22dashArray%22%3A%20null%2C%0A%20%20%22dashOffset%22%3A%20null%2C%0A%20%20%22fill%22%3A%20true%2C%0A%20%20%22fillColor%22%3A%20%22orange%22%2C%0A%20%20%22fillOpacity%22%3A%200.2%2C%0A%20%20%22fillRule%22%3A%20%22evenodd%22%2C%0A%20%20%22lineCap%22%3A%20%22round%22%2C%0A%20%20%22lineJoin%22%3A%20%22round%22%2C%0A%20%20%22opacity%22%3A%201.0%2C%0A%20%20%22radius%22%3A%2010%2C%0A%20%20%22stroke%22%3A%20true%2C%0A%20%20%22weight%22%3A%203%0A%7D%0A%20%20%20%20%20%20%20%20%20%20%20%20%20%20%20%20%29%0A%20%20%20%20%20%20%20%20%20%20%20%20%20%20%20%20.addTo%28map_933b305c4547429a8337eed5446dbb7a%29%3B%0A%20%20%20%20%20%20%20%20%20%20%20%20%0A%20%20%20%20%0A%20%20%20%20%20%20%20%20%20%20%20%20var%20popup_1ac5ee18c27a4036bc72c50b03da9e6b%20%3D%20L.popup%28%7BmaxWidth%3A%20%27100%25%27%0A%20%20%20%20%20%20%20%20%20%20%20%20%0A%20%20%20%20%20%20%20%20%20%20%20%20%7D%29%3B%0A%0A%20%20%20%20%20%20%20%20%20%20%20%20%0A%20%20%20%20%20%20%20%20%20%20%20%20%20%20%20%20var%20html_dab9e69d6a9c409f800e0b026cd1f846%20%3D%20%24%28%60%3Cdiv%20id%3D%22html_dab9e69d6a9c409f800e0b026cd1f846%22%20style%3D%22width%3A%20100.0%25%3B%20height%3A%20100.0%25%3B%22%3EVille%20%3A%20Colombo%3Cbr%3E%20%20%20%20%20%20%20%20%20%20%20%20%20%20%20%20%20%20%20%20%20Prix%20moyen%20d%27un%20vol%20en%20%24%20%3A%20772%3Cbr%3E%3C/div%3E%60%29%5B0%5D%3B%0A%20%20%20%20%20%20%20%20%20%20%20%20%20%20%20%20popup_1ac5ee18c27a4036bc72c50b03da9e6b.setContent%28html_dab9e69d6a9c409f800e0b026cd1f846%29%3B%0A%20%20%20%20%20%20%20%20%20%20%20%20%0A%0A%20%20%20%20%20%20%20%20%20%20%20%20circle_marker_b54bfc2dc4d24d4189c8f2a06a2a9cea.bindPopup%28popup_1ac5ee18c27a4036bc72c50b03da9e6b%29%0A%20%20%20%20%20%20%20%20%20%20%20%20%3B%0A%0A%20%20%20%20%20%20%20%20%20%20%20%20%0A%20%20%20%20%20%20%20%20%0A%20%20%20%20%0A%20%20%20%20%20%20%20%20%20%20%20%20var%20circle_marker_b5c4c35b1e4240ac9475e725cf2dd032%20%3D%20L.circleMarker%28%0A%20%20%20%20%20%20%20%20%20%20%20%20%20%20%20%20%5B-6.12557%2C%20106.6559%5D%2C%0A%20%20%20%20%20%20%20%20%20%20%20%20%20%20%20%20%7B%0A%20%20%22bubblingMouseEvents%22%3A%20true%2C%0A%20%20%22color%22%3A%20%22orange%22%2C%0A%20%20%22dashArray%22%3A%20null%2C%0A%20%20%22dashOffset%22%3A%20null%2C%0A%20%20%22fill%22%3A%20true%2C%0A%20%20%22fillColor%22%3A%20%22orange%22%2C%0A%20%20%22fillOpacity%22%3A%200.2%2C%0A%20%20%22fillRule%22%3A%20%22evenodd%22%2C%0A%20%20%22lineCap%22%3A%20%22round%22%2C%0A%20%20%22lineJoin%22%3A%20%22round%22%2C%0A%20%20%22opacity%22%3A%201.0%2C%0A%20%20%22radius%22%3A%2010%2C%0A%20%20%22stroke%22%3A%20true%2C%0A%20%20%22weight%22%3A%203%0A%7D%0A%20%20%20%20%20%20%20%20%20%20%20%20%20%20%20%20%29%0A%20%20%20%20%20%20%20%20%20%20%20%20%20%20%20%20.addTo%28map_933b305c4547429a8337eed5446dbb7a%29%3B%0A%20%20%20%20%20%20%20%20%20%20%20%20%0A%20%20%20%20%0A%20%20%20%20%20%20%20%20%20%20%20%20var%20popup_4fd69ec05bc948e480b51c28c903a8cf%20%3D%20L.popup%28%7BmaxWidth%3A%20%27100%25%27%0A%20%20%20%20%20%20%20%20%20%20%20%20%0A%20%20%20%20%20%20%20%20%20%20%20%20%7D%29%3B%0A%0A%20%20%20%20%20%20%20%20%20%20%20%20%0A%20%20%20%20%20%20%20%20%20%20%20%20%20%20%20%20var%20html_ad2e5076069e4c12a6bbadb8e206ec88%20%3D%20%24%28%60%3Cdiv%20id%3D%22html_ad2e5076069e4c12a6bbadb8e206ec88%22%20style%3D%22width%3A%20100.0%25%3B%20height%3A%20100.0%25%3B%22%3EVille%20%3A%20Jakarta%3Cbr%3E%20%20%20%20%20%20%20%20%20%20%20%20%20%20%20%20%20%20%20%20%20Prix%20moyen%20d%27un%20vol%20en%20%24%20%3A%20799%3Cbr%3E%3C/div%3E%60%29%5B0%5D%3B%0A%20%20%20%20%20%20%20%20%20%20%20%20%20%20%20%20popup_4fd69ec05bc948e480b51c28c903a8cf.setContent%28html_ad2e5076069e4c12a6bbadb8e206ec88%29%3B%0A%20%20%20%20%20%20%20%20%20%20%20%20%0A%0A%20%20%20%20%20%20%20%20%20%20%20%20circle_marker_b5c4c35b1e4240ac9475e725cf2dd032.bindPopup%28popup_4fd69ec05bc948e480b51c28c903a8cf%29%0A%20%20%20%20%20%20%20%20%20%20%20%20%3B%0A%0A%20%20%20%20%20%20%20%20%20%20%20%20%0A%20%20%20%20%20%20%20%20%0A%20%20%20%20%0A%20%20%20%20%20%20%20%20%20%20%20%20var%20circle_marker_e772fe65fd9d4facb857eaee05aae5d4%20%3D%20L.circleMarker%28%0A%20%20%20%20%20%20%20%20%20%20%20%20%20%20%20%20%5B3.133322479620104%2C%20101.55413651855474%5D%2C%0A%20%20%20%20%20%20%20%20%20%20%20%20%20%20%20%20%7B%0A%20%20%22bubblingMouseEvents%22%3A%20true%2C%0A%20%20%22color%22%3A%20%22red%22%2C%0A%20%20%22dashArray%22%3A%20null%2C%0A%20%20%22dashOffset%22%3A%20null%2C%0A%20%20%22fill%22%3A%20true%2C%0A%20%20%22fillColor%22%3A%20%22red%22%2C%0A%20%20%22fillOpacity%22%3A%200.2%2C%0A%20%20%22fillRule%22%3A%20%22evenodd%22%2C%0A%20%20%22lineCap%22%3A%20%22round%22%2C%0A%20%20%22lineJoin%22%3A%20%22round%22%2C%0A%20%20%22opacity%22%3A%201.0%2C%0A%20%20%22radius%22%3A%2010%2C%0A%20%20%22stroke%22%3A%20true%2C%0A%20%20%22weight%22%3A%203%0A%7D%0A%20%20%20%20%20%20%20%20%20%20%20%20%20%20%20%20%29%0A%20%20%20%20%20%20%20%20%20%20%20%20%20%20%20%20.addTo%28map_933b305c4547429a8337eed5446dbb7a%29%3B%0A%20%20%20%20%20%20%20%20%20%20%20%20%0A%20%20%20%20%0A%20%20%20%20%20%20%20%20%20%20%20%20var%20popup_47f6e4b6a0004052b1cd9245aa52c682%20%3D%20L.popup%28%7BmaxWidth%3A%20%27100%25%27%0A%20%20%20%20%20%20%20%20%20%20%20%20%0A%20%20%20%20%20%20%20%20%20%20%20%20%7D%29%3B%0A%0A%20%20%20%20%20%20%20%20%20%20%20%20%0A%20%20%20%20%20%20%20%20%20%20%20%20%20%20%20%20var%20html_c24679df149b4e2cb25c93817f1c7721%20%3D%20%24%28%60%3Cdiv%20id%3D%22html_c24679df149b4e2cb25c93817f1c7721%22%20style%3D%22width%3A%20100.0%25%3B%20height%3A%20100.0%25%3B%22%3EVille%20%3A%20Kuala%20Lumpur%3Cbr%3E%20%20%20%20%20%20%20%20%20%20%20%20%20%20%20%20%20%20%20%20%20Prix%20moyen%20d%27un%20vol%20en%20%24%20%3A%20881%3Cbr%3E%3C/div%3E%60%29%5B0%5D%3B%0A%20%20%20%20%20%20%20%20%20%20%20%20%20%20%20%20popup_47f6e4b6a0004052b1cd9245aa52c682.setContent%28html_c24679df149b4e2cb25c93817f1c7721%29%3B%0A%20%20%20%20%20%20%20%20%20%20%20%20%0A%0A%20%20%20%20%20%20%20%20%20%20%20%20circle_marker_e772fe65fd9d4facb857eaee05aae5d4.bindPopup%28popup_47f6e4b6a0004052b1cd9245aa52c682%29%0A%20%20%20%20%20%20%20%20%20%20%20%20%3B%0A%0A%20%20%20%20%20%20%20%20%20%20%20%20%0A%20%20%20%20%20%20%20%20%0A%20%20%20%20%0A%20%20%20%20%20%20%20%20%20%20%20%20var%20circle_marker_6320c5e40eed4aeb94429e888677da88%20%3D%20L.circleMarker%28%0A%20%20%20%20%20%20%20%20%20%20%20%20%20%20%20%20%5B-36.77265%2C%20-73.06311%5D%2C%0A%20%20%20%20%20%20%20%20%20%20%20%20%20%20%20%20%7B%0A%20%20%22bubblingMouseEvents%22%3A%20true%2C%0A%20%20%22color%22%3A%20%22red%22%2C%0A%20%20%22dashArray%22%3A%20null%2C%0A%20%20%22dashOffset%22%3A%20null%2C%0A%20%20%22fill%22%3A%20true%2C%0A%20%20%22fillColor%22%3A%20%22red%22%2C%0A%20%20%22fillOpacity%22%3A%200.2%2C%0A%20%20%22fillRule%22%3A%20%22evenodd%22%2C%0A%20%20%22lineCap%22%3A%20%22round%22%2C%0A%20%20%22lineJoin%22%3A%20%22round%22%2C%0A%20%20%22opacity%22%3A%201.0%2C%0A%20%20%22radius%22%3A%2010%2C%0A%20%20%22stroke%22%3A%20true%2C%0A%20%20%22weight%22%3A%203%0A%7D%0A%20%20%20%20%20%20%20%20%20%20%20%20%20%20%20%20%29%0A%20%20%20%20%20%20%20%20%20%20%20%20%20%20%20%20.addTo%28map_933b305c4547429a8337eed5446dbb7a%29%3B%0A%20%20%20%20%20%20%20%20%20%20%20%20%0A%20%20%20%20%0A%20%20%20%20%20%20%20%20%20%20%20%20var%20popup_d0273da156794ea6996fc590ad31ac76%20%3D%20L.popup%28%7BmaxWidth%3A%20%27100%25%27%0A%20%20%20%20%20%20%20%20%20%20%20%20%0A%20%20%20%20%20%20%20%20%20%20%20%20%7D%29%3B%0A%0A%20%20%20%20%20%20%20%20%20%20%20%20%0A%20%20%20%20%20%20%20%20%20%20%20%20%20%20%20%20var%20html_ea67c863bcb74e6ba39050b7c66f54a2%20%3D%20%24%28%60%3Cdiv%20id%3D%22html_ea67c863bcb74e6ba39050b7c66f54a2%22%20style%3D%22width%3A%20100.0%25%3B%20height%3A%20100.0%25%3B%22%3EVille%20%3A%20Concepci%C3%B3n%3Cbr%3E%20%20%20%20%20%20%20%20%20%20%20%20%20%20%20%20%20%20%20%20%20Prix%20moyen%20d%27un%20vol%20en%20%24%20%3A%201068%3Cbr%3E%3C/div%3E%60%29%5B0%5D%3B%0A%20%20%20%20%20%20%20%20%20%20%20%20%20%20%20%20popup_d0273da156794ea6996fc590ad31ac76.setContent%28html_ea67c863bcb74e6ba39050b7c66f54a2%29%3B%0A%20%20%20%20%20%20%20%20%20%20%20%20%0A%0A%20%20%20%20%20%20%20%20%20%20%20%20circle_marker_6320c5e40eed4aeb94429e888677da88.bindPopup%28popup_d0273da156794ea6996fc590ad31ac76%29%0A%20%20%20%20%20%20%20%20%20%20%20%20%3B%0A%0A%20%20%20%20%20%20%20%20%20%20%20%20%0A%20%20%20%20%20%20%20%20%0A%20%20%20%20%0A%20%20%20%20%20%20%20%20%20%20%20%20var%20circle_marker_f9043ce2ee7f473daadab53f287e9954%20%3D%20L.circleMarker%28%0A%20%20%20%20%20%20%20%20%20%20%20%20%20%20%20%20%5B21.22119%2C%20105.80718%5D%2C%0A%20%20%20%20%20%20%20%20%20%20%20%20%20%20%20%20%7B%0A%20%20%22bubblingMouseEvents%22%3A%20true%2C%0A%20%20%22color%22%3A%20%22brown%22%2C%0A%20%20%22dashArray%22%3A%20null%2C%0A%20%20%22dashOffset%22%3A%20null%2C%0A%20%20%22fill%22%3A%20true%2C%0A%20%20%22fillColor%22%3A%20%22brown%22%2C%0A%20%20%22fillOpacity%22%3A%200.2%2C%0A%20%20%22fillRule%22%3A%20%22evenodd%22%2C%0A%20%20%22lineCap%22%3A%20%22round%22%2C%0A%20%20%22lineJoin%22%3A%20%22round%22%2C%0A%20%20%22opacity%22%3A%201.0%2C%0A%20%20%22radius%22%3A%2010%2C%0A%20%20%22stroke%22%3A%20true%2C%0A%20%20%22weight%22%3A%203%0A%7D%0A%20%20%20%20%20%20%20%20%20%20%20%20%20%20%20%20%29%0A%20%20%20%20%20%20%20%20%20%20%20%20%20%20%20%20.addTo%28map_933b305c4547429a8337eed5446dbb7a%29%3B%0A%20%20%20%20%20%20%20%20%20%20%20%20%0A%20%20%20%20%0A%20%20%20%20%20%20%20%20%20%20%20%20var%20popup_b9c0df7102bd46f4ab4c6f927014f8b5%20%3D%20L.popup%28%7BmaxWidth%3A%20%27100%25%27%0A%20%20%20%20%20%20%20%20%20%20%20%20%0A%20%20%20%20%20%20%20%20%20%20%20%20%7D%29%3B%0A%0A%20%20%20%20%20%20%20%20%20%20%20%20%0A%20%20%20%20%20%20%20%20%20%20%20%20%20%20%20%20var%20html_e2d1ddabde9941329a0bee78dacecd10%20%3D%20%24%28%60%3Cdiv%20id%3D%22html_e2d1ddabde9941329a0bee78dacecd10%22%20style%3D%22width%3A%20100.0%25%3B%20height%3A%20100.0%25%3B%22%3EVille%20%3A%20Hanoi%3Cbr%3E%20%20%20%20%20%20%20%20%20%20%20%20%20%20%20%20%20%20%20%20%20Prix%20moyen%20d%27un%20vol%20en%20%24%20%3A%201164%3Cbr%3E%3C/div%3E%60%29%5B0%5D%3B%0A%20%20%20%20%20%20%20%20%20%20%20%20%20%20%20%20popup_b9c0df7102bd46f4ab4c6f927014f8b5.setContent%28html_e2d1ddabde9941329a0bee78dacecd10%29%3B%0A%20%20%20%20%20%20%20%20%20%20%20%20%0A%0A%20%20%20%20%20%20%20%20%20%20%20%20circle_marker_f9043ce2ee7f473daadab53f287e9954.bindPopup%28popup_b9c0df7102bd46f4ab4c6f927014f8b5%29%0A%20%20%20%20%20%20%20%20%20%20%20%20%3B%0A%0A%20%20%20%20%20%20%20%20%20%20%20%20%0A%20%20%20%20%20%20%20%20%0A%20%20%20%20%0A%20%20%20%20%20%20%20%20%20%20%20%20var%20circle_marker_198724ee27064e188836cbd20c386141%20%3D%20L.circleMarker%28%0A%20%20%20%20%20%20%20%20%20%20%20%20%20%20%20%20%5B-37.00531834381361%2C%20174.78446022216792%5D%2C%0A%20%20%20%20%20%20%20%20%20%20%20%20%20%20%20%20%7B%0A%20%20%22bubblingMouseEvents%22%3A%20true%2C%0A%20%20%22color%22%3A%20%22brown%22%2C%0A%20%20%22dashArray%22%3A%20null%2C%0A%20%20%22dashOffset%22%3A%20null%2C%0A%20%20%22fill%22%3A%20true%2C%0A%20%20%22fillColor%22%3A%20%22brown%22%2C%0A%20%20%22fillOpacity%22%3A%200.2%2C%0A%20%20%22fillRule%22%3A%20%22evenodd%22%2C%0A%20%20%22lineCap%22%3A%20%22round%22%2C%0A%20%20%22lineJoin%22%3A%20%22round%22%2C%0A%20%20%22opacity%22%3A%201.0%2C%0A%20%20%22radius%22%3A%2010%2C%0A%20%20%22stroke%22%3A%20true%2C%0A%20%20%22weight%22%3A%203%0A%7D%0A%20%20%20%20%20%20%20%20%20%20%20%20%20%20%20%20%29%0A%20%20%20%20%20%20%20%20%20%20%20%20%20%20%20%20.addTo%28map_933b305c4547429a8337eed5446dbb7a%29%3B%0A%20%20%20%20%20%20%20%20%20%20%20%20%0A%20%20%20%20%0A%20%20%20%20%20%20%20%20%20%20%20%20var%20popup_0a15e1abec75490b8c6db5cf397c670b%20%3D%20L.popup%28%7BmaxWidth%3A%20%27100%25%27%0A%20%20%20%20%20%20%20%20%20%20%20%20%0A%20%20%20%20%20%20%20%20%20%20%20%20%7D%29%3B%0A%0A%20%20%20%20%20%20%20%20%20%20%20%20%0A%20%20%20%20%20%20%20%20%20%20%20%20%20%20%20%20var%20html_c50d521a3fd9452d978d25eab4ff9f86%20%3D%20%24%28%60%3Cdiv%20id%3D%22html_c50d521a3fd9452d978d25eab4ff9f86%22%20style%3D%22width%3A%20100.0%25%3B%20height%3A%20100.0%25%3B%22%3EVille%20%3A%20Auckland%3Cbr%3E%20%20%20%20%20%20%20%20%20%20%20%20%20%20%20%20%20%20%20%20%20Prix%20moyen%20d%27un%20vol%20en%20%24%20%3A%201257%3Cbr%3E%3C/div%3E%60%29%5B0%5D%3B%0A%20%20%20%20%20%20%20%20%20%20%20%20%20%20%20%20popup_0a15e1abec75490b8c6db5cf397c670b.setContent%28html_c50d521a3fd9452d978d25eab4ff9f86%29%3B%0A%20%20%20%20%20%20%20%20%20%20%20%20%0A%0A%20%20%20%20%20%20%20%20%20%20%20%20circle_marker_198724ee27064e188836cbd20c386141.bindPopup%28popup_0a15e1abec75490b8c6db5cf397c670b%29%0A%20%20%20%20%20%20%20%20%20%20%20%20%3B%0A%0A%20%20%20%20%20%20%20%20%20%20%20%20%0A%20%20%20%20%20%20%20%20%0A%20%20%20%20%0A%20%20%20%20%20%20%20%20%20%20%20%20var%20circle_marker_3639fe97195049e5a99e96193917f6fe%20%3D%20L.circleMarker%28%0A%20%20%20%20%20%20%20%20%20%20%20%20%20%20%20%20%5B-35.306940000000004%2C%20149.195%5D%2C%0A%20%20%20%20%20%20%20%20%20%20%20%20%20%20%20%20%7B%0A%20%20%22bubblingMouseEvents%22%3A%20true%2C%0A%20%20%22color%22%3A%20%22black%22%2C%0A%20%20%22dashArray%22%3A%20null%2C%0A%20%20%22dashOffset%22%3A%20null%2C%0A%20%20%22fill%22%3A%20true%2C%0A%20%20%22fillColor%22%3A%20%22black%22%2C%0A%20%20%22fillOpacity%22%3A%200.2%2C%0A%20%20%22fillRule%22%3A%20%22evenodd%22%2C%0A%20%20%22lineCap%22%3A%20%22round%22%2C%0A%20%20%22lineJoin%22%3A%20%22round%22%2C%0A%20%20%22opacity%22%3A%201.0%2C%0A%20%20%22radius%22%3A%2010%2C%0A%20%20%22stroke%22%3A%20true%2C%0A%20%20%22weight%22%3A%203%0A%7D%0A%20%20%20%20%20%20%20%20%20%20%20%20%20%20%20%20%29%0A%20%20%20%20%20%20%20%20%20%20%20%20%20%20%20%20.addTo%28map_933b305c4547429a8337eed5446dbb7a%29%3B%0A%20%20%20%20%20%20%20%20%20%20%20%20%0A%20%20%20%20%0A%20%20%20%20%20%20%20%20%20%20%20%20var%20popup_0f3963b02d084aa580dd6e9c5b1dce15%20%3D%20L.popup%28%7BmaxWidth%3A%20%27100%25%27%0A%20%20%20%20%20%20%20%20%20%20%20%20%0A%20%20%20%20%20%20%20%20%20%20%20%20%7D%29%3B%0A%0A%20%20%20%20%20%20%20%20%20%20%20%20%0A%20%20%20%20%20%20%20%20%20%20%20%20%20%20%20%20var%20html_08e75dde55974c48849eb51674406310%20%3D%20%24%28%60%3Cdiv%20id%3D%22html_08e75dde55974c48849eb51674406310%22%20style%3D%22width%3A%20100.0%25%3B%20height%3A%20100.0%25%3B%22%3EVille%20%3A%20Canberra%3Cbr%3E%20%20%20%20%20%20%20%20%20%20%20%20%20%20%20%20%20%20%20%20%20Prix%20moyen%20d%27un%20vol%20en%20%24%20%3A%201695%3Cbr%3E%3C/div%3E%60%29%5B0%5D%3B%0A%20%20%20%20%20%20%20%20%20%20%20%20%20%20%20%20popup_0f3963b02d084aa580dd6e9c5b1dce15.setContent%28html_08e75dde55974c48849eb51674406310%29%3B%0A%20%20%20%20%20%20%20%20%20%20%20%20%0A%0A%20%20%20%20%20%20%20%20%20%20%20%20circle_marker_3639fe97195049e5a99e96193917f6fe.bindPopup%28popup_0f3963b02d084aa580dd6e9c5b1dce15%29%0A%20%20%20%20%20%20%20%20%20%20%20%20%3B%0A%0A%20%20%20%20%20%20%20%20%20%20%20%20%0A%20%20%20%20%20%20%20%20%0A%3C/script%3E onload=\"this.contentDocument.open();this.contentDocument.write(    decodeURIComponent(this.getAttribute('data-html')));this.contentDocument.close();\" allowfullscreen webkitallowfullscreen mozallowfullscreen></iframe></div></div>"
            ],
            "text/plain": [
              "<folium.folium.Map at 0x7f520b6410d0>"
            ]
          },
          "metadata": {},
          "execution_count": 63
        }
      ]
    },
    {
      "cell_type": "markdown",
      "metadata": {
        "id": "1INyuH5JfxVb"
      },
      "source": [
        "On exporte notre notebook en html. \n",
        "\n",
        "(Le code ne troune encore une fois qu'en local, d'où la mise en commentaire.)"
      ]
    },
    {
      "cell_type": "code",
      "execution_count": null,
      "metadata": {
        "id": "SBpxnN9QUWDl"
      },
      "outputs": [],
      "source": [
        "#!jupyter nbconvert --to html projet_kayak.ipynb"
      ]
    }
  ],
  "metadata": {
    "colab": {
      "collapsed_sections": [],
      "name": "Projet_kayak_2.ipynb",
      "provenance": []
    },
    "kernelspec": {
      "display_name": "Python 3",
      "language": "python",
      "name": "python3"
    },
    "language_info": {
      "codemirror_mode": {
        "name": "ipython",
        "version": 3
      },
      "file_extension": ".py",
      "mimetype": "text/x-python",
      "name": "python",
      "nbconvert_exporter": "python",
      "pygments_lexer": "ipython3",
      "version": "3.8.5"
    }
  },
  "nbformat": 4,
  "nbformat_minor": 0
}