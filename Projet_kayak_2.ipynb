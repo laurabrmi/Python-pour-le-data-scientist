{
 "cells": [
  {
   "cell_type": "markdown",
   "metadata": {
    "id": "MlSCi1Uo9eo0"
   },
   "source": [
    "# Quelle est la meilleure destination pour prendre l’avion de Paris ?\n",
    "\n",
    "*Bonneau-Chloup Hélène & Brahmi Laura*"
   ]
  },
  {
   "cell_type": "markdown",
   "metadata": {
    "id": "Eh73k5Yv9d2q"
   },
   "source": [
    "Nous souhaitons étudier les prix des billets d’avions au départ de Paris à destination des plus grandes villes du monde (Londres, New-York, Tokyo …). Pour cela, nous allons utiliser les prix des vols disponibles sur le site de Kayak (webscraping), distinguer les compagnies low-cost des compagnies traditionnelles, horaire de départ, escales… Mais aussi la date de départ qui sera le paramètre de notre programme final qui donnera en sortie : \n",
    "- la destination la moins chère de façon absolue\n",
    "- la destination la moins chère par kilomètre parcouru \n",
    "\n",
    "pour les compagnies “low cost” et les compagnies “traditionnelles” en prenant des allers simples au départ d’un des trois aéroports de Paris selon Kayak : Paris Orly, Paris Charles de Gaulle et l’aéroport de Beauvais.\n",
    "\n",
    "Nous chercherons ainsi à savoir si le prix des billets d’avion dépend de la distance parcourue entre la ville de départ et la ville d’arrivée. Nous représenterons une partie de nos résultats à travers une carte du monde qui illustrera les prix les moins chers au départ de Paris à une date donnée.\n",
    "\n",
    "Afin de voir les différents déterminants du prix d’un billet d’avion, nous réaliserons également des régressions linéaires du prix en fonction de la distance, des horaires, des escales, des bagages, du type de la compagnie : low-cost ou traditionnelle, des émissions de CO2…\n"
   ]
  },
  {
   "cell_type": "markdown",
   "metadata": {
    "id": "BXSLXtfIB5g8"
   },
   "source": [
    "## Table des matières\n",
    "1. [Création de notre base de données](#paragraphe1)\n",
    "    1. [Scraper Kayak](#subparagraphe11)\n",
    "      1. [Scraping avec BeautifulSoup](#subsubparagraphe111)\n",
    "      2. [Scraping avec Sélénium](#subsubparagraphe112)\n",
    "      3. [Utiliser un API](#subsubparagraphe113)\n",
    "    2. [Récupération des autres jeux de données](#subparagraphe12)\n",
    "      1. [1ère méthode : scrapping avec Selenium](#subsubparagraphe121)\n",
    "      2. [2ème méthode : calcul avec les coordonnées géographiques](#subsubparagraphe122)\n",
    "2. [Statistiques descriptives](#paragraphe2)\n",
    "  1. [Prix des vols en fonction de la destination (à date donnée : du 01/02 au 01/03)](#subparagraphe21)\n",
    "  2. [Prix des vols en fonction de la date (à destination donnée : Londres)](#subparagraphe22)\n",
    "3. [Modélisation](#paragraphe3)\n",
    "  1. [Corrélation entre prix et distance](#subparagraphe31)\n",
    "  2. [ACP](#subparagraphe32)\n",
    "3. [Visualisation](#paragraphe4)\n",
    "4. [Conclusion]\n",
    "\n"
   ]
  },
  {
   "cell_type": "markdown",
   "metadata": {
    "id": "g1RkJh6b-Fpr"
   },
   "source": [
    "## Création de notre base de données <a name = \"paragraphe1\"></a>"
   ]
  },
  {
   "cell_type": "markdown",
   "metadata": {
    "id": "RI9Z8Ozq_vgj"
   },
   "source": [
    "Pour notre projet nous avons besoin de différents jeux de données : \n",
    "- une liste des aéroports les plus importants du monde\n",
    "- la distance entre Paris et ces aéroports\n",
    "- une liste des compagnies aériennes \"low cost\" et \"traditionnelles\"\n",
    "- une liste de dates intéressantes (fêtes, jours fériés, vacances...) pour prendre en compte ces périodes lors de notre analyse des prix des vols\n",
    "- des données provenant de Kayak : pour chaque vol, obtenir son pix, sa companie aérienne, l'horaire du vol, le nombre de bagages autorisés, le nombre d'escales, les émissions de $CO_2$ de ce vol...\n"
   ]
  },
  {
   "cell_type": "markdown",
   "metadata": {
    "id": "xbs8ck73C9nt"
   },
   "source": [
    "### Scraper Kayak <a name = \"subparagraphe11\"></a>\n",
    "\n"
   ]
  },
  {
   "cell_type": "markdown",
   "metadata": {
    "id": "hX8zH9KfJ3Vu"
   },
   "source": [
    "On veut récupérer les données de cette page :"
   ]
  },
  {
   "cell_type": "code",
   "execution_count": 17,
   "metadata": {
    "id": "Uix4iD0tKA7P"
   },
   "outputs": [],
   "source": [
    "url = 'https://www.kayak.fr/flights/PAR-MAD/2022-02-01?sort=price_a'"
   ]
  },
  {
   "cell_type": "markdown",
   "metadata": {
    "id": "f9irHl9eKDk1"
   },
   "source": [
    "Cette page présente les vols à départ de Paris et à destination de Madrid le $1^{er}$ février 2022 pour un aller simple pour une personne adulte. C'est ce genre de vols qu'on retient à priori :    \n",
    "- un aller-simple\n",
    "- pour une personne adulte \n",
    "- à départ de Paris \n",
    "- à destination variable (mais pour commencer le scraping, on fixe la destination à Madrid)\n",
    "- à date variable (mais pour commencer le sraping, on fixe la date au $1^{er}$ février)"
   ]
  },
  {
   "cell_type": "markdown",
   "metadata": {
    "id": "vjXt_eowDjLJ"
   },
   "source": [
    "Nous avons rencontré des problèmes lorsque nous avons voulu récupérer des données de Kayak, avec BeautifulSoup, puis avec Sélénium. Nous n'avons pas réussi à trouver une classe qui nous intéresse ('section duration allow-multi-modal-icons'), quelque soit la technique de scraping utilisée. Cette classe est utilisée comme exemple pour montrer que nous n'avons pas réussi à avoir accès aux données de Kayak de cette façon là. Elle renvoie aux durées des vols."
   ]
  },
  {
   "cell_type": "markdown",
   "metadata": {
    "id": "eexy4ErcwEJW"
   },
   "source": [
    "Si on ouvre la page et qu'on regarde le code source, on trouve que 'section duration allow-multi-modal-icons' est un nom de classe qui mène directement aux temps de trajet. Le problème est que nous n'arrivons pas à retrouver cette classe avec BeautifulSoup ou Sélénium."
   ]
  },
  {
   "cell_type": "markdown",
   "metadata": {
    "id": "1Yc-WgxIsZkr"
   },
   "source": [
    "(On peut parler que Kayak fait en sorte que ce soit difficile à scrapper. Par exemple le Xpath du prix d'un billet varie à chaque connexion sur le site, pour éviter de webscrapper) "
   ]
  },
  {
   "cell_type": "markdown",
   "metadata": {
    "id": "S9GV6BmgESY8"
   },
   "source": [
    "#### Scraping avec BeautifulSoup <a name = \"subsubparagraphe111\"></a>"
   ]
  },
  {
   "cell_type": "code",
   "execution_count": null,
   "metadata": {
    "id": "bR57AXy3uxpf"
   },
   "outputs": [],
   "source": [
    "!pip install lxml"
   ]
  },
  {
   "cell_type": "code",
   "execution_count": 794,
   "metadata": {
    "id": "PKowfabDu2FX"
   },
   "outputs": [],
   "source": [
    "import urllib\n",
    "import bs4\n",
    "from urllib import request"
   ]
  },
  {
   "cell_type": "code",
   "execution_count": 795,
   "metadata": {
    "id": "y7tM56Cnu4x4"
   },
   "outputs": [],
   "source": [
    "req = urllib.request.Request(url,headers={'User-Agent':'Mozilla/5.0'})\n",
    "html = urllib.request.urlopen(req).read()\n",
    "page = bs4.BeautifulSoup(html, \"lxml\")"
   ]
  },
  {
   "cell_type": "code",
   "execution_count": 796,
   "metadata": {
    "colab": {
     "base_uri": "https://localhost:8080/"
    },
    "id": "AN1gEZ1su8G6",
    "outputId": "067912db-701c-4316-b233-5955ede9b8a3"
   },
   "outputs": [
    {
     "data": {
      "text/plain": [
       "[]"
      ]
     },
     "execution_count": 796,
     "metadata": {},
     "output_type": "execute_result"
    }
   ],
   "source": [
    "page.findAll('div',{'class':\"section duration allow-multi-modal-icons\"})\n"
   ]
  },
  {
   "cell_type": "code",
   "execution_count": 797,
   "metadata": {
    "colab": {
     "base_uri": "https://localhost:8080/"
    },
    "id": "iGL6tN-Pu95B",
    "outputId": "c98424be-038a-40f1-fb90-d54d786f5751"
   },
   "outputs": [
    {
     "name": "stdout",
     "output_type": "stream",
     "text": [
      "[]\n"
     ]
    }
   ],
   "source": [
    "elem = page.select(\".section duration allow-multi-modal-icons\")\n",
    "print(elem)"
   ]
  },
  {
   "cell_type": "markdown",
   "metadata": {
    "id": "oEZvvvygFj0K"
   },
   "source": [
    "Les listes renvoyées sont toujours vides, alors que ce nom de classe existe bien. En allant voir le code source de la page et en recherchant 'section duration allow-multi-modal-icons', on trouve plusieurs occurences de cette classe."
   ]
  },
  {
   "cell_type": "markdown",
   "metadata": {
    "id": "9AXaM7eMD3Ox"
   },
   "source": [
    "#### Scraping avec Sélénium <a name = \"subsubparagraphe112\"></a>"
   ]
  },
  {
   "cell_type": "code",
   "execution_count": 772,
   "metadata": {
    "id": "8gJTeMDtLXIW"
   },
   "outputs": [
    {
     "name": "stdout",
     "output_type": "stream",
     "text": [
      "Requirement already satisfied: selenium in c:\\users\\laura\\anaconda3\\lib\\site-packages (4.1.0)\n",
      "Requirement already satisfied: trio-websocket~=0.9 in c:\\users\\laura\\anaconda3\\lib\\site-packages (from selenium) (0.9.2)\n",
      "Requirement already satisfied: urllib3[secure]~=1.26 in c:\\users\\laura\\anaconda3\\lib\\site-packages (from selenium) (1.26.7)\n",
      "Requirement already satisfied: trio~=0.17 in c:\\users\\laura\\anaconda3\\lib\\site-packages (from selenium) (0.19.0)\n",
      "Requirement already satisfied: wsproto>=0.14 in c:\\users\\laura\\anaconda3\\lib\\site-packages (from trio-websocket~=0.9->selenium) (1.0.0)\n",
      "Requirement already satisfied: async-generator>=1.10 in c:\\users\\laura\\anaconda3\\lib\\site-packages (from trio-websocket~=0.9->selenium) (1.10)\n",
      "Requirement already satisfied: certifi; extra == \"secure\" in c:\\users\\laura\\anaconda3\\lib\\site-packages (from urllib3[secure]~=1.26->selenium) (2020.6.20)\n",
      "Requirement already satisfied: pyOpenSSL>=0.14; extra == \"secure\" in c:\\users\\laura\\anaconda3\\lib\\site-packages (from urllib3[secure]~=1.26->selenium) (19.1.0)\n",
      "Requirement already satisfied: cryptography>=1.3.4; extra == \"secure\" in c:\\users\\laura\\anaconda3\\lib\\site-packages (from urllib3[secure]~=1.26->selenium) (3.1.1)\n",
      "Requirement already satisfied: idna>=2.0.0; extra == \"secure\" in c:\\users\\laura\\anaconda3\\lib\\site-packages (from urllib3[secure]~=1.26->selenium) (2.10)\n",
      "Requirement already satisfied: sortedcontainers in c:\\users\\laura\\anaconda3\\lib\\site-packages (from trio~=0.17->selenium) (2.2.2)\n",
      "Requirement already satisfied: cffi>=1.14; os_name == \"nt\" and implementation_name != \"pypy\" in c:\\users\\laura\\anaconda3\\lib\\site-packages (from trio~=0.17->selenium) (1.14.3)\n",
      "Requirement already satisfied: outcome in c:\\users\\laura\\anaconda3\\lib\\site-packages (from trio~=0.17->selenium) (1.1.0)\n",
      "Requirement already satisfied: sniffio in c:\\users\\laura\\anaconda3\\lib\\site-packages (from trio~=0.17->selenium) (1.2.0)\n",
      "Requirement already satisfied: attrs>=19.2.0 in c:\\users\\laura\\anaconda3\\lib\\site-packages (from trio~=0.17->selenium) (20.3.0)\n",
      "Requirement already satisfied: h11<1,>=0.9.0 in c:\\users\\laura\\anaconda3\\lib\\site-packages (from wsproto>=0.14->trio-websocket~=0.9->selenium) (0.12.0)\n",
      "Requirement already satisfied: six>=1.5.2 in c:\\users\\laura\\anaconda3\\lib\\site-packages (from pyOpenSSL>=0.14; extra == \"secure\"->urllib3[secure]~=1.26->selenium) (1.15.0)\n",
      "Requirement already satisfied: pycparser in c:\\users\\laura\\anaconda3\\lib\\site-packages (from cffi>=1.14; os_name == \"nt\" and implementation_name != \"pypy\"->trio~=0.17->selenium) (2.20)\n"
     ]
    }
   ],
   "source": [
    "!pip install selenium"
   ]
  },
  {
   "cell_type": "code",
   "execution_count": 773,
   "metadata": {
    "id": "vdvbntDbLgSc"
   },
   "outputs": [
    {
     "name": "stderr",
     "output_type": "stream",
     "text": [
      "ERROR: After October 2020 you may experience errors when installing or updating packages. This is because pip will change the way that it resolves dependency conflicts."
     ]
    },
    {
     "name": "stdout",
     "output_type": "stream",
     "text": [
      "Collecting webdriver-manager\n",
      "  Downloading webdriver_manager-3.5.2-py2.py3-none-any.whl (17 kB)\n",
      "Collecting configparser\n",
      "  Downloading configparser-5.2.0-py3-none-any.whl (19 kB)\n",
      "Requirement already satisfied: requests in c:\\users\\laura\\anaconda3\\lib\\site-packages (from webdriver-manager) (2.24.0)\n",
      "Collecting crayons\n",
      "  Downloading crayons-0.4.0-py2.py3-none-any.whl (4.6 kB)\n",
      "Requirement already satisfied: chardet<4,>=3.0.2 in c:\\users\\laura\\anaconda3\\lib\\site-packages (from requests->webdriver-manager) (3.0.4)\n",
      "Requirement already satisfied: certifi>=2017.4.17 in c:\\users\\laura\\anaconda3\\lib\\site-packages (from requests->webdriver-manager) (2020.6.20)\n",
      "Requirement already satisfied: idna<3,>=2.5 in c:\\users\\laura\\anaconda3\\lib\\site-packages (from requests->webdriver-manager) (2.10)\n",
      "Collecting urllib3!=1.25.0,!=1.25.1,<1.26,>=1.21.1\n",
      "  Downloading urllib3-1.25.11-py2.py3-none-any.whl (127 kB)\n",
      "Requirement already satisfied: colorama in c:\\users\\laura\\anaconda3\\lib\\site-packages (from crayons->webdriver-manager) (0.4.4)\n",
      "Installing collected packages: configparser, crayons, webdriver-manager, urllib3\n",
      "  Attempting uninstall: urllib3\n",
      "    Found existing installation: urllib3 1.26.7\n",
      "    Uninstalling urllib3-1.26.7:\n",
      "      Successfully uninstalled urllib3-1.26.7\n",
      "Successfully installed configparser-5.2.0 crayons-0.4.0 urllib3-1.25.11 webdriver-manager-3.5.2\n"
     ]
    },
    {
     "name": "stderr",
     "output_type": "stream",
     "text": [
      "\n",
      "\n",
      "We recommend you use --use-feature=2020-resolver to test your packages with the new resolver before it becomes the default.\n",
      "\n",
      "selenium 4.1.0 requires urllib3[secure]~=1.26, but you'll have urllib3 1.25.11 which is incompatible.\n"
     ]
    }
   ],
   "source": [
    "!pip install webdriver-manager"
   ]
  },
  {
   "cell_type": "code",
   "execution_count": 5,
   "metadata": {
    "executionInfo": {
     "elapsed": 4,
     "status": "ok",
     "timestamp": 1641229075617,
     "user": {
      "displayName": "Brami Laura",
      "photoUrl": "https://lh3.googleusercontent.com/a/default-user=s64",
      "userId": "03037116392567250107"
     },
     "user_tz": -60
    },
    "id": "0v6ZLL1vLp0b"
   },
   "outputs": [],
   "source": [
    "import selenium\n",
    "from selenium import webdriver\n",
    "#from webdriver_manager.chrome import ChromeDriverManager  moi je n'ai pas besoin de cette ligne pour le driver\n",
    "\n",
    "from time import sleep\n",
    "from selenium import webdriver\n",
    "from selenium.webdriver.common.keys import Keys\n",
    "from selenium.webdriver.chrome import options\n",
    "from selenium.webdriver.chrome.options import Options\n",
    "from selenium.webdriver import ChromeOptions\n",
    "from selenium.common.exceptions import NoSuchElementException"
   ]
  },
  {
   "cell_type": "markdown",
   "metadata": {
    "id": "7EYp7ayNL5TA"
   },
   "source": [
    "Les commandes suivantes ne fonctionnent pas sur Google Colab, mais uniquement en local, d'où la mise en commentaire."
   ]
  },
  {
   "cell_type": "code",
   "execution_count": null,
   "metadata": {
    "id": "dAP9WSDBsZk1"
   },
   "outputs": [],
   "source": [
    "#driver = webdriver.Chrome(ChromeDriverManager().install())"
   ]
  },
  {
   "cell_type": "code",
   "execution_count": null,
   "metadata": {
    "id": "i0tIaS_wL0Mn"
   },
   "outputs": [],
   "source": [
    "#driver.get(url)"
   ]
  },
  {
   "cell_type": "code",
   "execution_count": null,
   "metadata": {
    "id": "1g8tANc0M4qz"
   },
   "outputs": [],
   "source": [
    "#driver.find_elements_by_xpath('//*[@class=\"section duration allow-multi-modal-icons\"]')"
   ]
  },
  {
   "cell_type": "markdown",
   "metadata": {
    "id": "mscTyAeKMu9n"
   },
   "source": [
    "La commande ci-dessus renvoie en local cette liste, que nous n'avons pas réussi à exploiter :\n",
    "```\n",
    "[<selenium.webdriver.remote.webelement.WebElement (session=\"6381230d4c035b7944eb778cfaf0cade\", element=\"2c68fde4-ad59-4559-9b22-a08f7e6ade1e\")>,\n",
    " <selenium.webdriver.remote.webelement.WebElement (session=\"6381230d4c035b7944eb778cfaf0cade\", element=\"525b1216-b4b8-4584-8e49-ff45cf58911f\")>,\n",
    " <selenium.webdriver.remote.webelement.WebElement (session=\"6381230d4c035b7944eb778cfaf0cade\", element=\"476e6118-d09a-410c-b0d2-a77ae80500a0\")>,\n",
    " <selenium.webdriver.remote.webelement.WebElement (session=\"6381230d4c035b7944eb778cfaf0cade\", element=\"569687cd-39d8-4b13-9ce2-57b771a696e7\")>,\n",
    " <selenium.webdriver.remote.webelement.WebElement (session=\"6381230d4c035b7944eb778cfaf0cade\", element=\"388dae26-dfbe-4d97-aeff-79daf12231bb\")>,\n",
    " <selenium.webdriver.remote.webelement.WebElement (session=\"6381230d4c035b7944eb778cfaf0cade\", element=\"c146388e-4593-42a9-8d48-f4467767d74e\")>,\n",
    " <selenium.webdriver.remote.webelement.WebElement (session=\"6381230d4c035b7944eb778cfaf0cade\", element=\"51a25ea2-bce5-4681-8b33-4d29a43e1d4c\")>,\n",
    " <selenium.webdriver.remote.webelement.WebElement (session=\"6381230d4c035b7944eb778cfaf0cade\", element=\"1dbe58c2-6a9c-4374-89c0-2011936401e1\")>,\n",
    " <selenium.webdriver.remote.webelement.WebElement (session=\"6381230d4c035b7944eb778cfaf0cade\", element=\"328e7dcc-272b-47b4-b0de-bcfa01ce4b0d\")>,\n",
    " <selenium.webdriver.remote.webelement.WebElement (session=\"6381230d4c035b7944eb778cfaf0cade\", element=\"1a81c680-0d13-4707-82b4-e6638c28e912\")>,\n",
    " <selenium.webdriver.remote.webelement.WebElement (session=\"6381230d4c035b7944eb778cfaf0cade\", element=\"6f0d9f2e-19c1-4d2e-a5a4-061a72cdcfba\")>,\n",
    " <selenium.webdriver.remote.webelement.WebElement (session=\"6381230d4c035b7944eb778cfaf0cade\", element=\"2910048d-6f7b-41d3-a060-1e36c3a3798b\")>,\n",
    " <selenium.webdriver.remote.webelement.WebElement (session=\"6381230d4c035b7944eb778cfaf0cade\", element=\"828030ac-e40d-44f8-b572-ae9173930073\")>,\n",
    " <selenium.webdriver.remote.webelement.WebElement (session=\"6381230d4c035b7944eb778cfaf0cade\", element=\"6fe3182c-61b2-4dc7-a8cb-73a6adcf3b03\")>,\n",
    " <selenium.webdriver.remote.webelement.WebElement (session=\"6381230d4c035b7944eb778cfaf0cade\", element=\"db160b2f-aa64-4571-8c66-65e601518262\")>]\n",
    "```"
   ]
  },
  {
   "cell_type": "code",
   "execution_count": 6,
   "metadata": {
    "id": "bGVqEXpHsZk3"
   },
   "outputs": [
    {
     "name": "stderr",
     "output_type": "stream",
     "text": [
      "<ipython-input-6-123cad5b2b15>:1: DeprecationWarning: executable_path has been deprecated, please pass in a Service object\n",
      "  driver = webdriver.Chrome(executable_path=\"D:/ENSAE/2A 2020 2021/S1/Python data science/chromedriver.exe\")\n"
     ]
    }
   ],
   "source": [
    "driver = webdriver.Chrome(executable_path=\"D:/ENSAE/2A 2020 2021/S1/Python data science/chromedriver.exe\")\n",
    "driver.get(url) #ouverture de la page kayak mais il y a une fenêtre de cookies qui s'ouvre, il faut accepter ou refuser "
   ]
  },
  {
   "cell_type": "markdown",
   "metadata": {
    "id": "CGOGjJRysZk4"
   },
   "source": [
    "Quand on ouvre la page kayak, il y a une fenêtre de cookie qui s'ouvre. On la ferme pour pouvoir accéder au site."
   ]
  },
  {
   "cell_type": "code",
   "execution_count": 7,
   "metadata": {
    "id": "2IJf5jFcsZk4",
    "outputId": "d5265413-6afb-4c7c-9f20-f17fdfc18364"
   },
   "outputs": [
    {
     "name": "stderr",
     "output_type": "stream",
     "text": [
      "<ipython-input-7-561bc4745d71>:4: DeprecationWarning: find_element_by_* commands are deprecated. Please use find_element() instead\n",
      "  driver.find_element_by_class_name(\"_ixe\").click() #pour fermer la page de cookies\n"
     ]
    }
   ],
   "source": [
    "#xp_close='//*[@id=\"Poxk-accept\"]'\n",
    "#driver.find_elements_by_xpath(xp_close).click()\n",
    "\n",
    "driver.find_element_by_class_name(\"_ixe\").click() #pour fermer la page de cookies"
   ]
  },
  {
   "cell_type": "markdown",
   "metadata": {
    "id": "IQi3pr2asZk5"
   },
   "source": [
    "Avec ce code on arrive à obtenir le prix d'un billet d'avion, mais on n'arrive pas à trouver un même chemin pour tous les vols afin d'obtenir une liste de prix. En effet, le chemin d'un prix change à chaque connexion. Cela semble être une technique de kayak pour éviter le scrapping."
   ]
  },
  {
   "cell_type": "code",
   "execution_count": 803,
   "metadata": {
    "id": "GwEGxfEhsZk5",
    "outputId": "301b5d26-7bc4-422c-8bf7-4b2dae97884d"
   },
   "outputs": [
    {
     "name": "stderr",
     "output_type": "stream",
     "text": [
      "<ipython-input-803-31d1f63304fa>:3: DeprecationWarning: find_elements_by_* commands are deprecated. Please use find_elements() instead\n",
      "  prices = driver.find_elements_by_xpath(xp_prices)\n"
     ]
    }
   ],
   "source": [
    "xp_prices = '//*[@id=\"T0bh-mb-aE-16e12409bb1-price-text\"]'\n",
    "#xp_prices = '//a[@class=\"booking-link\"]/span[@class=\"price option-text\"]' chemin qui serait valable pour tous les prix ?\n",
    "prices = driver.find_elements_by_xpath(xp_prices)\n",
    "prices_list = [price.text.replace('€','') for price in prices if price.text != '']"
   ]
  },
  {
   "cell_type": "code",
   "execution_count": 718,
   "metadata": {
    "id": "XztDcepXsZk5",
    "outputId": "eb365f4c-7998-4dbf-c7a4-59ad9ab03a36"
   },
   "outputs": [
    {
     "data": {
      "text/plain": [
       "['28 ']"
      ]
     },
     "execution_count": 718,
     "metadata": {},
     "output_type": "execute_result"
    }
   ],
   "source": [
    "prices_list"
   ]
  },
  {
   "cell_type": "markdown",
   "metadata": {
    "id": "wPJ4lTpyOcvY"
   },
   "source": [
    "#### Utiliser un API <a name = \"subsubparagraphe113\"></a>"
   ]
  },
  {
   "cell_type": "markdown",
   "metadata": {
    "id": "h-T8-yKPO2Ry"
   },
   "source": [
    "Nous avons ensuite pensé à utiliser un API, ce qui nous a permis d'obtenir ce code et d'avoir enfin une base de données de Kayak exploitable."
   ]
  },
  {
   "cell_type": "code",
   "execution_count": 111,
   "metadata": {
    "colab": {
     "base_uri": "https://localhost:8080/",
     "height": 444
    },
    "executionInfo": {
     "elapsed": 7756,
     "status": "ok",
     "timestamp": 1641218425640,
     "user": {
      "displayName": "Hélène Bonneau-Chloup",
      "photoUrl": "https://lh3.googleusercontent.com/a/default-user=s64",
      "userId": "17302839421988390261"
     },
     "user_tz": -60
    },
    "id": "pbZLoFcZNA2q",
    "outputId": "ba5c379b-47c6-4044-9a21-334795e4025b"
   },
   "outputs": [],
   "source": [
    "import requests\n",
    "import pandas as pd\n",
    "\n",
    "pd.set_option('display.max_columns', 500)\n",
    "\n",
    "url = \"https://www.kayak.com/s/horizon/exploreapi/destinations?airport=PAR&budget=&depart=20220201&return=20220301&duration=&exactDates=true&flightMaxStops=&stopsFilterActive=false&topRightLat=59.902761633461935&topRightLon=25.09658365167229&bottomLeftLat=26.101275008286677&bottomLeftLon=-6.719822598327707&zoomLevel=4&selectedMarker=&themeCode=&selectedDestination=\"\n",
    "req = requests.get(url)\n",
    "out = req.json()\n",
    "df = pd.json_normalize(out[\"destinations\"])\n"
   ]
  },
  {
   "cell_type": "markdown",
   "metadata": {},
   "source": [
    "**Remarque : l'API a changé je reprends l'ancienne**\n"
   ]
  },
  {
   "cell_type": "code",
   "execution_count": 114,
   "metadata": {},
   "outputs": [],
   "source": [
    "df.to_csv('D:/ENSAE/2A 2020 2021/S1/Python data science/dataframe_projet_python_01-02_01-03.csv')"
   ]
  },
  {
   "cell_type": "code",
   "execution_count": 115,
   "metadata": {
    "id": "pmhoZeRVsZk_",
    "outputId": "f4cc2b10-8429-4022-d6e8-2ca81e6232ce"
   },
   "outputs": [
    {
     "data": {
      "text/html": [
       "<div>\n",
       "<style scoped>\n",
       "    .dataframe tbody tr th:only-of-type {\n",
       "        vertical-align: middle;\n",
       "    }\n",
       "\n",
       "    .dataframe tbody tr th {\n",
       "        vertical-align: top;\n",
       "    }\n",
       "\n",
       "    .dataframe thead th {\n",
       "        text-align: right;\n",
       "    }\n",
       "</style>\n",
       "<table border=\"1\" class=\"dataframe\">\n",
       "  <thead>\n",
       "    <tr style=\"text-align: right;\">\n",
       "      <th></th>\n",
       "      <th>days</th>\n",
       "      <th>originAirportShortName</th>\n",
       "      <th>departd</th>\n",
       "      <th>returnd</th>\n",
       "      <th>airline</th>\n",
       "      <th>airlineCode</th>\n",
       "      <th>airlineIcon</th>\n",
       "      <th>clickoutUrl</th>\n",
       "      <th>flightMaxStops</th>\n",
       "      <th>flightMaxDuration</th>\n",
       "      <th>relevancyScore</th>\n",
       "      <th>travelRestrictionInfo</th>\n",
       "      <th>flightInfo.price</th>\n",
       "      <th>flightInfo.localizedPrice</th>\n",
       "      <th>flightInfo.priceUSD</th>\n",
       "      <th>flightInfo.historicalPrice</th>\n",
       "      <th>flightInfo.priceless</th>\n",
       "      <th>flightInfo.predicted</th>\n",
       "      <th>flightInfo.url</th>\n",
       "      <th>airport.latitude</th>\n",
       "      <th>airport.longitude</th>\n",
       "      <th>airport.name</th>\n",
       "      <th>airport.popularity</th>\n",
       "      <th>airport.shortName</th>\n",
       "      <th>city.id</th>\n",
       "      <th>city.name</th>\n",
       "      <th>city.image</th>\n",
       "      <th>country.code</th>\n",
       "      <th>country.name</th>\n",
       "      <th>flightInfo.historicPrices</th>\n",
       "    </tr>\n",
       "  </thead>\n",
       "  <tbody>\n",
       "    <tr>\n",
       "      <th>0</th>\n",
       "      <td>28</td>\n",
       "      <td>CDG</td>\n",
       "      <td>20220201</td>\n",
       "      <td>20220301</td>\n",
       "      <td>Multiple Airlines</td>\n",
       "      <td>None</td>\n",
       "      <td>https://content.r9cdn.net/rimg/provider-logos/...</td>\n",
       "      <td>/flights/PAR-NYC/2022-02-01/2022-03-01/</td>\n",
       "      <td>0</td>\n",
       "      <td>9999999</td>\n",
       "      <td>1000</td>\n",
       "      <td>None</td>\n",
       "      <td>322.97</td>\n",
       "      <td>$323</td>\n",
       "      <td>322.97</td>\n",
       "      <td>None</td>\n",
       "      <td>False</td>\n",
       "      <td>True</td>\n",
       "      <td>None</td>\n",
       "      <td>40.75096</td>\n",
       "      <td>-73.98741</td>\n",
       "      <td>None</td>\n",
       "      <td>85682</td>\n",
       "      <td>NYC</td>\n",
       "      <td>15830</td>\n",
       "      <td>New York</td>\n",
       "      <td>None</td>\n",
       "      <td>US</td>\n",
       "      <td>United States</td>\n",
       "      <td>NaN</td>\n",
       "    </tr>\n",
       "    <tr>\n",
       "      <th>1</th>\n",
       "      <td>28</td>\n",
       "      <td>LBG</td>\n",
       "      <td>20220201</td>\n",
       "      <td>20220301</td>\n",
       "      <td>Multiple Airlines</td>\n",
       "      <td>None</td>\n",
       "      <td>https://content.r9cdn.net/rimg/provider-logos/...</td>\n",
       "      <td>/flights/PAR-NYC/2022-02-01/2022-03-01/</td>\n",
       "      <td>0</td>\n",
       "      <td>9999999</td>\n",
       "      <td>1000</td>\n",
       "      <td>None</td>\n",
       "      <td>805.06</td>\n",
       "      <td>$805</td>\n",
       "      <td>805.06</td>\n",
       "      <td>None</td>\n",
       "      <td>False</td>\n",
       "      <td>True</td>\n",
       "      <td>None</td>\n",
       "      <td>40.75096</td>\n",
       "      <td>-73.98741</td>\n",
       "      <td>None</td>\n",
       "      <td>85682</td>\n",
       "      <td>NYC</td>\n",
       "      <td>15830</td>\n",
       "      <td>New York</td>\n",
       "      <td>None</td>\n",
       "      <td>US</td>\n",
       "      <td>United States</td>\n",
       "      <td>NaN</td>\n",
       "    </tr>\n",
       "  </tbody>\n",
       "</table>\n",
       "</div>"
      ],
      "text/plain": [
       "   days originAirportShortName   departd   returnd            airline  \\\n",
       "0    28                    CDG  20220201  20220301  Multiple Airlines   \n",
       "1    28                    LBG  20220201  20220301  Multiple Airlines   \n",
       "\n",
       "  airlineCode                                        airlineIcon  \\\n",
       "0        None  https://content.r9cdn.net/rimg/provider-logos/...   \n",
       "1        None  https://content.r9cdn.net/rimg/provider-logos/...   \n",
       "\n",
       "                               clickoutUrl  flightMaxStops  flightMaxDuration  \\\n",
       "0  /flights/PAR-NYC/2022-02-01/2022-03-01/               0            9999999   \n",
       "1  /flights/PAR-NYC/2022-02-01/2022-03-01/               0            9999999   \n",
       "\n",
       "   relevancyScore travelRestrictionInfo  flightInfo.price  \\\n",
       "0            1000                  None            322.97   \n",
       "1            1000                  None            805.06   \n",
       "\n",
       "  flightInfo.localizedPrice  flightInfo.priceUSD flightInfo.historicalPrice  \\\n",
       "0                      $323               322.97                       None   \n",
       "1                      $805               805.06                       None   \n",
       "\n",
       "   flightInfo.priceless  flightInfo.predicted flightInfo.url  \\\n",
       "0                 False                  True           None   \n",
       "1                 False                  True           None   \n",
       "\n",
       "   airport.latitude  airport.longitude airport.name  airport.popularity  \\\n",
       "0          40.75096          -73.98741         None               85682   \n",
       "1          40.75096          -73.98741         None               85682   \n",
       "\n",
       "  airport.shortName city.id city.name city.image country.code   country.name  \\\n",
       "0               NYC   15830  New York       None           US  United States   \n",
       "1               NYC   15830  New York       None           US  United States   \n",
       "\n",
       "   flightInfo.historicPrices  \n",
       "0                        NaN  \n",
       "1                        NaN  "
      ]
     },
     "execution_count": 115,
     "metadata": {},
     "output_type": "execute_result"
    }
   ],
   "source": [
    "df.columns\n",
    "df.head(2)"
   ]
  },
  {
   "cell_type": "markdown",
   "metadata": {
    "id": "x6swYr9CPP58"
   },
   "source": [
    "Le dataframe obtenu par cette méthode est riche mais nous a obligées à revoir nos objectifs. \n",
    "\n",
    "- Nous n'avons pas accès aux companies aériennes, la plupart étant regroupées dans le terme 'Multiple Airlines' (14827 occurences sur 14882). Donc nous ne pourrons pas distinguer selon les companies aériennes dans la suite de notre projet. "
   ]
  },
  {
   "cell_type": "code",
   "execution_count": 116,
   "metadata": {
    "id": "wci44YtLRD2g",
    "outputId": "bfef0a74-9586-48ee-ce93-a2e1b59e944f"
   },
   "outputs": [
    {
     "data": {
      "text/plain": [
       "Multiple Airlines      14733\n",
       "Air Austral               19\n",
       "Air France                 9\n",
       "Vipper                     6\n",
       "Air Canada                 5\n",
       "United Airlines            3\n",
       "Finnair                    2\n",
       "Brussels Airlines          2\n",
       "Iberia                     2\n",
       "Corsair                    2\n",
       "Turkish Airlines           2\n",
       "Qatar Airways              2\n",
       "TAP AIR PORTUGAL           2\n",
       "American Airlines          2\n",
       "Air Algerie                2\n",
       "Emirates                   2\n",
       "easyJet                    1\n",
       "KLM                        1\n",
       "Icelandair                 1\n",
       "Etihad Airways             1\n",
       "French Bee                 1\n",
       "Belavia                    1\n",
       "Wizz Air                   1\n",
       "British Airways            1\n",
       "LATAM Airlines             1\n",
       "La Compagnie               1\n",
       "Delta                      1\n",
       "Kenya Airways              1\n",
       "Singapore Airlines         1\n",
       "Pegasus Airlines           1\n",
       "Air Caraïbes               1\n",
       "ASL Airlines France        1\n",
       "Ryanair                    1\n",
       "Name: airline, dtype: int64"
      ]
     },
     "execution_count": 116,
     "metadata": {},
     "output_type": "execute_result"
    }
   ],
   "source": [
    "df['airline'].value_counts()"
   ]
  },
  {
   "cell_type": "markdown",
   "metadata": {},
   "source": [
    "* Nous nous intéressons donc seulement aux vols de 'Multiple Airlines'"
   ]
  },
  {
   "cell_type": "code",
   "execution_count": 117,
   "metadata": {},
   "outputs": [],
   "source": [
    "df=df[df['airline']=='Multiple Airlines']"
   ]
  },
  {
   "cell_type": "markdown",
   "metadata": {
    "id": "-JTGiBh0RXFc"
   },
   "source": [
    "- Nous n'avons pas accès au nombre de bagages, ni aux horaires des vols, ni au nombre d'escales (de la même façon que pour les compagnies aérinnes, la très grande majorité est sans escale), et ni aux émissions de $CO_2$ du vol."
   ]
  },
  {
   "cell_type": "markdown",
   "metadata": {
    "id": "V3RmFC0nSJpc"
   },
   "source": [
    "- Nous avons uniquement accès à des vols aller-retour, donc nous nous baserons sur des voyages d'un mois, en partant tous les $1^{er}$ du mois, de février à novembre inclus."
   ]
  },
  {
   "cell_type": "markdown",
   "metadata": {},
   "source": [
    "La colonne 'flightMaxStop' correspond au nombre d'escale. On remarque que la plupart des vols se font sans escale"
   ]
  },
  {
   "cell_type": "code",
   "execution_count": 118,
   "metadata": {},
   "outputs": [
    {
     "data": {
      "text/plain": [
       "0    14710\n",
       "2       12\n",
       "1        6\n",
       "3        5\n",
       "Name: flightMaxStops, dtype: int64"
      ]
     },
     "execution_count": 118,
     "metadata": {},
     "output_type": "execute_result"
    }
   ],
   "source": [
    "df['flightMaxStops'].value_counts()"
   ]
  },
  {
   "cell_type": "markdown",
   "metadata": {},
   "source": [
    "Par la suite, nous considérerons tous les vols sans escale."
   ]
  },
  {
   "cell_type": "code",
   "execution_count": 119,
   "metadata": {},
   "outputs": [],
   "source": [
    "df=df[df['flightMaxStops']==0]"
   ]
  },
  {
   "cell_type": "markdown",
   "metadata": {
    "id": "WdvNoPfvsZlE"
   },
   "source": [
    "On ne garde que les colonnes qui nous intéressent pour la suite.\n",
    "\n",
    "Remarque Hélène : je pense qu'on peut en enlever davantage"
   ]
  },
  {
   "cell_type": "code",
   "execution_count": 122,
   "metadata": {
    "id": "CYGdrW5I7vVe"
   },
   "outputs": [
    {
     "data": {
      "text/html": [
       "<div>\n",
       "<style scoped>\n",
       "    .dataframe tbody tr th:only-of-type {\n",
       "        vertical-align: middle;\n",
       "    }\n",
       "\n",
       "    .dataframe tbody tr th {\n",
       "        vertical-align: top;\n",
       "    }\n",
       "\n",
       "    .dataframe thead th {\n",
       "        text-align: right;\n",
       "    }\n",
       "</style>\n",
       "<table border=\"1\" class=\"dataframe\">\n",
       "  <thead>\n",
       "    <tr style=\"text-align: right;\">\n",
       "      <th></th>\n",
       "      <th>originAirportShortName</th>\n",
       "      <th>departd</th>\n",
       "      <th>returnd</th>\n",
       "      <th>airline</th>\n",
       "      <th>flightInfo.price</th>\n",
       "      <th>flightInfo.localizedPrice</th>\n",
       "      <th>flightInfo.priceUSD</th>\n",
       "      <th>flightMaxStops</th>\n",
       "      <th>airport.latitude</th>\n",
       "      <th>airport.longitude</th>\n",
       "      <th>airport.shortName</th>\n",
       "      <th>city.name</th>\n",
       "      <th>country.name</th>\n",
       "    </tr>\n",
       "  </thead>\n",
       "  <tbody>\n",
       "    <tr>\n",
       "      <th>0</th>\n",
       "      <td>CDG</td>\n",
       "      <td>20220201</td>\n",
       "      <td>20220301</td>\n",
       "      <td>Multiple Airlines</td>\n",
       "      <td>322.97</td>\n",
       "      <td>$323</td>\n",
       "      <td>322.97</td>\n",
       "      <td>0</td>\n",
       "      <td>40.75096</td>\n",
       "      <td>-73.98741</td>\n",
       "      <td>NYC</td>\n",
       "      <td>New York</td>\n",
       "      <td>United States</td>\n",
       "    </tr>\n",
       "    <tr>\n",
       "      <th>1</th>\n",
       "      <td>LBG</td>\n",
       "      <td>20220201</td>\n",
       "      <td>20220301</td>\n",
       "      <td>Multiple Airlines</td>\n",
       "      <td>805.06</td>\n",
       "      <td>$805</td>\n",
       "      <td>805.06</td>\n",
       "      <td>0</td>\n",
       "      <td>40.75096</td>\n",
       "      <td>-73.98741</td>\n",
       "      <td>NYC</td>\n",
       "      <td>New York</td>\n",
       "      <td>United States</td>\n",
       "    </tr>\n",
       "  </tbody>\n",
       "</table>\n",
       "</div>"
      ],
      "text/plain": [
       "  originAirportShortName   departd   returnd            airline  \\\n",
       "0                    CDG  20220201  20220301  Multiple Airlines   \n",
       "1                    LBG  20220201  20220301  Multiple Airlines   \n",
       "\n",
       "   flightInfo.price flightInfo.localizedPrice  flightInfo.priceUSD  \\\n",
       "0            322.97                      $323               322.97   \n",
       "1            805.06                      $805               805.06   \n",
       "\n",
       "   flightMaxStops  airport.latitude  airport.longitude airport.shortName  \\\n",
       "0               0          40.75096          -73.98741               NYC   \n",
       "1               0          40.75096          -73.98741               NYC   \n",
       "\n",
       "  city.name   country.name  \n",
       "0  New York  United States  \n",
       "1  New York  United States  "
      ]
     },
     "execution_count": 122,
     "metadata": {},
     "output_type": "execute_result"
    }
   ],
   "source": [
    "df=df[['originAirportShortName','departd','returnd','airline',\n",
    "     'flightInfo.price','flightInfo.localizedPrice','flightInfo.priceUSD','flightMaxStops',\n",
    "    'airport.latitude','airport.longitude','airport.shortName','city.name','country.name']]\n",
    "df.head(2) "
   ]
  },
  {
   "cell_type": "code",
   "execution_count": 120,
   "metadata": {
    "id": "SoOOv6dKsZlV",
    "outputId": "2af134ac-0759-45a4-d8c3-4ca7b74f52a4"
   },
   "outputs": [
    {
     "data": {
      "text/plain": [
       "14710"
      ]
     },
     "execution_count": 120,
     "metadata": {},
     "output_type": "execute_result"
    }
   ],
   "source": [
    "sum(df['flightInfo.price']==df['flightInfo.priceUSD'])"
   ]
  },
  {
   "cell_type": "code",
   "execution_count": 121,
   "metadata": {},
   "outputs": [
    {
     "data": {
      "text/plain": [
       "(14710, 30)"
      ]
     },
     "execution_count": 121,
     "metadata": {},
     "output_type": "execute_result"
    }
   ],
   "source": [
    "df.shape"
   ]
  },
  {
   "cell_type": "markdown",
   "metadata": {},
   "source": [
    "On remarque que 'flightInfo.price' et 'flightInfo.priceUSD' sont les mêmes donc on peut garder une seule des deux variables. "
   ]
  },
  {
   "cell_type": "code",
   "execution_count": 123,
   "metadata": {},
   "outputs": [],
   "source": [
    "df=df[['originAirportShortName','departd','returnd','airline',\n",
    "     'flightInfo.priceUSD','flightMaxStops',\n",
    "    'airport.latitude','airport.longitude','airport.shortName','city.name','country.name']]"
   ]
  },
  {
   "cell_type": "markdown",
   "metadata": {
    "id": "XhbYvUzvSkQG"
   },
   "source": [
    "Pour nous assurer de pouvoir utiliser cette base de données au cas où Kayak bloquerait nos appels, on enregistre cette première base.\n",
    "\n",
    "(De la même manière que tout à l'heure, cette commande est mise en commentaire car elle ne fonctionne qu'en local.)"
   ]
  },
  {
   "cell_type": "code",
   "execution_count": null,
   "metadata": {
    "id": "NNzoZbgqUVqO"
   },
   "outputs": [],
   "source": [
    "#df.to_csv('dataframe_projet_python_01/02_01/03.csv')"
   ]
  },
  {
   "cell_type": "markdown",
   "metadata": {
    "id": "t8W7D6T4WG1r"
   },
   "source": [
    "### Récupération des autres jeux de données <a name = subparagraphe12></a>"
   ]
  },
  {
   "cell_type": "markdown",
   "metadata": {
    "id": "1e9TAj3mWq8-"
   },
   "source": [
    "D'après ce qui a été vu ci-dessus récupérer une liste des compagnies aériennes \"lowcost\" et \"traditionnelles\" n'est plus utile."
   ]
  },
  {
   "cell_type": "markdown",
   "metadata": {
    "id": "9bq1dyM1W5a7"
   },
   "source": [
    "Pour la liste de dates, nous retenons celle-là : \n",
    "* Lundi de Pâques : lundi 18/04/2022\n",
    "* Fête du travail : dimanche 01/05/2022\n",
    "* Armistice de 1945 : dimanche 08/05/2022 \n",
    "* Ascension : jeudi 26/05/2022\n",
    "* Lundi de Pentecôte : lundi 06/06/2022\n",
    "* Fête nationale : jeudi 14/07/2022\n",
    "* Assomption : lundi 15/08/2022\n",
    "* Toussaint : mardi 01/11/2022\n",
    "* Armistice de 1918 : vendredi 11/11/2022\n",
    "\n",
    "\n",
    "\n",
    "\n"
   ]
  },
  {
   "cell_type": "markdown",
   "metadata": {
    "id": "W1SXYSCBsZlJ"
   },
   "source": [
    "Ainsi que la date des vacances scolaires en France ? (Tu ne l'avais pas mis ça je ne sais pas si tu les utilises)\n",
    "\n",
    "* hiver : \n",
    "    * Zone A = samedi 12/02/2022 au lundi 28/02/2022, Zone B = samedi 05/02/2022 au lundi 21/02/2022, Zone C = samedi 19/02/2022 au lundi 07/03/2022 \n",
    "* printemps : \n",
    "    * Zone A = samedi 16/04/2022 au lundi 02/05/2022, Zone B = samedi 09/04/2022 au lundi 24/04/2022, Zone C = samedi 23/04/2022 au lundi 09/05/2022\n",
    "* été : \n",
    "    * jeudi 07/07/2022 \n"
   ]
  },
  {
   "cell_type": "markdown",
   "metadata": {
    "id": "gwhb7x0LXkKa"
   },
   "source": [
    "Au vu de la base de données de Kayak obtenue, nous décidons d'utiliser une liste de villes à la place d'une liste d'aéroports. Nous retenons cette liste de ?? (j'ai rajouté d'autres) villes :\n",
    "* Abidjan\n",
    "* Agadir\n",
    "* Alger\n",
    "* Amman\n",
    "* Amsterdam\n",
    "* Antalya\n",
    "* Athènes\n",
    "* Bangkok\n",
    "* Barcelone\n",
    "* Berlin\n",
    "* Bogota\n",
    "* Bombay\n",
    "* Boston\n",
    "* Budapest\n",
    "* Buenos-Aires\n",
    "* Canberra\n",
    "* Caracas\n",
    "* Casablanca\n",
    "* Chicago\n",
    "* Colombo\n",
    "* Copenhague\n",
    "* Dakar\n",
    "* Delhi\n",
    "* Djerba\n",
    "* Djibouti\n",
    "* Dubaï\n",
    "* Dublin\n",
    "* Edimbourg\n",
    "* Francfort\n",
    "* Helsinki\n",
    "* Hong-Kong\n",
    "* Houston\n",
    "* Istanbul\n",
    "* Jakarta\n",
    "* Johannesburg\n",
    "* Kuala Lumpur\n",
    "* Le Caire\n",
    "* Lisbonne\n",
    "* Montréal\n",
    "* New-York\n",
    "* Los Angeles\n",
    "* Sydney\n",
    "* Rome\n",
    "* Tokyo\n",
    "* Rio de Janeiro\n",
    "* ......."
   ]
  },
  {
   "cell_type": "markdown",
   "metadata": {
    "id": "fqjEYmCEZGcH"
   },
   "source": [
    "Pour ce qui est de la distance entre Paris et les villes en questions, nous avons procédé de deux façons différentes."
   ]
  },
  {
   "cell_type": "markdown",
   "metadata": {
    "id": "9FJ6qsC6ZOqn"
   },
   "source": [
    "#### 1ère méthode : scrapping avec Selenium <a name = \"subsubparagraphe121\"></a>\n",
    "\n",
    "Les distances sont scrappées à partir d'un site internet. La ville de départ et la ville d'arrivée sont à indiquer et la distance entre ces deux villes nous est communiquée. Nous avons choisi Paris comme ville de départ et une liste est créée avec les distances entre Paris et les ?? villes citées plus haut."
   ]
  },
  {
   "cell_type": "code",
   "execution_count": 15,
   "metadata": {
    "id": "WXqfZlpAsZlL"
   },
   "outputs": [],
   "source": [
    "import re \n",
    "import numpy as np\n",
    "import pandas as pd"
   ]
  },
  {
   "cell_type": "code",
   "execution_count": 124,
   "metadata": {
    "id": "oRkvG4cvbtkQ",
    "outputId": "615082d5-5175-44ab-b83a-2d1551c4d679"
   },
   "outputs": [
    {
     "name": "stderr",
     "output_type": "stream",
     "text": [
      "<ipython-input-124-47b99da7bbe3>:10: DeprecationWarning: executable_path has been deprecated, please pass in a Service object\n",
      "  driver = webdriver.Chrome(executable_path=\"D:/ENSAE/2A 2020 2021/S1/Python data science/chromedriver.exe\",options=options)\n",
      "<ipython-input-124-47b99da7bbe3>:23: DeprecationWarning: find_element_by_* commands are deprecated. Please use find_element() instead\n",
      "  search_bar = driver.find_element_by_id(\"fr\")\n",
      "<ipython-input-124-47b99da7bbe3>:24: DeprecationWarning: find_element_by_* commands are deprecated. Please use find_element() instead\n",
      "  search_bar=driver.find_element_by_id(\"fr\").clear()\n",
      "<ipython-input-124-47b99da7bbe3>:25: DeprecationWarning: find_element_by_* commands are deprecated. Please use find_element() instead\n",
      "  search_bar = driver.find_element_by_id(\"fr\")\n",
      "<ipython-input-124-47b99da7bbe3>:28: DeprecationWarning: find_element_by_* commands are deprecated. Please use find_element() instead\n",
      "  search_bar_bis = driver.find_element_by_id(\"to\")\n",
      "<ipython-input-124-47b99da7bbe3>:29: DeprecationWarning: find_element_by_* commands are deprecated. Please use find_element() instead\n",
      "  search_bar=driver.find_element_by_id(\"to\").clear()\n",
      "<ipython-input-124-47b99da7bbe3>:30: DeprecationWarning: find_element_by_* commands are deprecated. Please use find_element() instead\n",
      "  search_bar = driver.find_element_by_id(\"to\")\n",
      "<ipython-input-124-47b99da7bbe3>:34: DeprecationWarning: find_element_by_* commands are deprecated. Please use find_element() instead\n",
      "  element = driver.find_element_by_class_name(\"btq\").click()\n",
      "<ipython-input-124-47b99da7bbe3>:35: DeprecationWarning: find_element_by_* commands are deprecated. Please use find_element() instead\n",
      "  distance = driver.find_element_by_class_name(\"t_mi\").text\n"
     ]
    },
    {
     "name": "stdout",
     "output_type": "stream",
     "text": [
      "[4878, 2288, 1347, 3368, 430, 2645, 2096, 9447, 831, 878, 8634, 0, 5533, 1244, 11053, 16924, 7621, 1889, 6653, 8518, 1027, 4198, 6574, 1815, 5535, 5247, 781, 874, 478, 1909, 9619, 8088, 2256, 11589, 8731, 10427, 3211, 1455, 5507, 5839, 9088, 16965, 1106, 9715, 9171]\n"
     ]
    }
   ],
   "source": [
    "options = webdriver.ChromeOptions()\n",
    "options.add_argument(\"private\")\n",
    "options.add_argument(\"--start-maximized\");\n",
    "options.add_argument(\"--ignore-certificate-errors\");\n",
    "options.add_argument(\"--disable-popup-blocking\");\n",
    "options.add_argument(\"--incognito\");\n",
    "options.add_argument(\"--headless\");\n",
    "\n",
    "\n",
    "driver = webdriver.Chrome(executable_path=\"D:/ENSAE/2A 2020 2021/S1/Python data science/chromedriver.exe\",options=options)\n",
    "\n",
    "distances=[]\n",
    "villes=[\"Abidjan\",\"Agadir\",\"Alger\",\"Amman\",\"Amsterdam\",\"Antalya\",\"Athènes\",\"Bangkok\",\"Barcelone\",\"Berlin\",\"Bogota\",\"Mumbai\",\n",
    " \"Boston\",\"Budapest\",\"Buenos-Aires\",\"Canberra\",\"Caracas\",\"Casablanca\",\"Chicago\",\"Colombo\",\"Copenhague\",\"Dakar\",\"Delhi\",\n",
    " \"Djerba\",\"Djibouti\",\"Dubaï\",\"Dublin\",\"Edimbourg\",\"Francfort\",\"Helsinki\",\"Hong-Kong\",\"Houston\",\"Istanbul\",\"Jakarta\",\n",
    " \"Johannesburg\",\"Kuala Lumpur\",\"Le Caire\",\"Lisbonne\",\"Montréal\",\"New-York\",\"Los Angeles\",\"Sydney\",\"Rome\",\"Tokyo\",\"Rio de Janeiro\"]\n",
    "\n",
    "\n",
    "driver.get('http://fr.distances-routieres.himmera.com/monde')\n",
    "\n",
    "for ville in villes : \n",
    "\n",
    "    search_bar = driver.find_element_by_id(\"fr\")\n",
    "    search_bar=driver.find_element_by_id(\"fr\").clear()\n",
    "    search_bar = driver.find_element_by_id(\"fr\")\n",
    "    search_bar.send_keys(\"Paris\")\n",
    "    \n",
    "    search_bar_bis = driver.find_element_by_id(\"to\")\n",
    "    search_bar=driver.find_element_by_id(\"to\").clear()\n",
    "    search_bar = driver.find_element_by_id(\"to\")\n",
    "    search_bar_bis.send_keys(ville+Keys.ENTER)\n",
    "\n",
    "\n",
    "    element = driver.find_element_by_class_name(\"btq\").click()\n",
    "    distance = driver.find_element_by_class_name(\"t_mi\").text\n",
    "    distance=re.sub('KM','',distance)\n",
    "    distance=re.sub(' ','',distance)\n",
    "    distance=int(distance)\n",
    "    distances.append(distance)\n",
    "    \n",
    "    \n",
    "    driver.get('http://fr.distances-routieres.himmera.com/monde')\n",
    "\n",
    "    \n",
    "print(distances)"
   ]
  },
  {
   "cell_type": "markdown",
   "metadata": {
    "id": "NCZJEeccsZlM"
   },
   "source": [
    "On transforme la liste obtenue précédement en un dataframe "
   ]
  },
  {
   "cell_type": "code",
   "execution_count": 125,
   "metadata": {
    "id": "ARt57HVpsZlM",
    "outputId": "774821ee-538d-4bc4-8708-6e2404ed2a4c"
   },
   "outputs": [
    {
     "data": {
      "text/html": [
       "<div>\n",
       "<style scoped>\n",
       "    .dataframe tbody tr th:only-of-type {\n",
       "        vertical-align: middle;\n",
       "    }\n",
       "\n",
       "    .dataframe tbody tr th {\n",
       "        vertical-align: top;\n",
       "    }\n",
       "\n",
       "    .dataframe thead th {\n",
       "        text-align: right;\n",
       "    }\n",
       "</style>\n",
       "<table border=\"1\" class=\"dataframe\">\n",
       "  <thead>\n",
       "    <tr style=\"text-align: right;\">\n",
       "      <th></th>\n",
       "      <th>Ville</th>\n",
       "      <th>Distance à Paris (km)</th>\n",
       "    </tr>\n",
       "  </thead>\n",
       "  <tbody>\n",
       "    <tr>\n",
       "      <th>0</th>\n",
       "      <td>Abidjan</td>\n",
       "      <td>4878</td>\n",
       "    </tr>\n",
       "    <tr>\n",
       "      <th>1</th>\n",
       "      <td>Agadir</td>\n",
       "      <td>2288</td>\n",
       "    </tr>\n",
       "    <tr>\n",
       "      <th>2</th>\n",
       "      <td>Alger</td>\n",
       "      <td>1347</td>\n",
       "    </tr>\n",
       "    <tr>\n",
       "      <th>3</th>\n",
       "      <td>Amman</td>\n",
       "      <td>3368</td>\n",
       "    </tr>\n",
       "    <tr>\n",
       "      <th>4</th>\n",
       "      <td>Amsterdam</td>\n",
       "      <td>430</td>\n",
       "    </tr>\n",
       "    <tr>\n",
       "      <th>5</th>\n",
       "      <td>Antalya</td>\n",
       "      <td>2645</td>\n",
       "    </tr>\n",
       "    <tr>\n",
       "      <th>6</th>\n",
       "      <td>Athènes</td>\n",
       "      <td>2096</td>\n",
       "    </tr>\n",
       "    <tr>\n",
       "      <th>7</th>\n",
       "      <td>Bangkok</td>\n",
       "      <td>9447</td>\n",
       "    </tr>\n",
       "    <tr>\n",
       "      <th>8</th>\n",
       "      <td>Barcelone</td>\n",
       "      <td>831</td>\n",
       "    </tr>\n",
       "    <tr>\n",
       "      <th>9</th>\n",
       "      <td>Berlin</td>\n",
       "      <td>878</td>\n",
       "    </tr>\n",
       "    <tr>\n",
       "      <th>10</th>\n",
       "      <td>Bogota</td>\n",
       "      <td>8634</td>\n",
       "    </tr>\n",
       "    <tr>\n",
       "      <th>11</th>\n",
       "      <td>Mumbai</td>\n",
       "      <td>0</td>\n",
       "    </tr>\n",
       "    <tr>\n",
       "      <th>12</th>\n",
       "      <td>Boston</td>\n",
       "      <td>5533</td>\n",
       "    </tr>\n",
       "    <tr>\n",
       "      <th>13</th>\n",
       "      <td>Budapest</td>\n",
       "      <td>1244</td>\n",
       "    </tr>\n",
       "    <tr>\n",
       "      <th>14</th>\n",
       "      <td>Buenos-Aires</td>\n",
       "      <td>11053</td>\n",
       "    </tr>\n",
       "    <tr>\n",
       "      <th>15</th>\n",
       "      <td>Canberra</td>\n",
       "      <td>16924</td>\n",
       "    </tr>\n",
       "    <tr>\n",
       "      <th>16</th>\n",
       "      <td>Caracas</td>\n",
       "      <td>7621</td>\n",
       "    </tr>\n",
       "    <tr>\n",
       "      <th>17</th>\n",
       "      <td>Casablanca</td>\n",
       "      <td>1889</td>\n",
       "    </tr>\n",
       "    <tr>\n",
       "      <th>18</th>\n",
       "      <td>Chicago</td>\n",
       "      <td>6653</td>\n",
       "    </tr>\n",
       "    <tr>\n",
       "      <th>19</th>\n",
       "      <td>Colombo</td>\n",
       "      <td>8518</td>\n",
       "    </tr>\n",
       "    <tr>\n",
       "      <th>20</th>\n",
       "      <td>Copenhague</td>\n",
       "      <td>1027</td>\n",
       "    </tr>\n",
       "    <tr>\n",
       "      <th>21</th>\n",
       "      <td>Dakar</td>\n",
       "      <td>4198</td>\n",
       "    </tr>\n",
       "    <tr>\n",
       "      <th>22</th>\n",
       "      <td>Delhi</td>\n",
       "      <td>6574</td>\n",
       "    </tr>\n",
       "    <tr>\n",
       "      <th>23</th>\n",
       "      <td>Djerba</td>\n",
       "      <td>1815</td>\n",
       "    </tr>\n",
       "    <tr>\n",
       "      <th>24</th>\n",
       "      <td>Djibouti</td>\n",
       "      <td>5535</td>\n",
       "    </tr>\n",
       "    <tr>\n",
       "      <th>25</th>\n",
       "      <td>Dubaï</td>\n",
       "      <td>5247</td>\n",
       "    </tr>\n",
       "    <tr>\n",
       "      <th>26</th>\n",
       "      <td>Dublin</td>\n",
       "      <td>781</td>\n",
       "    </tr>\n",
       "    <tr>\n",
       "      <th>27</th>\n",
       "      <td>Edimbourg</td>\n",
       "      <td>874</td>\n",
       "    </tr>\n",
       "    <tr>\n",
       "      <th>28</th>\n",
       "      <td>Francfort</td>\n",
       "      <td>478</td>\n",
       "    </tr>\n",
       "    <tr>\n",
       "      <th>29</th>\n",
       "      <td>Helsinki</td>\n",
       "      <td>1909</td>\n",
       "    </tr>\n",
       "    <tr>\n",
       "      <th>30</th>\n",
       "      <td>Hong-Kong</td>\n",
       "      <td>9619</td>\n",
       "    </tr>\n",
       "    <tr>\n",
       "      <th>31</th>\n",
       "      <td>Houston</td>\n",
       "      <td>8088</td>\n",
       "    </tr>\n",
       "    <tr>\n",
       "      <th>32</th>\n",
       "      <td>Istanbul</td>\n",
       "      <td>2256</td>\n",
       "    </tr>\n",
       "    <tr>\n",
       "      <th>33</th>\n",
       "      <td>Jakarta</td>\n",
       "      <td>11589</td>\n",
       "    </tr>\n",
       "    <tr>\n",
       "      <th>34</th>\n",
       "      <td>Johannesburg</td>\n",
       "      <td>8731</td>\n",
       "    </tr>\n",
       "    <tr>\n",
       "      <th>35</th>\n",
       "      <td>Kuala Lumpur</td>\n",
       "      <td>10427</td>\n",
       "    </tr>\n",
       "    <tr>\n",
       "      <th>36</th>\n",
       "      <td>Le Caire</td>\n",
       "      <td>3211</td>\n",
       "    </tr>\n",
       "    <tr>\n",
       "      <th>37</th>\n",
       "      <td>Lisbonne</td>\n",
       "      <td>1455</td>\n",
       "    </tr>\n",
       "    <tr>\n",
       "      <th>38</th>\n",
       "      <td>Montréal</td>\n",
       "      <td>5507</td>\n",
       "    </tr>\n",
       "    <tr>\n",
       "      <th>39</th>\n",
       "      <td>New-York</td>\n",
       "      <td>5839</td>\n",
       "    </tr>\n",
       "    <tr>\n",
       "      <th>40</th>\n",
       "      <td>Los Angeles</td>\n",
       "      <td>9088</td>\n",
       "    </tr>\n",
       "    <tr>\n",
       "      <th>41</th>\n",
       "      <td>Sydney</td>\n",
       "      <td>16965</td>\n",
       "    </tr>\n",
       "    <tr>\n",
       "      <th>42</th>\n",
       "      <td>Rome</td>\n",
       "      <td>1106</td>\n",
       "    </tr>\n",
       "    <tr>\n",
       "      <th>43</th>\n",
       "      <td>Tokyo</td>\n",
       "      <td>9715</td>\n",
       "    </tr>\n",
       "    <tr>\n",
       "      <th>44</th>\n",
       "      <td>Rio de Janeiro</td>\n",
       "      <td>9171</td>\n",
       "    </tr>\n",
       "  </tbody>\n",
       "</table>\n",
       "</div>"
      ],
      "text/plain": [
       "             Ville Distance à Paris (km)\n",
       "0          Abidjan                  4878\n",
       "1           Agadir                  2288\n",
       "2            Alger                  1347\n",
       "3            Amman                  3368\n",
       "4        Amsterdam                   430\n",
       "5          Antalya                  2645\n",
       "6          Athènes                  2096\n",
       "7          Bangkok                  9447\n",
       "8        Barcelone                   831\n",
       "9           Berlin                   878\n",
       "10          Bogota                  8634\n",
       "11          Mumbai                     0\n",
       "12          Boston                  5533\n",
       "13        Budapest                  1244\n",
       "14    Buenos-Aires                 11053\n",
       "15        Canberra                 16924\n",
       "16         Caracas                  7621\n",
       "17      Casablanca                  1889\n",
       "18         Chicago                  6653\n",
       "19         Colombo                  8518\n",
       "20      Copenhague                  1027\n",
       "21           Dakar                  4198\n",
       "22           Delhi                  6574\n",
       "23          Djerba                  1815\n",
       "24        Djibouti                  5535\n",
       "25           Dubaï                  5247\n",
       "26          Dublin                   781\n",
       "27       Edimbourg                   874\n",
       "28       Francfort                   478\n",
       "29        Helsinki                  1909\n",
       "30       Hong-Kong                  9619\n",
       "31         Houston                  8088\n",
       "32        Istanbul                  2256\n",
       "33         Jakarta                 11589\n",
       "34    Johannesburg                  8731\n",
       "35    Kuala Lumpur                 10427\n",
       "36        Le Caire                  3211\n",
       "37        Lisbonne                  1455\n",
       "38        Montréal                  5507\n",
       "39        New-York                  5839\n",
       "40     Los Angeles                  9088\n",
       "41          Sydney                 16965\n",
       "42            Rome                  1106\n",
       "43           Tokyo                  9715\n",
       "44  Rio de Janeiro                  9171"
      ]
     },
     "execution_count": 125,
     "metadata": {},
     "output_type": "execute_result"
    }
   ],
   "source": [
    "list_dist=np.array([villes,distances]).T\n",
    "df_dist=pd.DataFrame(list_dist)\n",
    "df_dist.columns=['Ville','Distance à Paris (km)']\n",
    "df_dist"
   ]
  },
  {
   "cell_type": "markdown",
   "metadata": {
    "id": "-5SZ-jFCsZlM"
   },
   "source": [
    "#### 2ème méthode : calcul avec les coordonnées géographiques <a name = \"subsubparagraphe122\"></a>"
   ]
  },
  {
   "cell_type": "markdown",
   "metadata": {
    "id": "WnJjR3lFsZlN"
   },
   "source": [
    "On crée un fonction qui permet de calculer les distances entre deux villes à partir de leur latitude et longitude"
   ]
  },
  {
   "cell_type": "code",
   "execution_count": 126,
   "metadata": {
    "id": "cxcCBBavsZlN"
   },
   "outputs": [],
   "source": [
    "from math import radians\n",
    "\n",
    "def haversine(row):\n",
    "    lon1 = 2.3473 \n",
    "    lat1 = 48.85749\n",
    "    lon2 = row['airport.longitude']\n",
    "    lat2 = row['airport.latitude']\n",
    "    lon1, lat1, lon2, lat2 = map(radians, [lon1, lat1, lon2, lat2])\n",
    "    dlon = lon2 - lon1 \n",
    "    dlat = lat2 - lat1 \n",
    "    a = np.sin(dlat/2)**2 + np.cos(lat1) * np.cos(lat2) * np.sin(dlon/2)**2\n",
    "    c = 2 * np.arcsin(np.sqrt(a)) \n",
    "    km = round(6367 * c)\n",
    "    return km"
   ]
  },
  {
   "cell_type": "markdown",
   "metadata": {
    "id": "5xa2tmaksZlN"
   },
   "source": [
    "On ajoute une colonne distance entre Paris et la ville correspondante"
   ]
  },
  {
   "cell_type": "code",
   "execution_count": 127,
   "metadata": {
    "id": "R2He3WEzsZlN",
    "outputId": "c92e09f8-d73c-4489-d7e3-6a08079170d1"
   },
   "outputs": [
    {
     "data": {
      "text/html": [
       "<div>\n",
       "<style scoped>\n",
       "    .dataframe tbody tr th:only-of-type {\n",
       "        vertical-align: middle;\n",
       "    }\n",
       "\n",
       "    .dataframe tbody tr th {\n",
       "        vertical-align: top;\n",
       "    }\n",
       "\n",
       "    .dataframe thead th {\n",
       "        text-align: right;\n",
       "    }\n",
       "</style>\n",
       "<table border=\"1\" class=\"dataframe\">\n",
       "  <thead>\n",
       "    <tr style=\"text-align: right;\">\n",
       "      <th></th>\n",
       "      <th>originAirportShortName</th>\n",
       "      <th>departd</th>\n",
       "      <th>returnd</th>\n",
       "      <th>airline</th>\n",
       "      <th>flightInfo.priceUSD</th>\n",
       "      <th>flightMaxStops</th>\n",
       "      <th>airport.latitude</th>\n",
       "      <th>airport.longitude</th>\n",
       "      <th>airport.shortName</th>\n",
       "      <th>city.name</th>\n",
       "      <th>country.name</th>\n",
       "      <th>distance</th>\n",
       "    </tr>\n",
       "  </thead>\n",
       "  <tbody>\n",
       "    <tr>\n",
       "      <th>0</th>\n",
       "      <td>CDG</td>\n",
       "      <td>20220201</td>\n",
       "      <td>20220301</td>\n",
       "      <td>Multiple Airlines</td>\n",
       "      <td>322.97</td>\n",
       "      <td>0</td>\n",
       "      <td>40.75096</td>\n",
       "      <td>-73.98741</td>\n",
       "      <td>NYC</td>\n",
       "      <td>New York</td>\n",
       "      <td>United States</td>\n",
       "      <td>5829</td>\n",
       "    </tr>\n",
       "    <tr>\n",
       "      <th>1</th>\n",
       "      <td>LBG</td>\n",
       "      <td>20220201</td>\n",
       "      <td>20220301</td>\n",
       "      <td>Multiple Airlines</td>\n",
       "      <td>805.06</td>\n",
       "      <td>0</td>\n",
       "      <td>40.75096</td>\n",
       "      <td>-73.98741</td>\n",
       "      <td>NYC</td>\n",
       "      <td>New York</td>\n",
       "      <td>United States</td>\n",
       "      <td>5829</td>\n",
       "    </tr>\n",
       "  </tbody>\n",
       "</table>\n",
       "</div>"
      ],
      "text/plain": [
       "  originAirportShortName   departd   returnd            airline  \\\n",
       "0                    CDG  20220201  20220301  Multiple Airlines   \n",
       "1                    LBG  20220201  20220301  Multiple Airlines   \n",
       "\n",
       "   flightInfo.priceUSD  flightMaxStops  airport.latitude  airport.longitude  \\\n",
       "0               322.97               0          40.75096          -73.98741   \n",
       "1               805.06               0          40.75096          -73.98741   \n",
       "\n",
       "  airport.shortName city.name   country.name  distance  \n",
       "0               NYC  New York  United States      5829  \n",
       "1               NYC  New York  United States      5829  "
      ]
     },
     "execution_count": 127,
     "metadata": {},
     "output_type": "execute_result"
    }
   ],
   "source": [
    "df['distance'] = df.apply(lambda row: haversine(row), axis=1)\n",
    "df.head(2)"
   ]
  },
  {
   "cell_type": "markdown",
   "metadata": {
    "id": "lKsU-DoEsZlO"
   },
   "source": [
    "La deuxième méthode sera privilégiée car le nom des villes dans le data frame sont en anglais. Par exemple il est indiqué \"London\" et non \"Londres\", or cela pose un problème avec le site utilisé pour scrapper les distances car il n'accepte que des noms français (je ne sais pas si c'est une bonne raison pcq on peut très bien utiliser un site en anglais pour résoudre le pb...)"
   ]
  },
  {
   "cell_type": "markdown",
   "metadata": {
    "id": "DnbzFgR8aJHy"
   },
   "source": [
    "## Statistiques descriptives <a name = \"paragraphe2\"></a>"
   ]
  },
  {
   "cell_type": "markdown",
   "metadata": {
    "id": "omtI2UcqaU8W"
   },
   "source": [
    "### Prix des vols en fonction de la destination (à date donnée : du 01/02 au 01/03) <a name = \"subparagraphe21\"></a>"
   ]
  },
  {
   "cell_type": "markdown",
   "metadata": {
    "id": "YhRZxve3aiau"
   },
   "source": [
    "On s'intéresse aux vols au départ des aéroports de Roissy-Charles de Gaulles (CGD) et de Orly (ORY). On laisse de côté les aéroports Paris-Le Bourget (LBG), Paris-Vatry (XCR) et Beauvais (BVA). Un nouveau dataframe **df_paris** est crée"
   ]
  },
  {
   "cell_type": "code",
   "execution_count": 128,
   "metadata": {
    "id": "d9Mv5tjDsZlP"
   },
   "outputs": [],
   "source": [
    "df_paris=df.loc[df['originAirportShortName'].isin(['CDG','ORY'])]"
   ]
  },
  {
   "cell_type": "markdown",
   "metadata": {
    "id": "ZwvoLUFpsZlP"
   },
   "source": [
    "Dans la colonne des prix, il y a des prix non renseignés notés en **'999999.0'** on les remplace par des **0**"
   ]
  },
  {
   "cell_type": "code",
   "execution_count": 130,
   "metadata": {
    "colab": {
     "base_uri": "https://localhost:8080/"
    },
    "executionInfo": {
     "elapsed": 7,
     "status": "ok",
     "timestamp": 1641218436351,
     "user": {
      "displayName": "Hélène Bonneau-Chloup",
      "photoUrl": "https://lh3.googleusercontent.com/a/default-user=s64",
      "userId": "17302839421988390261"
     },
     "user_tz": -60
    },
    "id": "s_bv82_IsZlP",
    "outputId": "57935693-abbc-4f71-ee71-c3f42f4b9ae8"
   },
   "outputs": [
    {
     "name": "stderr",
     "output_type": "stream",
     "text": [
      "C:\\Users\\Laura\\anaconda3\\lib\\site-packages\\pandas\\core\\indexing.py:1765: SettingWithCopyWarning: \n",
      "A value is trying to be set on a copy of a slice from a DataFrame.\n",
      "Try using .loc[row_indexer,col_indexer] = value instead\n",
      "\n",
      "See the caveats in the documentation: https://pandas.pydata.org/pandas-docs/stable/user_guide/indexing.html#returning-a-view-versus-a-copy\n",
      "  isetter(loc, value)\n"
     ]
    }
   ],
   "source": [
    "df_paris.loc[df_paris['flightInfo.priceUSD']== 999999.0] = 0 "
   ]
  },
  {
   "cell_type": "markdown",
   "metadata": {
    "id": "BXJaiF2UsZlP"
   },
   "source": [
    "Dans le dataframe, le nom des villes est en anglais. On crée donc une liste de villes avec des noms en anglais"
   ]
  },
  {
   "cell_type": "code",
   "execution_count": 179,
   "metadata": {
    "id": "JCZIMVsysZlQ"
   },
   "outputs": [],
   "source": [
    "villes_en=[\"Agadir\",\"Amsterdam\",\"Antalya\",\"Athens\",\"Bangkok\",\"Barcelona\",\"Berlin\",\"Mumbai\",\n",
    "           \"Boston\",\"Budapest\",\"Canberra\",\"Casablanca\",\"Chicago\",\"Colombo\",\"Copenhagen\",\"Oslo\",\"Dubai\",\n",
    "           \"New Delhi\",\"Tunis\",\"Djibouti\",\"Dublin\",\"Edinburgh\",\"Helsinki\",\"Hong Kong\",\"Houston\",\"Jakarta\",\n",
    "           \"Johannesburg\",\"Kuala Lumpur\",\"Cairo\",\"Lisbon\",\"Montreal\",\"New York\",\"Rome\",\"Tokyo\",\n",
    "           \"Lagos\",'Port Louis',\"Nairobi\",\"Moscow\",\"Hanoi\",\"London\", \"Rio de Janeiro\",\"Liberia\",\n",
    "           \"Guadalajara\",\"Auckland\",\"Concepción\", \"Izmir\",\"Chicago\"]\n"
   ]
  },
  {
   "cell_type": "markdown",
   "metadata": {
    "id": "oHfP4_oTsZlT"
   },
   "source": [
    "Il y a certaines grandes villes qui apparaissent dans plusieurs pays. Par exemple, il y a Rome en Italie et Rome aux Etats-Unis. Ces villes ne seront donc pas prises en compte. Il y a par exemple Buenos Aires (Argentine et Costa Rica), Sydney (Autralie et Canada)"
   ]
  },
  {
   "cell_type": "code",
   "execution_count": 169,
   "metadata": {
    "id": "CAseLvGosZlT",
    "outputId": "bd7ef71e-bf9c-4497-b396-21065cd4827f"
   },
   "outputs": [
    {
     "data": {
      "text/plain": [
       "Italy            6\n",
       "United States    2\n",
       "Name: country.name, dtype: int64"
      ]
     },
     "execution_count": 169,
     "metadata": {},
     "output_type": "execute_result"
    }
   ],
   "source": [
    "df_paris[df_paris['city.name']==\"Rome\"]['country.name'].value_counts()"
   ]
  },
  {
   "cell_type": "code",
   "execution_count": 249,
   "metadata": {},
   "outputs": [],
   "source": [
    "#df_paris[df_paris['country.name']==\"Ecuador\"]"
   ]
  },
  {
   "cell_type": "markdown",
   "metadata": {
    "id": "Fp7KKoKcsZlU"
   },
   "source": [
    "**Calcul du prix moyen d'un billet**"
   ]
  },
  {
   "cell_type": "code",
   "execution_count": 183,
   "metadata": {
    "id": "-bRFtSeJbs3q"
   },
   "outputs": [],
   "source": [
    "prix_moyen=[]\n",
    "nb=[]\n",
    "dist=[]\n",
    "for ville in villes_en : \n",
    "    p=df_paris[df_paris['city.name']==ville]['flightInfo.priceUSD'].astype(int).mean()\n",
    "    nbr=df_paris[df_paris['city.name']==ville]['flightInfo.priceUSD'].count()\n",
    "    distance=df_paris[df_paris['city.name']==ville]['distance'].iloc[0]\n",
    "    dist.append(distance)\n",
    "    nb.append(nbr)\n",
    "    prix_moyen.append(round(p))\n",
    "    "
   ]
  },
  {
   "cell_type": "markdown",
   "metadata": {
    "id": "fhaa_xQVsZlV"
   },
   "source": [
    "#### On crée une liste de pays correspondant avec les villes sélectionnées"
   ]
  },
  {
   "cell_type": "code",
   "execution_count": 184,
   "metadata": {
    "id": "GSY83o5CsZlV"
   },
   "outputs": [],
   "source": [
    "pays=[]\n",
    "for ville in villes_en:\n",
    "    pays.append(df_paris[df_paris['city.name']==ville]['country.name'].iloc[0])"
   ]
  },
  {
   "cell_type": "markdown",
   "metadata": {
    "id": "jpKmqqT4sZlV"
   },
   "source": [
    "#### Création d'un dataframe avec le prix et les villes "
   ]
  },
  {
   "cell_type": "code",
   "execution_count": 185,
   "metadata": {
    "id": "Qj39-yeGsZlW",
    "outputId": "07f3973c-1964-4594-f5c4-bdd102ce2f1e"
   },
   "outputs": [
    {
     "data": {
      "text/html": [
       "<div>\n",
       "<style scoped>\n",
       "    .dataframe tbody tr th:only-of-type {\n",
       "        vertical-align: middle;\n",
       "    }\n",
       "\n",
       "    .dataframe tbody tr th {\n",
       "        vertical-align: top;\n",
       "    }\n",
       "\n",
       "    .dataframe thead th {\n",
       "        text-align: right;\n",
       "    }\n",
       "</style>\n",
       "<table border=\"1\" class=\"dataframe\">\n",
       "  <thead>\n",
       "    <tr style=\"text-align: right;\">\n",
       "      <th></th>\n",
       "      <th>Ville</th>\n",
       "      <th>Pays</th>\n",
       "      <th>Distance à Paris (km)</th>\n",
       "      <th>Prix moyen du vol en $</th>\n",
       "      <th>Nombre de vol</th>\n",
       "    </tr>\n",
       "  </thead>\n",
       "  <tbody>\n",
       "    <tr>\n",
       "      <th>9</th>\n",
       "      <td>Budapest</td>\n",
       "      <td>Hungary</td>\n",
       "      <td>1261</td>\n",
       "      <td>42</td>\n",
       "      <td>2</td>\n",
       "    </tr>\n",
       "    <tr>\n",
       "      <th>5</th>\n",
       "      <td>Barcelona</td>\n",
       "      <td>Spain</td>\n",
       "      <td>840</td>\n",
       "      <td>49</td>\n",
       "      <td>2</td>\n",
       "    </tr>\n",
       "    <tr>\n",
       "      <th>29</th>\n",
       "      <td>Lisbon</td>\n",
       "      <td>Portugal</td>\n",
       "      <td>1447</td>\n",
       "      <td>54</td>\n",
       "      <td>2</td>\n",
       "    </tr>\n",
       "    <tr>\n",
       "      <th>6</th>\n",
       "      <td>Berlin</td>\n",
       "      <td>Germany</td>\n",
       "      <td>876</td>\n",
       "      <td>66</td>\n",
       "      <td>2</td>\n",
       "    </tr>\n",
       "    <tr>\n",
       "      <th>20</th>\n",
       "      <td>Dublin</td>\n",
       "      <td>Ireland</td>\n",
       "      <td>785</td>\n",
       "      <td>66</td>\n",
       "      <td>2</td>\n",
       "    </tr>\n",
       "    <tr>\n",
       "      <th>21</th>\n",
       "      <td>Edinburgh</td>\n",
       "      <td>United Kingdom</td>\n",
       "      <td>878</td>\n",
       "      <td>74</td>\n",
       "      <td>2</td>\n",
       "    </tr>\n",
       "    <tr>\n",
       "      <th>14</th>\n",
       "      <td>Copenhagen</td>\n",
       "      <td>Denmark</td>\n",
       "      <td>1026</td>\n",
       "      <td>90</td>\n",
       "      <td>2</td>\n",
       "    </tr>\n",
       "    <tr>\n",
       "      <th>1</th>\n",
       "      <td>Amsterdam</td>\n",
       "      <td>Netherlands</td>\n",
       "      <td>420</td>\n",
       "      <td>96</td>\n",
       "      <td>2</td>\n",
       "    </tr>\n",
       "    <tr>\n",
       "      <th>3</th>\n",
       "      <td>Athens</td>\n",
       "      <td>Greece</td>\n",
       "      <td>2113</td>\n",
       "      <td>112</td>\n",
       "      <td>2</td>\n",
       "    </tr>\n",
       "    <tr>\n",
       "      <th>15</th>\n",
       "      <td>Oslo</td>\n",
       "      <td>Norway</td>\n",
       "      <td>1378</td>\n",
       "      <td>112</td>\n",
       "      <td>4</td>\n",
       "    </tr>\n",
       "    <tr>\n",
       "      <th>22</th>\n",
       "      <td>Helsinki</td>\n",
       "      <td>Finland</td>\n",
       "      <td>1917</td>\n",
       "      <td>134</td>\n",
       "      <td>2</td>\n",
       "    </tr>\n",
       "    <tr>\n",
       "      <th>18</th>\n",
       "      <td>Tunis</td>\n",
       "      <td>Tunisia</td>\n",
       "      <td>1479</td>\n",
       "      <td>148</td>\n",
       "      <td>2</td>\n",
       "    </tr>\n",
       "    <tr>\n",
       "      <th>45</th>\n",
       "      <td>Izmir</td>\n",
       "      <td>Turkey</td>\n",
       "      <td>2291</td>\n",
       "      <td>151</td>\n",
       "      <td>4</td>\n",
       "    </tr>\n",
       "    <tr>\n",
       "      <th>39</th>\n",
       "      <td>London</td>\n",
       "      <td>United Kingdom</td>\n",
       "      <td>343</td>\n",
       "      <td>152</td>\n",
       "      <td>16</td>\n",
       "    </tr>\n",
       "    <tr>\n",
       "      <th>2</th>\n",
       "      <td>Antalya</td>\n",
       "      <td>Turkey</td>\n",
       "      <td>2648</td>\n",
       "      <td>196</td>\n",
       "      <td>2</td>\n",
       "    </tr>\n",
       "    <tr>\n",
       "      <th>0</th>\n",
       "      <td>Agadir</td>\n",
       "      <td>Morocco</td>\n",
       "      <td>2286</td>\n",
       "      <td>198</td>\n",
       "      <td>2</td>\n",
       "    </tr>\n",
       "    <tr>\n",
       "      <th>32</th>\n",
       "      <td>Rome</td>\n",
       "      <td>Italy</td>\n",
       "      <td>1105</td>\n",
       "      <td>245</td>\n",
       "      <td>8</td>\n",
       "    </tr>\n",
       "    <tr>\n",
       "      <th>11</th>\n",
       "      <td>Casablanca</td>\n",
       "      <td>Morocco</td>\n",
       "      <td>1908</td>\n",
       "      <td>246</td>\n",
       "      <td>2</td>\n",
       "    </tr>\n",
       "    <tr>\n",
       "      <th>28</th>\n",
       "      <td>Cairo</td>\n",
       "      <td>Egypt</td>\n",
       "      <td>3213</td>\n",
       "      <td>298</td>\n",
       "      <td>2</td>\n",
       "    </tr>\n",
       "    <tr>\n",
       "      <th>37</th>\n",
       "      <td>Moscow</td>\n",
       "      <td>Russia</td>\n",
       "      <td>2485</td>\n",
       "      <td>307</td>\n",
       "      <td>10</td>\n",
       "    </tr>\n",
       "    <tr>\n",
       "      <th>30</th>\n",
       "      <td>Montreal</td>\n",
       "      <td>Canada</td>\n",
       "      <td>5502</td>\n",
       "      <td>422</td>\n",
       "      <td>4</td>\n",
       "    </tr>\n",
       "    <tr>\n",
       "      <th>16</th>\n",
       "      <td>Dubai</td>\n",
       "      <td>United Arab Emirates</td>\n",
       "      <td>5260</td>\n",
       "      <td>442</td>\n",
       "      <td>2</td>\n",
       "    </tr>\n",
       "    <tr>\n",
       "      <th>46</th>\n",
       "      <td>Chicago</td>\n",
       "      <td>United States</td>\n",
       "      <td>6656</td>\n",
       "      <td>511</td>\n",
       "      <td>8</td>\n",
       "    </tr>\n",
       "    <tr>\n",
       "      <th>12</th>\n",
       "      <td>Chicago</td>\n",
       "      <td>United States</td>\n",
       "      <td>6656</td>\n",
       "      <td>511</td>\n",
       "      <td>8</td>\n",
       "    </tr>\n",
       "    <tr>\n",
       "      <th>23</th>\n",
       "      <td>Hong Kong</td>\n",
       "      <td>Hong Kong</td>\n",
       "      <td>9606</td>\n",
       "      <td>528</td>\n",
       "      <td>2</td>\n",
       "    </tr>\n",
       "    <tr>\n",
       "      <th>17</th>\n",
       "      <td>New Delhi</td>\n",
       "      <td>India</td>\n",
       "      <td>6579</td>\n",
       "      <td>534</td>\n",
       "      <td>2</td>\n",
       "    </tr>\n",
       "    <tr>\n",
       "      <th>24</th>\n",
       "      <td>Houston</td>\n",
       "      <td>United States</td>\n",
       "      <td>8084</td>\n",
       "      <td>546</td>\n",
       "      <td>4</td>\n",
       "    </tr>\n",
       "    <tr>\n",
       "      <th>31</th>\n",
       "      <td>New York</td>\n",
       "      <td>United States</td>\n",
       "      <td>5829</td>\n",
       "      <td>562</td>\n",
       "      <td>4</td>\n",
       "    </tr>\n",
       "    <tr>\n",
       "      <th>34</th>\n",
       "      <td>Lagos</td>\n",
       "      <td>Nigeria</td>\n",
       "      <td>4699</td>\n",
       "      <td>570</td>\n",
       "      <td>2</td>\n",
       "    </tr>\n",
       "    <tr>\n",
       "      <th>42</th>\n",
       "      <td>Guadalajara</td>\n",
       "      <td>Mexico</td>\n",
       "      <td>9378</td>\n",
       "      <td>579</td>\n",
       "      <td>2</td>\n",
       "    </tr>\n",
       "    <tr>\n",
       "      <th>7</th>\n",
       "      <td>Mumbai</td>\n",
       "      <td>India</td>\n",
       "      <td>7003</td>\n",
       "      <td>588</td>\n",
       "      <td>2</td>\n",
       "    </tr>\n",
       "    <tr>\n",
       "      <th>41</th>\n",
       "      <td>Liberia</td>\n",
       "      <td>Costa Rica</td>\n",
       "      <td>8964</td>\n",
       "      <td>591</td>\n",
       "      <td>2</td>\n",
       "    </tr>\n",
       "    <tr>\n",
       "      <th>19</th>\n",
       "      <td>Djibouti</td>\n",
       "      <td>Djibouti</td>\n",
       "      <td>5591</td>\n",
       "      <td>609</td>\n",
       "      <td>2</td>\n",
       "    </tr>\n",
       "    <tr>\n",
       "      <th>33</th>\n",
       "      <td>Tokyo</td>\n",
       "      <td>Japan</td>\n",
       "      <td>9706</td>\n",
       "      <td>629</td>\n",
       "      <td>6</td>\n",
       "    </tr>\n",
       "    <tr>\n",
       "      <th>8</th>\n",
       "      <td>Boston</td>\n",
       "      <td>United States</td>\n",
       "      <td>5524</td>\n",
       "      <td>634</td>\n",
       "      <td>4</td>\n",
       "    </tr>\n",
       "    <tr>\n",
       "      <th>40</th>\n",
       "      <td>Rio de Janeiro</td>\n",
       "      <td>Brazil</td>\n",
       "      <td>9163</td>\n",
       "      <td>642</td>\n",
       "      <td>6</td>\n",
       "    </tr>\n",
       "    <tr>\n",
       "      <th>26</th>\n",
       "      <td>Johannesburg</td>\n",
       "      <td>South Africa</td>\n",
       "      <td>8721</td>\n",
       "      <td>643</td>\n",
       "      <td>4</td>\n",
       "    </tr>\n",
       "    <tr>\n",
       "      <th>36</th>\n",
       "      <td>Nairobi</td>\n",
       "      <td>Kenya</td>\n",
       "      <td>6489</td>\n",
       "      <td>650</td>\n",
       "      <td>4</td>\n",
       "    </tr>\n",
       "    <tr>\n",
       "      <th>35</th>\n",
       "      <td>Port Louis</td>\n",
       "      <td>Mauritius</td>\n",
       "      <td>9442</td>\n",
       "      <td>667</td>\n",
       "      <td>2</td>\n",
       "    </tr>\n",
       "    <tr>\n",
       "      <th>4</th>\n",
       "      <td>Bangkok</td>\n",
       "      <td>Thailand</td>\n",
       "      <td>9432</td>\n",
       "      <td>688</td>\n",
       "      <td>2</td>\n",
       "    </tr>\n",
       "    <tr>\n",
       "      <th>27</th>\n",
       "      <td>Kuala Lumpur</td>\n",
       "      <td>Malaysia</td>\n",
       "      <td>10453</td>\n",
       "      <td>732</td>\n",
       "      <td>4</td>\n",
       "    </tr>\n",
       "    <tr>\n",
       "      <th>25</th>\n",
       "      <td>Jakarta</td>\n",
       "      <td>Indonesia</td>\n",
       "      <td>11579</td>\n",
       "      <td>843</td>\n",
       "      <td>4</td>\n",
       "    </tr>\n",
       "    <tr>\n",
       "      <th>13</th>\n",
       "      <td>Colombo</td>\n",
       "      <td>Sri Lanka</td>\n",
       "      <td>8516</td>\n",
       "      <td>918</td>\n",
       "      <td>2</td>\n",
       "    </tr>\n",
       "    <tr>\n",
       "      <th>38</th>\n",
       "      <td>Hanoi</td>\n",
       "      <td>Vietnam</td>\n",
       "      <td>9172</td>\n",
       "      <td>1027</td>\n",
       "      <td>2</td>\n",
       "    </tr>\n",
       "    <tr>\n",
       "      <th>44</th>\n",
       "      <td>Concepción</td>\n",
       "      <td>Chile</td>\n",
       "      <td>12062</td>\n",
       "      <td>1094</td>\n",
       "      <td>2</td>\n",
       "    </tr>\n",
       "    <tr>\n",
       "      <th>43</th>\n",
       "      <td>Auckland</td>\n",
       "      <td>New Zealand</td>\n",
       "      <td>18551</td>\n",
       "      <td>1290</td>\n",
       "      <td>2</td>\n",
       "    </tr>\n",
       "    <tr>\n",
       "      <th>10</th>\n",
       "      <td>Canberra</td>\n",
       "      <td>Australia</td>\n",
       "      <td>16916</td>\n",
       "      <td>1531</td>\n",
       "      <td>2</td>\n",
       "    </tr>\n",
       "  </tbody>\n",
       "</table>\n",
       "</div>"
      ],
      "text/plain": [
       "             Ville                  Pays Distance à Paris (km)  \\\n",
       "9         Budapest               Hungary                  1261   \n",
       "5        Barcelona                 Spain                   840   \n",
       "29          Lisbon              Portugal                  1447   \n",
       "6           Berlin               Germany                   876   \n",
       "20          Dublin               Ireland                   785   \n",
       "21       Edinburgh        United Kingdom                   878   \n",
       "14      Copenhagen               Denmark                  1026   \n",
       "1        Amsterdam           Netherlands                   420   \n",
       "3           Athens                Greece                  2113   \n",
       "15            Oslo                Norway                  1378   \n",
       "22        Helsinki               Finland                  1917   \n",
       "18           Tunis               Tunisia                  1479   \n",
       "45           Izmir                Turkey                  2291   \n",
       "39          London        United Kingdom                   343   \n",
       "2          Antalya                Turkey                  2648   \n",
       "0           Agadir               Morocco                  2286   \n",
       "32            Rome                 Italy                  1105   \n",
       "11      Casablanca               Morocco                  1908   \n",
       "28           Cairo                 Egypt                  3213   \n",
       "37          Moscow                Russia                  2485   \n",
       "30        Montreal                Canada                  5502   \n",
       "16           Dubai  United Arab Emirates                  5260   \n",
       "46         Chicago         United States                  6656   \n",
       "12         Chicago         United States                  6656   \n",
       "23       Hong Kong             Hong Kong                  9606   \n",
       "17       New Delhi                 India                  6579   \n",
       "24         Houston         United States                  8084   \n",
       "31        New York         United States                  5829   \n",
       "34           Lagos               Nigeria                  4699   \n",
       "42     Guadalajara                Mexico                  9378   \n",
       "7           Mumbai                 India                  7003   \n",
       "41         Liberia            Costa Rica                  8964   \n",
       "19        Djibouti              Djibouti                  5591   \n",
       "33           Tokyo                 Japan                  9706   \n",
       "8           Boston         United States                  5524   \n",
       "40  Rio de Janeiro                Brazil                  9163   \n",
       "26    Johannesburg          South Africa                  8721   \n",
       "36         Nairobi                 Kenya                  6489   \n",
       "35      Port Louis             Mauritius                  9442   \n",
       "4          Bangkok              Thailand                  9432   \n",
       "27    Kuala Lumpur              Malaysia                 10453   \n",
       "25         Jakarta             Indonesia                 11579   \n",
       "13         Colombo             Sri Lanka                  8516   \n",
       "38           Hanoi               Vietnam                  9172   \n",
       "44      Concepción                 Chile                 12062   \n",
       "43        Auckland           New Zealand                 18551   \n",
       "10        Canberra             Australia                 16916   \n",
       "\n",
       "    Prix moyen du vol en $ Nombre de vol  \n",
       "9                       42             2  \n",
       "5                       49             2  \n",
       "29                      54             2  \n",
       "6                       66             2  \n",
       "20                      66             2  \n",
       "21                      74             2  \n",
       "14                      90             2  \n",
       "1                       96             2  \n",
       "3                      112             2  \n",
       "15                     112             4  \n",
       "22                     134             2  \n",
       "18                     148             2  \n",
       "45                     151             4  \n",
       "39                     152            16  \n",
       "2                      196             2  \n",
       "0                      198             2  \n",
       "32                     245             8  \n",
       "11                     246             2  \n",
       "28                     298             2  \n",
       "37                     307            10  \n",
       "30                     422             4  \n",
       "16                     442             2  \n",
       "46                     511             8  \n",
       "12                     511             8  \n",
       "23                     528             2  \n",
       "17                     534             2  \n",
       "24                     546             4  \n",
       "31                     562             4  \n",
       "34                     570             2  \n",
       "42                     579             2  \n",
       "7                      588             2  \n",
       "41                     591             2  \n",
       "19                     609             2  \n",
       "33                     629             6  \n",
       "8                      634             4  \n",
       "40                     642             6  \n",
       "26                     643             4  \n",
       "36                     650             4  \n",
       "35                     667             2  \n",
       "4                      688             2  \n",
       "27                     732             4  \n",
       "25                     843             4  \n",
       "13                     918             2  \n",
       "38                    1027             2  \n",
       "44                    1094             2  \n",
       "43                    1290             2  \n",
       "10                    1531             2  "
      ]
     },
     "execution_count": 185,
     "metadata": {},
     "output_type": "execute_result"
    }
   ],
   "source": [
    "list_prix=np.array([villes_en,pays,dist,prix_moyen,nb]).T\n",
    "df_prix=pd.DataFrame(list_prix)\n",
    "df_prix.columns=['Ville','Pays','Distance à Paris (km)','Prix moyen du vol en $','Nombre de vol']\n",
    "df_prix['Prix moyen du vol en $']=df_prix['Prix moyen du vol en $'].astype(str).astype(int)\n",
    "df_prix.sort_values(by=['Prix moyen du vol en $']) #prix trié de façon croissante\n"
   ]
  },
  {
   "cell_type": "markdown",
   "metadata": {},
   "source": [
    "Remarque : Certaines destinations sont présentes proposée que via un vol. Par exemple, il n'y a qu'un vol pour Amman au départ de Paris. Le calcul du prix moyen pour ces destinations n'a donc pas un très grand sens. "
   ]
  },
  {
   "cell_type": "markdown",
   "metadata": {
    "id": "GOAGGN_5sZlX"
   },
   "source": [
    "On importe un fichier **.xlsx** qui contient une liste de pays avec leur continent. Cela permettra d'indiquer dans le dataframe précédent le continent pour chaque pays. "
   ]
  },
  {
   "cell_type": "code",
   "execution_count": 186,
   "metadata": {
    "id": "oqLN60a3sZlX",
    "outputId": "fc8e10ed-c376-4ac5-a63e-8bc976c120d1"
   },
   "outputs": [
    {
     "data": {
      "text/plain": [
       "Europe           13\n",
       "Asia             11\n",
       "Africa            9\n",
       "North America     8\n",
       "Oceania           2\n",
       "South America     2\n",
       "Name: Continent, dtype: int64"
      ]
     },
     "execution_count": 186,
     "metadata": {},
     "output_type": "execute_result"
    }
   ],
   "source": [
    "df_cont=pd.read_excel(\"D:/ENSAE/2A 2020 2021/S1/Python data science/pays_continent.xlsx\")\n",
    "df_prix_cont=df_prix.merge(df_cont,on='Pays')\n",
    "df_prix_cont['Continent'].value_counts()"
   ]
  },
  {
   "cell_type": "markdown",
   "metadata": {
    "id": "XLhy8NgRsZlX"
   },
   "source": [
    "Il y a très peu de pays représentés en Océanie, ou en Amériquer du Sud. Les destinations de notre base de données sont principalement situées en Europe, Asie ou Afrique."
   ]
  },
  {
   "cell_type": "markdown",
   "metadata": {
    "id": "4fCKG8XwsZlY"
   },
   "source": [
    "### Réalisation de graphiques"
   ]
  },
  {
   "cell_type": "code",
   "execution_count": 192,
   "metadata": {
    "id": "Fn0APSumsZlZ",
    "outputId": "4a17d378-0941-4c62-8a72-8f250b8c279e"
   },
   "outputs": [
    {
     "data": {
      "text/plain": [
       "<AxesSubplot:title={'center':'Prix moyen du vol en $ au départ de Paris'}, xlabel='Villes', ylabel='Prix aller-retour'>"
      ]
     },
     "execution_count": 192,
     "metadata": {},
     "output_type": "execute_result"
    },
    {
     "data": {
      "image/png": "[encoded data removed]",
      "text/plain": [
       "<Figure size 720x360 with 1 Axes>"
      ]
     },
     "metadata": {
      "needs_background": "light"
     },
     "output_type": "display_data"
    }
   ],
   "source": [
    "import matplotlib.pyplot as plt \n",
    "\n",
    "df1=df_prix.groupby(\"Ville\").sum()['Prix moyen du vol en $']\n",
    "df1.plot(kind = \"bar\",xlabel=\"Villes\",ylabel=\"Prix aller-retour\",title=\"Prix moyen du vol en $ au départ de Paris\",figsize=(10, 5))\n",
    "# remarque : il y a peut être un peu trop de ville, ce n'est pas très lisible "
   ]
  },
  {
   "cell_type": "markdown",
   "metadata": {
    "id": "IZ-glPp6sZlb"
   },
   "source": [
    "Les prix les moins chers au départ de Paris sont à destination de villes d'Europe (ex: Budapest, Barlecone, Dublin, Berlin ...). Canberra est la destination dont le prix moyen est le plus cher 1573 \\$  au départ de Roissy Charles de Gaulle ou d'Orly. Budapest est la destination la moins chère avec un aller retour en moyenne qui coûte 49 \\$. Ces prix moyens ne reflètent pas nécessairement la réalité car il y a très peu d'effctif pour avoir des résultats significatifs. "
   ]
  },
  {
   "cell_type": "code",
   "execution_count": 193,
   "metadata": {
    "id": "hHdciuHf6ih5",
    "outputId": "6535437b-21a6-4a05-a417-53fb48b574de"
   },
   "outputs": [
    {
     "data": {
      "text/plain": [
       "<AxesSubplot:title={'center':'Les 10 villes dont le prix est le moins cher au départ de Paris'}, xlabel='Villes', ylabel='Prix aller-retour'>"
      ]
     },
     "execution_count": 193,
     "metadata": {},
     "output_type": "execute_result"
    },
    {
     "data": {
      "image/png": "[encoded data removed]",
      "text/plain": [
       "<Figure size 432x288 with 1 Axes>"
      ]
     },
     "metadata": {
      "needs_background": "light"
     },
     "output_type": "display_data"
    }
   ],
   "source": [
    "df2=df_prix.groupby(\"Ville\").sum()['Prix moyen du vol en $'].sort_values(ascending=True)\n",
    "df2.head(10).plot(kind = \"bar\",xlabel=\"Villes\",ylabel=\"Prix aller-retour\",title=\"Les 10 villes dont le prix est le moins cher au départ de Paris\")"
   ]
  },
  {
   "cell_type": "markdown",
   "metadata": {
    "id": "-G-eK2iW6ih5"
   },
   "source": [
    "Les 10 destinations les moins chères sont situées en Europe. "
   ]
  },
  {
   "cell_type": "code",
   "execution_count": 194,
   "metadata": {
    "id": "3wvYO7oq6ih5",
    "outputId": "940a35f4-8a49-4ae3-9bfe-29d1b9763958"
   },
   "outputs": [
    {
     "data": {
      "text/plain": [
       "<AxesSubplot:title={'center':'Les 10 villes dont le prix est le plus cher au départ de Paris'}, xlabel='Villes', ylabel='Prix aller-retour'>"
      ]
     },
     "execution_count": 194,
     "metadata": {},
     "output_type": "execute_result"
    },
    {
     "data": {
      "image/png": "[encoded data removed]",
      "text/plain": [
       "<Figure size 432x288 with 1 Axes>"
      ]
     },
     "metadata": {
      "needs_background": "light"
     },
     "output_type": "display_data"
    }
   ],
   "source": [
    "df3=df_prix.groupby(\"Ville\").sum()['Prix moyen du vol en $'].sort_values(ascending=False)\n",
    "df3.head(10).plot(kind = \"bar\",xlabel=\"Villes\",ylabel=\"Prix aller-retour\",title=\"Les 10 villes dont le prix est le plus cher au départ de Paris\")"
   ]
  },
  {
   "cell_type": "markdown",
   "metadata": {
    "id": "7Zt8mfSJ6ih5"
   },
   "source": [
    "Les 10 villes les plus chères se situent au niveau de tous les continents sauf l'Europe. Les deux destinations les plus chères (Canberra et Auckland) sont situées en Océanie. "
   ]
  },
  {
   "cell_type": "markdown",
   "metadata": {
    "id": "kuv9qpyLsZlb"
   },
   "source": [
    "**On s'intéresse plus spécifiquement à des villes aux Etats-Unis : New York, Los Angeles, Miami, Las Vegas**"
   ]
  },
  {
   "cell_type": "code",
   "execution_count": 196,
   "metadata": {
    "id": "HSt8kI1jsZlc"
   },
   "outputs": [],
   "source": [
    "villes_usa=[\"New York\",\"Chicago\",\"Miami\",\"Las Vegas\"]\n",
    "\n",
    "prix_moyen_USA=[]\n",
    "nb_usa=[]\n",
    "dist_usa=[]\n",
    "for ville in villes_usa : \n",
    "    p=df_paris[df_paris['city.name']==ville]['flightInfo.priceUSD'].astype(int).mean()\n",
    "    nbr=df_paris[df_paris['city.name']==ville]['flightInfo.priceUSD'].count()\n",
    "    distance=df_paris[df_paris['city.name']==ville]['distance'].iloc[0]\n",
    "    nb_usa.append(nbr)\n",
    "    dist_usa.append(distance)\n",
    "    prix_moyen_USA.append(round(p))\n"
   ]
  },
  {
   "cell_type": "code",
   "execution_count": 197,
   "metadata": {
    "id": "tjiUHHC8sZlc",
    "outputId": "a880939f-f812-4d7e-a9d5-429aa41540fb"
   },
   "outputs": [
    {
     "data": {
      "text/html": [
       "<div>\n",
       "<style scoped>\n",
       "    .dataframe tbody tr th:only-of-type {\n",
       "        vertical-align: middle;\n",
       "    }\n",
       "\n",
       "    .dataframe tbody tr th {\n",
       "        vertical-align: top;\n",
       "    }\n",
       "\n",
       "    .dataframe thead th {\n",
       "        text-align: right;\n",
       "    }\n",
       "</style>\n",
       "<table border=\"1\" class=\"dataframe\">\n",
       "  <thead>\n",
       "    <tr style=\"text-align: right;\">\n",
       "      <th></th>\n",
       "      <th>Ville</th>\n",
       "      <th>Prix moyen du vol en $</th>\n",
       "      <th>Distance à Paris (km)</th>\n",
       "      <th>Nombre de vol</th>\n",
       "    </tr>\n",
       "  </thead>\n",
       "  <tbody>\n",
       "    <tr>\n",
       "      <th>2</th>\n",
       "      <td>Miami</td>\n",
       "      <td>373</td>\n",
       "      <td>7356</td>\n",
       "      <td>2</td>\n",
       "    </tr>\n",
       "    <tr>\n",
       "      <th>1</th>\n",
       "      <td>Chicago</td>\n",
       "      <td>511</td>\n",
       "      <td>6656</td>\n",
       "      <td>8</td>\n",
       "    </tr>\n",
       "    <tr>\n",
       "      <th>0</th>\n",
       "      <td>New York</td>\n",
       "      <td>562</td>\n",
       "      <td>5829</td>\n",
       "      <td>4</td>\n",
       "    </tr>\n",
       "    <tr>\n",
       "      <th>3</th>\n",
       "      <td>Las Vegas</td>\n",
       "      <td>645</td>\n",
       "      <td>8732</td>\n",
       "      <td>4</td>\n",
       "    </tr>\n",
       "  </tbody>\n",
       "</table>\n",
       "</div>"
      ],
      "text/plain": [
       "       Ville  Prix moyen du vol en $ Distance à Paris (km) Nombre de vol\n",
       "2      Miami                     373                  7356             2\n",
       "1    Chicago                     511                  6656             8\n",
       "0   New York                     562                  5829             4\n",
       "3  Las Vegas                     645                  8732             4"
      ]
     },
     "execution_count": 197,
     "metadata": {},
     "output_type": "execute_result"
    }
   ],
   "source": [
    "list_prix_usa=np.array([villes_usa,prix_moyen_USA,dist_usa,nb_usa]).T\n",
    "df_prix_usa=pd.DataFrame(list_prix_usa)\n",
    "df_prix_usa.columns=['Ville','Prix moyen du vol en $','Distance à Paris (km)','Nombre de vol']\n",
    "df_prix_usa['Prix moyen du vol en $']=df_prix_usa['Prix moyen du vol en $'].astype(str).astype(int)\n",
    "df_prix_usa.sort_values(by=['Prix moyen du vol en $'])"
   ]
  },
  {
   "cell_type": "markdown",
   "metadata": {},
   "source": [
    "New-York est la ville américaine la plus desservie au départ de Paris. 6 vols sont proposés pendant la période étudiée."
   ]
  },
  {
   "cell_type": "code",
   "execution_count": 198,
   "metadata": {
    "id": "JraLzcgcsZlc",
    "outputId": "35191f05-f743-4a15-f968-fd8be639d9bb"
   },
   "outputs": [
    {
     "data": {
      "text/plain": [
       "<AxesSubplot:title={'center':'Prix moyen du vol en $ au départ de Paris'}, xlabel='Villes américaines', ylabel='Prix aller-retour'>"
      ]
     },
     "execution_count": 198,
     "metadata": {},
     "output_type": "execute_result"
    },
    {
     "data": {
      "image/png": "[encoded data removed]",
      "text/plain": [
       "<Figure size 432x288 with 1 Axes>"
      ]
     },
     "metadata": {
      "needs_background": "light"
     },
     "output_type": "display_data"
    }
   ],
   "source": [
    "df1=df_prix_usa.groupby(\"Ville\").sum()['Prix moyen du vol en $'].sort_values()\n",
    "df1.plot(kind = \"bar\",xlabel=\"Villes américaines\",ylabel=\"Prix aller-retour\",title=\"Prix moyen du vol en $ au départ de Paris\")"
   ]
  },
  {
   "cell_type": "markdown",
   "metadata": {
    "id": "aZ9PULYBsZlc"
   },
   "source": [
    "Miami est la ville dont le prix moyen aller-retour de Paris est le moins cher (373 $), mais ce n'est pas la ville qui est la plus proche de Paris. Elle se trouve à 7356 km alors que New-York est à 5829 km. On peut se demander s'il existe une corrélation entre le prix et la distance.\n"
   ]
  },
  {
   "cell_type": "markdown",
   "metadata": {
    "id": "2V48BdyWa_A5"
   },
   "source": [
    "### Prix des vols en fonction de la date (à destination donnée : Londres) <a name = \"subparagraphe22\"></a>"
   ]
  },
  {
   "cell_type": "markdown",
   "metadata": {
    "id": "U9PDswHma-pK"
   },
   "source": [
    "Nous allons maintenant nous intéresser au prix des vols par rapport aux dates du voyage. Nous considérons ici les départsAu départ de tous les aéroports de Paris confondus"
   ]
  },
  {
   "cell_type": "code",
   "execution_count": 199,
   "metadata": {
    "colab": {
     "base_uri": "https://localhost:8080/"
    },
    "executionInfo": {
     "elapsed": 291,
     "status": "ok",
     "timestamp": 1641147477618,
     "user": {
      "displayName": "Hélène Bonneau-Chloup",
      "photoUrl": "https://lh3.googleusercontent.com/a/default-user=s64",
      "userId": "17302839421988390261"
     },
     "user_tz": -60
    },
    "id": "W7JgDr4KzXBy",
    "outputId": "3ee01b2a-d781-4a8e-d8dc-8b1ac69e9cf2"
   },
   "outputs": [
    {
     "data": {
      "text/plain": [
       "city.name\n",
       "London         40\n",
       "Stockholm      25\n",
       "Moscow         25\n",
       "Columbus       20\n",
       "Georgetown     20\n",
       "               ..\n",
       "Parkersburg     5\n",
       "Parintins       5\n",
       "Parikia         5\n",
       "Pardubice       5\n",
       "A Coruña        5\n",
       "Length: 2748, dtype: int64"
      ]
     },
     "execution_count": 199,
     "metadata": {},
     "output_type": "execute_result"
    }
   ],
   "source": [
    "df.value_counts(\"city.name\") "
   ]
  },
  {
   "cell_type": "markdown",
   "metadata": {
    "id": "cVBjARcM-5U3"
   },
   "source": [
    "On remarque que Londres est la ville la plus désservie, c'est donc celle-ci qu'on choisit pour étudier le prix des vols selon la période de l'année."
   ]
  },
  {
   "cell_type": "markdown",
   "metadata": {
    "id": "5n-yjkad_QJD"
   },
   "source": [
    "On crée une fonction qui renvoie la base de données réduite à Londres pour une date de départ et une date de retour données."
   ]
  },
  {
   "cell_type": "code",
   "execution_count": 200,
   "metadata": {
    "id": "vvKk3YOh4hhJ"
   },
   "outputs": [],
   "source": [
    "def df_lon(dat1,dat2):\n",
    "  pd.set_option('display.max_columns', 500)\n",
    "  url = \"https://www.kayak.com/s/horizon/exploreapi/destinations?airport=PAR&budget=&depart=\"+dat1+\"&return=\"+dat2+\"&duration=&exactDates=true&flightMaxStops=&stopsFilterActive=false&topRightLat=59.902761633461935&topRightLon=25.09658365167229&bottomLeftLat=26.101275008286677&bottomLeftLon=-6.719822598327707&zoomLevel=4&selectedMarker=&themeCode=&selectedDestination=\"\n",
    "  req = requests.get(url)\n",
    "  out = req.json()\n",
    "  dfl = pd.json_normalize(out[\"destinations\"])\n",
    "  dfl.head()\n",
    "  dfl = dfl[dfl[\"city.name\"]==\"London\"]\n",
    "  dfl.loc[dfl['flightInfo.price']== 999999.0] = 0 #certains prix sont normalisés à 999999.0 -> on les ramène à 0\n",
    "  return dfl\n"
   ]
  },
  {
   "cell_type": "markdown",
   "metadata": {
    "id": "F_PNwBFr_oox"
   },
   "source": [
    "On crée une liste de dates qui correspondent aux mois de l'année."
   ]
  },
  {
   "cell_type": "code",
   "execution_count": 201,
   "metadata": {
    "id": "2B3TMwm41MCL"
   },
   "outputs": [],
   "source": [
    "dates=[\"20220201\",\"20220301\",\"20220401\",\"20220501\",\"20220601\",\"20220701\",\"20220801\",\"20220901\",\"20221001\",\"20221101\",\"20221201\"]\n",
    "\n",
    "dates_utiles=[\"20220418\",\"20220501\",\"20220508\",\"20220526\",\"20220606\",\"20220714\",\"20220815\",\"20221101\",\"20221111\",\"20220212\",\"20220205\",\"20220219\",\"20220409\",\"20220416\",\"20220423\",\"20220707\"]\n",
    "#jours fériés et début des vacances scolaires pour chaque zone"
   ]
  },
  {
   "cell_type": "markdown",
   "metadata": {
    "id": "HtEJVXxi_6DL"
   },
   "source": [
    "On crée une liste de prix moyens en utilisant la liste de dates et la fonction df_lon."
   ]
  },
  {
   "cell_type": "code",
   "execution_count": 202,
   "metadata": {
    "id": "95ePFyAt3nsp"
   },
   "outputs": [],
   "source": [
    "lon_prix=[]\n",
    "for i in range(10):\n",
    "  dfd = df_lon(dates[i],dates[i+1])\n",
    "  prix = dfd[\"flightInfo.price\"].mean()\n",
    "  lon_prix.append(prix)"
   ]
  },
  {
   "cell_type": "markdown",
   "metadata": {
    "id": "ZfaCMYjxA3bp"
   },
   "source": [
    "On crée une liste des mois correspondant à la liste de dates précédente."
   ]
  },
  {
   "cell_type": "code",
   "execution_count": 203,
   "metadata": {
    "id": "aVy_ULmrATms"
   },
   "outputs": [],
   "source": [
    "mois=[\"février\",\"mars\",\"avril\",\"mai\",\"juin\",\"jullet\",\"août\",\"septembre\",\"octobre\",\"novembre\"]"
   ]
  },
  {
   "cell_type": "markdown",
   "metadata": {
    "id": "5MNOAYnxA5hP"
   },
   "source": [
    "On construit un dataframe avec les dates, les prix et le mois."
   ]
  },
  {
   "cell_type": "code",
   "execution_count": 204,
   "metadata": {
    "id": "U1gLcy0eAPLY"
   },
   "outputs": [],
   "source": [
    "df_prix_london=pd.DataFrame(dates[:10], columns=[\"dates\"])\n",
    "df_prix_london[\"prix\"]=lon_prix\n",
    "df_prix_london[\"mois\"]=mois"
   ]
  },
  {
   "cell_type": "markdown",
   "metadata": {
    "id": "vB2ifCeAAINm"
   },
   "source": [
    "On affiche les résulats."
   ]
  },
  {
   "cell_type": "code",
   "execution_count": 205,
   "metadata": {
    "colab": {
     "base_uri": "https://localhost:8080/",
     "height": 356
    },
    "executionInfo": {
     "elapsed": 799,
     "status": "ok",
     "timestamp": 1641147561425,
     "user": {
      "displayName": "Hélène Bonneau-Chloup",
      "photoUrl": "https://lh3.googleusercontent.com/a/default-user=s64",
      "userId": "17302839421988390261"
     },
     "user_tz": -60
    },
    "id": "lfgopnbKbsVE",
    "outputId": "7131244e-d62e-4d5b-e382-71b76401f13c"
   },
   "outputs": [
    {
     "data": {
      "text/plain": [
       "<AxesSubplot:title={'center':\"Prix moyen d'un vol Paris-Londres en $\"}, xlabel=\"Mois de l'année\", ylabel=\"Prix pour un voyage d'un mois\">"
      ]
     },
     "execution_count": 205,
     "metadata": {},
     "output_type": "execute_result"
    },
    {
     "data": {
      "image/png": "[encoded data removed]",
      "text/plain": [
       "<Figure size 432x288 with 1 Axes>"
      ]
     },
     "metadata": {
      "needs_background": "light"
     },
     "output_type": "display_data"
    }
   ],
   "source": [
    "df_prix_london.plot(x=\"mois\",y=\"prix\",kind = \"bar\",xlabel=\"Mois de l'année\",ylabel=\"Prix pour un voyage d'un mois\",title=\"Prix moyen d'un vol Paris-Londres en $\")"
   ]
  },
  {
   "cell_type": "markdown",
   "metadata": {
    "id": "Rp5xWrXiBI71"
   },
   "source": [
    "Commentaires à faire... \n",
    "\n",
    "On voit un pic de prix pendant les vacances d'été (en juillet le prix est le plus élevé)\n",
    "\n"
   ]
  },
  {
   "cell_type": "markdown",
   "metadata": {
    "id": "B0oc1WWMaUmE"
   },
   "source": [
    "## Modélisation <a name = \"paragraphe3\"></a>"
   ]
  },
  {
   "cell_type": "markdown",
   "metadata": {
    "id": "1hNkJbHVab7-"
   },
   "source": [
    "### Corrélation entre prix et distance <a name = \"subparagraphe31\"></a>"
   ]
  },
  {
   "cell_type": "code",
   "execution_count": 208,
   "metadata": {
    "id": "Fv3P7Pc6sZle"
   },
   "outputs": [],
   "source": [
    "import seaborn as sns\n",
    "import statsmodels.api as sm\n",
    "from sklearn import linear_model\n",
    "import numpy as np"
   ]
  },
  {
   "cell_type": "code",
   "execution_count": 209,
   "metadata": {
    "id": "BRlnWm5Fbrnh"
   },
   "outputs": [],
   "source": [
    "df_reg=df_prix.loc[:,[\"Prix moyen du vol en $\",\"Distance à Paris (km)\"]]"
   ]
  },
  {
   "cell_type": "markdown",
   "metadata": {
    "id": "LtlPk4u0sZle"
   },
   "source": [
    "#### Régression linéaire \n",
    "On effectue une régression linéaire avec toutes les villes de la base de données"
   ]
  },
  {
   "cell_type": "code",
   "execution_count": 211,
   "metadata": {
    "id": "Wx-pSkp3sZle",
    "outputId": "3ebdaba3-7e8c-46f2-88f1-59fe02790864",
    "scrolled": true
   },
   "outputs": [
    {
     "data": {
      "text/plain": [
       "<seaborn.axisgrid.FacetGrid at 0xaa56ab10a0>"
      ]
     },
     "execution_count": 211,
     "metadata": {},
     "output_type": "execute_result"
    },
    {
     "data": {
      "image/png": "[encoded data removed]",
      "text/plain": [
       "<Figure size 360x360 with 1 Axes>"
      ]
     },
     "metadata": {
      "needs_background": "light"
     },
     "output_type": "display_data"
    }
   ],
   "source": [
    "sns.lmplot(x=\"distance\", y=\"flightInfo.priceUSD\", data=df_paris)"
   ]
  },
  {
   "cell_type": "markdown",
   "metadata": {
    "id": "wb42jVC2sZle"
   },
   "source": [
    "On remarque que pour les faibles distances le modèle est assez linéaire, alors que pour les grandes distances les prix sont très variables. Il y a une corrélation positive entre le prix et la distance."
   ]
  },
  {
   "cell_type": "markdown",
   "metadata": {
    "id": "R9n3SPcZsZlf"
   },
   "source": [
    "* On trace un nuage de points avec les villes qu'on a sélectionnées précédemment (celles de la liste **villes_en**)"
   ]
  },
  {
   "cell_type": "code",
   "execution_count": 212,
   "metadata": {
    "id": "PWZujZegsZlf",
    "outputId": "09bfd071-7ebb-47c5-e0fb-1828641ef284"
   },
   "outputs": [
    {
     "data": {
      "image/png": "[encoded data removed]",
      "text/plain": [
       "<Figure size 432x288 with 1 Axes>"
      ]
     },
     "metadata": {
      "needs_background": "light"
     },
     "output_type": "display_data"
    }
   ],
   "source": [
    "#sns.lmplot(x=\"Distance à Paris (km)\", y=\"Prix moyen du vol en $\", data=df_prix) \n",
    "#ça ne marche pas bizarre, peut être parce que on regarde les prix moyens ??\n",
    "plt.scatter(df_prix['Prix moyen du vol en $'],df_prix['Distance à Paris (km)'])\n",
    "plt.xlabel('Distance à Paris')\n",
    "plt.ylabel('Prix moyen')\n",
    "plt.title('Prix en fonction de la distance')\n",
    "plt.show()\n"
   ]
  },
  {
   "cell_type": "markdown",
   "metadata": {
    "id": "5LRp23PNsZlf"
   },
   "source": [
    "* On regroupe les résultats par continents "
   ]
  },
  {
   "cell_type": "code",
   "execution_count": 213,
   "metadata": {
    "id": "pFqDqYHnsZlg"
   },
   "outputs": [],
   "source": [
    "df_africa=df_prix_cont[df_prix_cont['Continent']=='Africa']\n",
    "df_europe=df_prix_cont[df_prix_cont['Continent']=='Europe']\n",
    "df_oceania=df_prix_cont[df_prix_cont['Continent']=='Oceania']\n",
    "df_asia=df_prix_cont[df_prix_cont['Continent']=='Asia']\n",
    "df_namerica=df_prix_cont[df_prix_cont['Continent']=='North America']\n",
    "df_samerica=df_prix_cont[df_prix_cont['Continent']=='South America']\n",
    "\n",
    "\n",
    "df_africa=df_africa[['Distance à Paris (km)','Prix moyen du vol en $']]\n",
    "df_europe=df_europe[['Distance à Paris (km)','Prix moyen du vol en $']]\n",
    "df_oceania=df_oceania[['Distance à Paris (km)','Prix moyen du vol en $']]\n",
    "df_asia=df_asia[['Distance à Paris (km)','Prix moyen du vol en $']]\n",
    "df_namerica=df_namerica[['Distance à Paris (km)','Prix moyen du vol en $']]\n",
    "df_samerica=df_samerica[['Distance à Paris (km)','Prix moyen du vol en $']]\n"
   ]
  },
  {
   "cell_type": "markdown",
   "metadata": {
    "id": "MfBtQ5VDsZlg"
   },
   "source": [
    "* On réalise un nuage de points en distinguant chaque contient "
   ]
  },
  {
   "cell_type": "code",
   "execution_count": 221,
   "metadata": {
    "id": "mxy32QaOsZlg",
    "outputId": "027d3a7f-8962-4a04-cb19-f4feb40f4f90"
   },
   "outputs": [
    {
     "data": {
      "image/png": "[encoded data removed]",
      "text/plain": [
       "<Figure size 432x288 with 1 Axes>"
      ]
     },
     "metadata": {
      "needs_background": "light"
     },
     "output_type": "display_data"
    },
    {
     "data": {
      "text/plain": [
       "<Figure size 360x3600 with 0 Axes>"
      ]
     },
     "metadata": {},
     "output_type": "display_data"
    }
   ],
   "source": [
    "#df_africa.plot(kind='scatter' ,x='distance', y='prix', color='DarkBlue', label='Group 1')\n",
    "\n",
    "plt.scatter(df_africa['Prix moyen du vol en $'],df_africa['Distance à Paris (km)'], c='Red', label='Afrique')\n",
    "plt.scatter(df_oceania['Prix moyen du vol en $'],df_oceania['Distance à Paris (km)'], c='Blue',label='Océanie')\n",
    "plt.scatter(df_europe['Prix moyen du vol en $'],df_europe['Distance à Paris (km)'], c='Green',label='Europe')\n",
    "plt.scatter(df_asia['Prix moyen du vol en $'],df_asia['Distance à Paris (km)'], c='Yellow',label='Asie')\n",
    "plt.scatter(df_namerica['Prix moyen du vol en $'],df_namerica['Distance à Paris (km)'], c='m',label='Amérique du Nord')\n",
    "plt.scatter(df_samerica['Prix moyen du vol en $'],df_samerica['Distance à Paris (km)'], c='k',label='Amérique du Sud')\n",
    "\n",
    "plt.xlabel('distance (km)')\n",
    "plt.ylabel('prix moyen')\n",
    "plt.legend()\n",
    "plt.title('Prix en fonction de la distance')\n",
    "plt.show()"
   ]
  },
  {
   "cell_type": "markdown",
   "metadata": {
    "id": "Tp5BxWv1sZlh"
   },
   "source": [
    "Deux groupes se distinguent : l'un avec l'Europe, l'Asie, l'Amérique du Nord et l'Amérique du Sud, l'autre avec l'Afrique et l'Océanie. Il serait peut être intéressant de faire deux régressions linéaires (à voir si j'ai le temps de le faire)."
   ]
  },
  {
   "cell_type": "code",
   "execution_count": 223,
   "metadata": {
    "id": "cLVSvxkD6iiA"
   },
   "outputs": [
    {
     "ename": "UFuncTypeError",
     "evalue": "ufunc 'multiply' did not contain a loop with signature matching types (dtype('<U32'), dtype('<U32')) -> dtype('<U32')",
     "output_type": "error",
     "traceback": [
      "\u001b[1;31m---------------------------------------------------------------------------\u001b[0m",
      "\u001b[1;31mUFuncTypeError\u001b[0m                            Traceback (most recent call last)",
      "\u001b[1;32m<ipython-input-223-ab7a2d30219e>\u001b[0m in \u001b[0;36m<module>\u001b[1;34m\u001b[0m\n\u001b[0;32m      2\u001b[0m \u001b[0mdf_autre_contient\u001b[0m\u001b[1;33m=\u001b[0m\u001b[0mdf_prix_cont\u001b[0m\u001b[1;33m.\u001b[0m\u001b[0mloc\u001b[0m\u001b[1;33m[\u001b[0m\u001b[0mdf_prix_cont\u001b[0m\u001b[1;33m[\u001b[0m\u001b[1;34m'Continent'\u001b[0m\u001b[1;33m]\u001b[0m\u001b[1;33m.\u001b[0m\u001b[0misin\u001b[0m\u001b[1;33m(\u001b[0m\u001b[1;33m[\u001b[0m\u001b[1;34m'North America'\u001b[0m\u001b[1;33m,\u001b[0m\u001b[1;34m'South America'\u001b[0m\u001b[1;33m,\u001b[0m\u001b[1;34m'Europe'\u001b[0m\u001b[1;33m,\u001b[0m\u001b[1;34m'Asia'\u001b[0m\u001b[1;33m]\u001b[0m\u001b[1;33m)\u001b[0m\u001b[1;33m]\u001b[0m\u001b[1;33m\u001b[0m\u001b[1;33m\u001b[0m\u001b[0m\n\u001b[0;32m      3\u001b[0m \u001b[1;33m\u001b[0m\u001b[0m\n\u001b[1;32m----> 4\u001b[1;33m \u001b[0msns\u001b[0m\u001b[1;33m.\u001b[0m\u001b[0mlmplot\u001b[0m\u001b[1;33m(\u001b[0m\u001b[0mx\u001b[0m\u001b[1;33m=\u001b[0m\u001b[1;34m\"Distance à Paris (km)\"\u001b[0m\u001b[1;33m,\u001b[0m \u001b[0my\u001b[0m\u001b[1;33m=\u001b[0m\u001b[1;34m\"Prix moyen du vol en $\"\u001b[0m\u001b[1;33m,\u001b[0m\u001b[0mdata\u001b[0m\u001b[1;33m=\u001b[0m\u001b[0mdf_prix\u001b[0m\u001b[1;33m)\u001b[0m\u001b[1;33m\u001b[0m\u001b[1;33m\u001b[0m\u001b[0m\n\u001b[0m",
      "\u001b[1;32m~\\anaconda3\\lib\\site-packages\\seaborn\\_decorators.py\u001b[0m in \u001b[0;36minner_f\u001b[1;34m(*args, **kwargs)\u001b[0m\n\u001b[0;32m     44\u001b[0m             )\n\u001b[0;32m     45\u001b[0m         \u001b[0mkwargs\u001b[0m\u001b[1;33m.\u001b[0m\u001b[0mupdate\u001b[0m\u001b[1;33m(\u001b[0m\u001b[1;33m{\u001b[0m\u001b[0mk\u001b[0m\u001b[1;33m:\u001b[0m \u001b[0marg\u001b[0m \u001b[1;32mfor\u001b[0m \u001b[0mk\u001b[0m\u001b[1;33m,\u001b[0m \u001b[0marg\u001b[0m \u001b[1;32min\u001b[0m \u001b[0mzip\u001b[0m\u001b[1;33m(\u001b[0m\u001b[0msig\u001b[0m\u001b[1;33m.\u001b[0m\u001b[0mparameters\u001b[0m\u001b[1;33m,\u001b[0m \u001b[0margs\u001b[0m\u001b[1;33m)\u001b[0m\u001b[1;33m}\u001b[0m\u001b[1;33m)\u001b[0m\u001b[1;33m\u001b[0m\u001b[1;33m\u001b[0m\u001b[0m\n\u001b[1;32m---> 46\u001b[1;33m         \u001b[1;32mreturn\u001b[0m \u001b[0mf\u001b[0m\u001b[1;33m(\u001b[0m\u001b[1;33m**\u001b[0m\u001b[0mkwargs\u001b[0m\u001b[1;33m)\u001b[0m\u001b[1;33m\u001b[0m\u001b[1;33m\u001b[0m\u001b[0m\n\u001b[0m\u001b[0;32m     47\u001b[0m     \u001b[1;32mreturn\u001b[0m \u001b[0minner_f\u001b[0m\u001b[1;33m\u001b[0m\u001b[1;33m\u001b[0m\u001b[0m\n\u001b[0;32m     48\u001b[0m \u001b[1;33m\u001b[0m\u001b[0m\n",
      "\u001b[1;32m~\\anaconda3\\lib\\site-packages\\seaborn\\regression.py\u001b[0m in \u001b[0;36mlmplot\u001b[1;34m(x, y, data, hue, col, row, palette, col_wrap, height, aspect, markers, sharex, sharey, hue_order, col_order, row_order, legend, legend_out, x_estimator, x_bins, x_ci, scatter, fit_reg, ci, n_boot, units, seed, order, logistic, lowess, robust, logx, x_partial, y_partial, truncate, x_jitter, y_jitter, scatter_kws, line_kws, size)\u001b[0m\n\u001b[0;32m    623\u001b[0m         \u001b[0mscatter_kws\u001b[0m\u001b[1;33m=\u001b[0m\u001b[0mscatter_kws\u001b[0m\u001b[1;33m,\u001b[0m \u001b[0mline_kws\u001b[0m\u001b[1;33m=\u001b[0m\u001b[0mline_kws\u001b[0m\u001b[1;33m,\u001b[0m\u001b[1;33m\u001b[0m\u001b[1;33m\u001b[0m\u001b[0m\n\u001b[0;32m    624\u001b[0m     )\n\u001b[1;32m--> 625\u001b[1;33m     \u001b[0mfacets\u001b[0m\u001b[1;33m.\u001b[0m\u001b[0mmap_dataframe\u001b[0m\u001b[1;33m(\u001b[0m\u001b[0mregplot\u001b[0m\u001b[1;33m,\u001b[0m \u001b[0mx\u001b[0m\u001b[1;33m=\u001b[0m\u001b[0mx\u001b[0m\u001b[1;33m,\u001b[0m \u001b[0my\u001b[0m\u001b[1;33m=\u001b[0m\u001b[0my\u001b[0m\u001b[1;33m,\u001b[0m \u001b[1;33m**\u001b[0m\u001b[0mregplot_kws\u001b[0m\u001b[1;33m)\u001b[0m\u001b[1;33m\u001b[0m\u001b[1;33m\u001b[0m\u001b[0m\n\u001b[0m\u001b[0;32m    626\u001b[0m \u001b[1;33m\u001b[0m\u001b[0m\n\u001b[0;32m    627\u001b[0m     \u001b[1;31m# TODO this will need to change when we relax string requirement\u001b[0m\u001b[1;33m\u001b[0m\u001b[1;33m\u001b[0m\u001b[1;33m\u001b[0m\u001b[0m\n",
      "\u001b[1;32m~\\anaconda3\\lib\\site-packages\\seaborn\\axisgrid.py\u001b[0m in \u001b[0;36mmap_dataframe\u001b[1;34m(self, func, *args, **kwargs)\u001b[0m\n\u001b[0;32m    748\u001b[0m \u001b[1;33m\u001b[0m\u001b[0m\n\u001b[0;32m    749\u001b[0m             \u001b[1;31m# Draw the plot\u001b[0m\u001b[1;33m\u001b[0m\u001b[1;33m\u001b[0m\u001b[1;33m\u001b[0m\u001b[0m\n\u001b[1;32m--> 750\u001b[1;33m             \u001b[0mself\u001b[0m\u001b[1;33m.\u001b[0m\u001b[0m_facet_plot\u001b[0m\u001b[1;33m(\u001b[0m\u001b[0mfunc\u001b[0m\u001b[1;33m,\u001b[0m \u001b[0max\u001b[0m\u001b[1;33m,\u001b[0m \u001b[0margs\u001b[0m\u001b[1;33m,\u001b[0m \u001b[0mkwargs\u001b[0m\u001b[1;33m)\u001b[0m\u001b[1;33m\u001b[0m\u001b[1;33m\u001b[0m\u001b[0m\n\u001b[0m\u001b[0;32m    751\u001b[0m \u001b[1;33m\u001b[0m\u001b[0m\n\u001b[0;32m    752\u001b[0m         \u001b[1;31m# Finalize the annotations and layout\u001b[0m\u001b[1;33m\u001b[0m\u001b[1;33m\u001b[0m\u001b[1;33m\u001b[0m\u001b[0m\n",
      "\u001b[1;32m~\\anaconda3\\lib\\site-packages\\seaborn\\axisgrid.py\u001b[0m in \u001b[0;36m_facet_plot\u001b[1;34m(self, func, ax, plot_args, plot_kwargs)\u001b[0m\n\u001b[0;32m    772\u001b[0m                 \u001b[0mplot_kwargs\u001b[0m\u001b[1;33m[\u001b[0m\u001b[0mkey\u001b[0m\u001b[1;33m]\u001b[0m \u001b[1;33m=\u001b[0m \u001b[0mval\u001b[0m\u001b[1;33m\u001b[0m\u001b[1;33m\u001b[0m\u001b[0m\n\u001b[0;32m    773\u001b[0m             \u001b[0mplot_args\u001b[0m \u001b[1;33m=\u001b[0m \u001b[1;33m[\u001b[0m\u001b[1;33m]\u001b[0m\u001b[1;33m\u001b[0m\u001b[1;33m\u001b[0m\u001b[0m\n\u001b[1;32m--> 774\u001b[1;33m         \u001b[0mfunc\u001b[0m\u001b[1;33m(\u001b[0m\u001b[1;33m*\u001b[0m\u001b[0mplot_args\u001b[0m\u001b[1;33m,\u001b[0m \u001b[1;33m**\u001b[0m\u001b[0mplot_kwargs\u001b[0m\u001b[1;33m)\u001b[0m\u001b[1;33m\u001b[0m\u001b[1;33m\u001b[0m\u001b[0m\n\u001b[0m\u001b[0;32m    775\u001b[0m \u001b[1;33m\u001b[0m\u001b[0m\n\u001b[0;32m    776\u001b[0m         \u001b[1;31m# Sort out the supporting information\u001b[0m\u001b[1;33m\u001b[0m\u001b[1;33m\u001b[0m\u001b[1;33m\u001b[0m\u001b[0m\n",
      "\u001b[1;32m~\\anaconda3\\lib\\site-packages\\seaborn\\_decorators.py\u001b[0m in \u001b[0;36minner_f\u001b[1;34m(*args, **kwargs)\u001b[0m\n\u001b[0;32m     44\u001b[0m             )\n\u001b[0;32m     45\u001b[0m         \u001b[0mkwargs\u001b[0m\u001b[1;33m.\u001b[0m\u001b[0mupdate\u001b[0m\u001b[1;33m(\u001b[0m\u001b[1;33m{\u001b[0m\u001b[0mk\u001b[0m\u001b[1;33m:\u001b[0m \u001b[0marg\u001b[0m \u001b[1;32mfor\u001b[0m \u001b[0mk\u001b[0m\u001b[1;33m,\u001b[0m \u001b[0marg\u001b[0m \u001b[1;32min\u001b[0m \u001b[0mzip\u001b[0m\u001b[1;33m(\u001b[0m\u001b[0msig\u001b[0m\u001b[1;33m.\u001b[0m\u001b[0mparameters\u001b[0m\u001b[1;33m,\u001b[0m \u001b[0margs\u001b[0m\u001b[1;33m)\u001b[0m\u001b[1;33m}\u001b[0m\u001b[1;33m)\u001b[0m\u001b[1;33m\u001b[0m\u001b[1;33m\u001b[0m\u001b[0m\n\u001b[1;32m---> 46\u001b[1;33m         \u001b[1;32mreturn\u001b[0m \u001b[0mf\u001b[0m\u001b[1;33m(\u001b[0m\u001b[1;33m**\u001b[0m\u001b[0mkwargs\u001b[0m\u001b[1;33m)\u001b[0m\u001b[1;33m\u001b[0m\u001b[1;33m\u001b[0m\u001b[0m\n\u001b[0m\u001b[0;32m     47\u001b[0m     \u001b[1;32mreturn\u001b[0m \u001b[0minner_f\u001b[0m\u001b[1;33m\u001b[0m\u001b[1;33m\u001b[0m\u001b[0m\n\u001b[0;32m     48\u001b[0m \u001b[1;33m\u001b[0m\u001b[0m\n",
      "\u001b[1;32m~\\anaconda3\\lib\\site-packages\\seaborn\\regression.py\u001b[0m in \u001b[0;36mregplot\u001b[1;34m(x, y, data, x_estimator, x_bins, x_ci, scatter, fit_reg, ci, n_boot, units, seed, order, logistic, lowess, robust, logx, x_partial, y_partial, truncate, dropna, x_jitter, y_jitter, label, color, marker, scatter_kws, line_kws, ax)\u001b[0m\n\u001b[0;32m    833\u001b[0m     \u001b[0mscatter_kws\u001b[0m\u001b[1;33m[\u001b[0m\u001b[1;34m\"marker\"\u001b[0m\u001b[1;33m]\u001b[0m \u001b[1;33m=\u001b[0m \u001b[0mmarker\u001b[0m\u001b[1;33m\u001b[0m\u001b[1;33m\u001b[0m\u001b[0m\n\u001b[0;32m    834\u001b[0m     \u001b[0mline_kws\u001b[0m \u001b[1;33m=\u001b[0m \u001b[1;33m{\u001b[0m\u001b[1;33m}\u001b[0m \u001b[1;32mif\u001b[0m \u001b[0mline_kws\u001b[0m \u001b[1;32mis\u001b[0m \u001b[1;32mNone\u001b[0m \u001b[1;32melse\u001b[0m \u001b[0mcopy\u001b[0m\u001b[1;33m.\u001b[0m\u001b[0mcopy\u001b[0m\u001b[1;33m(\u001b[0m\u001b[0mline_kws\u001b[0m\u001b[1;33m)\u001b[0m\u001b[1;33m\u001b[0m\u001b[1;33m\u001b[0m\u001b[0m\n\u001b[1;32m--> 835\u001b[1;33m     \u001b[0mplotter\u001b[0m\u001b[1;33m.\u001b[0m\u001b[0mplot\u001b[0m\u001b[1;33m(\u001b[0m\u001b[0max\u001b[0m\u001b[1;33m,\u001b[0m \u001b[0mscatter_kws\u001b[0m\u001b[1;33m,\u001b[0m \u001b[0mline_kws\u001b[0m\u001b[1;33m)\u001b[0m\u001b[1;33m\u001b[0m\u001b[1;33m\u001b[0m\u001b[0m\n\u001b[0m\u001b[0;32m    836\u001b[0m     \u001b[1;32mreturn\u001b[0m \u001b[0max\u001b[0m\u001b[1;33m\u001b[0m\u001b[1;33m\u001b[0m\u001b[0m\n\u001b[0;32m    837\u001b[0m \u001b[1;33m\u001b[0m\u001b[0m\n",
      "\u001b[1;32m~\\anaconda3\\lib\\site-packages\\seaborn\\regression.py\u001b[0m in \u001b[0;36mplot\u001b[1;34m(self, ax, scatter_kws, line_kws)\u001b[0m\n\u001b[0;32m    368\u001b[0m \u001b[1;33m\u001b[0m\u001b[0m\n\u001b[0;32m    369\u001b[0m         \u001b[1;32mif\u001b[0m \u001b[0mself\u001b[0m\u001b[1;33m.\u001b[0m\u001b[0mfit_reg\u001b[0m\u001b[1;33m:\u001b[0m\u001b[1;33m\u001b[0m\u001b[1;33m\u001b[0m\u001b[0m\n\u001b[1;32m--> 370\u001b[1;33m             \u001b[0mself\u001b[0m\u001b[1;33m.\u001b[0m\u001b[0mlineplot\u001b[0m\u001b[1;33m(\u001b[0m\u001b[0max\u001b[0m\u001b[1;33m,\u001b[0m \u001b[0mline_kws\u001b[0m\u001b[1;33m)\u001b[0m\u001b[1;33m\u001b[0m\u001b[1;33m\u001b[0m\u001b[0m\n\u001b[0m\u001b[0;32m    371\u001b[0m \u001b[1;33m\u001b[0m\u001b[0m\n\u001b[0;32m    372\u001b[0m         \u001b[1;31m# Label the axes\u001b[0m\u001b[1;33m\u001b[0m\u001b[1;33m\u001b[0m\u001b[1;33m\u001b[0m\u001b[0m\n",
      "\u001b[1;32m~\\anaconda3\\lib\\site-packages\\seaborn\\regression.py\u001b[0m in \u001b[0;36mlineplot\u001b[1;34m(self, ax, kws)\u001b[0m\n\u001b[0;32m    411\u001b[0m         \u001b[1;34m\"\"\"Draw the model.\"\"\"\u001b[0m\u001b[1;33m\u001b[0m\u001b[1;33m\u001b[0m\u001b[0m\n\u001b[0;32m    412\u001b[0m         \u001b[1;31m# Fit the regression model\u001b[0m\u001b[1;33m\u001b[0m\u001b[1;33m\u001b[0m\u001b[1;33m\u001b[0m\u001b[0m\n\u001b[1;32m--> 413\u001b[1;33m         \u001b[0mgrid\u001b[0m\u001b[1;33m,\u001b[0m \u001b[0myhat\u001b[0m\u001b[1;33m,\u001b[0m \u001b[0merr_bands\u001b[0m \u001b[1;33m=\u001b[0m \u001b[0mself\u001b[0m\u001b[1;33m.\u001b[0m\u001b[0mfit_regression\u001b[0m\u001b[1;33m(\u001b[0m\u001b[0max\u001b[0m\u001b[1;33m)\u001b[0m\u001b[1;33m\u001b[0m\u001b[1;33m\u001b[0m\u001b[0m\n\u001b[0m\u001b[0;32m    414\u001b[0m         \u001b[0medges\u001b[0m \u001b[1;33m=\u001b[0m \u001b[0mgrid\u001b[0m\u001b[1;33m[\u001b[0m\u001b[1;36m0\u001b[0m\u001b[1;33m]\u001b[0m\u001b[1;33m,\u001b[0m \u001b[0mgrid\u001b[0m\u001b[1;33m[\u001b[0m\u001b[1;33m-\u001b[0m\u001b[1;36m1\u001b[0m\u001b[1;33m]\u001b[0m\u001b[1;33m\u001b[0m\u001b[1;33m\u001b[0m\u001b[0m\n\u001b[0;32m    415\u001b[0m \u001b[1;33m\u001b[0m\u001b[0m\n",
      "\u001b[1;32m~\\anaconda3\\lib\\site-packages\\seaborn\\regression.py\u001b[0m in \u001b[0;36mfit_regression\u001b[1;34m(self, ax, x_range, grid)\u001b[0m\n\u001b[0;32m    199\u001b[0m                 \u001b[1;32melse\u001b[0m\u001b[1;33m:\u001b[0m\u001b[1;33m\u001b[0m\u001b[1;33m\u001b[0m\u001b[0m\n\u001b[0;32m    200\u001b[0m                     \u001b[0mx_min\u001b[0m\u001b[1;33m,\u001b[0m \u001b[0mx_max\u001b[0m \u001b[1;33m=\u001b[0m \u001b[0max\u001b[0m\u001b[1;33m.\u001b[0m\u001b[0mget_xlim\u001b[0m\u001b[1;33m(\u001b[0m\u001b[1;33m)\u001b[0m\u001b[1;33m\u001b[0m\u001b[1;33m\u001b[0m\u001b[0m\n\u001b[1;32m--> 201\u001b[1;33m             \u001b[0mgrid\u001b[0m \u001b[1;33m=\u001b[0m \u001b[0mnp\u001b[0m\u001b[1;33m.\u001b[0m\u001b[0mlinspace\u001b[0m\u001b[1;33m(\u001b[0m\u001b[0mx_min\u001b[0m\u001b[1;33m,\u001b[0m \u001b[0mx_max\u001b[0m\u001b[1;33m,\u001b[0m \u001b[1;36m100\u001b[0m\u001b[1;33m)\u001b[0m\u001b[1;33m\u001b[0m\u001b[1;33m\u001b[0m\u001b[0m\n\u001b[0m\u001b[0;32m    202\u001b[0m         \u001b[0mci\u001b[0m \u001b[1;33m=\u001b[0m \u001b[0mself\u001b[0m\u001b[1;33m.\u001b[0m\u001b[0mci\u001b[0m\u001b[1;33m\u001b[0m\u001b[1;33m\u001b[0m\u001b[0m\n\u001b[0;32m    203\u001b[0m \u001b[1;33m\u001b[0m\u001b[0m\n",
      "\u001b[1;32m<__array_function__ internals>\u001b[0m in \u001b[0;36mlinspace\u001b[1;34m(*args, **kwargs)\u001b[0m\n",
      "\u001b[1;32m~\\anaconda3\\lib\\site-packages\\numpy\\core\\function_base.py\u001b[0m in \u001b[0;36mlinspace\u001b[1;34m(start, stop, num, endpoint, retstep, dtype, axis)\u001b[0m\n\u001b[0;32m    118\u001b[0m     \u001b[1;31m# Convert float/complex array scalars to float, gh-3504\u001b[0m\u001b[1;33m\u001b[0m\u001b[1;33m\u001b[0m\u001b[1;33m\u001b[0m\u001b[0m\n\u001b[0;32m    119\u001b[0m     \u001b[1;31m# and make sure one can use variables that have an __array_interface__, gh-6634\u001b[0m\u001b[1;33m\u001b[0m\u001b[1;33m\u001b[0m\u001b[1;33m\u001b[0m\u001b[0m\n\u001b[1;32m--> 120\u001b[1;33m     \u001b[0mstart\u001b[0m \u001b[1;33m=\u001b[0m \u001b[0masanyarray\u001b[0m\u001b[1;33m(\u001b[0m\u001b[0mstart\u001b[0m\u001b[1;33m)\u001b[0m \u001b[1;33m*\u001b[0m \u001b[1;36m1.0\u001b[0m\u001b[1;33m\u001b[0m\u001b[1;33m\u001b[0m\u001b[0m\n\u001b[0m\u001b[0;32m    121\u001b[0m     \u001b[0mstop\u001b[0m  \u001b[1;33m=\u001b[0m \u001b[0masanyarray\u001b[0m\u001b[1;33m(\u001b[0m\u001b[0mstop\u001b[0m\u001b[1;33m)\u001b[0m  \u001b[1;33m*\u001b[0m \u001b[1;36m1.0\u001b[0m\u001b[1;33m\u001b[0m\u001b[1;33m\u001b[0m\u001b[0m\n\u001b[0;32m    122\u001b[0m \u001b[1;33m\u001b[0m\u001b[0m\n",
      "\u001b[1;31mUFuncTypeError\u001b[0m: ufunc 'multiply' did not contain a loop with signature matching types (dtype('<U32'), dtype('<U32')) -> dtype('<U32')"
     ]
    },
    {
     "data": {
      "image/png": "[encoded data removed]",
      "text/plain": [
       "<Figure size 360x360 with 1 Axes>"
      ]
     },
     "metadata": {
      "needs_background": "light"
     },
     "output_type": "display_data"
    }
   ],
   "source": [
    "df_afr_oce=df_prix_cont.loc[df_prix_cont['Continent'].isin(['Africa','Oceania'])]\n",
    "df_autre_contient=df_prix_cont.loc[df_prix_cont['Continent'].isin(['North America','South America','Europe','Asia'])]\n",
    "\n",
    "sns.lmplot(x=\"Distance à Paris (km)\", y=\"Prix moyen du vol en $\",data=df_prix) \n"
   ]
  },
  {
   "cell_type": "code",
   "execution_count": 250,
   "metadata": {
    "id": "7r_SozWZ6iiA",
    "outputId": "9c8a77df-1a9e-428c-f5e7-7a4b4c2e7403"
   },
   "outputs": [
    {
     "data": {
      "text/plain": [
       "0     2286\n",
       "1     1908\n",
       "22    1479\n",
       "23    5591\n",
       "29    8721\n",
       "31    3213\n",
       "36    4699\n",
       "37    9442\n",
       "38    6489\n",
       "Name: Distance à Paris (km), dtype: int32"
      ]
     },
     "execution_count": 250,
     "metadata": {},
     "output_type": "execute_result"
    }
   ],
   "source": [
    "df_africa['Prix moyen du vol en $'].astype(str).astype(int)\n",
    "df_africa['Distance à Paris (km)'].astype(str).astype(int)\n",
    "\n",
    "#sns.lmplot(x=\"Distance à Paris (km)\", y=\"Prix moyen du vol en $\",hue='Continent',data=df_prix_cont) \n"
   ]
  },
  {
   "cell_type": "markdown",
   "metadata": {
    "id": "KL58VBpWsZlh"
   },
   "source": [
    "**Régression linéaire avec statsmodels**"
   ]
  },
  {
   "cell_type": "code",
   "execution_count": 251,
   "metadata": {
    "id": "iSZvrMYusZlh",
    "outputId": "e1fe6b6f-7d98-4497-cdab-09b8bb8beb75"
   },
   "outputs": [
    {
     "name": "stdout",
     "output_type": "stream",
     "text": [
      "                                 OLS Regression Results                                 \n",
      "========================================================================================\n",
      "Dep. Variable:     flightInfo.priceUSD   R-squared (uncentered):                   0.880\n",
      "Model:                             OLS   Adj. R-squared (uncentered):              0.880\n",
      "Method:                  Least Squares   F-statistic:                          4.314e+04\n",
      "Date:                 Tue, 04 Jan 2022   Prob (F-statistic):                        0.00\n",
      "Time:                         00:12:37   Log-Likelihood:                         -42709.\n",
      "No. Observations:                 5884   AIC:                                  8.542e+04\n",
      "Df Residuals:                     5883   BIC:                                  8.543e+04\n",
      "Df Model:                            1                                                  \n",
      "Covariance Type:             nonrobust                                                  \n",
      "==============================================================================\n",
      "                 coef    std err          t      P>|t|      [0.025      0.975]\n",
      "------------------------------------------------------------------------------\n",
      "distance       0.1181      0.001    207.691      0.000       0.117       0.119\n",
      "==============================================================================\n",
      "Omnibus:                     1843.856   Durbin-Watson:                   1.258\n",
      "Prob(Omnibus):                  0.000   Jarque-Bera (JB):             5983.483\n",
      "Skew:                           1.593   Prob(JB):                         0.00\n",
      "Kurtosis:                       6.776   Cond. No.                         1.00\n",
      "==============================================================================\n",
      "\n",
      "Notes:\n",
      "[1] R² is computed without centering (uncentered) since the model does not contain a constant.\n",
      "[2] Standard Errors assume that the covariance matrix of the errors is correctly specified.\n"
     ]
    }
   ],
   "source": [
    "X = df_paris[[\"distance\"]]\n",
    "y = df_paris[\"flightInfo.priceUSD\"]\n",
    "\n",
    "model = sm.OLS(y, X)\n",
    "results = model.fit()\n",
    "print(results.summary())\n",
    "\n",
    "# dans cette sortie il n'y a pas de constante ... bizarre "
   ]
  },
  {
   "cell_type": "markdown",
   "metadata": {
    "id": "KetrXc9hsZli"
   },
   "source": [
    "Toutes choses égales par ailleurs, si la distance à Paris augmente de 1km, le prix du billet d'avion augmente de 0,12 dollars.\n",
    "Le $R^{2}$ est assez bon"
   ]
  },
  {
   "cell_type": "code",
   "execution_count": 252,
   "metadata": {
    "id": "d4Y3cA1OsZli",
    "outputId": "3e829707-68d5-4656-892f-8f12a3bed4a0"
   },
   "outputs": [
    {
     "name": "stdout",
     "output_type": "stream",
     "text": [
      "                             OLS Regression Results                            \n",
      "===============================================================================\n",
      "Dep. Variable:     flightInfo.priceUSD   R-squared:                       0.598\n",
      "Model:                             OLS   Adj. R-squared:                  0.598\n",
      "Method:                  Least Squares   F-statistic:                     8763.\n",
      "Date:                 Tue, 04 Jan 2022   Prob (F-statistic):               0.00\n",
      "Time:                         00:21:47   Log-Likelihood:                -42647.\n",
      "No. Observations:                 5884   AIC:                         8.530e+04\n",
      "Df Residuals:                     5882   BIC:                         8.531e+04\n",
      "Df Model:                            1                                         \n",
      "Covariance Type:             nonrobust                                         \n",
      "==============================================================================\n",
      "                 coef    std err          t      P>|t|      [0.025      0.975]\n",
      "------------------------------------------------------------------------------\n",
      "const        101.0728      9.001     11.229      0.000      83.427     118.718\n",
      "distance       0.1069      0.001     93.608      0.000       0.105       0.109\n",
      "==============================================================================\n",
      "Omnibus:                     2210.860   Durbin-Watson:                   1.152\n",
      "Prob(Omnibus):                  0.000   Jarque-Bera (JB):             8692.721\n",
      "Skew:                           1.854   Prob(JB):                         0.00\n",
      "Kurtosis:                       7.660   Cond. No.                     1.60e+04\n",
      "==============================================================================\n",
      "\n",
      "Notes:\n",
      "[1] Standard Errors assume that the covariance matrix of the errors is correctly specified.\n",
      "[2] The condition number is large, 1.6e+04. This might indicate that there are\n",
      "strong multicollinearity or other numerical problems.\n"
     ]
    }
   ],
   "source": [
    "X = df_paris[[\"distance\"]]\n",
    "y = df_paris[\"flightInfo.priceUSD\"]\n",
    "X = sm.add_constant(X) #ici on ajoute\n",
    "model = sm.OLS(y, X)\n",
    "results = model.fit()\n",
    "print(results.summary())\n",
    "\n",
    "#j'ai trouvé ça sur le site de Xavier dupré \n",
    "#http://www.xavierdupre.fr/app/ensae_teaching_cs/helpsphinx//notebooks/td2a_eco_regressions_lineaires.html\n",
    "# ça ne marche pas :()"
   ]
  },
  {
   "cell_type": "markdown",
   "metadata": {
    "id": "ieUSfJ5pbTfP"
   },
   "source": [
    "### ACP <a name = \"subparagraphe32\"></a>"
   ]
  },
  {
   "cell_type": "markdown",
   "metadata": {
    "id": "boeyzwkXbTMq"
   },
   "source": [
    "en fait l'ACP ne marche pas dans notre modèle vu qu'on a que 2 paramèetres : prix et distance"
   ]
  },
  {
   "cell_type": "code",
   "execution_count": 228,
   "metadata": {
    "id": "M41VKM9HsZlj",
    "outputId": "4552f030-c968-4a35-8cce-bad744bf2c38"
   },
   "outputs": [
    {
     "data": {
      "text/html": [
       "<div>\n",
       "<style scoped>\n",
       "    .dataframe tbody tr th:only-of-type {\n",
       "        vertical-align: middle;\n",
       "    }\n",
       "\n",
       "    .dataframe tbody tr th {\n",
       "        vertical-align: top;\n",
       "    }\n",
       "\n",
       "    .dataframe thead th {\n",
       "        text-align: right;\n",
       "    }\n",
       "</style>\n",
       "<table border=\"1\" class=\"dataframe\">\n",
       "  <thead>\n",
       "    <tr style=\"text-align: right;\">\n",
       "      <th></th>\n",
       "      <th>distance</th>\n",
       "      <th>flightInfo.priceUSD</th>\n",
       "    </tr>\n",
       "    <tr>\n",
       "      <th>city.name</th>\n",
       "      <th></th>\n",
       "      <th></th>\n",
       "    </tr>\n",
       "  </thead>\n",
       "  <tbody>\n",
       "    <tr>\n",
       "      <th>New York</th>\n",
       "      <td>5829</td>\n",
       "      <td>322.97</td>\n",
       "    </tr>\n",
       "    <tr>\n",
       "      <th>New York</th>\n",
       "      <td>5829</td>\n",
       "      <td>301.28</td>\n",
       "    </tr>\n",
       "    <tr>\n",
       "      <th>London</th>\n",
       "      <td>343</td>\n",
       "      <td>68.95</td>\n",
       "    </tr>\n",
       "    <tr>\n",
       "      <th>London</th>\n",
       "      <td>343</td>\n",
       "      <td>67.74</td>\n",
       "    </tr>\n",
       "    <tr>\n",
       "      <th>Miami</th>\n",
       "      <td>7356</td>\n",
       "      <td>381.85</td>\n",
       "    </tr>\n",
       "    <tr>\n",
       "      <th>...</th>\n",
       "      <td>...</td>\n",
       "      <td>...</td>\n",
       "    </tr>\n",
       "    <tr>\n",
       "      <th>Shiyan</th>\n",
       "      <td>8529</td>\n",
       "      <td>2103.01</td>\n",
       "    </tr>\n",
       "    <tr>\n",
       "      <th>Weifang</th>\n",
       "      <td>8643</td>\n",
       "      <td>2146.07</td>\n",
       "    </tr>\n",
       "    <tr>\n",
       "      <th>Nantong</th>\n",
       "      <td>9154</td>\n",
       "      <td>2137.48</td>\n",
       "    </tr>\n",
       "    <tr>\n",
       "      <th>Jiamusi</th>\n",
       "      <td>8250</td>\n",
       "      <td>2184.50</td>\n",
       "    </tr>\n",
       "    <tr>\n",
       "      <th>Jining</th>\n",
       "      <td>8610</td>\n",
       "      <td>2145.39</td>\n",
       "    </tr>\n",
       "  </tbody>\n",
       "</table>\n",
       "<p>5884 rows × 2 columns</p>\n",
       "</div>"
      ],
      "text/plain": [
       "           distance  flightInfo.priceUSD\n",
       "city.name                               \n",
       "New York       5829               322.97\n",
       "New York       5829               301.28\n",
       "London          343                68.95\n",
       "London          343                67.74\n",
       "Miami          7356               381.85\n",
       "...             ...                  ...\n",
       "Shiyan         8529              2103.01\n",
       "Weifang        8643              2146.07\n",
       "Nantong        9154              2137.48\n",
       "Jiamusi        8250              2184.50\n",
       "Jining         8610              2145.39\n",
       "\n",
       "[5884 rows x 2 columns]"
      ]
     },
     "execution_count": 228,
     "metadata": {},
     "output_type": "execute_result"
    }
   ],
   "source": [
    "df_acp=df_paris[[\"distance\",\"flightInfo.priceUSD\",\"city.name\"]]\n",
    "df_acp.set_index('city.name')"
   ]
  },
  {
   "cell_type": "code",
   "execution_count": 234,
   "metadata": {
    "id": "L_xkFa3ZsZlv"
   },
   "outputs": [],
   "source": [
    "from scipy.stats import pearsonr\n",
    "from sklearn.decomposition import PCA\n",
    "from sklearn.preprocessing import StandardScaler"
   ]
  },
  {
   "cell_type": "code",
   "execution_count": 232,
   "metadata": {
    "id": "hb6LaYbFsZlj",
    "outputId": "2285ee30-dbb4-43c1-904d-7cf9430fb6f0"
   },
   "outputs": [
    {
     "name": "stdout",
     "output_type": "stream",
     "text": [
      "0.7735300900805997 0.0\n"
     ]
    }
   ],
   "source": [
    "df_acp=(df_paris[[\"distance\",\"flightInfo.priceUSD\"]]).values\n",
    "\n",
    "coeff_corr, pvalue=pearsonr(df_acp[:,0],df_acp[:,1])\n",
    "print(coeff_corr, pvalue) #il y a une corrélation entre le prix et la distance "
   ]
  },
  {
   "cell_type": "code",
   "execution_count": 231,
   "metadata": {
    "id": "_IWIEQGGsZlv",
    "outputId": "bfdff478-43d9-4a86-e16e-1626c6c71f4d"
   },
   "outputs": [
    {
     "data": {
      "text/plain": [
       "<matplotlib.collections.PathCollection at 0xaa637abd00>"
      ]
     },
     "execution_count": 231,
     "metadata": {},
     "output_type": "execute_result"
    },
    {
     "data": {
      "image/png": "[encoded data removed]",
      "text/plain": [
       "<Figure size 432x288 with 1 Axes>"
      ]
     },
     "metadata": {
      "needs_background": "light"
     },
     "output_type": "display_data"
    }
   ],
   "source": [
    "plt.scatter(df_prix['Distance à Paris (km)'],df_prix['Prix moyen du vol en $'])\n"
   ]
  },
  {
   "cell_type": "code",
   "execution_count": 235,
   "metadata": {
    "id": "3dAwElxxsZlv",
    "outputId": "e1609799-b809-4c3c-e7aa-f31aad327847"
   },
   "outputs": [
    {
     "name": "stdout",
     "output_type": "stream",
     "text": [
      "1.3877787807814457e-17 1.0000000000058695\n"
     ]
    }
   ],
   "source": [
    "model_acp=PCA()\n",
    "coeff_acp=model_acp.fit_transform(df_acp)\n",
    "\n",
    "comp1=coeff_acp[:,0]\n",
    "comp2=coeff_acp[:,1]\n",
    "\n",
    "coeff_corr, pvalue=pearsonr(comp1,comp2)\n",
    "print(coeff_corr, pvalue) #il n'y a plus de corrélation entre les composantes principales"
   ]
  },
  {
   "cell_type": "code",
   "execution_count": 236,
   "metadata": {
    "id": "_pdlPBxWsZl0",
    "outputId": "f6856186-3488-46a9-f45c-19acbbad67f5"
   },
   "outputs": [
    {
     "data": {
      "image/png": "[encoded data removed]",
      "text/plain": [
       "<Figure size 432x288 with 1 Axes>"
      ]
     },
     "metadata": {
      "needs_background": "light"
     },
     "output_type": "display_data"
    }
   ],
   "source": [
    "plt.scatter(comp1,comp2)\n",
    "plt.show()"
   ]
  },
  {
   "cell_type": "markdown",
   "metadata": {
    "id": "ava4Sy8QabqJ"
   },
   "source": [
    "## Visualisation <a name = \"paragraphe4\"></a>"
   ]
  },
  {
   "cell_type": "markdown",
   "metadata": {
    "id": "MCrQriKdbmf9"
   },
   "source": [
    "On utilise une partie de ce qui a déjà été fait dans la partie de statistqiues descriptives sur la destination du vol."
   ]
  },
  {
   "cell_type": "code",
   "execution_count": 237,
   "metadata": {
    "id": "ydAdI1ABbm1K"
   },
   "outputs": [
    {
     "data": {
      "text/html": [
       "<div>\n",
       "<style scoped>\n",
       "    .dataframe tbody tr th:only-of-type {\n",
       "        vertical-align: middle;\n",
       "    }\n",
       "\n",
       "    .dataframe tbody tr th {\n",
       "        vertical-align: top;\n",
       "    }\n",
       "\n",
       "    .dataframe thead th {\n",
       "        text-align: right;\n",
       "    }\n",
       "</style>\n",
       "<table border=\"1\" class=\"dataframe\">\n",
       "  <thead>\n",
       "    <tr style=\"text-align: right;\">\n",
       "      <th></th>\n",
       "      <th>originAirportShortName</th>\n",
       "      <th>departd</th>\n",
       "      <th>returnd</th>\n",
       "      <th>airline</th>\n",
       "      <th>flightInfo.priceUSD</th>\n",
       "      <th>flightMaxStops</th>\n",
       "      <th>airport.latitude</th>\n",
       "      <th>airport.longitude</th>\n",
       "      <th>airport.shortName</th>\n",
       "      <th>city.name</th>\n",
       "      <th>country.name</th>\n",
       "      <th>distance</th>\n",
       "    </tr>\n",
       "  </thead>\n",
       "  <tbody>\n",
       "    <tr>\n",
       "      <th>0</th>\n",
       "      <td>CDG</td>\n",
       "      <td>20220201</td>\n",
       "      <td>20220301</td>\n",
       "      <td>Multiple Airlines</td>\n",
       "      <td>322.97</td>\n",
       "      <td>0</td>\n",
       "      <td>40.750960</td>\n",
       "      <td>-73.987410</td>\n",
       "      <td>NYC</td>\n",
       "      <td>New York</td>\n",
       "      <td>United States</td>\n",
       "      <td>5829</td>\n",
       "    </tr>\n",
       "    <tr>\n",
       "      <th>3</th>\n",
       "      <td>ORY</td>\n",
       "      <td>20220201</td>\n",
       "      <td>20220301</td>\n",
       "      <td>Multiple Airlines</td>\n",
       "      <td>301.28</td>\n",
       "      <td>0</td>\n",
       "      <td>40.750960</td>\n",
       "      <td>-73.987410</td>\n",
       "      <td>NYC</td>\n",
       "      <td>New York</td>\n",
       "      <td>United States</td>\n",
       "      <td>5829</td>\n",
       "    </tr>\n",
       "    <tr>\n",
       "      <th>6</th>\n",
       "      <td>CDG</td>\n",
       "      <td>20220201</td>\n",
       "      <td>20220301</td>\n",
       "      <td>Multiple Airlines</td>\n",
       "      <td>68.95</td>\n",
       "      <td>0</td>\n",
       "      <td>51.507350</td>\n",
       "      <td>-0.127660</td>\n",
       "      <td>LON</td>\n",
       "      <td>London</td>\n",
       "      <td>United Kingdom</td>\n",
       "      <td>343</td>\n",
       "    </tr>\n",
       "    <tr>\n",
       "      <th>9</th>\n",
       "      <td>ORY</td>\n",
       "      <td>20220201</td>\n",
       "      <td>20220301</td>\n",
       "      <td>Multiple Airlines</td>\n",
       "      <td>67.74</td>\n",
       "      <td>0</td>\n",
       "      <td>51.507350</td>\n",
       "      <td>-0.127660</td>\n",
       "      <td>LON</td>\n",
       "      <td>London</td>\n",
       "      <td>United Kingdom</td>\n",
       "      <td>343</td>\n",
       "    </tr>\n",
       "    <tr>\n",
       "      <th>11</th>\n",
       "      <td>CDG</td>\n",
       "      <td>20220201</td>\n",
       "      <td>20220301</td>\n",
       "      <td>Multiple Airlines</td>\n",
       "      <td>381.85</td>\n",
       "      <td>0</td>\n",
       "      <td>25.796521</td>\n",
       "      <td>-80.286617</td>\n",
       "      <td>MIA</td>\n",
       "      <td>Miami</td>\n",
       "      <td>United States</td>\n",
       "      <td>7356</td>\n",
       "    </tr>\n",
       "    <tr>\n",
       "      <th>...</th>\n",
       "      <td>...</td>\n",
       "      <td>...</td>\n",
       "      <td>...</td>\n",
       "      <td>...</td>\n",
       "      <td>...</td>\n",
       "      <td>...</td>\n",
       "      <td>...</td>\n",
       "      <td>...</td>\n",
       "      <td>...</td>\n",
       "      <td>...</td>\n",
       "      <td>...</td>\n",
       "      <td>...</td>\n",
       "    </tr>\n",
       "    <tr>\n",
       "      <th>14577</th>\n",
       "      <td>ORY</td>\n",
       "      <td>20220201</td>\n",
       "      <td>20220301</td>\n",
       "      <td>Multiple Airlines</td>\n",
       "      <td>2103.01</td>\n",
       "      <td>0</td>\n",
       "      <td>32.591800</td>\n",
       "      <td>110.907670</td>\n",
       "      <td>WDS</td>\n",
       "      <td>Shiyan</td>\n",
       "      <td>China</td>\n",
       "      <td>8529</td>\n",
       "    </tr>\n",
       "    <tr>\n",
       "      <th>14578</th>\n",
       "      <td>ORY</td>\n",
       "      <td>20220201</td>\n",
       "      <td>20220301</td>\n",
       "      <td>Multiple Airlines</td>\n",
       "      <td>2146.07</td>\n",
       "      <td>0</td>\n",
       "      <td>36.646700</td>\n",
       "      <td>119.119000</td>\n",
       "      <td>WEF</td>\n",
       "      <td>Weifang</td>\n",
       "      <td>China</td>\n",
       "      <td>8643</td>\n",
       "    </tr>\n",
       "    <tr>\n",
       "      <th>14579</th>\n",
       "      <td>ORY</td>\n",
       "      <td>20220201</td>\n",
       "      <td>20220301</td>\n",
       "      <td>Multiple Airlines</td>\n",
       "      <td>2137.48</td>\n",
       "      <td>0</td>\n",
       "      <td>32.070800</td>\n",
       "      <td>120.976000</td>\n",
       "      <td>NTG</td>\n",
       "      <td>Nantong</td>\n",
       "      <td>China</td>\n",
       "      <td>9154</td>\n",
       "    </tr>\n",
       "    <tr>\n",
       "      <th>14580</th>\n",
       "      <td>ORY</td>\n",
       "      <td>20220201</td>\n",
       "      <td>20220301</td>\n",
       "      <td>Multiple Airlines</td>\n",
       "      <td>2184.50</td>\n",
       "      <td>0</td>\n",
       "      <td>46.843400</td>\n",
       "      <td>130.465000</td>\n",
       "      <td>JMU</td>\n",
       "      <td>Jiamusi</td>\n",
       "      <td>China</td>\n",
       "      <td>8250</td>\n",
       "    </tr>\n",
       "    <tr>\n",
       "      <th>14581</th>\n",
       "      <td>ORY</td>\n",
       "      <td>20220201</td>\n",
       "      <td>20220301</td>\n",
       "      <td>Multiple Airlines</td>\n",
       "      <td>2145.39</td>\n",
       "      <td>0</td>\n",
       "      <td>35.292760</td>\n",
       "      <td>116.334440</td>\n",
       "      <td>JNG</td>\n",
       "      <td>Jining</td>\n",
       "      <td>China</td>\n",
       "      <td>8610</td>\n",
       "    </tr>\n",
       "  </tbody>\n",
       "</table>\n",
       "<p>5884 rows × 12 columns</p>\n",
       "</div>"
      ],
      "text/plain": [
       "      originAirportShortName   departd   returnd            airline  \\\n",
       "0                        CDG  20220201  20220301  Multiple Airlines   \n",
       "3                        ORY  20220201  20220301  Multiple Airlines   \n",
       "6                        CDG  20220201  20220301  Multiple Airlines   \n",
       "9                        ORY  20220201  20220301  Multiple Airlines   \n",
       "11                       CDG  20220201  20220301  Multiple Airlines   \n",
       "...                      ...       ...       ...                ...   \n",
       "14577                    ORY  20220201  20220301  Multiple Airlines   \n",
       "14578                    ORY  20220201  20220301  Multiple Airlines   \n",
       "14579                    ORY  20220201  20220301  Multiple Airlines   \n",
       "14580                    ORY  20220201  20220301  Multiple Airlines   \n",
       "14581                    ORY  20220201  20220301  Multiple Airlines   \n",
       "\n",
       "       flightInfo.priceUSD  flightMaxStops  airport.latitude  \\\n",
       "0                   322.97               0         40.750960   \n",
       "3                   301.28               0         40.750960   \n",
       "6                    68.95               0         51.507350   \n",
       "9                    67.74               0         51.507350   \n",
       "11                  381.85               0         25.796521   \n",
       "...                    ...             ...               ...   \n",
       "14577              2103.01               0         32.591800   \n",
       "14578              2146.07               0         36.646700   \n",
       "14579              2137.48               0         32.070800   \n",
       "14580              2184.50               0         46.843400   \n",
       "14581              2145.39               0         35.292760   \n",
       "\n",
       "       airport.longitude airport.shortName city.name    country.name  distance  \n",
       "0             -73.987410               NYC  New York   United States      5829  \n",
       "3             -73.987410               NYC  New York   United States      5829  \n",
       "6              -0.127660               LON    London  United Kingdom       343  \n",
       "9              -0.127660               LON    London  United Kingdom       343  \n",
       "11            -80.286617               MIA     Miami   United States      7356  \n",
       "...                  ...               ...       ...             ...       ...  \n",
       "14577         110.907670               WDS    Shiyan           China      8529  \n",
       "14578         119.119000               WEF   Weifang           China      8643  \n",
       "14579         120.976000               NTG   Nantong           China      9154  \n",
       "14580         130.465000               JMU   Jiamusi           China      8250  \n",
       "14581         116.334440               JNG    Jining           China      8610  \n",
       "\n",
       "[5884 rows x 12 columns]"
      ]
     },
     "execution_count": 237,
     "metadata": {},
     "output_type": "execute_result"
    }
   ],
   "source": [
    "df_paris"
   ]
  },
  {
   "cell_type": "code",
   "execution_count": 239,
   "metadata": {
    "id": "_B6FQR7PgHZA"
   },
   "outputs": [],
   "source": [
    "prix_m=[]\n",
    "for ville in villes_en : \n",
    "    p=df_paris[df_paris['city.name']==ville]['flightInfo.priceUSD'].astype(int).mean()\n",
    "    prix_m.append(round(p))"
   ]
  },
  {
   "cell_type": "code",
   "execution_count": 240,
   "metadata": {
    "id": "A-B7lypdG3Jp"
   },
   "outputs": [],
   "source": [
    "latitude=[]\n",
    "for ville in villes_en:\n",
    "    latitude.append(df_paris[df_paris['city.name']==ville]['airport.latitude'].iloc[0])\n",
    "    longitude=[]\n",
    "for ville in villes_en:\n",
    "    longitude.append(df_paris[df_paris['city.name']==ville]['airport.longitude'].iloc[0])"
   ]
  },
  {
   "cell_type": "code",
   "execution_count": 241,
   "metadata": {
    "id": "3X-zeqV6G4Gs"
   },
   "outputs": [],
   "source": [
    "liste_prix=np.array([villes_en,prix_m,latitude,longitude]).T\n",
    "df_prix=pd.DataFrame(liste_prix)\n",
    "df_prix.columns=['Ville','Prix moyen du vol en $','Latitude','Longitude']"
   ]
  },
  {
   "cell_type": "code",
   "execution_count": 242,
   "metadata": {
    "colab": {
     "base_uri": "https://localhost:8080/",
     "height": 206
    },
    "executionInfo": {
     "elapsed": 218,
     "status": "ok",
     "timestamp": 1641201876190,
     "user": {
      "displayName": "Hélène Bonneau-Chloup",
      "photoUrl": "https://lh3.googleusercontent.com/a/default-user=s64",
      "userId": "17302839421988390261"
     },
     "user_tz": -60
    },
    "id": "NZX0eNmcG8CY",
    "outputId": "507221e6-3fd4-483a-cd61-e1ca57210335"
   },
   "outputs": [
    {
     "data": {
      "text/html": [
       "<div>\n",
       "<style scoped>\n",
       "    .dataframe tbody tr th:only-of-type {\n",
       "        vertical-align: middle;\n",
       "    }\n",
       "\n",
       "    .dataframe tbody tr th {\n",
       "        vertical-align: top;\n",
       "    }\n",
       "\n",
       "    .dataframe thead th {\n",
       "        text-align: right;\n",
       "    }\n",
       "</style>\n",
       "<table border=\"1\" class=\"dataframe\">\n",
       "  <thead>\n",
       "    <tr style=\"text-align: right;\">\n",
       "      <th></th>\n",
       "      <th>Ville</th>\n",
       "      <th>Prix moyen du vol en $</th>\n",
       "      <th>Latitude</th>\n",
       "      <th>Longitude</th>\n",
       "    </tr>\n",
       "  </thead>\n",
       "  <tbody>\n",
       "    <tr>\n",
       "      <th>0</th>\n",
       "      <td>Agadir</td>\n",
       "      <td>198</td>\n",
       "      <td>30.325</td>\n",
       "      <td>-9.41307</td>\n",
       "    </tr>\n",
       "    <tr>\n",
       "      <th>1</th>\n",
       "      <td>Amsterdam</td>\n",
       "      <td>96</td>\n",
       "      <td>52.30736127010797</td>\n",
       "      <td>4.767146455078091</td>\n",
       "    </tr>\n",
       "    <tr>\n",
       "      <th>2</th>\n",
       "      <td>Antalya</td>\n",
       "      <td>196</td>\n",
       "      <td>36.89873</td>\n",
       "      <td>30.80046</td>\n",
       "    </tr>\n",
       "    <tr>\n",
       "      <th>3</th>\n",
       "      <td>Athens</td>\n",
       "      <td>112</td>\n",
       "      <td>37.93636</td>\n",
       "      <td>23.944470000000003</td>\n",
       "    </tr>\n",
       "    <tr>\n",
       "      <th>4</th>\n",
       "      <td>Bangkok</td>\n",
       "      <td>688</td>\n",
       "      <td>13.913579750656696</td>\n",
       "      <td>100.60606335449222</td>\n",
       "    </tr>\n",
       "  </tbody>\n",
       "</table>\n",
       "</div>"
      ],
      "text/plain": [
       "       Ville Prix moyen du vol en $            Latitude           Longitude\n",
       "0     Agadir                    198              30.325            -9.41307\n",
       "1  Amsterdam                     96   52.30736127010797   4.767146455078091\n",
       "2    Antalya                    196            36.89873            30.80046\n",
       "3     Athens                    112            37.93636  23.944470000000003\n",
       "4    Bangkok                    688  13.913579750656696  100.60606335449222"
      ]
     },
     "execution_count": 242,
     "metadata": {},
     "output_type": "execute_result"
    }
   ],
   "source": [
    "df_prix.head()"
   ]
  },
  {
   "cell_type": "markdown",
   "metadata": {
    "id": "wvFuI7bcE2rB"
   },
   "source": [
    "On a créé un dataframa qui contient le nom des villes, les prix moyen d'un vol en \\$, la latitude, la longitude et le nombre de vols."
   ]
  },
  {
   "cell_type": "code",
   "execution_count": 243,
   "metadata": {
    "id": "k19Zg4e3G8tB"
   },
   "outputs": [],
   "source": [
    "df_prix['Latitude']=df_prix['Latitude'].astype(float)\n",
    "df_prix['Longitude']=df_prix['Longitude'].astype(float)\n",
    "df_prix['Prix moyen du vol en $']=df_prix['Prix moyen du vol en $'].astype(int)"
   ]
  },
  {
   "cell_type": "code",
   "execution_count": 244,
   "metadata": {},
   "outputs": [],
   "source": [
    "df_prix=df_prix.sort_values('Prix moyen du vol en $')"
   ]
  },
  {
   "cell_type": "code",
   "execution_count": 789,
   "metadata": {
    "id": "uDoVu0EcG_3R"
   },
   "outputs": [
    {
     "name": "stdout",
     "output_type": "stream",
     "text": [
      "Collecting folium\n",
      "  Downloading folium-0.12.1.post1-py2.py3-none-any.whl (95 kB)\n",
      "Requirement already satisfied: jinja2>=2.9 in c:\\users\\laura\\anaconda3\\lib\\site-packages (from folium) (2.11.2)\n",
      "Requirement already satisfied: requests in c:\\users\\laura\\anaconda3\\lib\\site-packages (from folium) (2.24.0)\n",
      "Collecting branca>=0.3.0\n",
      "  Downloading branca-0.4.2-py3-none-any.whl (24 kB)\n",
      "Requirement already satisfied: numpy in c:\\users\\laura\\anaconda3\\lib\\site-packages (from folium) (1.19.2)\n",
      "Requirement already satisfied: MarkupSafe>=0.23 in c:\\users\\laura\\anaconda3\\lib\\site-packages (from jinja2>=2.9->folium) (1.1.1)\n",
      "Requirement already satisfied: chardet<4,>=3.0.2 in c:\\users\\laura\\anaconda3\\lib\\site-packages (from requests->folium) (3.0.4)\n",
      "Requirement already satisfied: certifi>=2017.4.17 in c:\\users\\laura\\anaconda3\\lib\\site-packages (from requests->folium) (2020.6.20)\n",
      "Requirement already satisfied: urllib3!=1.25.0,!=1.25.1,<1.26,>=1.21.1 in c:\\users\\laura\\anaconda3\\lib\\site-packages (from requests->folium) (1.25.11)\n",
      "Requirement already satisfied: idna<3,>=2.5 in c:\\users\\laura\\anaconda3\\lib\\site-packages (from requests->folium) (2.10)\n",
      "Installing collected packages: branca, folium\n",
      "Successfully installed branca-0.4.2 folium-0.12.1.post1\n"
     ]
    }
   ],
   "source": [
    "!pip install folium"
   ]
  },
  {
   "cell_type": "code",
   "execution_count": 245,
   "metadata": {
    "id": "lc2aMz_vHNNZ"
   },
   "outputs": [],
   "source": [
    "import folium\n",
    "from folium.plugins import MarkerCluster"
   ]
  },
  {
   "cell_type": "code",
   "execution_count": 246,
   "metadata": {
    "id": "ouomPGQhPJ6K"
   },
   "outputs": [],
   "source": [
    "df_prix['Couleur'] = pd.cut(df_prix['Prix moyen du vol en $'], bins=6,\n",
    "                            labels=['green','yellow','orange','red','brown','black'])"
   ]
  },
  {
   "cell_type": "code",
   "execution_count": 247,
   "metadata": {
    "colab": {
     "base_uri": "https://localhost:8080/",
     "height": 717
    },
    "executionInfo": {
     "elapsed": 1030,
     "status": "ok",
     "timestamp": 1641218622620,
     "user": {
      "displayName": "Hélène Bonneau-Chloup",
      "photoUrl": "https://lh3.googleusercontent.com/a/default-user=s64",
      "userId": "17302839421988390261"
     },
     "user_tz": -60
    },
    "id": "EZm1pKYlHQfK",
    "outputId": "52774fd6-028c-4648-e07c-798d0d366da0"
   },
   "outputs": [
    {
     "data": {
      "text/html": [
       "<div style=\"width:100%;\"><div style=\"position:relative;width:100%;height:0;padding-bottom:60%;\"><span style=\"color:#565656\">Make this Notebook Trusted to load map: File -> Trust Notebook</span><iframe src=\"about:blank\" style=\"position:absolute;width:100%;height:100%;left:0;top:0;border:none !important;\" data-html=%3C%21DOCTYPE%20html%3E%0A%3Chead%3E%20%20%20%20%0A%20%20%20%20%3Cmeta%20http-equiv%3D%22content-type%22%20content%3D%22text/html%3B%20charset%3DUTF-8%22%20/%3E%0A%20%20%20%20%0A%20%20%20%20%20%20%20%20%3Cscript%3E%0A%20%20%20%20%20%20%20%20%20%20%20%20L_NO_TOUCH%20%3D%20false%3B%0A%20%20%20%20%20%20%20%20%20%20%20%20L_DISABLE_3D%20%3D%20false%3B%0A%20%20%20%20%20%20%20%20%3C/script%3E%0A%20%20%20%20%0A%20%20%20%20%3Cstyle%3Ehtml%2C%20body%20%7Bwidth%3A%20100%25%3Bheight%3A%20100%25%3Bmargin%3A%200%3Bpadding%3A%200%3B%7D%3C/style%3E%0A%20%20%20%20%3Cstyle%3E%23map%20%7Bposition%3Aabsolute%3Btop%3A0%3Bbottom%3A0%3Bright%3A0%3Bleft%3A0%3B%7D%3C/style%3E%0A%20%20%20%20%3Cscript%20src%3D%22https%3A//cdn.jsdelivr.net/npm/leaflet%401.6.0/dist/leaflet.js%22%3E%3C/script%3E%0A%20%20%20%20%3Cscript%20src%3D%22https%3A//code.jquery.com/jquery-1.12.4.min.js%22%3E%3C/script%3E%0A%20%20%20%20%3Cscript%20src%3D%22https%3A//maxcdn.bootstrapcdn.com/bootstrap/3.2.0/js/bootstrap.min.js%22%3E%3C/script%3E%0A%20%20%20%20%3Cscript%20src%3D%22https%3A//cdnjs.cloudflare.com/ajax/libs/Leaflet.awesome-markers/2.0.2/leaflet.awesome-markers.js%22%3E%3C/script%3E%0A%20%20%20%20%3Clink%20rel%3D%22stylesheet%22%20href%3D%22https%3A//cdn.jsdelivr.net/npm/leaflet%401.6.0/dist/leaflet.css%22/%3E%0A%20%20%20%20%3Clink%20rel%3D%22stylesheet%22%20href%3D%22https%3A//maxcdn.bootstrapcdn.com/bootstrap/3.2.0/css/bootstrap.min.css%22/%3E%0A%20%20%20%20%3Clink%20rel%3D%22stylesheet%22%20href%3D%22https%3A//maxcdn.bootstrapcdn.com/bootstrap/3.2.0/css/bootstrap-theme.min.css%22/%3E%0A%20%20%20%20%3Clink%20rel%3D%22stylesheet%22%20href%3D%22https%3A//maxcdn.bootstrapcdn.com/font-awesome/4.6.3/css/font-awesome.min.css%22/%3E%0A%20%20%20%20%3Clink%20rel%3D%22stylesheet%22%20href%3D%22https%3A//cdnjs.cloudflare.com/ajax/libs/Leaflet.awesome-markers/2.0.2/leaflet.awesome-markers.css%22/%3E%0A%20%20%20%20%3Clink%20rel%3D%22stylesheet%22%20href%3D%22https%3A//cdn.jsdelivr.net/gh/python-visualization/folium/folium/templates/leaflet.awesome.rotate.min.css%22/%3E%0A%20%20%20%20%0A%20%20%20%20%20%20%20%20%20%20%20%20%3Cmeta%20name%3D%22viewport%22%20content%3D%22width%3Ddevice-width%2C%0A%20%20%20%20%20%20%20%20%20%20%20%20%20%20%20%20initial-scale%3D1.0%2C%20maximum-scale%3D1.0%2C%20user-scalable%3Dno%22%20/%3E%0A%20%20%20%20%20%20%20%20%20%20%20%20%3Cstyle%3E%0A%20%20%20%20%20%20%20%20%20%20%20%20%20%20%20%20%23map_488442466ca04305bc30478c4ee59e17%20%7B%0A%20%20%20%20%20%20%20%20%20%20%20%20%20%20%20%20%20%20%20%20position%3A%20relative%3B%0A%20%20%20%20%20%20%20%20%20%20%20%20%20%20%20%20%20%20%20%20width%3A%20100.0%25%3B%0A%20%20%20%20%20%20%20%20%20%20%20%20%20%20%20%20%20%20%20%20height%3A%20100.0%25%3B%0A%20%20%20%20%20%20%20%20%20%20%20%20%20%20%20%20%20%20%20%20left%3A%200.0%25%3B%0A%20%20%20%20%20%20%20%20%20%20%20%20%20%20%20%20%20%20%20%20top%3A%200.0%25%3B%0A%20%20%20%20%20%20%20%20%20%20%20%20%20%20%20%20%7D%0A%20%20%20%20%20%20%20%20%20%20%20%20%3C/style%3E%0A%20%20%20%20%20%20%20%20%0A%3C/head%3E%0A%3Cbody%3E%20%20%20%20%0A%20%20%20%20%0A%20%20%20%20%20%20%20%20%20%20%20%20%3Cdiv%20class%3D%22folium-map%22%20id%3D%22map_488442466ca04305bc30478c4ee59e17%22%20%3E%3C/div%3E%0A%20%20%20%20%20%20%20%20%0A%3C/body%3E%0A%3Cscript%3E%20%20%20%20%0A%20%20%20%20%0A%20%20%20%20%20%20%20%20%20%20%20%20var%20map_488442466ca04305bc30478c4ee59e17%20%3D%20L.map%28%0A%20%20%20%20%20%20%20%20%20%20%20%20%20%20%20%20%22map_488442466ca04305bc30478c4ee59e17%22%2C%0A%20%20%20%20%20%20%20%20%20%20%20%20%20%20%20%20%7B%0A%20%20%20%20%20%20%20%20%20%20%20%20%20%20%20%20%20%20%20%20center%3A%20%5B0%2C%200%5D%2C%0A%20%20%20%20%20%20%20%20%20%20%20%20%20%20%20%20%20%20%20%20crs%3A%20L.CRS.EPSG3857%2C%0A%20%20%20%20%20%20%20%20%20%20%20%20%20%20%20%20%20%20%20%20zoom%3A%201%2C%0A%20%20%20%20%20%20%20%20%20%20%20%20%20%20%20%20%20%20%20%20zoomControl%3A%20true%2C%0A%20%20%20%20%20%20%20%20%20%20%20%20%20%20%20%20%20%20%20%20preferCanvas%3A%20false%2C%0A%20%20%20%20%20%20%20%20%20%20%20%20%20%20%20%20%7D%0A%20%20%20%20%20%20%20%20%20%20%20%20%29%3B%0A%0A%20%20%20%20%20%20%20%20%20%20%20%20%0A%0A%20%20%20%20%20%20%20%20%0A%20%20%20%20%0A%20%20%20%20%20%20%20%20%20%20%20%20var%20tile_layer_133e08d4e27e4f189d057bf7d1c197e5%20%3D%20L.tileLayer%28%0A%20%20%20%20%20%20%20%20%20%20%20%20%20%20%20%20%22https%3A//cartodb-basemaps-%7Bs%7D.global.ssl.fastly.net/light_all/%7Bz%7D/%7Bx%7D/%7By%7D.png%22%2C%0A%20%20%20%20%20%20%20%20%20%20%20%20%20%20%20%20%7B%22attribution%22%3A%20%22%5Cu0026copy%3B%20%5Cu003ca%20href%3D%5C%22http%3A//www.openstreetmap.org/copyright%5C%22%5Cu003eOpenStreetMap%5Cu003c/a%5Cu003e%20contributors%20%5Cu0026copy%3B%20%5Cu003ca%20href%3D%5C%22http%3A//cartodb.com/attributions%5C%22%5Cu003eCartoDB%5Cu003c/a%5Cu003e%2C%20CartoDB%20%5Cu003ca%20href%20%3D%5C%22http%3A//cartodb.com/attributions%5C%22%5Cu003eattributions%5Cu003c/a%5Cu003e%22%2C%20%22detectRetina%22%3A%20false%2C%20%22maxNativeZoom%22%3A%2018%2C%20%22maxZoom%22%3A%2018%2C%20%22minZoom%22%3A%200%2C%20%22noWrap%22%3A%20false%2C%20%22opacity%22%3A%201%2C%20%22subdomains%22%3A%20%22abc%22%2C%20%22tms%22%3A%20false%7D%0A%20%20%20%20%20%20%20%20%20%20%20%20%29.addTo%28map_488442466ca04305bc30478c4ee59e17%29%3B%0A%20%20%20%20%20%20%20%20%0A%20%20%20%20%0A%20%20%20%20%20%20%20%20%20%20%20%20var%20circle_marker_8513622d9aa34ecabdcd1e7f0425802a%20%3D%20L.circleMarker%28%0A%20%20%20%20%20%20%20%20%20%20%20%20%20%20%20%20%5B47.43693%2C%2019.25559%5D%2C%0A%20%20%20%20%20%20%20%20%20%20%20%20%20%20%20%20%7B%22bubblingMouseEvents%22%3A%20true%2C%20%22color%22%3A%20%22blue%22%2C%20%22dashArray%22%3A%20null%2C%20%22dashOffset%22%3A%20null%2C%20%22fill%22%3A%20true%2C%20%22fillColor%22%3A%20%22blue%22%2C%20%22fillOpacity%22%3A%200.2%2C%20%22fillRule%22%3A%20%22evenodd%22%2C%20%22lineCap%22%3A%20%22round%22%2C%20%22lineJoin%22%3A%20%22round%22%2C%20%22opacity%22%3A%201.0%2C%20%22radius%22%3A%2010%2C%20%22stroke%22%3A%20true%2C%20%22weight%22%3A%203%7D%0A%20%20%20%20%20%20%20%20%20%20%20%20%29.addTo%28map_488442466ca04305bc30478c4ee59e17%29%3B%0A%20%20%20%20%20%20%20%20%0A%20%20%20%20%0A%20%20%20%20%20%20%20%20var%20popup_2f608e1b8db845c2a08118902c70fc4e%20%3D%20L.popup%28%7B%22maxWidth%22%3A%20%22100%25%22%7D%29%3B%0A%0A%20%20%20%20%20%20%20%20%0A%20%20%20%20%20%20%20%20%20%20%20%20var%20html_5e404a7819514b9ca6e0d7b39c1fbe46%20%3D%20%24%28%60%3Cdiv%20id%3D%22html_5e404a7819514b9ca6e0d7b39c1fbe46%22%20style%3D%22width%3A%20100.0%25%3B%20height%3A%20100.0%25%3B%22%3EVille%20%3A%20Budapest%3Cbr%3E%20%20%20%20%20%20%20%20%20%20%20%20%20%20%20%20%20%20%20%20%20Prix%20moyen%20d%27un%20vol%20en%20%24%20%3A%2042%3Cbr%3E%3C/div%3E%60%29%5B0%5D%3B%0A%20%20%20%20%20%20%20%20%20%20%20%20popup_2f608e1b8db845c2a08118902c70fc4e.setContent%28html_5e404a7819514b9ca6e0d7b39c1fbe46%29%3B%0A%20%20%20%20%20%20%20%20%0A%0A%20%20%20%20%20%20%20%20circle_marker_8513622d9aa34ecabdcd1e7f0425802a.bindPopup%28popup_2f608e1b8db845c2a08118902c70fc4e%29%0A%20%20%20%20%20%20%20%20%3B%0A%0A%20%20%20%20%20%20%20%20%0A%20%20%20%20%0A%20%20%20%20%0A%20%20%20%20%20%20%20%20%20%20%20%20var%20circle_marker_827fb388f3f242138a517ffa12ec92bc%20%3D%20L.circleMarker%28%0A%20%20%20%20%20%20%20%20%20%20%20%20%20%20%20%20%5B41.29656412272211%2C%202.08395316406245%5D%2C%0A%20%20%20%20%20%20%20%20%20%20%20%20%20%20%20%20%7B%22bubblingMouseEvents%22%3A%20true%2C%20%22color%22%3A%20%22green%22%2C%20%22dashArray%22%3A%20null%2C%20%22dashOffset%22%3A%20null%2C%20%22fill%22%3A%20true%2C%20%22fillColor%22%3A%20%22green%22%2C%20%22fillOpacity%22%3A%200.2%2C%20%22fillRule%22%3A%20%22evenodd%22%2C%20%22lineCap%22%3A%20%22round%22%2C%20%22lineJoin%22%3A%20%22round%22%2C%20%22opacity%22%3A%201.0%2C%20%22radius%22%3A%2010%2C%20%22stroke%22%3A%20true%2C%20%22weight%22%3A%203%7D%0A%20%20%20%20%20%20%20%20%20%20%20%20%29.addTo%28map_488442466ca04305bc30478c4ee59e17%29%3B%0A%20%20%20%20%20%20%20%20%0A%20%20%20%20%0A%20%20%20%20%20%20%20%20var%20popup_b78dde463942424baf14966684552353%20%3D%20L.popup%28%7B%22maxWidth%22%3A%20%22100%25%22%7D%29%3B%0A%0A%20%20%20%20%20%20%20%20%0A%20%20%20%20%20%20%20%20%20%20%20%20var%20html_fb031976527e4de2975f2e8c4008cbcf%20%3D%20%24%28%60%3Cdiv%20id%3D%22html_fb031976527e4de2975f2e8c4008cbcf%22%20style%3D%22width%3A%20100.0%25%3B%20height%3A%20100.0%25%3B%22%3EVille%20%3A%20Barcelona%3Cbr%3E%20%20%20%20%20%20%20%20%20%20%20%20%20%20%20%20%20%20%20%20%20Prix%20moyen%20d%27un%20vol%20en%20%24%20%3A%2049%3Cbr%3E%3C/div%3E%60%29%5B0%5D%3B%0A%20%20%20%20%20%20%20%20%20%20%20%20popup_b78dde463942424baf14966684552353.setContent%28html_fb031976527e4de2975f2e8c4008cbcf%29%3B%0A%20%20%20%20%20%20%20%20%0A%0A%20%20%20%20%20%20%20%20circle_marker_827fb388f3f242138a517ffa12ec92bc.bindPopup%28popup_b78dde463942424baf14966684552353%29%0A%20%20%20%20%20%20%20%20%3B%0A%0A%20%20%20%20%20%20%20%20%0A%20%20%20%20%0A%20%20%20%20%0A%20%20%20%20%20%20%20%20%20%20%20%20var%20circle_marker_26b6d004c3e840ee873a98545077a736%20%3D%20L.circleMarker%28%0A%20%20%20%20%20%20%20%20%20%20%20%20%20%20%20%20%5B38.776090933993636%2C%20-9.135576677246036%5D%2C%0A%20%20%20%20%20%20%20%20%20%20%20%20%20%20%20%20%7B%22bubblingMouseEvents%22%3A%20true%2C%20%22color%22%3A%20%22green%22%2C%20%22dashArray%22%3A%20null%2C%20%22dashOffset%22%3A%20null%2C%20%22fill%22%3A%20true%2C%20%22fillColor%22%3A%20%22green%22%2C%20%22fillOpacity%22%3A%200.2%2C%20%22fillRule%22%3A%20%22evenodd%22%2C%20%22lineCap%22%3A%20%22round%22%2C%20%22lineJoin%22%3A%20%22round%22%2C%20%22opacity%22%3A%201.0%2C%20%22radius%22%3A%2010%2C%20%22stroke%22%3A%20true%2C%20%22weight%22%3A%203%7D%0A%20%20%20%20%20%20%20%20%20%20%20%20%29.addTo%28map_488442466ca04305bc30478c4ee59e17%29%3B%0A%20%20%20%20%20%20%20%20%0A%20%20%20%20%0A%20%20%20%20%20%20%20%20var%20popup_e70f4b7c867845acbf9cb1ca40a49e07%20%3D%20L.popup%28%7B%22maxWidth%22%3A%20%22100%25%22%7D%29%3B%0A%0A%20%20%20%20%20%20%20%20%0A%20%20%20%20%20%20%20%20%20%20%20%20var%20html_f84819eb4baa4b2cb79b9a651d0dfe1a%20%3D%20%24%28%60%3Cdiv%20id%3D%22html_f84819eb4baa4b2cb79b9a651d0dfe1a%22%20style%3D%22width%3A%20100.0%25%3B%20height%3A%20100.0%25%3B%22%3EVille%20%3A%20Lisbon%3Cbr%3E%20%20%20%20%20%20%20%20%20%20%20%20%20%20%20%20%20%20%20%20%20Prix%20moyen%20d%27un%20vol%20en%20%24%20%3A%2054%3Cbr%3E%3C/div%3E%60%29%5B0%5D%3B%0A%20%20%20%20%20%20%20%20%20%20%20%20popup_e70f4b7c867845acbf9cb1ca40a49e07.setContent%28html_f84819eb4baa4b2cb79b9a651d0dfe1a%29%3B%0A%20%20%20%20%20%20%20%20%0A%0A%20%20%20%20%20%20%20%20circle_marker_26b6d004c3e840ee873a98545077a736.bindPopup%28popup_e70f4b7c867845acbf9cb1ca40a49e07%29%0A%20%20%20%20%20%20%20%20%3B%0A%0A%20%20%20%20%20%20%20%20%0A%20%20%20%20%0A%20%20%20%20%0A%20%20%20%20%20%20%20%20%20%20%20%20var%20circle_marker_ca0b4456d1684b9786c61b8349fdca21%20%3D%20L.circleMarker%28%0A%20%20%20%20%20%20%20%20%20%20%20%20%20%20%20%20%5B52.36213%2C%2013.50168%5D%2C%0A%20%20%20%20%20%20%20%20%20%20%20%20%20%20%20%20%7B%22bubblingMouseEvents%22%3A%20true%2C%20%22color%22%3A%20%22green%22%2C%20%22dashArray%22%3A%20null%2C%20%22dashOffset%22%3A%20null%2C%20%22fill%22%3A%20true%2C%20%22fillColor%22%3A%20%22green%22%2C%20%22fillOpacity%22%3A%200.2%2C%20%22fillRule%22%3A%20%22evenodd%22%2C%20%22lineCap%22%3A%20%22round%22%2C%20%22lineJoin%22%3A%20%22round%22%2C%20%22opacity%22%3A%201.0%2C%20%22radius%22%3A%2010%2C%20%22stroke%22%3A%20true%2C%20%22weight%22%3A%203%7D%0A%20%20%20%20%20%20%20%20%20%20%20%20%29.addTo%28map_488442466ca04305bc30478c4ee59e17%29%3B%0A%20%20%20%20%20%20%20%20%0A%20%20%20%20%0A%20%20%20%20%20%20%20%20var%20popup_da7e9881483d40c08ff04399b618e694%20%3D%20L.popup%28%7B%22maxWidth%22%3A%20%22100%25%22%7D%29%3B%0A%0A%20%20%20%20%20%20%20%20%0A%20%20%20%20%20%20%20%20%20%20%20%20var%20html_10d60bb66f7e4f658d3bca0f0bebdfc6%20%3D%20%24%28%60%3Cdiv%20id%3D%22html_10d60bb66f7e4f658d3bca0f0bebdfc6%22%20style%3D%22width%3A%20100.0%25%3B%20height%3A%20100.0%25%3B%22%3EVille%20%3A%20Berlin%3Cbr%3E%20%20%20%20%20%20%20%20%20%20%20%20%20%20%20%20%20%20%20%20%20Prix%20moyen%20d%27un%20vol%20en%20%24%20%3A%2066%3Cbr%3E%3C/div%3E%60%29%5B0%5D%3B%0A%20%20%20%20%20%20%20%20%20%20%20%20popup_da7e9881483d40c08ff04399b618e694.setContent%28html_10d60bb66f7e4f658d3bca0f0bebdfc6%29%3B%0A%20%20%20%20%20%20%20%20%0A%0A%20%20%20%20%20%20%20%20circle_marker_ca0b4456d1684b9786c61b8349fdca21.bindPopup%28popup_da7e9881483d40c08ff04399b618e694%29%0A%20%20%20%20%20%20%20%20%3B%0A%0A%20%20%20%20%20%20%20%20%0A%20%20%20%20%0A%20%20%20%20%0A%20%20%20%20%20%20%20%20%20%20%20%20var%20circle_marker_9d40de0388504d8c9aaad253e739998a%20%3D%20L.circleMarker%28%0A%20%20%20%20%20%20%20%20%20%20%20%20%20%20%20%20%5B53.42664913574879%2C%20-6.250510603027351%5D%2C%0A%20%20%20%20%20%20%20%20%20%20%20%20%20%20%20%20%7B%22bubblingMouseEvents%22%3A%20true%2C%20%22color%22%3A%20%22green%22%2C%20%22dashArray%22%3A%20null%2C%20%22dashOffset%22%3A%20null%2C%20%22fill%22%3A%20true%2C%20%22fillColor%22%3A%20%22green%22%2C%20%22fillOpacity%22%3A%200.2%2C%20%22fillRule%22%3A%20%22evenodd%22%2C%20%22lineCap%22%3A%20%22round%22%2C%20%22lineJoin%22%3A%20%22round%22%2C%20%22opacity%22%3A%201.0%2C%20%22radius%22%3A%2010%2C%20%22stroke%22%3A%20true%2C%20%22weight%22%3A%203%7D%0A%20%20%20%20%20%20%20%20%20%20%20%20%29.addTo%28map_488442466ca04305bc30478c4ee59e17%29%3B%0A%20%20%20%20%20%20%20%20%0A%20%20%20%20%0A%20%20%20%20%20%20%20%20var%20popup_ef0e2b3fe7764eff93fa4ecb24599aea%20%3D%20L.popup%28%7B%22maxWidth%22%3A%20%22100%25%22%7D%29%3B%0A%0A%20%20%20%20%20%20%20%20%0A%20%20%20%20%20%20%20%20%20%20%20%20var%20html_3c96ab8a8dfd43df90c7dc99625c4dbf%20%3D%20%24%28%60%3Cdiv%20id%3D%22html_3c96ab8a8dfd43df90c7dc99625c4dbf%22%20style%3D%22width%3A%20100.0%25%3B%20height%3A%20100.0%25%3B%22%3EVille%20%3A%20Dublin%3Cbr%3E%20%20%20%20%20%20%20%20%20%20%20%20%20%20%20%20%20%20%20%20%20Prix%20moyen%20d%27un%20vol%20en%20%24%20%3A%2066%3Cbr%3E%3C/div%3E%60%29%5B0%5D%3B%0A%20%20%20%20%20%20%20%20%20%20%20%20popup_ef0e2b3fe7764eff93fa4ecb24599aea.setContent%28html_3c96ab8a8dfd43df90c7dc99625c4dbf%29%3B%0A%20%20%20%20%20%20%20%20%0A%0A%20%20%20%20%20%20%20%20circle_marker_9d40de0388504d8c9aaad253e739998a.bindPopup%28popup_ef0e2b3fe7764eff93fa4ecb24599aea%29%0A%20%20%20%20%20%20%20%20%3B%0A%0A%20%20%20%20%20%20%20%20%0A%20%20%20%20%0A%20%20%20%20%0A%20%20%20%20%20%20%20%20%20%20%20%20var%20circle_marker_5720a2184dc14450b688f4d7235065ca%20%3D%20L.circleMarker%28%0A%20%20%20%20%20%20%20%20%20%20%20%20%20%20%20%20%5B55.95%2C%20-3.3725%5D%2C%0A%20%20%20%20%20%20%20%20%20%20%20%20%20%20%20%20%7B%22bubblingMouseEvents%22%3A%20true%2C%20%22color%22%3A%20%22green%22%2C%20%22dashArray%22%3A%20null%2C%20%22dashOffset%22%3A%20null%2C%20%22fill%22%3A%20true%2C%20%22fillColor%22%3A%20%22green%22%2C%20%22fillOpacity%22%3A%200.2%2C%20%22fillRule%22%3A%20%22evenodd%22%2C%20%22lineCap%22%3A%20%22round%22%2C%20%22lineJoin%22%3A%20%22round%22%2C%20%22opacity%22%3A%201.0%2C%20%22radius%22%3A%2010%2C%20%22stroke%22%3A%20true%2C%20%22weight%22%3A%203%7D%0A%20%20%20%20%20%20%20%20%20%20%20%20%29.addTo%28map_488442466ca04305bc30478c4ee59e17%29%3B%0A%20%20%20%20%20%20%20%20%0A%20%20%20%20%0A%20%20%20%20%20%20%20%20var%20popup_cef345b6003c43c3a3247703a55e9670%20%3D%20L.popup%28%7B%22maxWidth%22%3A%20%22100%25%22%7D%29%3B%0A%0A%20%20%20%20%20%20%20%20%0A%20%20%20%20%20%20%20%20%20%20%20%20var%20html_59229b92492c4932af1083bd21d1b391%20%3D%20%24%28%60%3Cdiv%20id%3D%22html_59229b92492c4932af1083bd21d1b391%22%20style%3D%22width%3A%20100.0%25%3B%20height%3A%20100.0%25%3B%22%3EVille%20%3A%20Edinburgh%3Cbr%3E%20%20%20%20%20%20%20%20%20%20%20%20%20%20%20%20%20%20%20%20%20Prix%20moyen%20d%27un%20vol%20en%20%24%20%3A%2074%3Cbr%3E%3C/div%3E%60%29%5B0%5D%3B%0A%20%20%20%20%20%20%20%20%20%20%20%20popup_cef345b6003c43c3a3247703a55e9670.setContent%28html_59229b92492c4932af1083bd21d1b391%29%3B%0A%20%20%20%20%20%20%20%20%0A%0A%20%20%20%20%20%20%20%20circle_marker_5720a2184dc14450b688f4d7235065ca.bindPopup%28popup_cef345b6003c43c3a3247703a55e9670%29%0A%20%20%20%20%20%20%20%20%3B%0A%0A%20%20%20%20%20%20%20%20%0A%20%20%20%20%0A%20%20%20%20%0A%20%20%20%20%20%20%20%20%20%20%20%20var%20circle_marker_0dea4a55608b4d17bfcbc5764be2daf2%20%3D%20L.circleMarker%28%0A%20%20%20%20%20%20%20%20%20%20%20%20%20%20%20%20%5B55.61792%2C%2012.65597%5D%2C%0A%20%20%20%20%20%20%20%20%20%20%20%20%20%20%20%20%7B%22bubblingMouseEvents%22%3A%20true%2C%20%22color%22%3A%20%22green%22%2C%20%22dashArray%22%3A%20null%2C%20%22dashOffset%22%3A%20null%2C%20%22fill%22%3A%20true%2C%20%22fillColor%22%3A%20%22green%22%2C%20%22fillOpacity%22%3A%200.2%2C%20%22fillRule%22%3A%20%22evenodd%22%2C%20%22lineCap%22%3A%20%22round%22%2C%20%22lineJoin%22%3A%20%22round%22%2C%20%22opacity%22%3A%201.0%2C%20%22radius%22%3A%2010%2C%20%22stroke%22%3A%20true%2C%20%22weight%22%3A%203%7D%0A%20%20%20%20%20%20%20%20%20%20%20%20%29.addTo%28map_488442466ca04305bc30478c4ee59e17%29%3B%0A%20%20%20%20%20%20%20%20%0A%20%20%20%20%0A%20%20%20%20%20%20%20%20var%20popup_24262606560947ca8e9d236f457c79d9%20%3D%20L.popup%28%7B%22maxWidth%22%3A%20%22100%25%22%7D%29%3B%0A%0A%20%20%20%20%20%20%20%20%0A%20%20%20%20%20%20%20%20%20%20%20%20var%20html_82300c8ee39e479d91877ad0c5d70cc8%20%3D%20%24%28%60%3Cdiv%20id%3D%22html_82300c8ee39e479d91877ad0c5d70cc8%22%20style%3D%22width%3A%20100.0%25%3B%20height%3A%20100.0%25%3B%22%3EVille%20%3A%20Copenhagen%3Cbr%3E%20%20%20%20%20%20%20%20%20%20%20%20%20%20%20%20%20%20%20%20%20Prix%20moyen%20d%27un%20vol%20en%20%24%20%3A%2090%3Cbr%3E%3C/div%3E%60%29%5B0%5D%3B%0A%20%20%20%20%20%20%20%20%20%20%20%20popup_24262606560947ca8e9d236f457c79d9.setContent%28html_82300c8ee39e479d91877ad0c5d70cc8%29%3B%0A%20%20%20%20%20%20%20%20%0A%0A%20%20%20%20%20%20%20%20circle_marker_0dea4a55608b4d17bfcbc5764be2daf2.bindPopup%28popup_24262606560947ca8e9d236f457c79d9%29%0A%20%20%20%20%20%20%20%20%3B%0A%0A%20%20%20%20%20%20%20%20%0A%20%20%20%20%0A%20%20%20%20%0A%20%20%20%20%20%20%20%20%20%20%20%20var%20circle_marker_b1243f50296f4b72840bb3a42d6ff9cb%20%3D%20L.circleMarker%28%0A%20%20%20%20%20%20%20%20%20%20%20%20%20%20%20%20%5B52.30736127010797%2C%204.767146455078091%5D%2C%0A%20%20%20%20%20%20%20%20%20%20%20%20%20%20%20%20%7B%22bubblingMouseEvents%22%3A%20true%2C%20%22color%22%3A%20%22green%22%2C%20%22dashArray%22%3A%20null%2C%20%22dashOffset%22%3A%20null%2C%20%22fill%22%3A%20true%2C%20%22fillColor%22%3A%20%22green%22%2C%20%22fillOpacity%22%3A%200.2%2C%20%22fillRule%22%3A%20%22evenodd%22%2C%20%22lineCap%22%3A%20%22round%22%2C%20%22lineJoin%22%3A%20%22round%22%2C%20%22opacity%22%3A%201.0%2C%20%22radius%22%3A%2010%2C%20%22stroke%22%3A%20true%2C%20%22weight%22%3A%203%7D%0A%20%20%20%20%20%20%20%20%20%20%20%20%29.addTo%28map_488442466ca04305bc30478c4ee59e17%29%3B%0A%20%20%20%20%20%20%20%20%0A%20%20%20%20%0A%20%20%20%20%20%20%20%20var%20popup_437e508872db4fd4b5b09f4899c48138%20%3D%20L.popup%28%7B%22maxWidth%22%3A%20%22100%25%22%7D%29%3B%0A%0A%20%20%20%20%20%20%20%20%0A%20%20%20%20%20%20%20%20%20%20%20%20var%20html_78db3e1ea2c04ee086f8629729f39ac9%20%3D%20%24%28%60%3Cdiv%20id%3D%22html_78db3e1ea2c04ee086f8629729f39ac9%22%20style%3D%22width%3A%20100.0%25%3B%20height%3A%20100.0%25%3B%22%3EVille%20%3A%20Amsterdam%3Cbr%3E%20%20%20%20%20%20%20%20%20%20%20%20%20%20%20%20%20%20%20%20%20Prix%20moyen%20d%27un%20vol%20en%20%24%20%3A%2096%3Cbr%3E%3C/div%3E%60%29%5B0%5D%3B%0A%20%20%20%20%20%20%20%20%20%20%20%20popup_437e508872db4fd4b5b09f4899c48138.setContent%28html_78db3e1ea2c04ee086f8629729f39ac9%29%3B%0A%20%20%20%20%20%20%20%20%0A%0A%20%20%20%20%20%20%20%20circle_marker_b1243f50296f4b72840bb3a42d6ff9cb.bindPopup%28popup_437e508872db4fd4b5b09f4899c48138%29%0A%20%20%20%20%20%20%20%20%3B%0A%0A%20%20%20%20%20%20%20%20%0A%20%20%20%20%0A%20%20%20%20%0A%20%20%20%20%20%20%20%20%20%20%20%20var%20circle_marker_81f4d83eab1b431fa94e7fa37d738745%20%3D%20L.circleMarker%28%0A%20%20%20%20%20%20%20%20%20%20%20%20%20%20%20%20%5B37.93636%2C%2023.944470000000003%5D%2C%0A%20%20%20%20%20%20%20%20%20%20%20%20%20%20%20%20%7B%22bubblingMouseEvents%22%3A%20true%2C%20%22color%22%3A%20%22green%22%2C%20%22dashArray%22%3A%20null%2C%20%22dashOffset%22%3A%20null%2C%20%22fill%22%3A%20true%2C%20%22fillColor%22%3A%20%22green%22%2C%20%22fillOpacity%22%3A%200.2%2C%20%22fillRule%22%3A%20%22evenodd%22%2C%20%22lineCap%22%3A%20%22round%22%2C%20%22lineJoin%22%3A%20%22round%22%2C%20%22opacity%22%3A%201.0%2C%20%22radius%22%3A%2010%2C%20%22stroke%22%3A%20true%2C%20%22weight%22%3A%203%7D%0A%20%20%20%20%20%20%20%20%20%20%20%20%29.addTo%28map_488442466ca04305bc30478c4ee59e17%29%3B%0A%20%20%20%20%20%20%20%20%0A%20%20%20%20%0A%20%20%20%20%20%20%20%20var%20popup_e004cac56f9c4bac953324b08f001dbb%20%3D%20L.popup%28%7B%22maxWidth%22%3A%20%22100%25%22%7D%29%3B%0A%0A%20%20%20%20%20%20%20%20%0A%20%20%20%20%20%20%20%20%20%20%20%20var%20html_8a63827b39a841d6931ec74b3b49b761%20%3D%20%24%28%60%3Cdiv%20id%3D%22html_8a63827b39a841d6931ec74b3b49b761%22%20style%3D%22width%3A%20100.0%25%3B%20height%3A%20100.0%25%3B%22%3EVille%20%3A%20Athens%3Cbr%3E%20%20%20%20%20%20%20%20%20%20%20%20%20%20%20%20%20%20%20%20%20Prix%20moyen%20d%27un%20vol%20en%20%24%20%3A%20112%3Cbr%3E%3C/div%3E%60%29%5B0%5D%3B%0A%20%20%20%20%20%20%20%20%20%20%20%20popup_e004cac56f9c4bac953324b08f001dbb.setContent%28html_8a63827b39a841d6931ec74b3b49b761%29%3B%0A%20%20%20%20%20%20%20%20%0A%0A%20%20%20%20%20%20%20%20circle_marker_81f4d83eab1b431fa94e7fa37d738745.bindPopup%28popup_e004cac56f9c4bac953324b08f001dbb%29%0A%20%20%20%20%20%20%20%20%3B%0A%0A%20%20%20%20%20%20%20%20%0A%20%20%20%20%0A%20%20%20%20%0A%20%20%20%20%20%20%20%20%20%20%20%20var%20circle_marker_d0d9e36184434ffb9eb0e28c7fe821e8%20%3D%20L.circleMarker%28%0A%20%20%20%20%20%20%20%20%20%20%20%20%20%20%20%20%5B60.19392%2C%2011.10036%5D%2C%0A%20%20%20%20%20%20%20%20%20%20%20%20%20%20%20%20%7B%22bubblingMouseEvents%22%3A%20true%2C%20%22color%22%3A%20%22green%22%2C%20%22dashArray%22%3A%20null%2C%20%22dashOffset%22%3A%20null%2C%20%22fill%22%3A%20true%2C%20%22fillColor%22%3A%20%22green%22%2C%20%22fillOpacity%22%3A%200.2%2C%20%22fillRule%22%3A%20%22evenodd%22%2C%20%22lineCap%22%3A%20%22round%22%2C%20%22lineJoin%22%3A%20%22round%22%2C%20%22opacity%22%3A%201.0%2C%20%22radius%22%3A%2010%2C%20%22stroke%22%3A%20true%2C%20%22weight%22%3A%203%7D%0A%20%20%20%20%20%20%20%20%20%20%20%20%29.addTo%28map_488442466ca04305bc30478c4ee59e17%29%3B%0A%20%20%20%20%20%20%20%20%0A%20%20%20%20%0A%20%20%20%20%20%20%20%20var%20popup_55bab9bb3b8641d9aa7782c50a7055d1%20%3D%20L.popup%28%7B%22maxWidth%22%3A%20%22100%25%22%7D%29%3B%0A%0A%20%20%20%20%20%20%20%20%0A%20%20%20%20%20%20%20%20%20%20%20%20var%20html_c8dca37c4e2e43a8b6f7cf4d70836255%20%3D%20%24%28%60%3Cdiv%20id%3D%22html_c8dca37c4e2e43a8b6f7cf4d70836255%22%20style%3D%22width%3A%20100.0%25%3B%20height%3A%20100.0%25%3B%22%3EVille%20%3A%20Oslo%3Cbr%3E%20%20%20%20%20%20%20%20%20%20%20%20%20%20%20%20%20%20%20%20%20Prix%20moyen%20d%27un%20vol%20en%20%24%20%3A%20112%3Cbr%3E%3C/div%3E%60%29%5B0%5D%3B%0A%20%20%20%20%20%20%20%20%20%20%20%20popup_55bab9bb3b8641d9aa7782c50a7055d1.setContent%28html_c8dca37c4e2e43a8b6f7cf4d70836255%29%3B%0A%20%20%20%20%20%20%20%20%0A%0A%20%20%20%20%20%20%20%20circle_marker_d0d9e36184434ffb9eb0e28c7fe821e8.bindPopup%28popup_55bab9bb3b8641d9aa7782c50a7055d1%29%0A%20%20%20%20%20%20%20%20%3B%0A%0A%20%20%20%20%20%20%20%20%0A%20%20%20%20%0A%20%20%20%20%0A%20%20%20%20%20%20%20%20%20%20%20%20var%20circle_marker_05371a9f7ff14e4797b7236a50eb7a10%20%3D%20L.circleMarker%28%0A%20%20%20%20%20%20%20%20%20%20%20%20%20%20%20%20%5B60.31721999999999%2C%2024.96333%5D%2C%0A%20%20%20%20%20%20%20%20%20%20%20%20%20%20%20%20%7B%22bubblingMouseEvents%22%3A%20true%2C%20%22color%22%3A%20%22green%22%2C%20%22dashArray%22%3A%20null%2C%20%22dashOffset%22%3A%20null%2C%20%22fill%22%3A%20true%2C%20%22fillColor%22%3A%20%22green%22%2C%20%22fillOpacity%22%3A%200.2%2C%20%22fillRule%22%3A%20%22evenodd%22%2C%20%22lineCap%22%3A%20%22round%22%2C%20%22lineJoin%22%3A%20%22round%22%2C%20%22opacity%22%3A%201.0%2C%20%22radius%22%3A%2010%2C%20%22stroke%22%3A%20true%2C%20%22weight%22%3A%203%7D%0A%20%20%20%20%20%20%20%20%20%20%20%20%29.addTo%28map_488442466ca04305bc30478c4ee59e17%29%3B%0A%20%20%20%20%20%20%20%20%0A%20%20%20%20%0A%20%20%20%20%20%20%20%20var%20popup_6ca1158d9fba42dab9eff3ffe7d71ceb%20%3D%20L.popup%28%7B%22maxWidth%22%3A%20%22100%25%22%7D%29%3B%0A%0A%20%20%20%20%20%20%20%20%0A%20%20%20%20%20%20%20%20%20%20%20%20var%20html_1e811b38118d4965ba554418162ed40e%20%3D%20%24%28%60%3Cdiv%20id%3D%22html_1e811b38118d4965ba554418162ed40e%22%20style%3D%22width%3A%20100.0%25%3B%20height%3A%20100.0%25%3B%22%3EVille%20%3A%20Helsinki%3Cbr%3E%20%20%20%20%20%20%20%20%20%20%20%20%20%20%20%20%20%20%20%20%20Prix%20moyen%20d%27un%20vol%20en%20%24%20%3A%20134%3Cbr%3E%3C/div%3E%60%29%5B0%5D%3B%0A%20%20%20%20%20%20%20%20%20%20%20%20popup_6ca1158d9fba42dab9eff3ffe7d71ceb.setContent%28html_1e811b38118d4965ba554418162ed40e%29%3B%0A%20%20%20%20%20%20%20%20%0A%0A%20%20%20%20%20%20%20%20circle_marker_05371a9f7ff14e4797b7236a50eb7a10.bindPopup%28popup_6ca1158d9fba42dab9eff3ffe7d71ceb%29%0A%20%20%20%20%20%20%20%20%3B%0A%0A%20%20%20%20%20%20%20%20%0A%20%20%20%20%0A%20%20%20%20%0A%20%20%20%20%20%20%20%20%20%20%20%20var%20circle_marker_786563a29bef460db73edac54f64b755%20%3D%20L.circleMarker%28%0A%20%20%20%20%20%20%20%20%20%20%20%20%20%20%20%20%5B36.85103%2C%2010.22722%5D%2C%0A%20%20%20%20%20%20%20%20%20%20%20%20%20%20%20%20%7B%22bubblingMouseEvents%22%3A%20true%2C%20%22color%22%3A%20%22green%22%2C%20%22dashArray%22%3A%20null%2C%20%22dashOffset%22%3A%20null%2C%20%22fill%22%3A%20true%2C%20%22fillColor%22%3A%20%22green%22%2C%20%22fillOpacity%22%3A%200.2%2C%20%22fillRule%22%3A%20%22evenodd%22%2C%20%22lineCap%22%3A%20%22round%22%2C%20%22lineJoin%22%3A%20%22round%22%2C%20%22opacity%22%3A%201.0%2C%20%22radius%22%3A%2010%2C%20%22stroke%22%3A%20true%2C%20%22weight%22%3A%203%7D%0A%20%20%20%20%20%20%20%20%20%20%20%20%29.addTo%28map_488442466ca04305bc30478c4ee59e17%29%3B%0A%20%20%20%20%20%20%20%20%0A%20%20%20%20%0A%20%20%20%20%20%20%20%20var%20popup_70af3a7a15de4f58884c57e18dee6494%20%3D%20L.popup%28%7B%22maxWidth%22%3A%20%22100%25%22%7D%29%3B%0A%0A%20%20%20%20%20%20%20%20%0A%20%20%20%20%20%20%20%20%20%20%20%20var%20html_47299258fe924b9da793d5557173e7f7%20%3D%20%24%28%60%3Cdiv%20id%3D%22html_47299258fe924b9da793d5557173e7f7%22%20style%3D%22width%3A%20100.0%25%3B%20height%3A%20100.0%25%3B%22%3EVille%20%3A%20Tunis%3Cbr%3E%20%20%20%20%20%20%20%20%20%20%20%20%20%20%20%20%20%20%20%20%20Prix%20moyen%20d%27un%20vol%20en%20%24%20%3A%20148%3Cbr%3E%3C/div%3E%60%29%5B0%5D%3B%0A%20%20%20%20%20%20%20%20%20%20%20%20popup_70af3a7a15de4f58884c57e18dee6494.setContent%28html_47299258fe924b9da793d5557173e7f7%29%3B%0A%20%20%20%20%20%20%20%20%0A%0A%20%20%20%20%20%20%20%20circle_marker_786563a29bef460db73edac54f64b755.bindPopup%28popup_70af3a7a15de4f58884c57e18dee6494%29%0A%20%20%20%20%20%20%20%20%3B%0A%0A%20%20%20%20%20%20%20%20%0A%20%20%20%20%0A%20%20%20%20%0A%20%20%20%20%20%20%20%20%20%20%20%20var%20circle_marker_daf65591b7eb4ce699f51bdd73d3d205%20%3D%20L.circleMarker%28%0A%20%20%20%20%20%20%20%20%20%20%20%20%20%20%20%20%5B38.41885%2C%2027.12872%5D%2C%0A%20%20%20%20%20%20%20%20%20%20%20%20%20%20%20%20%7B%22bubblingMouseEvents%22%3A%20true%2C%20%22color%22%3A%20%22green%22%2C%20%22dashArray%22%3A%20null%2C%20%22dashOffset%22%3A%20null%2C%20%22fill%22%3A%20true%2C%20%22fillColor%22%3A%20%22green%22%2C%20%22fillOpacity%22%3A%200.2%2C%20%22fillRule%22%3A%20%22evenodd%22%2C%20%22lineCap%22%3A%20%22round%22%2C%20%22lineJoin%22%3A%20%22round%22%2C%20%22opacity%22%3A%201.0%2C%20%22radius%22%3A%2010%2C%20%22stroke%22%3A%20true%2C%20%22weight%22%3A%203%7D%0A%20%20%20%20%20%20%20%20%20%20%20%20%29.addTo%28map_488442466ca04305bc30478c4ee59e17%29%3B%0A%20%20%20%20%20%20%20%20%0A%20%20%20%20%0A%20%20%20%20%20%20%20%20var%20popup_0ce2bc02e4374524b1ac4869ddd1ceb7%20%3D%20L.popup%28%7B%22maxWidth%22%3A%20%22100%25%22%7D%29%3B%0A%0A%20%20%20%20%20%20%20%20%0A%20%20%20%20%20%20%20%20%20%20%20%20var%20html_9a5cd297ef6e412da1aacc8b6a8d9ec3%20%3D%20%24%28%60%3Cdiv%20id%3D%22html_9a5cd297ef6e412da1aacc8b6a8d9ec3%22%20style%3D%22width%3A%20100.0%25%3B%20height%3A%20100.0%25%3B%22%3EVille%20%3A%20Izmir%3Cbr%3E%20%20%20%20%20%20%20%20%20%20%20%20%20%20%20%20%20%20%20%20%20Prix%20moyen%20d%27un%20vol%20en%20%24%20%3A%20151%3Cbr%3E%3C/div%3E%60%29%5B0%5D%3B%0A%20%20%20%20%20%20%20%20%20%20%20%20popup_0ce2bc02e4374524b1ac4869ddd1ceb7.setContent%28html_9a5cd297ef6e412da1aacc8b6a8d9ec3%29%3B%0A%20%20%20%20%20%20%20%20%0A%0A%20%20%20%20%20%20%20%20circle_marker_daf65591b7eb4ce699f51bdd73d3d205.bindPopup%28popup_0ce2bc02e4374524b1ac4869ddd1ceb7%29%0A%20%20%20%20%20%20%20%20%3B%0A%0A%20%20%20%20%20%20%20%20%0A%20%20%20%20%0A%20%20%20%20%0A%20%20%20%20%20%20%20%20%20%20%20%20var%20circle_marker_2862e76645c84ff3b9de3dd666d0076f%20%3D%20L.circleMarker%28%0A%20%20%20%20%20%20%20%20%20%20%20%20%20%20%20%20%5B51.50735%2C%20-0.12766%5D%2C%0A%20%20%20%20%20%20%20%20%20%20%20%20%20%20%20%20%7B%22bubblingMouseEvents%22%3A%20true%2C%20%22color%22%3A%20%22green%22%2C%20%22dashArray%22%3A%20null%2C%20%22dashOffset%22%3A%20null%2C%20%22fill%22%3A%20true%2C%20%22fillColor%22%3A%20%22green%22%2C%20%22fillOpacity%22%3A%200.2%2C%20%22fillRule%22%3A%20%22evenodd%22%2C%20%22lineCap%22%3A%20%22round%22%2C%20%22lineJoin%22%3A%20%22round%22%2C%20%22opacity%22%3A%201.0%2C%20%22radius%22%3A%2010%2C%20%22stroke%22%3A%20true%2C%20%22weight%22%3A%203%7D%0A%20%20%20%20%20%20%20%20%20%20%20%20%29.addTo%28map_488442466ca04305bc30478c4ee59e17%29%3B%0A%20%20%20%20%20%20%20%20%0A%20%20%20%20%0A%20%20%20%20%20%20%20%20var%20popup_d4220203c20c488c917f6531230d2b6f%20%3D%20L.popup%28%7B%22maxWidth%22%3A%20%22100%25%22%7D%29%3B%0A%0A%20%20%20%20%20%20%20%20%0A%20%20%20%20%20%20%20%20%20%20%20%20var%20html_a681aa919d8f498087e1e8bf7cc6e8b3%20%3D%20%24%28%60%3Cdiv%20id%3D%22html_a681aa919d8f498087e1e8bf7cc6e8b3%22%20style%3D%22width%3A%20100.0%25%3B%20height%3A%20100.0%25%3B%22%3EVille%20%3A%20London%3Cbr%3E%20%20%20%20%20%20%20%20%20%20%20%20%20%20%20%20%20%20%20%20%20Prix%20moyen%20d%27un%20vol%20en%20%24%20%3A%20152%3Cbr%3E%3C/div%3E%60%29%5B0%5D%3B%0A%20%20%20%20%20%20%20%20%20%20%20%20popup_d4220203c20c488c917f6531230d2b6f.setContent%28html_a681aa919d8f498087e1e8bf7cc6e8b3%29%3B%0A%20%20%20%20%20%20%20%20%0A%0A%20%20%20%20%20%20%20%20circle_marker_2862e76645c84ff3b9de3dd666d0076f.bindPopup%28popup_d4220203c20c488c917f6531230d2b6f%29%0A%20%20%20%20%20%20%20%20%3B%0A%0A%20%20%20%20%20%20%20%20%0A%20%20%20%20%0A%20%20%20%20%0A%20%20%20%20%20%20%20%20%20%20%20%20var%20circle_marker_36ae5efc9fff47978171d5574d6e85e9%20%3D%20L.circleMarker%28%0A%20%20%20%20%20%20%20%20%20%20%20%20%20%20%20%20%5B36.89873%2C%2030.80046%5D%2C%0A%20%20%20%20%20%20%20%20%20%20%20%20%20%20%20%20%7B%22bubblingMouseEvents%22%3A%20true%2C%20%22color%22%3A%20%22green%22%2C%20%22dashArray%22%3A%20null%2C%20%22dashOffset%22%3A%20null%2C%20%22fill%22%3A%20true%2C%20%22fillColor%22%3A%20%22green%22%2C%20%22fillOpacity%22%3A%200.2%2C%20%22fillRule%22%3A%20%22evenodd%22%2C%20%22lineCap%22%3A%20%22round%22%2C%20%22lineJoin%22%3A%20%22round%22%2C%20%22opacity%22%3A%201.0%2C%20%22radius%22%3A%2010%2C%20%22stroke%22%3A%20true%2C%20%22weight%22%3A%203%7D%0A%20%20%20%20%20%20%20%20%20%20%20%20%29.addTo%28map_488442466ca04305bc30478c4ee59e17%29%3B%0A%20%20%20%20%20%20%20%20%0A%20%20%20%20%0A%20%20%20%20%20%20%20%20var%20popup_01146176a0ec4d4c9d4439ccdb37dc63%20%3D%20L.popup%28%7B%22maxWidth%22%3A%20%22100%25%22%7D%29%3B%0A%0A%20%20%20%20%20%20%20%20%0A%20%20%20%20%20%20%20%20%20%20%20%20var%20html_f1fcd1326b0b4a3c883fb3f70b3c8e93%20%3D%20%24%28%60%3Cdiv%20id%3D%22html_f1fcd1326b0b4a3c883fb3f70b3c8e93%22%20style%3D%22width%3A%20100.0%25%3B%20height%3A%20100.0%25%3B%22%3EVille%20%3A%20Antalya%3Cbr%3E%20%20%20%20%20%20%20%20%20%20%20%20%20%20%20%20%20%20%20%20%20Prix%20moyen%20d%27un%20vol%20en%20%24%20%3A%20196%3Cbr%3E%3C/div%3E%60%29%5B0%5D%3B%0A%20%20%20%20%20%20%20%20%20%20%20%20popup_01146176a0ec4d4c9d4439ccdb37dc63.setContent%28html_f1fcd1326b0b4a3c883fb3f70b3c8e93%29%3B%0A%20%20%20%20%20%20%20%20%0A%0A%20%20%20%20%20%20%20%20circle_marker_36ae5efc9fff47978171d5574d6e85e9.bindPopup%28popup_01146176a0ec4d4c9d4439ccdb37dc63%29%0A%20%20%20%20%20%20%20%20%3B%0A%0A%20%20%20%20%20%20%20%20%0A%20%20%20%20%0A%20%20%20%20%0A%20%20%20%20%20%20%20%20%20%20%20%20var%20circle_marker_712badbb0bd14c7ba92189691560578d%20%3D%20L.circleMarker%28%0A%20%20%20%20%20%20%20%20%20%20%20%20%20%20%20%20%5B30.325%2C%20-9.41307%5D%2C%0A%20%20%20%20%20%20%20%20%20%20%20%20%20%20%20%20%7B%22bubblingMouseEvents%22%3A%20true%2C%20%22color%22%3A%20%22green%22%2C%20%22dashArray%22%3A%20null%2C%20%22dashOffset%22%3A%20null%2C%20%22fill%22%3A%20true%2C%20%22fillColor%22%3A%20%22green%22%2C%20%22fillOpacity%22%3A%200.2%2C%20%22fillRule%22%3A%20%22evenodd%22%2C%20%22lineCap%22%3A%20%22round%22%2C%20%22lineJoin%22%3A%20%22round%22%2C%20%22opacity%22%3A%201.0%2C%20%22radius%22%3A%2010%2C%20%22stroke%22%3A%20true%2C%20%22weight%22%3A%203%7D%0A%20%20%20%20%20%20%20%20%20%20%20%20%29.addTo%28map_488442466ca04305bc30478c4ee59e17%29%3B%0A%20%20%20%20%20%20%20%20%0A%20%20%20%20%0A%20%20%20%20%20%20%20%20var%20popup_8a6bb7ea3a60417e9b57d2e9a1372112%20%3D%20L.popup%28%7B%22maxWidth%22%3A%20%22100%25%22%7D%29%3B%0A%0A%20%20%20%20%20%20%20%20%0A%20%20%20%20%20%20%20%20%20%20%20%20var%20html_eb677582b73f418ab46f05aa531bd64e%20%3D%20%24%28%60%3Cdiv%20id%3D%22html_eb677582b73f418ab46f05aa531bd64e%22%20style%3D%22width%3A%20100.0%25%3B%20height%3A%20100.0%25%3B%22%3EVille%20%3A%20Agadir%3Cbr%3E%20%20%20%20%20%20%20%20%20%20%20%20%20%20%20%20%20%20%20%20%20Prix%20moyen%20d%27un%20vol%20en%20%24%20%3A%20198%3Cbr%3E%3C/div%3E%60%29%5B0%5D%3B%0A%20%20%20%20%20%20%20%20%20%20%20%20popup_8a6bb7ea3a60417e9b57d2e9a1372112.setContent%28html_eb677582b73f418ab46f05aa531bd64e%29%3B%0A%20%20%20%20%20%20%20%20%0A%0A%20%20%20%20%20%20%20%20circle_marker_712badbb0bd14c7ba92189691560578d.bindPopup%28popup_8a6bb7ea3a60417e9b57d2e9a1372112%29%0A%20%20%20%20%20%20%20%20%3B%0A%0A%20%20%20%20%20%20%20%20%0A%20%20%20%20%0A%20%20%20%20%0A%20%20%20%20%20%20%20%20%20%20%20%20var%20circle_marker_1cf0c99009024a4fa2aadafd41807acc%20%3D%20L.circleMarker%28%0A%20%20%20%20%20%20%20%20%20%20%20%20%20%20%20%20%5B41.90278%2C%2012.49637%5D%2C%0A%20%20%20%20%20%20%20%20%20%20%20%20%20%20%20%20%7B%22bubblingMouseEvents%22%3A%20true%2C%20%22color%22%3A%20%22green%22%2C%20%22dashArray%22%3A%20null%2C%20%22dashOffset%22%3A%20null%2C%20%22fill%22%3A%20true%2C%20%22fillColor%22%3A%20%22green%22%2C%20%22fillOpacity%22%3A%200.2%2C%20%22fillRule%22%3A%20%22evenodd%22%2C%20%22lineCap%22%3A%20%22round%22%2C%20%22lineJoin%22%3A%20%22round%22%2C%20%22opacity%22%3A%201.0%2C%20%22radius%22%3A%2010%2C%20%22stroke%22%3A%20true%2C%20%22weight%22%3A%203%7D%0A%20%20%20%20%20%20%20%20%20%20%20%20%29.addTo%28map_488442466ca04305bc30478c4ee59e17%29%3B%0A%20%20%20%20%20%20%20%20%0A%20%20%20%20%0A%20%20%20%20%20%20%20%20var%20popup_0e7395e9bd3748669d974be049a1b85f%20%3D%20L.popup%28%7B%22maxWidth%22%3A%20%22100%25%22%7D%29%3B%0A%0A%20%20%20%20%20%20%20%20%0A%20%20%20%20%20%20%20%20%20%20%20%20var%20html_03c7b61892e34600a708e75f50e92014%20%3D%20%24%28%60%3Cdiv%20id%3D%22html_03c7b61892e34600a708e75f50e92014%22%20style%3D%22width%3A%20100.0%25%3B%20height%3A%20100.0%25%3B%22%3EVille%20%3A%20Rome%3Cbr%3E%20%20%20%20%20%20%20%20%20%20%20%20%20%20%20%20%20%20%20%20%20Prix%20moyen%20d%27un%20vol%20en%20%24%20%3A%20245%3Cbr%3E%3C/div%3E%60%29%5B0%5D%3B%0A%20%20%20%20%20%20%20%20%20%20%20%20popup_0e7395e9bd3748669d974be049a1b85f.setContent%28html_03c7b61892e34600a708e75f50e92014%29%3B%0A%20%20%20%20%20%20%20%20%0A%0A%20%20%20%20%20%20%20%20circle_marker_1cf0c99009024a4fa2aadafd41807acc.bindPopup%28popup_0e7395e9bd3748669d974be049a1b85f%29%0A%20%20%20%20%20%20%20%20%3B%0A%0A%20%20%20%20%20%20%20%20%0A%20%20%20%20%0A%20%20%20%20%0A%20%20%20%20%20%20%20%20%20%20%20%20var%20circle_marker_83523a553d874ddeb4a3d2e25fbe2f49%20%3D%20L.circleMarker%28%0A%20%20%20%20%20%20%20%20%20%20%20%20%20%20%20%20%5B33.367470000000004%2C%20-7.58997%5D%2C%0A%20%20%20%20%20%20%20%20%20%20%20%20%20%20%20%20%7B%22bubblingMouseEvents%22%3A%20true%2C%20%22color%22%3A%20%22green%22%2C%20%22dashArray%22%3A%20null%2C%20%22dashOffset%22%3A%20null%2C%20%22fill%22%3A%20true%2C%20%22fillColor%22%3A%20%22green%22%2C%20%22fillOpacity%22%3A%200.2%2C%20%22fillRule%22%3A%20%22evenodd%22%2C%20%22lineCap%22%3A%20%22round%22%2C%20%22lineJoin%22%3A%20%22round%22%2C%20%22opacity%22%3A%201.0%2C%20%22radius%22%3A%2010%2C%20%22stroke%22%3A%20true%2C%20%22weight%22%3A%203%7D%0A%20%20%20%20%20%20%20%20%20%20%20%20%29.addTo%28map_488442466ca04305bc30478c4ee59e17%29%3B%0A%20%20%20%20%20%20%20%20%0A%20%20%20%20%0A%20%20%20%20%20%20%20%20var%20popup_3d672f2b9f684170ac91765b83351980%20%3D%20L.popup%28%7B%22maxWidth%22%3A%20%22100%25%22%7D%29%3B%0A%0A%20%20%20%20%20%20%20%20%0A%20%20%20%20%20%20%20%20%20%20%20%20var%20html_3cd033b8b8ed4bc4b67caa5dfdc0a01b%20%3D%20%24%28%60%3Cdiv%20id%3D%22html_3cd033b8b8ed4bc4b67caa5dfdc0a01b%22%20style%3D%22width%3A%20100.0%25%3B%20height%3A%20100.0%25%3B%22%3EVille%20%3A%20Casablanca%3Cbr%3E%20%20%20%20%20%20%20%20%20%20%20%20%20%20%20%20%20%20%20%20%20Prix%20moyen%20d%27un%20vol%20en%20%24%20%3A%20246%3Cbr%3E%3C/div%3E%60%29%5B0%5D%3B%0A%20%20%20%20%20%20%20%20%20%20%20%20popup_3d672f2b9f684170ac91765b83351980.setContent%28html_3cd033b8b8ed4bc4b67caa5dfdc0a01b%29%3B%0A%20%20%20%20%20%20%20%20%0A%0A%20%20%20%20%20%20%20%20circle_marker_83523a553d874ddeb4a3d2e25fbe2f49.bindPopup%28popup_3d672f2b9f684170ac91765b83351980%29%0A%20%20%20%20%20%20%20%20%3B%0A%0A%20%20%20%20%20%20%20%20%0A%20%20%20%20%0A%20%20%20%20%0A%20%20%20%20%20%20%20%20%20%20%20%20var%20circle_marker_98ee0c7c993e435783bfe563e3728c26%20%3D%20L.circleMarker%28%0A%20%20%20%20%20%20%20%20%20%20%20%20%20%20%20%20%5B30.119564289709718%2C%2031.41070984130863%5D%2C%0A%20%20%20%20%20%20%20%20%20%20%20%20%20%20%20%20%7B%22bubblingMouseEvents%22%3A%20true%2C%20%22color%22%3A%20%22yellow%22%2C%20%22dashArray%22%3A%20null%2C%20%22dashOffset%22%3A%20null%2C%20%22fill%22%3A%20true%2C%20%22fillColor%22%3A%20%22yellow%22%2C%20%22fillOpacity%22%3A%200.2%2C%20%22fillRule%22%3A%20%22evenodd%22%2C%20%22lineCap%22%3A%20%22round%22%2C%20%22lineJoin%22%3A%20%22round%22%2C%20%22opacity%22%3A%201.0%2C%20%22radius%22%3A%2010%2C%20%22stroke%22%3A%20true%2C%20%22weight%22%3A%203%7D%0A%20%20%20%20%20%20%20%20%20%20%20%20%29.addTo%28map_488442466ca04305bc30478c4ee59e17%29%3B%0A%20%20%20%20%20%20%20%20%0A%20%20%20%20%0A%20%20%20%20%20%20%20%20var%20popup_f8e41f3c0f144023bdc1ac0e9f8a7627%20%3D%20L.popup%28%7B%22maxWidth%22%3A%20%22100%25%22%7D%29%3B%0A%0A%20%20%20%20%20%20%20%20%0A%20%20%20%20%20%20%20%20%20%20%20%20var%20html_fbc313793aa74b099f8f540e426f4712%20%3D%20%24%28%60%3Cdiv%20id%3D%22html_fbc313793aa74b099f8f540e426f4712%22%20style%3D%22width%3A%20100.0%25%3B%20height%3A%20100.0%25%3B%22%3EVille%20%3A%20Cairo%3Cbr%3E%20%20%20%20%20%20%20%20%20%20%20%20%20%20%20%20%20%20%20%20%20Prix%20moyen%20d%27un%20vol%20en%20%24%20%3A%20298%3Cbr%3E%3C/div%3E%60%29%5B0%5D%3B%0A%20%20%20%20%20%20%20%20%20%20%20%20popup_f8e41f3c0f144023bdc1ac0e9f8a7627.setContent%28html_fbc313793aa74b099f8f540e426f4712%29%3B%0A%20%20%20%20%20%20%20%20%0A%0A%20%20%20%20%20%20%20%20circle_marker_98ee0c7c993e435783bfe563e3728c26.bindPopup%28popup_f8e41f3c0f144023bdc1ac0e9f8a7627%29%0A%20%20%20%20%20%20%20%20%3B%0A%0A%20%20%20%20%20%20%20%20%0A%20%20%20%20%0A%20%20%20%20%0A%20%20%20%20%20%20%20%20%20%20%20%20var%20circle_marker_edf54f15ee4d475ea0112d75812b0ebd%20%3D%20L.circleMarker%28%0A%20%20%20%20%20%20%20%20%20%20%20%20%20%20%20%20%5B55.75407%2C%2037.62037%5D%2C%0A%20%20%20%20%20%20%20%20%20%20%20%20%20%20%20%20%7B%22bubblingMouseEvents%22%3A%20true%2C%20%22color%22%3A%20%22yellow%22%2C%20%22dashArray%22%3A%20null%2C%20%22dashOffset%22%3A%20null%2C%20%22fill%22%3A%20true%2C%20%22fillColor%22%3A%20%22yellow%22%2C%20%22fillOpacity%22%3A%200.2%2C%20%22fillRule%22%3A%20%22evenodd%22%2C%20%22lineCap%22%3A%20%22round%22%2C%20%22lineJoin%22%3A%20%22round%22%2C%20%22opacity%22%3A%201.0%2C%20%22radius%22%3A%2010%2C%20%22stroke%22%3A%20true%2C%20%22weight%22%3A%203%7D%0A%20%20%20%20%20%20%20%20%20%20%20%20%29.addTo%28map_488442466ca04305bc30478c4ee59e17%29%3B%0A%20%20%20%20%20%20%20%20%0A%20%20%20%20%0A%20%20%20%20%20%20%20%20var%20popup_57d06d365a98405f92d0a76d7e01fe93%20%3D%20L.popup%28%7B%22maxWidth%22%3A%20%22100%25%22%7D%29%3B%0A%0A%20%20%20%20%20%20%20%20%0A%20%20%20%20%20%20%20%20%20%20%20%20var%20html_e73bbec4019944b9a75329d9daf6e8a8%20%3D%20%24%28%60%3Cdiv%20id%3D%22html_e73bbec4019944b9a75329d9daf6e8a8%22%20style%3D%22width%3A%20100.0%25%3B%20height%3A%20100.0%25%3B%22%3EVille%20%3A%20Moscow%3Cbr%3E%20%20%20%20%20%20%20%20%20%20%20%20%20%20%20%20%20%20%20%20%20Prix%20moyen%20d%27un%20vol%20en%20%24%20%3A%20307%3Cbr%3E%3C/div%3E%60%29%5B0%5D%3B%0A%20%20%20%20%20%20%20%20%20%20%20%20popup_57d06d365a98405f92d0a76d7e01fe93.setContent%28html_e73bbec4019944b9a75329d9daf6e8a8%29%3B%0A%20%20%20%20%20%20%20%20%0A%0A%20%20%20%20%20%20%20%20circle_marker_edf54f15ee4d475ea0112d75812b0ebd.bindPopup%28popup_57d06d365a98405f92d0a76d7e01fe93%29%0A%20%20%20%20%20%20%20%20%3B%0A%0A%20%20%20%20%20%20%20%20%0A%20%20%20%20%0A%20%20%20%20%0A%20%20%20%20%20%20%20%20%20%20%20%20var%20circle_marker_2f13f2a44f934b2689fb9fccb8daa70f%20%3D%20L.circleMarker%28%0A%20%20%20%20%20%20%20%20%20%20%20%20%20%20%20%20%5B45.5%2C%20-73.583%5D%2C%0A%20%20%20%20%20%20%20%20%20%20%20%20%20%20%20%20%7B%22bubblingMouseEvents%22%3A%20true%2C%20%22color%22%3A%20%22yellow%22%2C%20%22dashArray%22%3A%20null%2C%20%22dashOffset%22%3A%20null%2C%20%22fill%22%3A%20true%2C%20%22fillColor%22%3A%20%22yellow%22%2C%20%22fillOpacity%22%3A%200.2%2C%20%22fillRule%22%3A%20%22evenodd%22%2C%20%22lineCap%22%3A%20%22round%22%2C%20%22lineJoin%22%3A%20%22round%22%2C%20%22opacity%22%3A%201.0%2C%20%22radius%22%3A%2010%2C%20%22stroke%22%3A%20true%2C%20%22weight%22%3A%203%7D%0A%20%20%20%20%20%20%20%20%20%20%20%20%29.addTo%28map_488442466ca04305bc30478c4ee59e17%29%3B%0A%20%20%20%20%20%20%20%20%0A%20%20%20%20%0A%20%20%20%20%20%20%20%20var%20popup_73ae23b5570f4020a7347f51e36d1e37%20%3D%20L.popup%28%7B%22maxWidth%22%3A%20%22100%25%22%7D%29%3B%0A%0A%20%20%20%20%20%20%20%20%0A%20%20%20%20%20%20%20%20%20%20%20%20var%20html_fe150cbf02114fb99ac54875343f674f%20%3D%20%24%28%60%3Cdiv%20id%3D%22html_fe150cbf02114fb99ac54875343f674f%22%20style%3D%22width%3A%20100.0%25%3B%20height%3A%20100.0%25%3B%22%3EVille%20%3A%20Montreal%3Cbr%3E%20%20%20%20%20%20%20%20%20%20%20%20%20%20%20%20%20%20%20%20%20Prix%20moyen%20d%27un%20vol%20en%20%24%20%3A%20422%3Cbr%3E%3C/div%3E%60%29%5B0%5D%3B%0A%20%20%20%20%20%20%20%20%20%20%20%20popup_73ae23b5570f4020a7347f51e36d1e37.setContent%28html_fe150cbf02114fb99ac54875343f674f%29%3B%0A%20%20%20%20%20%20%20%20%0A%0A%20%20%20%20%20%20%20%20circle_marker_2f13f2a44f934b2689fb9fccb8daa70f.bindPopup%28popup_73ae23b5570f4020a7347f51e36d1e37%29%0A%20%20%20%20%20%20%20%20%3B%0A%0A%20%20%20%20%20%20%20%20%0A%20%20%20%20%0A%20%20%20%20%0A%20%20%20%20%20%20%20%20%20%20%20%20var%20circle_marker_c4957f739a0d443c8777fb943efdfb76%20%3D%20L.circleMarker%28%0A%20%20%20%20%20%20%20%20%20%20%20%20%20%20%20%20%5B24.8978%2C%2055.15905%5D%2C%0A%20%20%20%20%20%20%20%20%20%20%20%20%20%20%20%20%7B%22bubblingMouseEvents%22%3A%20true%2C%20%22color%22%3A%20%22yellow%22%2C%20%22dashArray%22%3A%20null%2C%20%22dashOffset%22%3A%20null%2C%20%22fill%22%3A%20true%2C%20%22fillColor%22%3A%20%22yellow%22%2C%20%22fillOpacity%22%3A%200.2%2C%20%22fillRule%22%3A%20%22evenodd%22%2C%20%22lineCap%22%3A%20%22round%22%2C%20%22lineJoin%22%3A%20%22round%22%2C%20%22opacity%22%3A%201.0%2C%20%22radius%22%3A%2010%2C%20%22stroke%22%3A%20true%2C%20%22weight%22%3A%203%7D%0A%20%20%20%20%20%20%20%20%20%20%20%20%29.addTo%28map_488442466ca04305bc30478c4ee59e17%29%3B%0A%20%20%20%20%20%20%20%20%0A%20%20%20%20%0A%20%20%20%20%20%20%20%20var%20popup_d8409e02103946288aea4617d39d78ac%20%3D%20L.popup%28%7B%22maxWidth%22%3A%20%22100%25%22%7D%29%3B%0A%0A%20%20%20%20%20%20%20%20%0A%20%20%20%20%20%20%20%20%20%20%20%20var%20html_c81e1f6ee8e34ae78f90d5f9e26022dc%20%3D%20%24%28%60%3Cdiv%20id%3D%22html_c81e1f6ee8e34ae78f90d5f9e26022dc%22%20style%3D%22width%3A%20100.0%25%3B%20height%3A%20100.0%25%3B%22%3EVille%20%3A%20Dubai%3Cbr%3E%20%20%20%20%20%20%20%20%20%20%20%20%20%20%20%20%20%20%20%20%20Prix%20moyen%20d%27un%20vol%20en%20%24%20%3A%20442%3Cbr%3E%3C/div%3E%60%29%5B0%5D%3B%0A%20%20%20%20%20%20%20%20%20%20%20%20popup_d8409e02103946288aea4617d39d78ac.setContent%28html_c81e1f6ee8e34ae78f90d5f9e26022dc%29%3B%0A%20%20%20%20%20%20%20%20%0A%0A%20%20%20%20%20%20%20%20circle_marker_c4957f739a0d443c8777fb943efdfb76.bindPopup%28popup_d8409e02103946288aea4617d39d78ac%29%0A%20%20%20%20%20%20%20%20%3B%0A%0A%20%20%20%20%20%20%20%20%0A%20%20%20%20%0A%20%20%20%20%0A%20%20%20%20%20%20%20%20%20%20%20%20var%20circle_marker_7b52bb3b96494d0c86a7bf9b839a7197%20%3D%20L.circleMarker%28%0A%20%20%20%20%20%20%20%20%20%20%20%20%20%20%20%20%5B41.97959%2C%20-87.90446%5D%2C%0A%20%20%20%20%20%20%20%20%20%20%20%20%20%20%20%20%7B%22bubblingMouseEvents%22%3A%20true%2C%20%22color%22%3A%20%22yellow%22%2C%20%22dashArray%22%3A%20null%2C%20%22dashOffset%22%3A%20null%2C%20%22fill%22%3A%20true%2C%20%22fillColor%22%3A%20%22yellow%22%2C%20%22fillOpacity%22%3A%200.2%2C%20%22fillRule%22%3A%20%22evenodd%22%2C%20%22lineCap%22%3A%20%22round%22%2C%20%22lineJoin%22%3A%20%22round%22%2C%20%22opacity%22%3A%201.0%2C%20%22radius%22%3A%2010%2C%20%22stroke%22%3A%20true%2C%20%22weight%22%3A%203%7D%0A%20%20%20%20%20%20%20%20%20%20%20%20%29.addTo%28map_488442466ca04305bc30478c4ee59e17%29%3B%0A%20%20%20%20%20%20%20%20%0A%20%20%20%20%0A%20%20%20%20%20%20%20%20var%20popup_994f6c7ae9674f7b8fcd98da0df0136f%20%3D%20L.popup%28%7B%22maxWidth%22%3A%20%22100%25%22%7D%29%3B%0A%0A%20%20%20%20%20%20%20%20%0A%20%20%20%20%20%20%20%20%20%20%20%20var%20html_4e25ce6533ff4d50933735fb93d8edd9%20%3D%20%24%28%60%3Cdiv%20id%3D%22html_4e25ce6533ff4d50933735fb93d8edd9%22%20style%3D%22width%3A%20100.0%25%3B%20height%3A%20100.0%25%3B%22%3EVille%20%3A%20Chicago%3Cbr%3E%20%20%20%20%20%20%20%20%20%20%20%20%20%20%20%20%20%20%20%20%20Prix%20moyen%20d%27un%20vol%20en%20%24%20%3A%20511%3Cbr%3E%3C/div%3E%60%29%5B0%5D%3B%0A%20%20%20%20%20%20%20%20%20%20%20%20popup_994f6c7ae9674f7b8fcd98da0df0136f.setContent%28html_4e25ce6533ff4d50933735fb93d8edd9%29%3B%0A%20%20%20%20%20%20%20%20%0A%0A%20%20%20%20%20%20%20%20circle_marker_7b52bb3b96494d0c86a7bf9b839a7197.bindPopup%28popup_994f6c7ae9674f7b8fcd98da0df0136f%29%0A%20%20%20%20%20%20%20%20%3B%0A%0A%20%20%20%20%20%20%20%20%0A%20%20%20%20%0A%20%20%20%20%0A%20%20%20%20%20%20%20%20%20%20%20%20var%20circle_marker_c0159d0f78884ba192e62951239cbccd%20%3D%20L.circleMarker%28%0A%20%20%20%20%20%20%20%20%20%20%20%20%20%20%20%20%5B41.97959%2C%20-87.90446%5D%2C%0A%20%20%20%20%20%20%20%20%20%20%20%20%20%20%20%20%7B%22bubblingMouseEvents%22%3A%20true%2C%20%22color%22%3A%20%22yellow%22%2C%20%22dashArray%22%3A%20null%2C%20%22dashOffset%22%3A%20null%2C%20%22fill%22%3A%20true%2C%20%22fillColor%22%3A%20%22yellow%22%2C%20%22fillOpacity%22%3A%200.2%2C%20%22fillRule%22%3A%20%22evenodd%22%2C%20%22lineCap%22%3A%20%22round%22%2C%20%22lineJoin%22%3A%20%22round%22%2C%20%22opacity%22%3A%201.0%2C%20%22radius%22%3A%2010%2C%20%22stroke%22%3A%20true%2C%20%22weight%22%3A%203%7D%0A%20%20%20%20%20%20%20%20%20%20%20%20%29.addTo%28map_488442466ca04305bc30478c4ee59e17%29%3B%0A%20%20%20%20%20%20%20%20%0A%20%20%20%20%0A%20%20%20%20%20%20%20%20var%20popup_5df277e3dbcf4599a874716417ad69f2%20%3D%20L.popup%28%7B%22maxWidth%22%3A%20%22100%25%22%7D%29%3B%0A%0A%20%20%20%20%20%20%20%20%0A%20%20%20%20%20%20%20%20%20%20%20%20var%20html_4816cadb8e934a0b940ec738340ecc90%20%3D%20%24%28%60%3Cdiv%20id%3D%22html_4816cadb8e934a0b940ec738340ecc90%22%20style%3D%22width%3A%20100.0%25%3B%20height%3A%20100.0%25%3B%22%3EVille%20%3A%20Chicago%3Cbr%3E%20%20%20%20%20%20%20%20%20%20%20%20%20%20%20%20%20%20%20%20%20Prix%20moyen%20d%27un%20vol%20en%20%24%20%3A%20511%3Cbr%3E%3C/div%3E%60%29%5B0%5D%3B%0A%20%20%20%20%20%20%20%20%20%20%20%20popup_5df277e3dbcf4599a874716417ad69f2.setContent%28html_4816cadb8e934a0b940ec738340ecc90%29%3B%0A%20%20%20%20%20%20%20%20%0A%0A%20%20%20%20%20%20%20%20circle_marker_c0159d0f78884ba192e62951239cbccd.bindPopup%28popup_5df277e3dbcf4599a874716417ad69f2%29%0A%20%20%20%20%20%20%20%20%3B%0A%0A%20%20%20%20%20%20%20%20%0A%20%20%20%20%0A%20%20%20%20%0A%20%20%20%20%20%20%20%20%20%20%20%20var%20circle_marker_7a61ac4bdd4f4cbc8850436b48590bc3%20%3D%20L.circleMarker%28%0A%20%20%20%20%20%20%20%20%20%20%20%20%20%20%20%20%5B22.308154770027556%2C%20113.91861379882812%5D%2C%0A%20%20%20%20%20%20%20%20%20%20%20%20%20%20%20%20%7B%22bubblingMouseEvents%22%3A%20true%2C%20%22color%22%3A%20%22yellow%22%2C%20%22dashArray%22%3A%20null%2C%20%22dashOffset%22%3A%20null%2C%20%22fill%22%3A%20true%2C%20%22fillColor%22%3A%20%22yellow%22%2C%20%22fillOpacity%22%3A%200.2%2C%20%22fillRule%22%3A%20%22evenodd%22%2C%20%22lineCap%22%3A%20%22round%22%2C%20%22lineJoin%22%3A%20%22round%22%2C%20%22opacity%22%3A%201.0%2C%20%22radius%22%3A%2010%2C%20%22stroke%22%3A%20true%2C%20%22weight%22%3A%203%7D%0A%20%20%20%20%20%20%20%20%20%20%20%20%29.addTo%28map_488442466ca04305bc30478c4ee59e17%29%3B%0A%20%20%20%20%20%20%20%20%0A%20%20%20%20%0A%20%20%20%20%20%20%20%20var%20popup_8b228c61331b47909afad4f141dbfa8c%20%3D%20L.popup%28%7B%22maxWidth%22%3A%20%22100%25%22%7D%29%3B%0A%0A%20%20%20%20%20%20%20%20%0A%20%20%20%20%20%20%20%20%20%20%20%20var%20html_595d63776be3448d981c316727cc1b89%20%3D%20%24%28%60%3Cdiv%20id%3D%22html_595d63776be3448d981c316727cc1b89%22%20style%3D%22width%3A%20100.0%25%3B%20height%3A%20100.0%25%3B%22%3EVille%20%3A%20Hong%20Kong%3Cbr%3E%20%20%20%20%20%20%20%20%20%20%20%20%20%20%20%20%20%20%20%20%20Prix%20moyen%20d%27un%20vol%20en%20%24%20%3A%20528%3Cbr%3E%3C/div%3E%60%29%5B0%5D%3B%0A%20%20%20%20%20%20%20%20%20%20%20%20popup_8b228c61331b47909afad4f141dbfa8c.setContent%28html_595d63776be3448d981c316727cc1b89%29%3B%0A%20%20%20%20%20%20%20%20%0A%0A%20%20%20%20%20%20%20%20circle_marker_7a61ac4bdd4f4cbc8850436b48590bc3.bindPopup%28popup_8b228c61331b47909afad4f141dbfa8c%29%0A%20%20%20%20%20%20%20%20%3B%0A%0A%20%20%20%20%20%20%20%20%0A%20%20%20%20%0A%20%20%20%20%0A%20%20%20%20%20%20%20%20%20%20%20%20var%20circle_marker_cdebfb20d89a400db3b219f0fff5c325%20%3D%20L.circleMarker%28%0A%20%20%20%20%20%20%20%20%20%20%20%20%20%20%20%20%5B28.557152230159506%2C%2077.099656772461%5D%2C%0A%20%20%20%20%20%20%20%20%20%20%20%20%20%20%20%20%7B%22bubblingMouseEvents%22%3A%20true%2C%20%22color%22%3A%20%22yellow%22%2C%20%22dashArray%22%3A%20null%2C%20%22dashOffset%22%3A%20null%2C%20%22fill%22%3A%20true%2C%20%22fillColor%22%3A%20%22yellow%22%2C%20%22fillOpacity%22%3A%200.2%2C%20%22fillRule%22%3A%20%22evenodd%22%2C%20%22lineCap%22%3A%20%22round%22%2C%20%22lineJoin%22%3A%20%22round%22%2C%20%22opacity%22%3A%201.0%2C%20%22radius%22%3A%2010%2C%20%22stroke%22%3A%20true%2C%20%22weight%22%3A%203%7D%0A%20%20%20%20%20%20%20%20%20%20%20%20%29.addTo%28map_488442466ca04305bc30478c4ee59e17%29%3B%0A%20%20%20%20%20%20%20%20%0A%20%20%20%20%0A%20%20%20%20%20%20%20%20var%20popup_0de1f8df8f2148f6b14fe95470192a66%20%3D%20L.popup%28%7B%22maxWidth%22%3A%20%22100%25%22%7D%29%3B%0A%0A%20%20%20%20%20%20%20%20%0A%20%20%20%20%20%20%20%20%20%20%20%20var%20html_aec6801697da436e8a8285547d65a669%20%3D%20%24%28%60%3Cdiv%20id%3D%22html_aec6801697da436e8a8285547d65a669%22%20style%3D%22width%3A%20100.0%25%3B%20height%3A%20100.0%25%3B%22%3EVille%20%3A%20New%20Delhi%3Cbr%3E%20%20%20%20%20%20%20%20%20%20%20%20%20%20%20%20%20%20%20%20%20Prix%20moyen%20d%27un%20vol%20en%20%24%20%3A%20534%3Cbr%3E%3C/div%3E%60%29%5B0%5D%3B%0A%20%20%20%20%20%20%20%20%20%20%20%20popup_0de1f8df8f2148f6b14fe95470192a66.setContent%28html_aec6801697da436e8a8285547d65a669%29%3B%0A%20%20%20%20%20%20%20%20%0A%0A%20%20%20%20%20%20%20%20circle_marker_cdebfb20d89a400db3b219f0fff5c325.bindPopup%28popup_0de1f8df8f2148f6b14fe95470192a66%29%0A%20%20%20%20%20%20%20%20%3B%0A%0A%20%20%20%20%20%20%20%20%0A%20%20%20%20%0A%20%20%20%20%0A%20%20%20%20%20%20%20%20%20%20%20%20var%20circle_marker_073711067845421eb51ade58db72942e%20%3D%20L.circleMarker%28%0A%20%20%20%20%20%20%20%20%20%20%20%20%20%20%20%20%5B29.647924467831096%2C%20-95.27740166137698%5D%2C%0A%20%20%20%20%20%20%20%20%20%20%20%20%20%20%20%20%7B%22bubblingMouseEvents%22%3A%20true%2C%20%22color%22%3A%20%22orange%22%2C%20%22dashArray%22%3A%20null%2C%20%22dashOffset%22%3A%20null%2C%20%22fill%22%3A%20true%2C%20%22fillColor%22%3A%20%22orange%22%2C%20%22fillOpacity%22%3A%200.2%2C%20%22fillRule%22%3A%20%22evenodd%22%2C%20%22lineCap%22%3A%20%22round%22%2C%20%22lineJoin%22%3A%20%22round%22%2C%20%22opacity%22%3A%201.0%2C%20%22radius%22%3A%2010%2C%20%22stroke%22%3A%20true%2C%20%22weight%22%3A%203%7D%0A%20%20%20%20%20%20%20%20%20%20%20%20%29.addTo%28map_488442466ca04305bc30478c4ee59e17%29%3B%0A%20%20%20%20%20%20%20%20%0A%20%20%20%20%0A%20%20%20%20%20%20%20%20var%20popup_bb9066a4f4974d8bb4e242aab8615487%20%3D%20L.popup%28%7B%22maxWidth%22%3A%20%22100%25%22%7D%29%3B%0A%0A%20%20%20%20%20%20%20%20%0A%20%20%20%20%20%20%20%20%20%20%20%20var%20html_455c75ac45f84ed980ee88dee0d2d13a%20%3D%20%24%28%60%3Cdiv%20id%3D%22html_455c75ac45f84ed980ee88dee0d2d13a%22%20style%3D%22width%3A%20100.0%25%3B%20height%3A%20100.0%25%3B%22%3EVille%20%3A%20Houston%3Cbr%3E%20%20%20%20%20%20%20%20%20%20%20%20%20%20%20%20%20%20%20%20%20Prix%20moyen%20d%27un%20vol%20en%20%24%20%3A%20546%3Cbr%3E%3C/div%3E%60%29%5B0%5D%3B%0A%20%20%20%20%20%20%20%20%20%20%20%20popup_bb9066a4f4974d8bb4e242aab8615487.setContent%28html_455c75ac45f84ed980ee88dee0d2d13a%29%3B%0A%20%20%20%20%20%20%20%20%0A%0A%20%20%20%20%20%20%20%20circle_marker_073711067845421eb51ade58db72942e.bindPopup%28popup_bb9066a4f4974d8bb4e242aab8615487%29%0A%20%20%20%20%20%20%20%20%3B%0A%0A%20%20%20%20%20%20%20%20%0A%20%20%20%20%0A%20%20%20%20%0A%20%20%20%20%20%20%20%20%20%20%20%20var%20circle_marker_92c3f42590ea4e198d26f98d37ebd6ed%20%3D%20L.circleMarker%28%0A%20%20%20%20%20%20%20%20%20%20%20%20%20%20%20%20%5B40.75096%2C%20-73.98741%5D%2C%0A%20%20%20%20%20%20%20%20%20%20%20%20%20%20%20%20%7B%22bubblingMouseEvents%22%3A%20true%2C%20%22color%22%3A%20%22orange%22%2C%20%22dashArray%22%3A%20null%2C%20%22dashOffset%22%3A%20null%2C%20%22fill%22%3A%20true%2C%20%22fillColor%22%3A%20%22orange%22%2C%20%22fillOpacity%22%3A%200.2%2C%20%22fillRule%22%3A%20%22evenodd%22%2C%20%22lineCap%22%3A%20%22round%22%2C%20%22lineJoin%22%3A%20%22round%22%2C%20%22opacity%22%3A%201.0%2C%20%22radius%22%3A%2010%2C%20%22stroke%22%3A%20true%2C%20%22weight%22%3A%203%7D%0A%20%20%20%20%20%20%20%20%20%20%20%20%29.addTo%28map_488442466ca04305bc30478c4ee59e17%29%3B%0A%20%20%20%20%20%20%20%20%0A%20%20%20%20%0A%20%20%20%20%20%20%20%20var%20popup_4340ca1fe66c41c0af64535e963e46ae%20%3D%20L.popup%28%7B%22maxWidth%22%3A%20%22100%25%22%7D%29%3B%0A%0A%20%20%20%20%20%20%20%20%0A%20%20%20%20%20%20%20%20%20%20%20%20var%20html_83d3e57d41d34f29993c6cf1eb479982%20%3D%20%24%28%60%3Cdiv%20id%3D%22html_83d3e57d41d34f29993c6cf1eb479982%22%20style%3D%22width%3A%20100.0%25%3B%20height%3A%20100.0%25%3B%22%3EVille%20%3A%20New%20York%3Cbr%3E%20%20%20%20%20%20%20%20%20%20%20%20%20%20%20%20%20%20%20%20%20Prix%20moyen%20d%27un%20vol%20en%20%24%20%3A%20562%3Cbr%3E%3C/div%3E%60%29%5B0%5D%3B%0A%20%20%20%20%20%20%20%20%20%20%20%20popup_4340ca1fe66c41c0af64535e963e46ae.setContent%28html_83d3e57d41d34f29993c6cf1eb479982%29%3B%0A%20%20%20%20%20%20%20%20%0A%0A%20%20%20%20%20%20%20%20circle_marker_92c3f42590ea4e198d26f98d37ebd6ed.bindPopup%28popup_4340ca1fe66c41c0af64535e963e46ae%29%0A%20%20%20%20%20%20%20%20%3B%0A%0A%20%20%20%20%20%20%20%20%0A%20%20%20%20%0A%20%20%20%20%0A%20%20%20%20%20%20%20%20%20%20%20%20var%20circle_marker_206c8d63161c46e08ed78fd35255cf8d%20%3D%20L.circleMarker%28%0A%20%20%20%20%20%20%20%20%20%20%20%20%20%20%20%20%5B6.577369999999999%2C%203.32116%5D%2C%0A%20%20%20%20%20%20%20%20%20%20%20%20%20%20%20%20%7B%22bubblingMouseEvents%22%3A%20true%2C%20%22color%22%3A%20%22orange%22%2C%20%22dashArray%22%3A%20null%2C%20%22dashOffset%22%3A%20null%2C%20%22fill%22%3A%20true%2C%20%22fillColor%22%3A%20%22orange%22%2C%20%22fillOpacity%22%3A%200.2%2C%20%22fillRule%22%3A%20%22evenodd%22%2C%20%22lineCap%22%3A%20%22round%22%2C%20%22lineJoin%22%3A%20%22round%22%2C%20%22opacity%22%3A%201.0%2C%20%22radius%22%3A%2010%2C%20%22stroke%22%3A%20true%2C%20%22weight%22%3A%203%7D%0A%20%20%20%20%20%20%20%20%20%20%20%20%29.addTo%28map_488442466ca04305bc30478c4ee59e17%29%3B%0A%20%20%20%20%20%20%20%20%0A%20%20%20%20%0A%20%20%20%20%20%20%20%20var%20popup_6ea3bc42dd2749689440d40442d08af1%20%3D%20L.popup%28%7B%22maxWidth%22%3A%20%22100%25%22%7D%29%3B%0A%0A%20%20%20%20%20%20%20%20%0A%20%20%20%20%20%20%20%20%20%20%20%20var%20html_cd3b69d974db4e88856bdb09f377aaa8%20%3D%20%24%28%60%3Cdiv%20id%3D%22html_cd3b69d974db4e88856bdb09f377aaa8%22%20style%3D%22width%3A%20100.0%25%3B%20height%3A%20100.0%25%3B%22%3EVille%20%3A%20Lagos%3Cbr%3E%20%20%20%20%20%20%20%20%20%20%20%20%20%20%20%20%20%20%20%20%20Prix%20moyen%20d%27un%20vol%20en%20%24%20%3A%20570%3Cbr%3E%3C/div%3E%60%29%5B0%5D%3B%0A%20%20%20%20%20%20%20%20%20%20%20%20popup_6ea3bc42dd2749689440d40442d08af1.setContent%28html_cd3b69d974db4e88856bdb09f377aaa8%29%3B%0A%20%20%20%20%20%20%20%20%0A%0A%20%20%20%20%20%20%20%20circle_marker_206c8d63161c46e08ed78fd35255cf8d.bindPopup%28popup_6ea3bc42dd2749689440d40442d08af1%29%0A%20%20%20%20%20%20%20%20%3B%0A%0A%20%20%20%20%20%20%20%20%0A%20%20%20%20%0A%20%20%20%20%0A%20%20%20%20%20%20%20%20%20%20%20%20var%20circle_marker_718543d244174c3eb77dcc2ed049f512%20%3D%20L.circleMarker%28%0A%20%20%20%20%20%20%20%20%20%20%20%20%20%20%20%20%5B20.5218%2C%20-103.31117%5D%2C%0A%20%20%20%20%20%20%20%20%20%20%20%20%20%20%20%20%7B%22bubblingMouseEvents%22%3A%20true%2C%20%22color%22%3A%20%22orange%22%2C%20%22dashArray%22%3A%20null%2C%20%22dashOffset%22%3A%20null%2C%20%22fill%22%3A%20true%2C%20%22fillColor%22%3A%20%22orange%22%2C%20%22fillOpacity%22%3A%200.2%2C%20%22fillRule%22%3A%20%22evenodd%22%2C%20%22lineCap%22%3A%20%22round%22%2C%20%22lineJoin%22%3A%20%22round%22%2C%20%22opacity%22%3A%201.0%2C%20%22radius%22%3A%2010%2C%20%22stroke%22%3A%20true%2C%20%22weight%22%3A%203%7D%0A%20%20%20%20%20%20%20%20%20%20%20%20%29.addTo%28map_488442466ca04305bc30478c4ee59e17%29%3B%0A%20%20%20%20%20%20%20%20%0A%20%20%20%20%0A%20%20%20%20%20%20%20%20var%20popup_0abbebaf6717466f88f56951c5c19f02%20%3D%20L.popup%28%7B%22maxWidth%22%3A%20%22100%25%22%7D%29%3B%0A%0A%20%20%20%20%20%20%20%20%0A%20%20%20%20%20%20%20%20%20%20%20%20var%20html_85a597bf8c214884875abaf176f745c2%20%3D%20%24%28%60%3Cdiv%20id%3D%22html_85a597bf8c214884875abaf176f745c2%22%20style%3D%22width%3A%20100.0%25%3B%20height%3A%20100.0%25%3B%22%3EVille%20%3A%20Guadalajara%3Cbr%3E%20%20%20%20%20%20%20%20%20%20%20%20%20%20%20%20%20%20%20%20%20Prix%20moyen%20d%27un%20vol%20en%20%24%20%3A%20579%3Cbr%3E%3C/div%3E%60%29%5B0%5D%3B%0A%20%20%20%20%20%20%20%20%20%20%20%20popup_0abbebaf6717466f88f56951c5c19f02.setContent%28html_85a597bf8c214884875abaf176f745c2%29%3B%0A%20%20%20%20%20%20%20%20%0A%0A%20%20%20%20%20%20%20%20circle_marker_718543d244174c3eb77dcc2ed049f512.bindPopup%28popup_0abbebaf6717466f88f56951c5c19f02%29%0A%20%20%20%20%20%20%20%20%3B%0A%0A%20%20%20%20%20%20%20%20%0A%20%20%20%20%0A%20%20%20%20%0A%20%20%20%20%20%20%20%20%20%20%20%20var%20circle_marker_b4a1e301539b45d89ec87136d0db1840%20%3D%20L.circleMarker%28%0A%20%20%20%20%20%20%20%20%20%20%20%20%20%20%20%20%5B19.089663331035872%2C%2072.86551674072268%5D%2C%0A%20%20%20%20%20%20%20%20%20%20%20%20%20%20%20%20%7B%22bubblingMouseEvents%22%3A%20true%2C%20%22color%22%3A%20%22orange%22%2C%20%22dashArray%22%3A%20null%2C%20%22dashOffset%22%3A%20null%2C%20%22fill%22%3A%20true%2C%20%22fillColor%22%3A%20%22orange%22%2C%20%22fillOpacity%22%3A%200.2%2C%20%22fillRule%22%3A%20%22evenodd%22%2C%20%22lineCap%22%3A%20%22round%22%2C%20%22lineJoin%22%3A%20%22round%22%2C%20%22opacity%22%3A%201.0%2C%20%22radius%22%3A%2010%2C%20%22stroke%22%3A%20true%2C%20%22weight%22%3A%203%7D%0A%20%20%20%20%20%20%20%20%20%20%20%20%29.addTo%28map_488442466ca04305bc30478c4ee59e17%29%3B%0A%20%20%20%20%20%20%20%20%0A%20%20%20%20%0A%20%20%20%20%20%20%20%20var%20popup_8edc8cdf4e1c47a88f2f287a72b5c2a4%20%3D%20L.popup%28%7B%22maxWidth%22%3A%20%22100%25%22%7D%29%3B%0A%0A%20%20%20%20%20%20%20%20%0A%20%20%20%20%20%20%20%20%20%20%20%20var%20html_24dba266f76d4bd5b76765ef8651d5d5%20%3D%20%24%28%60%3Cdiv%20id%3D%22html_24dba266f76d4bd5b76765ef8651d5d5%22%20style%3D%22width%3A%20100.0%25%3B%20height%3A%20100.0%25%3B%22%3EVille%20%3A%20Mumbai%3Cbr%3E%20%20%20%20%20%20%20%20%20%20%20%20%20%20%20%20%20%20%20%20%20Prix%20moyen%20d%27un%20vol%20en%20%24%20%3A%20588%3Cbr%3E%3C/div%3E%60%29%5B0%5D%3B%0A%20%20%20%20%20%20%20%20%20%20%20%20popup_8edc8cdf4e1c47a88f2f287a72b5c2a4.setContent%28html_24dba266f76d4bd5b76765ef8651d5d5%29%3B%0A%20%20%20%20%20%20%20%20%0A%0A%20%20%20%20%20%20%20%20circle_marker_b4a1e301539b45d89ec87136d0db1840.bindPopup%28popup_8edc8cdf4e1c47a88f2f287a72b5c2a4%29%0A%20%20%20%20%20%20%20%20%3B%0A%0A%20%20%20%20%20%20%20%20%0A%20%20%20%20%0A%20%20%20%20%0A%20%20%20%20%20%20%20%20%20%20%20%20var%20circle_marker_de9ff55b3fed4b5aa5882b2a1454aaab%20%3D%20L.circleMarker%28%0A%20%20%20%20%20%20%20%20%20%20%20%20%20%20%20%20%5B10.59396494218611%2C%20-85.54389501586905%5D%2C%0A%20%20%20%20%20%20%20%20%20%20%20%20%20%20%20%20%7B%22bubblingMouseEvents%22%3A%20true%2C%20%22color%22%3A%20%22orange%22%2C%20%22dashArray%22%3A%20null%2C%20%22dashOffset%22%3A%20null%2C%20%22fill%22%3A%20true%2C%20%22fillColor%22%3A%20%22orange%22%2C%20%22fillOpacity%22%3A%200.2%2C%20%22fillRule%22%3A%20%22evenodd%22%2C%20%22lineCap%22%3A%20%22round%22%2C%20%22lineJoin%22%3A%20%22round%22%2C%20%22opacity%22%3A%201.0%2C%20%22radius%22%3A%2010%2C%20%22stroke%22%3A%20true%2C%20%22weight%22%3A%203%7D%0A%20%20%20%20%20%20%20%20%20%20%20%20%29.addTo%28map_488442466ca04305bc30478c4ee59e17%29%3B%0A%20%20%20%20%20%20%20%20%0A%20%20%20%20%0A%20%20%20%20%20%20%20%20var%20popup_83dc1d460d934814b0625d5c8b7da5f0%20%3D%20L.popup%28%7B%22maxWidth%22%3A%20%22100%25%22%7D%29%3B%0A%0A%20%20%20%20%20%20%20%20%0A%20%20%20%20%20%20%20%20%20%20%20%20var%20html_de9fbe7392dc4bce9e5d4eb5fda77e5d%20%3D%20%24%28%60%3Cdiv%20id%3D%22html_de9fbe7392dc4bce9e5d4eb5fda77e5d%22%20style%3D%22width%3A%20100.0%25%3B%20height%3A%20100.0%25%3B%22%3EVille%20%3A%20Liberia%3Cbr%3E%20%20%20%20%20%20%20%20%20%20%20%20%20%20%20%20%20%20%20%20%20Prix%20moyen%20d%27un%20vol%20en%20%24%20%3A%20591%3Cbr%3E%3C/div%3E%60%29%5B0%5D%3B%0A%20%20%20%20%20%20%20%20%20%20%20%20popup_83dc1d460d934814b0625d5c8b7da5f0.setContent%28html_de9fbe7392dc4bce9e5d4eb5fda77e5d%29%3B%0A%20%20%20%20%20%20%20%20%0A%0A%20%20%20%20%20%20%20%20circle_marker_de9ff55b3fed4b5aa5882b2a1454aaab.bindPopup%28popup_83dc1d460d934814b0625d5c8b7da5f0%29%0A%20%20%20%20%20%20%20%20%3B%0A%0A%20%20%20%20%20%20%20%20%0A%20%20%20%20%0A%20%20%20%20%0A%20%20%20%20%20%20%20%20%20%20%20%20var%20circle_marker_c0d98694ecc241e59c6c92a01076b581%20%3D%20L.circleMarker%28%0A%20%20%20%20%20%20%20%20%20%20%20%20%20%20%20%20%5B11.54733%2C%2043.15948%5D%2C%0A%20%20%20%20%20%20%20%20%20%20%20%20%20%20%20%20%7B%22bubblingMouseEvents%22%3A%20true%2C%20%22color%22%3A%20%22orange%22%2C%20%22dashArray%22%3A%20null%2C%20%22dashOffset%22%3A%20null%2C%20%22fill%22%3A%20true%2C%20%22fillColor%22%3A%20%22orange%22%2C%20%22fillOpacity%22%3A%200.2%2C%20%22fillRule%22%3A%20%22evenodd%22%2C%20%22lineCap%22%3A%20%22round%22%2C%20%22lineJoin%22%3A%20%22round%22%2C%20%22opacity%22%3A%201.0%2C%20%22radius%22%3A%2010%2C%20%22stroke%22%3A%20true%2C%20%22weight%22%3A%203%7D%0A%20%20%20%20%20%20%20%20%20%20%20%20%29.addTo%28map_488442466ca04305bc30478c4ee59e17%29%3B%0A%20%20%20%20%20%20%20%20%0A%20%20%20%20%0A%20%20%20%20%20%20%20%20var%20popup_08c8eda030d24f75a4df9aa64ba16288%20%3D%20L.popup%28%7B%22maxWidth%22%3A%20%22100%25%22%7D%29%3B%0A%0A%20%20%20%20%20%20%20%20%0A%20%20%20%20%20%20%20%20%20%20%20%20var%20html_c86139bcb6fd42bdaf7d18058f160959%20%3D%20%24%28%60%3Cdiv%20id%3D%22html_c86139bcb6fd42bdaf7d18058f160959%22%20style%3D%22width%3A%20100.0%25%3B%20height%3A%20100.0%25%3B%22%3EVille%20%3A%20Djibouti%3Cbr%3E%20%20%20%20%20%20%20%20%20%20%20%20%20%20%20%20%20%20%20%20%20Prix%20moyen%20d%27un%20vol%20en%20%24%20%3A%20609%3Cbr%3E%3C/div%3E%60%29%5B0%5D%3B%0A%20%20%20%20%20%20%20%20%20%20%20%20popup_08c8eda030d24f75a4df9aa64ba16288.setContent%28html_c86139bcb6fd42bdaf7d18058f160959%29%3B%0A%20%20%20%20%20%20%20%20%0A%0A%20%20%20%20%20%20%20%20circle_marker_c0d98694ecc241e59c6c92a01076b581.bindPopup%28popup_08c8eda030d24f75a4df9aa64ba16288%29%0A%20%20%20%20%20%20%20%20%3B%0A%0A%20%20%20%20%20%20%20%20%0A%20%20%20%20%0A%20%20%20%20%0A%20%20%20%20%20%20%20%20%20%20%20%20var%20circle_marker_50595f01855448baa0ecbfbeed68c2ca%20%3D%20L.circleMarker%28%0A%20%20%20%20%20%20%20%20%20%20%20%20%20%20%20%20%5B35.70903%2C%20139.73199%5D%2C%0A%20%20%20%20%20%20%20%20%20%20%20%20%20%20%20%20%7B%22bubblingMouseEvents%22%3A%20true%2C%20%22color%22%3A%20%22orange%22%2C%20%22dashArray%22%3A%20null%2C%20%22dashOffset%22%3A%20null%2C%20%22fill%22%3A%20true%2C%20%22fillColor%22%3A%20%22orange%22%2C%20%22fillOpacity%22%3A%200.2%2C%20%22fillRule%22%3A%20%22evenodd%22%2C%20%22lineCap%22%3A%20%22round%22%2C%20%22lineJoin%22%3A%20%22round%22%2C%20%22opacity%22%3A%201.0%2C%20%22radius%22%3A%2010%2C%20%22stroke%22%3A%20true%2C%20%22weight%22%3A%203%7D%0A%20%20%20%20%20%20%20%20%20%20%20%20%29.addTo%28map_488442466ca04305bc30478c4ee59e17%29%3B%0A%20%20%20%20%20%20%20%20%0A%20%20%20%20%0A%20%20%20%20%20%20%20%20var%20popup_2b150f4f4a864ea49caddbdcd31f5168%20%3D%20L.popup%28%7B%22maxWidth%22%3A%20%22100%25%22%7D%29%3B%0A%0A%20%20%20%20%20%20%20%20%0A%20%20%20%20%20%20%20%20%20%20%20%20var%20html_d262ad42508a4e8ea459efd1cc3ae5b2%20%3D%20%24%28%60%3Cdiv%20id%3D%22html_d262ad42508a4e8ea459efd1cc3ae5b2%22%20style%3D%22width%3A%20100.0%25%3B%20height%3A%20100.0%25%3B%22%3EVille%20%3A%20Tokyo%3Cbr%3E%20%20%20%20%20%20%20%20%20%20%20%20%20%20%20%20%20%20%20%20%20Prix%20moyen%20d%27un%20vol%20en%20%24%20%3A%20629%3Cbr%3E%3C/div%3E%60%29%5B0%5D%3B%0A%20%20%20%20%20%20%20%20%20%20%20%20popup_2b150f4f4a864ea49caddbdcd31f5168.setContent%28html_d262ad42508a4e8ea459efd1cc3ae5b2%29%3B%0A%20%20%20%20%20%20%20%20%0A%0A%20%20%20%20%20%20%20%20circle_marker_50595f01855448baa0ecbfbeed68c2ca.bindPopup%28popup_2b150f4f4a864ea49caddbdcd31f5168%29%0A%20%20%20%20%20%20%20%20%3B%0A%0A%20%20%20%20%20%20%20%20%0A%20%20%20%20%0A%20%20%20%20%0A%20%20%20%20%20%20%20%20%20%20%20%20var%20circle_marker_bcad32ee294e4bcd8ce3dfaa045445c1%20%3D%20L.circleMarker%28%0A%20%20%20%20%20%20%20%20%20%20%20%20%20%20%20%20%5B42.36564733660332%2C%20-71.00850028564457%5D%2C%0A%20%20%20%20%20%20%20%20%20%20%20%20%20%20%20%20%7B%22bubblingMouseEvents%22%3A%20true%2C%20%22color%22%3A%20%22orange%22%2C%20%22dashArray%22%3A%20null%2C%20%22dashOffset%22%3A%20null%2C%20%22fill%22%3A%20true%2C%20%22fillColor%22%3A%20%22orange%22%2C%20%22fillOpacity%22%3A%200.2%2C%20%22fillRule%22%3A%20%22evenodd%22%2C%20%22lineCap%22%3A%20%22round%22%2C%20%22lineJoin%22%3A%20%22round%22%2C%20%22opacity%22%3A%201.0%2C%20%22radius%22%3A%2010%2C%20%22stroke%22%3A%20true%2C%20%22weight%22%3A%203%7D%0A%20%20%20%20%20%20%20%20%20%20%20%20%29.addTo%28map_488442466ca04305bc30478c4ee59e17%29%3B%0A%20%20%20%20%20%20%20%20%0A%20%20%20%20%0A%20%20%20%20%20%20%20%20var%20popup_d3dda74fc06341ff83c1d1c6078a73a5%20%3D%20L.popup%28%7B%22maxWidth%22%3A%20%22100%25%22%7D%29%3B%0A%0A%20%20%20%20%20%20%20%20%0A%20%20%20%20%20%20%20%20%20%20%20%20var%20html_434d02f4c8ba4bca8abacfb643fbe718%20%3D%20%24%28%60%3Cdiv%20id%3D%22html_434d02f4c8ba4bca8abacfb643fbe718%22%20style%3D%22width%3A%20100.0%25%3B%20height%3A%20100.0%25%3B%22%3EVille%20%3A%20Boston%3Cbr%3E%20%20%20%20%20%20%20%20%20%20%20%20%20%20%20%20%20%20%20%20%20Prix%20moyen%20d%27un%20vol%20en%20%24%20%3A%20634%3Cbr%3E%3C/div%3E%60%29%5B0%5D%3B%0A%20%20%20%20%20%20%20%20%20%20%20%20popup_d3dda74fc06341ff83c1d1c6078a73a5.setContent%28html_434d02f4c8ba4bca8abacfb643fbe718%29%3B%0A%20%20%20%20%20%20%20%20%0A%0A%20%20%20%20%20%20%20%20circle_marker_bcad32ee294e4bcd8ce3dfaa045445c1.bindPopup%28popup_d3dda74fc06341ff83c1d1c6078a73a5%29%0A%20%20%20%20%20%20%20%20%3B%0A%0A%20%20%20%20%20%20%20%20%0A%20%20%20%20%0A%20%20%20%20%0A%20%20%20%20%20%20%20%20%20%20%20%20var%20circle_marker_694855f855fd4c8196007f4f43c43468%20%3D%20L.circleMarker%28%0A%20%20%20%20%20%20%20%20%20%20%20%20%20%20%20%20%5B-22.90354%2C%20-43.20959%5D%2C%0A%20%20%20%20%20%20%20%20%20%20%20%20%20%20%20%20%7B%22bubblingMouseEvents%22%3A%20true%2C%20%22color%22%3A%20%22orange%22%2C%20%22dashArray%22%3A%20null%2C%20%22dashOffset%22%3A%20null%2C%20%22fill%22%3A%20true%2C%20%22fillColor%22%3A%20%22orange%22%2C%20%22fillOpacity%22%3A%200.2%2C%20%22fillRule%22%3A%20%22evenodd%22%2C%20%22lineCap%22%3A%20%22round%22%2C%20%22lineJoin%22%3A%20%22round%22%2C%20%22opacity%22%3A%201.0%2C%20%22radius%22%3A%2010%2C%20%22stroke%22%3A%20true%2C%20%22weight%22%3A%203%7D%0A%20%20%20%20%20%20%20%20%20%20%20%20%29.addTo%28map_488442466ca04305bc30478c4ee59e17%29%3B%0A%20%20%20%20%20%20%20%20%0A%20%20%20%20%0A%20%20%20%20%20%20%20%20var%20popup_7e46a0bf8b78406e8ecfca48a72fb231%20%3D%20L.popup%28%7B%22maxWidth%22%3A%20%22100%25%22%7D%29%3B%0A%0A%20%20%20%20%20%20%20%20%0A%20%20%20%20%20%20%20%20%20%20%20%20var%20html_958e63a029df471cb76913fcc075de72%20%3D%20%24%28%60%3Cdiv%20id%3D%22html_958e63a029df471cb76913fcc075de72%22%20style%3D%22width%3A%20100.0%25%3B%20height%3A%20100.0%25%3B%22%3EVille%20%3A%20Rio%20de%20Janeiro%3Cbr%3E%20%20%20%20%20%20%20%20%20%20%20%20%20%20%20%20%20%20%20%20%20Prix%20moyen%20d%27un%20vol%20en%20%24%20%3A%20642%3Cbr%3E%3C/div%3E%60%29%5B0%5D%3B%0A%20%20%20%20%20%20%20%20%20%20%20%20popup_7e46a0bf8b78406e8ecfca48a72fb231.setContent%28html_958e63a029df471cb76913fcc075de72%29%3B%0A%20%20%20%20%20%20%20%20%0A%0A%20%20%20%20%20%20%20%20circle_marker_694855f855fd4c8196007f4f43c43468.bindPopup%28popup_7e46a0bf8b78406e8ecfca48a72fb231%29%0A%20%20%20%20%20%20%20%20%3B%0A%0A%20%20%20%20%20%20%20%20%0A%20%20%20%20%0A%20%20%20%20%0A%20%20%20%20%20%20%20%20%20%20%20%20var%20circle_marker_d6abb0b130b645cc9db0fa4626326132%20%3D%20L.circleMarker%28%0A%20%20%20%20%20%20%20%20%20%20%20%20%20%20%20%20%5B-26.13348%2C%2028.23606%5D%2C%0A%20%20%20%20%20%20%20%20%20%20%20%20%20%20%20%20%7B%22bubblingMouseEvents%22%3A%20true%2C%20%22color%22%3A%20%22orange%22%2C%20%22dashArray%22%3A%20null%2C%20%22dashOffset%22%3A%20null%2C%20%22fill%22%3A%20true%2C%20%22fillColor%22%3A%20%22orange%22%2C%20%22fillOpacity%22%3A%200.2%2C%20%22fillRule%22%3A%20%22evenodd%22%2C%20%22lineCap%22%3A%20%22round%22%2C%20%22lineJoin%22%3A%20%22round%22%2C%20%22opacity%22%3A%201.0%2C%20%22radius%22%3A%2010%2C%20%22stroke%22%3A%20true%2C%20%22weight%22%3A%203%7D%0A%20%20%20%20%20%20%20%20%20%20%20%20%29.addTo%28map_488442466ca04305bc30478c4ee59e17%29%3B%0A%20%20%20%20%20%20%20%20%0A%20%20%20%20%0A%20%20%20%20%20%20%20%20var%20popup_89b71528ca114d86bc786e2bfbdcd8ce%20%3D%20L.popup%28%7B%22maxWidth%22%3A%20%22100%25%22%7D%29%3B%0A%0A%20%20%20%20%20%20%20%20%0A%20%20%20%20%20%20%20%20%20%20%20%20var%20html_542c4eaf2027469d9e3932320b23bd5d%20%3D%20%24%28%60%3Cdiv%20id%3D%22html_542c4eaf2027469d9e3932320b23bd5d%22%20style%3D%22width%3A%20100.0%25%3B%20height%3A%20100.0%25%3B%22%3EVille%20%3A%20Johannesburg%3Cbr%3E%20%20%20%20%20%20%20%20%20%20%20%20%20%20%20%20%20%20%20%20%20Prix%20moyen%20d%27un%20vol%20en%20%24%20%3A%20643%3Cbr%3E%3C/div%3E%60%29%5B0%5D%3B%0A%20%20%20%20%20%20%20%20%20%20%20%20popup_89b71528ca114d86bc786e2bfbdcd8ce.setContent%28html_542c4eaf2027469d9e3932320b23bd5d%29%3B%0A%20%20%20%20%20%20%20%20%0A%0A%20%20%20%20%20%20%20%20circle_marker_d6abb0b130b645cc9db0fa4626326132.bindPopup%28popup_89b71528ca114d86bc786e2bfbdcd8ce%29%0A%20%20%20%20%20%20%20%20%3B%0A%0A%20%20%20%20%20%20%20%20%0A%20%20%20%20%0A%20%20%20%20%0A%20%20%20%20%20%20%20%20%20%20%20%20var%20circle_marker_adabcc3703db4b53867f48cfb4079d62%20%3D%20L.circleMarker%28%0A%20%20%20%20%20%20%20%20%20%20%20%20%20%20%20%20%5B-1.3303%2C%2036.92505%5D%2C%0A%20%20%20%20%20%20%20%20%20%20%20%20%20%20%20%20%7B%22bubblingMouseEvents%22%3A%20true%2C%20%22color%22%3A%20%22orange%22%2C%20%22dashArray%22%3A%20null%2C%20%22dashOffset%22%3A%20null%2C%20%22fill%22%3A%20true%2C%20%22fillColor%22%3A%20%22orange%22%2C%20%22fillOpacity%22%3A%200.2%2C%20%22fillRule%22%3A%20%22evenodd%22%2C%20%22lineCap%22%3A%20%22round%22%2C%20%22lineJoin%22%3A%20%22round%22%2C%20%22opacity%22%3A%201.0%2C%20%22radius%22%3A%2010%2C%20%22stroke%22%3A%20true%2C%20%22weight%22%3A%203%7D%0A%20%20%20%20%20%20%20%20%20%20%20%20%29.addTo%28map_488442466ca04305bc30478c4ee59e17%29%3B%0A%20%20%20%20%20%20%20%20%0A%20%20%20%20%0A%20%20%20%20%20%20%20%20var%20popup_8cc9e382d5db42d0afd84fb2f191da75%20%3D%20L.popup%28%7B%22maxWidth%22%3A%20%22100%25%22%7D%29%3B%0A%0A%20%20%20%20%20%20%20%20%0A%20%20%20%20%20%20%20%20%20%20%20%20var%20html_417bea87c023445888e7002fa2896dc2%20%3D%20%24%28%60%3Cdiv%20id%3D%22html_417bea87c023445888e7002fa2896dc2%22%20style%3D%22width%3A%20100.0%25%3B%20height%3A%20100.0%25%3B%22%3EVille%20%3A%20Nairobi%3Cbr%3E%20%20%20%20%20%20%20%20%20%20%20%20%20%20%20%20%20%20%20%20%20Prix%20moyen%20d%27un%20vol%20en%20%24%20%3A%20650%3Cbr%3E%3C/div%3E%60%29%5B0%5D%3B%0A%20%20%20%20%20%20%20%20%20%20%20%20popup_8cc9e382d5db42d0afd84fb2f191da75.setContent%28html_417bea87c023445888e7002fa2896dc2%29%3B%0A%20%20%20%20%20%20%20%20%0A%0A%20%20%20%20%20%20%20%20circle_marker_adabcc3703db4b53867f48cfb4079d62.bindPopup%28popup_8cc9e382d5db42d0afd84fb2f191da75%29%0A%20%20%20%20%20%20%20%20%3B%0A%0A%20%20%20%20%20%20%20%20%0A%20%20%20%20%0A%20%20%20%20%0A%20%20%20%20%20%20%20%20%20%20%20%20var%20circle_marker_e0fd309c41264db5a99763eb48c2d57c%20%3D%20L.circleMarker%28%0A%20%20%20%20%20%20%20%20%20%20%20%20%20%20%20%20%5B-20.43023%2C%2057.6836%5D%2C%0A%20%20%20%20%20%20%20%20%20%20%20%20%20%20%20%20%7B%22bubblingMouseEvents%22%3A%20true%2C%20%22color%22%3A%20%22orange%22%2C%20%22dashArray%22%3A%20null%2C%20%22dashOffset%22%3A%20null%2C%20%22fill%22%3A%20true%2C%20%22fillColor%22%3A%20%22orange%22%2C%20%22fillOpacity%22%3A%200.2%2C%20%22fillRule%22%3A%20%22evenodd%22%2C%20%22lineCap%22%3A%20%22round%22%2C%20%22lineJoin%22%3A%20%22round%22%2C%20%22opacity%22%3A%201.0%2C%20%22radius%22%3A%2010%2C%20%22stroke%22%3A%20true%2C%20%22weight%22%3A%203%7D%0A%20%20%20%20%20%20%20%20%20%20%20%20%29.addTo%28map_488442466ca04305bc30478c4ee59e17%29%3B%0A%20%20%20%20%20%20%20%20%0A%20%20%20%20%0A%20%20%20%20%20%20%20%20var%20popup_07382a21746b4703a67902e3898e7edc%20%3D%20L.popup%28%7B%22maxWidth%22%3A%20%22100%25%22%7D%29%3B%0A%0A%20%20%20%20%20%20%20%20%0A%20%20%20%20%20%20%20%20%20%20%20%20var%20html_0d4fd597303c4b03898df2e56cb6727e%20%3D%20%24%28%60%3Cdiv%20id%3D%22html_0d4fd597303c4b03898df2e56cb6727e%22%20style%3D%22width%3A%20100.0%25%3B%20height%3A%20100.0%25%3B%22%3EVille%20%3A%20Port%20Louis%3Cbr%3E%20%20%20%20%20%20%20%20%20%20%20%20%20%20%20%20%20%20%20%20%20Prix%20moyen%20d%27un%20vol%20en%20%24%20%3A%20667%3Cbr%3E%3C/div%3E%60%29%5B0%5D%3B%0A%20%20%20%20%20%20%20%20%20%20%20%20popup_07382a21746b4703a67902e3898e7edc.setContent%28html_0d4fd597303c4b03898df2e56cb6727e%29%3B%0A%20%20%20%20%20%20%20%20%0A%0A%20%20%20%20%20%20%20%20circle_marker_e0fd309c41264db5a99763eb48c2d57c.bindPopup%28popup_07382a21746b4703a67902e3898e7edc%29%0A%20%20%20%20%20%20%20%20%3B%0A%0A%20%20%20%20%20%20%20%20%0A%20%20%20%20%0A%20%20%20%20%0A%20%20%20%20%20%20%20%20%20%20%20%20var%20circle_marker_66ce3431509d4da5858ef2a809586f3d%20%3D%20L.circleMarker%28%0A%20%20%20%20%20%20%20%20%20%20%20%20%20%20%20%20%5B13.913579750656696%2C%20100.60606335449222%5D%2C%0A%20%20%20%20%20%20%20%20%20%20%20%20%20%20%20%20%7B%22bubblingMouseEvents%22%3A%20true%2C%20%22color%22%3A%20%22orange%22%2C%20%22dashArray%22%3A%20null%2C%20%22dashOffset%22%3A%20null%2C%20%22fill%22%3A%20true%2C%20%22fillColor%22%3A%20%22orange%22%2C%20%22fillOpacity%22%3A%200.2%2C%20%22fillRule%22%3A%20%22evenodd%22%2C%20%22lineCap%22%3A%20%22round%22%2C%20%22lineJoin%22%3A%20%22round%22%2C%20%22opacity%22%3A%201.0%2C%20%22radius%22%3A%2010%2C%20%22stroke%22%3A%20true%2C%20%22weight%22%3A%203%7D%0A%20%20%20%20%20%20%20%20%20%20%20%20%29.addTo%28map_488442466ca04305bc30478c4ee59e17%29%3B%0A%20%20%20%20%20%20%20%20%0A%20%20%20%20%0A%20%20%20%20%20%20%20%20var%20popup_a8909cc71fda4293aa8b5ce1c48fe7b2%20%3D%20L.popup%28%7B%22maxWidth%22%3A%20%22100%25%22%7D%29%3B%0A%0A%20%20%20%20%20%20%20%20%0A%20%20%20%20%20%20%20%20%20%20%20%20var%20html_4cd08cb8e2a4465ab92dd4820ad072b4%20%3D%20%24%28%60%3Cdiv%20id%3D%22html_4cd08cb8e2a4465ab92dd4820ad072b4%22%20style%3D%22width%3A%20100.0%25%3B%20height%3A%20100.0%25%3B%22%3EVille%20%3A%20Bangkok%3Cbr%3E%20%20%20%20%20%20%20%20%20%20%20%20%20%20%20%20%20%20%20%20%20Prix%20moyen%20d%27un%20vol%20en%20%24%20%3A%20688%3Cbr%3E%3C/div%3E%60%29%5B0%5D%3B%0A%20%20%20%20%20%20%20%20%20%20%20%20popup_a8909cc71fda4293aa8b5ce1c48fe7b2.setContent%28html_4cd08cb8e2a4465ab92dd4820ad072b4%29%3B%0A%20%20%20%20%20%20%20%20%0A%0A%20%20%20%20%20%20%20%20circle_marker_66ce3431509d4da5858ef2a809586f3d.bindPopup%28popup_a8909cc71fda4293aa8b5ce1c48fe7b2%29%0A%20%20%20%20%20%20%20%20%3B%0A%0A%20%20%20%20%20%20%20%20%0A%20%20%20%20%0A%20%20%20%20%0A%20%20%20%20%20%20%20%20%20%20%20%20var%20circle_marker_cb87c68e4a224c7a9aee795fcdb822b1%20%3D%20L.circleMarker%28%0A%20%20%20%20%20%20%20%20%20%20%20%20%20%20%20%20%5B2.7387214073608774%2C%20101.70236689941407%5D%2C%0A%20%20%20%20%20%20%20%20%20%20%20%20%20%20%20%20%7B%22bubblingMouseEvents%22%3A%20true%2C%20%22color%22%3A%20%22orange%22%2C%20%22dashArray%22%3A%20null%2C%20%22dashOffset%22%3A%20null%2C%20%22fill%22%3A%20true%2C%20%22fillColor%22%3A%20%22orange%22%2C%20%22fillOpacity%22%3A%200.2%2C%20%22fillRule%22%3A%20%22evenodd%22%2C%20%22lineCap%22%3A%20%22round%22%2C%20%22lineJoin%22%3A%20%22round%22%2C%20%22opacity%22%3A%201.0%2C%20%22radius%22%3A%2010%2C%20%22stroke%22%3A%20true%2C%20%22weight%22%3A%203%7D%0A%20%20%20%20%20%20%20%20%20%20%20%20%29.addTo%28map_488442466ca04305bc30478c4ee59e17%29%3B%0A%20%20%20%20%20%20%20%20%0A%20%20%20%20%0A%20%20%20%20%20%20%20%20var%20popup_7656c5a6c82b4a01ac44ab1afb1fc4fe%20%3D%20L.popup%28%7B%22maxWidth%22%3A%20%22100%25%22%7D%29%3B%0A%0A%20%20%20%20%20%20%20%20%0A%20%20%20%20%20%20%20%20%20%20%20%20var%20html_edfc8904b13c41129f06cc6d80a24659%20%3D%20%24%28%60%3Cdiv%20id%3D%22html_edfc8904b13c41129f06cc6d80a24659%22%20style%3D%22width%3A%20100.0%25%3B%20height%3A%20100.0%25%3B%22%3EVille%20%3A%20Kuala%20Lumpur%3Cbr%3E%20%20%20%20%20%20%20%20%20%20%20%20%20%20%20%20%20%20%20%20%20Prix%20moyen%20d%27un%20vol%20en%20%24%20%3A%20732%3Cbr%3E%3C/div%3E%60%29%5B0%5D%3B%0A%20%20%20%20%20%20%20%20%20%20%20%20popup_7656c5a6c82b4a01ac44ab1afb1fc4fe.setContent%28html_edfc8904b13c41129f06cc6d80a24659%29%3B%0A%20%20%20%20%20%20%20%20%0A%0A%20%20%20%20%20%20%20%20circle_marker_cb87c68e4a224c7a9aee795fcdb822b1.bindPopup%28popup_7656c5a6c82b4a01ac44ab1afb1fc4fe%29%0A%20%20%20%20%20%20%20%20%3B%0A%0A%20%20%20%20%20%20%20%20%0A%20%20%20%20%0A%20%20%20%20%0A%20%20%20%20%20%20%20%20%20%20%20%20var%20circle_marker_703b2901db7d43cb82ee1607f90d937f%20%3D%20L.circleMarker%28%0A%20%20%20%20%20%20%20%20%20%20%20%20%20%20%20%20%5B-6.20826%2C%20106.84838%5D%2C%0A%20%20%20%20%20%20%20%20%20%20%20%20%20%20%20%20%7B%22bubblingMouseEvents%22%3A%20true%2C%20%22color%22%3A%20%22red%22%2C%20%22dashArray%22%3A%20null%2C%20%22dashOffset%22%3A%20null%2C%20%22fill%22%3A%20true%2C%20%22fillColor%22%3A%20%22red%22%2C%20%22fillOpacity%22%3A%200.2%2C%20%22fillRule%22%3A%20%22evenodd%22%2C%20%22lineCap%22%3A%20%22round%22%2C%20%22lineJoin%22%3A%20%22round%22%2C%20%22opacity%22%3A%201.0%2C%20%22radius%22%3A%2010%2C%20%22stroke%22%3A%20true%2C%20%22weight%22%3A%203%7D%0A%20%20%20%20%20%20%20%20%20%20%20%20%29.addTo%28map_488442466ca04305bc30478c4ee59e17%29%3B%0A%20%20%20%20%20%20%20%20%0A%20%20%20%20%0A%20%20%20%20%20%20%20%20var%20popup_1747063336d3482191be062bc8ca5273%20%3D%20L.popup%28%7B%22maxWidth%22%3A%20%22100%25%22%7D%29%3B%0A%0A%20%20%20%20%20%20%20%20%0A%20%20%20%20%20%20%20%20%20%20%20%20var%20html_62c07044301e43a79a5ad180dfffbe93%20%3D%20%24%28%60%3Cdiv%20id%3D%22html_62c07044301e43a79a5ad180dfffbe93%22%20style%3D%22width%3A%20100.0%25%3B%20height%3A%20100.0%25%3B%22%3EVille%20%3A%20Jakarta%3Cbr%3E%20%20%20%20%20%20%20%20%20%20%20%20%20%20%20%20%20%20%20%20%20Prix%20moyen%20d%27un%20vol%20en%20%24%20%3A%20843%3Cbr%3E%3C/div%3E%60%29%5B0%5D%3B%0A%20%20%20%20%20%20%20%20%20%20%20%20popup_1747063336d3482191be062bc8ca5273.setContent%28html_62c07044301e43a79a5ad180dfffbe93%29%3B%0A%20%20%20%20%20%20%20%20%0A%0A%20%20%20%20%20%20%20%20circle_marker_703b2901db7d43cb82ee1607f90d937f.bindPopup%28popup_1747063336d3482191be062bc8ca5273%29%0A%20%20%20%20%20%20%20%20%3B%0A%0A%20%20%20%20%20%20%20%20%0A%20%20%20%20%0A%20%20%20%20%0A%20%20%20%20%20%20%20%20%20%20%20%20var%20circle_marker_317e74e293264803a788f7518669366e%20%3D%20L.circleMarker%28%0A%20%20%20%20%20%20%20%20%20%20%20%20%20%20%20%20%5B6.907697509487234%2C%2079.91235673427582%5D%2C%0A%20%20%20%20%20%20%20%20%20%20%20%20%20%20%20%20%7B%22bubblingMouseEvents%22%3A%20true%2C%20%22color%22%3A%20%22red%22%2C%20%22dashArray%22%3A%20null%2C%20%22dashOffset%22%3A%20null%2C%20%22fill%22%3A%20true%2C%20%22fillColor%22%3A%20%22red%22%2C%20%22fillOpacity%22%3A%200.2%2C%20%22fillRule%22%3A%20%22evenodd%22%2C%20%22lineCap%22%3A%20%22round%22%2C%20%22lineJoin%22%3A%20%22round%22%2C%20%22opacity%22%3A%201.0%2C%20%22radius%22%3A%2010%2C%20%22stroke%22%3A%20true%2C%20%22weight%22%3A%203%7D%0A%20%20%20%20%20%20%20%20%20%20%20%20%29.addTo%28map_488442466ca04305bc30478c4ee59e17%29%3B%0A%20%20%20%20%20%20%20%20%0A%20%20%20%20%0A%20%20%20%20%20%20%20%20var%20popup_e1a6774c170b4b0da1156622cd38def1%20%3D%20L.popup%28%7B%22maxWidth%22%3A%20%22100%25%22%7D%29%3B%0A%0A%20%20%20%20%20%20%20%20%0A%20%20%20%20%20%20%20%20%20%20%20%20var%20html_9f2937ebca0448b5aa6332339a4a1e43%20%3D%20%24%28%60%3Cdiv%20id%3D%22html_9f2937ebca0448b5aa6332339a4a1e43%22%20style%3D%22width%3A%20100.0%25%3B%20height%3A%20100.0%25%3B%22%3EVille%20%3A%20Colombo%3Cbr%3E%20%20%20%20%20%20%20%20%20%20%20%20%20%20%20%20%20%20%20%20%20Prix%20moyen%20d%27un%20vol%20en%20%24%20%3A%20918%3Cbr%3E%3C/div%3E%60%29%5B0%5D%3B%0A%20%20%20%20%20%20%20%20%20%20%20%20popup_e1a6774c170b4b0da1156622cd38def1.setContent%28html_9f2937ebca0448b5aa6332339a4a1e43%29%3B%0A%20%20%20%20%20%20%20%20%0A%0A%20%20%20%20%20%20%20%20circle_marker_317e74e293264803a788f7518669366e.bindPopup%28popup_e1a6774c170b4b0da1156622cd38def1%29%0A%20%20%20%20%20%20%20%20%3B%0A%0A%20%20%20%20%20%20%20%20%0A%20%20%20%20%0A%20%20%20%20%0A%20%20%20%20%20%20%20%20%20%20%20%20var%20circle_marker_ce32b33fcc0748b395a03f8f5adba44a%20%3D%20L.circleMarker%28%0A%20%20%20%20%20%20%20%20%20%20%20%20%20%20%20%20%5B21.22119%2C%20105.80718%5D%2C%0A%20%20%20%20%20%20%20%20%20%20%20%20%20%20%20%20%7B%22bubblingMouseEvents%22%3A%20true%2C%20%22color%22%3A%20%22red%22%2C%20%22dashArray%22%3A%20null%2C%20%22dashOffset%22%3A%20null%2C%20%22fill%22%3A%20true%2C%20%22fillColor%22%3A%20%22red%22%2C%20%22fillOpacity%22%3A%200.2%2C%20%22fillRule%22%3A%20%22evenodd%22%2C%20%22lineCap%22%3A%20%22round%22%2C%20%22lineJoin%22%3A%20%22round%22%2C%20%22opacity%22%3A%201.0%2C%20%22radius%22%3A%2010%2C%20%22stroke%22%3A%20true%2C%20%22weight%22%3A%203%7D%0A%20%20%20%20%20%20%20%20%20%20%20%20%29.addTo%28map_488442466ca04305bc30478c4ee59e17%29%3B%0A%20%20%20%20%20%20%20%20%0A%20%20%20%20%0A%20%20%20%20%20%20%20%20var%20popup_ae6c0152b3454436aa584438a1c9ad6d%20%3D%20L.popup%28%7B%22maxWidth%22%3A%20%22100%25%22%7D%29%3B%0A%0A%20%20%20%20%20%20%20%20%0A%20%20%20%20%20%20%20%20%20%20%20%20var%20html_04951ccdd98d40a785289f0420115ca6%20%3D%20%24%28%60%3Cdiv%20id%3D%22html_04951ccdd98d40a785289f0420115ca6%22%20style%3D%22width%3A%20100.0%25%3B%20height%3A%20100.0%25%3B%22%3EVille%20%3A%20Hanoi%3Cbr%3E%20%20%20%20%20%20%20%20%20%20%20%20%20%20%20%20%20%20%20%20%20Prix%20moyen%20d%27un%20vol%20en%20%24%20%3A%201027%3Cbr%3E%3C/div%3E%60%29%5B0%5D%3B%0A%20%20%20%20%20%20%20%20%20%20%20%20popup_ae6c0152b3454436aa584438a1c9ad6d.setContent%28html_04951ccdd98d40a785289f0420115ca6%29%3B%0A%20%20%20%20%20%20%20%20%0A%0A%20%20%20%20%20%20%20%20circle_marker_ce32b33fcc0748b395a03f8f5adba44a.bindPopup%28popup_ae6c0152b3454436aa584438a1c9ad6d%29%0A%20%20%20%20%20%20%20%20%3B%0A%0A%20%20%20%20%20%20%20%20%0A%20%20%20%20%0A%20%20%20%20%0A%20%20%20%20%20%20%20%20%20%20%20%20var%20circle_marker_35479a2e6aa142d9a62a34301e578070%20%3D%20L.circleMarker%28%0A%20%20%20%20%20%20%20%20%20%20%20%20%20%20%20%20%5B-36.77265%2C%20-73.06311%5D%2C%0A%20%20%20%20%20%20%20%20%20%20%20%20%20%20%20%20%7B%22bubblingMouseEvents%22%3A%20true%2C%20%22color%22%3A%20%22brown%22%2C%20%22dashArray%22%3A%20null%2C%20%22dashOffset%22%3A%20null%2C%20%22fill%22%3A%20true%2C%20%22fillColor%22%3A%20%22brown%22%2C%20%22fillOpacity%22%3A%200.2%2C%20%22fillRule%22%3A%20%22evenodd%22%2C%20%22lineCap%22%3A%20%22round%22%2C%20%22lineJoin%22%3A%20%22round%22%2C%20%22opacity%22%3A%201.0%2C%20%22radius%22%3A%2010%2C%20%22stroke%22%3A%20true%2C%20%22weight%22%3A%203%7D%0A%20%20%20%20%20%20%20%20%20%20%20%20%29.addTo%28map_488442466ca04305bc30478c4ee59e17%29%3B%0A%20%20%20%20%20%20%20%20%0A%20%20%20%20%0A%20%20%20%20%20%20%20%20var%20popup_5d28fc8ef98a4b4eb7df4748bd123d3c%20%3D%20L.popup%28%7B%22maxWidth%22%3A%20%22100%25%22%7D%29%3B%0A%0A%20%20%20%20%20%20%20%20%0A%20%20%20%20%20%20%20%20%20%20%20%20var%20html_c937efc073784c8993eb487697911465%20%3D%20%24%28%60%3Cdiv%20id%3D%22html_c937efc073784c8993eb487697911465%22%20style%3D%22width%3A%20100.0%25%3B%20height%3A%20100.0%25%3B%22%3EVille%20%3A%20Concepci%C3%B3n%3Cbr%3E%20%20%20%20%20%20%20%20%20%20%20%20%20%20%20%20%20%20%20%20%20Prix%20moyen%20d%27un%20vol%20en%20%24%20%3A%201094%3Cbr%3E%3C/div%3E%60%29%5B0%5D%3B%0A%20%20%20%20%20%20%20%20%20%20%20%20popup_5d28fc8ef98a4b4eb7df4748bd123d3c.setContent%28html_c937efc073784c8993eb487697911465%29%3B%0A%20%20%20%20%20%20%20%20%0A%0A%20%20%20%20%20%20%20%20circle_marker_35479a2e6aa142d9a62a34301e578070.bindPopup%28popup_5d28fc8ef98a4b4eb7df4748bd123d3c%29%0A%20%20%20%20%20%20%20%20%3B%0A%0A%20%20%20%20%20%20%20%20%0A%20%20%20%20%0A%20%20%20%20%0A%20%20%20%20%20%20%20%20%20%20%20%20var%20circle_marker_53ea4eaf1fce41c9b67ed00dd77d7192%20%3D%20L.circleMarker%28%0A%20%20%20%20%20%20%20%20%20%20%20%20%20%20%20%20%5B-37.00531834381361%2C%20174.78446022216792%5D%2C%0A%20%20%20%20%20%20%20%20%20%20%20%20%20%20%20%20%7B%22bubblingMouseEvents%22%3A%20true%2C%20%22color%22%3A%20%22black%22%2C%20%22dashArray%22%3A%20null%2C%20%22dashOffset%22%3A%20null%2C%20%22fill%22%3A%20true%2C%20%22fillColor%22%3A%20%22black%22%2C%20%22fillOpacity%22%3A%200.2%2C%20%22fillRule%22%3A%20%22evenodd%22%2C%20%22lineCap%22%3A%20%22round%22%2C%20%22lineJoin%22%3A%20%22round%22%2C%20%22opacity%22%3A%201.0%2C%20%22radius%22%3A%2010%2C%20%22stroke%22%3A%20true%2C%20%22weight%22%3A%203%7D%0A%20%20%20%20%20%20%20%20%20%20%20%20%29.addTo%28map_488442466ca04305bc30478c4ee59e17%29%3B%0A%20%20%20%20%20%20%20%20%0A%20%20%20%20%0A%20%20%20%20%20%20%20%20var%20popup_4f71c9e53f254d749d40219c8e6aea64%20%3D%20L.popup%28%7B%22maxWidth%22%3A%20%22100%25%22%7D%29%3B%0A%0A%20%20%20%20%20%20%20%20%0A%20%20%20%20%20%20%20%20%20%20%20%20var%20html_60b6966a3502405e9d9488b7ae7961fe%20%3D%20%24%28%60%3Cdiv%20id%3D%22html_60b6966a3502405e9d9488b7ae7961fe%22%20style%3D%22width%3A%20100.0%25%3B%20height%3A%20100.0%25%3B%22%3EVille%20%3A%20Auckland%3Cbr%3E%20%20%20%20%20%20%20%20%20%20%20%20%20%20%20%20%20%20%20%20%20Prix%20moyen%20d%27un%20vol%20en%20%24%20%3A%201290%3Cbr%3E%3C/div%3E%60%29%5B0%5D%3B%0A%20%20%20%20%20%20%20%20%20%20%20%20popup_4f71c9e53f254d749d40219c8e6aea64.setContent%28html_60b6966a3502405e9d9488b7ae7961fe%29%3B%0A%20%20%20%20%20%20%20%20%0A%0A%20%20%20%20%20%20%20%20circle_marker_53ea4eaf1fce41c9b67ed00dd77d7192.bindPopup%28popup_4f71c9e53f254d749d40219c8e6aea64%29%0A%20%20%20%20%20%20%20%20%3B%0A%0A%20%20%20%20%20%20%20%20%0A%20%20%20%20%0A%20%20%20%20%0A%20%20%20%20%20%20%20%20%20%20%20%20var%20circle_marker_2131ddd9deef4cea817b278264d149bf%20%3D%20L.circleMarker%28%0A%20%20%20%20%20%20%20%20%20%20%20%20%20%20%20%20%5B-35.306940000000004%2C%20149.195%5D%2C%0A%20%20%20%20%20%20%20%20%20%20%20%20%20%20%20%20%7B%22bubblingMouseEvents%22%3A%20true%2C%20%22color%22%3A%20%22black%22%2C%20%22dashArray%22%3A%20null%2C%20%22dashOffset%22%3A%20null%2C%20%22fill%22%3A%20true%2C%20%22fillColor%22%3A%20%22black%22%2C%20%22fillOpacity%22%3A%200.2%2C%20%22fillRule%22%3A%20%22evenodd%22%2C%20%22lineCap%22%3A%20%22round%22%2C%20%22lineJoin%22%3A%20%22round%22%2C%20%22opacity%22%3A%201.0%2C%20%22radius%22%3A%2010%2C%20%22stroke%22%3A%20true%2C%20%22weight%22%3A%203%7D%0A%20%20%20%20%20%20%20%20%20%20%20%20%29.addTo%28map_488442466ca04305bc30478c4ee59e17%29%3B%0A%20%20%20%20%20%20%20%20%0A%20%20%20%20%0A%20%20%20%20%20%20%20%20var%20popup_e509ee9c8d864a99869dd6cbc2a12155%20%3D%20L.popup%28%7B%22maxWidth%22%3A%20%22100%25%22%7D%29%3B%0A%0A%20%20%20%20%20%20%20%20%0A%20%20%20%20%20%20%20%20%20%20%20%20var%20html_b199dc037b83402f8f6cf0c83140c223%20%3D%20%24%28%60%3Cdiv%20id%3D%22html_b199dc037b83402f8f6cf0c83140c223%22%20style%3D%22width%3A%20100.0%25%3B%20height%3A%20100.0%25%3B%22%3EVille%20%3A%20Canberra%3Cbr%3E%20%20%20%20%20%20%20%20%20%20%20%20%20%20%20%20%20%20%20%20%20Prix%20moyen%20d%27un%20vol%20en%20%24%20%3A%201531%3Cbr%3E%3C/div%3E%60%29%5B0%5D%3B%0A%20%20%20%20%20%20%20%20%20%20%20%20popup_e509ee9c8d864a99869dd6cbc2a12155.setContent%28html_b199dc037b83402f8f6cf0c83140c223%29%3B%0A%20%20%20%20%20%20%20%20%0A%0A%20%20%20%20%20%20%20%20circle_marker_2131ddd9deef4cea817b278264d149bf.bindPopup%28popup_e509ee9c8d864a99869dd6cbc2a12155%29%0A%20%20%20%20%20%20%20%20%3B%0A%0A%20%20%20%20%20%20%20%20%0A%20%20%20%20%0A%3C/script%3E onload=\"this.contentDocument.open();this.contentDocument.write(    decodeURIComponent(this.getAttribute('data-html')));this.contentDocument.close();\" allowfullscreen webkitallowfullscreen mozallowfullscreen></iframe></div></div>"
      ],
      "text/plain": [
       "<folium.folium.Map at 0xaa61fcd850>"
      ]
     },
     "execution_count": 247,
     "metadata": {},
     "output_type": "execute_result"
    }
   ],
   "source": [
    "#carte vide\n",
    "world_map= folium.Map(tiles=\"cartodbpositron\")\n",
    "#pour chaque ville on crée un cercle et on lui fait correspondre un prix\n",
    "radius = 10\n",
    "popup_text = \"\"\"Ville : {}<br>\n",
    "                    Prix moyen d'un vol en $ : {}<br>\"\"\"\n",
    "popup_text = popup_text.format(df_prix.iloc[0]['Ville'],\n",
    "                                   df_prix.iloc[0]['Prix moyen du vol en $']\n",
    "                                   )\n",
    "folium.CircleMarker(location=[df_prix.iloc[0]['Latitude'],df_prix.iloc[0]['Longitude']],radius=radius,color='blue',\n",
    "                    popup = popup_text,fill=True).add_to(world_map)\n",
    "for i in range(1,len(df_prix)):\n",
    "        lat = df_prix.iloc[i]['Latitude']\n",
    "        long = df_prix.iloc[i]['Longitude']\n",
    "        color = df_prix.iloc[i]['Couleur']\n",
    "        popup_text = \"\"\"Ville : {}<br>\n",
    "                    Prix moyen d'un vol en $ : {}<br>\"\"\"\n",
    "        popup_text = popup_text.format(df_prix.iloc[i]['Ville'],\n",
    "                                   df_prix.iloc[i]['Prix moyen du vol en $']\n",
    "                                   )\n",
    "        folium.CircleMarker(location=[lat,long],radius=radius,popup= popup_text,color=color,fill =True).add_to(world_map)\n",
    "\n",
    "world_map"
   ]
  },
  {
   "cell_type": "markdown",
   "metadata": {
    "id": "gFVvdC6iQcfL"
   },
   "source": [
    "Le vol le moins cher est en bleu. Les autres vols varient de vert à noir en passant par jaune, orange, rouge et brun."
   ]
  },
  {
   "cell_type": "markdown",
   "metadata": {
    "id": "1INyuH5JfxVb"
   },
   "source": [
    "On exporte notre notebook en html. \n",
    "\n",
    "(Le code ne troune encore une fois qu'en local, d'où la mise en commentaire.)"
   ]
  },
  {
   "cell_type": "code",
   "execution_count": null,
   "metadata": {
    "id": "SBpxnN9QUWDl"
   },
   "outputs": [],
   "source": [
    "#!jupyter nbconvert --to html projet_kayak.ipynb"
   ]
  }
 ],
 "metadata": {
  "colab": {
   "collapsed_sections": [],
   "name": "projet_kayak.ipynb",
   "provenance": []
  },
  "kernelspec": {
   "display_name": "Python 3",
   "language": "python",
   "name": "python3"
  },
  "language_info": {
   "codemirror_mode": {
    "name": "ipython",
    "version": 3
   },
   "file_extension": ".py",
   "mimetype": "text/x-python",
   "name": "python",
   "nbconvert_exporter": "python",
   "pygments_lexer": "ipython3",
   "version": "3.8.5"
  }
 },
 "nbformat": 4,
 "nbformat_minor": 1
}
